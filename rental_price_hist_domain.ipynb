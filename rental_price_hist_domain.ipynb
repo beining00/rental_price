{
 "cells": [
  {
   "cell_type": "code",
   "execution_count": 1,
   "metadata": {},
   "outputs": [],
   "source": [
    "import requests \n",
    "from bs4 import BeautifulSoup\n",
    "import re\n",
    "from matplotlib import pyplot as plt\n",
    "import pandas as pd \n",
    "import numpy as np\n",
    "import plotly.express as px\n",
    "import seaborn as sns\n",
    "from sklearn.linear_model import LinearRegression\n",
    "from sklearn.preprocessing import OneHotEncoder\n",
    "import plotly.graph_objects as go\n",
    "from plotly.subplots import make_subplots"
   ]
  },
  {
   "cell_type": "code",
   "execution_count": 265,
   "metadata": {},
   "outputs": [],
   "source": [
    "from datetime import date\n",
    "import plotly.figure_factory as ff"
   ]
  },
  {
   "cell_type": "code",
   "execution_count": 2,
   "metadata": {},
   "outputs": [],
   "source": [
    "def getHTMLText(url):\n",
    "    try:\n",
    "        hd = {\"user-agent\" : 'Mozilla/5.0'}\n",
    "        r  = requests.get(url, timeout=30, headers =hd)\n",
    "        r.raise_for_status()\n",
    "        r.encoding = r.apparent_encoding\n",
    "        \n",
    "      \n",
    "        return r.text\n",
    "    except:\n",
    "        return \"\""
   ]
  },
  {
   "cell_type": "code",
   "execution_count": null,
   "metadata": {},
   "outputs": [],
   "source": [
    "https://www.domain.com.au/building-profile/318-russell-street-melbourne-vic-3000?filtertype=onMarket&pagesize=1000&pageno=1"
   ]
  },
  {
   "cell_type": "code",
   "execution_count": 13,
   "metadata": {},
   "outputs": [],
   "source": [
    "def get_property_rent_history(address):\n",
    "\n",
    "    raw_html = getHTMLText('https://www.domain.com.au/building-profile/' + address +'?filtertype=rented&pagesize=1000&pageno=1')\n",
    "    #print(raw_html)\n",
    "    soup = BeautifulSoup(raw_html, 'html.parser')\n",
    "    #print(soup)\n",
    "    list_tags = soup.find_all(class_=\"css-t7tdkc\")\n",
    "    properties = list_tags[1].find_all(class_ = 'css-3c3rcn')\n",
    "    df = pd.DataFrame(columns = ['building_name', 'room_no', 'price', 'date' , 'bed', 'bath', 'parking'])\n",
    "    print(len(properties))\n",
    "    # loop through each property \n",
    "    for pro in properties:\n",
    "        #print(pro)\n",
    "        price = pro.find(class_ = 'css-1cq7t6n').text[1:]\n",
    "        if price[-1] == 'K' or price[-1] == 'k':\n",
    "            price = float(price[:-1]) * 1000\n",
    "        else:\n",
    "            try: \n",
    "                price = float(price)\n",
    "            except ValueError:\n",
    "                print(price )\n",
    "                price = None\n",
    "\n",
    "        #print(price)\n",
    "        room_no = pro.find('meta')['content'].split('/')[0]\n",
    "        #print(address1)\n",
    "        year = pro.find(class_ = 'css-bdklbo').text\n",
    "        month_date = pro.find(class_ = 'css-rxoubj').text\n",
    "        #print(year)\n",
    "        #print(month_date)\n",
    "        # get room number \n",
    "        no_rooms = pro.findAll(class_ = 'css-1ie6g1l')\n",
    "        res = []\n",
    "        for r in no_rooms:\n",
    "            #print(r.find(class_ = 'css-1rzse3v').text)\n",
    "            temp = r.find(class_ = 'css-1rzse3v').text.split(\" \")[0]\n",
    "            try: \n",
    "                res.append(int(temp))\n",
    "            except ValueError: \n",
    "                res.append(0)\n",
    "\n",
    "\n",
    "\n",
    "        try:\n",
    "            df = df.append({\n",
    "                    'building_name' : address,\n",
    "                    'room_no' : int(room_no), \n",
    "                    'price' : price , \n",
    "                    'date': pd.to_datetime(year + month_date, format='%Y%b %d'),\n",
    "                    'bed' : res[0], \n",
    "                    'bath': res[1], \n",
    "                    'parking' : res[2]\n",
    "            }, ignore_index=True)\n",
    "        except ValueError:\n",
    "            print(room_no)\n",
    "        \n",
    "    new_dtypes = {\"room_no\": pd.Int64Dtype(), \n",
    "                  \"price\": pd.Int64Dtype(),\n",
    "                    'bed' : pd.Int64Dtype(),\n",
    "                     'bath' : np.integer,\n",
    "                    'parking' :pd.Int64Dtype()}\n",
    "    \n",
    "    df = df.astype(new_dtypes)\n",
    "    df['room_type'] = (df['room_no'] %100).astype(str)\n",
    "    \n",
    "    df['level'] = df['room_no' ] // 100 \n",
    "         \n",
    "    return df "
   ]
  },
  {
   "cell_type": "code",
   "execution_count": 8,
   "metadata": {},
   "outputs": [],
   "source": [
    "def med_price_change(df):\n",
    "    df = df.sort_values(\"date\", ascending = False)\n",
    "    median_price_before_df = df[df.date <= pd.to_datetime('20200301', format='%Y%m%d')]\n",
    "    median_price_after_df =  df[df.date > pd.to_datetime('20200301', format='%Y%m%d')]\n",
    "    median_price_before_df_nona = median_price_before_df.dropna()\n",
    "    median_price_after_df_nona = median_price_after_df.dropna()\n",
    "    #median_price_before_df_nona.loc[:, 'room_type'] = median_price_before_df_nona.room_type.astype(str)\n",
    "    #median_price_after_df_nona.loc[: , 'room_type']= median_price_after_df_nona.room_type.astype(str)\n",
    "    \n",
    "    # get med \n",
    "    med_before = pd.DataFrame(median_price_before_df_nona.groupby('room_type').price.median())\n",
    "    med_before = med_before.rename({'price': 'before_price_med'}, axis = 1)\n",
    "\n",
    "    med_after = pd.DataFrame(median_price_after_df_nona.groupby('room_type').price.median())\n",
    "    med_after = med_after.rename({'price': 'after_price_med'}, axis = 1)\n",
    "    room_no = df.groupby('room_type')[['bed', 'bath']].median()\n",
    "    \n",
    "    # get difference \n",
    "    med_price_df = med_before.join(med_after)\n",
    "    med_price_df['change_precnetage'] = (med_price_df['after_price_med'] - med_price_df['before_price_med'])/med_price_df['after_price_med'] * 100\n",
    "    \n",
    "    # get room info \n",
    "    med_price_df = med_price_df.join(room_no)\n",
    "    \n",
    "    # plot box \n",
    "    df.loc[df.date <= pd.to_datetime('20200301', format='%Y%m%d'),'time_split'] = 'before'\n",
    "\n",
    "    df.loc[df.date > pd.to_datetime('20200301', format='%Y%m%d'),'time_split'] = 'after'\n",
    "    df.room_type= df.room_type.astype(str)\n",
    "    \n",
    "    fig = px.box(df, x=\"room_type\", y=\"price\", color=\"time_split\",height=400, width=800)\n",
    "    fig.update_traces(quartilemethod=\"exclusive\") # or \"inclusive\", or \"linear\" by default\n",
    "\n",
    "    fig.update_xaxes(type='category')\n",
    "    fig.show()\n",
    "\n",
    "    \n",
    "    # plot scatter \n",
    "    \n",
    "    fig = make_subplots(rows=1, cols=2, start_cell=\"bottom-left\",\n",
    "                       subplot_titles=(\"Before bedroom =2 \", \"After bedroom = 2\"))\n",
    "\n",
    "    rt = 2\n",
    "\n",
    "    tempdf = median_price_before_df_nona[median_price_before_df.bed == rt]\n",
    "    fig.add_trace(go.Scatter(x= tempdf.level, y=tempdf.price, \n",
    "                            mode='markers',\n",
    "                            marker=dict(size= list(tempdf['price']//60),\n",
    "                                        color=[px.colors.qualitative.Dark24[int(r)] for r in tempdf.room_type])),\n",
    "                          row=1, col=1)\n",
    "\n",
    "\n",
    "    tempdf = median_price_after_df_nona[median_price_after_df_nona.bed == rt]\n",
    "    fig.add_trace(go.Scatter(x= tempdf.level, y=tempdf.price, \n",
    "                            mode='markers',\n",
    "                            marker=dict(size= list(tempdf['price'] //60),\n",
    "                                        color= [px.colors.qualitative.Dark24[int(r)] for r in tempdf.room_type])),\n",
    "                          row=1, col=2)\n",
    "\n",
    "    fig.update_layout(height=330, width=1000, title_text=\"Before and After the pendanmic\")\n",
    "\n",
    "    fig.show()\n",
    "                                       \n",
    "                                       \n",
    "    # plot with time \n",
    "#     fig = px.scatter(df[df.bed == rt], x=\"date\", y=\"price\", color=\"room_type\",\n",
    "#                      size=((df[df.bed == rt])['bed'].astype(int))/50 ,hover_data=['room_type'],width=700, height=400)\n",
    "    fig = px.scatter(df[df.bed == rt], x=\"date\", y=\"price\", color=\"room_type\",hover_data=['room_type'],width=700, height=400)\n",
    "\n",
    "\n",
    "    fig.show()\n",
    "\n",
    "    \n",
    "    \n",
    "    \n",
    "    return med_price_df\n"
   ]
  },
  {
   "cell_type": "markdown",
   "metadata": {},
   "source": [
    "### 318 Russell street "
   ]
  },
  {
   "cell_type": "code",
   "execution_count": 15,
   "metadata": {},
   "outputs": [
    {
     "name": "stdout",
     "output_type": "stream",
     "text": [
      "248\n"
     ]
    },
    {
     "data": {
      "application/vnd.plotly.v1+json": {
       "config": {
        "plotlyServerURL": "https://plot.ly"
       },
       "data": [
        {
         "alignmentgroup": "True",
         "hovertemplate": "time_split=after<br>room_type=%{x}<br>price=%{y}<extra></extra>",
         "legendgroup": "after",
         "marker": {
          "color": "#636efa"
         },
         "name": "after",
         "notched": false,
         "offsetgroup": "after",
         "orientation": "v",
         "quartilemethod": "exclusive",
         "showlegend": true,
         "type": "box",
         "x": [
          "6",
          "5",
          "4",
          "5",
          "7",
          "9",
          "10",
          "5",
          "10",
          "5",
          "2",
          "6",
          "4",
          "1",
          "7",
          "5",
          "4",
          "1",
          "1",
          "5",
          "6",
          "8",
          "4",
          "6",
          "9",
          "9",
          "1",
          "9",
          "8",
          "5",
          "6",
          "6",
          "2",
          "8",
          "5",
          "7",
          "9",
          "9",
          "2",
          "5",
          "1",
          "4",
          "9",
          "4",
          "3",
          "9",
          "6",
          "3",
          "7",
          "7",
          "7",
          "4",
          "7",
          "4",
          "2",
          "7",
          "2",
          "4",
          "4",
          "7",
          "6",
          "5",
          "7",
          "1",
          "3",
          "5",
          "4",
          "9",
          "6",
          "4",
          "3",
          "2",
          "1",
          "1",
          "10",
          "7",
          "2",
          "7"
         ],
         "x0": " ",
         "xaxis": "x",
         "y": [
          380,
          420,
          420,
          330,
          520,
          560,
          580,
          430,
          620,
          300,
          650,
          410,
          510,
          600,
          430,
          430,
          460,
          550,
          660,
          450,
          420,
          600,
          460,
          430,
          420,
          650,
          650,
          400,
          430,
          430,
          400,
          420,
          650,
          550,
          420,
          500,
          595,
          400,
          900,
          430,
          580,
          450,
          580,
          500,
          580,
          680,
          380,
          580,
          390,
          450,
          400,
          390,
          450,
          460,
          650,
          430,
          1200,
          450,
          530,
          500,
          450,
          430,
          530,
          950,
          580,
          500,
          600,
          500,
          500,
          650,
          600,
          720,
          490,
          800,
          700,
          600,
          800,
          670
         ],
         "y0": " ",
         "yaxis": "y"
        },
        {
         "alignmentgroup": "True",
         "hovertemplate": "time_split=before<br>room_type=%{x}<br>price=%{y}<extra></extra>",
         "legendgroup": "before",
         "marker": {
          "color": "#EF553B"
         },
         "name": "before",
         "notched": false,
         "offsetgroup": "before",
         "orientation": "v",
         "quartilemethod": "exclusive",
         "showlegend": true,
         "type": "box",
         "x": [
          "4",
          "7",
          "8",
          "9",
          "9",
          "9",
          "8",
          "5",
          "6",
          "3",
          "4",
          "10",
          "9",
          "8",
          "6",
          "6",
          "8",
          "5",
          "4",
          "11",
          "9",
          "2",
          "6",
          "2",
          "5",
          "10",
          "8",
          "4",
          "6",
          "3",
          "2",
          "4",
          "9",
          "5",
          "8",
          "3",
          "2",
          "3",
          "7",
          "3",
          "8",
          "5",
          "1",
          "9",
          "8",
          "5",
          "3",
          "6",
          "9",
          "3",
          "5",
          "1",
          "10",
          "10",
          "8",
          "10",
          "7",
          "10",
          "10",
          "8",
          "7",
          "10",
          "1",
          "5",
          "2",
          "7",
          "11",
          "5",
          "4",
          "1",
          "6",
          "6",
          "10",
          "2",
          "9",
          "10",
          "10",
          "3",
          "2",
          "6",
          "6",
          "8",
          "6",
          "8",
          "1",
          "8",
          "8",
          "3",
          "2",
          "3",
          "2",
          "7",
          "10",
          "7",
          "5",
          "6",
          "9",
          "5",
          "3",
          "4",
          "8",
          "9",
          "6",
          "10",
          "1",
          "4",
          "4",
          "5",
          "7",
          "6",
          "2",
          "10",
          "6",
          "5",
          "8",
          "10",
          "2",
          "4",
          "9",
          "4",
          "10",
          "3",
          "6",
          "8",
          "4",
          "1",
          "8",
          "7",
          "6",
          "2",
          "10",
          "1",
          "6",
          "3",
          "1",
          "5",
          "3",
          "10",
          "10",
          "10",
          "4",
          "9",
          "6",
          "6",
          "10",
          "1",
          "8",
          "3",
          "7",
          "8",
          "8",
          "3",
          "6",
          "4",
          "7",
          "1",
          "1",
          "6",
          "7",
          "6",
          "1",
          "2",
          "3",
          "4",
          "4",
          "2",
          "10",
          "9",
          "8",
          "10"
         ],
         "x0": " ",
         "xaxis": "x",
         "y": [
          650,
          662,
          780,
          760,
          840,
          900,
          500,
          522,
          560,
          730,
          560,
          820,
          840,
          700,
          461,
          550,
          682,
          550,
          650,
          780,
          541,
          820,
          542,
          840,
          560,
          700,
          700,
          630,
          552,
          620,
          722,
          640,
          820,
          540,
          1103,
          600,
          820,
          680,
          652,
          700,
          680,
          550,
          750,
          820,
          750,
          550,
          700,
          720,
          700,
          780,
          550,
          802,
          720,
          730,
          550,
          810,
          630,
          730,
          820,
          780,
          630,
          490,
          850,
          500,
          850,
          620,
          720,
          550,
          660,
          1200,
          521,
          550,
          800,
          750,
          800,
          780,
          730,
          760,
          800,
          510,
          470,
          490,
          450,
          760,
          680,
          690,
          1253,
          680,
          800,
          660,
          700,
          650,
          800,
          690,
          540,
          530,
          670,
          480,
          670,
          650,
          651,
          720,
          540,
          580,
          690,
          690,
          580,
          2200,
          580,
          480,
          730,
          531,
          500,
          460,
          800,
          720,
          1200,
          650,
          1103,
          565,
          740,
          660,
          430,
          742,
          640,
          760,
          720,
          590,
          450,
          750,
          690,
          720,
          450,
          660,
          710,
          520,
          570,
          800,
          750,
          750,
          572,
          720,
          450,
          520,
          800,
          720,
          650,
          650,
          560,
          700,
          640,
          630,
          460,
          530,
          561,
          750,
          882,
          602,
          600,
          430,
          682,
          725,
          625,
          600,
          468,
          580,
          630,
          650,
          675,
          390
         ],
         "y0": " ",
         "yaxis": "y"
        }
       ],
       "layout": {
        "boxmode": "group",
        "height": 400,
        "legend": {
         "title": {
          "text": "time_split"
         },
         "tracegroupgap": 0
        },
        "margin": {
         "t": 60
        },
        "template": {
         "data": {
          "bar": [
           {
            "error_x": {
             "color": "#2a3f5f"
            },
            "error_y": {
             "color": "#2a3f5f"
            },
            "marker": {
             "line": {
              "color": "#E5ECF6",
              "width": 0.5
             }
            },
            "type": "bar"
           }
          ],
          "barpolar": [
           {
            "marker": {
             "line": {
              "color": "#E5ECF6",
              "width": 0.5
             }
            },
            "type": "barpolar"
           }
          ],
          "carpet": [
           {
            "aaxis": {
             "endlinecolor": "#2a3f5f",
             "gridcolor": "white",
             "linecolor": "white",
             "minorgridcolor": "white",
             "startlinecolor": "#2a3f5f"
            },
            "baxis": {
             "endlinecolor": "#2a3f5f",
             "gridcolor": "white",
             "linecolor": "white",
             "minorgridcolor": "white",
             "startlinecolor": "#2a3f5f"
            },
            "type": "carpet"
           }
          ],
          "choropleth": [
           {
            "colorbar": {
             "outlinewidth": 0,
             "ticks": ""
            },
            "type": "choropleth"
           }
          ],
          "contour": [
           {
            "colorbar": {
             "outlinewidth": 0,
             "ticks": ""
            },
            "colorscale": [
             [
              0,
              "#0d0887"
             ],
             [
              0.1111111111111111,
              "#46039f"
             ],
             [
              0.2222222222222222,
              "#7201a8"
             ],
             [
              0.3333333333333333,
              "#9c179e"
             ],
             [
              0.4444444444444444,
              "#bd3786"
             ],
             [
              0.5555555555555556,
              "#d8576b"
             ],
             [
              0.6666666666666666,
              "#ed7953"
             ],
             [
              0.7777777777777778,
              "#fb9f3a"
             ],
             [
              0.8888888888888888,
              "#fdca26"
             ],
             [
              1,
              "#f0f921"
             ]
            ],
            "type": "contour"
           }
          ],
          "contourcarpet": [
           {
            "colorbar": {
             "outlinewidth": 0,
             "ticks": ""
            },
            "type": "contourcarpet"
           }
          ],
          "heatmap": [
           {
            "colorbar": {
             "outlinewidth": 0,
             "ticks": ""
            },
            "colorscale": [
             [
              0,
              "#0d0887"
             ],
             [
              0.1111111111111111,
              "#46039f"
             ],
             [
              0.2222222222222222,
              "#7201a8"
             ],
             [
              0.3333333333333333,
              "#9c179e"
             ],
             [
              0.4444444444444444,
              "#bd3786"
             ],
             [
              0.5555555555555556,
              "#d8576b"
             ],
             [
              0.6666666666666666,
              "#ed7953"
             ],
             [
              0.7777777777777778,
              "#fb9f3a"
             ],
             [
              0.8888888888888888,
              "#fdca26"
             ],
             [
              1,
              "#f0f921"
             ]
            ],
            "type": "heatmap"
           }
          ],
          "heatmapgl": [
           {
            "colorbar": {
             "outlinewidth": 0,
             "ticks": ""
            },
            "colorscale": [
             [
              0,
              "#0d0887"
             ],
             [
              0.1111111111111111,
              "#46039f"
             ],
             [
              0.2222222222222222,
              "#7201a8"
             ],
             [
              0.3333333333333333,
              "#9c179e"
             ],
             [
              0.4444444444444444,
              "#bd3786"
             ],
             [
              0.5555555555555556,
              "#d8576b"
             ],
             [
              0.6666666666666666,
              "#ed7953"
             ],
             [
              0.7777777777777778,
              "#fb9f3a"
             ],
             [
              0.8888888888888888,
              "#fdca26"
             ],
             [
              1,
              "#f0f921"
             ]
            ],
            "type": "heatmapgl"
           }
          ],
          "histogram": [
           {
            "marker": {
             "colorbar": {
              "outlinewidth": 0,
              "ticks": ""
             }
            },
            "type": "histogram"
           }
          ],
          "histogram2d": [
           {
            "colorbar": {
             "outlinewidth": 0,
             "ticks": ""
            },
            "colorscale": [
             [
              0,
              "#0d0887"
             ],
             [
              0.1111111111111111,
              "#46039f"
             ],
             [
              0.2222222222222222,
              "#7201a8"
             ],
             [
              0.3333333333333333,
              "#9c179e"
             ],
             [
              0.4444444444444444,
              "#bd3786"
             ],
             [
              0.5555555555555556,
              "#d8576b"
             ],
             [
              0.6666666666666666,
              "#ed7953"
             ],
             [
              0.7777777777777778,
              "#fb9f3a"
             ],
             [
              0.8888888888888888,
              "#fdca26"
             ],
             [
              1,
              "#f0f921"
             ]
            ],
            "type": "histogram2d"
           }
          ],
          "histogram2dcontour": [
           {
            "colorbar": {
             "outlinewidth": 0,
             "ticks": ""
            },
            "colorscale": [
             [
              0,
              "#0d0887"
             ],
             [
              0.1111111111111111,
              "#46039f"
             ],
             [
              0.2222222222222222,
              "#7201a8"
             ],
             [
              0.3333333333333333,
              "#9c179e"
             ],
             [
              0.4444444444444444,
              "#bd3786"
             ],
             [
              0.5555555555555556,
              "#d8576b"
             ],
             [
              0.6666666666666666,
              "#ed7953"
             ],
             [
              0.7777777777777778,
              "#fb9f3a"
             ],
             [
              0.8888888888888888,
              "#fdca26"
             ],
             [
              1,
              "#f0f921"
             ]
            ],
            "type": "histogram2dcontour"
           }
          ],
          "mesh3d": [
           {
            "colorbar": {
             "outlinewidth": 0,
             "ticks": ""
            },
            "type": "mesh3d"
           }
          ],
          "parcoords": [
           {
            "line": {
             "colorbar": {
              "outlinewidth": 0,
              "ticks": ""
             }
            },
            "type": "parcoords"
           }
          ],
          "pie": [
           {
            "automargin": true,
            "type": "pie"
           }
          ],
          "scatter": [
           {
            "marker": {
             "colorbar": {
              "outlinewidth": 0,
              "ticks": ""
             }
            },
            "type": "scatter"
           }
          ],
          "scatter3d": [
           {
            "line": {
             "colorbar": {
              "outlinewidth": 0,
              "ticks": ""
             }
            },
            "marker": {
             "colorbar": {
              "outlinewidth": 0,
              "ticks": ""
             }
            },
            "type": "scatter3d"
           }
          ],
          "scattercarpet": [
           {
            "marker": {
             "colorbar": {
              "outlinewidth": 0,
              "ticks": ""
             }
            },
            "type": "scattercarpet"
           }
          ],
          "scattergeo": [
           {
            "marker": {
             "colorbar": {
              "outlinewidth": 0,
              "ticks": ""
             }
            },
            "type": "scattergeo"
           }
          ],
          "scattergl": [
           {
            "marker": {
             "colorbar": {
              "outlinewidth": 0,
              "ticks": ""
             }
            },
            "type": "scattergl"
           }
          ],
          "scattermapbox": [
           {
            "marker": {
             "colorbar": {
              "outlinewidth": 0,
              "ticks": ""
             }
            },
            "type": "scattermapbox"
           }
          ],
          "scatterpolar": [
           {
            "marker": {
             "colorbar": {
              "outlinewidth": 0,
              "ticks": ""
             }
            },
            "type": "scatterpolar"
           }
          ],
          "scatterpolargl": [
           {
            "marker": {
             "colorbar": {
              "outlinewidth": 0,
              "ticks": ""
             }
            },
            "type": "scatterpolargl"
           }
          ],
          "scatterternary": [
           {
            "marker": {
             "colorbar": {
              "outlinewidth": 0,
              "ticks": ""
             }
            },
            "type": "scatterternary"
           }
          ],
          "surface": [
           {
            "colorbar": {
             "outlinewidth": 0,
             "ticks": ""
            },
            "colorscale": [
             [
              0,
              "#0d0887"
             ],
             [
              0.1111111111111111,
              "#46039f"
             ],
             [
              0.2222222222222222,
              "#7201a8"
             ],
             [
              0.3333333333333333,
              "#9c179e"
             ],
             [
              0.4444444444444444,
              "#bd3786"
             ],
             [
              0.5555555555555556,
              "#d8576b"
             ],
             [
              0.6666666666666666,
              "#ed7953"
             ],
             [
              0.7777777777777778,
              "#fb9f3a"
             ],
             [
              0.8888888888888888,
              "#fdca26"
             ],
             [
              1,
              "#f0f921"
             ]
            ],
            "type": "surface"
           }
          ],
          "table": [
           {
            "cells": {
             "fill": {
              "color": "#EBF0F8"
             },
             "line": {
              "color": "white"
             }
            },
            "header": {
             "fill": {
              "color": "#C8D4E3"
             },
             "line": {
              "color": "white"
             }
            },
            "type": "table"
           }
          ]
         },
         "layout": {
          "annotationdefaults": {
           "arrowcolor": "#2a3f5f",
           "arrowhead": 0,
           "arrowwidth": 1
          },
          "autotypenumbers": "strict",
          "coloraxis": {
           "colorbar": {
            "outlinewidth": 0,
            "ticks": ""
           }
          },
          "colorscale": {
           "diverging": [
            [
             0,
             "#8e0152"
            ],
            [
             0.1,
             "#c51b7d"
            ],
            [
             0.2,
             "#de77ae"
            ],
            [
             0.3,
             "#f1b6da"
            ],
            [
             0.4,
             "#fde0ef"
            ],
            [
             0.5,
             "#f7f7f7"
            ],
            [
             0.6,
             "#e6f5d0"
            ],
            [
             0.7,
             "#b8e186"
            ],
            [
             0.8,
             "#7fbc41"
            ],
            [
             0.9,
             "#4d9221"
            ],
            [
             1,
             "#276419"
            ]
           ],
           "sequential": [
            [
             0,
             "#0d0887"
            ],
            [
             0.1111111111111111,
             "#46039f"
            ],
            [
             0.2222222222222222,
             "#7201a8"
            ],
            [
             0.3333333333333333,
             "#9c179e"
            ],
            [
             0.4444444444444444,
             "#bd3786"
            ],
            [
             0.5555555555555556,
             "#d8576b"
            ],
            [
             0.6666666666666666,
             "#ed7953"
            ],
            [
             0.7777777777777778,
             "#fb9f3a"
            ],
            [
             0.8888888888888888,
             "#fdca26"
            ],
            [
             1,
             "#f0f921"
            ]
           ],
           "sequentialminus": [
            [
             0,
             "#0d0887"
            ],
            [
             0.1111111111111111,
             "#46039f"
            ],
            [
             0.2222222222222222,
             "#7201a8"
            ],
            [
             0.3333333333333333,
             "#9c179e"
            ],
            [
             0.4444444444444444,
             "#bd3786"
            ],
            [
             0.5555555555555556,
             "#d8576b"
            ],
            [
             0.6666666666666666,
             "#ed7953"
            ],
            [
             0.7777777777777778,
             "#fb9f3a"
            ],
            [
             0.8888888888888888,
             "#fdca26"
            ],
            [
             1,
             "#f0f921"
            ]
           ]
          },
          "colorway": [
           "#636efa",
           "#EF553B",
           "#00cc96",
           "#ab63fa",
           "#FFA15A",
           "#19d3f3",
           "#FF6692",
           "#B6E880",
           "#FF97FF",
           "#FECB52"
          ],
          "font": {
           "color": "#2a3f5f"
          },
          "geo": {
           "bgcolor": "white",
           "lakecolor": "white",
           "landcolor": "#E5ECF6",
           "showlakes": true,
           "showland": true,
           "subunitcolor": "white"
          },
          "hoverlabel": {
           "align": "left"
          },
          "hovermode": "closest",
          "mapbox": {
           "style": "light"
          },
          "paper_bgcolor": "white",
          "plot_bgcolor": "#E5ECF6",
          "polar": {
           "angularaxis": {
            "gridcolor": "white",
            "linecolor": "white",
            "ticks": ""
           },
           "bgcolor": "#E5ECF6",
           "radialaxis": {
            "gridcolor": "white",
            "linecolor": "white",
            "ticks": ""
           }
          },
          "scene": {
           "xaxis": {
            "backgroundcolor": "#E5ECF6",
            "gridcolor": "white",
            "gridwidth": 2,
            "linecolor": "white",
            "showbackground": true,
            "ticks": "",
            "zerolinecolor": "white"
           },
           "yaxis": {
            "backgroundcolor": "#E5ECF6",
            "gridcolor": "white",
            "gridwidth": 2,
            "linecolor": "white",
            "showbackground": true,
            "ticks": "",
            "zerolinecolor": "white"
           },
           "zaxis": {
            "backgroundcolor": "#E5ECF6",
            "gridcolor": "white",
            "gridwidth": 2,
            "linecolor": "white",
            "showbackground": true,
            "ticks": "",
            "zerolinecolor": "white"
           }
          },
          "shapedefaults": {
           "line": {
            "color": "#2a3f5f"
           }
          },
          "ternary": {
           "aaxis": {
            "gridcolor": "white",
            "linecolor": "white",
            "ticks": ""
           },
           "baxis": {
            "gridcolor": "white",
            "linecolor": "white",
            "ticks": ""
           },
           "bgcolor": "#E5ECF6",
           "caxis": {
            "gridcolor": "white",
            "linecolor": "white",
            "ticks": ""
           }
          },
          "title": {
           "x": 0.05
          },
          "xaxis": {
           "automargin": true,
           "gridcolor": "white",
           "linecolor": "white",
           "ticks": "",
           "title": {
            "standoff": 15
           },
           "zerolinecolor": "white",
           "zerolinewidth": 2
          },
          "yaxis": {
           "automargin": true,
           "gridcolor": "white",
           "linecolor": "white",
           "ticks": "",
           "title": {
            "standoff": 15
           },
           "zerolinecolor": "white",
           "zerolinewidth": 2
          }
         }
        },
        "width": 800,
        "xaxis": {
         "anchor": "y",
         "domain": [
          0,
          1
         ],
         "title": {
          "text": "room_type"
         },
         "type": "category"
        },
        "yaxis": {
         "anchor": "x",
         "domain": [
          0,
          1
         ],
         "title": {
          "text": "price"
         }
        }
       }
      },
      "text/html": [
       "<div>                            <div id=\"29dcaf22-01d4-4e07-80da-f0b2ee28a37f\" class=\"plotly-graph-div\" style=\"height:400px; width:800px;\"></div>            <script type=\"text/javascript\">                require([\"plotly\"], function(Plotly) {                    window.PLOTLYENV=window.PLOTLYENV || {};                                    if (document.getElementById(\"29dcaf22-01d4-4e07-80da-f0b2ee28a37f\")) {                    Plotly.newPlot(                        \"29dcaf22-01d4-4e07-80da-f0b2ee28a37f\",                        [{\"alignmentgroup\": \"True\", \"hovertemplate\": \"time_split=after<br>room_type=%{x}<br>price=%{y}<extra></extra>\", \"legendgroup\": \"after\", \"marker\": {\"color\": \"#636efa\"}, \"name\": \"after\", \"notched\": false, \"offsetgroup\": \"after\", \"orientation\": \"v\", \"quartilemethod\": \"exclusive\", \"showlegend\": true, \"type\": \"box\", \"x\": [\"6\", \"5\", \"4\", \"5\", \"7\", \"9\", \"10\", \"5\", \"10\", \"5\", \"2\", \"6\", \"4\", \"1\", \"7\", \"5\", \"4\", \"1\", \"1\", \"5\", \"6\", \"8\", \"4\", \"6\", \"9\", \"9\", \"1\", \"9\", \"8\", \"5\", \"6\", \"6\", \"2\", \"8\", \"5\", \"7\", \"9\", \"9\", \"2\", \"5\", \"1\", \"4\", \"9\", \"4\", \"3\", \"9\", \"6\", \"3\", \"7\", \"7\", \"7\", \"4\", \"7\", \"4\", \"2\", \"7\", \"2\", \"4\", \"4\", \"7\", \"6\", \"5\", \"7\", \"1\", \"3\", \"5\", \"4\", \"9\", \"6\", \"4\", \"3\", \"2\", \"1\", \"1\", \"10\", \"7\", \"2\", \"7\"], \"x0\": \" \", \"xaxis\": \"x\", \"y\": [380, 420, 420, 330, 520, 560, 580, 430, 620, 300, 650, 410, 510, 600, 430, 430, 460, 550, 660, 450, 420, 600, 460, 430, 420, 650, 650, 400, 430, 430, 400, 420, 650, 550, 420, 500, 595, 400, 900, 430, 580, 450, 580, 500, 580, 680, 380, 580, 390, 450, 400, 390, 450, 460, 650, 430, 1200, 450, 530, 500, 450, 430, 530, 950, 580, 500, 600, 500, 500, 650, 600, 720, 490, 800, 700, 600, 800, 670], \"y0\": \" \", \"yaxis\": \"y\"}, {\"alignmentgroup\": \"True\", \"hovertemplate\": \"time_split=before<br>room_type=%{x}<br>price=%{y}<extra></extra>\", \"legendgroup\": \"before\", \"marker\": {\"color\": \"#EF553B\"}, \"name\": \"before\", \"notched\": false, \"offsetgroup\": \"before\", \"orientation\": \"v\", \"quartilemethod\": \"exclusive\", \"showlegend\": true, \"type\": \"box\", \"x\": [\"4\", \"7\", \"8\", \"9\", \"9\", \"9\", \"8\", \"5\", \"6\", \"3\", \"4\", \"10\", \"9\", \"8\", \"6\", \"6\", \"8\", \"5\", \"4\", \"11\", \"9\", \"2\", \"6\", \"2\", \"5\", \"10\", \"8\", \"4\", \"6\", \"3\", \"2\", \"4\", \"9\", \"5\", \"8\", \"3\", \"2\", \"3\", \"7\", \"3\", \"8\", \"5\", \"1\", \"9\", \"8\", \"5\", \"3\", \"6\", \"9\", \"3\", \"5\", \"1\", \"10\", \"10\", \"8\", \"10\", \"7\", \"10\", \"10\", \"8\", \"7\", \"10\", \"1\", \"5\", \"2\", \"7\", \"11\", \"5\", \"4\", \"1\", \"6\", \"6\", \"10\", \"2\", \"9\", \"10\", \"10\", \"3\", \"2\", \"6\", \"6\", \"8\", \"6\", \"8\", \"1\", \"8\", \"8\", \"3\", \"2\", \"3\", \"2\", \"7\", \"10\", \"7\", \"5\", \"6\", \"9\", \"5\", \"3\", \"4\", \"8\", \"9\", \"6\", \"10\", \"1\", \"4\", \"4\", \"5\", \"7\", \"6\", \"2\", \"10\", \"6\", \"5\", \"8\", \"10\", \"2\", \"4\", \"9\", \"4\", \"10\", \"3\", \"6\", \"8\", \"4\", \"1\", \"8\", \"7\", \"6\", \"2\", \"10\", \"1\", \"6\", \"3\", \"1\", \"5\", \"3\", \"10\", \"10\", \"10\", \"4\", \"9\", \"6\", \"6\", \"10\", \"1\", \"8\", \"3\", \"7\", \"8\", \"8\", \"3\", \"6\", \"4\", \"7\", \"1\", \"1\", \"6\", \"7\", \"6\", \"1\", \"2\", \"3\", \"4\", \"4\", \"2\", \"10\", \"9\", \"8\", \"10\"], \"x0\": \" \", \"xaxis\": \"x\", \"y\": [650, 662, 780, 760, 840, 900, 500, 522, 560, 730, 560, 820, 840, 700, 461, 550, 682, 550, 650, 780, 541, 820, 542, 840, 560, 700, 700, 630, 552, 620, 722, 640, 820, 540, 1103, 600, 820, 680, 652, 700, 680, 550, 750, 820, 750, 550, 700, 720, 700, 780, 550, 802, 720, 730, 550, 810, 630, 730, 820, 780, 630, 490, 850, 500, 850, 620, 720, 550, 660, 1200, 521, 550, 800, 750, 800, 780, 730, 760, 800, 510, 470, 490, 450, 760, 680, 690, 1253, 680, 800, 660, 700, 650, 800, 690, 540, 530, 670, 480, 670, 650, 651, 720, 540, 580, 690, 690, 580, 2200, 580, 480, 730, 531, 500, 460, 800, 720, 1200, 650, 1103, 565, 740, 660, 430, 742, 640, 760, 720, 590, 450, 750, 690, 720, 450, 660, 710, 520, 570, 800, 750, 750, 572, 720, 450, 520, 800, 720, 650, 650, 560, 700, 640, 630, 460, 530, 561, 750, 882, 602, 600, 430, 682, 725, 625, 600, 468, 580, 630, 650, 675, 390], \"y0\": \" \", \"yaxis\": \"y\"}],                        {\"boxmode\": \"group\", \"height\": 400, \"legend\": {\"title\": {\"text\": \"time_split\"}, \"tracegroupgap\": 0}, \"margin\": {\"t\": 60}, \"template\": {\"data\": {\"bar\": [{\"error_x\": {\"color\": \"#2a3f5f\"}, \"error_y\": {\"color\": \"#2a3f5f\"}, \"marker\": {\"line\": {\"color\": \"#E5ECF6\", \"width\": 0.5}}, \"type\": \"bar\"}], \"barpolar\": [{\"marker\": {\"line\": {\"color\": \"#E5ECF6\", \"width\": 0.5}}, \"type\": \"barpolar\"}], \"carpet\": [{\"aaxis\": {\"endlinecolor\": \"#2a3f5f\", \"gridcolor\": \"white\", \"linecolor\": \"white\", \"minorgridcolor\": \"white\", \"startlinecolor\": \"#2a3f5f\"}, \"baxis\": {\"endlinecolor\": \"#2a3f5f\", \"gridcolor\": \"white\", \"linecolor\": \"white\", \"minorgridcolor\": \"white\", \"startlinecolor\": \"#2a3f5f\"}, \"type\": \"carpet\"}], \"choropleth\": [{\"colorbar\": {\"outlinewidth\": 0, \"ticks\": \"\"}, \"type\": \"choropleth\"}], \"contour\": [{\"colorbar\": {\"outlinewidth\": 0, \"ticks\": \"\"}, \"colorscale\": [[0.0, \"#0d0887\"], [0.1111111111111111, \"#46039f\"], [0.2222222222222222, \"#7201a8\"], [0.3333333333333333, \"#9c179e\"], [0.4444444444444444, \"#bd3786\"], [0.5555555555555556, \"#d8576b\"], [0.6666666666666666, \"#ed7953\"], [0.7777777777777778, \"#fb9f3a\"], [0.8888888888888888, \"#fdca26\"], [1.0, \"#f0f921\"]], \"type\": \"contour\"}], \"contourcarpet\": [{\"colorbar\": {\"outlinewidth\": 0, \"ticks\": \"\"}, \"type\": \"contourcarpet\"}], \"heatmap\": [{\"colorbar\": {\"outlinewidth\": 0, \"ticks\": \"\"}, \"colorscale\": [[0.0, \"#0d0887\"], [0.1111111111111111, \"#46039f\"], [0.2222222222222222, \"#7201a8\"], [0.3333333333333333, \"#9c179e\"], [0.4444444444444444, \"#bd3786\"], [0.5555555555555556, \"#d8576b\"], [0.6666666666666666, \"#ed7953\"], [0.7777777777777778, \"#fb9f3a\"], [0.8888888888888888, \"#fdca26\"], [1.0, \"#f0f921\"]], \"type\": \"heatmap\"}], \"heatmapgl\": [{\"colorbar\": {\"outlinewidth\": 0, \"ticks\": \"\"}, \"colorscale\": [[0.0, \"#0d0887\"], [0.1111111111111111, \"#46039f\"], [0.2222222222222222, \"#7201a8\"], [0.3333333333333333, \"#9c179e\"], [0.4444444444444444, \"#bd3786\"], [0.5555555555555556, \"#d8576b\"], [0.6666666666666666, \"#ed7953\"], [0.7777777777777778, \"#fb9f3a\"], [0.8888888888888888, \"#fdca26\"], [1.0, \"#f0f921\"]], \"type\": \"heatmapgl\"}], \"histogram\": [{\"marker\": {\"colorbar\": {\"outlinewidth\": 0, \"ticks\": \"\"}}, \"type\": \"histogram\"}], \"histogram2d\": [{\"colorbar\": {\"outlinewidth\": 0, \"ticks\": \"\"}, \"colorscale\": [[0.0, \"#0d0887\"], [0.1111111111111111, \"#46039f\"], [0.2222222222222222, \"#7201a8\"], [0.3333333333333333, \"#9c179e\"], [0.4444444444444444, \"#bd3786\"], [0.5555555555555556, \"#d8576b\"], [0.6666666666666666, \"#ed7953\"], [0.7777777777777778, \"#fb9f3a\"], [0.8888888888888888, \"#fdca26\"], [1.0, \"#f0f921\"]], \"type\": \"histogram2d\"}], \"histogram2dcontour\": [{\"colorbar\": {\"outlinewidth\": 0, \"ticks\": \"\"}, \"colorscale\": [[0.0, \"#0d0887\"], [0.1111111111111111, \"#46039f\"], [0.2222222222222222, \"#7201a8\"], [0.3333333333333333, \"#9c179e\"], [0.4444444444444444, \"#bd3786\"], [0.5555555555555556, \"#d8576b\"], [0.6666666666666666, \"#ed7953\"], [0.7777777777777778, \"#fb9f3a\"], [0.8888888888888888, \"#fdca26\"], [1.0, \"#f0f921\"]], \"type\": \"histogram2dcontour\"}], \"mesh3d\": [{\"colorbar\": {\"outlinewidth\": 0, \"ticks\": \"\"}, \"type\": \"mesh3d\"}], \"parcoords\": [{\"line\": {\"colorbar\": {\"outlinewidth\": 0, \"ticks\": \"\"}}, \"type\": \"parcoords\"}], \"pie\": [{\"automargin\": true, \"type\": \"pie\"}], \"scatter\": [{\"marker\": {\"colorbar\": {\"outlinewidth\": 0, \"ticks\": \"\"}}, \"type\": \"scatter\"}], \"scatter3d\": [{\"line\": {\"colorbar\": {\"outlinewidth\": 0, \"ticks\": \"\"}}, \"marker\": {\"colorbar\": {\"outlinewidth\": 0, \"ticks\": \"\"}}, \"type\": \"scatter3d\"}], \"scattercarpet\": [{\"marker\": {\"colorbar\": {\"outlinewidth\": 0, \"ticks\": \"\"}}, \"type\": \"scattercarpet\"}], \"scattergeo\": [{\"marker\": {\"colorbar\": {\"outlinewidth\": 0, \"ticks\": \"\"}}, \"type\": \"scattergeo\"}], \"scattergl\": [{\"marker\": {\"colorbar\": {\"outlinewidth\": 0, \"ticks\": \"\"}}, \"type\": \"scattergl\"}], \"scattermapbox\": [{\"marker\": {\"colorbar\": {\"outlinewidth\": 0, \"ticks\": \"\"}}, \"type\": \"scattermapbox\"}], \"scatterpolar\": [{\"marker\": {\"colorbar\": {\"outlinewidth\": 0, \"ticks\": \"\"}}, \"type\": \"scatterpolar\"}], \"scatterpolargl\": [{\"marker\": {\"colorbar\": {\"outlinewidth\": 0, \"ticks\": \"\"}}, \"type\": \"scatterpolargl\"}], \"scatterternary\": [{\"marker\": {\"colorbar\": {\"outlinewidth\": 0, \"ticks\": \"\"}}, \"type\": \"scatterternary\"}], \"surface\": [{\"colorbar\": {\"outlinewidth\": 0, \"ticks\": \"\"}, \"colorscale\": [[0.0, \"#0d0887\"], [0.1111111111111111, \"#46039f\"], [0.2222222222222222, \"#7201a8\"], [0.3333333333333333, \"#9c179e\"], [0.4444444444444444, \"#bd3786\"], [0.5555555555555556, \"#d8576b\"], [0.6666666666666666, \"#ed7953\"], [0.7777777777777778, \"#fb9f3a\"], [0.8888888888888888, \"#fdca26\"], [1.0, \"#f0f921\"]], \"type\": \"surface\"}], \"table\": [{\"cells\": {\"fill\": {\"color\": \"#EBF0F8\"}, \"line\": {\"color\": \"white\"}}, \"header\": {\"fill\": {\"color\": \"#C8D4E3\"}, \"line\": {\"color\": \"white\"}}, \"type\": \"table\"}]}, \"layout\": {\"annotationdefaults\": {\"arrowcolor\": \"#2a3f5f\", \"arrowhead\": 0, \"arrowwidth\": 1}, \"autotypenumbers\": \"strict\", \"coloraxis\": {\"colorbar\": {\"outlinewidth\": 0, \"ticks\": \"\"}}, \"colorscale\": {\"diverging\": [[0, \"#8e0152\"], [0.1, \"#c51b7d\"], [0.2, \"#de77ae\"], [0.3, \"#f1b6da\"], [0.4, \"#fde0ef\"], [0.5, \"#f7f7f7\"], [0.6, \"#e6f5d0\"], [0.7, \"#b8e186\"], [0.8, \"#7fbc41\"], [0.9, \"#4d9221\"], [1, \"#276419\"]], \"sequential\": [[0.0, \"#0d0887\"], [0.1111111111111111, \"#46039f\"], [0.2222222222222222, \"#7201a8\"], [0.3333333333333333, \"#9c179e\"], [0.4444444444444444, \"#bd3786\"], [0.5555555555555556, \"#d8576b\"], [0.6666666666666666, \"#ed7953\"], [0.7777777777777778, \"#fb9f3a\"], [0.8888888888888888, \"#fdca26\"], [1.0, \"#f0f921\"]], \"sequentialminus\": [[0.0, \"#0d0887\"], [0.1111111111111111, \"#46039f\"], [0.2222222222222222, \"#7201a8\"], [0.3333333333333333, \"#9c179e\"], [0.4444444444444444, \"#bd3786\"], [0.5555555555555556, \"#d8576b\"], [0.6666666666666666, \"#ed7953\"], [0.7777777777777778, \"#fb9f3a\"], [0.8888888888888888, \"#fdca26\"], [1.0, \"#f0f921\"]]}, \"colorway\": [\"#636efa\", \"#EF553B\", \"#00cc96\", \"#ab63fa\", \"#FFA15A\", \"#19d3f3\", \"#FF6692\", \"#B6E880\", \"#FF97FF\", \"#FECB52\"], \"font\": {\"color\": \"#2a3f5f\"}, \"geo\": {\"bgcolor\": \"white\", \"lakecolor\": \"white\", \"landcolor\": \"#E5ECF6\", \"showlakes\": true, \"showland\": true, \"subunitcolor\": \"white\"}, \"hoverlabel\": {\"align\": \"left\"}, \"hovermode\": \"closest\", \"mapbox\": {\"style\": \"light\"}, \"paper_bgcolor\": \"white\", \"plot_bgcolor\": \"#E5ECF6\", \"polar\": {\"angularaxis\": {\"gridcolor\": \"white\", \"linecolor\": \"white\", \"ticks\": \"\"}, \"bgcolor\": \"#E5ECF6\", \"radialaxis\": {\"gridcolor\": \"white\", \"linecolor\": \"white\", \"ticks\": \"\"}}, \"scene\": {\"xaxis\": {\"backgroundcolor\": \"#E5ECF6\", \"gridcolor\": \"white\", \"gridwidth\": 2, \"linecolor\": \"white\", \"showbackground\": true, \"ticks\": \"\", \"zerolinecolor\": \"white\"}, \"yaxis\": {\"backgroundcolor\": \"#E5ECF6\", \"gridcolor\": \"white\", \"gridwidth\": 2, \"linecolor\": \"white\", \"showbackground\": true, \"ticks\": \"\", \"zerolinecolor\": \"white\"}, \"zaxis\": {\"backgroundcolor\": \"#E5ECF6\", \"gridcolor\": \"white\", \"gridwidth\": 2, \"linecolor\": \"white\", \"showbackground\": true, \"ticks\": \"\", \"zerolinecolor\": \"white\"}}, \"shapedefaults\": {\"line\": {\"color\": \"#2a3f5f\"}}, \"ternary\": {\"aaxis\": {\"gridcolor\": \"white\", \"linecolor\": \"white\", \"ticks\": \"\"}, \"baxis\": {\"gridcolor\": \"white\", \"linecolor\": \"white\", \"ticks\": \"\"}, \"bgcolor\": \"#E5ECF6\", \"caxis\": {\"gridcolor\": \"white\", \"linecolor\": \"white\", \"ticks\": \"\"}}, \"title\": {\"x\": 0.05}, \"xaxis\": {\"automargin\": true, \"gridcolor\": \"white\", \"linecolor\": \"white\", \"ticks\": \"\", \"title\": {\"standoff\": 15}, \"zerolinecolor\": \"white\", \"zerolinewidth\": 2}, \"yaxis\": {\"automargin\": true, \"gridcolor\": \"white\", \"linecolor\": \"white\", \"ticks\": \"\", \"title\": {\"standoff\": 15}, \"zerolinecolor\": \"white\", \"zerolinewidth\": 2}}}, \"width\": 800, \"xaxis\": {\"anchor\": \"y\", \"domain\": [0.0, 1.0], \"title\": {\"text\": \"room_type\"}, \"type\": \"category\"}, \"yaxis\": {\"anchor\": \"x\", \"domain\": [0.0, 1.0], \"title\": {\"text\": \"price\"}}},                        {\"responsive\": true}                    ).then(function(){\n",
       "                            \n",
       "var gd = document.getElementById('29dcaf22-01d4-4e07-80da-f0b2ee28a37f');\n",
       "var x = new MutationObserver(function (mutations, observer) {{\n",
       "        var display = window.getComputedStyle(gd).display;\n",
       "        if (!display || display === 'none') {{\n",
       "            console.log([gd, 'removed!']);\n",
       "            Plotly.purge(gd);\n",
       "            observer.disconnect();\n",
       "        }}\n",
       "}});\n",
       "\n",
       "// Listen for the removal of the full notebook cells\n",
       "var notebookContainer = gd.closest('#notebook-container');\n",
       "if (notebookContainer) {{\n",
       "    x.observe(notebookContainer, {childList: true});\n",
       "}}\n",
       "\n",
       "// Listen for the clearing of the current output cell\n",
       "var outputEl = gd.closest('.output');\n",
       "if (outputEl) {{\n",
       "    x.observe(outputEl, {childList: true});\n",
       "}}\n",
       "\n",
       "                        })                };                });            </script>        </div>"
      ]
     },
     "metadata": {},
     "output_type": "display_data"
    },
    {
     "data": {
      "application/vnd.plotly.v1+json": {
       "config": {
        "plotlyServerURL": "https://plot.ly"
       },
       "data": [
        {
         "marker": {
          "color": [
           "#DA16FF",
           "#750D86",
           "#EB663B",
           "#511CFB",
           "#511CFB",
           "#511CFB",
           "#FB0D0D",
           "#00A08B",
           "#511CFB",
           "#EB663B",
           "#EB663B",
           "#DA16FF",
           "#FB00D1",
           "#1CA71C",
           "#1CA71C",
           "#00A08B",
           "#EB663B",
           "#DA16FF",
           "#FB0D0D",
           "#1CA71C",
           "#DA16FF",
           "#511CFB",
           "#FB0D0D",
           "#1CA71C",
           "#FB0D0D",
           "#750D86",
           "#FB0D0D",
           "#EB663B",
           "#E15F99",
           "#511CFB",
           "#EB663B",
           "#FB0D0D",
           "#B68100",
           "#511CFB",
           "#FB0D0D",
           "#E15F99",
           "#00A08B",
           "#00A08B",
           "#00A08B",
           "#750D86",
           "#00A08B",
           "#00A08B",
           "#EB663B",
           "#750D86",
           "#E15F99",
           "#1CA71C",
           "#750D86",
           "#FB00D1",
           "#DA16FF",
           "#00A08B",
           "#1CA71C",
           "#511CFB",
           "#00A08B",
           "#00A08B",
           "#FB0D0D",
           "#1CA71C",
           "#EB663B",
           "#E15F99",
           "#EB663B",
           "#FB0D0D",
           "#1CA71C",
           "#FB0D0D",
           "#1CA71C",
           "#750D86",
           "#00A08B",
           "#750D86",
           "#511CFB",
           "#FB0D0D",
           "#DA16FF",
           "#EB663B",
           "#511CFB",
           "#E15F99",
           "#DA16FF",
           "#DA16FF",
           "#750D86",
           "#1CA71C",
           "#EB663B",
           "#00A08B",
           "#DA16FF",
           "#DA16FF",
           "#00A08B",
           "#FB0D0D",
           "#EB663B",
           "#DA16FF",
           "#E15F99",
           "#EB663B",
           "#750D86",
           "#1CA71C",
           "#00A08B",
           "#E15F99",
           "#FB0D0D",
           "#E15F99",
           "#FB0D0D",
           "#00A08B",
           "#00A08B",
           "#00A08B",
           "#DA16FF",
           "#511CFB",
           "#00A08B",
           "#E15F99",
           "#EB663B",
           "#FB0D0D",
           "#750D86",
           "#EB663B",
           "#EB663B",
           "#FB0D0D",
           "#DA16FF",
           "#750D86",
           "#E15F99",
           "#E15F99",
           "#B68100",
           "#750D86",
           "#E15F99",
           "#1CA71C",
           "#FB0D0D",
           "#DA16FF",
           "#DA16FF",
           "#1CA71C",
           "#00A08B",
           "#511CFB",
           "#EB663B"
          ],
          "size": [
           10,
           11,
           13,
           12,
           14,
           15,
           12,
           13,
           14,
           11,
           11,
           10,
           13,
           13,
           14,
           11,
           11,
           10,
           10,
           12,
           10,
           13,
           10,
           13,
           11,
           10,
           11,
           11,
           12,
           13,
           12,
           11,
           12,
           11,
           13,
           13,
           12,
           12,
           13,
           10,
           12,
           13,
           13,
           10,
           14,
           14,
           10,
           12,
           11,
           13,
           12,
           13,
           13,
           12,
           12,
           13,
           12,
           11,
           11,
           11,
           13,
           11,
           11,
           10,
           13,
           11,
           11,
           11,
           10,
           10,
           12,
           11,
           11,
           9,
           9,
           12,
           13,
           12,
           10,
           9,
           12,
           11,
           12,
           10,
           12,
           12,
           9,
           12,
           11,
           12,
           11,
           11,
           9,
           13,
           12,
           12,
           9,
           12,
           13,
           12,
           10,
           10,
           9,
           11,
           10,
           10,
           8,
           9,
           12,
           14,
           10,
           10,
           11,
           12,
           10,
           10,
           7,
           9,
           10,
           10,
           11
          ]
         },
         "mode": "markers",
         "type": "scatter",
         "x": [
          41,
          30,
          47,
          39,
          10,
          45,
          40,
          11,
          48,
          34,
          29,
          19,
          12,
          12,
          16,
          31,
          53,
          11,
          44,
          36,
          46,
          40,
          48,
          33,
          29,
          45,
          20,
          38,
          47,
          18,
          41,
          51,
          51,
          21,
          21,
          12,
          34,
          17,
          25,
          29,
          29,
          47,
          24,
          20,
          30,
          21,
          14,
          16,
          39,
          26,
          22,
          47,
          21,
          28,
          24,
          26,
          48,
          15,
          17,
          31,
          38,
          33,
          28,
          12,
          42,
          48,
          17,
          14,
          14,
          46,
          42,
          23,
          43,
          25,
          11,
          15,
          28,
          37,
          16,
          15,
          43,
          11,
          27,
          32,
          22,
          18,
          41,
          11,
          32,
          20,
          38,
          21,
          15,
          36,
          41,
          33,
          24,
          27,
          23,
          41,
          21,
          28,
          13,
          22,
          25,
          12,
          18,
          37,
          32,
          40,
          53,
          31,
          36,
          43,
          43,
          48,
          13,
          30,
          20,
          25,
          33
         ],
         "xaxis": "x",
         "y": [
          650,
          662,
          780,
          760,
          840,
          900,
          730,
          820,
          840,
          700,
          682,
          650,
          780,
          820,
          840,
          700,
          700,
          630,
          620,
          722,
          640,
          820,
          600,
          820,
          680,
          652,
          700,
          680,
          750,
          820,
          750,
          700,
          720,
          700,
          780,
          802,
          720,
          730,
          810,
          630,
          730,
          820,
          780,
          630,
          850,
          850,
          620,
          720,
          660,
          800,
          750,
          800,
          780,
          730,
          760,
          800,
          760,
          680,
          690,
          680,
          800,
          660,
          700,
          650,
          800,
          690,
          670,
          670,
          650,
          651,
          720,
          690,
          690,
          580,
          580,
          730,
          800,
          720,
          650,
          565,
          740,
          660,
          742,
          640,
          760,
          720,
          590,
          750,
          690,
          720,
          660,
          710,
          570,
          800,
          750,
          750,
          572,
          720,
          800,
          720,
          650,
          650,
          560,
          700,
          640,
          630,
          530,
          561,
          750,
          882,
          602,
          600,
          682,
          725,
          625,
          600,
          468,
          580,
          630,
          650,
          675
         ],
         "yaxis": "y"
        },
        {
         "marker": {
          "color": [
           "#DA16FF",
           "#750D86",
           "#511CFB",
           "#00A08B",
           "#00A08B",
           "#1CA71C",
           "#DA16FF",
           "#E15F99",
           "#750D86",
           "#DA16FF",
           "#E15F99",
           "#E15F99",
           "#EB663B",
           "#DA16FF",
           "#511CFB",
           "#E15F99",
           "#1CA71C",
           "#EB663B",
           "#750D86",
           "#511CFB",
           "#E15F99",
           "#511CFB",
           "#DA16FF",
           "#FB0D0D",
           "#511CFB",
           "#FB0D0D",
           "#750D86",
           "#750D86",
           "#750D86",
           "#DA16FF",
           "#750D86",
           "#DA16FF",
           "#1CA71C",
           "#750D86",
           "#DA16FF",
           "#DA16FF",
           "#750D86",
           "#750D86",
           "#FB0D0D",
           "#DA16FF",
           "#DA16FF",
           "#FB0D0D",
           "#1CA71C",
           "#E15F99",
           "#E15F99",
           "#00A08B",
           "#750D86",
           "#1CA71C",
           "#750D86"
          ],
          "size": [
           7,
           8,
           9,
           9,
           10,
           10,
           8,
           10,
           7,
           7,
           9,
           11,
           10,
           7,
           10,
           10,
           10,
           9,
           8,
           9,
           9,
           9,
           8,
           9,
           11,
           9,
           6,
           7,
           6,
           6,
           7,
           7,
           10,
           7,
           7,
           8,
           8,
           8,
           9,
           10,
           10,
           10,
           12,
           8,
           13,
           11,
           10,
           13,
           11
          ]
         },
         "mode": "markers",
         "type": "scatter",
         "x": [
          35,
          42,
          38,
          19,
          45,
          39,
          47,
          42,
          27,
          34,
          10,
          44,
          40,
          22,
          41,
          24,
          27,
          19,
          33,
          34,
          18,
          11,
          28,
          19,
          24,
          22,
          34,
          39,
          21,
          20,
          44,
          17,
          32,
          28,
          40,
          33,
          22,
          25,
          42,
          36,
          44,
          27,
          19,
          17,
          25,
          38,
          23,
          29,
          46
         ],
         "xaxis": "x2",
         "y": [
          420,
          520,
          560,
          580,
          620,
          650,
          510,
          600,
          430,
          460,
          550,
          660,
          600,
          460,
          650,
          650,
          650,
          550,
          500,
          595,
          580,
          580,
          500,
          580,
          680,
          580,
          390,
          450,
          400,
          390,
          450,
          460,
          650,
          430,
          450,
          530,
          500,
          530,
          580,
          600,
          650,
          600,
          720,
          490,
          800,
          700,
          600,
          800,
          670
         ],
         "yaxis": "y2"
        }
       ],
       "layout": {
        "annotations": [
         {
          "font": {
           "size": 16
          },
          "showarrow": false,
          "text": "Before bedroom =2 ",
          "x": 0.225,
          "xanchor": "center",
          "xref": "paper",
          "y": 1,
          "yanchor": "bottom",
          "yref": "paper"
         },
         {
          "font": {
           "size": 16
          },
          "showarrow": false,
          "text": "After bedroom = 2",
          "x": 0.775,
          "xanchor": "center",
          "xref": "paper",
          "y": 1,
          "yanchor": "bottom",
          "yref": "paper"
         }
        ],
        "height": 330,
        "template": {
         "data": {
          "bar": [
           {
            "error_x": {
             "color": "#2a3f5f"
            },
            "error_y": {
             "color": "#2a3f5f"
            },
            "marker": {
             "line": {
              "color": "#E5ECF6",
              "width": 0.5
             }
            },
            "type": "bar"
           }
          ],
          "barpolar": [
           {
            "marker": {
             "line": {
              "color": "#E5ECF6",
              "width": 0.5
             }
            },
            "type": "barpolar"
           }
          ],
          "carpet": [
           {
            "aaxis": {
             "endlinecolor": "#2a3f5f",
             "gridcolor": "white",
             "linecolor": "white",
             "minorgridcolor": "white",
             "startlinecolor": "#2a3f5f"
            },
            "baxis": {
             "endlinecolor": "#2a3f5f",
             "gridcolor": "white",
             "linecolor": "white",
             "minorgridcolor": "white",
             "startlinecolor": "#2a3f5f"
            },
            "type": "carpet"
           }
          ],
          "choropleth": [
           {
            "colorbar": {
             "outlinewidth": 0,
             "ticks": ""
            },
            "type": "choropleth"
           }
          ],
          "contour": [
           {
            "colorbar": {
             "outlinewidth": 0,
             "ticks": ""
            },
            "colorscale": [
             [
              0,
              "#0d0887"
             ],
             [
              0.1111111111111111,
              "#46039f"
             ],
             [
              0.2222222222222222,
              "#7201a8"
             ],
             [
              0.3333333333333333,
              "#9c179e"
             ],
             [
              0.4444444444444444,
              "#bd3786"
             ],
             [
              0.5555555555555556,
              "#d8576b"
             ],
             [
              0.6666666666666666,
              "#ed7953"
             ],
             [
              0.7777777777777778,
              "#fb9f3a"
             ],
             [
              0.8888888888888888,
              "#fdca26"
             ],
             [
              1,
              "#f0f921"
             ]
            ],
            "type": "contour"
           }
          ],
          "contourcarpet": [
           {
            "colorbar": {
             "outlinewidth": 0,
             "ticks": ""
            },
            "type": "contourcarpet"
           }
          ],
          "heatmap": [
           {
            "colorbar": {
             "outlinewidth": 0,
             "ticks": ""
            },
            "colorscale": [
             [
              0,
              "#0d0887"
             ],
             [
              0.1111111111111111,
              "#46039f"
             ],
             [
              0.2222222222222222,
              "#7201a8"
             ],
             [
              0.3333333333333333,
              "#9c179e"
             ],
             [
              0.4444444444444444,
              "#bd3786"
             ],
             [
              0.5555555555555556,
              "#d8576b"
             ],
             [
              0.6666666666666666,
              "#ed7953"
             ],
             [
              0.7777777777777778,
              "#fb9f3a"
             ],
             [
              0.8888888888888888,
              "#fdca26"
             ],
             [
              1,
              "#f0f921"
             ]
            ],
            "type": "heatmap"
           }
          ],
          "heatmapgl": [
           {
            "colorbar": {
             "outlinewidth": 0,
             "ticks": ""
            },
            "colorscale": [
             [
              0,
              "#0d0887"
             ],
             [
              0.1111111111111111,
              "#46039f"
             ],
             [
              0.2222222222222222,
              "#7201a8"
             ],
             [
              0.3333333333333333,
              "#9c179e"
             ],
             [
              0.4444444444444444,
              "#bd3786"
             ],
             [
              0.5555555555555556,
              "#d8576b"
             ],
             [
              0.6666666666666666,
              "#ed7953"
             ],
             [
              0.7777777777777778,
              "#fb9f3a"
             ],
             [
              0.8888888888888888,
              "#fdca26"
             ],
             [
              1,
              "#f0f921"
             ]
            ],
            "type": "heatmapgl"
           }
          ],
          "histogram": [
           {
            "marker": {
             "colorbar": {
              "outlinewidth": 0,
              "ticks": ""
             }
            },
            "type": "histogram"
           }
          ],
          "histogram2d": [
           {
            "colorbar": {
             "outlinewidth": 0,
             "ticks": ""
            },
            "colorscale": [
             [
              0,
              "#0d0887"
             ],
             [
              0.1111111111111111,
              "#46039f"
             ],
             [
              0.2222222222222222,
              "#7201a8"
             ],
             [
              0.3333333333333333,
              "#9c179e"
             ],
             [
              0.4444444444444444,
              "#bd3786"
             ],
             [
              0.5555555555555556,
              "#d8576b"
             ],
             [
              0.6666666666666666,
              "#ed7953"
             ],
             [
              0.7777777777777778,
              "#fb9f3a"
             ],
             [
              0.8888888888888888,
              "#fdca26"
             ],
             [
              1,
              "#f0f921"
             ]
            ],
            "type": "histogram2d"
           }
          ],
          "histogram2dcontour": [
           {
            "colorbar": {
             "outlinewidth": 0,
             "ticks": ""
            },
            "colorscale": [
             [
              0,
              "#0d0887"
             ],
             [
              0.1111111111111111,
              "#46039f"
             ],
             [
              0.2222222222222222,
              "#7201a8"
             ],
             [
              0.3333333333333333,
              "#9c179e"
             ],
             [
              0.4444444444444444,
              "#bd3786"
             ],
             [
              0.5555555555555556,
              "#d8576b"
             ],
             [
              0.6666666666666666,
              "#ed7953"
             ],
             [
              0.7777777777777778,
              "#fb9f3a"
             ],
             [
              0.8888888888888888,
              "#fdca26"
             ],
             [
              1,
              "#f0f921"
             ]
            ],
            "type": "histogram2dcontour"
           }
          ],
          "mesh3d": [
           {
            "colorbar": {
             "outlinewidth": 0,
             "ticks": ""
            },
            "type": "mesh3d"
           }
          ],
          "parcoords": [
           {
            "line": {
             "colorbar": {
              "outlinewidth": 0,
              "ticks": ""
             }
            },
            "type": "parcoords"
           }
          ],
          "pie": [
           {
            "automargin": true,
            "type": "pie"
           }
          ],
          "scatter": [
           {
            "marker": {
             "colorbar": {
              "outlinewidth": 0,
              "ticks": ""
             }
            },
            "type": "scatter"
           }
          ],
          "scatter3d": [
           {
            "line": {
             "colorbar": {
              "outlinewidth": 0,
              "ticks": ""
             }
            },
            "marker": {
             "colorbar": {
              "outlinewidth": 0,
              "ticks": ""
             }
            },
            "type": "scatter3d"
           }
          ],
          "scattercarpet": [
           {
            "marker": {
             "colorbar": {
              "outlinewidth": 0,
              "ticks": ""
             }
            },
            "type": "scattercarpet"
           }
          ],
          "scattergeo": [
           {
            "marker": {
             "colorbar": {
              "outlinewidth": 0,
              "ticks": ""
             }
            },
            "type": "scattergeo"
           }
          ],
          "scattergl": [
           {
            "marker": {
             "colorbar": {
              "outlinewidth": 0,
              "ticks": ""
             }
            },
            "type": "scattergl"
           }
          ],
          "scattermapbox": [
           {
            "marker": {
             "colorbar": {
              "outlinewidth": 0,
              "ticks": ""
             }
            },
            "type": "scattermapbox"
           }
          ],
          "scatterpolar": [
           {
            "marker": {
             "colorbar": {
              "outlinewidth": 0,
              "ticks": ""
             }
            },
            "type": "scatterpolar"
           }
          ],
          "scatterpolargl": [
           {
            "marker": {
             "colorbar": {
              "outlinewidth": 0,
              "ticks": ""
             }
            },
            "type": "scatterpolargl"
           }
          ],
          "scatterternary": [
           {
            "marker": {
             "colorbar": {
              "outlinewidth": 0,
              "ticks": ""
             }
            },
            "type": "scatterternary"
           }
          ],
          "surface": [
           {
            "colorbar": {
             "outlinewidth": 0,
             "ticks": ""
            },
            "colorscale": [
             [
              0,
              "#0d0887"
             ],
             [
              0.1111111111111111,
              "#46039f"
             ],
             [
              0.2222222222222222,
              "#7201a8"
             ],
             [
              0.3333333333333333,
              "#9c179e"
             ],
             [
              0.4444444444444444,
              "#bd3786"
             ],
             [
              0.5555555555555556,
              "#d8576b"
             ],
             [
              0.6666666666666666,
              "#ed7953"
             ],
             [
              0.7777777777777778,
              "#fb9f3a"
             ],
             [
              0.8888888888888888,
              "#fdca26"
             ],
             [
              1,
              "#f0f921"
             ]
            ],
            "type": "surface"
           }
          ],
          "table": [
           {
            "cells": {
             "fill": {
              "color": "#EBF0F8"
             },
             "line": {
              "color": "white"
             }
            },
            "header": {
             "fill": {
              "color": "#C8D4E3"
             },
             "line": {
              "color": "white"
             }
            },
            "type": "table"
           }
          ]
         },
         "layout": {
          "annotationdefaults": {
           "arrowcolor": "#2a3f5f",
           "arrowhead": 0,
           "arrowwidth": 1
          },
          "autotypenumbers": "strict",
          "coloraxis": {
           "colorbar": {
            "outlinewidth": 0,
            "ticks": ""
           }
          },
          "colorscale": {
           "diverging": [
            [
             0,
             "#8e0152"
            ],
            [
             0.1,
             "#c51b7d"
            ],
            [
             0.2,
             "#de77ae"
            ],
            [
             0.3,
             "#f1b6da"
            ],
            [
             0.4,
             "#fde0ef"
            ],
            [
             0.5,
             "#f7f7f7"
            ],
            [
             0.6,
             "#e6f5d0"
            ],
            [
             0.7,
             "#b8e186"
            ],
            [
             0.8,
             "#7fbc41"
            ],
            [
             0.9,
             "#4d9221"
            ],
            [
             1,
             "#276419"
            ]
           ],
           "sequential": [
            [
             0,
             "#0d0887"
            ],
            [
             0.1111111111111111,
             "#46039f"
            ],
            [
             0.2222222222222222,
             "#7201a8"
            ],
            [
             0.3333333333333333,
             "#9c179e"
            ],
            [
             0.4444444444444444,
             "#bd3786"
            ],
            [
             0.5555555555555556,
             "#d8576b"
            ],
            [
             0.6666666666666666,
             "#ed7953"
            ],
            [
             0.7777777777777778,
             "#fb9f3a"
            ],
            [
             0.8888888888888888,
             "#fdca26"
            ],
            [
             1,
             "#f0f921"
            ]
           ],
           "sequentialminus": [
            [
             0,
             "#0d0887"
            ],
            [
             0.1111111111111111,
             "#46039f"
            ],
            [
             0.2222222222222222,
             "#7201a8"
            ],
            [
             0.3333333333333333,
             "#9c179e"
            ],
            [
             0.4444444444444444,
             "#bd3786"
            ],
            [
             0.5555555555555556,
             "#d8576b"
            ],
            [
             0.6666666666666666,
             "#ed7953"
            ],
            [
             0.7777777777777778,
             "#fb9f3a"
            ],
            [
             0.8888888888888888,
             "#fdca26"
            ],
            [
             1,
             "#f0f921"
            ]
           ]
          },
          "colorway": [
           "#636efa",
           "#EF553B",
           "#00cc96",
           "#ab63fa",
           "#FFA15A",
           "#19d3f3",
           "#FF6692",
           "#B6E880",
           "#FF97FF",
           "#FECB52"
          ],
          "font": {
           "color": "#2a3f5f"
          },
          "geo": {
           "bgcolor": "white",
           "lakecolor": "white",
           "landcolor": "#E5ECF6",
           "showlakes": true,
           "showland": true,
           "subunitcolor": "white"
          },
          "hoverlabel": {
           "align": "left"
          },
          "hovermode": "closest",
          "mapbox": {
           "style": "light"
          },
          "paper_bgcolor": "white",
          "plot_bgcolor": "#E5ECF6",
          "polar": {
           "angularaxis": {
            "gridcolor": "white",
            "linecolor": "white",
            "ticks": ""
           },
           "bgcolor": "#E5ECF6",
           "radialaxis": {
            "gridcolor": "white",
            "linecolor": "white",
            "ticks": ""
           }
          },
          "scene": {
           "xaxis": {
            "backgroundcolor": "#E5ECF6",
            "gridcolor": "white",
            "gridwidth": 2,
            "linecolor": "white",
            "showbackground": true,
            "ticks": "",
            "zerolinecolor": "white"
           },
           "yaxis": {
            "backgroundcolor": "#E5ECF6",
            "gridcolor": "white",
            "gridwidth": 2,
            "linecolor": "white",
            "showbackground": true,
            "ticks": "",
            "zerolinecolor": "white"
           },
           "zaxis": {
            "backgroundcolor": "#E5ECF6",
            "gridcolor": "white",
            "gridwidth": 2,
            "linecolor": "white",
            "showbackground": true,
            "ticks": "",
            "zerolinecolor": "white"
           }
          },
          "shapedefaults": {
           "line": {
            "color": "#2a3f5f"
           }
          },
          "ternary": {
           "aaxis": {
            "gridcolor": "white",
            "linecolor": "white",
            "ticks": ""
           },
           "baxis": {
            "gridcolor": "white",
            "linecolor": "white",
            "ticks": ""
           },
           "bgcolor": "#E5ECF6",
           "caxis": {
            "gridcolor": "white",
            "linecolor": "white",
            "ticks": ""
           }
          },
          "title": {
           "x": 0.05
          },
          "xaxis": {
           "automargin": true,
           "gridcolor": "white",
           "linecolor": "white",
           "ticks": "",
           "title": {
            "standoff": 15
           },
           "zerolinecolor": "white",
           "zerolinewidth": 2
          },
          "yaxis": {
           "automargin": true,
           "gridcolor": "white",
           "linecolor": "white",
           "ticks": "",
           "title": {
            "standoff": 15
           },
           "zerolinecolor": "white",
           "zerolinewidth": 2
          }
         }
        },
        "title": {
         "text": "Before and After the pendanmic"
        },
        "width": 1000,
        "xaxis": {
         "anchor": "y",
         "domain": [
          0,
          0.45
         ]
        },
        "xaxis2": {
         "anchor": "y2",
         "domain": [
          0.55,
          1
         ]
        },
        "yaxis": {
         "anchor": "x",
         "domain": [
          0,
          1
         ]
        },
        "yaxis2": {
         "anchor": "x2",
         "domain": [
          0,
          1
         ]
        }
       }
      },
      "text/html": [
       "<div>                            <div id=\"bd76e192-242e-4f71-bccf-e6a3d157606f\" class=\"plotly-graph-div\" style=\"height:330px; width:1000px;\"></div>            <script type=\"text/javascript\">                require([\"plotly\"], function(Plotly) {                    window.PLOTLYENV=window.PLOTLYENV || {};                                    if (document.getElementById(\"bd76e192-242e-4f71-bccf-e6a3d157606f\")) {                    Plotly.newPlot(                        \"bd76e192-242e-4f71-bccf-e6a3d157606f\",                        [{\"marker\": {\"color\": [\"#DA16FF\", \"#750D86\", \"#EB663B\", \"#511CFB\", \"#511CFB\", \"#511CFB\", \"#FB0D0D\", \"#00A08B\", \"#511CFB\", \"#EB663B\", \"#EB663B\", \"#DA16FF\", \"#FB00D1\", \"#1CA71C\", \"#1CA71C\", \"#00A08B\", \"#EB663B\", \"#DA16FF\", \"#FB0D0D\", \"#1CA71C\", \"#DA16FF\", \"#511CFB\", \"#FB0D0D\", \"#1CA71C\", \"#FB0D0D\", \"#750D86\", \"#FB0D0D\", \"#EB663B\", \"#E15F99\", \"#511CFB\", \"#EB663B\", \"#FB0D0D\", \"#B68100\", \"#511CFB\", \"#FB0D0D\", \"#E15F99\", \"#00A08B\", \"#00A08B\", \"#00A08B\", \"#750D86\", \"#00A08B\", \"#00A08B\", \"#EB663B\", \"#750D86\", \"#E15F99\", \"#1CA71C\", \"#750D86\", \"#FB00D1\", \"#DA16FF\", \"#00A08B\", \"#1CA71C\", \"#511CFB\", \"#00A08B\", \"#00A08B\", \"#FB0D0D\", \"#1CA71C\", \"#EB663B\", \"#E15F99\", \"#EB663B\", \"#FB0D0D\", \"#1CA71C\", \"#FB0D0D\", \"#1CA71C\", \"#750D86\", \"#00A08B\", \"#750D86\", \"#511CFB\", \"#FB0D0D\", \"#DA16FF\", \"#EB663B\", \"#511CFB\", \"#E15F99\", \"#DA16FF\", \"#DA16FF\", \"#750D86\", \"#1CA71C\", \"#EB663B\", \"#00A08B\", \"#DA16FF\", \"#DA16FF\", \"#00A08B\", \"#FB0D0D\", \"#EB663B\", \"#DA16FF\", \"#E15F99\", \"#EB663B\", \"#750D86\", \"#1CA71C\", \"#00A08B\", \"#E15F99\", \"#FB0D0D\", \"#E15F99\", \"#FB0D0D\", \"#00A08B\", \"#00A08B\", \"#00A08B\", \"#DA16FF\", \"#511CFB\", \"#00A08B\", \"#E15F99\", \"#EB663B\", \"#FB0D0D\", \"#750D86\", \"#EB663B\", \"#EB663B\", \"#FB0D0D\", \"#DA16FF\", \"#750D86\", \"#E15F99\", \"#E15F99\", \"#B68100\", \"#750D86\", \"#E15F99\", \"#1CA71C\", \"#FB0D0D\", \"#DA16FF\", \"#DA16FF\", \"#1CA71C\", \"#00A08B\", \"#511CFB\", \"#EB663B\"], \"size\": [10, 11, 13, 12, 14, 15, 12, 13, 14, 11, 11, 10, 13, 13, 14, 11, 11, 10, 10, 12, 10, 13, 10, 13, 11, 10, 11, 11, 12, 13, 12, 11, 12, 11, 13, 13, 12, 12, 13, 10, 12, 13, 13, 10, 14, 14, 10, 12, 11, 13, 12, 13, 13, 12, 12, 13, 12, 11, 11, 11, 13, 11, 11, 10, 13, 11, 11, 11, 10, 10, 12, 11, 11, 9, 9, 12, 13, 12, 10, 9, 12, 11, 12, 10, 12, 12, 9, 12, 11, 12, 11, 11, 9, 13, 12, 12, 9, 12, 13, 12, 10, 10, 9, 11, 10, 10, 8, 9, 12, 14, 10, 10, 11, 12, 10, 10, 7, 9, 10, 10, 11]}, \"mode\": \"markers\", \"type\": \"scatter\", \"x\": [41, 30, 47, 39, 10, 45, 40, 11, 48, 34, 29, 19, 12, 12, 16, 31, 53, 11, 44, 36, 46, 40, 48, 33, 29, 45, 20, 38, 47, 18, 41, 51, 51, 21, 21, 12, 34, 17, 25, 29, 29, 47, 24, 20, 30, 21, 14, 16, 39, 26, 22, 47, 21, 28, 24, 26, 48, 15, 17, 31, 38, 33, 28, 12, 42, 48, 17, 14, 14, 46, 42, 23, 43, 25, 11, 15, 28, 37, 16, 15, 43, 11, 27, 32, 22, 18, 41, 11, 32, 20, 38, 21, 15, 36, 41, 33, 24, 27, 23, 41, 21, 28, 13, 22, 25, 12, 18, 37, 32, 40, 53, 31, 36, 43, 43, 48, 13, 30, 20, 25, 33], \"xaxis\": \"x\", \"y\": [650, 662, 780, 760, 840, 900, 730, 820, 840, 700, 682, 650, 780, 820, 840, 700, 700, 630, 620, 722, 640, 820, 600, 820, 680, 652, 700, 680, 750, 820, 750, 700, 720, 700, 780, 802, 720, 730, 810, 630, 730, 820, 780, 630, 850, 850, 620, 720, 660, 800, 750, 800, 780, 730, 760, 800, 760, 680, 690, 680, 800, 660, 700, 650, 800, 690, 670, 670, 650, 651, 720, 690, 690, 580, 580, 730, 800, 720, 650, 565, 740, 660, 742, 640, 760, 720, 590, 750, 690, 720, 660, 710, 570, 800, 750, 750, 572, 720, 800, 720, 650, 650, 560, 700, 640, 630, 530, 561, 750, 882, 602, 600, 682, 725, 625, 600, 468, 580, 630, 650, 675], \"yaxis\": \"y\"}, {\"marker\": {\"color\": [\"#DA16FF\", \"#750D86\", \"#511CFB\", \"#00A08B\", \"#00A08B\", \"#1CA71C\", \"#DA16FF\", \"#E15F99\", \"#750D86\", \"#DA16FF\", \"#E15F99\", \"#E15F99\", \"#EB663B\", \"#DA16FF\", \"#511CFB\", \"#E15F99\", \"#1CA71C\", \"#EB663B\", \"#750D86\", \"#511CFB\", \"#E15F99\", \"#511CFB\", \"#DA16FF\", \"#FB0D0D\", \"#511CFB\", \"#FB0D0D\", \"#750D86\", \"#750D86\", \"#750D86\", \"#DA16FF\", \"#750D86\", \"#DA16FF\", \"#1CA71C\", \"#750D86\", \"#DA16FF\", \"#DA16FF\", \"#750D86\", \"#750D86\", \"#FB0D0D\", \"#DA16FF\", \"#DA16FF\", \"#FB0D0D\", \"#1CA71C\", \"#E15F99\", \"#E15F99\", \"#00A08B\", \"#750D86\", \"#1CA71C\", \"#750D86\"], \"size\": [7, 8, 9, 9, 10, 10, 8, 10, 7, 7, 9, 11, 10, 7, 10, 10, 10, 9, 8, 9, 9, 9, 8, 9, 11, 9, 6, 7, 6, 6, 7, 7, 10, 7, 7, 8, 8, 8, 9, 10, 10, 10, 12, 8, 13, 11, 10, 13, 11]}, \"mode\": \"markers\", \"type\": \"scatter\", \"x\": [35, 42, 38, 19, 45, 39, 47, 42, 27, 34, 10, 44, 40, 22, 41, 24, 27, 19, 33, 34, 18, 11, 28, 19, 24, 22, 34, 39, 21, 20, 44, 17, 32, 28, 40, 33, 22, 25, 42, 36, 44, 27, 19, 17, 25, 38, 23, 29, 46], \"xaxis\": \"x2\", \"y\": [420, 520, 560, 580, 620, 650, 510, 600, 430, 460, 550, 660, 600, 460, 650, 650, 650, 550, 500, 595, 580, 580, 500, 580, 680, 580, 390, 450, 400, 390, 450, 460, 650, 430, 450, 530, 500, 530, 580, 600, 650, 600, 720, 490, 800, 700, 600, 800, 670], \"yaxis\": \"y2\"}],                        {\"annotations\": [{\"font\": {\"size\": 16}, \"showarrow\": false, \"text\": \"Before bedroom =2 \", \"x\": 0.225, \"xanchor\": \"center\", \"xref\": \"paper\", \"y\": 1.0, \"yanchor\": \"bottom\", \"yref\": \"paper\"}, {\"font\": {\"size\": 16}, \"showarrow\": false, \"text\": \"After bedroom = 2\", \"x\": 0.775, \"xanchor\": \"center\", \"xref\": \"paper\", \"y\": 1.0, \"yanchor\": \"bottom\", \"yref\": \"paper\"}], \"height\": 330, \"template\": {\"data\": {\"bar\": [{\"error_x\": {\"color\": \"#2a3f5f\"}, \"error_y\": {\"color\": \"#2a3f5f\"}, \"marker\": {\"line\": {\"color\": \"#E5ECF6\", \"width\": 0.5}}, \"type\": \"bar\"}], \"barpolar\": [{\"marker\": {\"line\": {\"color\": \"#E5ECF6\", \"width\": 0.5}}, \"type\": \"barpolar\"}], \"carpet\": [{\"aaxis\": {\"endlinecolor\": \"#2a3f5f\", \"gridcolor\": \"white\", \"linecolor\": \"white\", \"minorgridcolor\": \"white\", \"startlinecolor\": \"#2a3f5f\"}, \"baxis\": {\"endlinecolor\": \"#2a3f5f\", \"gridcolor\": \"white\", \"linecolor\": \"white\", \"minorgridcolor\": \"white\", \"startlinecolor\": \"#2a3f5f\"}, \"type\": \"carpet\"}], \"choropleth\": [{\"colorbar\": {\"outlinewidth\": 0, \"ticks\": \"\"}, \"type\": \"choropleth\"}], \"contour\": [{\"colorbar\": {\"outlinewidth\": 0, \"ticks\": \"\"}, \"colorscale\": [[0.0, \"#0d0887\"], [0.1111111111111111, \"#46039f\"], [0.2222222222222222, \"#7201a8\"], [0.3333333333333333, \"#9c179e\"], [0.4444444444444444, \"#bd3786\"], [0.5555555555555556, \"#d8576b\"], [0.6666666666666666, \"#ed7953\"], [0.7777777777777778, \"#fb9f3a\"], [0.8888888888888888, \"#fdca26\"], [1.0, \"#f0f921\"]], \"type\": \"contour\"}], \"contourcarpet\": [{\"colorbar\": {\"outlinewidth\": 0, \"ticks\": \"\"}, \"type\": \"contourcarpet\"}], \"heatmap\": [{\"colorbar\": {\"outlinewidth\": 0, \"ticks\": \"\"}, \"colorscale\": [[0.0, \"#0d0887\"], [0.1111111111111111, \"#46039f\"], [0.2222222222222222, \"#7201a8\"], [0.3333333333333333, \"#9c179e\"], [0.4444444444444444, \"#bd3786\"], [0.5555555555555556, \"#d8576b\"], [0.6666666666666666, \"#ed7953\"], [0.7777777777777778, \"#fb9f3a\"], [0.8888888888888888, \"#fdca26\"], [1.0, \"#f0f921\"]], \"type\": \"heatmap\"}], \"heatmapgl\": [{\"colorbar\": {\"outlinewidth\": 0, \"ticks\": \"\"}, \"colorscale\": [[0.0, \"#0d0887\"], [0.1111111111111111, \"#46039f\"], [0.2222222222222222, \"#7201a8\"], [0.3333333333333333, \"#9c179e\"], [0.4444444444444444, \"#bd3786\"], [0.5555555555555556, \"#d8576b\"], [0.6666666666666666, \"#ed7953\"], [0.7777777777777778, \"#fb9f3a\"], [0.8888888888888888, \"#fdca26\"], [1.0, \"#f0f921\"]], \"type\": \"heatmapgl\"}], \"histogram\": [{\"marker\": {\"colorbar\": {\"outlinewidth\": 0, \"ticks\": \"\"}}, \"type\": \"histogram\"}], \"histogram2d\": [{\"colorbar\": {\"outlinewidth\": 0, \"ticks\": \"\"}, \"colorscale\": [[0.0, \"#0d0887\"], [0.1111111111111111, \"#46039f\"], [0.2222222222222222, \"#7201a8\"], [0.3333333333333333, \"#9c179e\"], [0.4444444444444444, \"#bd3786\"], [0.5555555555555556, \"#d8576b\"], [0.6666666666666666, \"#ed7953\"], [0.7777777777777778, \"#fb9f3a\"], [0.8888888888888888, \"#fdca26\"], [1.0, \"#f0f921\"]], \"type\": \"histogram2d\"}], \"histogram2dcontour\": [{\"colorbar\": {\"outlinewidth\": 0, \"ticks\": \"\"}, \"colorscale\": [[0.0, \"#0d0887\"], [0.1111111111111111, \"#46039f\"], [0.2222222222222222, \"#7201a8\"], [0.3333333333333333, \"#9c179e\"], [0.4444444444444444, \"#bd3786\"], [0.5555555555555556, \"#d8576b\"], [0.6666666666666666, \"#ed7953\"], [0.7777777777777778, \"#fb9f3a\"], [0.8888888888888888, \"#fdca26\"], [1.0, \"#f0f921\"]], \"type\": \"histogram2dcontour\"}], \"mesh3d\": [{\"colorbar\": {\"outlinewidth\": 0, \"ticks\": \"\"}, \"type\": \"mesh3d\"}], \"parcoords\": [{\"line\": {\"colorbar\": {\"outlinewidth\": 0, \"ticks\": \"\"}}, \"type\": \"parcoords\"}], \"pie\": [{\"automargin\": true, \"type\": \"pie\"}], \"scatter\": [{\"marker\": {\"colorbar\": {\"outlinewidth\": 0, \"ticks\": \"\"}}, \"type\": \"scatter\"}], \"scatter3d\": [{\"line\": {\"colorbar\": {\"outlinewidth\": 0, \"ticks\": \"\"}}, \"marker\": {\"colorbar\": {\"outlinewidth\": 0, \"ticks\": \"\"}}, \"type\": \"scatter3d\"}], \"scattercarpet\": [{\"marker\": {\"colorbar\": {\"outlinewidth\": 0, \"ticks\": \"\"}}, \"type\": \"scattercarpet\"}], \"scattergeo\": [{\"marker\": {\"colorbar\": {\"outlinewidth\": 0, \"ticks\": \"\"}}, \"type\": \"scattergeo\"}], \"scattergl\": [{\"marker\": {\"colorbar\": {\"outlinewidth\": 0, \"ticks\": \"\"}}, \"type\": \"scattergl\"}], \"scattermapbox\": [{\"marker\": {\"colorbar\": {\"outlinewidth\": 0, \"ticks\": \"\"}}, \"type\": \"scattermapbox\"}], \"scatterpolar\": [{\"marker\": {\"colorbar\": {\"outlinewidth\": 0, \"ticks\": \"\"}}, \"type\": \"scatterpolar\"}], \"scatterpolargl\": [{\"marker\": {\"colorbar\": {\"outlinewidth\": 0, \"ticks\": \"\"}}, \"type\": \"scatterpolargl\"}], \"scatterternary\": [{\"marker\": {\"colorbar\": {\"outlinewidth\": 0, \"ticks\": \"\"}}, \"type\": \"scatterternary\"}], \"surface\": [{\"colorbar\": {\"outlinewidth\": 0, \"ticks\": \"\"}, \"colorscale\": [[0.0, \"#0d0887\"], [0.1111111111111111, \"#46039f\"], [0.2222222222222222, \"#7201a8\"], [0.3333333333333333, \"#9c179e\"], [0.4444444444444444, \"#bd3786\"], [0.5555555555555556, \"#d8576b\"], [0.6666666666666666, \"#ed7953\"], [0.7777777777777778, \"#fb9f3a\"], [0.8888888888888888, \"#fdca26\"], [1.0, \"#f0f921\"]], \"type\": \"surface\"}], \"table\": [{\"cells\": {\"fill\": {\"color\": \"#EBF0F8\"}, \"line\": {\"color\": \"white\"}}, \"header\": {\"fill\": {\"color\": \"#C8D4E3\"}, \"line\": {\"color\": \"white\"}}, \"type\": \"table\"}]}, \"layout\": {\"annotationdefaults\": {\"arrowcolor\": \"#2a3f5f\", \"arrowhead\": 0, \"arrowwidth\": 1}, \"autotypenumbers\": \"strict\", \"coloraxis\": {\"colorbar\": {\"outlinewidth\": 0, \"ticks\": \"\"}}, \"colorscale\": {\"diverging\": [[0, \"#8e0152\"], [0.1, \"#c51b7d\"], [0.2, \"#de77ae\"], [0.3, \"#f1b6da\"], [0.4, \"#fde0ef\"], [0.5, \"#f7f7f7\"], [0.6, \"#e6f5d0\"], [0.7, \"#b8e186\"], [0.8, \"#7fbc41\"], [0.9, \"#4d9221\"], [1, \"#276419\"]], \"sequential\": [[0.0, \"#0d0887\"], [0.1111111111111111, \"#46039f\"], [0.2222222222222222, \"#7201a8\"], [0.3333333333333333, \"#9c179e\"], [0.4444444444444444, \"#bd3786\"], [0.5555555555555556, \"#d8576b\"], [0.6666666666666666, \"#ed7953\"], [0.7777777777777778, \"#fb9f3a\"], [0.8888888888888888, \"#fdca26\"], [1.0, \"#f0f921\"]], \"sequentialminus\": [[0.0, \"#0d0887\"], [0.1111111111111111, \"#46039f\"], [0.2222222222222222, \"#7201a8\"], [0.3333333333333333, \"#9c179e\"], [0.4444444444444444, \"#bd3786\"], [0.5555555555555556, \"#d8576b\"], [0.6666666666666666, \"#ed7953\"], [0.7777777777777778, \"#fb9f3a\"], [0.8888888888888888, \"#fdca26\"], [1.0, \"#f0f921\"]]}, \"colorway\": [\"#636efa\", \"#EF553B\", \"#00cc96\", \"#ab63fa\", \"#FFA15A\", \"#19d3f3\", \"#FF6692\", \"#B6E880\", \"#FF97FF\", \"#FECB52\"], \"font\": {\"color\": \"#2a3f5f\"}, \"geo\": {\"bgcolor\": \"white\", \"lakecolor\": \"white\", \"landcolor\": \"#E5ECF6\", \"showlakes\": true, \"showland\": true, \"subunitcolor\": \"white\"}, \"hoverlabel\": {\"align\": \"left\"}, \"hovermode\": \"closest\", \"mapbox\": {\"style\": \"light\"}, \"paper_bgcolor\": \"white\", \"plot_bgcolor\": \"#E5ECF6\", \"polar\": {\"angularaxis\": {\"gridcolor\": \"white\", \"linecolor\": \"white\", \"ticks\": \"\"}, \"bgcolor\": \"#E5ECF6\", \"radialaxis\": {\"gridcolor\": \"white\", \"linecolor\": \"white\", \"ticks\": \"\"}}, \"scene\": {\"xaxis\": {\"backgroundcolor\": \"#E5ECF6\", \"gridcolor\": \"white\", \"gridwidth\": 2, \"linecolor\": \"white\", \"showbackground\": true, \"ticks\": \"\", \"zerolinecolor\": \"white\"}, \"yaxis\": {\"backgroundcolor\": \"#E5ECF6\", \"gridcolor\": \"white\", \"gridwidth\": 2, \"linecolor\": \"white\", \"showbackground\": true, \"ticks\": \"\", \"zerolinecolor\": \"white\"}, \"zaxis\": {\"backgroundcolor\": \"#E5ECF6\", \"gridcolor\": \"white\", \"gridwidth\": 2, \"linecolor\": \"white\", \"showbackground\": true, \"ticks\": \"\", \"zerolinecolor\": \"white\"}}, \"shapedefaults\": {\"line\": {\"color\": \"#2a3f5f\"}}, \"ternary\": {\"aaxis\": {\"gridcolor\": \"white\", \"linecolor\": \"white\", \"ticks\": \"\"}, \"baxis\": {\"gridcolor\": \"white\", \"linecolor\": \"white\", \"ticks\": \"\"}, \"bgcolor\": \"#E5ECF6\", \"caxis\": {\"gridcolor\": \"white\", \"linecolor\": \"white\", \"ticks\": \"\"}}, \"title\": {\"x\": 0.05}, \"xaxis\": {\"automargin\": true, \"gridcolor\": \"white\", \"linecolor\": \"white\", \"ticks\": \"\", \"title\": {\"standoff\": 15}, \"zerolinecolor\": \"white\", \"zerolinewidth\": 2}, \"yaxis\": {\"automargin\": true, \"gridcolor\": \"white\", \"linecolor\": \"white\", \"ticks\": \"\", \"title\": {\"standoff\": 15}, \"zerolinecolor\": \"white\", \"zerolinewidth\": 2}}}, \"title\": {\"text\": \"Before and After the pendanmic\"}, \"width\": 1000, \"xaxis\": {\"anchor\": \"y\", \"domain\": [0.0, 0.45]}, \"xaxis2\": {\"anchor\": \"y2\", \"domain\": [0.55, 1.0]}, \"yaxis\": {\"anchor\": \"x\", \"domain\": [0.0, 1.0]}, \"yaxis2\": {\"anchor\": \"x2\", \"domain\": [0.0, 1.0]}},                        {\"responsive\": true}                    ).then(function(){\n",
       "                            \n",
       "var gd = document.getElementById('bd76e192-242e-4f71-bccf-e6a3d157606f');\n",
       "var x = new MutationObserver(function (mutations, observer) {{\n",
       "        var display = window.getComputedStyle(gd).display;\n",
       "        if (!display || display === 'none') {{\n",
       "            console.log([gd, 'removed!']);\n",
       "            Plotly.purge(gd);\n",
       "            observer.disconnect();\n",
       "        }}\n",
       "}});\n",
       "\n",
       "// Listen for the removal of the full notebook cells\n",
       "var notebookContainer = gd.closest('#notebook-container');\n",
       "if (notebookContainer) {{\n",
       "    x.observe(notebookContainer, {childList: true});\n",
       "}}\n",
       "\n",
       "// Listen for the clearing of the current output cell\n",
       "var outputEl = gd.closest('.output');\n",
       "if (outputEl) {{\n",
       "    x.observe(outputEl, {childList: true});\n",
       "}}\n",
       "\n",
       "                        })                };                });            </script>        </div>"
      ]
     },
     "metadata": {},
     "output_type": "display_data"
    },
    {
     "data": {
      "application/vnd.plotly.v1+json": {
       "config": {
        "plotlyServerURL": "https://plot.ly"
       },
       "data": [
        {
         "customdata": [
          [
           "4"
          ],
          [
           "4"
          ],
          [
           "4"
          ],
          [
           "4"
          ],
          [
           "4"
          ],
          [
           "4"
          ],
          [
           "4"
          ],
          [
           "4"
          ],
          [
           "4"
          ],
          [
           "4"
          ],
          [
           "4"
          ],
          [
           "4"
          ],
          [
           "4"
          ],
          [
           "4"
          ],
          [
           "4"
          ],
          [
           "4"
          ],
          [
           "4"
          ],
          [
           "4"
          ],
          [
           "4"
          ],
          [
           "4"
          ],
          [
           "4"
          ],
          [
           "4"
          ],
          [
           "4"
          ],
          [
           "4"
          ],
          [
           "4"
          ],
          [
           "4"
          ]
         ],
         "hovertemplate": "room_type=%{customdata[0]}<br>date=%{x}<br>price=%{y}<extra></extra>",
         "legendgroup": "4",
         "marker": {
          "color": "#636efa",
          "symbol": "circle"
         },
         "mode": "markers",
         "name": "4",
         "orientation": "v",
         "showlegend": true,
         "type": "scatter",
         "x": [
          "2021-03-02T00:00:00",
          "2021-02-03T00:00:00",
          "2021-01-24T00:00:00",
          "2021-01-20T00:00:00",
          "2020-12-06T00:00:00",
          "2020-11-22T00:00:00",
          "2020-11-15T00:00:00",
          "2020-09-15T00:00:00",
          "2020-08-05T00:00:00",
          "2020-06-24T00:00:00",
          "2020-06-10T00:00:00",
          "2020-02-27T00:00:00",
          "2019-12-13T00:00:00",
          "2019-10-22T00:00:00",
          "2019-10-15T00:00:00",
          "2018-10-31T00:00:00",
          "2018-01-03T00:00:00",
          "2017-11-08T00:00:00",
          "2017-11-02T00:00:00",
          "2017-02-23T00:00:00",
          "2017-02-14T00:00:00",
          "2017-01-20T00:00:00",
          "2016-07-22T00:00:00",
          "2015-12-16T00:00:00",
          "2015-01-28T00:00:00",
          "2014-12-31T00:00:00"
         ],
         "xaxis": "x",
         "y": [
          420,
          510,
          460,
          460,
          500,
          390,
          460,
          450,
          530,
          600,
          650,
          650,
          650,
          630,
          640,
          660,
          650,
          690,
          580,
          650,
          565,
          640,
          572,
          530,
          600,
          468
         ],
         "yaxis": "y"
        },
        {
         "customdata": [
          [
           "7"
          ],
          [
           "7"
          ],
          [
           "7"
          ],
          [
           "7"
          ],
          [
           "7"
          ],
          [
           "7"
          ],
          [
           "7"
          ],
          [
           "7"
          ],
          [
           "7"
          ],
          [
           "7"
          ],
          [
           "7"
          ],
          [
           "7"
          ],
          [
           "7"
          ],
          [
           "7"
          ],
          [
           "7"
          ],
          [
           "7"
          ],
          [
           "7"
          ],
          [
           "7"
          ],
          [
           "7"
          ],
          [
           "7"
          ],
          [
           "7"
          ],
          [
           "7"
          ],
          [
           "7"
          ],
          [
           "7"
          ]
         ],
         "hovertemplate": "room_type=%{customdata[0]}<br>date=%{x}<br>price=%{y}<extra></extra>",
         "legendgroup": "7",
         "marker": {
          "color": "#EF553B",
          "symbol": "circle"
         },
         "mode": "markers",
         "name": "7",
         "orientation": "v",
         "showlegend": true,
         "type": "scatter",
         "x": [
          "2021-02-24T00:00:00",
          "2021-01-28T00:00:00",
          "2020-12-23T00:00:00",
          "2020-12-02T00:00:00",
          "2020-11-27T00:00:00",
          "2020-11-27T00:00:00",
          "2020-11-18T00:00:00",
          "2020-10-04T00:00:00",
          "2020-07-29T00:00:00",
          "2020-07-15T00:00:00",
          "2020-04-15T00:00:00",
          "2020-04-15T00:00:00",
          "2020-02-27T00:00:00",
          "2019-07-14T00:00:00",
          "2019-01-09T00:00:00",
          "2018-12-11T00:00:00",
          "2018-11-14T00:00:00",
          "2018-02-07T00:00:00",
          "2018-01-31T00:00:00",
          "2017-09-17T00:00:00",
          "2017-01-13T00:00:00",
          "2016-01-20T00:00:00",
          "2015-12-03T00:00:00",
          "2015-06-24T00:00:00"
         ],
         "xaxis": "x",
         "y": [
          520,
          430,
          500,
          390,
          450,
          400,
          450,
          430,
          500,
          530,
          600,
          670,
          662,
          652,
          630,
          630,
          620,
          650,
          690,
          580,
          590,
          560,
          561,
          600
         ],
         "yaxis": "y"
        },
        {
         "customdata": [
          [
           "9"
          ],
          [
           "9"
          ],
          [
           "9"
          ],
          [
           "9"
          ],
          [
           "9"
          ],
          [
           "9"
          ],
          [
           "9"
          ],
          [
           "9"
          ],
          [
           "9"
          ],
          [
           "9"
          ],
          [
           "9"
          ],
          [
           "9"
          ],
          [
           "9"
          ],
          [
           "9"
          ],
          [
           "9"
          ],
          [
           "9"
          ],
          [
           "9"
          ]
         ],
         "hovertemplate": "room_type=%{customdata[0]}<br>date=%{x}<br>price=%{y}<extra></extra>",
         "legendgroup": "9",
         "marker": {
          "color": "#00cc96",
          "symbol": "circle"
         },
         "mode": "markers",
         "name": "9",
         "orientation": "v",
         "showlegend": true,
         "type": "scatter",
         "x": [
          "2021-02-24T00:00:00",
          "2021-01-17T00:00:00",
          "2020-12-18T00:00:00",
          "2020-12-06T00:00:00",
          "2020-12-06T00:00:00",
          "2020-02-13T00:00:00",
          "2020-02-13T00:00:00",
          "2020-01-30T00:00:00",
          "2020-01-10T00:00:00",
          "2019-10-15T00:00:00",
          "2019-03-06T00:00:00",
          "2019-02-06T00:00:00",
          "2018-08-15T00:00:00",
          "2018-01-18T00:00:00",
          "2017-11-29T00:00:00",
          "2016-07-13T00:00:00",
          "2014-12-25T00:00:00"
         ],
         "xaxis": "x",
         "y": [
          560,
          650,
          595,
          580,
          680,
          760,
          840,
          900,
          840,
          820,
          820,
          700,
          800,
          670,
          720,
          720,
          650
         ],
         "yaxis": "y"
        },
        {
         "customdata": [
          [
           "10"
          ],
          [
           "10"
          ],
          [
           "10"
          ],
          [
           "10"
          ],
          [
           "10"
          ],
          [
           "10"
          ],
          [
           "10"
          ],
          [
           "10"
          ],
          [
           "10"
          ],
          [
           "10"
          ],
          [
           "10"
          ],
          [
           "10"
          ],
          [
           "10"
          ],
          [
           "10"
          ],
          [
           "10"
          ],
          [
           "10"
          ],
          [
           "10"
          ],
          [
           "10"
          ],
          [
           "10"
          ],
          [
           "10"
          ],
          [
           "10"
          ],
          [
           "10"
          ]
         ],
         "hovertemplate": "room_type=%{customdata[0]}<br>date=%{x}<br>price=%{y}<extra></extra>",
         "legendgroup": "10",
         "marker": {
          "color": "#ab63fa",
          "symbol": "circle"
         },
         "mode": "markers",
         "name": "10",
         "orientation": "v",
         "showlegend": true,
         "type": "scatter",
         "x": [
          "2021-02-10T00:00:00",
          "2021-02-10T00:00:00",
          "2020-04-15T00:00:00",
          "2020-01-16T00:00:00",
          "2019-11-01T00:00:00",
          "2019-01-23T00:00:00",
          "2019-01-23T00:00:00",
          "2019-01-10T00:00:00",
          "2019-01-09T00:00:00",
          "2019-01-09T00:00:00",
          "2018-08-22T00:00:00",
          "2018-07-18T00:00:00",
          "2018-07-18T00:00:00",
          "2018-02-02T00:00:00",
          "2017-06-08T00:00:00",
          "2017-02-12T00:00:00",
          "2016-11-13T00:00:00",
          "2016-08-19T00:00:00",
          "2016-08-17T00:00:00",
          "2016-07-22T00:00:00",
          "2016-03-16T00:00:00",
          "2014-12-31T00:00:00"
         ],
         "xaxis": "x",
         "y": [
          580,
          620,
          700,
          820,
          700,
          720,
          730,
          810,
          730,
          820,
          800,
          780,
          730,
          800,
          720,
          740,
          690,
          800,
          750,
          750,
          800,
          630
         ],
         "yaxis": "y"
        },
        {
         "customdata": [
          [
           "2"
          ],
          [
           "2"
          ],
          [
           "2"
          ],
          [
           "2"
          ],
          [
           "2"
          ],
          [
           "2"
          ],
          [
           "2"
          ],
          [
           "2"
          ],
          [
           "2"
          ],
          [
           "2"
          ],
          [
           "2"
          ],
          [
           "2"
          ],
          [
           "2"
          ],
          [
           "2"
          ],
          [
           "2"
          ],
          [
           "2"
          ],
          [
           "2"
          ],
          [
           "2"
          ]
         ],
         "hovertemplate": "room_type=%{customdata[0]}<br>date=%{x}<br>price=%{y}<extra></extra>",
         "legendgroup": "2",
         "marker": {
          "color": "#FFA15A",
          "symbol": "circle"
         },
         "mode": "markers",
         "name": "2",
         "orientation": "v",
         "showlegend": true,
         "type": "scatter",
         "x": [
          "2021-02-04T00:00:00",
          "2021-01-08T00:00:00",
          "2020-10-27T00:00:00",
          "2020-05-30T00:00:00",
          "2020-04-15T00:00:00",
          "2019-12-05T00:00:00",
          "2019-11-20T00:00:00",
          "2019-10-16T00:00:00",
          "2019-08-06T00:00:00",
          "2018-11-21T00:00:00",
          "2018-08-16T00:00:00",
          "2018-07-15T00:00:00",
          "2018-02-21T00:00:00",
          "2018-02-09T00:00:00",
          "2017-07-12T00:00:00",
          "2016-11-24T00:00:00",
          "2015-03-27T00:00:00",
          "2014-12-31T00:00:00"
         ],
         "xaxis": "x",
         "y": [
          650,
          650,
          650,
          720,
          800,
          820,
          840,
          722,
          820,
          850,
          750,
          800,
          800,
          700,
          730,
          750,
          725,
          580
         ],
         "yaxis": "y"
        },
        {
         "customdata": [
          [
           "1"
          ],
          [
           "1"
          ],
          [
           "1"
          ],
          [
           "1"
          ],
          [
           "1"
          ],
          [
           "1"
          ],
          [
           "1"
          ],
          [
           "1"
          ],
          [
           "1"
          ],
          [
           "1"
          ],
          [
           "1"
          ],
          [
           "1"
          ],
          [
           "1"
          ],
          [
           "1"
          ],
          [
           "1"
          ],
          [
           "1"
          ],
          [
           "1"
          ],
          [
           "1"
          ],
          [
           "1"
          ]
         ],
         "hovertemplate": "room_type=%{customdata[0]}<br>date=%{x}<br>price=%{y}<extra></extra>",
         "legendgroup": "1",
         "marker": {
          "color": "#19d3f3",
          "symbol": "circle"
         },
         "mode": "markers",
         "name": "1",
         "orientation": "v",
         "showlegend": true,
         "type": "scatter",
         "x": [
          "2021-01-31T00:00:00",
          "2021-01-24T00:00:00",
          "2021-01-22T00:00:00",
          "2021-01-14T00:00:00",
          "2020-12-11T00:00:00",
          "2020-05-13T00:00:00",
          "2020-04-15T00:00:00",
          "2019-03-08T00:00:00",
          "2019-01-30T00:00:00",
          "2018-11-21T00:00:00",
          "2018-04-11T00:00:00",
          "2017-11-15T00:00:00",
          "2017-01-13T00:00:00",
          "2016-11-11T00:00:00",
          "2016-10-20T00:00:00",
          "2016-02-24T00:00:00",
          "2015-12-02T00:00:00",
          "2015-10-01T00:00:00",
          "2015-04-16T00:00:00"
         ],
         "xaxis": "x",
         "y": [
          600,
          550,
          660,
          650,
          580,
          490,
          800,
          750,
          802,
          850,
          680,
          690,
          760,
          720,
          710,
          720,
          750,
          882,
          682
         ],
         "yaxis": "y"
        },
        {
         "customdata": [
          [
           "8"
          ],
          [
           "8"
          ],
          [
           "8"
          ],
          [
           "8"
          ],
          [
           "8"
          ],
          [
           "8"
          ],
          [
           "8"
          ],
          [
           "8"
          ],
          [
           "8"
          ],
          [
           "8"
          ],
          [
           "8"
          ],
          [
           "8"
          ],
          [
           "8"
          ],
          [
           "8"
          ],
          [
           "8"
          ],
          [
           "8"
          ],
          [
           "8"
          ],
          [
           "8"
          ],
          [
           "8"
          ]
         ],
         "hovertemplate": "room_type=%{customdata[0]}<br>date=%{x}<br>price=%{y}<extra></extra>",
         "legendgroup": "8",
         "marker": {
          "color": "#FF6692",
          "symbol": "circle"
         },
         "mode": "markers",
         "name": "8",
         "orientation": "v",
         "showlegend": true,
         "type": "scatter",
         "x": [
          "2021-01-20T00:00:00",
          "2021-01-06T00:00:00",
          "2020-02-27T00:00:00",
          "2020-01-09T00:00:00",
          "2019-12-17T00:00:00",
          "2019-10-24T00:00:00",
          "2019-05-16T00:00:00",
          "2019-02-27T00:00:00",
          "2019-01-02T00:00:00",
          "2018-04-18T00:00:00",
          "2018-03-21T00:00:00",
          "2017-12-20T00:00:00",
          "2017-06-21T00:00:00",
          "2017-01-20T00:00:00",
          "2017-01-13T00:00:00",
          "2016-02-21T00:00:00",
          "2016-01-14T00:00:00",
          "2016-01-13T00:00:00",
          "2014-12-17T00:00:00"
         ],
         "xaxis": "x",
         "y": [
          600,
          550,
          780,
          700,
          682,
          700,
          680,
          750,
          780,
          760,
          690,
          651,
          800,
          742,
          720,
          650,
          700,
          640,
          675
         ],
         "yaxis": "y"
        },
        {
         "customdata": [
          [
           "3"
          ],
          [
           "3"
          ],
          [
           "3"
          ],
          [
           "3"
          ],
          [
           "3"
          ],
          [
           "3"
          ],
          [
           "3"
          ],
          [
           "3"
          ],
          [
           "3"
          ],
          [
           "3"
          ],
          [
           "3"
          ],
          [
           "3"
          ],
          [
           "3"
          ],
          [
           "3"
          ],
          [
           "3"
          ],
          [
           "3"
          ],
          [
           "3"
          ],
          [
           "3"
          ],
          [
           "3"
          ],
          [
           "3"
          ],
          [
           "3"
          ]
         ],
         "hovertemplate": "room_type=%{customdata[0]}<br>date=%{x}<br>price=%{y}<extra></extra>",
         "legendgroup": "3",
         "marker": {
          "color": "#B6E880",
          "symbol": "circle"
         },
         "mode": "markers",
         "name": "3",
         "orientation": "v",
         "showlegend": true,
         "type": "scatter",
         "x": [
          "2020-12-06T00:00:00",
          "2020-12-03T00:00:00",
          "2020-07-01T00:00:00",
          "2020-06-03T00:00:00",
          "2020-01-23T00:00:00",
          "2019-10-18T00:00:00",
          "2019-08-23T00:00:00",
          "2019-08-01T00:00:00",
          "2019-07-12T00:00:00",
          "2019-02-20T00:00:00",
          "2019-02-06T00:00:00",
          "2018-07-17T00:00:00",
          "2018-02-28T00:00:00",
          "2018-02-21T00:00:00",
          "2018-01-10T00:00:00",
          "2017-02-05T00:00:00",
          "2016-10-20T00:00:00",
          "2016-09-09T00:00:00",
          "2016-01-27T00:00:00",
          "2016-01-06T00:00:00",
          "2015-03-25T00:00:00"
         ],
         "xaxis": "x",
         "y": [
          580,
          580,
          580,
          600,
          730,
          620,
          600,
          680,
          700,
          700,
          780,
          760,
          680,
          660,
          670,
          660,
          660,
          570,
          650,
          630,
          625
         ],
         "yaxis": "y"
        },
        {
         "customdata": [
          [
           "11"
          ],
          [
           "11"
          ]
         ],
         "hovertemplate": "room_type=%{customdata[0]}<br>date=%{x}<br>price=%{y}<extra></extra>",
         "legendgroup": "11",
         "marker": {
          "color": "#FF97FF",
          "symbol": "circle"
         },
         "mode": "markers",
         "name": "11",
         "orientation": "v",
         "showlegend": true,
         "type": "scatter",
         "x": [
          "2019-12-12T00:00:00",
          "2018-11-14T00:00:00"
         ],
         "xaxis": "x",
         "y": [
          780,
          720
         ],
         "yaxis": "y"
        },
        {
         "customdata": [
          [
           "6"
          ],
          [
           "6"
          ]
         ],
         "hovertemplate": "room_type=%{customdata[0]}<br>date=%{x}<br>price=%{y}<extra></extra>",
         "legendgroup": "6",
         "marker": {
          "color": "#FECB52",
          "symbol": "circle"
         },
         "mode": "markers",
         "name": "6",
         "orientation": "v",
         "showlegend": true,
         "type": "scatter",
         "x": [
          "2019-02-20T00:00:00",
          "2015-08-20T00:00:00"
         ],
         "xaxis": "x",
         "y": [
          720,
          602
         ],
         "yaxis": "y"
        }
       ],
       "layout": {
        "height": 400,
        "legend": {
         "title": {
          "text": "room_type"
         },
         "tracegroupgap": 0
        },
        "margin": {
         "t": 60
        },
        "template": {
         "data": {
          "bar": [
           {
            "error_x": {
             "color": "#2a3f5f"
            },
            "error_y": {
             "color": "#2a3f5f"
            },
            "marker": {
             "line": {
              "color": "#E5ECF6",
              "width": 0.5
             }
            },
            "type": "bar"
           }
          ],
          "barpolar": [
           {
            "marker": {
             "line": {
              "color": "#E5ECF6",
              "width": 0.5
             }
            },
            "type": "barpolar"
           }
          ],
          "carpet": [
           {
            "aaxis": {
             "endlinecolor": "#2a3f5f",
             "gridcolor": "white",
             "linecolor": "white",
             "minorgridcolor": "white",
             "startlinecolor": "#2a3f5f"
            },
            "baxis": {
             "endlinecolor": "#2a3f5f",
             "gridcolor": "white",
             "linecolor": "white",
             "minorgridcolor": "white",
             "startlinecolor": "#2a3f5f"
            },
            "type": "carpet"
           }
          ],
          "choropleth": [
           {
            "colorbar": {
             "outlinewidth": 0,
             "ticks": ""
            },
            "type": "choropleth"
           }
          ],
          "contour": [
           {
            "colorbar": {
             "outlinewidth": 0,
             "ticks": ""
            },
            "colorscale": [
             [
              0,
              "#0d0887"
             ],
             [
              0.1111111111111111,
              "#46039f"
             ],
             [
              0.2222222222222222,
              "#7201a8"
             ],
             [
              0.3333333333333333,
              "#9c179e"
             ],
             [
              0.4444444444444444,
              "#bd3786"
             ],
             [
              0.5555555555555556,
              "#d8576b"
             ],
             [
              0.6666666666666666,
              "#ed7953"
             ],
             [
              0.7777777777777778,
              "#fb9f3a"
             ],
             [
              0.8888888888888888,
              "#fdca26"
             ],
             [
              1,
              "#f0f921"
             ]
            ],
            "type": "contour"
           }
          ],
          "contourcarpet": [
           {
            "colorbar": {
             "outlinewidth": 0,
             "ticks": ""
            },
            "type": "contourcarpet"
           }
          ],
          "heatmap": [
           {
            "colorbar": {
             "outlinewidth": 0,
             "ticks": ""
            },
            "colorscale": [
             [
              0,
              "#0d0887"
             ],
             [
              0.1111111111111111,
              "#46039f"
             ],
             [
              0.2222222222222222,
              "#7201a8"
             ],
             [
              0.3333333333333333,
              "#9c179e"
             ],
             [
              0.4444444444444444,
              "#bd3786"
             ],
             [
              0.5555555555555556,
              "#d8576b"
             ],
             [
              0.6666666666666666,
              "#ed7953"
             ],
             [
              0.7777777777777778,
              "#fb9f3a"
             ],
             [
              0.8888888888888888,
              "#fdca26"
             ],
             [
              1,
              "#f0f921"
             ]
            ],
            "type": "heatmap"
           }
          ],
          "heatmapgl": [
           {
            "colorbar": {
             "outlinewidth": 0,
             "ticks": ""
            },
            "colorscale": [
             [
              0,
              "#0d0887"
             ],
             [
              0.1111111111111111,
              "#46039f"
             ],
             [
              0.2222222222222222,
              "#7201a8"
             ],
             [
              0.3333333333333333,
              "#9c179e"
             ],
             [
              0.4444444444444444,
              "#bd3786"
             ],
             [
              0.5555555555555556,
              "#d8576b"
             ],
             [
              0.6666666666666666,
              "#ed7953"
             ],
             [
              0.7777777777777778,
              "#fb9f3a"
             ],
             [
              0.8888888888888888,
              "#fdca26"
             ],
             [
              1,
              "#f0f921"
             ]
            ],
            "type": "heatmapgl"
           }
          ],
          "histogram": [
           {
            "marker": {
             "colorbar": {
              "outlinewidth": 0,
              "ticks": ""
             }
            },
            "type": "histogram"
           }
          ],
          "histogram2d": [
           {
            "colorbar": {
             "outlinewidth": 0,
             "ticks": ""
            },
            "colorscale": [
             [
              0,
              "#0d0887"
             ],
             [
              0.1111111111111111,
              "#46039f"
             ],
             [
              0.2222222222222222,
              "#7201a8"
             ],
             [
              0.3333333333333333,
              "#9c179e"
             ],
             [
              0.4444444444444444,
              "#bd3786"
             ],
             [
              0.5555555555555556,
              "#d8576b"
             ],
             [
              0.6666666666666666,
              "#ed7953"
             ],
             [
              0.7777777777777778,
              "#fb9f3a"
             ],
             [
              0.8888888888888888,
              "#fdca26"
             ],
             [
              1,
              "#f0f921"
             ]
            ],
            "type": "histogram2d"
           }
          ],
          "histogram2dcontour": [
           {
            "colorbar": {
             "outlinewidth": 0,
             "ticks": ""
            },
            "colorscale": [
             [
              0,
              "#0d0887"
             ],
             [
              0.1111111111111111,
              "#46039f"
             ],
             [
              0.2222222222222222,
              "#7201a8"
             ],
             [
              0.3333333333333333,
              "#9c179e"
             ],
             [
              0.4444444444444444,
              "#bd3786"
             ],
             [
              0.5555555555555556,
              "#d8576b"
             ],
             [
              0.6666666666666666,
              "#ed7953"
             ],
             [
              0.7777777777777778,
              "#fb9f3a"
             ],
             [
              0.8888888888888888,
              "#fdca26"
             ],
             [
              1,
              "#f0f921"
             ]
            ],
            "type": "histogram2dcontour"
           }
          ],
          "mesh3d": [
           {
            "colorbar": {
             "outlinewidth": 0,
             "ticks": ""
            },
            "type": "mesh3d"
           }
          ],
          "parcoords": [
           {
            "line": {
             "colorbar": {
              "outlinewidth": 0,
              "ticks": ""
             }
            },
            "type": "parcoords"
           }
          ],
          "pie": [
           {
            "automargin": true,
            "type": "pie"
           }
          ],
          "scatter": [
           {
            "marker": {
             "colorbar": {
              "outlinewidth": 0,
              "ticks": ""
             }
            },
            "type": "scatter"
           }
          ],
          "scatter3d": [
           {
            "line": {
             "colorbar": {
              "outlinewidth": 0,
              "ticks": ""
             }
            },
            "marker": {
             "colorbar": {
              "outlinewidth": 0,
              "ticks": ""
             }
            },
            "type": "scatter3d"
           }
          ],
          "scattercarpet": [
           {
            "marker": {
             "colorbar": {
              "outlinewidth": 0,
              "ticks": ""
             }
            },
            "type": "scattercarpet"
           }
          ],
          "scattergeo": [
           {
            "marker": {
             "colorbar": {
              "outlinewidth": 0,
              "ticks": ""
             }
            },
            "type": "scattergeo"
           }
          ],
          "scattergl": [
           {
            "marker": {
             "colorbar": {
              "outlinewidth": 0,
              "ticks": ""
             }
            },
            "type": "scattergl"
           }
          ],
          "scattermapbox": [
           {
            "marker": {
             "colorbar": {
              "outlinewidth": 0,
              "ticks": ""
             }
            },
            "type": "scattermapbox"
           }
          ],
          "scatterpolar": [
           {
            "marker": {
             "colorbar": {
              "outlinewidth": 0,
              "ticks": ""
             }
            },
            "type": "scatterpolar"
           }
          ],
          "scatterpolargl": [
           {
            "marker": {
             "colorbar": {
              "outlinewidth": 0,
              "ticks": ""
             }
            },
            "type": "scatterpolargl"
           }
          ],
          "scatterternary": [
           {
            "marker": {
             "colorbar": {
              "outlinewidth": 0,
              "ticks": ""
             }
            },
            "type": "scatterternary"
           }
          ],
          "surface": [
           {
            "colorbar": {
             "outlinewidth": 0,
             "ticks": ""
            },
            "colorscale": [
             [
              0,
              "#0d0887"
             ],
             [
              0.1111111111111111,
              "#46039f"
             ],
             [
              0.2222222222222222,
              "#7201a8"
             ],
             [
              0.3333333333333333,
              "#9c179e"
             ],
             [
              0.4444444444444444,
              "#bd3786"
             ],
             [
              0.5555555555555556,
              "#d8576b"
             ],
             [
              0.6666666666666666,
              "#ed7953"
             ],
             [
              0.7777777777777778,
              "#fb9f3a"
             ],
             [
              0.8888888888888888,
              "#fdca26"
             ],
             [
              1,
              "#f0f921"
             ]
            ],
            "type": "surface"
           }
          ],
          "table": [
           {
            "cells": {
             "fill": {
              "color": "#EBF0F8"
             },
             "line": {
              "color": "white"
             }
            },
            "header": {
             "fill": {
              "color": "#C8D4E3"
             },
             "line": {
              "color": "white"
             }
            },
            "type": "table"
           }
          ]
         },
         "layout": {
          "annotationdefaults": {
           "arrowcolor": "#2a3f5f",
           "arrowhead": 0,
           "arrowwidth": 1
          },
          "autotypenumbers": "strict",
          "coloraxis": {
           "colorbar": {
            "outlinewidth": 0,
            "ticks": ""
           }
          },
          "colorscale": {
           "diverging": [
            [
             0,
             "#8e0152"
            ],
            [
             0.1,
             "#c51b7d"
            ],
            [
             0.2,
             "#de77ae"
            ],
            [
             0.3,
             "#f1b6da"
            ],
            [
             0.4,
             "#fde0ef"
            ],
            [
             0.5,
             "#f7f7f7"
            ],
            [
             0.6,
             "#e6f5d0"
            ],
            [
             0.7,
             "#b8e186"
            ],
            [
             0.8,
             "#7fbc41"
            ],
            [
             0.9,
             "#4d9221"
            ],
            [
             1,
             "#276419"
            ]
           ],
           "sequential": [
            [
             0,
             "#0d0887"
            ],
            [
             0.1111111111111111,
             "#46039f"
            ],
            [
             0.2222222222222222,
             "#7201a8"
            ],
            [
             0.3333333333333333,
             "#9c179e"
            ],
            [
             0.4444444444444444,
             "#bd3786"
            ],
            [
             0.5555555555555556,
             "#d8576b"
            ],
            [
             0.6666666666666666,
             "#ed7953"
            ],
            [
             0.7777777777777778,
             "#fb9f3a"
            ],
            [
             0.8888888888888888,
             "#fdca26"
            ],
            [
             1,
             "#f0f921"
            ]
           ],
           "sequentialminus": [
            [
             0,
             "#0d0887"
            ],
            [
             0.1111111111111111,
             "#46039f"
            ],
            [
             0.2222222222222222,
             "#7201a8"
            ],
            [
             0.3333333333333333,
             "#9c179e"
            ],
            [
             0.4444444444444444,
             "#bd3786"
            ],
            [
             0.5555555555555556,
             "#d8576b"
            ],
            [
             0.6666666666666666,
             "#ed7953"
            ],
            [
             0.7777777777777778,
             "#fb9f3a"
            ],
            [
             0.8888888888888888,
             "#fdca26"
            ],
            [
             1,
             "#f0f921"
            ]
           ]
          },
          "colorway": [
           "#636efa",
           "#EF553B",
           "#00cc96",
           "#ab63fa",
           "#FFA15A",
           "#19d3f3",
           "#FF6692",
           "#B6E880",
           "#FF97FF",
           "#FECB52"
          ],
          "font": {
           "color": "#2a3f5f"
          },
          "geo": {
           "bgcolor": "white",
           "lakecolor": "white",
           "landcolor": "#E5ECF6",
           "showlakes": true,
           "showland": true,
           "subunitcolor": "white"
          },
          "hoverlabel": {
           "align": "left"
          },
          "hovermode": "closest",
          "mapbox": {
           "style": "light"
          },
          "paper_bgcolor": "white",
          "plot_bgcolor": "#E5ECF6",
          "polar": {
           "angularaxis": {
            "gridcolor": "white",
            "linecolor": "white",
            "ticks": ""
           },
           "bgcolor": "#E5ECF6",
           "radialaxis": {
            "gridcolor": "white",
            "linecolor": "white",
            "ticks": ""
           }
          },
          "scene": {
           "xaxis": {
            "backgroundcolor": "#E5ECF6",
            "gridcolor": "white",
            "gridwidth": 2,
            "linecolor": "white",
            "showbackground": true,
            "ticks": "",
            "zerolinecolor": "white"
           },
           "yaxis": {
            "backgroundcolor": "#E5ECF6",
            "gridcolor": "white",
            "gridwidth": 2,
            "linecolor": "white",
            "showbackground": true,
            "ticks": "",
            "zerolinecolor": "white"
           },
           "zaxis": {
            "backgroundcolor": "#E5ECF6",
            "gridcolor": "white",
            "gridwidth": 2,
            "linecolor": "white",
            "showbackground": true,
            "ticks": "",
            "zerolinecolor": "white"
           }
          },
          "shapedefaults": {
           "line": {
            "color": "#2a3f5f"
           }
          },
          "ternary": {
           "aaxis": {
            "gridcolor": "white",
            "linecolor": "white",
            "ticks": ""
           },
           "baxis": {
            "gridcolor": "white",
            "linecolor": "white",
            "ticks": ""
           },
           "bgcolor": "#E5ECF6",
           "caxis": {
            "gridcolor": "white",
            "linecolor": "white",
            "ticks": ""
           }
          },
          "title": {
           "x": 0.05
          },
          "xaxis": {
           "automargin": true,
           "gridcolor": "white",
           "linecolor": "white",
           "ticks": "",
           "title": {
            "standoff": 15
           },
           "zerolinecolor": "white",
           "zerolinewidth": 2
          },
          "yaxis": {
           "automargin": true,
           "gridcolor": "white",
           "linecolor": "white",
           "ticks": "",
           "title": {
            "standoff": 15
           },
           "zerolinecolor": "white",
           "zerolinewidth": 2
          }
         }
        },
        "width": 700,
        "xaxis": {
         "anchor": "y",
         "domain": [
          0,
          1
         ],
         "title": {
          "text": "date"
         }
        },
        "yaxis": {
         "anchor": "x",
         "domain": [
          0,
          1
         ],
         "title": {
          "text": "price"
         }
        }
       }
      },
      "text/html": [
       "<div>                            <div id=\"7125e3b4-4ae3-4d81-9943-4052d6abf07c\" class=\"plotly-graph-div\" style=\"height:400px; width:700px;\"></div>            <script type=\"text/javascript\">                require([\"plotly\"], function(Plotly) {                    window.PLOTLYENV=window.PLOTLYENV || {};                                    if (document.getElementById(\"7125e3b4-4ae3-4d81-9943-4052d6abf07c\")) {                    Plotly.newPlot(                        \"7125e3b4-4ae3-4d81-9943-4052d6abf07c\",                        [{\"customdata\": [[\"4\"], [\"4\"], [\"4\"], [\"4\"], [\"4\"], [\"4\"], [\"4\"], [\"4\"], [\"4\"], [\"4\"], [\"4\"], [\"4\"], [\"4\"], [\"4\"], [\"4\"], [\"4\"], [\"4\"], [\"4\"], [\"4\"], [\"4\"], [\"4\"], [\"4\"], [\"4\"], [\"4\"], [\"4\"], [\"4\"]], \"hovertemplate\": \"room_type=%{customdata[0]}<br>date=%{x}<br>price=%{y}<extra></extra>\", \"legendgroup\": \"4\", \"marker\": {\"color\": \"#636efa\", \"symbol\": \"circle\"}, \"mode\": \"markers\", \"name\": \"4\", \"orientation\": \"v\", \"showlegend\": true, \"type\": \"scatter\", \"x\": [\"2021-03-02T00:00:00\", \"2021-02-03T00:00:00\", \"2021-01-24T00:00:00\", \"2021-01-20T00:00:00\", \"2020-12-06T00:00:00\", \"2020-11-22T00:00:00\", \"2020-11-15T00:00:00\", \"2020-09-15T00:00:00\", \"2020-08-05T00:00:00\", \"2020-06-24T00:00:00\", \"2020-06-10T00:00:00\", \"2020-02-27T00:00:00\", \"2019-12-13T00:00:00\", \"2019-10-22T00:00:00\", \"2019-10-15T00:00:00\", \"2018-10-31T00:00:00\", \"2018-01-03T00:00:00\", \"2017-11-08T00:00:00\", \"2017-11-02T00:00:00\", \"2017-02-23T00:00:00\", \"2017-02-14T00:00:00\", \"2017-01-20T00:00:00\", \"2016-07-22T00:00:00\", \"2015-12-16T00:00:00\", \"2015-01-28T00:00:00\", \"2014-12-31T00:00:00\"], \"xaxis\": \"x\", \"y\": [420, 510, 460, 460, 500, 390, 460, 450, 530, 600, 650, 650, 650, 630, 640, 660, 650, 690, 580, 650, 565, 640, 572, 530, 600, 468], \"yaxis\": \"y\"}, {\"customdata\": [[\"7\"], [\"7\"], [\"7\"], [\"7\"], [\"7\"], [\"7\"], [\"7\"], [\"7\"], [\"7\"], [\"7\"], [\"7\"], [\"7\"], [\"7\"], [\"7\"], [\"7\"], [\"7\"], [\"7\"], [\"7\"], [\"7\"], [\"7\"], [\"7\"], [\"7\"], [\"7\"], [\"7\"]], \"hovertemplate\": \"room_type=%{customdata[0]}<br>date=%{x}<br>price=%{y}<extra></extra>\", \"legendgroup\": \"7\", \"marker\": {\"color\": \"#EF553B\", \"symbol\": \"circle\"}, \"mode\": \"markers\", \"name\": \"7\", \"orientation\": \"v\", \"showlegend\": true, \"type\": \"scatter\", \"x\": [\"2021-02-24T00:00:00\", \"2021-01-28T00:00:00\", \"2020-12-23T00:00:00\", \"2020-12-02T00:00:00\", \"2020-11-27T00:00:00\", \"2020-11-27T00:00:00\", \"2020-11-18T00:00:00\", \"2020-10-04T00:00:00\", \"2020-07-29T00:00:00\", \"2020-07-15T00:00:00\", \"2020-04-15T00:00:00\", \"2020-04-15T00:00:00\", \"2020-02-27T00:00:00\", \"2019-07-14T00:00:00\", \"2019-01-09T00:00:00\", \"2018-12-11T00:00:00\", \"2018-11-14T00:00:00\", \"2018-02-07T00:00:00\", \"2018-01-31T00:00:00\", \"2017-09-17T00:00:00\", \"2017-01-13T00:00:00\", \"2016-01-20T00:00:00\", \"2015-12-03T00:00:00\", \"2015-06-24T00:00:00\"], \"xaxis\": \"x\", \"y\": [520, 430, 500, 390, 450, 400, 450, 430, 500, 530, 600, 670, 662, 652, 630, 630, 620, 650, 690, 580, 590, 560, 561, 600], \"yaxis\": \"y\"}, {\"customdata\": [[\"9\"], [\"9\"], [\"9\"], [\"9\"], [\"9\"], [\"9\"], [\"9\"], [\"9\"], [\"9\"], [\"9\"], [\"9\"], [\"9\"], [\"9\"], [\"9\"], [\"9\"], [\"9\"], [\"9\"]], \"hovertemplate\": \"room_type=%{customdata[0]}<br>date=%{x}<br>price=%{y}<extra></extra>\", \"legendgroup\": \"9\", \"marker\": {\"color\": \"#00cc96\", \"symbol\": \"circle\"}, \"mode\": \"markers\", \"name\": \"9\", \"orientation\": \"v\", \"showlegend\": true, \"type\": \"scatter\", \"x\": [\"2021-02-24T00:00:00\", \"2021-01-17T00:00:00\", \"2020-12-18T00:00:00\", \"2020-12-06T00:00:00\", \"2020-12-06T00:00:00\", \"2020-02-13T00:00:00\", \"2020-02-13T00:00:00\", \"2020-01-30T00:00:00\", \"2020-01-10T00:00:00\", \"2019-10-15T00:00:00\", \"2019-03-06T00:00:00\", \"2019-02-06T00:00:00\", \"2018-08-15T00:00:00\", \"2018-01-18T00:00:00\", \"2017-11-29T00:00:00\", \"2016-07-13T00:00:00\", \"2014-12-25T00:00:00\"], \"xaxis\": \"x\", \"y\": [560, 650, 595, 580, 680, 760, 840, 900, 840, 820, 820, 700, 800, 670, 720, 720, 650], \"yaxis\": \"y\"}, {\"customdata\": [[\"10\"], [\"10\"], [\"10\"], [\"10\"], [\"10\"], [\"10\"], [\"10\"], [\"10\"], [\"10\"], [\"10\"], [\"10\"], [\"10\"], [\"10\"], [\"10\"], [\"10\"], [\"10\"], [\"10\"], [\"10\"], [\"10\"], [\"10\"], [\"10\"], [\"10\"]], \"hovertemplate\": \"room_type=%{customdata[0]}<br>date=%{x}<br>price=%{y}<extra></extra>\", \"legendgroup\": \"10\", \"marker\": {\"color\": \"#ab63fa\", \"symbol\": \"circle\"}, \"mode\": \"markers\", \"name\": \"10\", \"orientation\": \"v\", \"showlegend\": true, \"type\": \"scatter\", \"x\": [\"2021-02-10T00:00:00\", \"2021-02-10T00:00:00\", \"2020-04-15T00:00:00\", \"2020-01-16T00:00:00\", \"2019-11-01T00:00:00\", \"2019-01-23T00:00:00\", \"2019-01-23T00:00:00\", \"2019-01-10T00:00:00\", \"2019-01-09T00:00:00\", \"2019-01-09T00:00:00\", \"2018-08-22T00:00:00\", \"2018-07-18T00:00:00\", \"2018-07-18T00:00:00\", \"2018-02-02T00:00:00\", \"2017-06-08T00:00:00\", \"2017-02-12T00:00:00\", \"2016-11-13T00:00:00\", \"2016-08-19T00:00:00\", \"2016-08-17T00:00:00\", \"2016-07-22T00:00:00\", \"2016-03-16T00:00:00\", \"2014-12-31T00:00:00\"], \"xaxis\": \"x\", \"y\": [580, 620, 700, 820, 700, 720, 730, 810, 730, 820, 800, 780, 730, 800, 720, 740, 690, 800, 750, 750, 800, 630], \"yaxis\": \"y\"}, {\"customdata\": [[\"2\"], [\"2\"], [\"2\"], [\"2\"], [\"2\"], [\"2\"], [\"2\"], [\"2\"], [\"2\"], [\"2\"], [\"2\"], [\"2\"], [\"2\"], [\"2\"], [\"2\"], [\"2\"], [\"2\"], [\"2\"]], \"hovertemplate\": \"room_type=%{customdata[0]}<br>date=%{x}<br>price=%{y}<extra></extra>\", \"legendgroup\": \"2\", \"marker\": {\"color\": \"#FFA15A\", \"symbol\": \"circle\"}, \"mode\": \"markers\", \"name\": \"2\", \"orientation\": \"v\", \"showlegend\": true, \"type\": \"scatter\", \"x\": [\"2021-02-04T00:00:00\", \"2021-01-08T00:00:00\", \"2020-10-27T00:00:00\", \"2020-05-30T00:00:00\", \"2020-04-15T00:00:00\", \"2019-12-05T00:00:00\", \"2019-11-20T00:00:00\", \"2019-10-16T00:00:00\", \"2019-08-06T00:00:00\", \"2018-11-21T00:00:00\", \"2018-08-16T00:00:00\", \"2018-07-15T00:00:00\", \"2018-02-21T00:00:00\", \"2018-02-09T00:00:00\", \"2017-07-12T00:00:00\", \"2016-11-24T00:00:00\", \"2015-03-27T00:00:00\", \"2014-12-31T00:00:00\"], \"xaxis\": \"x\", \"y\": [650, 650, 650, 720, 800, 820, 840, 722, 820, 850, 750, 800, 800, 700, 730, 750, 725, 580], \"yaxis\": \"y\"}, {\"customdata\": [[\"1\"], [\"1\"], [\"1\"], [\"1\"], [\"1\"], [\"1\"], [\"1\"], [\"1\"], [\"1\"], [\"1\"], [\"1\"], [\"1\"], [\"1\"], [\"1\"], [\"1\"], [\"1\"], [\"1\"], [\"1\"], [\"1\"]], \"hovertemplate\": \"room_type=%{customdata[0]}<br>date=%{x}<br>price=%{y}<extra></extra>\", \"legendgroup\": \"1\", \"marker\": {\"color\": \"#19d3f3\", \"symbol\": \"circle\"}, \"mode\": \"markers\", \"name\": \"1\", \"orientation\": \"v\", \"showlegend\": true, \"type\": \"scatter\", \"x\": [\"2021-01-31T00:00:00\", \"2021-01-24T00:00:00\", \"2021-01-22T00:00:00\", \"2021-01-14T00:00:00\", \"2020-12-11T00:00:00\", \"2020-05-13T00:00:00\", \"2020-04-15T00:00:00\", \"2019-03-08T00:00:00\", \"2019-01-30T00:00:00\", \"2018-11-21T00:00:00\", \"2018-04-11T00:00:00\", \"2017-11-15T00:00:00\", \"2017-01-13T00:00:00\", \"2016-11-11T00:00:00\", \"2016-10-20T00:00:00\", \"2016-02-24T00:00:00\", \"2015-12-02T00:00:00\", \"2015-10-01T00:00:00\", \"2015-04-16T00:00:00\"], \"xaxis\": \"x\", \"y\": [600, 550, 660, 650, 580, 490, 800, 750, 802, 850, 680, 690, 760, 720, 710, 720, 750, 882, 682], \"yaxis\": \"y\"}, {\"customdata\": [[\"8\"], [\"8\"], [\"8\"], [\"8\"], [\"8\"], [\"8\"], [\"8\"], [\"8\"], [\"8\"], [\"8\"], [\"8\"], [\"8\"], [\"8\"], [\"8\"], [\"8\"], [\"8\"], [\"8\"], [\"8\"], [\"8\"]], \"hovertemplate\": \"room_type=%{customdata[0]}<br>date=%{x}<br>price=%{y}<extra></extra>\", \"legendgroup\": \"8\", \"marker\": {\"color\": \"#FF6692\", \"symbol\": \"circle\"}, \"mode\": \"markers\", \"name\": \"8\", \"orientation\": \"v\", \"showlegend\": true, \"type\": \"scatter\", \"x\": [\"2021-01-20T00:00:00\", \"2021-01-06T00:00:00\", \"2020-02-27T00:00:00\", \"2020-01-09T00:00:00\", \"2019-12-17T00:00:00\", \"2019-10-24T00:00:00\", \"2019-05-16T00:00:00\", \"2019-02-27T00:00:00\", \"2019-01-02T00:00:00\", \"2018-04-18T00:00:00\", \"2018-03-21T00:00:00\", \"2017-12-20T00:00:00\", \"2017-06-21T00:00:00\", \"2017-01-20T00:00:00\", \"2017-01-13T00:00:00\", \"2016-02-21T00:00:00\", \"2016-01-14T00:00:00\", \"2016-01-13T00:00:00\", \"2014-12-17T00:00:00\"], \"xaxis\": \"x\", \"y\": [600, 550, 780, 700, 682, 700, 680, 750, 780, 760, 690, 651, 800, 742, 720, 650, 700, 640, 675], \"yaxis\": \"y\"}, {\"customdata\": [[\"3\"], [\"3\"], [\"3\"], [\"3\"], [\"3\"], [\"3\"], [\"3\"], [\"3\"], [\"3\"], [\"3\"], [\"3\"], [\"3\"], [\"3\"], [\"3\"], [\"3\"], [\"3\"], [\"3\"], [\"3\"], [\"3\"], [\"3\"], [\"3\"]], \"hovertemplate\": \"room_type=%{customdata[0]}<br>date=%{x}<br>price=%{y}<extra></extra>\", \"legendgroup\": \"3\", \"marker\": {\"color\": \"#B6E880\", \"symbol\": \"circle\"}, \"mode\": \"markers\", \"name\": \"3\", \"orientation\": \"v\", \"showlegend\": true, \"type\": \"scatter\", \"x\": [\"2020-12-06T00:00:00\", \"2020-12-03T00:00:00\", \"2020-07-01T00:00:00\", \"2020-06-03T00:00:00\", \"2020-01-23T00:00:00\", \"2019-10-18T00:00:00\", \"2019-08-23T00:00:00\", \"2019-08-01T00:00:00\", \"2019-07-12T00:00:00\", \"2019-02-20T00:00:00\", \"2019-02-06T00:00:00\", \"2018-07-17T00:00:00\", \"2018-02-28T00:00:00\", \"2018-02-21T00:00:00\", \"2018-01-10T00:00:00\", \"2017-02-05T00:00:00\", \"2016-10-20T00:00:00\", \"2016-09-09T00:00:00\", \"2016-01-27T00:00:00\", \"2016-01-06T00:00:00\", \"2015-03-25T00:00:00\"], \"xaxis\": \"x\", \"y\": [580, 580, 580, 600, 730, 620, 600, 680, 700, 700, 780, 760, 680, 660, 670, 660, 660, 570, 650, 630, 625], \"yaxis\": \"y\"}, {\"customdata\": [[\"11\"], [\"11\"]], \"hovertemplate\": \"room_type=%{customdata[0]}<br>date=%{x}<br>price=%{y}<extra></extra>\", \"legendgroup\": \"11\", \"marker\": {\"color\": \"#FF97FF\", \"symbol\": \"circle\"}, \"mode\": \"markers\", \"name\": \"11\", \"orientation\": \"v\", \"showlegend\": true, \"type\": \"scatter\", \"x\": [\"2019-12-12T00:00:00\", \"2018-11-14T00:00:00\"], \"xaxis\": \"x\", \"y\": [780, 720], \"yaxis\": \"y\"}, {\"customdata\": [[\"6\"], [\"6\"]], \"hovertemplate\": \"room_type=%{customdata[0]}<br>date=%{x}<br>price=%{y}<extra></extra>\", \"legendgroup\": \"6\", \"marker\": {\"color\": \"#FECB52\", \"symbol\": \"circle\"}, \"mode\": \"markers\", \"name\": \"6\", \"orientation\": \"v\", \"showlegend\": true, \"type\": \"scatter\", \"x\": [\"2019-02-20T00:00:00\", \"2015-08-20T00:00:00\"], \"xaxis\": \"x\", \"y\": [720, 602], \"yaxis\": \"y\"}],                        {\"height\": 400, \"legend\": {\"title\": {\"text\": \"room_type\"}, \"tracegroupgap\": 0}, \"margin\": {\"t\": 60}, \"template\": {\"data\": {\"bar\": [{\"error_x\": {\"color\": \"#2a3f5f\"}, \"error_y\": {\"color\": \"#2a3f5f\"}, \"marker\": {\"line\": {\"color\": \"#E5ECF6\", \"width\": 0.5}}, \"type\": \"bar\"}], \"barpolar\": [{\"marker\": {\"line\": {\"color\": \"#E5ECF6\", \"width\": 0.5}}, \"type\": \"barpolar\"}], \"carpet\": [{\"aaxis\": {\"endlinecolor\": \"#2a3f5f\", \"gridcolor\": \"white\", \"linecolor\": \"white\", \"minorgridcolor\": \"white\", \"startlinecolor\": \"#2a3f5f\"}, \"baxis\": {\"endlinecolor\": \"#2a3f5f\", \"gridcolor\": \"white\", \"linecolor\": \"white\", \"minorgridcolor\": \"white\", \"startlinecolor\": \"#2a3f5f\"}, \"type\": \"carpet\"}], \"choropleth\": [{\"colorbar\": {\"outlinewidth\": 0, \"ticks\": \"\"}, \"type\": \"choropleth\"}], \"contour\": [{\"colorbar\": {\"outlinewidth\": 0, \"ticks\": \"\"}, \"colorscale\": [[0.0, \"#0d0887\"], [0.1111111111111111, \"#46039f\"], [0.2222222222222222, \"#7201a8\"], [0.3333333333333333, \"#9c179e\"], [0.4444444444444444, \"#bd3786\"], [0.5555555555555556, \"#d8576b\"], [0.6666666666666666, \"#ed7953\"], [0.7777777777777778, \"#fb9f3a\"], [0.8888888888888888, \"#fdca26\"], [1.0, \"#f0f921\"]], \"type\": \"contour\"}], \"contourcarpet\": [{\"colorbar\": {\"outlinewidth\": 0, \"ticks\": \"\"}, \"type\": \"contourcarpet\"}], \"heatmap\": [{\"colorbar\": {\"outlinewidth\": 0, \"ticks\": \"\"}, \"colorscale\": [[0.0, \"#0d0887\"], [0.1111111111111111, \"#46039f\"], [0.2222222222222222, \"#7201a8\"], [0.3333333333333333, \"#9c179e\"], [0.4444444444444444, \"#bd3786\"], [0.5555555555555556, \"#d8576b\"], [0.6666666666666666, \"#ed7953\"], [0.7777777777777778, \"#fb9f3a\"], [0.8888888888888888, \"#fdca26\"], [1.0, \"#f0f921\"]], \"type\": \"heatmap\"}], \"heatmapgl\": [{\"colorbar\": {\"outlinewidth\": 0, \"ticks\": \"\"}, \"colorscale\": [[0.0, \"#0d0887\"], [0.1111111111111111, \"#46039f\"], [0.2222222222222222, \"#7201a8\"], [0.3333333333333333, \"#9c179e\"], [0.4444444444444444, \"#bd3786\"], [0.5555555555555556, \"#d8576b\"], [0.6666666666666666, \"#ed7953\"], [0.7777777777777778, \"#fb9f3a\"], [0.8888888888888888, \"#fdca26\"], [1.0, \"#f0f921\"]], \"type\": \"heatmapgl\"}], \"histogram\": [{\"marker\": {\"colorbar\": {\"outlinewidth\": 0, \"ticks\": \"\"}}, \"type\": \"histogram\"}], \"histogram2d\": [{\"colorbar\": {\"outlinewidth\": 0, \"ticks\": \"\"}, \"colorscale\": [[0.0, \"#0d0887\"], [0.1111111111111111, \"#46039f\"], [0.2222222222222222, \"#7201a8\"], [0.3333333333333333, \"#9c179e\"], [0.4444444444444444, \"#bd3786\"], [0.5555555555555556, \"#d8576b\"], [0.6666666666666666, \"#ed7953\"], [0.7777777777777778, \"#fb9f3a\"], [0.8888888888888888, \"#fdca26\"], [1.0, \"#f0f921\"]], \"type\": \"histogram2d\"}], \"histogram2dcontour\": [{\"colorbar\": {\"outlinewidth\": 0, \"ticks\": \"\"}, \"colorscale\": [[0.0, \"#0d0887\"], [0.1111111111111111, \"#46039f\"], [0.2222222222222222, \"#7201a8\"], [0.3333333333333333, \"#9c179e\"], [0.4444444444444444, \"#bd3786\"], [0.5555555555555556, \"#d8576b\"], [0.6666666666666666, \"#ed7953\"], [0.7777777777777778, \"#fb9f3a\"], [0.8888888888888888, \"#fdca26\"], [1.0, \"#f0f921\"]], \"type\": \"histogram2dcontour\"}], \"mesh3d\": [{\"colorbar\": {\"outlinewidth\": 0, \"ticks\": \"\"}, \"type\": \"mesh3d\"}], \"parcoords\": [{\"line\": {\"colorbar\": {\"outlinewidth\": 0, \"ticks\": \"\"}}, \"type\": \"parcoords\"}], \"pie\": [{\"automargin\": true, \"type\": \"pie\"}], \"scatter\": [{\"marker\": {\"colorbar\": {\"outlinewidth\": 0, \"ticks\": \"\"}}, \"type\": \"scatter\"}], \"scatter3d\": [{\"line\": {\"colorbar\": {\"outlinewidth\": 0, \"ticks\": \"\"}}, \"marker\": {\"colorbar\": {\"outlinewidth\": 0, \"ticks\": \"\"}}, \"type\": \"scatter3d\"}], \"scattercarpet\": [{\"marker\": {\"colorbar\": {\"outlinewidth\": 0, \"ticks\": \"\"}}, \"type\": \"scattercarpet\"}], \"scattergeo\": [{\"marker\": {\"colorbar\": {\"outlinewidth\": 0, \"ticks\": \"\"}}, \"type\": \"scattergeo\"}], \"scattergl\": [{\"marker\": {\"colorbar\": {\"outlinewidth\": 0, \"ticks\": \"\"}}, \"type\": \"scattergl\"}], \"scattermapbox\": [{\"marker\": {\"colorbar\": {\"outlinewidth\": 0, \"ticks\": \"\"}}, \"type\": \"scattermapbox\"}], \"scatterpolar\": [{\"marker\": {\"colorbar\": {\"outlinewidth\": 0, \"ticks\": \"\"}}, \"type\": \"scatterpolar\"}], \"scatterpolargl\": [{\"marker\": {\"colorbar\": {\"outlinewidth\": 0, \"ticks\": \"\"}}, \"type\": \"scatterpolargl\"}], \"scatterternary\": [{\"marker\": {\"colorbar\": {\"outlinewidth\": 0, \"ticks\": \"\"}}, \"type\": \"scatterternary\"}], \"surface\": [{\"colorbar\": {\"outlinewidth\": 0, \"ticks\": \"\"}, \"colorscale\": [[0.0, \"#0d0887\"], [0.1111111111111111, \"#46039f\"], [0.2222222222222222, \"#7201a8\"], [0.3333333333333333, \"#9c179e\"], [0.4444444444444444, \"#bd3786\"], [0.5555555555555556, \"#d8576b\"], [0.6666666666666666, \"#ed7953\"], [0.7777777777777778, \"#fb9f3a\"], [0.8888888888888888, \"#fdca26\"], [1.0, \"#f0f921\"]], \"type\": \"surface\"}], \"table\": [{\"cells\": {\"fill\": {\"color\": \"#EBF0F8\"}, \"line\": {\"color\": \"white\"}}, \"header\": {\"fill\": {\"color\": \"#C8D4E3\"}, \"line\": {\"color\": \"white\"}}, \"type\": \"table\"}]}, \"layout\": {\"annotationdefaults\": {\"arrowcolor\": \"#2a3f5f\", \"arrowhead\": 0, \"arrowwidth\": 1}, \"autotypenumbers\": \"strict\", \"coloraxis\": {\"colorbar\": {\"outlinewidth\": 0, \"ticks\": \"\"}}, \"colorscale\": {\"diverging\": [[0, \"#8e0152\"], [0.1, \"#c51b7d\"], [0.2, \"#de77ae\"], [0.3, \"#f1b6da\"], [0.4, \"#fde0ef\"], [0.5, \"#f7f7f7\"], [0.6, \"#e6f5d0\"], [0.7, \"#b8e186\"], [0.8, \"#7fbc41\"], [0.9, \"#4d9221\"], [1, \"#276419\"]], \"sequential\": [[0.0, \"#0d0887\"], [0.1111111111111111, \"#46039f\"], [0.2222222222222222, \"#7201a8\"], [0.3333333333333333, \"#9c179e\"], [0.4444444444444444, \"#bd3786\"], [0.5555555555555556, \"#d8576b\"], [0.6666666666666666, \"#ed7953\"], [0.7777777777777778, \"#fb9f3a\"], [0.8888888888888888, \"#fdca26\"], [1.0, \"#f0f921\"]], \"sequentialminus\": [[0.0, \"#0d0887\"], [0.1111111111111111, \"#46039f\"], [0.2222222222222222, \"#7201a8\"], [0.3333333333333333, \"#9c179e\"], [0.4444444444444444, \"#bd3786\"], [0.5555555555555556, \"#d8576b\"], [0.6666666666666666, \"#ed7953\"], [0.7777777777777778, \"#fb9f3a\"], [0.8888888888888888, \"#fdca26\"], [1.0, \"#f0f921\"]]}, \"colorway\": [\"#636efa\", \"#EF553B\", \"#00cc96\", \"#ab63fa\", \"#FFA15A\", \"#19d3f3\", \"#FF6692\", \"#B6E880\", \"#FF97FF\", \"#FECB52\"], \"font\": {\"color\": \"#2a3f5f\"}, \"geo\": {\"bgcolor\": \"white\", \"lakecolor\": \"white\", \"landcolor\": \"#E5ECF6\", \"showlakes\": true, \"showland\": true, \"subunitcolor\": \"white\"}, \"hoverlabel\": {\"align\": \"left\"}, \"hovermode\": \"closest\", \"mapbox\": {\"style\": \"light\"}, \"paper_bgcolor\": \"white\", \"plot_bgcolor\": \"#E5ECF6\", \"polar\": {\"angularaxis\": {\"gridcolor\": \"white\", \"linecolor\": \"white\", \"ticks\": \"\"}, \"bgcolor\": \"#E5ECF6\", \"radialaxis\": {\"gridcolor\": \"white\", \"linecolor\": \"white\", \"ticks\": \"\"}}, \"scene\": {\"xaxis\": {\"backgroundcolor\": \"#E5ECF6\", \"gridcolor\": \"white\", \"gridwidth\": 2, \"linecolor\": \"white\", \"showbackground\": true, \"ticks\": \"\", \"zerolinecolor\": \"white\"}, \"yaxis\": {\"backgroundcolor\": \"#E5ECF6\", \"gridcolor\": \"white\", \"gridwidth\": 2, \"linecolor\": \"white\", \"showbackground\": true, \"ticks\": \"\", \"zerolinecolor\": \"white\"}, \"zaxis\": {\"backgroundcolor\": \"#E5ECF6\", \"gridcolor\": \"white\", \"gridwidth\": 2, \"linecolor\": \"white\", \"showbackground\": true, \"ticks\": \"\", \"zerolinecolor\": \"white\"}}, \"shapedefaults\": {\"line\": {\"color\": \"#2a3f5f\"}}, \"ternary\": {\"aaxis\": {\"gridcolor\": \"white\", \"linecolor\": \"white\", \"ticks\": \"\"}, \"baxis\": {\"gridcolor\": \"white\", \"linecolor\": \"white\", \"ticks\": \"\"}, \"bgcolor\": \"#E5ECF6\", \"caxis\": {\"gridcolor\": \"white\", \"linecolor\": \"white\", \"ticks\": \"\"}}, \"title\": {\"x\": 0.05}, \"xaxis\": {\"automargin\": true, \"gridcolor\": \"white\", \"linecolor\": \"white\", \"ticks\": \"\", \"title\": {\"standoff\": 15}, \"zerolinecolor\": \"white\", \"zerolinewidth\": 2}, \"yaxis\": {\"automargin\": true, \"gridcolor\": \"white\", \"linecolor\": \"white\", \"ticks\": \"\", \"title\": {\"standoff\": 15}, \"zerolinecolor\": \"white\", \"zerolinewidth\": 2}}}, \"width\": 700, \"xaxis\": {\"anchor\": \"y\", \"domain\": [0.0, 1.0], \"title\": {\"text\": \"date\"}}, \"yaxis\": {\"anchor\": \"x\", \"domain\": [0.0, 1.0], \"title\": {\"text\": \"price\"}}},                        {\"responsive\": true}                    ).then(function(){\n",
       "                            \n",
       "var gd = document.getElementById('7125e3b4-4ae3-4d81-9943-4052d6abf07c');\n",
       "var x = new MutationObserver(function (mutations, observer) {{\n",
       "        var display = window.getComputedStyle(gd).display;\n",
       "        if (!display || display === 'none') {{\n",
       "            console.log([gd, 'removed!']);\n",
       "            Plotly.purge(gd);\n",
       "            observer.disconnect();\n",
       "        }}\n",
       "}});\n",
       "\n",
       "// Listen for the removal of the full notebook cells\n",
       "var notebookContainer = gd.closest('#notebook-container');\n",
       "if (notebookContainer) {{\n",
       "    x.observe(notebookContainer, {childList: true});\n",
       "}}\n",
       "\n",
       "// Listen for the clearing of the current output cell\n",
       "var outputEl = gd.closest('.output');\n",
       "if (outputEl) {{\n",
       "    x.observe(outputEl, {childList: true});\n",
       "}}\n",
       "\n",
       "                        })                };                });            </script>        </div>"
      ]
     },
     "metadata": {},
     "output_type": "display_data"
    },
    {
     "data": {
      "text/html": [
       "<div>\n",
       "<style scoped>\n",
       "    .dataframe tbody tr th:only-of-type {\n",
       "        vertical-align: middle;\n",
       "    }\n",
       "\n",
       "    .dataframe tbody tr th {\n",
       "        vertical-align: top;\n",
       "    }\n",
       "\n",
       "    .dataframe thead th {\n",
       "        text-align: right;\n",
       "    }\n",
       "</style>\n",
       "<table border=\"1\" class=\"dataframe\">\n",
       "  <thead>\n",
       "    <tr style=\"text-align: right;\">\n",
       "      <th></th>\n",
       "      <th>before_price_med</th>\n",
       "      <th>after_price_med</th>\n",
       "      <th>change_precnetage</th>\n",
       "      <th>bed</th>\n",
       "      <th>bath</th>\n",
       "    </tr>\n",
       "    <tr>\n",
       "      <th>room_type</th>\n",
       "      <th></th>\n",
       "      <th></th>\n",
       "      <th></th>\n",
       "      <th></th>\n",
       "      <th></th>\n",
       "    </tr>\n",
       "  </thead>\n",
       "  <tbody>\n",
       "    <tr>\n",
       "      <th>1</th>\n",
       "      <td>750</td>\n",
       "      <td>625</td>\n",
       "      <td>-20.000000</td>\n",
       "      <td>2</td>\n",
       "      <td>2</td>\n",
       "    </tr>\n",
       "    <tr>\n",
       "      <th>10</th>\n",
       "      <td>730</td>\n",
       "      <td>620</td>\n",
       "      <td>-17.741935</td>\n",
       "      <td>2</td>\n",
       "      <td>2</td>\n",
       "    </tr>\n",
       "    <tr>\n",
       "      <th>11</th>\n",
       "      <td>750</td>\n",
       "      <td>&lt;NA&gt;</td>\n",
       "      <td>NaN</td>\n",
       "      <td>2</td>\n",
       "      <td>2</td>\n",
       "    </tr>\n",
       "    <tr>\n",
       "      <th>2</th>\n",
       "      <td>775</td>\n",
       "      <td>720</td>\n",
       "      <td>-7.638889</td>\n",
       "      <td>2</td>\n",
       "      <td>2</td>\n",
       "    </tr>\n",
       "    <tr>\n",
       "      <th>3</th>\n",
       "      <td>660</td>\n",
       "      <td>580</td>\n",
       "      <td>-13.793103</td>\n",
       "      <td>2</td>\n",
       "      <td>2</td>\n",
       "    </tr>\n",
       "    <tr>\n",
       "      <th>4</th>\n",
       "      <td>635</td>\n",
       "      <td>460</td>\n",
       "      <td>-38.043478</td>\n",
       "      <td>2</td>\n",
       "      <td>1</td>\n",
       "    </tr>\n",
       "    <tr>\n",
       "      <th>5</th>\n",
       "      <td>545</td>\n",
       "      <td>430</td>\n",
       "      <td>-26.744186</td>\n",
       "      <td>1</td>\n",
       "      <td>1</td>\n",
       "    </tr>\n",
       "    <tr>\n",
       "      <th>6</th>\n",
       "      <td>510</td>\n",
       "      <td>420</td>\n",
       "      <td>-21.428571</td>\n",
       "      <td>1</td>\n",
       "      <td>1</td>\n",
       "    </tr>\n",
       "    <tr>\n",
       "      <th>7</th>\n",
       "      <td>625</td>\n",
       "      <td>475</td>\n",
       "      <td>-31.578947</td>\n",
       "      <td>2</td>\n",
       "      <td>1</td>\n",
       "    </tr>\n",
       "    <tr>\n",
       "      <th>8</th>\n",
       "      <td>700</td>\n",
       "      <td>550</td>\n",
       "      <td>-27.272727</td>\n",
       "      <td>2</td>\n",
       "      <td>2</td>\n",
       "    </tr>\n",
       "    <tr>\n",
       "      <th>9</th>\n",
       "      <td>780</td>\n",
       "      <td>560</td>\n",
       "      <td>-39.285714</td>\n",
       "      <td>2</td>\n",
       "      <td>2</td>\n",
       "    </tr>\n",
       "  </tbody>\n",
       "</table>\n",
       "</div>"
      ],
      "text/plain": [
       "           before_price_med  after_price_med  change_precnetage  bed  bath\n",
       "room_type                                                                 \n",
       "1                       750              625         -20.000000    2     2\n",
       "10                      730              620         -17.741935    2     2\n",
       "11                      750             <NA>                NaN    2     2\n",
       "2                       775              720          -7.638889    2     2\n",
       "3                       660              580         -13.793103    2     2\n",
       "4                       635              460         -38.043478    2     1\n",
       "5                       545              430         -26.744186    1     1\n",
       "6                       510              420         -21.428571    1     1\n",
       "7                       625              475         -31.578947    2     1\n",
       "8                       700              550         -27.272727    2     2\n",
       "9                       780              560         -39.285714    2     2"
      ]
     },
     "execution_count": 15,
     "metadata": {},
     "output_type": "execute_result"
    }
   ],
   "source": [
    "address = '318-russell-street-melbourne-vic-3000'\n",
    "df_318_rus = get_property_rent_history(address)\n",
    "med_price_change(df_318_rus)"
   ]
  },
  {
   "cell_type": "code",
   "execution_count": 6,
   "metadata": {},
   "outputs": [
    {
     "data": {
      "text/html": [
       "<div>\n",
       "<style scoped>\n",
       "    .dataframe tbody tr th:only-of-type {\n",
       "        vertical-align: middle;\n",
       "    }\n",
       "\n",
       "    .dataframe tbody tr th {\n",
       "        vertical-align: top;\n",
       "    }\n",
       "\n",
       "    .dataframe thead th {\n",
       "        text-align: right;\n",
       "    }\n",
       "</style>\n",
       "<table border=\"1\" class=\"dataframe\">\n",
       "  <thead>\n",
       "    <tr style=\"text-align: right;\">\n",
       "      <th></th>\n",
       "      <th>building_name</th>\n",
       "      <th>room_no</th>\n",
       "      <th>price</th>\n",
       "      <th>date</th>\n",
       "      <th>bed</th>\n",
       "      <th>bath</th>\n",
       "      <th>parking</th>\n",
       "      <th>room_type</th>\n",
       "      <th>level</th>\n",
       "    </tr>\n",
       "  </thead>\n",
       "  <tbody>\n",
       "    <tr>\n",
       "      <th>0</th>\n",
       "      <td>318-russell-street-melbourne-vic-3000</td>\n",
       "      <td>2606</td>\n",
       "      <td>380</td>\n",
       "      <td>2021-03-03</td>\n",
       "      <td>1</td>\n",
       "      <td>1</td>\n",
       "      <td>0</td>\n",
       "      <td>6</td>\n",
       "      <td>26</td>\n",
       "    </tr>\n",
       "    <tr>\n",
       "      <th>1</th>\n",
       "      <td>318-russell-street-melbourne-vic-3000</td>\n",
       "      <td>4305</td>\n",
       "      <td>420</td>\n",
       "      <td>2021-03-03</td>\n",
       "      <td>1</td>\n",
       "      <td>1</td>\n",
       "      <td>0</td>\n",
       "      <td>5</td>\n",
       "      <td>43</td>\n",
       "    </tr>\n",
       "    <tr>\n",
       "      <th>2</th>\n",
       "      <td>318-russell-street-melbourne-vic-3000</td>\n",
       "      <td>3504</td>\n",
       "      <td>420</td>\n",
       "      <td>2021-03-02</td>\n",
       "      <td>2</td>\n",
       "      <td>1</td>\n",
       "      <td>0</td>\n",
       "      <td>4</td>\n",
       "      <td>35</td>\n",
       "    </tr>\n",
       "    <tr>\n",
       "      <th>3</th>\n",
       "      <td>318-russell-street-melbourne-vic-3000</td>\n",
       "      <td>2305</td>\n",
       "      <td>330</td>\n",
       "      <td>2021-02-24</td>\n",
       "      <td>1</td>\n",
       "      <td>1</td>\n",
       "      <td>0</td>\n",
       "      <td>5</td>\n",
       "      <td>23</td>\n",
       "    </tr>\n",
       "    <tr>\n",
       "      <th>4</th>\n",
       "      <td>318-russell-street-melbourne-vic-3000</td>\n",
       "      <td>4207</td>\n",
       "      <td>520</td>\n",
       "      <td>2021-02-24</td>\n",
       "      <td>2</td>\n",
       "      <td>2</td>\n",
       "      <td>0</td>\n",
       "      <td>7</td>\n",
       "      <td>42</td>\n",
       "    </tr>\n",
       "    <tr>\n",
       "      <th>...</th>\n",
       "      <td>...</td>\n",
       "      <td>...</td>\n",
       "      <td>...</td>\n",
       "      <td>...</td>\n",
       "      <td>...</td>\n",
       "      <td>...</td>\n",
       "      <td>...</td>\n",
       "      <td>...</td>\n",
       "      <td>...</td>\n",
       "    </tr>\n",
       "    <tr>\n",
       "      <th>243</th>\n",
       "      <td>318-russell-street-melbourne-vic-3000</td>\n",
       "      <td>3002</td>\n",
       "      <td>580</td>\n",
       "      <td>2014-12-31</td>\n",
       "      <td>2</td>\n",
       "      <td>2</td>\n",
       "      <td>0</td>\n",
       "      <td>2</td>\n",
       "      <td>30</td>\n",
       "    </tr>\n",
       "    <tr>\n",
       "      <th>244</th>\n",
       "      <td>318-russell-street-melbourne-vic-3000</td>\n",
       "      <td>2010</td>\n",
       "      <td>630</td>\n",
       "      <td>2014-12-31</td>\n",
       "      <td>2</td>\n",
       "      <td>2</td>\n",
       "      <td>0</td>\n",
       "      <td>10</td>\n",
       "      <td>20</td>\n",
       "    </tr>\n",
       "    <tr>\n",
       "      <th>245</th>\n",
       "      <td>318-russell-street-melbourne-vic-3000</td>\n",
       "      <td>2509</td>\n",
       "      <td>650</td>\n",
       "      <td>2014-12-25</td>\n",
       "      <td>2</td>\n",
       "      <td>2</td>\n",
       "      <td>1</td>\n",
       "      <td>9</td>\n",
       "      <td>25</td>\n",
       "    </tr>\n",
       "    <tr>\n",
       "      <th>246</th>\n",
       "      <td>318-russell-street-melbourne-vic-3000</td>\n",
       "      <td>3308</td>\n",
       "      <td>675</td>\n",
       "      <td>2014-12-17</td>\n",
       "      <td>2</td>\n",
       "      <td>2</td>\n",
       "      <td>1</td>\n",
       "      <td>8</td>\n",
       "      <td>33</td>\n",
       "    </tr>\n",
       "    <tr>\n",
       "      <th>247</th>\n",
       "      <td>318-russell-street-melbourne-vic-3000</td>\n",
       "      <td>1210</td>\n",
       "      <td>390</td>\n",
       "      <td>2014-12-12</td>\n",
       "      <td>1</td>\n",
       "      <td>1</td>\n",
       "      <td>0</td>\n",
       "      <td>10</td>\n",
       "      <td>12</td>\n",
       "    </tr>\n",
       "  </tbody>\n",
       "</table>\n",
       "<p>248 rows × 9 columns</p>\n",
       "</div>"
      ],
      "text/plain": [
       "                             building_name  room_no  price       date  bed  \\\n",
       "0    318-russell-street-melbourne-vic-3000     2606    380 2021-03-03    1   \n",
       "1    318-russell-street-melbourne-vic-3000     4305    420 2021-03-03    1   \n",
       "2    318-russell-street-melbourne-vic-3000     3504    420 2021-03-02    2   \n",
       "3    318-russell-street-melbourne-vic-3000     2305    330 2021-02-24    1   \n",
       "4    318-russell-street-melbourne-vic-3000     4207    520 2021-02-24    2   \n",
       "..                                     ...      ...    ...        ...  ...   \n",
       "243  318-russell-street-melbourne-vic-3000     3002    580 2014-12-31    2   \n",
       "244  318-russell-street-melbourne-vic-3000     2010    630 2014-12-31    2   \n",
       "245  318-russell-street-melbourne-vic-3000     2509    650 2014-12-25    2   \n",
       "246  318-russell-street-melbourne-vic-3000     3308    675 2014-12-17    2   \n",
       "247  318-russell-street-melbourne-vic-3000     1210    390 2014-12-12    1   \n",
       "\n",
       "     bath  parking  room_type  level  \n",
       "0       1        0          6     26  \n",
       "1       1        0          5     43  \n",
       "2       1        0          4     35  \n",
       "3       1        0          5     23  \n",
       "4       2        0          7     42  \n",
       "..    ...      ...        ...    ...  \n",
       "243     2        0          2     30  \n",
       "244     2        0         10     20  \n",
       "245     2        1          9     25  \n",
       "246     2        1          8     33  \n",
       "247     1        0         10     12  \n",
       "\n",
       "[248 rows x 9 columns]"
      ]
     },
     "execution_count": 6,
     "metadata": {},
     "output_type": "execute_result"
    }
   ],
   "source": [
    "df_318_rus"
   ]
  },
  {
   "cell_type": "markdown",
   "metadata": {},
   "source": [
    "## New Draft 2021"
   ]
  },
  {
   "cell_type": "code",
   "execution_count": null,
   "metadata": {},
   "outputs": [],
   "source": [
    "df_318_rus = get_property_rent_history(address)"
   ]
  },
  {
   "cell_type": "code",
   "execution_count": 297,
   "metadata": {},
   "outputs": [
    {
     "data": {
      "application/vnd.plotly.v1+json": {
       "config": {
        "plotlyServerURL": "https://plot.ly"
       },
       "data": [
        {
         "hovertemplate": "room_type=6<br>date=%{x}<br>price=%{y}<extra></extra>",
         "legendgroup": "6",
         "marker": {
          "color": "#636efa",
          "symbol": "circle"
         },
         "mode": "markers",
         "name": "6",
         "orientation": "v",
         "showlegend": true,
         "type": "scatter",
         "x": [
          "2021-03-03T00:00:00",
          "2021-02-03T00:00:00",
          "2021-01-21T00:00:00",
          "2021-01-17T00:00:00",
          "2021-01-10T00:00:00",
          "2021-01-08T00:00:00",
          "2020-12-03T00:00:00",
          "2020-07-29T00:00:00",
          "2020-06-12T00:00:00",
          "2020-01-23T00:00:00",
          "2020-01-09T00:00:00",
          "2020-01-09T00:00:00",
          "2019-11-28T00:00:00",
          "2019-10-22T00:00:00",
          "2019-02-20T00:00:00",
          "2018-10-12T00:00:00",
          "2018-08-22T00:00:00",
          "2018-07-11T00:00:00",
          "2018-06-13T00:00:00",
          "2018-04-25T00:00:00",
          "2018-01-24T00:00:00",
          "2017-11-29T00:00:00",
          "2017-09-10T00:00:00",
          "2017-06-29T00:00:00",
          "2017-01-30T00:00:00",
          "2017-01-10T00:00:00",
          "2016-11-09T00:00:00",
          "2016-06-02T00:00:00",
          "2016-03-23T00:00:00",
          "2015-12-30T00:00:00",
          "2015-08-20T00:00:00",
          "2015-06-10T00:00:00"
         ],
         "xaxis": "x",
         "y": [
          380,
          410,
          420,
          430,
          400,
          420,
          380,
          450,
          500,
          560,
          461,
          550,
          542,
          552,
          720,
          521,
          550,
          510,
          470,
          450,
          530,
          540,
          480,
          500,
          430,
          450,
          450,
          450,
          520,
          460,
          602,
          430
         ],
         "yaxis": "y"
        },
        {
         "hovertemplate": "<b>LOWESS trendline</b><br><br>room_type=6<br>date=%{x}<br>price=%{y} <b>(trend)</b><extra></extra>",
         "legendgroup": "6",
         "marker": {
          "color": "#636efa",
          "symbol": "circle"
         },
         "mode": "lines",
         "name": "6",
         "showlegend": false,
         "type": "scatter",
         "x": [
          "2015-06-10T00:00:00",
          "2015-08-20T00:00:00",
          "2015-12-30T00:00:00",
          "2016-03-23T00:00:00",
          "2016-06-02T00:00:00",
          "2016-11-09T00:00:00",
          "2017-01-10T00:00:00",
          "2017-01-30T00:00:00",
          "2017-06-29T00:00:00",
          "2017-09-10T00:00:00",
          "2017-11-29T00:00:00",
          "2018-01-24T00:00:00",
          "2018-04-25T00:00:00",
          "2018-06-13T00:00:00",
          "2018-07-11T00:00:00",
          "2018-08-22T00:00:00",
          "2018-10-12T00:00:00",
          "2019-02-20T00:00:00",
          "2019-10-22T00:00:00",
          "2019-11-28T00:00:00",
          "2020-01-09T00:00:00",
          "2020-01-09T00:00:00",
          "2020-01-23T00:00:00",
          "2020-06-12T00:00:00",
          "2020-07-29T00:00:00",
          "2020-12-03T00:00:00",
          "2021-01-08T00:00:00",
          "2021-01-10T00:00:00",
          "2021-01-17T00:00:00",
          "2021-01-21T00:00:00",
          "2021-02-03T00:00:00",
          "2021-03-03T00:00:00"
         ],
         "xaxis": "x",
         "y": [
          441.4010833160139,
          445.19214108901457,
          452.41968545687166,
          457.1779554200746,
          461.30452369889156,
          470.77227040354666,
          474.39699216676354,
          475.54653411723365,
          483.6763962962831,
          487.44642859507087,
          492.5736988432138,
          497.34524890748526,
          503.86590253409815,
          506.9256604397592,
          508.6523334991646,
          509.52523648848137,
          512.1187733797252,
          515.6199136513869,
          508.6680024847999,
          502.54290050889404,
          495.5108788786431,
          495.5108788786431,
          493.10014769413567,
          466.14366457065717,
          456.0708612995585,
          426.5472201704387,
          417.65485438685954,
          417.15501705274806,
          415.40100423403976,
          414.39556147564645,
          411.1124744203844,
          403.96497949401174
         ],
         "yaxis": "y"
        },
        {
         "hovertemplate": "room_type=5<br>date=%{x}<br>price=%{y}<extra></extra>",
         "legendgroup": "5",
         "marker": {
          "color": "#EF553B",
          "symbol": "circle"
         },
         "mode": "markers",
         "name": "5",
         "orientation": "v",
         "showlegend": true,
         "type": "scatter",
         "x": [
          "2021-03-03T00:00:00",
          "2021-02-24T00:00:00",
          "2021-02-10T00:00:00",
          "2021-02-10T00:00:00",
          "2021-01-24T00:00:00",
          "2021-01-22T00:00:00",
          "2021-01-10T00:00:00",
          "2021-01-05T00:00:00",
          "2020-12-16T00:00:00",
          "2020-07-17T00:00:00",
          "2020-07-01T00:00:00",
          "2020-01-23T00:00:00",
          "2019-12-13T00:00:00",
          "2019-11-14T00:00:00",
          "2019-10-08T00:00:00",
          "2019-05-16T00:00:00",
          "2019-02-27T00:00:00",
          "2019-01-30T00:00:00",
          "2018-11-21T00:00:00",
          "2018-10-31T00:00:00",
          "2018-01-24T00:00:00",
          "2018-01-17T00:00:00",
          "2017-11-02T00:00:00",
          "2017-06-23T00:00:00",
          "2016-10-07T00:00:00"
         ],
         "xaxis": "x",
         "y": [
          420,
          330,
          430,
          300,
          430,
          450,
          430,
          420,
          430,
          430,
          500,
          522,
          550,
          560,
          540,
          550,
          550,
          550,
          500,
          550,
          540,
          480,
          2200,
          460,
          520
         ],
         "yaxis": "y"
        },
        {
         "hovertemplate": "<b>LOWESS trendline</b><br><br>room_type=5<br>date=%{x}<br>price=%{y} <b>(trend)</b><extra></extra>",
         "legendgroup": "5",
         "marker": {
          "color": "#EF553B",
          "symbol": "circle"
         },
         "mode": "lines",
         "name": "5",
         "showlegend": false,
         "type": "scatter",
         "x": [
          "2016-10-07T00:00:00",
          "2017-06-23T00:00:00",
          "2017-11-02T00:00:00",
          "2018-01-17T00:00:00",
          "2018-01-24T00:00:00",
          "2018-10-31T00:00:00",
          "2018-11-21T00:00:00",
          "2019-01-30T00:00:00",
          "2019-02-27T00:00:00",
          "2019-05-16T00:00:00",
          "2019-10-08T00:00:00",
          "2019-11-14T00:00:00",
          "2019-12-13T00:00:00",
          "2020-01-23T00:00:00",
          "2020-07-01T00:00:00",
          "2020-07-17T00:00:00",
          "2020-12-16T00:00:00",
          "2021-01-05T00:00:00",
          "2021-01-10T00:00:00",
          "2021-01-22T00:00:00",
          "2021-01-24T00:00:00",
          "2021-02-10T00:00:00",
          "2021-02-10T00:00:00",
          "2021-02-24T00:00:00",
          "2021-03-03T00:00:00"
         ],
         "xaxis": "x",
         "y": [
          494.90756838159217,
          506.40620270128164,
          511.957524510123,
          514.772738396127,
          515.0138944350072,
          529.0859290111084,
          530.2151008090674,
          534.8599024884261,
          536.2930486468912,
          538.2525813267953,
          532.6814883091271,
          530.4724408049279,
          528.0474882036974,
          521.4679227506925,
          480.8714613225724,
          476.46082184147843,
          434.4638300487077,
          429.00203482588887,
          427.63989745645137,
          424.3764220464459,
          423.8333030196525,
          419.2256369393808,
          419.2256369393808,
          415.44193473756087,
          413.5532821725821
         ],
         "yaxis": "y"
        },
        {
         "hovertemplate": "room_type=4<br>date=%{x}<br>price=%{y}<extra></extra>",
         "legendgroup": "4",
         "marker": {
          "color": "#00cc96",
          "symbol": "circle"
         },
         "mode": "markers",
         "name": "4",
         "orientation": "v",
         "showlegend": true,
         "type": "scatter",
         "x": [
          "2021-03-02T00:00:00",
          "2021-02-03T00:00:00",
          "2021-01-24T00:00:00",
          "2021-01-20T00:00:00",
          "2020-12-09T00:00:00",
          "2020-12-06T00:00:00",
          "2020-11-22T00:00:00",
          "2020-11-15T00:00:00",
          "2020-09-15T00:00:00",
          "2020-08-05T00:00:00",
          "2020-06-24T00:00:00",
          "2020-06-10T00:00:00",
          "2020-02-27T00:00:00",
          "2020-01-16T00:00:00",
          "2019-12-13T00:00:00",
          "2019-10-22T00:00:00",
          "2019-10-15T00:00:00",
          "2018-10-31T00:00:00",
          "2018-01-03T00:00:00",
          "2017-11-08T00:00:00",
          "2017-11-02T00:00:00",
          "2017-02-23T00:00:00",
          "2017-02-14T00:00:00",
          "2017-01-20T00:00:00",
          "2016-07-22T00:00:00",
          "2015-12-16T00:00:00",
          "2015-01-28T00:00:00",
          "2014-12-31T00:00:00"
         ],
         "xaxis": "x",
         "y": [
          420,
          510,
          460,
          460,
          450,
          500,
          390,
          460,
          450,
          530,
          600,
          650,
          650,
          560,
          650,
          630,
          640,
          660,
          650,
          690,
          580,
          650,
          565,
          640,
          572,
          530,
          600,
          468
         ],
         "yaxis": "y"
        },
        {
         "hovertemplate": "<b>LOWESS trendline</b><br><br>room_type=4<br>date=%{x}<br>price=%{y} <b>(trend)</b><extra></extra>",
         "legendgroup": "4",
         "marker": {
          "color": "#00cc96",
          "symbol": "circle"
         },
         "mode": "lines",
         "name": "4",
         "showlegend": false,
         "type": "scatter",
         "x": [
          "2014-12-31T00:00:00",
          "2015-01-28T00:00:00",
          "2015-12-16T00:00:00",
          "2016-07-22T00:00:00",
          "2017-01-20T00:00:00",
          "2017-02-14T00:00:00",
          "2017-02-23T00:00:00",
          "2017-11-02T00:00:00",
          "2017-11-08T00:00:00",
          "2018-01-03T00:00:00",
          "2018-10-31T00:00:00",
          "2019-10-15T00:00:00",
          "2019-10-22T00:00:00",
          "2019-12-13T00:00:00",
          "2020-01-16T00:00:00",
          "2020-02-27T00:00:00",
          "2020-06-10T00:00:00",
          "2020-06-24T00:00:00",
          "2020-08-05T00:00:00",
          "2020-09-15T00:00:00",
          "2020-11-15T00:00:00",
          "2020-11-22T00:00:00",
          "2020-12-06T00:00:00",
          "2020-12-09T00:00:00",
          "2021-01-20T00:00:00",
          "2021-01-24T00:00:00",
          "2021-02-03T00:00:00",
          "2021-03-02T00:00:00"
         ],
         "xaxis": "x",
         "y": [
          522.6534316099634,
          525.7217237039313,
          560.5249205028916,
          583.1349012247927,
          601.0406258760949,
          603.4461849405579,
          604.3095121921028,
          624.5509556922713,
          624.482128758305,
          627.0097511438867,
          636.4572667110808,
          635.0284099042244,
          634.6306776715612,
          628.9725610305335,
          616.9542523607078,
          598.7258024367259,
          553.0768183011154,
          546.992492622719,
          528.7260024743141,
          510.78761104115137,
          483.7968125220658,
          480.6759490372305,
          474.42077622557264,
          473.0782131557255,
          454.2167132916091,
          452.4151814565848,
          447.90836605321624,
          435.72127901817794
         ],
         "yaxis": "y"
        },
        {
         "hovertemplate": "room_type=7<br>date=%{x}<br>price=%{y}<extra></extra>",
         "legendgroup": "7",
         "marker": {
          "color": "#ab63fa",
          "symbol": "circle"
         },
         "mode": "markers",
         "name": "7",
         "orientation": "v",
         "showlegend": true,
         "type": "scatter",
         "x": [
          "2021-02-24T00:00:00",
          "2021-01-28T00:00:00",
          "2020-12-23T00:00:00",
          "2020-12-02T00:00:00",
          "2020-11-27T00:00:00",
          "2020-11-27T00:00:00",
          "2020-11-18T00:00:00",
          "2020-10-04T00:00:00",
          "2020-07-29T00:00:00",
          "2020-07-15T00:00:00",
          "2020-04-15T00:00:00",
          "2020-04-15T00:00:00",
          "2020-02-27T00:00:00",
          "2019-07-14T00:00:00",
          "2019-01-09T00:00:00",
          "2018-12-11T00:00:00",
          "2018-11-14T00:00:00",
          "2018-02-07T00:00:00",
          "2018-01-31T00:00:00",
          "2017-09-17T00:00:00",
          "2017-01-13T00:00:00",
          "2016-01-20T00:00:00",
          "2015-12-03T00:00:00",
          "2015-06-24T00:00:00"
         ],
         "xaxis": "x",
         "y": [
          520,
          430,
          500,
          390,
          450,
          400,
          450,
          430,
          500,
          530,
          600,
          670,
          662,
          652,
          630,
          630,
          620,
          650,
          690,
          580,
          590,
          560,
          561,
          600
         ],
         "yaxis": "y"
        },
        {
         "hovertemplate": "<b>LOWESS trendline</b><br><br>room_type=7<br>date=%{x}<br>price=%{y} <b>(trend)</b><extra></extra>",
         "legendgroup": "7",
         "marker": {
          "color": "#ab63fa",
          "symbol": "circle"
         },
         "mode": "lines",
         "name": "7",
         "showlegend": false,
         "type": "scatter",
         "x": [
          "2015-06-24T00:00:00",
          "2015-12-03T00:00:00",
          "2016-01-20T00:00:00",
          "2017-01-13T00:00:00",
          "2017-09-17T00:00:00",
          "2018-01-31T00:00:00",
          "2018-02-07T00:00:00",
          "2018-11-14T00:00:00",
          "2018-12-11T00:00:00",
          "2019-01-09T00:00:00",
          "2019-07-14T00:00:00",
          "2020-02-27T00:00:00",
          "2020-04-15T00:00:00",
          "2020-04-15T00:00:00",
          "2020-07-15T00:00:00",
          "2020-07-29T00:00:00",
          "2020-10-04T00:00:00",
          "2020-11-18T00:00:00",
          "2020-11-27T00:00:00",
          "2020-11-27T00:00:00",
          "2020-12-02T00:00:00",
          "2020-12-23T00:00:00",
          "2021-01-28T00:00:00",
          "2021-02-24T00:00:00"
         ],
         "xaxis": "x",
         "y": [
          567.3307622274499,
          576.469221722997,
          579.1785089063932,
          598.7942179157762,
          611.6051158155443,
          620.4155663265245,
          620.7197472381738,
          633.1752280841976,
          633.4301901401021,
          633.3793537396806,
          622.3950442912246,
          601.6100062142426,
          576.0725744725048,
          576.0725744725048,
          526.6405098258552,
          518.8508577176535,
          480.7250216778269,
          454.4095102613733,
          449.09194851587904,
          449.09194851587904,
          446.13110637817533,
          433.6515647066661,
          412.1451774632349,
          395.96772419034454
         ],
         "yaxis": "y"
        },
        {
         "hovertemplate": "room_type=9<br>date=%{x}<br>price=%{y}<extra></extra>",
         "legendgroup": "9",
         "marker": {
          "color": "#FFA15A",
          "symbol": "circle"
         },
         "mode": "markers",
         "name": "9",
         "orientation": "v",
         "showlegend": true,
         "type": "scatter",
         "x": [
          "2021-02-24T00:00:00",
          "2021-01-17T00:00:00",
          "2021-01-17T00:00:00",
          "2021-01-13T00:00:00",
          "2020-12-18T00:00:00",
          "2020-12-18T00:00:00",
          "2020-12-06T00:00:00",
          "2020-12-06T00:00:00",
          "2020-06-18T00:00:00",
          "2020-02-13T00:00:00",
          "2020-02-13T00:00:00",
          "2020-01-30T00:00:00",
          "2020-01-10T00:00:00",
          "2019-12-11T00:00:00",
          "2019-10-15T00:00:00",
          "2019-03-06T00:00:00",
          "2019-02-06T00:00:00",
          "2018-08-15T00:00:00",
          "2018-01-18T00:00:00",
          "2017-11-29T00:00:00",
          "2017-02-23T00:00:00",
          "2016-07-13T00:00:00",
          "2014-12-25T00:00:00"
         ],
         "xaxis": "x",
         "y": [
          560,
          420,
          650,
          400,
          595,
          400,
          580,
          680,
          500,
          760,
          840,
          900,
          840,
          541,
          820,
          820,
          700,
          800,
          670,
          720,
          1103,
          720,
          650
         ],
         "yaxis": "y"
        },
        {
         "hovertemplate": "<b>LOWESS trendline</b><br><br>room_type=9<br>date=%{x}<br>price=%{y} <b>(trend)</b><extra></extra>",
         "legendgroup": "9",
         "marker": {
          "color": "#FFA15A",
          "symbol": "circle"
         },
         "mode": "lines",
         "name": "9",
         "showlegend": false,
         "type": "scatter",
         "x": [
          "2014-12-25T00:00:00",
          "2016-07-13T00:00:00",
          "2017-02-23T00:00:00",
          "2017-11-29T00:00:00",
          "2018-01-18T00:00:00",
          "2018-08-15T00:00:00",
          "2019-02-06T00:00:00",
          "2019-03-06T00:00:00",
          "2019-10-15T00:00:00",
          "2019-12-11T00:00:00",
          "2020-01-10T00:00:00",
          "2020-01-30T00:00:00",
          "2020-02-13T00:00:00",
          "2020-02-13T00:00:00",
          "2020-06-18T00:00:00",
          "2020-12-06T00:00:00",
          "2020-12-06T00:00:00",
          "2020-12-18T00:00:00",
          "2020-12-18T00:00:00",
          "2021-01-13T00:00:00",
          "2021-01-17T00:00:00",
          "2021-01-17T00:00:00",
          "2021-02-24T00:00:00"
         ],
         "xaxis": "x",
         "y": [
          657.023378557355,
          694.0300867428498,
          710.0530791294793,
          729.1190377639007,
          732.3798207660917,
          743.1230011307373,
          763.9374087804575,
          767.952171489813,
          781.4819038149978,
          782.9819193724157,
          782.463992236379,
          771.6289032573706,
          760.4412755340146,
          760.4412755340146,
          672.7645155643227,
          552.1474087616003,
          552.1474087616003,
          544.3276698004335,
          544.3276698004335,
          527.7364973139825,
          525.2212534341952,
          525.2212534341952,
          501.79200799117075
         ],
         "yaxis": "y"
        },
        {
         "hovertemplate": "room_type=10<br>date=%{x}<br>price=%{y}<extra></extra>",
         "legendgroup": "10",
         "marker": {
          "color": "#19d3f3",
          "symbol": "circle"
         },
         "mode": "markers",
         "name": "10",
         "orientation": "v",
         "showlegend": true,
         "type": "scatter",
         "x": [
          "2021-02-10T00:00:00",
          "2021-02-10T00:00:00",
          "2020-04-15T00:00:00",
          "2020-01-16T00:00:00",
          "2019-11-01T00:00:00",
          "2019-01-23T00:00:00",
          "2019-01-23T00:00:00",
          "2019-01-10T00:00:00",
          "2019-01-09T00:00:00",
          "2019-01-09T00:00:00",
          "2018-12-05T00:00:00",
          "2018-08-22T00:00:00",
          "2018-07-18T00:00:00",
          "2018-07-18T00:00:00",
          "2018-02-02T00:00:00",
          "2017-11-15T00:00:00",
          "2017-07-07T00:00:00",
          "2017-06-08T00:00:00",
          "2017-02-12T00:00:00",
          "2016-11-13T00:00:00",
          "2016-08-19T00:00:00",
          "2016-08-17T00:00:00",
          "2016-07-22T00:00:00",
          "2016-03-16T00:00:00",
          "2014-12-31T00:00:00",
          "2014-12-12T00:00:00"
         ],
         "xaxis": "x",
         "y": [
          580,
          620,
          700,
          820,
          700,
          720,
          730,
          810,
          730,
          820,
          490,
          800,
          780,
          730,
          800,
          580,
          531,
          720,
          740,
          690,
          800,
          750,
          750,
          800,
          630,
          390
         ],
         "yaxis": "y"
        },
        {
         "hovertemplate": "<b>LOWESS trendline</b><br><br>room_type=10<br>date=%{x}<br>price=%{y} <b>(trend)</b><extra></extra>",
         "legendgroup": "10",
         "marker": {
          "color": "#19d3f3",
          "symbol": "circle"
         },
         "mode": "lines",
         "name": "10",
         "showlegend": false,
         "type": "scatter",
         "x": [
          "2014-12-12T00:00:00",
          "2014-12-31T00:00:00",
          "2016-03-16T00:00:00",
          "2016-07-22T00:00:00",
          "2016-08-17T00:00:00",
          "2016-08-19T00:00:00",
          "2016-11-13T00:00:00",
          "2017-02-12T00:00:00",
          "2017-06-08T00:00:00",
          "2017-07-07T00:00:00",
          "2017-11-15T00:00:00",
          "2018-02-02T00:00:00",
          "2018-07-18T00:00:00",
          "2018-07-18T00:00:00",
          "2018-08-22T00:00:00",
          "2018-12-05T00:00:00",
          "2019-01-09T00:00:00",
          "2019-01-09T00:00:00",
          "2019-01-10T00:00:00",
          "2019-01-23T00:00:00",
          "2019-01-23T00:00:00",
          "2019-11-01T00:00:00",
          "2020-01-16T00:00:00",
          "2020-04-15T00:00:00",
          "2021-02-10T00:00:00",
          "2021-02-10T00:00:00"
         ],
         "xaxis": "x",
         "y": [
          683.3685450757043,
          685.4128618318342,
          723.9447368159132,
          735.3222546938798,
          737.708596055669,
          737.8873866964066,
          742.5494974712863,
          737.1041568292345,
          730.8313411024598,
          729.5570103317763,
          726.3646116708446,
          734.0256575765457,
          749.5050857058832,
          749.5050857058832,
          752.9899289069128,
          755.7402611431249,
          754.5818097567468,
          754.5818097567468,
          754.5444166214694,
          754.0416912234485,
          754.0416912234485,
          712.8686647613368,
          697.8132205355599,
          680.8910766913613,
          624.556162581963,
          624.556162581963
         ],
         "yaxis": "y"
        },
        {
         "hovertemplate": "room_type=2<br>date=%{x}<br>price=%{y}<extra></extra>",
         "legendgroup": "2",
         "marker": {
          "color": "#FF6692",
          "symbol": "circle"
         },
         "mode": "markers",
         "name": "2",
         "orientation": "v",
         "showlegend": true,
         "type": "scatter",
         "x": [
          "2021-02-04T00:00:00",
          "2021-01-08T00:00:00",
          "2020-12-17T00:00:00",
          "2020-10-27T00:00:00",
          "2020-10-02T00:00:00",
          "2020-05-30T00:00:00",
          "2020-04-15T00:00:00",
          "2019-12-05T00:00:00",
          "2019-11-20T00:00:00",
          "2019-10-16T00:00:00",
          "2019-08-06T00:00:00",
          "2018-11-21T00:00:00",
          "2018-08-16T00:00:00",
          "2018-07-15T00:00:00",
          "2018-02-21T00:00:00",
          "2018-02-09T00:00:00",
          "2017-07-12T00:00:00",
          "2017-05-07T00:00:00",
          "2016-11-24T00:00:00",
          "2015-03-27T00:00:00",
          "2014-12-31T00:00:00"
         ],
         "xaxis": "x",
         "y": [
          650,
          650,
          900,
          650,
          1200,
          720,
          800,
          820,
          840,
          722,
          820,
          850,
          750,
          800,
          800,
          700,
          730,
          1200,
          750,
          725,
          580
         ],
         "yaxis": "y"
        },
        {
         "hovertemplate": "<b>LOWESS trendline</b><br><br>room_type=2<br>date=%{x}<br>price=%{y} <b>(trend)</b><extra></extra>",
         "legendgroup": "2",
         "marker": {
          "color": "#FF6692",
          "symbol": "circle"
         },
         "mode": "lines",
         "name": "2",
         "showlegend": false,
         "type": "scatter",
         "x": [
          "2014-12-31T00:00:00",
          "2015-03-27T00:00:00",
          "2016-11-24T00:00:00",
          "2017-05-07T00:00:00",
          "2017-07-12T00:00:00",
          "2018-02-09T00:00:00",
          "2018-02-21T00:00:00",
          "2018-07-15T00:00:00",
          "2018-08-16T00:00:00",
          "2018-11-21T00:00:00",
          "2019-08-06T00:00:00",
          "2019-10-16T00:00:00",
          "2019-11-20T00:00:00",
          "2019-12-05T00:00:00",
          "2020-04-15T00:00:00",
          "2020-05-30T00:00:00",
          "2020-10-02T00:00:00",
          "2020-10-27T00:00:00",
          "2020-12-17T00:00:00",
          "2021-01-08T00:00:00",
          "2021-02-04T00:00:00"
         ],
         "xaxis": "x",
         "y": [
          649.8515881681363,
          658.9051335824294,
          724.8585272799223,
          743.7248061732494,
          747.745354233192,
          764.9653455172999,
          765.853661287812,
          776.8828068186245,
          779.9767502517595,
          785.6694585338448,
          798.4329961692687,
          799.8583166705774,
          793.1816634225837,
          789.0908589022838,
          748.9151803143365,
          734.862020882575,
          694.962712550888,
          686.8165521394765,
          670.0373561760932,
          662.7433071453047,
          653.7504993869852
         ],
         "yaxis": "y"
        },
        {
         "hovertemplate": "room_type=1<br>date=%{x}<br>price=%{y}<extra></extra>",
         "legendgroup": "1",
         "marker": {
          "color": "#B6E880",
          "symbol": "circle"
         },
         "mode": "markers",
         "name": "1",
         "orientation": "v",
         "showlegend": true,
         "type": "scatter",
         "x": [
          "2021-01-31T00:00:00",
          "2021-01-24T00:00:00",
          "2021-01-22T00:00:00",
          "2021-01-14T00:00:00",
          "2020-12-11T00:00:00",
          "2020-07-08T00:00:00",
          "2020-05-13T00:00:00",
          "2020-04-15T00:00:00",
          "2019-03-08T00:00:00",
          "2019-01-30T00:00:00",
          "2018-11-21T00:00:00",
          "2018-10-31T00:00:00",
          "2018-04-11T00:00:00",
          "2017-11-15T00:00:00",
          "2017-01-13T00:00:00",
          "2016-11-11T00:00:00",
          "2016-10-20T00:00:00",
          "2016-02-24T00:00:00",
          "2015-12-02T00:00:00",
          "2015-10-01T00:00:00",
          "2015-04-16T00:00:00"
         ],
         "xaxis": "x",
         "y": [
          600,
          550,
          660,
          650,
          580,
          950,
          490,
          800,
          750,
          802,
          850,
          1200,
          680,
          690,
          760,
          720,
          710,
          720,
          750,
          882,
          682
         ],
         "yaxis": "y"
        },
        {
         "hovertemplate": "<b>LOWESS trendline</b><br><br>room_type=1<br>date=%{x}<br>price=%{y} <b>(trend)</b><extra></extra>",
         "legendgroup": "1",
         "marker": {
          "color": "#B6E880",
          "symbol": "circle"
         },
         "mode": "lines",
         "name": "1",
         "showlegend": false,
         "type": "scatter",
         "x": [
          "2015-04-16T00:00:00",
          "2015-10-01T00:00:00",
          "2015-12-02T00:00:00",
          "2016-02-24T00:00:00",
          "2016-10-20T00:00:00",
          "2016-11-11T00:00:00",
          "2017-01-13T00:00:00",
          "2017-11-15T00:00:00",
          "2018-04-11T00:00:00",
          "2018-10-31T00:00:00",
          "2018-11-21T00:00:00",
          "2019-01-30T00:00:00",
          "2019-03-08T00:00:00",
          "2020-04-15T00:00:00",
          "2020-05-13T00:00:00",
          "2020-07-08T00:00:00",
          "2020-12-11T00:00:00",
          "2021-01-14T00:00:00",
          "2021-01-22T00:00:00",
          "2021-01-24T00:00:00",
          "2021-01-31T00:00:00"
         ],
         "xaxis": "x",
         "y": [
          734.4689124089429,
          733.9870159534544,
          734.0189313738173,
          734.2978803767883,
          736.4942360920313,
          736.7807679201419,
          737.6419622211297,
          741.5693973537304,
          748.4546099010514,
          753.9597471345729,
          755.1703672641496,
          758.9497514588147,
          761.1483102008739,
          679.0202836611983,
          672.1170352908898,
          658.2349780328082,
          619.0323625044439,
          610.3957150529404,
          608.3598842334437,
          607.8507267312247,
          606.0680391839423
         ],
         "yaxis": "y"
        },
        {
         "hovertemplate": "room_type=8<br>date=%{x}<br>price=%{y}<extra></extra>",
         "legendgroup": "8",
         "marker": {
          "color": "#FF97FF",
          "symbol": "circle"
         },
         "mode": "markers",
         "name": "8",
         "orientation": "v",
         "showlegend": true,
         "type": "scatter",
         "x": [
          "2021-01-20T00:00:00",
          "2021-01-12T00:00:00",
          "2021-01-06T00:00:00",
          "2020-02-27T00:00:00",
          "2020-01-24T00:00:00",
          "2020-01-09T00:00:00",
          "2019-12-17T00:00:00",
          "2019-10-24T00:00:00",
          "2019-09-04T00:00:00",
          "2019-05-16T00:00:00",
          "2019-02-27T00:00:00",
          "2019-01-16T00:00:00",
          "2019-01-02T00:00:00",
          "2018-05-02T00:00:00",
          "2018-04-18T00:00:00",
          "2018-03-21T00:00:00",
          "2018-03-07T00:00:00",
          "2017-12-20T00:00:00",
          "2017-06-21T00:00:00",
          "2017-01-20T00:00:00",
          "2017-01-13T00:00:00",
          "2016-02-21T00:00:00",
          "2016-01-14T00:00:00",
          "2016-01-13T00:00:00",
          "2014-12-17T00:00:00"
         ],
         "xaxis": "x",
         "y": [
          600,
          430,
          550,
          780,
          500,
          700,
          682,
          700,
          1103,
          680,
          750,
          550,
          780,
          490,
          760,
          690,
          1253,
          651,
          800,
          742,
          720,
          650,
          700,
          640,
          675
         ],
         "yaxis": "y"
        },
        {
         "hovertemplate": "<b>LOWESS trendline</b><br><br>room_type=8<br>date=%{x}<br>price=%{y} <b>(trend)</b><extra></extra>",
         "legendgroup": "8",
         "marker": {
          "color": "#FF97FF",
          "symbol": "circle"
         },
         "mode": "lines",
         "name": "8",
         "showlegend": false,
         "type": "scatter",
         "x": [
          "2014-12-17T00:00:00",
          "2016-01-13T00:00:00",
          "2016-01-14T00:00:00",
          "2016-02-21T00:00:00",
          "2017-01-13T00:00:00",
          "2017-01-20T00:00:00",
          "2017-06-21T00:00:00",
          "2017-12-20T00:00:00",
          "2018-03-07T00:00:00",
          "2018-03-21T00:00:00",
          "2018-04-18T00:00:00",
          "2018-05-02T00:00:00",
          "2019-01-02T00:00:00",
          "2019-01-16T00:00:00",
          "2019-02-27T00:00:00",
          "2019-05-16T00:00:00",
          "2019-09-04T00:00:00",
          "2019-10-24T00:00:00",
          "2019-12-17T00:00:00",
          "2020-01-09T00:00:00",
          "2020-01-24T00:00:00",
          "2020-02-27T00:00:00",
          "2021-01-06T00:00:00",
          "2021-01-12T00:00:00",
          "2021-01-20T00:00:00"
         ],
         "xaxis": "x",
         "y": [
          655.9394039124743,
          683.693192338326,
          683.7594233119491,
          686.2388265425147,
          705.9602415954446,
          706.4602787762205,
          715.8213034350471,
          726.0468408760127,
          723.654946790471,
          723.0982400027145,
          721.8066579076798,
          721.0400486228884,
          710.61943263529,
          709.8897529416835,
          707.8458898130135,
          706.2481927323402,
          697.5570520912541,
          684.3119194482756,
          667.8087386787464,
          661.1493774663173,
          656.8875709547331,
          647.3786304293853,
          558.9313033340495,
          557.1611401264196,
          554.7952512368715
         ],
         "yaxis": "y"
        },
        {
         "hovertemplate": "room_type=3<br>date=%{x}<br>price=%{y}<extra></extra>",
         "legendgroup": "3",
         "marker": {
          "color": "#FECB52",
          "symbol": "circle"
         },
         "mode": "markers",
         "name": "3",
         "orientation": "v",
         "showlegend": true,
         "type": "scatter",
         "x": [
          "2020-12-06T00:00:00",
          "2020-12-03T00:00:00",
          "2020-07-01T00:00:00",
          "2020-06-03T00:00:00",
          "2020-01-23T00:00:00",
          "2019-10-18T00:00:00",
          "2019-08-23T00:00:00",
          "2019-08-01T00:00:00",
          "2019-07-12T00:00:00",
          "2019-02-20T00:00:00",
          "2019-02-06T00:00:00",
          "2018-07-17T00:00:00",
          "2018-02-28T00:00:00",
          "2018-02-21T00:00:00",
          "2018-01-10T00:00:00",
          "2017-02-05T00:00:00",
          "2016-10-20T00:00:00",
          "2016-09-09T00:00:00",
          "2016-01-27T00:00:00",
          "2016-01-06T00:00:00",
          "2015-03-25T00:00:00"
         ],
         "xaxis": "x",
         "y": [
          580,
          580,
          580,
          600,
          730,
          620,
          600,
          680,
          700,
          700,
          780,
          760,
          680,
          660,
          670,
          660,
          660,
          570,
          650,
          630,
          625
         ],
         "yaxis": "y"
        },
        {
         "hovertemplate": "<b>LOWESS trendline</b><br><br>room_type=3<br>date=%{x}<br>price=%{y} <b>(trend)</b><extra></extra>",
         "legendgroup": "3",
         "marker": {
          "color": "#FECB52",
          "symbol": "circle"
         },
         "mode": "lines",
         "name": "3",
         "showlegend": false,
         "type": "scatter",
         "x": [
          "2015-03-25T00:00:00",
          "2016-01-06T00:00:00",
          "2016-01-27T00:00:00",
          "2016-09-09T00:00:00",
          "2016-10-20T00:00:00",
          "2017-02-05T00:00:00",
          "2018-01-10T00:00:00",
          "2018-02-21T00:00:00",
          "2018-02-28T00:00:00",
          "2018-07-17T00:00:00",
          "2019-02-06T00:00:00",
          "2019-02-20T00:00:00",
          "2019-07-12T00:00:00",
          "2019-08-01T00:00:00",
          "2019-08-23T00:00:00",
          "2019-10-18T00:00:00",
          "2020-01-23T00:00:00",
          "2020-06-03T00:00:00",
          "2020-07-01T00:00:00",
          "2020-12-03T00:00:00",
          "2020-12-06T00:00:00"
         ],
         "xaxis": "x",
         "y": [
          627.2839808875232,
          640.2794957017875,
          641.2108240221232,
          651.1396092663307,
          652.9383992364685,
          657.7086971562347,
          671.2790786555973,
          672.4948652393651,
          672.7107900100904,
          675.5224682348723,
          669.890546001818,
          669.6621924230589,
          678.3822836155086,
          673.3318551511891,
          667.8875808641166,
          655.2623848903213,
          634.9534887129768,
          607.8657807291531,
          602.130970359676,
          570.6529467585194,
          570.0518920051559
         ],
         "yaxis": "y"
        },
        {
         "hovertemplate": "room_type=11<br>date=%{x}<br>price=%{y}<extra></extra>",
         "legendgroup": "11",
         "marker": {
          "color": "#636efa",
          "symbol": "circle"
         },
         "mode": "markers",
         "name": "11",
         "orientation": "v",
         "showlegend": true,
         "type": "scatter",
         "x": [
          "2019-12-12T00:00:00",
          "2018-11-14T00:00:00"
         ],
         "xaxis": "x",
         "y": [
          780,
          720
         ],
         "yaxis": "y"
        },
        {
         "hovertemplate": "<b>LOWESS trendline</b><br><br>room_type=11<br>date=%{x}<br>price=%{y} <b>(trend)</b><extra></extra>",
         "legendgroup": "11",
         "marker": {
          "color": "#636efa",
          "symbol": "circle"
         },
         "mode": "lines",
         "name": "11",
         "showlegend": false,
         "type": "scatter",
         "x": [
          "2018-11-14T00:00:00",
          "2019-12-12T00:00:00"
         ],
         "xaxis": "x",
         "y": [
          720,
          780
         ],
         "yaxis": "y"
        }
       ],
       "layout": {
        "legend": {
         "title": {
          "text": "room_type"
         },
         "tracegroupgap": 0
        },
        "margin": {
         "t": 60
        },
        "template": {
         "data": {
          "bar": [
           {
            "error_x": {
             "color": "#2a3f5f"
            },
            "error_y": {
             "color": "#2a3f5f"
            },
            "marker": {
             "line": {
              "color": "#E5ECF6",
              "width": 0.5
             }
            },
            "type": "bar"
           }
          ],
          "barpolar": [
           {
            "marker": {
             "line": {
              "color": "#E5ECF6",
              "width": 0.5
             }
            },
            "type": "barpolar"
           }
          ],
          "carpet": [
           {
            "aaxis": {
             "endlinecolor": "#2a3f5f",
             "gridcolor": "white",
             "linecolor": "white",
             "minorgridcolor": "white",
             "startlinecolor": "#2a3f5f"
            },
            "baxis": {
             "endlinecolor": "#2a3f5f",
             "gridcolor": "white",
             "linecolor": "white",
             "minorgridcolor": "white",
             "startlinecolor": "#2a3f5f"
            },
            "type": "carpet"
           }
          ],
          "choropleth": [
           {
            "colorbar": {
             "outlinewidth": 0,
             "ticks": ""
            },
            "type": "choropleth"
           }
          ],
          "contour": [
           {
            "colorbar": {
             "outlinewidth": 0,
             "ticks": ""
            },
            "colorscale": [
             [
              0,
              "#0d0887"
             ],
             [
              0.1111111111111111,
              "#46039f"
             ],
             [
              0.2222222222222222,
              "#7201a8"
             ],
             [
              0.3333333333333333,
              "#9c179e"
             ],
             [
              0.4444444444444444,
              "#bd3786"
             ],
             [
              0.5555555555555556,
              "#d8576b"
             ],
             [
              0.6666666666666666,
              "#ed7953"
             ],
             [
              0.7777777777777778,
              "#fb9f3a"
             ],
             [
              0.8888888888888888,
              "#fdca26"
             ],
             [
              1,
              "#f0f921"
             ]
            ],
            "type": "contour"
           }
          ],
          "contourcarpet": [
           {
            "colorbar": {
             "outlinewidth": 0,
             "ticks": ""
            },
            "type": "contourcarpet"
           }
          ],
          "heatmap": [
           {
            "colorbar": {
             "outlinewidth": 0,
             "ticks": ""
            },
            "colorscale": [
             [
              0,
              "#0d0887"
             ],
             [
              0.1111111111111111,
              "#46039f"
             ],
             [
              0.2222222222222222,
              "#7201a8"
             ],
             [
              0.3333333333333333,
              "#9c179e"
             ],
             [
              0.4444444444444444,
              "#bd3786"
             ],
             [
              0.5555555555555556,
              "#d8576b"
             ],
             [
              0.6666666666666666,
              "#ed7953"
             ],
             [
              0.7777777777777778,
              "#fb9f3a"
             ],
             [
              0.8888888888888888,
              "#fdca26"
             ],
             [
              1,
              "#f0f921"
             ]
            ],
            "type": "heatmap"
           }
          ],
          "heatmapgl": [
           {
            "colorbar": {
             "outlinewidth": 0,
             "ticks": ""
            },
            "colorscale": [
             [
              0,
              "#0d0887"
             ],
             [
              0.1111111111111111,
              "#46039f"
             ],
             [
              0.2222222222222222,
              "#7201a8"
             ],
             [
              0.3333333333333333,
              "#9c179e"
             ],
             [
              0.4444444444444444,
              "#bd3786"
             ],
             [
              0.5555555555555556,
              "#d8576b"
             ],
             [
              0.6666666666666666,
              "#ed7953"
             ],
             [
              0.7777777777777778,
              "#fb9f3a"
             ],
             [
              0.8888888888888888,
              "#fdca26"
             ],
             [
              1,
              "#f0f921"
             ]
            ],
            "type": "heatmapgl"
           }
          ],
          "histogram": [
           {
            "marker": {
             "colorbar": {
              "outlinewidth": 0,
              "ticks": ""
             }
            },
            "type": "histogram"
           }
          ],
          "histogram2d": [
           {
            "colorbar": {
             "outlinewidth": 0,
             "ticks": ""
            },
            "colorscale": [
             [
              0,
              "#0d0887"
             ],
             [
              0.1111111111111111,
              "#46039f"
             ],
             [
              0.2222222222222222,
              "#7201a8"
             ],
             [
              0.3333333333333333,
              "#9c179e"
             ],
             [
              0.4444444444444444,
              "#bd3786"
             ],
             [
              0.5555555555555556,
              "#d8576b"
             ],
             [
              0.6666666666666666,
              "#ed7953"
             ],
             [
              0.7777777777777778,
              "#fb9f3a"
             ],
             [
              0.8888888888888888,
              "#fdca26"
             ],
             [
              1,
              "#f0f921"
             ]
            ],
            "type": "histogram2d"
           }
          ],
          "histogram2dcontour": [
           {
            "colorbar": {
             "outlinewidth": 0,
             "ticks": ""
            },
            "colorscale": [
             [
              0,
              "#0d0887"
             ],
             [
              0.1111111111111111,
              "#46039f"
             ],
             [
              0.2222222222222222,
              "#7201a8"
             ],
             [
              0.3333333333333333,
              "#9c179e"
             ],
             [
              0.4444444444444444,
              "#bd3786"
             ],
             [
              0.5555555555555556,
              "#d8576b"
             ],
             [
              0.6666666666666666,
              "#ed7953"
             ],
             [
              0.7777777777777778,
              "#fb9f3a"
             ],
             [
              0.8888888888888888,
              "#fdca26"
             ],
             [
              1,
              "#f0f921"
             ]
            ],
            "type": "histogram2dcontour"
           }
          ],
          "mesh3d": [
           {
            "colorbar": {
             "outlinewidth": 0,
             "ticks": ""
            },
            "type": "mesh3d"
           }
          ],
          "parcoords": [
           {
            "line": {
             "colorbar": {
              "outlinewidth": 0,
              "ticks": ""
             }
            },
            "type": "parcoords"
           }
          ],
          "pie": [
           {
            "automargin": true,
            "type": "pie"
           }
          ],
          "scatter": [
           {
            "marker": {
             "colorbar": {
              "outlinewidth": 0,
              "ticks": ""
             }
            },
            "type": "scatter"
           }
          ],
          "scatter3d": [
           {
            "line": {
             "colorbar": {
              "outlinewidth": 0,
              "ticks": ""
             }
            },
            "marker": {
             "colorbar": {
              "outlinewidth": 0,
              "ticks": ""
             }
            },
            "type": "scatter3d"
           }
          ],
          "scattercarpet": [
           {
            "marker": {
             "colorbar": {
              "outlinewidth": 0,
              "ticks": ""
             }
            },
            "type": "scattercarpet"
           }
          ],
          "scattergeo": [
           {
            "marker": {
             "colorbar": {
              "outlinewidth": 0,
              "ticks": ""
             }
            },
            "type": "scattergeo"
           }
          ],
          "scattergl": [
           {
            "marker": {
             "colorbar": {
              "outlinewidth": 0,
              "ticks": ""
             }
            },
            "type": "scattergl"
           }
          ],
          "scattermapbox": [
           {
            "marker": {
             "colorbar": {
              "outlinewidth": 0,
              "ticks": ""
             }
            },
            "type": "scattermapbox"
           }
          ],
          "scatterpolar": [
           {
            "marker": {
             "colorbar": {
              "outlinewidth": 0,
              "ticks": ""
             }
            },
            "type": "scatterpolar"
           }
          ],
          "scatterpolargl": [
           {
            "marker": {
             "colorbar": {
              "outlinewidth": 0,
              "ticks": ""
             }
            },
            "type": "scatterpolargl"
           }
          ],
          "scatterternary": [
           {
            "marker": {
             "colorbar": {
              "outlinewidth": 0,
              "ticks": ""
             }
            },
            "type": "scatterternary"
           }
          ],
          "surface": [
           {
            "colorbar": {
             "outlinewidth": 0,
             "ticks": ""
            },
            "colorscale": [
             [
              0,
              "#0d0887"
             ],
             [
              0.1111111111111111,
              "#46039f"
             ],
             [
              0.2222222222222222,
              "#7201a8"
             ],
             [
              0.3333333333333333,
              "#9c179e"
             ],
             [
              0.4444444444444444,
              "#bd3786"
             ],
             [
              0.5555555555555556,
              "#d8576b"
             ],
             [
              0.6666666666666666,
              "#ed7953"
             ],
             [
              0.7777777777777778,
              "#fb9f3a"
             ],
             [
              0.8888888888888888,
              "#fdca26"
             ],
             [
              1,
              "#f0f921"
             ]
            ],
            "type": "surface"
           }
          ],
          "table": [
           {
            "cells": {
             "fill": {
              "color": "#EBF0F8"
             },
             "line": {
              "color": "white"
             }
            },
            "header": {
             "fill": {
              "color": "#C8D4E3"
             },
             "line": {
              "color": "white"
             }
            },
            "type": "table"
           }
          ]
         },
         "layout": {
          "annotationdefaults": {
           "arrowcolor": "#2a3f5f",
           "arrowhead": 0,
           "arrowwidth": 1
          },
          "autotypenumbers": "strict",
          "coloraxis": {
           "colorbar": {
            "outlinewidth": 0,
            "ticks": ""
           }
          },
          "colorscale": {
           "diverging": [
            [
             0,
             "#8e0152"
            ],
            [
             0.1,
             "#c51b7d"
            ],
            [
             0.2,
             "#de77ae"
            ],
            [
             0.3,
             "#f1b6da"
            ],
            [
             0.4,
             "#fde0ef"
            ],
            [
             0.5,
             "#f7f7f7"
            ],
            [
             0.6,
             "#e6f5d0"
            ],
            [
             0.7,
             "#b8e186"
            ],
            [
             0.8,
             "#7fbc41"
            ],
            [
             0.9,
             "#4d9221"
            ],
            [
             1,
             "#276419"
            ]
           ],
           "sequential": [
            [
             0,
             "#0d0887"
            ],
            [
             0.1111111111111111,
             "#46039f"
            ],
            [
             0.2222222222222222,
             "#7201a8"
            ],
            [
             0.3333333333333333,
             "#9c179e"
            ],
            [
             0.4444444444444444,
             "#bd3786"
            ],
            [
             0.5555555555555556,
             "#d8576b"
            ],
            [
             0.6666666666666666,
             "#ed7953"
            ],
            [
             0.7777777777777778,
             "#fb9f3a"
            ],
            [
             0.8888888888888888,
             "#fdca26"
            ],
            [
             1,
             "#f0f921"
            ]
           ],
           "sequentialminus": [
            [
             0,
             "#0d0887"
            ],
            [
             0.1111111111111111,
             "#46039f"
            ],
            [
             0.2222222222222222,
             "#7201a8"
            ],
            [
             0.3333333333333333,
             "#9c179e"
            ],
            [
             0.4444444444444444,
             "#bd3786"
            ],
            [
             0.5555555555555556,
             "#d8576b"
            ],
            [
             0.6666666666666666,
             "#ed7953"
            ],
            [
             0.7777777777777778,
             "#fb9f3a"
            ],
            [
             0.8888888888888888,
             "#fdca26"
            ],
            [
             1,
             "#f0f921"
            ]
           ]
          },
          "colorway": [
           "#636efa",
           "#EF553B",
           "#00cc96",
           "#ab63fa",
           "#FFA15A",
           "#19d3f3",
           "#FF6692",
           "#B6E880",
           "#FF97FF",
           "#FECB52"
          ],
          "font": {
           "color": "#2a3f5f"
          },
          "geo": {
           "bgcolor": "white",
           "lakecolor": "white",
           "landcolor": "#E5ECF6",
           "showlakes": true,
           "showland": true,
           "subunitcolor": "white"
          },
          "hoverlabel": {
           "align": "left"
          },
          "hovermode": "closest",
          "mapbox": {
           "style": "light"
          },
          "paper_bgcolor": "white",
          "plot_bgcolor": "#E5ECF6",
          "polar": {
           "angularaxis": {
            "gridcolor": "white",
            "linecolor": "white",
            "ticks": ""
           },
           "bgcolor": "#E5ECF6",
           "radialaxis": {
            "gridcolor": "white",
            "linecolor": "white",
            "ticks": ""
           }
          },
          "scene": {
           "xaxis": {
            "backgroundcolor": "#E5ECF6",
            "gridcolor": "white",
            "gridwidth": 2,
            "linecolor": "white",
            "showbackground": true,
            "ticks": "",
            "zerolinecolor": "white"
           },
           "yaxis": {
            "backgroundcolor": "#E5ECF6",
            "gridcolor": "white",
            "gridwidth": 2,
            "linecolor": "white",
            "showbackground": true,
            "ticks": "",
            "zerolinecolor": "white"
           },
           "zaxis": {
            "backgroundcolor": "#E5ECF6",
            "gridcolor": "white",
            "gridwidth": 2,
            "linecolor": "white",
            "showbackground": true,
            "ticks": "",
            "zerolinecolor": "white"
           }
          },
          "shapedefaults": {
           "line": {
            "color": "#2a3f5f"
           }
          },
          "ternary": {
           "aaxis": {
            "gridcolor": "white",
            "linecolor": "white",
            "ticks": ""
           },
           "baxis": {
            "gridcolor": "white",
            "linecolor": "white",
            "ticks": ""
           },
           "bgcolor": "#E5ECF6",
           "caxis": {
            "gridcolor": "white",
            "linecolor": "white",
            "ticks": ""
           }
          },
          "title": {
           "x": 0.05
          },
          "xaxis": {
           "automargin": true,
           "gridcolor": "white",
           "linecolor": "white",
           "ticks": "",
           "title": {
            "standoff": 15
           },
           "zerolinecolor": "white",
           "zerolinewidth": 2
          },
          "yaxis": {
           "automargin": true,
           "gridcolor": "white",
           "linecolor": "white",
           "ticks": "",
           "title": {
            "standoff": 15
           },
           "zerolinecolor": "white",
           "zerolinewidth": 2
          }
         }
        },
        "xaxis": {
         "anchor": "y",
         "domain": [
          0,
          1
         ],
         "title": {
          "text": "date"
         }
        },
        "yaxis": {
         "anchor": "x",
         "domain": [
          0,
          1
         ],
         "title": {
          "text": "price"
         }
        }
       }
      },
      "text/html": [
       "<div>                            <div id=\"bbd48224-f894-4933-aeb4-a242d0e300d4\" class=\"plotly-graph-div\" style=\"height:525px; width:100%;\"></div>            <script type=\"text/javascript\">                require([\"plotly\"], function(Plotly) {                    window.PLOTLYENV=window.PLOTLYENV || {};                                    if (document.getElementById(\"bbd48224-f894-4933-aeb4-a242d0e300d4\")) {                    Plotly.newPlot(                        \"bbd48224-f894-4933-aeb4-a242d0e300d4\",                        [{\"hovertemplate\": \"room_type=6<br>date=%{x}<br>price=%{y}<extra></extra>\", \"legendgroup\": \"6\", \"marker\": {\"color\": \"#636efa\", \"symbol\": \"circle\"}, \"mode\": \"markers\", \"name\": \"6\", \"orientation\": \"v\", \"showlegend\": true, \"type\": \"scatter\", \"x\": [\"2021-03-03T00:00:00\", \"2021-02-03T00:00:00\", \"2021-01-21T00:00:00\", \"2021-01-17T00:00:00\", \"2021-01-10T00:00:00\", \"2021-01-08T00:00:00\", \"2020-12-03T00:00:00\", \"2020-07-29T00:00:00\", \"2020-06-12T00:00:00\", \"2020-01-23T00:00:00\", \"2020-01-09T00:00:00\", \"2020-01-09T00:00:00\", \"2019-11-28T00:00:00\", \"2019-10-22T00:00:00\", \"2019-02-20T00:00:00\", \"2018-10-12T00:00:00\", \"2018-08-22T00:00:00\", \"2018-07-11T00:00:00\", \"2018-06-13T00:00:00\", \"2018-04-25T00:00:00\", \"2018-01-24T00:00:00\", \"2017-11-29T00:00:00\", \"2017-09-10T00:00:00\", \"2017-06-29T00:00:00\", \"2017-01-30T00:00:00\", \"2017-01-10T00:00:00\", \"2016-11-09T00:00:00\", \"2016-06-02T00:00:00\", \"2016-03-23T00:00:00\", \"2015-12-30T00:00:00\", \"2015-08-20T00:00:00\", \"2015-06-10T00:00:00\"], \"xaxis\": \"x\", \"y\": [380, 410, 420, 430, 400, 420, 380, 450, 500, 560, 461, 550, 542, 552, 720, 521, 550, 510, 470, 450, 530, 540, 480, 500, 430, 450, 450, 450, 520, 460, 602, 430], \"yaxis\": \"y\"}, {\"hovertemplate\": \"<b>LOWESS trendline</b><br><br>room_type=6<br>date=%{x}<br>price=%{y} <b>(trend)</b><extra></extra>\", \"legendgroup\": \"6\", \"marker\": {\"color\": \"#636efa\", \"symbol\": \"circle\"}, \"mode\": \"lines\", \"name\": \"6\", \"showlegend\": false, \"type\": \"scatter\", \"x\": [\"2015-06-10T00:00:00\", \"2015-08-20T00:00:00\", \"2015-12-30T00:00:00\", \"2016-03-23T00:00:00\", \"2016-06-02T00:00:00\", \"2016-11-09T00:00:00\", \"2017-01-10T00:00:00\", \"2017-01-30T00:00:00\", \"2017-06-29T00:00:00\", \"2017-09-10T00:00:00\", \"2017-11-29T00:00:00\", \"2018-01-24T00:00:00\", \"2018-04-25T00:00:00\", \"2018-06-13T00:00:00\", \"2018-07-11T00:00:00\", \"2018-08-22T00:00:00\", \"2018-10-12T00:00:00\", \"2019-02-20T00:00:00\", \"2019-10-22T00:00:00\", \"2019-11-28T00:00:00\", \"2020-01-09T00:00:00\", \"2020-01-09T00:00:00\", \"2020-01-23T00:00:00\", \"2020-06-12T00:00:00\", \"2020-07-29T00:00:00\", \"2020-12-03T00:00:00\", \"2021-01-08T00:00:00\", \"2021-01-10T00:00:00\", \"2021-01-17T00:00:00\", \"2021-01-21T00:00:00\", \"2021-02-03T00:00:00\", \"2021-03-03T00:00:00\"], \"xaxis\": \"x\", \"y\": [441.4010833160139, 445.19214108901457, 452.41968545687166, 457.1779554200746, 461.30452369889156, 470.77227040354666, 474.39699216676354, 475.54653411723365, 483.6763962962831, 487.44642859507087, 492.5736988432138, 497.34524890748526, 503.86590253409815, 506.9256604397592, 508.6523334991646, 509.52523648848137, 512.1187733797252, 515.6199136513869, 508.6680024847999, 502.54290050889404, 495.5108788786431, 495.5108788786431, 493.10014769413567, 466.14366457065717, 456.0708612995585, 426.5472201704387, 417.65485438685954, 417.15501705274806, 415.40100423403976, 414.39556147564645, 411.1124744203844, 403.96497949401174], \"yaxis\": \"y\"}, {\"hovertemplate\": \"room_type=5<br>date=%{x}<br>price=%{y}<extra></extra>\", \"legendgroup\": \"5\", \"marker\": {\"color\": \"#EF553B\", \"symbol\": \"circle\"}, \"mode\": \"markers\", \"name\": \"5\", \"orientation\": \"v\", \"showlegend\": true, \"type\": \"scatter\", \"x\": [\"2021-03-03T00:00:00\", \"2021-02-24T00:00:00\", \"2021-02-10T00:00:00\", \"2021-02-10T00:00:00\", \"2021-01-24T00:00:00\", \"2021-01-22T00:00:00\", \"2021-01-10T00:00:00\", \"2021-01-05T00:00:00\", \"2020-12-16T00:00:00\", \"2020-07-17T00:00:00\", \"2020-07-01T00:00:00\", \"2020-01-23T00:00:00\", \"2019-12-13T00:00:00\", \"2019-11-14T00:00:00\", \"2019-10-08T00:00:00\", \"2019-05-16T00:00:00\", \"2019-02-27T00:00:00\", \"2019-01-30T00:00:00\", \"2018-11-21T00:00:00\", \"2018-10-31T00:00:00\", \"2018-01-24T00:00:00\", \"2018-01-17T00:00:00\", \"2017-11-02T00:00:00\", \"2017-06-23T00:00:00\", \"2016-10-07T00:00:00\"], \"xaxis\": \"x\", \"y\": [420, 330, 430, 300, 430, 450, 430, 420, 430, 430, 500, 522, 550, 560, 540, 550, 550, 550, 500, 550, 540, 480, 2200, 460, 520], \"yaxis\": \"y\"}, {\"hovertemplate\": \"<b>LOWESS trendline</b><br><br>room_type=5<br>date=%{x}<br>price=%{y} <b>(trend)</b><extra></extra>\", \"legendgroup\": \"5\", \"marker\": {\"color\": \"#EF553B\", \"symbol\": \"circle\"}, \"mode\": \"lines\", \"name\": \"5\", \"showlegend\": false, \"type\": \"scatter\", \"x\": [\"2016-10-07T00:00:00\", \"2017-06-23T00:00:00\", \"2017-11-02T00:00:00\", \"2018-01-17T00:00:00\", \"2018-01-24T00:00:00\", \"2018-10-31T00:00:00\", \"2018-11-21T00:00:00\", \"2019-01-30T00:00:00\", \"2019-02-27T00:00:00\", \"2019-05-16T00:00:00\", \"2019-10-08T00:00:00\", \"2019-11-14T00:00:00\", \"2019-12-13T00:00:00\", \"2020-01-23T00:00:00\", \"2020-07-01T00:00:00\", \"2020-07-17T00:00:00\", \"2020-12-16T00:00:00\", \"2021-01-05T00:00:00\", \"2021-01-10T00:00:00\", \"2021-01-22T00:00:00\", \"2021-01-24T00:00:00\", \"2021-02-10T00:00:00\", \"2021-02-10T00:00:00\", \"2021-02-24T00:00:00\", \"2021-03-03T00:00:00\"], \"xaxis\": \"x\", \"y\": [494.90756838159217, 506.40620270128164, 511.957524510123, 514.772738396127, 515.0138944350072, 529.0859290111084, 530.2151008090674, 534.8599024884261, 536.2930486468912, 538.2525813267953, 532.6814883091271, 530.4724408049279, 528.0474882036974, 521.4679227506925, 480.8714613225724, 476.46082184147843, 434.4638300487077, 429.00203482588887, 427.63989745645137, 424.3764220464459, 423.8333030196525, 419.2256369393808, 419.2256369393808, 415.44193473756087, 413.5532821725821], \"yaxis\": \"y\"}, {\"hovertemplate\": \"room_type=4<br>date=%{x}<br>price=%{y}<extra></extra>\", \"legendgroup\": \"4\", \"marker\": {\"color\": \"#00cc96\", \"symbol\": \"circle\"}, \"mode\": \"markers\", \"name\": \"4\", \"orientation\": \"v\", \"showlegend\": true, \"type\": \"scatter\", \"x\": [\"2021-03-02T00:00:00\", \"2021-02-03T00:00:00\", \"2021-01-24T00:00:00\", \"2021-01-20T00:00:00\", \"2020-12-09T00:00:00\", \"2020-12-06T00:00:00\", \"2020-11-22T00:00:00\", \"2020-11-15T00:00:00\", \"2020-09-15T00:00:00\", \"2020-08-05T00:00:00\", \"2020-06-24T00:00:00\", \"2020-06-10T00:00:00\", \"2020-02-27T00:00:00\", \"2020-01-16T00:00:00\", \"2019-12-13T00:00:00\", \"2019-10-22T00:00:00\", \"2019-10-15T00:00:00\", \"2018-10-31T00:00:00\", \"2018-01-03T00:00:00\", \"2017-11-08T00:00:00\", \"2017-11-02T00:00:00\", \"2017-02-23T00:00:00\", \"2017-02-14T00:00:00\", \"2017-01-20T00:00:00\", \"2016-07-22T00:00:00\", \"2015-12-16T00:00:00\", \"2015-01-28T00:00:00\", \"2014-12-31T00:00:00\"], \"xaxis\": \"x\", \"y\": [420, 510, 460, 460, 450, 500, 390, 460, 450, 530, 600, 650, 650, 560, 650, 630, 640, 660, 650, 690, 580, 650, 565, 640, 572, 530, 600, 468], \"yaxis\": \"y\"}, {\"hovertemplate\": \"<b>LOWESS trendline</b><br><br>room_type=4<br>date=%{x}<br>price=%{y} <b>(trend)</b><extra></extra>\", \"legendgroup\": \"4\", \"marker\": {\"color\": \"#00cc96\", \"symbol\": \"circle\"}, \"mode\": \"lines\", \"name\": \"4\", \"showlegend\": false, \"type\": \"scatter\", \"x\": [\"2014-12-31T00:00:00\", \"2015-01-28T00:00:00\", \"2015-12-16T00:00:00\", \"2016-07-22T00:00:00\", \"2017-01-20T00:00:00\", \"2017-02-14T00:00:00\", \"2017-02-23T00:00:00\", \"2017-11-02T00:00:00\", \"2017-11-08T00:00:00\", \"2018-01-03T00:00:00\", \"2018-10-31T00:00:00\", \"2019-10-15T00:00:00\", \"2019-10-22T00:00:00\", \"2019-12-13T00:00:00\", \"2020-01-16T00:00:00\", \"2020-02-27T00:00:00\", \"2020-06-10T00:00:00\", \"2020-06-24T00:00:00\", \"2020-08-05T00:00:00\", \"2020-09-15T00:00:00\", \"2020-11-15T00:00:00\", \"2020-11-22T00:00:00\", \"2020-12-06T00:00:00\", \"2020-12-09T00:00:00\", \"2021-01-20T00:00:00\", \"2021-01-24T00:00:00\", \"2021-02-03T00:00:00\", \"2021-03-02T00:00:00\"], \"xaxis\": \"x\", \"y\": [522.6534316099634, 525.7217237039313, 560.5249205028916, 583.1349012247927, 601.0406258760949, 603.4461849405579, 604.3095121921028, 624.5509556922713, 624.482128758305, 627.0097511438867, 636.4572667110808, 635.0284099042244, 634.6306776715612, 628.9725610305335, 616.9542523607078, 598.7258024367259, 553.0768183011154, 546.992492622719, 528.7260024743141, 510.78761104115137, 483.7968125220658, 480.6759490372305, 474.42077622557264, 473.0782131557255, 454.2167132916091, 452.4151814565848, 447.90836605321624, 435.72127901817794], \"yaxis\": \"y\"}, {\"hovertemplate\": \"room_type=7<br>date=%{x}<br>price=%{y}<extra></extra>\", \"legendgroup\": \"7\", \"marker\": {\"color\": \"#ab63fa\", \"symbol\": \"circle\"}, \"mode\": \"markers\", \"name\": \"7\", \"orientation\": \"v\", \"showlegend\": true, \"type\": \"scatter\", \"x\": [\"2021-02-24T00:00:00\", \"2021-01-28T00:00:00\", \"2020-12-23T00:00:00\", \"2020-12-02T00:00:00\", \"2020-11-27T00:00:00\", \"2020-11-27T00:00:00\", \"2020-11-18T00:00:00\", \"2020-10-04T00:00:00\", \"2020-07-29T00:00:00\", \"2020-07-15T00:00:00\", \"2020-04-15T00:00:00\", \"2020-04-15T00:00:00\", \"2020-02-27T00:00:00\", \"2019-07-14T00:00:00\", \"2019-01-09T00:00:00\", \"2018-12-11T00:00:00\", \"2018-11-14T00:00:00\", \"2018-02-07T00:00:00\", \"2018-01-31T00:00:00\", \"2017-09-17T00:00:00\", \"2017-01-13T00:00:00\", \"2016-01-20T00:00:00\", \"2015-12-03T00:00:00\", \"2015-06-24T00:00:00\"], \"xaxis\": \"x\", \"y\": [520, 430, 500, 390, 450, 400, 450, 430, 500, 530, 600, 670, 662, 652, 630, 630, 620, 650, 690, 580, 590, 560, 561, 600], \"yaxis\": \"y\"}, {\"hovertemplate\": \"<b>LOWESS trendline</b><br><br>room_type=7<br>date=%{x}<br>price=%{y} <b>(trend)</b><extra></extra>\", \"legendgroup\": \"7\", \"marker\": {\"color\": \"#ab63fa\", \"symbol\": \"circle\"}, \"mode\": \"lines\", \"name\": \"7\", \"showlegend\": false, \"type\": \"scatter\", \"x\": [\"2015-06-24T00:00:00\", \"2015-12-03T00:00:00\", \"2016-01-20T00:00:00\", \"2017-01-13T00:00:00\", \"2017-09-17T00:00:00\", \"2018-01-31T00:00:00\", \"2018-02-07T00:00:00\", \"2018-11-14T00:00:00\", \"2018-12-11T00:00:00\", \"2019-01-09T00:00:00\", \"2019-07-14T00:00:00\", \"2020-02-27T00:00:00\", \"2020-04-15T00:00:00\", \"2020-04-15T00:00:00\", \"2020-07-15T00:00:00\", \"2020-07-29T00:00:00\", \"2020-10-04T00:00:00\", \"2020-11-18T00:00:00\", \"2020-11-27T00:00:00\", \"2020-11-27T00:00:00\", \"2020-12-02T00:00:00\", \"2020-12-23T00:00:00\", \"2021-01-28T00:00:00\", \"2021-02-24T00:00:00\"], \"xaxis\": \"x\", \"y\": [567.3307622274499, 576.469221722997, 579.1785089063932, 598.7942179157762, 611.6051158155443, 620.4155663265245, 620.7197472381738, 633.1752280841976, 633.4301901401021, 633.3793537396806, 622.3950442912246, 601.6100062142426, 576.0725744725048, 576.0725744725048, 526.6405098258552, 518.8508577176535, 480.7250216778269, 454.4095102613733, 449.09194851587904, 449.09194851587904, 446.13110637817533, 433.6515647066661, 412.1451774632349, 395.96772419034454], \"yaxis\": \"y\"}, {\"hovertemplate\": \"room_type=9<br>date=%{x}<br>price=%{y}<extra></extra>\", \"legendgroup\": \"9\", \"marker\": {\"color\": \"#FFA15A\", \"symbol\": \"circle\"}, \"mode\": \"markers\", \"name\": \"9\", \"orientation\": \"v\", \"showlegend\": true, \"type\": \"scatter\", \"x\": [\"2021-02-24T00:00:00\", \"2021-01-17T00:00:00\", \"2021-01-17T00:00:00\", \"2021-01-13T00:00:00\", \"2020-12-18T00:00:00\", \"2020-12-18T00:00:00\", \"2020-12-06T00:00:00\", \"2020-12-06T00:00:00\", \"2020-06-18T00:00:00\", \"2020-02-13T00:00:00\", \"2020-02-13T00:00:00\", \"2020-01-30T00:00:00\", \"2020-01-10T00:00:00\", \"2019-12-11T00:00:00\", \"2019-10-15T00:00:00\", \"2019-03-06T00:00:00\", \"2019-02-06T00:00:00\", \"2018-08-15T00:00:00\", \"2018-01-18T00:00:00\", \"2017-11-29T00:00:00\", \"2017-02-23T00:00:00\", \"2016-07-13T00:00:00\", \"2014-12-25T00:00:00\"], \"xaxis\": \"x\", \"y\": [560, 420, 650, 400, 595, 400, 580, 680, 500, 760, 840, 900, 840, 541, 820, 820, 700, 800, 670, 720, 1103, 720, 650], \"yaxis\": \"y\"}, {\"hovertemplate\": \"<b>LOWESS trendline</b><br><br>room_type=9<br>date=%{x}<br>price=%{y} <b>(trend)</b><extra></extra>\", \"legendgroup\": \"9\", \"marker\": {\"color\": \"#FFA15A\", \"symbol\": \"circle\"}, \"mode\": \"lines\", \"name\": \"9\", \"showlegend\": false, \"type\": \"scatter\", \"x\": [\"2014-12-25T00:00:00\", \"2016-07-13T00:00:00\", \"2017-02-23T00:00:00\", \"2017-11-29T00:00:00\", \"2018-01-18T00:00:00\", \"2018-08-15T00:00:00\", \"2019-02-06T00:00:00\", \"2019-03-06T00:00:00\", \"2019-10-15T00:00:00\", \"2019-12-11T00:00:00\", \"2020-01-10T00:00:00\", \"2020-01-30T00:00:00\", \"2020-02-13T00:00:00\", \"2020-02-13T00:00:00\", \"2020-06-18T00:00:00\", \"2020-12-06T00:00:00\", \"2020-12-06T00:00:00\", \"2020-12-18T00:00:00\", \"2020-12-18T00:00:00\", \"2021-01-13T00:00:00\", \"2021-01-17T00:00:00\", \"2021-01-17T00:00:00\", \"2021-02-24T00:00:00\"], \"xaxis\": \"x\", \"y\": [657.023378557355, 694.0300867428498, 710.0530791294793, 729.1190377639007, 732.3798207660917, 743.1230011307373, 763.9374087804575, 767.952171489813, 781.4819038149978, 782.9819193724157, 782.463992236379, 771.6289032573706, 760.4412755340146, 760.4412755340146, 672.7645155643227, 552.1474087616003, 552.1474087616003, 544.3276698004335, 544.3276698004335, 527.7364973139825, 525.2212534341952, 525.2212534341952, 501.79200799117075], \"yaxis\": \"y\"}, {\"hovertemplate\": \"room_type=10<br>date=%{x}<br>price=%{y}<extra></extra>\", \"legendgroup\": \"10\", \"marker\": {\"color\": \"#19d3f3\", \"symbol\": \"circle\"}, \"mode\": \"markers\", \"name\": \"10\", \"orientation\": \"v\", \"showlegend\": true, \"type\": \"scatter\", \"x\": [\"2021-02-10T00:00:00\", \"2021-02-10T00:00:00\", \"2020-04-15T00:00:00\", \"2020-01-16T00:00:00\", \"2019-11-01T00:00:00\", \"2019-01-23T00:00:00\", \"2019-01-23T00:00:00\", \"2019-01-10T00:00:00\", \"2019-01-09T00:00:00\", \"2019-01-09T00:00:00\", \"2018-12-05T00:00:00\", \"2018-08-22T00:00:00\", \"2018-07-18T00:00:00\", \"2018-07-18T00:00:00\", \"2018-02-02T00:00:00\", \"2017-11-15T00:00:00\", \"2017-07-07T00:00:00\", \"2017-06-08T00:00:00\", \"2017-02-12T00:00:00\", \"2016-11-13T00:00:00\", \"2016-08-19T00:00:00\", \"2016-08-17T00:00:00\", \"2016-07-22T00:00:00\", \"2016-03-16T00:00:00\", \"2014-12-31T00:00:00\", \"2014-12-12T00:00:00\"], \"xaxis\": \"x\", \"y\": [580, 620, 700, 820, 700, 720, 730, 810, 730, 820, 490, 800, 780, 730, 800, 580, 531, 720, 740, 690, 800, 750, 750, 800, 630, 390], \"yaxis\": \"y\"}, {\"hovertemplate\": \"<b>LOWESS trendline</b><br><br>room_type=10<br>date=%{x}<br>price=%{y} <b>(trend)</b><extra></extra>\", \"legendgroup\": \"10\", \"marker\": {\"color\": \"#19d3f3\", \"symbol\": \"circle\"}, \"mode\": \"lines\", \"name\": \"10\", \"showlegend\": false, \"type\": \"scatter\", \"x\": [\"2014-12-12T00:00:00\", \"2014-12-31T00:00:00\", \"2016-03-16T00:00:00\", \"2016-07-22T00:00:00\", \"2016-08-17T00:00:00\", \"2016-08-19T00:00:00\", \"2016-11-13T00:00:00\", \"2017-02-12T00:00:00\", \"2017-06-08T00:00:00\", \"2017-07-07T00:00:00\", \"2017-11-15T00:00:00\", \"2018-02-02T00:00:00\", \"2018-07-18T00:00:00\", \"2018-07-18T00:00:00\", \"2018-08-22T00:00:00\", \"2018-12-05T00:00:00\", \"2019-01-09T00:00:00\", \"2019-01-09T00:00:00\", \"2019-01-10T00:00:00\", \"2019-01-23T00:00:00\", \"2019-01-23T00:00:00\", \"2019-11-01T00:00:00\", \"2020-01-16T00:00:00\", \"2020-04-15T00:00:00\", \"2021-02-10T00:00:00\", \"2021-02-10T00:00:00\"], \"xaxis\": \"x\", \"y\": [683.3685450757043, 685.4128618318342, 723.9447368159132, 735.3222546938798, 737.708596055669, 737.8873866964066, 742.5494974712863, 737.1041568292345, 730.8313411024598, 729.5570103317763, 726.3646116708446, 734.0256575765457, 749.5050857058832, 749.5050857058832, 752.9899289069128, 755.7402611431249, 754.5818097567468, 754.5818097567468, 754.5444166214694, 754.0416912234485, 754.0416912234485, 712.8686647613368, 697.8132205355599, 680.8910766913613, 624.556162581963, 624.556162581963], \"yaxis\": \"y\"}, {\"hovertemplate\": \"room_type=2<br>date=%{x}<br>price=%{y}<extra></extra>\", \"legendgroup\": \"2\", \"marker\": {\"color\": \"#FF6692\", \"symbol\": \"circle\"}, \"mode\": \"markers\", \"name\": \"2\", \"orientation\": \"v\", \"showlegend\": true, \"type\": \"scatter\", \"x\": [\"2021-02-04T00:00:00\", \"2021-01-08T00:00:00\", \"2020-12-17T00:00:00\", \"2020-10-27T00:00:00\", \"2020-10-02T00:00:00\", \"2020-05-30T00:00:00\", \"2020-04-15T00:00:00\", \"2019-12-05T00:00:00\", \"2019-11-20T00:00:00\", \"2019-10-16T00:00:00\", \"2019-08-06T00:00:00\", \"2018-11-21T00:00:00\", \"2018-08-16T00:00:00\", \"2018-07-15T00:00:00\", \"2018-02-21T00:00:00\", \"2018-02-09T00:00:00\", \"2017-07-12T00:00:00\", \"2017-05-07T00:00:00\", \"2016-11-24T00:00:00\", \"2015-03-27T00:00:00\", \"2014-12-31T00:00:00\"], \"xaxis\": \"x\", \"y\": [650, 650, 900, 650, 1200, 720, 800, 820, 840, 722, 820, 850, 750, 800, 800, 700, 730, 1200, 750, 725, 580], \"yaxis\": \"y\"}, {\"hovertemplate\": \"<b>LOWESS trendline</b><br><br>room_type=2<br>date=%{x}<br>price=%{y} <b>(trend)</b><extra></extra>\", \"legendgroup\": \"2\", \"marker\": {\"color\": \"#FF6692\", \"symbol\": \"circle\"}, \"mode\": \"lines\", \"name\": \"2\", \"showlegend\": false, \"type\": \"scatter\", \"x\": [\"2014-12-31T00:00:00\", \"2015-03-27T00:00:00\", \"2016-11-24T00:00:00\", \"2017-05-07T00:00:00\", \"2017-07-12T00:00:00\", \"2018-02-09T00:00:00\", \"2018-02-21T00:00:00\", \"2018-07-15T00:00:00\", \"2018-08-16T00:00:00\", \"2018-11-21T00:00:00\", \"2019-08-06T00:00:00\", \"2019-10-16T00:00:00\", \"2019-11-20T00:00:00\", \"2019-12-05T00:00:00\", \"2020-04-15T00:00:00\", \"2020-05-30T00:00:00\", \"2020-10-02T00:00:00\", \"2020-10-27T00:00:00\", \"2020-12-17T00:00:00\", \"2021-01-08T00:00:00\", \"2021-02-04T00:00:00\"], \"xaxis\": \"x\", \"y\": [649.8515881681363, 658.9051335824294, 724.8585272799223, 743.7248061732494, 747.745354233192, 764.9653455172999, 765.853661287812, 776.8828068186245, 779.9767502517595, 785.6694585338448, 798.4329961692687, 799.8583166705774, 793.1816634225837, 789.0908589022838, 748.9151803143365, 734.862020882575, 694.962712550888, 686.8165521394765, 670.0373561760932, 662.7433071453047, 653.7504993869852], \"yaxis\": \"y\"}, {\"hovertemplate\": \"room_type=1<br>date=%{x}<br>price=%{y}<extra></extra>\", \"legendgroup\": \"1\", \"marker\": {\"color\": \"#B6E880\", \"symbol\": \"circle\"}, \"mode\": \"markers\", \"name\": \"1\", \"orientation\": \"v\", \"showlegend\": true, \"type\": \"scatter\", \"x\": [\"2021-01-31T00:00:00\", \"2021-01-24T00:00:00\", \"2021-01-22T00:00:00\", \"2021-01-14T00:00:00\", \"2020-12-11T00:00:00\", \"2020-07-08T00:00:00\", \"2020-05-13T00:00:00\", \"2020-04-15T00:00:00\", \"2019-03-08T00:00:00\", \"2019-01-30T00:00:00\", \"2018-11-21T00:00:00\", \"2018-10-31T00:00:00\", \"2018-04-11T00:00:00\", \"2017-11-15T00:00:00\", \"2017-01-13T00:00:00\", \"2016-11-11T00:00:00\", \"2016-10-20T00:00:00\", \"2016-02-24T00:00:00\", \"2015-12-02T00:00:00\", \"2015-10-01T00:00:00\", \"2015-04-16T00:00:00\"], \"xaxis\": \"x\", \"y\": [600, 550, 660, 650, 580, 950, 490, 800, 750, 802, 850, 1200, 680, 690, 760, 720, 710, 720, 750, 882, 682], \"yaxis\": \"y\"}, {\"hovertemplate\": \"<b>LOWESS trendline</b><br><br>room_type=1<br>date=%{x}<br>price=%{y} <b>(trend)</b><extra></extra>\", \"legendgroup\": \"1\", \"marker\": {\"color\": \"#B6E880\", \"symbol\": \"circle\"}, \"mode\": \"lines\", \"name\": \"1\", \"showlegend\": false, \"type\": \"scatter\", \"x\": [\"2015-04-16T00:00:00\", \"2015-10-01T00:00:00\", \"2015-12-02T00:00:00\", \"2016-02-24T00:00:00\", \"2016-10-20T00:00:00\", \"2016-11-11T00:00:00\", \"2017-01-13T00:00:00\", \"2017-11-15T00:00:00\", \"2018-04-11T00:00:00\", \"2018-10-31T00:00:00\", \"2018-11-21T00:00:00\", \"2019-01-30T00:00:00\", \"2019-03-08T00:00:00\", \"2020-04-15T00:00:00\", \"2020-05-13T00:00:00\", \"2020-07-08T00:00:00\", \"2020-12-11T00:00:00\", \"2021-01-14T00:00:00\", \"2021-01-22T00:00:00\", \"2021-01-24T00:00:00\", \"2021-01-31T00:00:00\"], \"xaxis\": \"x\", \"y\": [734.4689124089429, 733.9870159534544, 734.0189313738173, 734.2978803767883, 736.4942360920313, 736.7807679201419, 737.6419622211297, 741.5693973537304, 748.4546099010514, 753.9597471345729, 755.1703672641496, 758.9497514588147, 761.1483102008739, 679.0202836611983, 672.1170352908898, 658.2349780328082, 619.0323625044439, 610.3957150529404, 608.3598842334437, 607.8507267312247, 606.0680391839423], \"yaxis\": \"y\"}, {\"hovertemplate\": \"room_type=8<br>date=%{x}<br>price=%{y}<extra></extra>\", \"legendgroup\": \"8\", \"marker\": {\"color\": \"#FF97FF\", \"symbol\": \"circle\"}, \"mode\": \"markers\", \"name\": \"8\", \"orientation\": \"v\", \"showlegend\": true, \"type\": \"scatter\", \"x\": [\"2021-01-20T00:00:00\", \"2021-01-12T00:00:00\", \"2021-01-06T00:00:00\", \"2020-02-27T00:00:00\", \"2020-01-24T00:00:00\", \"2020-01-09T00:00:00\", \"2019-12-17T00:00:00\", \"2019-10-24T00:00:00\", \"2019-09-04T00:00:00\", \"2019-05-16T00:00:00\", \"2019-02-27T00:00:00\", \"2019-01-16T00:00:00\", \"2019-01-02T00:00:00\", \"2018-05-02T00:00:00\", \"2018-04-18T00:00:00\", \"2018-03-21T00:00:00\", \"2018-03-07T00:00:00\", \"2017-12-20T00:00:00\", \"2017-06-21T00:00:00\", \"2017-01-20T00:00:00\", \"2017-01-13T00:00:00\", \"2016-02-21T00:00:00\", \"2016-01-14T00:00:00\", \"2016-01-13T00:00:00\", \"2014-12-17T00:00:00\"], \"xaxis\": \"x\", \"y\": [600, 430, 550, 780, 500, 700, 682, 700, 1103, 680, 750, 550, 780, 490, 760, 690, 1253, 651, 800, 742, 720, 650, 700, 640, 675], \"yaxis\": \"y\"}, {\"hovertemplate\": \"<b>LOWESS trendline</b><br><br>room_type=8<br>date=%{x}<br>price=%{y} <b>(trend)</b><extra></extra>\", \"legendgroup\": \"8\", \"marker\": {\"color\": \"#FF97FF\", \"symbol\": \"circle\"}, \"mode\": \"lines\", \"name\": \"8\", \"showlegend\": false, \"type\": \"scatter\", \"x\": [\"2014-12-17T00:00:00\", \"2016-01-13T00:00:00\", \"2016-01-14T00:00:00\", \"2016-02-21T00:00:00\", \"2017-01-13T00:00:00\", \"2017-01-20T00:00:00\", \"2017-06-21T00:00:00\", \"2017-12-20T00:00:00\", \"2018-03-07T00:00:00\", \"2018-03-21T00:00:00\", \"2018-04-18T00:00:00\", \"2018-05-02T00:00:00\", \"2019-01-02T00:00:00\", \"2019-01-16T00:00:00\", \"2019-02-27T00:00:00\", \"2019-05-16T00:00:00\", \"2019-09-04T00:00:00\", \"2019-10-24T00:00:00\", \"2019-12-17T00:00:00\", \"2020-01-09T00:00:00\", \"2020-01-24T00:00:00\", \"2020-02-27T00:00:00\", \"2021-01-06T00:00:00\", \"2021-01-12T00:00:00\", \"2021-01-20T00:00:00\"], \"xaxis\": \"x\", \"y\": [655.9394039124743, 683.693192338326, 683.7594233119491, 686.2388265425147, 705.9602415954446, 706.4602787762205, 715.8213034350471, 726.0468408760127, 723.654946790471, 723.0982400027145, 721.8066579076798, 721.0400486228884, 710.61943263529, 709.8897529416835, 707.8458898130135, 706.2481927323402, 697.5570520912541, 684.3119194482756, 667.8087386787464, 661.1493774663173, 656.8875709547331, 647.3786304293853, 558.9313033340495, 557.1611401264196, 554.7952512368715], \"yaxis\": \"y\"}, {\"hovertemplate\": \"room_type=3<br>date=%{x}<br>price=%{y}<extra></extra>\", \"legendgroup\": \"3\", \"marker\": {\"color\": \"#FECB52\", \"symbol\": \"circle\"}, \"mode\": \"markers\", \"name\": \"3\", \"orientation\": \"v\", \"showlegend\": true, \"type\": \"scatter\", \"x\": [\"2020-12-06T00:00:00\", \"2020-12-03T00:00:00\", \"2020-07-01T00:00:00\", \"2020-06-03T00:00:00\", \"2020-01-23T00:00:00\", \"2019-10-18T00:00:00\", \"2019-08-23T00:00:00\", \"2019-08-01T00:00:00\", \"2019-07-12T00:00:00\", \"2019-02-20T00:00:00\", \"2019-02-06T00:00:00\", \"2018-07-17T00:00:00\", \"2018-02-28T00:00:00\", \"2018-02-21T00:00:00\", \"2018-01-10T00:00:00\", \"2017-02-05T00:00:00\", \"2016-10-20T00:00:00\", \"2016-09-09T00:00:00\", \"2016-01-27T00:00:00\", \"2016-01-06T00:00:00\", \"2015-03-25T00:00:00\"], \"xaxis\": \"x\", \"y\": [580, 580, 580, 600, 730, 620, 600, 680, 700, 700, 780, 760, 680, 660, 670, 660, 660, 570, 650, 630, 625], \"yaxis\": \"y\"}, {\"hovertemplate\": \"<b>LOWESS trendline</b><br><br>room_type=3<br>date=%{x}<br>price=%{y} <b>(trend)</b><extra></extra>\", \"legendgroup\": \"3\", \"marker\": {\"color\": \"#FECB52\", \"symbol\": \"circle\"}, \"mode\": \"lines\", \"name\": \"3\", \"showlegend\": false, \"type\": \"scatter\", \"x\": [\"2015-03-25T00:00:00\", \"2016-01-06T00:00:00\", \"2016-01-27T00:00:00\", \"2016-09-09T00:00:00\", \"2016-10-20T00:00:00\", \"2017-02-05T00:00:00\", \"2018-01-10T00:00:00\", \"2018-02-21T00:00:00\", \"2018-02-28T00:00:00\", \"2018-07-17T00:00:00\", \"2019-02-06T00:00:00\", \"2019-02-20T00:00:00\", \"2019-07-12T00:00:00\", \"2019-08-01T00:00:00\", \"2019-08-23T00:00:00\", \"2019-10-18T00:00:00\", \"2020-01-23T00:00:00\", \"2020-06-03T00:00:00\", \"2020-07-01T00:00:00\", \"2020-12-03T00:00:00\", \"2020-12-06T00:00:00\"], \"xaxis\": \"x\", \"y\": [627.2839808875232, 640.2794957017875, 641.2108240221232, 651.1396092663307, 652.9383992364685, 657.7086971562347, 671.2790786555973, 672.4948652393651, 672.7107900100904, 675.5224682348723, 669.890546001818, 669.6621924230589, 678.3822836155086, 673.3318551511891, 667.8875808641166, 655.2623848903213, 634.9534887129768, 607.8657807291531, 602.130970359676, 570.6529467585194, 570.0518920051559], \"yaxis\": \"y\"}, {\"hovertemplate\": \"room_type=11<br>date=%{x}<br>price=%{y}<extra></extra>\", \"legendgroup\": \"11\", \"marker\": {\"color\": \"#636efa\", \"symbol\": \"circle\"}, \"mode\": \"markers\", \"name\": \"11\", \"orientation\": \"v\", \"showlegend\": true, \"type\": \"scatter\", \"x\": [\"2019-12-12T00:00:00\", \"2018-11-14T00:00:00\"], \"xaxis\": \"x\", \"y\": [780, 720], \"yaxis\": \"y\"}, {\"hovertemplate\": \"<b>LOWESS trendline</b><br><br>room_type=11<br>date=%{x}<br>price=%{y} <b>(trend)</b><extra></extra>\", \"legendgroup\": \"11\", \"marker\": {\"color\": \"#636efa\", \"symbol\": \"circle\"}, \"mode\": \"lines\", \"name\": \"11\", \"showlegend\": false, \"type\": \"scatter\", \"x\": [\"2018-11-14T00:00:00\", \"2019-12-12T00:00:00\"], \"xaxis\": \"x\", \"y\": [720.0, 780.0], \"yaxis\": \"y\"}],                        {\"legend\": {\"title\": {\"text\": \"room_type\"}, \"tracegroupgap\": 0}, \"margin\": {\"t\": 60}, \"template\": {\"data\": {\"bar\": [{\"error_x\": {\"color\": \"#2a3f5f\"}, \"error_y\": {\"color\": \"#2a3f5f\"}, \"marker\": {\"line\": {\"color\": \"#E5ECF6\", \"width\": 0.5}}, \"type\": \"bar\"}], \"barpolar\": [{\"marker\": {\"line\": {\"color\": \"#E5ECF6\", \"width\": 0.5}}, \"type\": \"barpolar\"}], \"carpet\": [{\"aaxis\": {\"endlinecolor\": \"#2a3f5f\", \"gridcolor\": \"white\", \"linecolor\": \"white\", \"minorgridcolor\": \"white\", \"startlinecolor\": \"#2a3f5f\"}, \"baxis\": {\"endlinecolor\": \"#2a3f5f\", \"gridcolor\": \"white\", \"linecolor\": \"white\", \"minorgridcolor\": \"white\", \"startlinecolor\": \"#2a3f5f\"}, \"type\": \"carpet\"}], \"choropleth\": [{\"colorbar\": {\"outlinewidth\": 0, \"ticks\": \"\"}, \"type\": \"choropleth\"}], \"contour\": [{\"colorbar\": {\"outlinewidth\": 0, \"ticks\": \"\"}, \"colorscale\": [[0.0, \"#0d0887\"], [0.1111111111111111, \"#46039f\"], [0.2222222222222222, \"#7201a8\"], [0.3333333333333333, \"#9c179e\"], [0.4444444444444444, \"#bd3786\"], [0.5555555555555556, \"#d8576b\"], [0.6666666666666666, \"#ed7953\"], [0.7777777777777778, \"#fb9f3a\"], [0.8888888888888888, \"#fdca26\"], [1.0, \"#f0f921\"]], \"type\": \"contour\"}], \"contourcarpet\": [{\"colorbar\": {\"outlinewidth\": 0, \"ticks\": \"\"}, \"type\": \"contourcarpet\"}], \"heatmap\": [{\"colorbar\": {\"outlinewidth\": 0, \"ticks\": \"\"}, \"colorscale\": [[0.0, \"#0d0887\"], [0.1111111111111111, \"#46039f\"], [0.2222222222222222, \"#7201a8\"], [0.3333333333333333, \"#9c179e\"], [0.4444444444444444, \"#bd3786\"], [0.5555555555555556, \"#d8576b\"], [0.6666666666666666, \"#ed7953\"], [0.7777777777777778, \"#fb9f3a\"], [0.8888888888888888, \"#fdca26\"], [1.0, \"#f0f921\"]], \"type\": \"heatmap\"}], \"heatmapgl\": [{\"colorbar\": {\"outlinewidth\": 0, \"ticks\": \"\"}, \"colorscale\": [[0.0, \"#0d0887\"], [0.1111111111111111, \"#46039f\"], [0.2222222222222222, \"#7201a8\"], [0.3333333333333333, \"#9c179e\"], [0.4444444444444444, \"#bd3786\"], [0.5555555555555556, \"#d8576b\"], [0.6666666666666666, \"#ed7953\"], [0.7777777777777778, \"#fb9f3a\"], [0.8888888888888888, \"#fdca26\"], [1.0, \"#f0f921\"]], \"type\": \"heatmapgl\"}], \"histogram\": [{\"marker\": {\"colorbar\": {\"outlinewidth\": 0, \"ticks\": \"\"}}, \"type\": \"histogram\"}], \"histogram2d\": [{\"colorbar\": {\"outlinewidth\": 0, \"ticks\": \"\"}, \"colorscale\": [[0.0, \"#0d0887\"], [0.1111111111111111, \"#46039f\"], [0.2222222222222222, \"#7201a8\"], [0.3333333333333333, \"#9c179e\"], [0.4444444444444444, \"#bd3786\"], [0.5555555555555556, \"#d8576b\"], [0.6666666666666666, \"#ed7953\"], [0.7777777777777778, \"#fb9f3a\"], [0.8888888888888888, \"#fdca26\"], [1.0, \"#f0f921\"]], \"type\": \"histogram2d\"}], \"histogram2dcontour\": [{\"colorbar\": {\"outlinewidth\": 0, \"ticks\": \"\"}, \"colorscale\": [[0.0, \"#0d0887\"], [0.1111111111111111, \"#46039f\"], [0.2222222222222222, \"#7201a8\"], [0.3333333333333333, \"#9c179e\"], [0.4444444444444444, \"#bd3786\"], [0.5555555555555556, \"#d8576b\"], [0.6666666666666666, \"#ed7953\"], [0.7777777777777778, \"#fb9f3a\"], [0.8888888888888888, \"#fdca26\"], [1.0, \"#f0f921\"]], \"type\": \"histogram2dcontour\"}], \"mesh3d\": [{\"colorbar\": {\"outlinewidth\": 0, \"ticks\": \"\"}, \"type\": \"mesh3d\"}], \"parcoords\": [{\"line\": {\"colorbar\": {\"outlinewidth\": 0, \"ticks\": \"\"}}, \"type\": \"parcoords\"}], \"pie\": [{\"automargin\": true, \"type\": \"pie\"}], \"scatter\": [{\"marker\": {\"colorbar\": {\"outlinewidth\": 0, \"ticks\": \"\"}}, \"type\": \"scatter\"}], \"scatter3d\": [{\"line\": {\"colorbar\": {\"outlinewidth\": 0, \"ticks\": \"\"}}, \"marker\": {\"colorbar\": {\"outlinewidth\": 0, \"ticks\": \"\"}}, \"type\": \"scatter3d\"}], \"scattercarpet\": [{\"marker\": {\"colorbar\": {\"outlinewidth\": 0, \"ticks\": \"\"}}, \"type\": \"scattercarpet\"}], \"scattergeo\": [{\"marker\": {\"colorbar\": {\"outlinewidth\": 0, \"ticks\": \"\"}}, \"type\": \"scattergeo\"}], \"scattergl\": [{\"marker\": {\"colorbar\": {\"outlinewidth\": 0, \"ticks\": \"\"}}, \"type\": \"scattergl\"}], \"scattermapbox\": [{\"marker\": {\"colorbar\": {\"outlinewidth\": 0, \"ticks\": \"\"}}, \"type\": \"scattermapbox\"}], \"scatterpolar\": [{\"marker\": {\"colorbar\": {\"outlinewidth\": 0, \"ticks\": \"\"}}, \"type\": \"scatterpolar\"}], \"scatterpolargl\": [{\"marker\": {\"colorbar\": {\"outlinewidth\": 0, \"ticks\": \"\"}}, \"type\": \"scatterpolargl\"}], \"scatterternary\": [{\"marker\": {\"colorbar\": {\"outlinewidth\": 0, \"ticks\": \"\"}}, \"type\": \"scatterternary\"}], \"surface\": [{\"colorbar\": {\"outlinewidth\": 0, \"ticks\": \"\"}, \"colorscale\": [[0.0, \"#0d0887\"], [0.1111111111111111, \"#46039f\"], [0.2222222222222222, \"#7201a8\"], [0.3333333333333333, \"#9c179e\"], [0.4444444444444444, \"#bd3786\"], [0.5555555555555556, \"#d8576b\"], [0.6666666666666666, \"#ed7953\"], [0.7777777777777778, \"#fb9f3a\"], [0.8888888888888888, \"#fdca26\"], [1.0, \"#f0f921\"]], \"type\": \"surface\"}], \"table\": [{\"cells\": {\"fill\": {\"color\": \"#EBF0F8\"}, \"line\": {\"color\": \"white\"}}, \"header\": {\"fill\": {\"color\": \"#C8D4E3\"}, \"line\": {\"color\": \"white\"}}, \"type\": \"table\"}]}, \"layout\": {\"annotationdefaults\": {\"arrowcolor\": \"#2a3f5f\", \"arrowhead\": 0, \"arrowwidth\": 1}, \"autotypenumbers\": \"strict\", \"coloraxis\": {\"colorbar\": {\"outlinewidth\": 0, \"ticks\": \"\"}}, \"colorscale\": {\"diverging\": [[0, \"#8e0152\"], [0.1, \"#c51b7d\"], [0.2, \"#de77ae\"], [0.3, \"#f1b6da\"], [0.4, \"#fde0ef\"], [0.5, \"#f7f7f7\"], [0.6, \"#e6f5d0\"], [0.7, \"#b8e186\"], [0.8, \"#7fbc41\"], [0.9, \"#4d9221\"], [1, \"#276419\"]], \"sequential\": [[0.0, \"#0d0887\"], [0.1111111111111111, \"#46039f\"], [0.2222222222222222, \"#7201a8\"], [0.3333333333333333, \"#9c179e\"], [0.4444444444444444, \"#bd3786\"], [0.5555555555555556, \"#d8576b\"], [0.6666666666666666, \"#ed7953\"], [0.7777777777777778, \"#fb9f3a\"], [0.8888888888888888, \"#fdca26\"], [1.0, \"#f0f921\"]], \"sequentialminus\": [[0.0, \"#0d0887\"], [0.1111111111111111, \"#46039f\"], [0.2222222222222222, \"#7201a8\"], [0.3333333333333333, \"#9c179e\"], [0.4444444444444444, \"#bd3786\"], [0.5555555555555556, \"#d8576b\"], [0.6666666666666666, \"#ed7953\"], [0.7777777777777778, \"#fb9f3a\"], [0.8888888888888888, \"#fdca26\"], [1.0, \"#f0f921\"]]}, \"colorway\": [\"#636efa\", \"#EF553B\", \"#00cc96\", \"#ab63fa\", \"#FFA15A\", \"#19d3f3\", \"#FF6692\", \"#B6E880\", \"#FF97FF\", \"#FECB52\"], \"font\": {\"color\": \"#2a3f5f\"}, \"geo\": {\"bgcolor\": \"white\", \"lakecolor\": \"white\", \"landcolor\": \"#E5ECF6\", \"showlakes\": true, \"showland\": true, \"subunitcolor\": \"white\"}, \"hoverlabel\": {\"align\": \"left\"}, \"hovermode\": \"closest\", \"mapbox\": {\"style\": \"light\"}, \"paper_bgcolor\": \"white\", \"plot_bgcolor\": \"#E5ECF6\", \"polar\": {\"angularaxis\": {\"gridcolor\": \"white\", \"linecolor\": \"white\", \"ticks\": \"\"}, \"bgcolor\": \"#E5ECF6\", \"radialaxis\": {\"gridcolor\": \"white\", \"linecolor\": \"white\", \"ticks\": \"\"}}, \"scene\": {\"xaxis\": {\"backgroundcolor\": \"#E5ECF6\", \"gridcolor\": \"white\", \"gridwidth\": 2, \"linecolor\": \"white\", \"showbackground\": true, \"ticks\": \"\", \"zerolinecolor\": \"white\"}, \"yaxis\": {\"backgroundcolor\": \"#E5ECF6\", \"gridcolor\": \"white\", \"gridwidth\": 2, \"linecolor\": \"white\", \"showbackground\": true, \"ticks\": \"\", \"zerolinecolor\": \"white\"}, \"zaxis\": {\"backgroundcolor\": \"#E5ECF6\", \"gridcolor\": \"white\", \"gridwidth\": 2, \"linecolor\": \"white\", \"showbackground\": true, \"ticks\": \"\", \"zerolinecolor\": \"white\"}}, \"shapedefaults\": {\"line\": {\"color\": \"#2a3f5f\"}}, \"ternary\": {\"aaxis\": {\"gridcolor\": \"white\", \"linecolor\": \"white\", \"ticks\": \"\"}, \"baxis\": {\"gridcolor\": \"white\", \"linecolor\": \"white\", \"ticks\": \"\"}, \"bgcolor\": \"#E5ECF6\", \"caxis\": {\"gridcolor\": \"white\", \"linecolor\": \"white\", \"ticks\": \"\"}}, \"title\": {\"x\": 0.05}, \"xaxis\": {\"automargin\": true, \"gridcolor\": \"white\", \"linecolor\": \"white\", \"ticks\": \"\", \"title\": {\"standoff\": 15}, \"zerolinecolor\": \"white\", \"zerolinewidth\": 2}, \"yaxis\": {\"automargin\": true, \"gridcolor\": \"white\", \"linecolor\": \"white\", \"ticks\": \"\", \"title\": {\"standoff\": 15}, \"zerolinecolor\": \"white\", \"zerolinewidth\": 2}}}, \"xaxis\": {\"anchor\": \"y\", \"domain\": [0.0, 1.0], \"title\": {\"text\": \"date\"}}, \"yaxis\": {\"anchor\": \"x\", \"domain\": [0.0, 1.0], \"title\": {\"text\": \"price\"}}},                        {\"responsive\": true}                    ).then(function(){\n",
       "                            \n",
       "var gd = document.getElementById('bbd48224-f894-4933-aeb4-a242d0e300d4');\n",
       "var x = new MutationObserver(function (mutations, observer) {{\n",
       "        var display = window.getComputedStyle(gd).display;\n",
       "        if (!display || display === 'none') {{\n",
       "            console.log([gd, 'removed!']);\n",
       "            Plotly.purge(gd);\n",
       "            observer.disconnect();\n",
       "        }}\n",
       "}});\n",
       "\n",
       "// Listen for the removal of the full notebook cells\n",
       "var notebookContainer = gd.closest('#notebook-container');\n",
       "if (notebookContainer) {{\n",
       "    x.observe(notebookContainer, {childList: true});\n",
       "}}\n",
       "\n",
       "// Listen for the clearing of the current output cell\n",
       "var outputEl = gd.closest('.output');\n",
       "if (outputEl) {{\n",
       "    x.observe(outputEl, {childList: true});\n",
       "}}\n",
       "\n",
       "                        })                };                });            </script>        </div>"
      ]
     },
     "metadata": {},
     "output_type": "display_data"
    }
   ],
   "source": [
    "\n",
    "fig = px.scatter(df_318_rus, x=\"date\", y=\"price\", color=\"room_type\", trendline=\"lowess\")\n",
    "fig.show()"
   ]
  },
  {
   "cell_type": "code",
   "execution_count": 304,
   "metadata": {},
   "outputs": [],
   "source": [
    "df_318_rus.loc[:, \"room_type_2\"] = df_318_rus['bed'].astype(int).astype(str) + \"b\" + df_318_rus['bath'].astype(int).astype(str) + \"b\""
   ]
  },
  {
   "cell_type": "code",
   "execution_count": 308,
   "metadata": {},
   "outputs": [
    {
     "data": {
      "application/vnd.plotly.v1+json": {
       "config": {
        "plotlyServerURL": "https://plot.ly"
       },
       "data": [
        {
         "hovertemplate": "room_type_2=1b1b<br>date=%{x}<br>price=%{y}<extra></extra>",
         "legendgroup": "1b1b",
         "marker": {
          "color": "#636efa",
          "symbol": "circle"
         },
         "mode": "markers",
         "name": "1b1b",
         "orientation": "v",
         "showlegend": true,
         "type": "scatter",
         "x": [
          "2021-03-03T00:00:00",
          "2021-03-03T00:00:00",
          "2021-02-24T00:00:00",
          "2021-02-10T00:00:00",
          "2021-02-10T00:00:00",
          "2021-02-03T00:00:00",
          "2021-01-24T00:00:00",
          "2021-01-22T00:00:00",
          "2021-01-21T00:00:00",
          "2021-01-17T00:00:00",
          "2021-01-17T00:00:00",
          "2021-01-13T00:00:00",
          "2021-01-12T00:00:00",
          "2021-01-10T00:00:00",
          "2021-01-10T00:00:00",
          "2021-01-08T00:00:00",
          "2021-01-05T00:00:00",
          "2020-12-18T00:00:00",
          "2020-12-16T00:00:00",
          "2020-12-09T00:00:00",
          "2020-12-03T00:00:00",
          "2020-07-29T00:00:00",
          "2020-07-17T00:00:00",
          "2020-07-01T00:00:00",
          "2020-06-18T00:00:00",
          "2020-06-12T00:00:00",
          "2020-01-24T00:00:00",
          "2020-01-23T00:00:00",
          "2020-01-23T00:00:00",
          "2020-01-16T00:00:00",
          "2020-01-09T00:00:00",
          "2020-01-09T00:00:00",
          "2019-12-13T00:00:00",
          "2019-12-11T00:00:00",
          "2019-11-28T00:00:00",
          "2019-11-14T00:00:00",
          "2019-10-22T00:00:00",
          "2019-10-08T00:00:00",
          "2019-05-16T00:00:00",
          "2019-02-27T00:00:00",
          "2019-01-30T00:00:00",
          "2019-01-16T00:00:00",
          "2018-12-05T00:00:00",
          "2018-11-21T00:00:00",
          "2018-10-31T00:00:00",
          "2018-10-12T00:00:00",
          "2018-08-22T00:00:00",
          "2018-07-11T00:00:00",
          "2018-06-13T00:00:00",
          "2018-05-02T00:00:00",
          "2018-04-25T00:00:00",
          "2018-01-24T00:00:00",
          "2018-01-24T00:00:00",
          "2018-01-17T00:00:00",
          "2017-11-29T00:00:00",
          "2017-11-15T00:00:00",
          "2017-09-10T00:00:00",
          "2017-07-07T00:00:00",
          "2017-06-29T00:00:00",
          "2017-06-23T00:00:00",
          "2017-01-30T00:00:00",
          "2017-01-10T00:00:00",
          "2016-11-09T00:00:00",
          "2016-10-07T00:00:00",
          "2016-06-02T00:00:00",
          "2016-03-23T00:00:00",
          "2015-12-30T00:00:00",
          "2015-06-10T00:00:00",
          "2014-12-12T00:00:00"
         ],
         "xaxis": "x",
         "y": [
          380,
          420,
          330,
          430,
          300,
          410,
          430,
          450,
          420,
          430,
          420,
          400,
          430,
          430,
          400,
          420,
          420,
          400,
          430,
          450,
          380,
          450,
          430,
          500,
          500,
          500,
          500,
          522,
          560,
          560,
          461,
          550,
          550,
          541,
          542,
          560,
          552,
          540,
          550,
          550,
          550,
          550,
          490,
          500,
          550,
          521,
          550,
          510,
          470,
          490,
          450,
          530,
          540,
          480,
          540,
          580,
          480,
          531,
          500,
          460,
          430,
          450,
          450,
          520,
          450,
          520,
          460,
          430,
          390
         ],
         "yaxis": "y"
        },
        {
         "hovertemplate": "room_type_2=2b1b<br>date=%{x}<br>price=%{y}<extra></extra>",
         "legendgroup": "2b1b",
         "marker": {
          "color": "#EF553B",
          "symbol": "circle"
         },
         "mode": "markers",
         "name": "2b1b",
         "orientation": "v",
         "showlegend": true,
         "type": "scatter",
         "x": [
          "2021-03-02T00:00:00",
          "2021-01-28T00:00:00",
          "2021-01-24T00:00:00",
          "2021-01-20T00:00:00",
          "2021-01-20T00:00:00",
          "2020-12-23T00:00:00",
          "2020-12-06T00:00:00",
          "2020-12-02T00:00:00",
          "2020-11-27T00:00:00",
          "2020-11-27T00:00:00",
          "2020-11-22T00:00:00",
          "2020-11-18T00:00:00",
          "2020-11-15T00:00:00",
          "2020-10-04T00:00:00",
          "2020-08-05T00:00:00",
          "2020-07-29T00:00:00",
          "2020-07-15T00:00:00",
          "2020-07-01T00:00:00",
          "2020-06-24T00:00:00",
          "2020-04-15T00:00:00",
          "2020-02-27T00:00:00",
          "2020-02-27T00:00:00",
          "2020-02-27T00:00:00",
          "2020-01-23T00:00:00",
          "2019-12-13T00:00:00",
          "2019-10-22T00:00:00",
          "2019-10-18T00:00:00",
          "2019-08-23T00:00:00",
          "2019-05-16T00:00:00",
          "2019-02-27T00:00:00",
          "2019-01-09T00:00:00",
          "2018-12-11T00:00:00",
          "2018-11-14T00:00:00",
          "2018-10-31T00:00:00",
          "2018-04-18T00:00:00",
          "2018-02-07T00:00:00",
          "2018-01-10T00:00:00",
          "2018-01-03T00:00:00",
          "2017-12-20T00:00:00",
          "2017-11-08T00:00:00",
          "2017-11-02T00:00:00",
          "2017-09-17T00:00:00",
          "2017-02-23T00:00:00",
          "2017-02-14T00:00:00",
          "2017-02-05T00:00:00",
          "2017-01-20T00:00:00",
          "2017-01-13T00:00:00",
          "2016-10-20T00:00:00",
          "2016-09-09T00:00:00",
          "2016-07-22T00:00:00",
          "2016-01-20T00:00:00",
          "2016-01-06T00:00:00",
          "2015-12-16T00:00:00",
          "2015-12-03T00:00:00",
          "2015-08-20T00:00:00",
          "2015-06-24T00:00:00",
          "2015-03-25T00:00:00",
          "2014-12-31T00:00:00"
         ],
         "xaxis": "x",
         "y": [
          420,
          430,
          460,
          600,
          460,
          500,
          500,
          390,
          450,
          400,
          390,
          450,
          460,
          430,
          530,
          500,
          530,
          580,
          600,
          600,
          662,
          780,
          650,
          730,
          650,
          630,
          620,
          600,
          680,
          750,
          630,
          630,
          620,
          660,
          760,
          650,
          670,
          650,
          651,
          690,
          580,
          580,
          650,
          565,
          660,
          640,
          590,
          660,
          570,
          572,
          560,
          630,
          530,
          561,
          602,
          600,
          625,
          468
         ],
         "yaxis": "y"
        },
        {
         "hovertemplate": "room_type_2=2b2b<br>date=%{x}<br>price=%{y}<extra></extra>",
         "legendgroup": "2b2b",
         "marker": {
          "color": "#00cc96",
          "symbol": "circle"
         },
         "mode": "markers",
         "name": "2b2b",
         "orientation": "v",
         "showlegend": true,
         "type": "scatter",
         "x": [
          "2021-02-24T00:00:00",
          "2021-02-24T00:00:00",
          "2021-02-10T00:00:00",
          "2021-02-10T00:00:00",
          "2021-02-04T00:00:00",
          "2021-02-03T00:00:00",
          "2021-01-31T00:00:00",
          "2021-01-24T00:00:00",
          "2021-01-22T00:00:00",
          "2021-01-17T00:00:00",
          "2021-01-14T00:00:00",
          "2021-01-08T00:00:00",
          "2021-01-06T00:00:00",
          "2020-12-18T00:00:00",
          "2020-12-11T00:00:00",
          "2020-12-06T00:00:00",
          "2020-12-06T00:00:00",
          "2020-12-06T00:00:00",
          "2020-12-03T00:00:00",
          "2020-10-27T00:00:00",
          "2020-09-15T00:00:00",
          "2020-06-10T00:00:00",
          "2020-06-03T00:00:00",
          "2020-05-30T00:00:00",
          "2020-05-13T00:00:00",
          "2020-04-15T00:00:00",
          "2020-04-15T00:00:00",
          "2020-04-15T00:00:00",
          "2020-04-15T00:00:00",
          "2020-02-13T00:00:00",
          "2020-02-13T00:00:00",
          "2020-01-30T00:00:00",
          "2020-01-16T00:00:00",
          "2020-01-10T00:00:00",
          "2020-01-09T00:00:00",
          "2019-12-17T00:00:00",
          "2019-12-12T00:00:00",
          "2019-12-05T00:00:00",
          "2019-11-20T00:00:00",
          "2019-11-01T00:00:00",
          "2019-10-24T00:00:00",
          "2019-10-16T00:00:00",
          "2019-10-15T00:00:00",
          "2019-10-15T00:00:00",
          "2019-08-06T00:00:00",
          "2019-08-01T00:00:00",
          "2019-07-14T00:00:00",
          "2019-07-12T00:00:00",
          "2019-03-08T00:00:00",
          "2019-03-06T00:00:00",
          "2019-02-20T00:00:00",
          "2019-02-20T00:00:00",
          "2019-02-06T00:00:00",
          "2019-02-06T00:00:00",
          "2019-01-30T00:00:00",
          "2019-01-23T00:00:00",
          "2019-01-23T00:00:00",
          "2019-01-10T00:00:00",
          "2019-01-09T00:00:00",
          "2019-01-09T00:00:00",
          "2019-01-02T00:00:00",
          "2018-11-21T00:00:00",
          "2018-11-21T00:00:00",
          "2018-11-14T00:00:00",
          "2018-08-22T00:00:00",
          "2018-08-16T00:00:00",
          "2018-08-15T00:00:00",
          "2018-07-18T00:00:00",
          "2018-07-18T00:00:00",
          "2018-07-17T00:00:00",
          "2018-07-15T00:00:00",
          "2018-04-11T00:00:00",
          "2018-03-21T00:00:00",
          "2018-02-28T00:00:00",
          "2018-02-21T00:00:00",
          "2018-02-21T00:00:00",
          "2018-02-09T00:00:00",
          "2018-02-02T00:00:00",
          "2018-01-31T00:00:00",
          "2018-01-18T00:00:00",
          "2017-11-29T00:00:00",
          "2017-11-15T00:00:00",
          "2017-07-12T00:00:00",
          "2017-06-21T00:00:00",
          "2017-06-08T00:00:00",
          "2017-02-12T00:00:00",
          "2017-01-20T00:00:00",
          "2017-01-13T00:00:00",
          "2017-01-13T00:00:00",
          "2016-11-24T00:00:00",
          "2016-11-13T00:00:00",
          "2016-11-11T00:00:00",
          "2016-10-20T00:00:00",
          "2016-08-19T00:00:00",
          "2016-08-17T00:00:00",
          "2016-07-22T00:00:00",
          "2016-07-13T00:00:00",
          "2016-03-16T00:00:00",
          "2016-02-24T00:00:00",
          "2016-02-21T00:00:00",
          "2016-01-27T00:00:00",
          "2016-01-14T00:00:00",
          "2016-01-13T00:00:00",
          "2015-12-02T00:00:00",
          "2015-10-01T00:00:00",
          "2015-04-16T00:00:00",
          "2015-03-27T00:00:00",
          "2015-01-28T00:00:00",
          "2014-12-31T00:00:00",
          "2014-12-31T00:00:00",
          "2014-12-25T00:00:00",
          "2014-12-17T00:00:00"
         ],
         "xaxis": "x",
         "y": [
          520,
          560,
          580,
          620,
          650,
          510,
          600,
          550,
          660,
          650,
          650,
          650,
          550,
          595,
          580,
          580,
          580,
          680,
          580,
          650,
          450,
          650,
          600,
          720,
          490,
          800,
          700,
          800,
          670,
          760,
          840,
          900,
          820,
          840,
          700,
          682,
          780,
          820,
          840,
          700,
          700,
          722,
          820,
          640,
          820,
          680,
          652,
          700,
          750,
          820,
          720,
          700,
          700,
          780,
          802,
          720,
          730,
          810,
          730,
          820,
          780,
          850,
          850,
          720,
          800,
          750,
          800,
          780,
          730,
          760,
          800,
          680,
          690,
          680,
          800,
          660,
          700,
          800,
          690,
          670,
          720,
          690,
          730,
          800,
          720,
          740,
          742,
          760,
          720,
          750,
          690,
          720,
          710,
          800,
          750,
          750,
          720,
          800,
          720,
          650,
          650,
          700,
          640,
          750,
          882,
          682,
          725,
          600,
          580,
          630,
          650,
          675
         ],
         "yaxis": "y"
        },
        {
         "hovertemplate": "room_type_2=3b2b<br>date=%{x}<br>price=%{y}<extra></extra>",
         "legendgroup": "3b2b",
         "marker": {
          "color": "#ab63fa",
          "symbol": "circle"
         },
         "mode": "markers",
         "name": "3b2b",
         "orientation": "v",
         "showlegend": true,
         "type": "scatter",
         "x": [
          "2020-12-17T00:00:00",
          "2020-10-02T00:00:00",
          "2020-07-08T00:00:00",
          "2019-09-04T00:00:00",
          "2018-10-31T00:00:00",
          "2018-03-07T00:00:00",
          "2017-05-07T00:00:00",
          "2017-02-23T00:00:00"
         ],
         "xaxis": "x",
         "y": [
          900,
          1200,
          950,
          1103,
          1200,
          1253,
          1200,
          1103
         ],
         "yaxis": "y"
        },
        {
         "hovertemplate": "room_type_2=3b3b<br>date=%{x}<br>price=%{y}<extra></extra>",
         "legendgroup": "3b3b",
         "marker": {
          "color": "#FFA15A",
          "symbol": "circle"
         },
         "mode": "markers",
         "name": "3b3b",
         "orientation": "v",
         "showlegend": true,
         "type": "scatter",
         "x": [
          "2017-11-02T00:00:00"
         ],
         "xaxis": "x",
         "y": [
          2200
         ],
         "yaxis": "y"
        }
       ],
       "layout": {
        "legend": {
         "title": {
          "text": "room_type_2"
         },
         "tracegroupgap": 0
        },
        "template": {
         "data": {
          "bar": [
           {
            "error_x": {
             "color": "#2a3f5f"
            },
            "error_y": {
             "color": "#2a3f5f"
            },
            "marker": {
             "line": {
              "color": "#E5ECF6",
              "width": 0.5
             }
            },
            "type": "bar"
           }
          ],
          "barpolar": [
           {
            "marker": {
             "line": {
              "color": "#E5ECF6",
              "width": 0.5
             }
            },
            "type": "barpolar"
           }
          ],
          "carpet": [
           {
            "aaxis": {
             "endlinecolor": "#2a3f5f",
             "gridcolor": "white",
             "linecolor": "white",
             "minorgridcolor": "white",
             "startlinecolor": "#2a3f5f"
            },
            "baxis": {
             "endlinecolor": "#2a3f5f",
             "gridcolor": "white",
             "linecolor": "white",
             "minorgridcolor": "white",
             "startlinecolor": "#2a3f5f"
            },
            "type": "carpet"
           }
          ],
          "choropleth": [
           {
            "colorbar": {
             "outlinewidth": 0,
             "ticks": ""
            },
            "type": "choropleth"
           }
          ],
          "contour": [
           {
            "colorbar": {
             "outlinewidth": 0,
             "ticks": ""
            },
            "colorscale": [
             [
              0,
              "#0d0887"
             ],
             [
              0.1111111111111111,
              "#46039f"
             ],
             [
              0.2222222222222222,
              "#7201a8"
             ],
             [
              0.3333333333333333,
              "#9c179e"
             ],
             [
              0.4444444444444444,
              "#bd3786"
             ],
             [
              0.5555555555555556,
              "#d8576b"
             ],
             [
              0.6666666666666666,
              "#ed7953"
             ],
             [
              0.7777777777777778,
              "#fb9f3a"
             ],
             [
              0.8888888888888888,
              "#fdca26"
             ],
             [
              1,
              "#f0f921"
             ]
            ],
            "type": "contour"
           }
          ],
          "contourcarpet": [
           {
            "colorbar": {
             "outlinewidth": 0,
             "ticks": ""
            },
            "type": "contourcarpet"
           }
          ],
          "heatmap": [
           {
            "colorbar": {
             "outlinewidth": 0,
             "ticks": ""
            },
            "colorscale": [
             [
              0,
              "#0d0887"
             ],
             [
              0.1111111111111111,
              "#46039f"
             ],
             [
              0.2222222222222222,
              "#7201a8"
             ],
             [
              0.3333333333333333,
              "#9c179e"
             ],
             [
              0.4444444444444444,
              "#bd3786"
             ],
             [
              0.5555555555555556,
              "#d8576b"
             ],
             [
              0.6666666666666666,
              "#ed7953"
             ],
             [
              0.7777777777777778,
              "#fb9f3a"
             ],
             [
              0.8888888888888888,
              "#fdca26"
             ],
             [
              1,
              "#f0f921"
             ]
            ],
            "type": "heatmap"
           }
          ],
          "heatmapgl": [
           {
            "colorbar": {
             "outlinewidth": 0,
             "ticks": ""
            },
            "colorscale": [
             [
              0,
              "#0d0887"
             ],
             [
              0.1111111111111111,
              "#46039f"
             ],
             [
              0.2222222222222222,
              "#7201a8"
             ],
             [
              0.3333333333333333,
              "#9c179e"
             ],
             [
              0.4444444444444444,
              "#bd3786"
             ],
             [
              0.5555555555555556,
              "#d8576b"
             ],
             [
              0.6666666666666666,
              "#ed7953"
             ],
             [
              0.7777777777777778,
              "#fb9f3a"
             ],
             [
              0.8888888888888888,
              "#fdca26"
             ],
             [
              1,
              "#f0f921"
             ]
            ],
            "type": "heatmapgl"
           }
          ],
          "histogram": [
           {
            "marker": {
             "colorbar": {
              "outlinewidth": 0,
              "ticks": ""
             }
            },
            "type": "histogram"
           }
          ],
          "histogram2d": [
           {
            "colorbar": {
             "outlinewidth": 0,
             "ticks": ""
            },
            "colorscale": [
             [
              0,
              "#0d0887"
             ],
             [
              0.1111111111111111,
              "#46039f"
             ],
             [
              0.2222222222222222,
              "#7201a8"
             ],
             [
              0.3333333333333333,
              "#9c179e"
             ],
             [
              0.4444444444444444,
              "#bd3786"
             ],
             [
              0.5555555555555556,
              "#d8576b"
             ],
             [
              0.6666666666666666,
              "#ed7953"
             ],
             [
              0.7777777777777778,
              "#fb9f3a"
             ],
             [
              0.8888888888888888,
              "#fdca26"
             ],
             [
              1,
              "#f0f921"
             ]
            ],
            "type": "histogram2d"
           }
          ],
          "histogram2dcontour": [
           {
            "colorbar": {
             "outlinewidth": 0,
             "ticks": ""
            },
            "colorscale": [
             [
              0,
              "#0d0887"
             ],
             [
              0.1111111111111111,
              "#46039f"
             ],
             [
              0.2222222222222222,
              "#7201a8"
             ],
             [
              0.3333333333333333,
              "#9c179e"
             ],
             [
              0.4444444444444444,
              "#bd3786"
             ],
             [
              0.5555555555555556,
              "#d8576b"
             ],
             [
              0.6666666666666666,
              "#ed7953"
             ],
             [
              0.7777777777777778,
              "#fb9f3a"
             ],
             [
              0.8888888888888888,
              "#fdca26"
             ],
             [
              1,
              "#f0f921"
             ]
            ],
            "type": "histogram2dcontour"
           }
          ],
          "mesh3d": [
           {
            "colorbar": {
             "outlinewidth": 0,
             "ticks": ""
            },
            "type": "mesh3d"
           }
          ],
          "parcoords": [
           {
            "line": {
             "colorbar": {
              "outlinewidth": 0,
              "ticks": ""
             }
            },
            "type": "parcoords"
           }
          ],
          "pie": [
           {
            "automargin": true,
            "type": "pie"
           }
          ],
          "scatter": [
           {
            "marker": {
             "colorbar": {
              "outlinewidth": 0,
              "ticks": ""
             }
            },
            "type": "scatter"
           }
          ],
          "scatter3d": [
           {
            "line": {
             "colorbar": {
              "outlinewidth": 0,
              "ticks": ""
             }
            },
            "marker": {
             "colorbar": {
              "outlinewidth": 0,
              "ticks": ""
             }
            },
            "type": "scatter3d"
           }
          ],
          "scattercarpet": [
           {
            "marker": {
             "colorbar": {
              "outlinewidth": 0,
              "ticks": ""
             }
            },
            "type": "scattercarpet"
           }
          ],
          "scattergeo": [
           {
            "marker": {
             "colorbar": {
              "outlinewidth": 0,
              "ticks": ""
             }
            },
            "type": "scattergeo"
           }
          ],
          "scattergl": [
           {
            "marker": {
             "colorbar": {
              "outlinewidth": 0,
              "ticks": ""
             }
            },
            "type": "scattergl"
           }
          ],
          "scattermapbox": [
           {
            "marker": {
             "colorbar": {
              "outlinewidth": 0,
              "ticks": ""
             }
            },
            "type": "scattermapbox"
           }
          ],
          "scatterpolar": [
           {
            "marker": {
             "colorbar": {
              "outlinewidth": 0,
              "ticks": ""
             }
            },
            "type": "scatterpolar"
           }
          ],
          "scatterpolargl": [
           {
            "marker": {
             "colorbar": {
              "outlinewidth": 0,
              "ticks": ""
             }
            },
            "type": "scatterpolargl"
           }
          ],
          "scatterternary": [
           {
            "marker": {
             "colorbar": {
              "outlinewidth": 0,
              "ticks": ""
             }
            },
            "type": "scatterternary"
           }
          ],
          "surface": [
           {
            "colorbar": {
             "outlinewidth": 0,
             "ticks": ""
            },
            "colorscale": [
             [
              0,
              "#0d0887"
             ],
             [
              0.1111111111111111,
              "#46039f"
             ],
             [
              0.2222222222222222,
              "#7201a8"
             ],
             [
              0.3333333333333333,
              "#9c179e"
             ],
             [
              0.4444444444444444,
              "#bd3786"
             ],
             [
              0.5555555555555556,
              "#d8576b"
             ],
             [
              0.6666666666666666,
              "#ed7953"
             ],
             [
              0.7777777777777778,
              "#fb9f3a"
             ],
             [
              0.8888888888888888,
              "#fdca26"
             ],
             [
              1,
              "#f0f921"
             ]
            ],
            "type": "surface"
           }
          ],
          "table": [
           {
            "cells": {
             "fill": {
              "color": "#EBF0F8"
             },
             "line": {
              "color": "white"
             }
            },
            "header": {
             "fill": {
              "color": "#C8D4E3"
             },
             "line": {
              "color": "white"
             }
            },
            "type": "table"
           }
          ]
         },
         "layout": {
          "annotationdefaults": {
           "arrowcolor": "#2a3f5f",
           "arrowhead": 0,
           "arrowwidth": 1
          },
          "autotypenumbers": "strict",
          "coloraxis": {
           "colorbar": {
            "outlinewidth": 0,
            "ticks": ""
           }
          },
          "colorscale": {
           "diverging": [
            [
             0,
             "#8e0152"
            ],
            [
             0.1,
             "#c51b7d"
            ],
            [
             0.2,
             "#de77ae"
            ],
            [
             0.3,
             "#f1b6da"
            ],
            [
             0.4,
             "#fde0ef"
            ],
            [
             0.5,
             "#f7f7f7"
            ],
            [
             0.6,
             "#e6f5d0"
            ],
            [
             0.7,
             "#b8e186"
            ],
            [
             0.8,
             "#7fbc41"
            ],
            [
             0.9,
             "#4d9221"
            ],
            [
             1,
             "#276419"
            ]
           ],
           "sequential": [
            [
             0,
             "#0d0887"
            ],
            [
             0.1111111111111111,
             "#46039f"
            ],
            [
             0.2222222222222222,
             "#7201a8"
            ],
            [
             0.3333333333333333,
             "#9c179e"
            ],
            [
             0.4444444444444444,
             "#bd3786"
            ],
            [
             0.5555555555555556,
             "#d8576b"
            ],
            [
             0.6666666666666666,
             "#ed7953"
            ],
            [
             0.7777777777777778,
             "#fb9f3a"
            ],
            [
             0.8888888888888888,
             "#fdca26"
            ],
            [
             1,
             "#f0f921"
            ]
           ],
           "sequentialminus": [
            [
             0,
             "#0d0887"
            ],
            [
             0.1111111111111111,
             "#46039f"
            ],
            [
             0.2222222222222222,
             "#7201a8"
            ],
            [
             0.3333333333333333,
             "#9c179e"
            ],
            [
             0.4444444444444444,
             "#bd3786"
            ],
            [
             0.5555555555555556,
             "#d8576b"
            ],
            [
             0.6666666666666666,
             "#ed7953"
            ],
            [
             0.7777777777777778,
             "#fb9f3a"
            ],
            [
             0.8888888888888888,
             "#fdca26"
            ],
            [
             1,
             "#f0f921"
            ]
           ]
          },
          "colorway": [
           "#636efa",
           "#EF553B",
           "#00cc96",
           "#ab63fa",
           "#FFA15A",
           "#19d3f3",
           "#FF6692",
           "#B6E880",
           "#FF97FF",
           "#FECB52"
          ],
          "font": {
           "color": "#2a3f5f"
          },
          "geo": {
           "bgcolor": "white",
           "lakecolor": "white",
           "landcolor": "#E5ECF6",
           "showlakes": true,
           "showland": true,
           "subunitcolor": "white"
          },
          "hoverlabel": {
           "align": "left"
          },
          "hovermode": "closest",
          "mapbox": {
           "style": "light"
          },
          "paper_bgcolor": "white",
          "plot_bgcolor": "#E5ECF6",
          "polar": {
           "angularaxis": {
            "gridcolor": "white",
            "linecolor": "white",
            "ticks": ""
           },
           "bgcolor": "#E5ECF6",
           "radialaxis": {
            "gridcolor": "white",
            "linecolor": "white",
            "ticks": ""
           }
          },
          "scene": {
           "xaxis": {
            "backgroundcolor": "#E5ECF6",
            "gridcolor": "white",
            "gridwidth": 2,
            "linecolor": "white",
            "showbackground": true,
            "ticks": "",
            "zerolinecolor": "white"
           },
           "yaxis": {
            "backgroundcolor": "#E5ECF6",
            "gridcolor": "white",
            "gridwidth": 2,
            "linecolor": "white",
            "showbackground": true,
            "ticks": "",
            "zerolinecolor": "white"
           },
           "zaxis": {
            "backgroundcolor": "#E5ECF6",
            "gridcolor": "white",
            "gridwidth": 2,
            "linecolor": "white",
            "showbackground": true,
            "ticks": "",
            "zerolinecolor": "white"
           }
          },
          "shapedefaults": {
           "line": {
            "color": "#2a3f5f"
           }
          },
          "ternary": {
           "aaxis": {
            "gridcolor": "white",
            "linecolor": "white",
            "ticks": ""
           },
           "baxis": {
            "gridcolor": "white",
            "linecolor": "white",
            "ticks": ""
           },
           "bgcolor": "#E5ECF6",
           "caxis": {
            "gridcolor": "white",
            "linecolor": "white",
            "ticks": ""
           }
          },
          "title": {
           "x": 0.05
          },
          "xaxis": {
           "automargin": true,
           "gridcolor": "white",
           "linecolor": "white",
           "ticks": "",
           "title": {
            "standoff": 15
           },
           "zerolinecolor": "white",
           "zerolinewidth": 2
          },
          "yaxis": {
           "automargin": true,
           "gridcolor": "white",
           "linecolor": "white",
           "ticks": "",
           "title": {
            "standoff": 15
           },
           "zerolinecolor": "white",
           "zerolinewidth": 2
          }
         }
        },
        "title": {
         "text": "Building Rented History"
        },
        "width": 700,
        "xaxis": {
         "anchor": "y",
         "domain": [
          0,
          1
         ],
         "title": {
          "text": "date"
         }
        },
        "yaxis": {
         "anchor": "x",
         "domain": [
          0,
          1
         ],
         "title": {
          "text": "price"
         }
        }
       }
      },
      "text/html": [
       "<div>                            <div id=\"649cb998-79ef-4ac9-abb4-cceecb1a84f0\" class=\"plotly-graph-div\" style=\"height:525px; width:700px;\"></div>            <script type=\"text/javascript\">                require([\"plotly\"], function(Plotly) {                    window.PLOTLYENV=window.PLOTLYENV || {};                                    if (document.getElementById(\"649cb998-79ef-4ac9-abb4-cceecb1a84f0\")) {                    Plotly.newPlot(                        \"649cb998-79ef-4ac9-abb4-cceecb1a84f0\",                        [{\"hovertemplate\": \"room_type_2=1b1b<br>date=%{x}<br>price=%{y}<extra></extra>\", \"legendgroup\": \"1b1b\", \"marker\": {\"color\": \"#636efa\", \"symbol\": \"circle\"}, \"mode\": \"markers\", \"name\": \"1b1b\", \"orientation\": \"v\", \"showlegend\": true, \"type\": \"scatter\", \"x\": [\"2021-03-03T00:00:00\", \"2021-03-03T00:00:00\", \"2021-02-24T00:00:00\", \"2021-02-10T00:00:00\", \"2021-02-10T00:00:00\", \"2021-02-03T00:00:00\", \"2021-01-24T00:00:00\", \"2021-01-22T00:00:00\", \"2021-01-21T00:00:00\", \"2021-01-17T00:00:00\", \"2021-01-17T00:00:00\", \"2021-01-13T00:00:00\", \"2021-01-12T00:00:00\", \"2021-01-10T00:00:00\", \"2021-01-10T00:00:00\", \"2021-01-08T00:00:00\", \"2021-01-05T00:00:00\", \"2020-12-18T00:00:00\", \"2020-12-16T00:00:00\", \"2020-12-09T00:00:00\", \"2020-12-03T00:00:00\", \"2020-07-29T00:00:00\", \"2020-07-17T00:00:00\", \"2020-07-01T00:00:00\", \"2020-06-18T00:00:00\", \"2020-06-12T00:00:00\", \"2020-01-24T00:00:00\", \"2020-01-23T00:00:00\", \"2020-01-23T00:00:00\", \"2020-01-16T00:00:00\", \"2020-01-09T00:00:00\", \"2020-01-09T00:00:00\", \"2019-12-13T00:00:00\", \"2019-12-11T00:00:00\", \"2019-11-28T00:00:00\", \"2019-11-14T00:00:00\", \"2019-10-22T00:00:00\", \"2019-10-08T00:00:00\", \"2019-05-16T00:00:00\", \"2019-02-27T00:00:00\", \"2019-01-30T00:00:00\", \"2019-01-16T00:00:00\", \"2018-12-05T00:00:00\", \"2018-11-21T00:00:00\", \"2018-10-31T00:00:00\", \"2018-10-12T00:00:00\", \"2018-08-22T00:00:00\", \"2018-07-11T00:00:00\", \"2018-06-13T00:00:00\", \"2018-05-02T00:00:00\", \"2018-04-25T00:00:00\", \"2018-01-24T00:00:00\", \"2018-01-24T00:00:00\", \"2018-01-17T00:00:00\", \"2017-11-29T00:00:00\", \"2017-11-15T00:00:00\", \"2017-09-10T00:00:00\", \"2017-07-07T00:00:00\", \"2017-06-29T00:00:00\", \"2017-06-23T00:00:00\", \"2017-01-30T00:00:00\", \"2017-01-10T00:00:00\", \"2016-11-09T00:00:00\", \"2016-10-07T00:00:00\", \"2016-06-02T00:00:00\", \"2016-03-23T00:00:00\", \"2015-12-30T00:00:00\", \"2015-06-10T00:00:00\", \"2014-12-12T00:00:00\"], \"xaxis\": \"x\", \"y\": [380, 420, 330, 430, 300, 410, 430, 450, 420, 430, 420, 400, 430, 430, 400, 420, 420, 400, 430, 450, 380, 450, 430, 500, 500, 500, 500, 522, 560, 560, 461, 550, 550, 541, 542, 560, 552, 540, 550, 550, 550, 550, 490, 500, 550, 521, 550, 510, 470, 490, 450, 530, 540, 480, 540, 580, 480, 531, 500, 460, 430, 450, 450, 520, 450, 520, 460, 430, 390], \"yaxis\": \"y\"}, {\"hovertemplate\": \"room_type_2=2b1b<br>date=%{x}<br>price=%{y}<extra></extra>\", \"legendgroup\": \"2b1b\", \"marker\": {\"color\": \"#EF553B\", \"symbol\": \"circle\"}, \"mode\": \"markers\", \"name\": \"2b1b\", \"orientation\": \"v\", \"showlegend\": true, \"type\": \"scatter\", \"x\": [\"2021-03-02T00:00:00\", \"2021-01-28T00:00:00\", \"2021-01-24T00:00:00\", \"2021-01-20T00:00:00\", \"2021-01-20T00:00:00\", \"2020-12-23T00:00:00\", \"2020-12-06T00:00:00\", \"2020-12-02T00:00:00\", \"2020-11-27T00:00:00\", \"2020-11-27T00:00:00\", \"2020-11-22T00:00:00\", \"2020-11-18T00:00:00\", \"2020-11-15T00:00:00\", \"2020-10-04T00:00:00\", \"2020-08-05T00:00:00\", \"2020-07-29T00:00:00\", \"2020-07-15T00:00:00\", \"2020-07-01T00:00:00\", \"2020-06-24T00:00:00\", \"2020-04-15T00:00:00\", \"2020-02-27T00:00:00\", \"2020-02-27T00:00:00\", \"2020-02-27T00:00:00\", \"2020-01-23T00:00:00\", \"2019-12-13T00:00:00\", \"2019-10-22T00:00:00\", \"2019-10-18T00:00:00\", \"2019-08-23T00:00:00\", \"2019-05-16T00:00:00\", \"2019-02-27T00:00:00\", \"2019-01-09T00:00:00\", \"2018-12-11T00:00:00\", \"2018-11-14T00:00:00\", \"2018-10-31T00:00:00\", \"2018-04-18T00:00:00\", \"2018-02-07T00:00:00\", \"2018-01-10T00:00:00\", \"2018-01-03T00:00:00\", \"2017-12-20T00:00:00\", \"2017-11-08T00:00:00\", \"2017-11-02T00:00:00\", \"2017-09-17T00:00:00\", \"2017-02-23T00:00:00\", \"2017-02-14T00:00:00\", \"2017-02-05T00:00:00\", \"2017-01-20T00:00:00\", \"2017-01-13T00:00:00\", \"2016-10-20T00:00:00\", \"2016-09-09T00:00:00\", \"2016-07-22T00:00:00\", \"2016-01-20T00:00:00\", \"2016-01-06T00:00:00\", \"2015-12-16T00:00:00\", \"2015-12-03T00:00:00\", \"2015-08-20T00:00:00\", \"2015-06-24T00:00:00\", \"2015-03-25T00:00:00\", \"2014-12-31T00:00:00\"], \"xaxis\": \"x\", \"y\": [420, 430, 460, 600, 460, 500, 500, 390, 450, 400, 390, 450, 460, 430, 530, 500, 530, 580, 600, 600, 662, 780, 650, 730, 650, 630, 620, 600, 680, 750, 630, 630, 620, 660, 760, 650, 670, 650, 651, 690, 580, 580, 650, 565, 660, 640, 590, 660, 570, 572, 560, 630, 530, 561, 602, 600, 625, 468], \"yaxis\": \"y\"}, {\"hovertemplate\": \"room_type_2=2b2b<br>date=%{x}<br>price=%{y}<extra></extra>\", \"legendgroup\": \"2b2b\", \"marker\": {\"color\": \"#00cc96\", \"symbol\": \"circle\"}, \"mode\": \"markers\", \"name\": \"2b2b\", \"orientation\": \"v\", \"showlegend\": true, \"type\": \"scatter\", \"x\": [\"2021-02-24T00:00:00\", \"2021-02-24T00:00:00\", \"2021-02-10T00:00:00\", \"2021-02-10T00:00:00\", \"2021-02-04T00:00:00\", \"2021-02-03T00:00:00\", \"2021-01-31T00:00:00\", \"2021-01-24T00:00:00\", \"2021-01-22T00:00:00\", \"2021-01-17T00:00:00\", \"2021-01-14T00:00:00\", \"2021-01-08T00:00:00\", \"2021-01-06T00:00:00\", \"2020-12-18T00:00:00\", \"2020-12-11T00:00:00\", \"2020-12-06T00:00:00\", \"2020-12-06T00:00:00\", \"2020-12-06T00:00:00\", \"2020-12-03T00:00:00\", \"2020-10-27T00:00:00\", \"2020-09-15T00:00:00\", \"2020-06-10T00:00:00\", \"2020-06-03T00:00:00\", \"2020-05-30T00:00:00\", \"2020-05-13T00:00:00\", \"2020-04-15T00:00:00\", \"2020-04-15T00:00:00\", \"2020-04-15T00:00:00\", \"2020-04-15T00:00:00\", \"2020-02-13T00:00:00\", \"2020-02-13T00:00:00\", \"2020-01-30T00:00:00\", \"2020-01-16T00:00:00\", \"2020-01-10T00:00:00\", \"2020-01-09T00:00:00\", \"2019-12-17T00:00:00\", \"2019-12-12T00:00:00\", \"2019-12-05T00:00:00\", \"2019-11-20T00:00:00\", \"2019-11-01T00:00:00\", \"2019-10-24T00:00:00\", \"2019-10-16T00:00:00\", \"2019-10-15T00:00:00\", \"2019-10-15T00:00:00\", \"2019-08-06T00:00:00\", \"2019-08-01T00:00:00\", \"2019-07-14T00:00:00\", \"2019-07-12T00:00:00\", \"2019-03-08T00:00:00\", \"2019-03-06T00:00:00\", \"2019-02-20T00:00:00\", \"2019-02-20T00:00:00\", \"2019-02-06T00:00:00\", \"2019-02-06T00:00:00\", \"2019-01-30T00:00:00\", \"2019-01-23T00:00:00\", \"2019-01-23T00:00:00\", \"2019-01-10T00:00:00\", \"2019-01-09T00:00:00\", \"2019-01-09T00:00:00\", \"2019-01-02T00:00:00\", \"2018-11-21T00:00:00\", \"2018-11-21T00:00:00\", \"2018-11-14T00:00:00\", \"2018-08-22T00:00:00\", \"2018-08-16T00:00:00\", \"2018-08-15T00:00:00\", \"2018-07-18T00:00:00\", \"2018-07-18T00:00:00\", \"2018-07-17T00:00:00\", \"2018-07-15T00:00:00\", \"2018-04-11T00:00:00\", \"2018-03-21T00:00:00\", \"2018-02-28T00:00:00\", \"2018-02-21T00:00:00\", \"2018-02-21T00:00:00\", \"2018-02-09T00:00:00\", \"2018-02-02T00:00:00\", \"2018-01-31T00:00:00\", \"2018-01-18T00:00:00\", \"2017-11-29T00:00:00\", \"2017-11-15T00:00:00\", \"2017-07-12T00:00:00\", \"2017-06-21T00:00:00\", \"2017-06-08T00:00:00\", \"2017-02-12T00:00:00\", \"2017-01-20T00:00:00\", \"2017-01-13T00:00:00\", \"2017-01-13T00:00:00\", \"2016-11-24T00:00:00\", \"2016-11-13T00:00:00\", \"2016-11-11T00:00:00\", \"2016-10-20T00:00:00\", \"2016-08-19T00:00:00\", \"2016-08-17T00:00:00\", \"2016-07-22T00:00:00\", \"2016-07-13T00:00:00\", \"2016-03-16T00:00:00\", \"2016-02-24T00:00:00\", \"2016-02-21T00:00:00\", \"2016-01-27T00:00:00\", \"2016-01-14T00:00:00\", \"2016-01-13T00:00:00\", \"2015-12-02T00:00:00\", \"2015-10-01T00:00:00\", \"2015-04-16T00:00:00\", \"2015-03-27T00:00:00\", \"2015-01-28T00:00:00\", \"2014-12-31T00:00:00\", \"2014-12-31T00:00:00\", \"2014-12-25T00:00:00\", \"2014-12-17T00:00:00\"], \"xaxis\": \"x\", \"y\": [520, 560, 580, 620, 650, 510, 600, 550, 660, 650, 650, 650, 550, 595, 580, 580, 580, 680, 580, 650, 450, 650, 600, 720, 490, 800, 700, 800, 670, 760, 840, 900, 820, 840, 700, 682, 780, 820, 840, 700, 700, 722, 820, 640, 820, 680, 652, 700, 750, 820, 720, 700, 700, 780, 802, 720, 730, 810, 730, 820, 780, 850, 850, 720, 800, 750, 800, 780, 730, 760, 800, 680, 690, 680, 800, 660, 700, 800, 690, 670, 720, 690, 730, 800, 720, 740, 742, 760, 720, 750, 690, 720, 710, 800, 750, 750, 720, 800, 720, 650, 650, 700, 640, 750, 882, 682, 725, 600, 580, 630, 650, 675], \"yaxis\": \"y\"}, {\"hovertemplate\": \"room_type_2=3b2b<br>date=%{x}<br>price=%{y}<extra></extra>\", \"legendgroup\": \"3b2b\", \"marker\": {\"color\": \"#ab63fa\", \"symbol\": \"circle\"}, \"mode\": \"markers\", \"name\": \"3b2b\", \"orientation\": \"v\", \"showlegend\": true, \"type\": \"scatter\", \"x\": [\"2020-12-17T00:00:00\", \"2020-10-02T00:00:00\", \"2020-07-08T00:00:00\", \"2019-09-04T00:00:00\", \"2018-10-31T00:00:00\", \"2018-03-07T00:00:00\", \"2017-05-07T00:00:00\", \"2017-02-23T00:00:00\"], \"xaxis\": \"x\", \"y\": [900, 1200, 950, 1103, 1200, 1253, 1200, 1103], \"yaxis\": \"y\"}, {\"hovertemplate\": \"room_type_2=3b3b<br>date=%{x}<br>price=%{y}<extra></extra>\", \"legendgroup\": \"3b3b\", \"marker\": {\"color\": \"#FFA15A\", \"symbol\": \"circle\"}, \"mode\": \"markers\", \"name\": \"3b3b\", \"orientation\": \"v\", \"showlegend\": true, \"type\": \"scatter\", \"x\": [\"2017-11-02T00:00:00\"], \"xaxis\": \"x\", \"y\": [2200], \"yaxis\": \"y\"}],                        {\"legend\": {\"title\": {\"text\": \"room_type_2\"}, \"tracegroupgap\": 0}, \"template\": {\"data\": {\"bar\": [{\"error_x\": {\"color\": \"#2a3f5f\"}, \"error_y\": {\"color\": \"#2a3f5f\"}, \"marker\": {\"line\": {\"color\": \"#E5ECF6\", \"width\": 0.5}}, \"type\": \"bar\"}], \"barpolar\": [{\"marker\": {\"line\": {\"color\": \"#E5ECF6\", \"width\": 0.5}}, \"type\": \"barpolar\"}], \"carpet\": [{\"aaxis\": {\"endlinecolor\": \"#2a3f5f\", \"gridcolor\": \"white\", \"linecolor\": \"white\", \"minorgridcolor\": \"white\", \"startlinecolor\": \"#2a3f5f\"}, \"baxis\": {\"endlinecolor\": \"#2a3f5f\", \"gridcolor\": \"white\", \"linecolor\": \"white\", \"minorgridcolor\": \"white\", \"startlinecolor\": \"#2a3f5f\"}, \"type\": \"carpet\"}], \"choropleth\": [{\"colorbar\": {\"outlinewidth\": 0, \"ticks\": \"\"}, \"type\": \"choropleth\"}], \"contour\": [{\"colorbar\": {\"outlinewidth\": 0, \"ticks\": \"\"}, \"colorscale\": [[0.0, \"#0d0887\"], [0.1111111111111111, \"#46039f\"], [0.2222222222222222, \"#7201a8\"], [0.3333333333333333, \"#9c179e\"], [0.4444444444444444, \"#bd3786\"], [0.5555555555555556, \"#d8576b\"], [0.6666666666666666, \"#ed7953\"], [0.7777777777777778, \"#fb9f3a\"], [0.8888888888888888, \"#fdca26\"], [1.0, \"#f0f921\"]], \"type\": \"contour\"}], \"contourcarpet\": [{\"colorbar\": {\"outlinewidth\": 0, \"ticks\": \"\"}, \"type\": \"contourcarpet\"}], \"heatmap\": [{\"colorbar\": {\"outlinewidth\": 0, \"ticks\": \"\"}, \"colorscale\": [[0.0, \"#0d0887\"], [0.1111111111111111, \"#46039f\"], [0.2222222222222222, \"#7201a8\"], [0.3333333333333333, \"#9c179e\"], [0.4444444444444444, \"#bd3786\"], [0.5555555555555556, \"#d8576b\"], [0.6666666666666666, \"#ed7953\"], [0.7777777777777778, \"#fb9f3a\"], [0.8888888888888888, \"#fdca26\"], [1.0, \"#f0f921\"]], \"type\": \"heatmap\"}], \"heatmapgl\": [{\"colorbar\": {\"outlinewidth\": 0, \"ticks\": \"\"}, \"colorscale\": [[0.0, \"#0d0887\"], [0.1111111111111111, \"#46039f\"], [0.2222222222222222, \"#7201a8\"], [0.3333333333333333, \"#9c179e\"], [0.4444444444444444, \"#bd3786\"], [0.5555555555555556, \"#d8576b\"], [0.6666666666666666, \"#ed7953\"], [0.7777777777777778, \"#fb9f3a\"], [0.8888888888888888, \"#fdca26\"], [1.0, \"#f0f921\"]], \"type\": \"heatmapgl\"}], \"histogram\": [{\"marker\": {\"colorbar\": {\"outlinewidth\": 0, \"ticks\": \"\"}}, \"type\": \"histogram\"}], \"histogram2d\": [{\"colorbar\": {\"outlinewidth\": 0, \"ticks\": \"\"}, \"colorscale\": [[0.0, \"#0d0887\"], [0.1111111111111111, \"#46039f\"], [0.2222222222222222, \"#7201a8\"], [0.3333333333333333, \"#9c179e\"], [0.4444444444444444, \"#bd3786\"], [0.5555555555555556, \"#d8576b\"], [0.6666666666666666, \"#ed7953\"], [0.7777777777777778, \"#fb9f3a\"], [0.8888888888888888, \"#fdca26\"], [1.0, \"#f0f921\"]], \"type\": \"histogram2d\"}], \"histogram2dcontour\": [{\"colorbar\": {\"outlinewidth\": 0, \"ticks\": \"\"}, \"colorscale\": [[0.0, \"#0d0887\"], [0.1111111111111111, \"#46039f\"], [0.2222222222222222, \"#7201a8\"], [0.3333333333333333, \"#9c179e\"], [0.4444444444444444, \"#bd3786\"], [0.5555555555555556, \"#d8576b\"], [0.6666666666666666, \"#ed7953\"], [0.7777777777777778, \"#fb9f3a\"], [0.8888888888888888, \"#fdca26\"], [1.0, \"#f0f921\"]], \"type\": \"histogram2dcontour\"}], \"mesh3d\": [{\"colorbar\": {\"outlinewidth\": 0, \"ticks\": \"\"}, \"type\": \"mesh3d\"}], \"parcoords\": [{\"line\": {\"colorbar\": {\"outlinewidth\": 0, \"ticks\": \"\"}}, \"type\": \"parcoords\"}], \"pie\": [{\"automargin\": true, \"type\": \"pie\"}], \"scatter\": [{\"marker\": {\"colorbar\": {\"outlinewidth\": 0, \"ticks\": \"\"}}, \"type\": \"scatter\"}], \"scatter3d\": [{\"line\": {\"colorbar\": {\"outlinewidth\": 0, \"ticks\": \"\"}}, \"marker\": {\"colorbar\": {\"outlinewidth\": 0, \"ticks\": \"\"}}, \"type\": \"scatter3d\"}], \"scattercarpet\": [{\"marker\": {\"colorbar\": {\"outlinewidth\": 0, \"ticks\": \"\"}}, \"type\": \"scattercarpet\"}], \"scattergeo\": [{\"marker\": {\"colorbar\": {\"outlinewidth\": 0, \"ticks\": \"\"}}, \"type\": \"scattergeo\"}], \"scattergl\": [{\"marker\": {\"colorbar\": {\"outlinewidth\": 0, \"ticks\": \"\"}}, \"type\": \"scattergl\"}], \"scattermapbox\": [{\"marker\": {\"colorbar\": {\"outlinewidth\": 0, \"ticks\": \"\"}}, \"type\": \"scattermapbox\"}], \"scatterpolar\": [{\"marker\": {\"colorbar\": {\"outlinewidth\": 0, \"ticks\": \"\"}}, \"type\": \"scatterpolar\"}], \"scatterpolargl\": [{\"marker\": {\"colorbar\": {\"outlinewidth\": 0, \"ticks\": \"\"}}, \"type\": \"scatterpolargl\"}], \"scatterternary\": [{\"marker\": {\"colorbar\": {\"outlinewidth\": 0, \"ticks\": \"\"}}, \"type\": \"scatterternary\"}], \"surface\": [{\"colorbar\": {\"outlinewidth\": 0, \"ticks\": \"\"}, \"colorscale\": [[0.0, \"#0d0887\"], [0.1111111111111111, \"#46039f\"], [0.2222222222222222, \"#7201a8\"], [0.3333333333333333, \"#9c179e\"], [0.4444444444444444, \"#bd3786\"], [0.5555555555555556, \"#d8576b\"], [0.6666666666666666, \"#ed7953\"], [0.7777777777777778, \"#fb9f3a\"], [0.8888888888888888, \"#fdca26\"], [1.0, \"#f0f921\"]], \"type\": \"surface\"}], \"table\": [{\"cells\": {\"fill\": {\"color\": \"#EBF0F8\"}, \"line\": {\"color\": \"white\"}}, \"header\": {\"fill\": {\"color\": \"#C8D4E3\"}, \"line\": {\"color\": \"white\"}}, \"type\": \"table\"}]}, \"layout\": {\"annotationdefaults\": {\"arrowcolor\": \"#2a3f5f\", \"arrowhead\": 0, \"arrowwidth\": 1}, \"autotypenumbers\": \"strict\", \"coloraxis\": {\"colorbar\": {\"outlinewidth\": 0, \"ticks\": \"\"}}, \"colorscale\": {\"diverging\": [[0, \"#8e0152\"], [0.1, \"#c51b7d\"], [0.2, \"#de77ae\"], [0.3, \"#f1b6da\"], [0.4, \"#fde0ef\"], [0.5, \"#f7f7f7\"], [0.6, \"#e6f5d0\"], [0.7, \"#b8e186\"], [0.8, \"#7fbc41\"], [0.9, \"#4d9221\"], [1, \"#276419\"]], \"sequential\": [[0.0, \"#0d0887\"], [0.1111111111111111, \"#46039f\"], [0.2222222222222222, \"#7201a8\"], [0.3333333333333333, \"#9c179e\"], [0.4444444444444444, \"#bd3786\"], [0.5555555555555556, \"#d8576b\"], [0.6666666666666666, \"#ed7953\"], [0.7777777777777778, \"#fb9f3a\"], [0.8888888888888888, \"#fdca26\"], [1.0, \"#f0f921\"]], \"sequentialminus\": [[0.0, \"#0d0887\"], [0.1111111111111111, \"#46039f\"], [0.2222222222222222, \"#7201a8\"], [0.3333333333333333, \"#9c179e\"], [0.4444444444444444, \"#bd3786\"], [0.5555555555555556, \"#d8576b\"], [0.6666666666666666, \"#ed7953\"], [0.7777777777777778, \"#fb9f3a\"], [0.8888888888888888, \"#fdca26\"], [1.0, \"#f0f921\"]]}, \"colorway\": [\"#636efa\", \"#EF553B\", \"#00cc96\", \"#ab63fa\", \"#FFA15A\", \"#19d3f3\", \"#FF6692\", \"#B6E880\", \"#FF97FF\", \"#FECB52\"], \"font\": {\"color\": \"#2a3f5f\"}, \"geo\": {\"bgcolor\": \"white\", \"lakecolor\": \"white\", \"landcolor\": \"#E5ECF6\", \"showlakes\": true, \"showland\": true, \"subunitcolor\": \"white\"}, \"hoverlabel\": {\"align\": \"left\"}, \"hovermode\": \"closest\", \"mapbox\": {\"style\": \"light\"}, \"paper_bgcolor\": \"white\", \"plot_bgcolor\": \"#E5ECF6\", \"polar\": {\"angularaxis\": {\"gridcolor\": \"white\", \"linecolor\": \"white\", \"ticks\": \"\"}, \"bgcolor\": \"#E5ECF6\", \"radialaxis\": {\"gridcolor\": \"white\", \"linecolor\": \"white\", \"ticks\": \"\"}}, \"scene\": {\"xaxis\": {\"backgroundcolor\": \"#E5ECF6\", \"gridcolor\": \"white\", \"gridwidth\": 2, \"linecolor\": \"white\", \"showbackground\": true, \"ticks\": \"\", \"zerolinecolor\": \"white\"}, \"yaxis\": {\"backgroundcolor\": \"#E5ECF6\", \"gridcolor\": \"white\", \"gridwidth\": 2, \"linecolor\": \"white\", \"showbackground\": true, \"ticks\": \"\", \"zerolinecolor\": \"white\"}, \"zaxis\": {\"backgroundcolor\": \"#E5ECF6\", \"gridcolor\": \"white\", \"gridwidth\": 2, \"linecolor\": \"white\", \"showbackground\": true, \"ticks\": \"\", \"zerolinecolor\": \"white\"}}, \"shapedefaults\": {\"line\": {\"color\": \"#2a3f5f\"}}, \"ternary\": {\"aaxis\": {\"gridcolor\": \"white\", \"linecolor\": \"white\", \"ticks\": \"\"}, \"baxis\": {\"gridcolor\": \"white\", \"linecolor\": \"white\", \"ticks\": \"\"}, \"bgcolor\": \"#E5ECF6\", \"caxis\": {\"gridcolor\": \"white\", \"linecolor\": \"white\", \"ticks\": \"\"}}, \"title\": {\"x\": 0.05}, \"xaxis\": {\"automargin\": true, \"gridcolor\": \"white\", \"linecolor\": \"white\", \"ticks\": \"\", \"title\": {\"standoff\": 15}, \"zerolinecolor\": \"white\", \"zerolinewidth\": 2}, \"yaxis\": {\"automargin\": true, \"gridcolor\": \"white\", \"linecolor\": \"white\", \"ticks\": \"\", \"title\": {\"standoff\": 15}, \"zerolinecolor\": \"white\", \"zerolinewidth\": 2}}}, \"title\": {\"text\": \"Building Rented History\"}, \"width\": 700, \"xaxis\": {\"anchor\": \"y\", \"domain\": [0.0, 1.0], \"title\": {\"text\": \"date\"}}, \"yaxis\": {\"anchor\": \"x\", \"domain\": [0.0, 1.0], \"title\": {\"text\": \"price\"}}},                        {\"responsive\": true}                    ).then(function(){\n",
       "                            \n",
       "var gd = document.getElementById('649cb998-79ef-4ac9-abb4-cceecb1a84f0');\n",
       "var x = new MutationObserver(function (mutations, observer) {{\n",
       "        var display = window.getComputedStyle(gd).display;\n",
       "        if (!display || display === 'none') {{\n",
       "            console.log([gd, 'removed!']);\n",
       "            Plotly.purge(gd);\n",
       "            observer.disconnect();\n",
       "        }}\n",
       "}});\n",
       "\n",
       "// Listen for the removal of the full notebook cells\n",
       "var notebookContainer = gd.closest('#notebook-container');\n",
       "if (notebookContainer) {{\n",
       "    x.observe(notebookContainer, {childList: true});\n",
       "}}\n",
       "\n",
       "// Listen for the clearing of the current output cell\n",
       "var outputEl = gd.closest('.output');\n",
       "if (outputEl) {{\n",
       "    x.observe(outputEl, {childList: true});\n",
       "}}\n",
       "\n",
       "                        })                };                });            </script>        </div>"
      ]
     },
     "metadata": {},
     "output_type": "display_data"
    }
   ],
   "source": [
    "fig = px.scatter(df_318_rus[df_318_rus.room_type_2.notna()], x=\"date\", y=\"price\", color=\"room_type_2\", width = 700, title= \"Building Rented History\")\n",
    "fig.show()"
   ]
  },
  {
   "cell_type": "markdown",
   "metadata": {},
   "source": [
    "## percentage of dropping Median "
   ]
  },
  {
   "cell_type": "code",
   "execution_count": null,
   "metadata": {},
   "outputs": [],
   "source": [
    "def perc_change_in_median(df)\n",
    "    covid_date = '20200301'\n",
    "    median_price_before_df = df[df.date <= pd.to_datetime(covid_date, format='%Y%m%d')]\n",
    "    median_price_after_df =  df[df.date > pd.to_datetime(covid_date, format='%Y%m%d')]\n",
    "    median_price_before_df_nona = median_price_before_df.dropna()\n",
    "    median_price_after_df_nona = median_price_after_df.dropna()\n",
    "    #median_price_before_df_nona.loc[:, 'room_type'] = median_price_before_df_nona.room_type.astype(str)\n",
    "    #median_price_after_df_nona.loc[: , 'room_type']= median_price_after_df_nona.room_type.astype(str)\n",
    "\n",
    "    # get med \n",
    "    med_before = pd.DataFrame(median_price_before_df_nona.groupby('room_type').price.median())\n",
    "    med_before = med_before.rename({'price': 'before_price_med'}, axis = 1)\n",
    "\n",
    "    med_after = pd.DataFrame(median_price_after_df_nona.groupby('room_type').price.median())\n",
    "    med_after = med_after.rename({'price': 'after_price_med'}, axis = 1)\n",
    "    room_no = df.groupby('room_type')[['bed', 'bath']].median()\n",
    "\n",
    "    # get difference \n",
    "    med_price_df = med_before.join(med_after)\n",
    "    med_price_df['change_precnetage'] = (med_price_df['after_price_med'] - med_price_df['before_price_med'])/med_price_df['after_price_med'] * 100\n",
    "\n",
    "    # get room info \n",
    "    med_price_df = med_price_df.join(room_no)\n",
    "\n",
    "    # plot box \n",
    "    df.loc[df.date <= pd.to_datetime('20200301', format='%Y%m%d'),'time_split'] = 'before'\n",
    "\n",
    "    df.loc[df.date > pd.to_datetime('20200301', format='%Y%m%d'),'time_split'] = 'after'\n",
    "    df.room_type= df.room_type.astype(str)"
   ]
  },
  {
   "cell_type": "code",
   "execution_count": 310,
   "metadata": {},
   "outputs": [],
   "source": [
    "covid_date = '20200301'\n",
    "df_318_rus.loc[df_318_rus.date <= pd.to_datetime(covid_date, format='%Y%m%d'),'time_split'] = 'before'\n",
    "df_318_rus.loc[df_318_rus.date > pd.to_datetime(covid_date, format='%Y%m%d'),'time_split'] = 'after'"
   ]
  },
  {
   "cell_type": "code",
   "execution_count": 313,
   "metadata": {},
   "outputs": [],
   "source": [
    "median_price_before_df = df_318_rus[df_318_rus.date <= pd.to_datetime(covid_date, format='%Y%m%d')]\n",
    "median_price_after_df =  df_318_rus[df_318_rus.date > pd.to_datetime(covid_date, format='%Y%m%d')]\n",
    "perc_change_df = pd.DataFrame(median_price_after_df.groupby(\"room_type_2\").price.median())"
   ]
  },
  {
   "cell_type": "code",
   "execution_count": 322,
   "metadata": {},
   "outputs": [],
   "source": [
    "perc_change_df = perc_change_df.rename({\"price\" : 'med_price_after'}, axis = 1)\n"
   ]
  },
  {
   "cell_type": "code",
   "execution_count": 324,
   "metadata": {},
   "outputs": [],
   "source": [
    "perc_change_df.loc[:, \"med_price_before\"] = median_price_before_df.groupby(\"room_type_2\").price.median()\n",
    "perc_change_df.loc[:, \"raw_decrease\"] =  perc_change_df[\"med_price_before\"] - perc_change_df[\"med_price_after\"]\n",
    "perc_change_df.loc[:, \"perc_decrease\"] = perc_change_df[\"raw_decrease\"]/ perc_change_df[\"med_price_before\"]\n"
   ]
  },
  {
   "cell_type": "code",
   "execution_count": 339,
   "metadata": {},
   "outputs": [
    {
     "data": {
      "text/html": [
       "<div>\n",
       "<style scoped>\n",
       "    .dataframe tbody tr th:only-of-type {\n",
       "        vertical-align: middle;\n",
       "    }\n",
       "\n",
       "    .dataframe tbody tr th {\n",
       "        vertical-align: top;\n",
       "    }\n",
       "\n",
       "    .dataframe thead th {\n",
       "        text-align: right;\n",
       "    }\n",
       "</style>\n",
       "<table border=\"1\" class=\"dataframe\">\n",
       "  <thead>\n",
       "    <tr style=\"text-align: right;\">\n",
       "      <th></th>\n",
       "      <th>med_price_after</th>\n",
       "      <th>med_price_before</th>\n",
       "      <th>raw_decrease</th>\n",
       "      <th>perc_decrease</th>\n",
       "    </tr>\n",
       "    <tr>\n",
       "      <th>room_type_2</th>\n",
       "      <th></th>\n",
       "      <th></th>\n",
       "      <th></th>\n",
       "      <th></th>\n",
       "    </tr>\n",
       "  </thead>\n",
       "  <tbody>\n",
       "    <tr>\n",
       "      <th>1b1b</th>\n",
       "      <td>425</td>\n",
       "      <td>521</td>\n",
       "      <td>96</td>\n",
       "      <td>0.184261</td>\n",
       "    </tr>\n",
       "    <tr>\n",
       "      <th>2b1b</th>\n",
       "      <td>460</td>\n",
       "      <td>630</td>\n",
       "      <td>170</td>\n",
       "      <td>0.269841</td>\n",
       "    </tr>\n",
       "    <tr>\n",
       "      <th>2b2b</th>\n",
       "      <td>600</td>\n",
       "      <td>730</td>\n",
       "      <td>130</td>\n",
       "      <td>0.178082</td>\n",
       "    </tr>\n",
       "    <tr>\n",
       "      <th>3b2b</th>\n",
       "      <td>950</td>\n",
       "      <td>1200</td>\n",
       "      <td>250</td>\n",
       "      <td>0.208333</td>\n",
       "    </tr>\n",
       "  </tbody>\n",
       "</table>\n",
       "</div>"
      ],
      "text/plain": [
       "             med_price_after  med_price_before  raw_decrease  perc_decrease\n",
       "room_type_2                                                                \n",
       "1b1b                     425               521            96       0.184261\n",
       "2b1b                     460               630           170       0.269841\n",
       "2b2b                     600               730           130       0.178082\n",
       "3b2b                     950              1200           250       0.208333"
      ]
     },
     "execution_count": 339,
     "metadata": {},
     "output_type": "execute_result"
    }
   ],
   "source": [
    "perc_change_df"
   ]
  },
  {
   "cell_type": "code",
   "execution_count": 351,
   "metadata": {},
   "outputs": [
    {
     "data": {
      "text/html": [
       "<div>\n",
       "<style scoped>\n",
       "    .dataframe tbody tr th:only-of-type {\n",
       "        vertical-align: middle;\n",
       "    }\n",
       "\n",
       "    .dataframe tbody tr th {\n",
       "        vertical-align: top;\n",
       "    }\n",
       "\n",
       "    .dataframe thead th {\n",
       "        text-align: right;\n",
       "    }\n",
       "</style>\n",
       "<table border=\"1\" class=\"dataframe\">\n",
       "  <thead>\n",
       "    <tr style=\"text-align: right;\">\n",
       "      <th></th>\n",
       "      <th>med_price_after</th>\n",
       "      <th>med_price_before</th>\n",
       "      <th>raw_decrease</th>\n",
       "      <th>perc_decrease</th>\n",
       "      <th>count</th>\n",
       "    </tr>\n",
       "    <tr>\n",
       "      <th>room_type_2</th>\n",
       "      <th></th>\n",
       "      <th></th>\n",
       "      <th></th>\n",
       "      <th></th>\n",
       "      <th></th>\n",
       "    </tr>\n",
       "  </thead>\n",
       "  <tbody>\n",
       "    <tr>\n",
       "      <th>1b1b</th>\n",
       "      <td>425</td>\n",
       "      <td>521</td>\n",
       "      <td>96</td>\n",
       "      <td>0.184261</td>\n",
       "      <td>69</td>\n",
       "    </tr>\n",
       "    <tr>\n",
       "      <th>2b1b</th>\n",
       "      <td>460</td>\n",
       "      <td>630</td>\n",
       "      <td>170</td>\n",
       "      <td>0.269841</td>\n",
       "      <td>58</td>\n",
       "    </tr>\n",
       "    <tr>\n",
       "      <th>2b2b</th>\n",
       "      <td>600</td>\n",
       "      <td>730</td>\n",
       "      <td>130</td>\n",
       "      <td>0.178082</td>\n",
       "      <td>112</td>\n",
       "    </tr>\n",
       "    <tr>\n",
       "      <th>3b2b</th>\n",
       "      <td>950</td>\n",
       "      <td>1200</td>\n",
       "      <td>250</td>\n",
       "      <td>0.208333</td>\n",
       "      <td>8</td>\n",
       "    </tr>\n",
       "  </tbody>\n",
       "</table>\n",
       "</div>"
      ],
      "text/plain": [
       "             med_price_after  med_price_before  raw_decrease  perc_decrease  \\\n",
       "room_type_2                                                                   \n",
       "1b1b                     425               521            96       0.184261   \n",
       "2b1b                     460               630           170       0.269841   \n",
       "2b2b                     600               730           130       0.178082   \n",
       "3b2b                     950              1200           250       0.208333   \n",
       "\n",
       "             count  \n",
       "room_type_2         \n",
       "1b1b            69  \n",
       "2b1b            58  \n",
       "2b2b           112  \n",
       "3b2b             8  "
      ]
     },
     "execution_count": 351,
     "metadata": {},
     "output_type": "execute_result"
    }
   ],
   "source": [
    "perc_change_df.join(pd.DataFrame(df_318_rus[\"room_type_2\"].value_counts()).rename({\"room_type_2\": \"count\"}, axis = 1))"
   ]
  },
  {
   "cell_type": "code",
   "execution_count": 415,
   "metadata": {},
   "outputs": [
    {
     "data": {
      "application/vnd.plotly.v1+json": {
       "config": {
        "plotlyServerURL": "https://plot.ly"
       },
       "data": [
        {
         "alignmentgroup": "True",
         "boxpoints": "all",
         "customdata": [
          [
           11,
           "14928673"
          ],
          [
           17,
           "14915101"
          ],
          [
           30,
           "14883178"
          ],
          [
           31,
           "14879991"
          ],
          [
           32,
           "14877863"
          ],
          [
           34,
           "14871156"
          ],
          [
           36,
           "14868220"
          ],
          [
           36,
           "14868083"
          ],
          [
           43,
           "14854777"
          ],
          [
           43,
           "14853599"
          ],
          [
           59,
           "14811181"
          ],
          [
           99,
           "14729672"
          ],
          [
           121,
           "14662122"
          ],
          [
           150,
           "14590148"
          ],
          [
           151,
           "14585512"
          ]
         ],
         "fillcolor": "rgba(255,255,255,0)",
         "hoveron": "points",
         "hovertemplate": "room_type=%{x}<br>price=%{y}<br>up_days=%{customdata[0]}<br>list_id=%{customdata[1]}<extra></extra>",
         "legendgroup": "1b1b",
         "line": {
          "color": "rgba(255,255,255,0)"
         },
         "marker": {
          "color": "#636efa"
         },
         "name": "1b1b",
         "offsetgroup": "1b1b",
         "orientation": "v",
         "pointpos": 0,
         "showlegend": true,
         "type": "box",
         "x": [
          "1b1b",
          "1b1b",
          "1b1b",
          "1b1b",
          "1b1b",
          "1b1b",
          "1b1b",
          "1b1b",
          "1b1b",
          "1b1b",
          "1b1b",
          "1b1b",
          "1b1b",
          "1b1b",
          "1b1b"
         ],
         "x0": " ",
         "xaxis": "x",
         "y": [
          380,
          430,
          380,
          400,
          390,
          308,
          430,
          400,
          400,
          390,
          450,
          350,
          345,
          420,
          380
         ],
         "y0": " ",
         "yaxis": "y"
        },
        {
         "alignmentgroup": "True",
         "boxpoints": "all",
         "customdata": [
          [
           8,
           "14940057"
          ],
          [
           16,
           "14919124"
          ],
          [
           24,
           "14897818"
          ],
          [
           37,
           "14867181"
          ],
          [
           42,
           "14855089"
          ],
          [
           79,
           "14779144"
          ]
         ],
         "fillcolor": "rgba(255,255,255,0)",
         "hoveron": "points",
         "hovertemplate": "room_type=%{x}<br>price=%{y}<br>up_days=%{customdata[0]}<br>list_id=%{customdata[1]}<extra></extra>",
         "legendgroup": "2b1b",
         "line": {
          "color": "rgba(255,255,255,0)"
         },
         "marker": {
          "color": "#EF553B"
         },
         "name": "2b1b",
         "offsetgroup": "2b1b",
         "orientation": "v",
         "pointpos": 0,
         "showlegend": true,
         "type": "box",
         "x": [
          "2b1b",
          "2b1b",
          "2b1b",
          "2b1b",
          "2b1b",
          "2b1b"
         ],
         "x0": " ",
         "xaxis": "x",
         "y": [
          550,
          480,
          480,
          460,
          500,
          600
         ],
         "y0": " ",
         "yaxis": "y"
        },
        {
         "alignmentgroup": "True",
         "boxpoints": "all",
         "customdata": [
          [
           9,
           "14936089"
          ],
          [
           11,
           "14930793"
          ],
          [
           16,
           "14920068"
          ],
          [
           16,
           "14917397"
          ],
          [
           17,
           "14914813"
          ],
          [
           18,
           "14910807"
          ],
          [
           20,
           "14906069"
          ],
          [
           20,
           "14906056"
          ],
          [
           20,
           "14906033"
          ],
          [
           21,
           "14905866"
          ],
          [
           21,
           "14905858"
          ],
          [
           24,
           "14896727"
          ],
          [
           30,
           "14883526"
          ],
          [
           30,
           "14883039"
          ],
          [
           36,
           "14869618"
          ],
          [
           36,
           "14868914"
          ],
          [
           37,
           "14864460"
          ],
          [
           43,
           "14854774"
          ],
          [
           52,
           "14830157"
          ],
          [
           54,
           "14822799"
          ],
          [
           60,
           "14807103"
          ],
          [
           88,
           "14757444"
          ],
          [
           103,
           "14718152"
          ],
          [
           129,
           "14644385"
          ],
          [
           129,
           "14644357"
          ],
          [
           131,
           "14637261"
          ],
          [
           150,
           "14590023"
          ],
          [
           151,
           "14587759"
          ]
         ],
         "fillcolor": "rgba(255,255,255,0)",
         "hoveron": "points",
         "hovertemplate": "room_type=%{x}<br>price=%{y}<br>up_days=%{customdata[0]}<br>list_id=%{customdata[1]}<extra></extra>",
         "legendgroup": "2b2b",
         "line": {
          "color": "rgba(255,255,255,0)"
         },
         "marker": {
          "color": "#00cc96"
         },
         "name": "2b2b",
         "offsetgroup": "2b2b",
         "orientation": "v",
         "pointpos": 0,
         "showlegend": true,
         "type": "box",
         "x": [
          "2b2b",
          "2b2b",
          "2b2b",
          "2b2b",
          "2b2b",
          "2b2b",
          "2b2b",
          "2b2b",
          "2b2b",
          "2b2b",
          "2b2b",
          "2b2b",
          "2b2b",
          "2b2b",
          "2b2b",
          "2b2b",
          "2b2b",
          "2b2b",
          "2b2b",
          "2b2b",
          "2b2b",
          "2b2b",
          "2b2b",
          "2b2b",
          "2b2b",
          "2b2b",
          "2b2b",
          "2b2b"
         ],
         "x0": " ",
         "xaxis": "x",
         "y": [
          600,
          600,
          650,
          550,
          650,
          650,
          650,
          630,
          650,
          620,
          580,
          650,
          560,
          600,
          550,
          650,
          650,
          650,
          600,
          600,
          680,
          560,
          580,
          550,
          550,
          550,
          650,
          450
         ],
         "y0": " ",
         "yaxis": "y"
        }
       ],
       "layout": {
        "boxmode": "overlay",
        "height": 400,
        "legend": {
         "title": {
          "text": "room_type"
         },
         "tracegroupgap": 0
        },
        "showlegend": false,
        "template": {
         "data": {
          "bar": [
           {
            "error_x": {
             "color": "#2a3f5f"
            },
            "error_y": {
             "color": "#2a3f5f"
            },
            "marker": {
             "line": {
              "color": "#E5ECF6",
              "width": 0.5
             }
            },
            "type": "bar"
           }
          ],
          "barpolar": [
           {
            "marker": {
             "line": {
              "color": "#E5ECF6",
              "width": 0.5
             }
            },
            "type": "barpolar"
           }
          ],
          "carpet": [
           {
            "aaxis": {
             "endlinecolor": "#2a3f5f",
             "gridcolor": "white",
             "linecolor": "white",
             "minorgridcolor": "white",
             "startlinecolor": "#2a3f5f"
            },
            "baxis": {
             "endlinecolor": "#2a3f5f",
             "gridcolor": "white",
             "linecolor": "white",
             "minorgridcolor": "white",
             "startlinecolor": "#2a3f5f"
            },
            "type": "carpet"
           }
          ],
          "choropleth": [
           {
            "colorbar": {
             "outlinewidth": 0,
             "ticks": ""
            },
            "type": "choropleth"
           }
          ],
          "contour": [
           {
            "colorbar": {
             "outlinewidth": 0,
             "ticks": ""
            },
            "colorscale": [
             [
              0,
              "#0d0887"
             ],
             [
              0.1111111111111111,
              "#46039f"
             ],
             [
              0.2222222222222222,
              "#7201a8"
             ],
             [
              0.3333333333333333,
              "#9c179e"
             ],
             [
              0.4444444444444444,
              "#bd3786"
             ],
             [
              0.5555555555555556,
              "#d8576b"
             ],
             [
              0.6666666666666666,
              "#ed7953"
             ],
             [
              0.7777777777777778,
              "#fb9f3a"
             ],
             [
              0.8888888888888888,
              "#fdca26"
             ],
             [
              1,
              "#f0f921"
             ]
            ],
            "type": "contour"
           }
          ],
          "contourcarpet": [
           {
            "colorbar": {
             "outlinewidth": 0,
             "ticks": ""
            },
            "type": "contourcarpet"
           }
          ],
          "heatmap": [
           {
            "colorbar": {
             "outlinewidth": 0,
             "ticks": ""
            },
            "colorscale": [
             [
              0,
              "#0d0887"
             ],
             [
              0.1111111111111111,
              "#46039f"
             ],
             [
              0.2222222222222222,
              "#7201a8"
             ],
             [
              0.3333333333333333,
              "#9c179e"
             ],
             [
              0.4444444444444444,
              "#bd3786"
             ],
             [
              0.5555555555555556,
              "#d8576b"
             ],
             [
              0.6666666666666666,
              "#ed7953"
             ],
             [
              0.7777777777777778,
              "#fb9f3a"
             ],
             [
              0.8888888888888888,
              "#fdca26"
             ],
             [
              1,
              "#f0f921"
             ]
            ],
            "type": "heatmap"
           }
          ],
          "heatmapgl": [
           {
            "colorbar": {
             "outlinewidth": 0,
             "ticks": ""
            },
            "colorscale": [
             [
              0,
              "#0d0887"
             ],
             [
              0.1111111111111111,
              "#46039f"
             ],
             [
              0.2222222222222222,
              "#7201a8"
             ],
             [
              0.3333333333333333,
              "#9c179e"
             ],
             [
              0.4444444444444444,
              "#bd3786"
             ],
             [
              0.5555555555555556,
              "#d8576b"
             ],
             [
              0.6666666666666666,
              "#ed7953"
             ],
             [
              0.7777777777777778,
              "#fb9f3a"
             ],
             [
              0.8888888888888888,
              "#fdca26"
             ],
             [
              1,
              "#f0f921"
             ]
            ],
            "type": "heatmapgl"
           }
          ],
          "histogram": [
           {
            "marker": {
             "colorbar": {
              "outlinewidth": 0,
              "ticks": ""
             }
            },
            "type": "histogram"
           }
          ],
          "histogram2d": [
           {
            "colorbar": {
             "outlinewidth": 0,
             "ticks": ""
            },
            "colorscale": [
             [
              0,
              "#0d0887"
             ],
             [
              0.1111111111111111,
              "#46039f"
             ],
             [
              0.2222222222222222,
              "#7201a8"
             ],
             [
              0.3333333333333333,
              "#9c179e"
             ],
             [
              0.4444444444444444,
              "#bd3786"
             ],
             [
              0.5555555555555556,
              "#d8576b"
             ],
             [
              0.6666666666666666,
              "#ed7953"
             ],
             [
              0.7777777777777778,
              "#fb9f3a"
             ],
             [
              0.8888888888888888,
              "#fdca26"
             ],
             [
              1,
              "#f0f921"
             ]
            ],
            "type": "histogram2d"
           }
          ],
          "histogram2dcontour": [
           {
            "colorbar": {
             "outlinewidth": 0,
             "ticks": ""
            },
            "colorscale": [
             [
              0,
              "#0d0887"
             ],
             [
              0.1111111111111111,
              "#46039f"
             ],
             [
              0.2222222222222222,
              "#7201a8"
             ],
             [
              0.3333333333333333,
              "#9c179e"
             ],
             [
              0.4444444444444444,
              "#bd3786"
             ],
             [
              0.5555555555555556,
              "#d8576b"
             ],
             [
              0.6666666666666666,
              "#ed7953"
             ],
             [
              0.7777777777777778,
              "#fb9f3a"
             ],
             [
              0.8888888888888888,
              "#fdca26"
             ],
             [
              1,
              "#f0f921"
             ]
            ],
            "type": "histogram2dcontour"
           }
          ],
          "mesh3d": [
           {
            "colorbar": {
             "outlinewidth": 0,
             "ticks": ""
            },
            "type": "mesh3d"
           }
          ],
          "parcoords": [
           {
            "line": {
             "colorbar": {
              "outlinewidth": 0,
              "ticks": ""
             }
            },
            "type": "parcoords"
           }
          ],
          "pie": [
           {
            "automargin": true,
            "type": "pie"
           }
          ],
          "scatter": [
           {
            "marker": {
             "colorbar": {
              "outlinewidth": 0,
              "ticks": ""
             }
            },
            "type": "scatter"
           }
          ],
          "scatter3d": [
           {
            "line": {
             "colorbar": {
              "outlinewidth": 0,
              "ticks": ""
             }
            },
            "marker": {
             "colorbar": {
              "outlinewidth": 0,
              "ticks": ""
             }
            },
            "type": "scatter3d"
           }
          ],
          "scattercarpet": [
           {
            "marker": {
             "colorbar": {
              "outlinewidth": 0,
              "ticks": ""
             }
            },
            "type": "scattercarpet"
           }
          ],
          "scattergeo": [
           {
            "marker": {
             "colorbar": {
              "outlinewidth": 0,
              "ticks": ""
             }
            },
            "type": "scattergeo"
           }
          ],
          "scattergl": [
           {
            "marker": {
             "colorbar": {
              "outlinewidth": 0,
              "ticks": ""
             }
            },
            "type": "scattergl"
           }
          ],
          "scattermapbox": [
           {
            "marker": {
             "colorbar": {
              "outlinewidth": 0,
              "ticks": ""
             }
            },
            "type": "scattermapbox"
           }
          ],
          "scatterpolar": [
           {
            "marker": {
             "colorbar": {
              "outlinewidth": 0,
              "ticks": ""
             }
            },
            "type": "scatterpolar"
           }
          ],
          "scatterpolargl": [
           {
            "marker": {
             "colorbar": {
              "outlinewidth": 0,
              "ticks": ""
             }
            },
            "type": "scatterpolargl"
           }
          ],
          "scatterternary": [
           {
            "marker": {
             "colorbar": {
              "outlinewidth": 0,
              "ticks": ""
             }
            },
            "type": "scatterternary"
           }
          ],
          "surface": [
           {
            "colorbar": {
             "outlinewidth": 0,
             "ticks": ""
            },
            "colorscale": [
             [
              0,
              "#0d0887"
             ],
             [
              0.1111111111111111,
              "#46039f"
             ],
             [
              0.2222222222222222,
              "#7201a8"
             ],
             [
              0.3333333333333333,
              "#9c179e"
             ],
             [
              0.4444444444444444,
              "#bd3786"
             ],
             [
              0.5555555555555556,
              "#d8576b"
             ],
             [
              0.6666666666666666,
              "#ed7953"
             ],
             [
              0.7777777777777778,
              "#fb9f3a"
             ],
             [
              0.8888888888888888,
              "#fdca26"
             ],
             [
              1,
              "#f0f921"
             ]
            ],
            "type": "surface"
           }
          ],
          "table": [
           {
            "cells": {
             "fill": {
              "color": "#EBF0F8"
             },
             "line": {
              "color": "white"
             }
            },
            "header": {
             "fill": {
              "color": "#C8D4E3"
             },
             "line": {
              "color": "white"
             }
            },
            "type": "table"
           }
          ]
         },
         "layout": {
          "annotationdefaults": {
           "arrowcolor": "#2a3f5f",
           "arrowhead": 0,
           "arrowwidth": 1
          },
          "autotypenumbers": "strict",
          "coloraxis": {
           "colorbar": {
            "outlinewidth": 0,
            "ticks": ""
           }
          },
          "colorscale": {
           "diverging": [
            [
             0,
             "#8e0152"
            ],
            [
             0.1,
             "#c51b7d"
            ],
            [
             0.2,
             "#de77ae"
            ],
            [
             0.3,
             "#f1b6da"
            ],
            [
             0.4,
             "#fde0ef"
            ],
            [
             0.5,
             "#f7f7f7"
            ],
            [
             0.6,
             "#e6f5d0"
            ],
            [
             0.7,
             "#b8e186"
            ],
            [
             0.8,
             "#7fbc41"
            ],
            [
             0.9,
             "#4d9221"
            ],
            [
             1,
             "#276419"
            ]
           ],
           "sequential": [
            [
             0,
             "#0d0887"
            ],
            [
             0.1111111111111111,
             "#46039f"
            ],
            [
             0.2222222222222222,
             "#7201a8"
            ],
            [
             0.3333333333333333,
             "#9c179e"
            ],
            [
             0.4444444444444444,
             "#bd3786"
            ],
            [
             0.5555555555555556,
             "#d8576b"
            ],
            [
             0.6666666666666666,
             "#ed7953"
            ],
            [
             0.7777777777777778,
             "#fb9f3a"
            ],
            [
             0.8888888888888888,
             "#fdca26"
            ],
            [
             1,
             "#f0f921"
            ]
           ],
           "sequentialminus": [
            [
             0,
             "#0d0887"
            ],
            [
             0.1111111111111111,
             "#46039f"
            ],
            [
             0.2222222222222222,
             "#7201a8"
            ],
            [
             0.3333333333333333,
             "#9c179e"
            ],
            [
             0.4444444444444444,
             "#bd3786"
            ],
            [
             0.5555555555555556,
             "#d8576b"
            ],
            [
             0.6666666666666666,
             "#ed7953"
            ],
            [
             0.7777777777777778,
             "#fb9f3a"
            ],
            [
             0.8888888888888888,
             "#fdca26"
            ],
            [
             1,
             "#f0f921"
            ]
           ]
          },
          "colorway": [
           "#636efa",
           "#EF553B",
           "#00cc96",
           "#ab63fa",
           "#FFA15A",
           "#19d3f3",
           "#FF6692",
           "#B6E880",
           "#FF97FF",
           "#FECB52"
          ],
          "font": {
           "color": "#2a3f5f"
          },
          "geo": {
           "bgcolor": "white",
           "lakecolor": "white",
           "landcolor": "#E5ECF6",
           "showlakes": true,
           "showland": true,
           "subunitcolor": "white"
          },
          "hoverlabel": {
           "align": "left"
          },
          "hovermode": "closest",
          "mapbox": {
           "style": "light"
          },
          "paper_bgcolor": "white",
          "plot_bgcolor": "#E5ECF6",
          "polar": {
           "angularaxis": {
            "gridcolor": "white",
            "linecolor": "white",
            "ticks": ""
           },
           "bgcolor": "#E5ECF6",
           "radialaxis": {
            "gridcolor": "white",
            "linecolor": "white",
            "ticks": ""
           }
          },
          "scene": {
           "xaxis": {
            "backgroundcolor": "#E5ECF6",
            "gridcolor": "white",
            "gridwidth": 2,
            "linecolor": "white",
            "showbackground": true,
            "ticks": "",
            "zerolinecolor": "white"
           },
           "yaxis": {
            "backgroundcolor": "#E5ECF6",
            "gridcolor": "white",
            "gridwidth": 2,
            "linecolor": "white",
            "showbackground": true,
            "ticks": "",
            "zerolinecolor": "white"
           },
           "zaxis": {
            "backgroundcolor": "#E5ECF6",
            "gridcolor": "white",
            "gridwidth": 2,
            "linecolor": "white",
            "showbackground": true,
            "ticks": "",
            "zerolinecolor": "white"
           }
          },
          "shapedefaults": {
           "line": {
            "color": "#2a3f5f"
           }
          },
          "ternary": {
           "aaxis": {
            "gridcolor": "white",
            "linecolor": "white",
            "ticks": ""
           },
           "baxis": {
            "gridcolor": "white",
            "linecolor": "white",
            "ticks": ""
           },
           "bgcolor": "#E5ECF6",
           "caxis": {
            "gridcolor": "white",
            "linecolor": "white",
            "ticks": ""
           }
          },
          "title": {
           "x": 0.05
          },
          "xaxis": {
           "automargin": true,
           "gridcolor": "white",
           "linecolor": "white",
           "ticks": "",
           "title": {
            "standoff": 15
           },
           "zerolinecolor": "white",
           "zerolinewidth": 2
          },
          "yaxis": {
           "automargin": true,
           "gridcolor": "white",
           "linecolor": "white",
           "ticks": "",
           "title": {
            "standoff": 15
           },
           "zerolinecolor": "white",
           "zerolinewidth": 2
          }
         }
        },
        "title": {
         "text": "71 properties are currently On Market for Rent"
        },
        "width": 500,
        "xaxis": {
         "anchor": "y",
         "categoryarray": [
          "1b1b",
          "2b1b",
          "2b2b"
         ],
         "categoryorder": "array",
         "domain": [
          0,
          1
         ],
         "title": {
          "text": "room_type"
         }
        },
        "yaxis": {
         "anchor": "x",
         "domain": [
          0,
          1
         ],
         "title": {
          "text": "price"
         }
        }
       }
      },
      "text/html": [
       "<div>                            <div id=\"61ec720e-8f43-435f-90ff-40cb5ee689fd\" class=\"plotly-graph-div\" style=\"height:400px; width:500px;\"></div>            <script type=\"text/javascript\">                require([\"plotly\"], function(Plotly) {                    window.PLOTLYENV=window.PLOTLYENV || {};                                    if (document.getElementById(\"61ec720e-8f43-435f-90ff-40cb5ee689fd\")) {                    Plotly.newPlot(                        \"61ec720e-8f43-435f-90ff-40cb5ee689fd\",                        [{\"alignmentgroup\": \"True\", \"boxpoints\": \"all\", \"customdata\": [[11, \"14928673\"], [17, \"14915101\"], [30, \"14883178\"], [31, \"14879991\"], [32, \"14877863\"], [34, \"14871156\"], [36, \"14868220\"], [36, \"14868083\"], [43, \"14854777\"], [43, \"14853599\"], [59, \"14811181\"], [99, \"14729672\"], [121, \"14662122\"], [150, \"14590148\"], [151, \"14585512\"]], \"fillcolor\": \"rgba(255,255,255,0)\", \"hoveron\": \"points\", \"hovertemplate\": \"room_type=%{x}<br>price=%{y}<br>up_days=%{customdata[0]}<br>list_id=%{customdata[1]}<extra></extra>\", \"legendgroup\": \"1b1b\", \"line\": {\"color\": \"rgba(255,255,255,0)\"}, \"marker\": {\"color\": \"#636efa\"}, \"name\": \"1b1b\", \"offsetgroup\": \"1b1b\", \"orientation\": \"v\", \"pointpos\": 0, \"showlegend\": true, \"type\": \"box\", \"x\": [\"1b1b\", \"1b1b\", \"1b1b\", \"1b1b\", \"1b1b\", \"1b1b\", \"1b1b\", \"1b1b\", \"1b1b\", \"1b1b\", \"1b1b\", \"1b1b\", \"1b1b\", \"1b1b\", \"1b1b\"], \"x0\": \" \", \"xaxis\": \"x\", \"y\": [380.0, 430.0, 380.0, 400.0, 390.0, 308.0, 430.0, 400.0, 400.0, 390.0, 450.0, 350.0, 345.0, 420.0, 380.0], \"y0\": \" \", \"yaxis\": \"y\"}, {\"alignmentgroup\": \"True\", \"boxpoints\": \"all\", \"customdata\": [[8, \"14940057\"], [16, \"14919124\"], [24, \"14897818\"], [37, \"14867181\"], [42, \"14855089\"], [79, \"14779144\"]], \"fillcolor\": \"rgba(255,255,255,0)\", \"hoveron\": \"points\", \"hovertemplate\": \"room_type=%{x}<br>price=%{y}<br>up_days=%{customdata[0]}<br>list_id=%{customdata[1]}<extra></extra>\", \"legendgroup\": \"2b1b\", \"line\": {\"color\": \"rgba(255,255,255,0)\"}, \"marker\": {\"color\": \"#EF553B\"}, \"name\": \"2b1b\", \"offsetgroup\": \"2b1b\", \"orientation\": \"v\", \"pointpos\": 0, \"showlegend\": true, \"type\": \"box\", \"x\": [\"2b1b\", \"2b1b\", \"2b1b\", \"2b1b\", \"2b1b\", \"2b1b\"], \"x0\": \" \", \"xaxis\": \"x\", \"y\": [550.0, 480.0, 480.0, 460.0, 500.0, 600.0], \"y0\": \" \", \"yaxis\": \"y\"}, {\"alignmentgroup\": \"True\", \"boxpoints\": \"all\", \"customdata\": [[9, \"14936089\"], [11, \"14930793\"], [16, \"14920068\"], [16, \"14917397\"], [17, \"14914813\"], [18, \"14910807\"], [20, \"14906069\"], [20, \"14906056\"], [20, \"14906033\"], [21, \"14905866\"], [21, \"14905858\"], [24, \"14896727\"], [30, \"14883526\"], [30, \"14883039\"], [36, \"14869618\"], [36, \"14868914\"], [37, \"14864460\"], [43, \"14854774\"], [52, \"14830157\"], [54, \"14822799\"], [60, \"14807103\"], [88, \"14757444\"], [103, \"14718152\"], [129, \"14644385\"], [129, \"14644357\"], [131, \"14637261\"], [150, \"14590023\"], [151, \"14587759\"]], \"fillcolor\": \"rgba(255,255,255,0)\", \"hoveron\": \"points\", \"hovertemplate\": \"room_type=%{x}<br>price=%{y}<br>up_days=%{customdata[0]}<br>list_id=%{customdata[1]}<extra></extra>\", \"legendgroup\": \"2b2b\", \"line\": {\"color\": \"rgba(255,255,255,0)\"}, \"marker\": {\"color\": \"#00cc96\"}, \"name\": \"2b2b\", \"offsetgroup\": \"2b2b\", \"orientation\": \"v\", \"pointpos\": 0, \"showlegend\": true, \"type\": \"box\", \"x\": [\"2b2b\", \"2b2b\", \"2b2b\", \"2b2b\", \"2b2b\", \"2b2b\", \"2b2b\", \"2b2b\", \"2b2b\", \"2b2b\", \"2b2b\", \"2b2b\", \"2b2b\", \"2b2b\", \"2b2b\", \"2b2b\", \"2b2b\", \"2b2b\", \"2b2b\", \"2b2b\", \"2b2b\", \"2b2b\", \"2b2b\", \"2b2b\", \"2b2b\", \"2b2b\", \"2b2b\", \"2b2b\"], \"x0\": \" \", \"xaxis\": \"x\", \"y\": [600.0, 600.0, 650.0, 550.0, 650.0, 650.0, 650.0, 630.0, 650.0, 620.0, 580.0, 650.0, 560.0, 600.0, 550.0, 650.0, 650.0, 650.0, 600.0, 600.0, 680.0, 560.0, 580.0, 550.0, 550.0, 550.0, 650.0, 450.0], \"y0\": \" \", \"yaxis\": \"y\"}],                        {\"boxmode\": \"overlay\", \"height\": 400, \"legend\": {\"title\": {\"text\": \"room_type\"}, \"tracegroupgap\": 0}, \"showlegend\": false, \"template\": {\"data\": {\"bar\": [{\"error_x\": {\"color\": \"#2a3f5f\"}, \"error_y\": {\"color\": \"#2a3f5f\"}, \"marker\": {\"line\": {\"color\": \"#E5ECF6\", \"width\": 0.5}}, \"type\": \"bar\"}], \"barpolar\": [{\"marker\": {\"line\": {\"color\": \"#E5ECF6\", \"width\": 0.5}}, \"type\": \"barpolar\"}], \"carpet\": [{\"aaxis\": {\"endlinecolor\": \"#2a3f5f\", \"gridcolor\": \"white\", \"linecolor\": \"white\", \"minorgridcolor\": \"white\", \"startlinecolor\": \"#2a3f5f\"}, \"baxis\": {\"endlinecolor\": \"#2a3f5f\", \"gridcolor\": \"white\", \"linecolor\": \"white\", \"minorgridcolor\": \"white\", \"startlinecolor\": \"#2a3f5f\"}, \"type\": \"carpet\"}], \"choropleth\": [{\"colorbar\": {\"outlinewidth\": 0, \"ticks\": \"\"}, \"type\": \"choropleth\"}], \"contour\": [{\"colorbar\": {\"outlinewidth\": 0, \"ticks\": \"\"}, \"colorscale\": [[0.0, \"#0d0887\"], [0.1111111111111111, \"#46039f\"], [0.2222222222222222, \"#7201a8\"], [0.3333333333333333, \"#9c179e\"], [0.4444444444444444, \"#bd3786\"], [0.5555555555555556, \"#d8576b\"], [0.6666666666666666, \"#ed7953\"], [0.7777777777777778, \"#fb9f3a\"], [0.8888888888888888, \"#fdca26\"], [1.0, \"#f0f921\"]], \"type\": \"contour\"}], \"contourcarpet\": [{\"colorbar\": {\"outlinewidth\": 0, \"ticks\": \"\"}, \"type\": \"contourcarpet\"}], \"heatmap\": [{\"colorbar\": {\"outlinewidth\": 0, \"ticks\": \"\"}, \"colorscale\": [[0.0, \"#0d0887\"], [0.1111111111111111, \"#46039f\"], [0.2222222222222222, \"#7201a8\"], [0.3333333333333333, \"#9c179e\"], [0.4444444444444444, \"#bd3786\"], [0.5555555555555556, \"#d8576b\"], [0.6666666666666666, \"#ed7953\"], [0.7777777777777778, \"#fb9f3a\"], [0.8888888888888888, \"#fdca26\"], [1.0, \"#f0f921\"]], \"type\": \"heatmap\"}], \"heatmapgl\": [{\"colorbar\": {\"outlinewidth\": 0, \"ticks\": \"\"}, \"colorscale\": [[0.0, \"#0d0887\"], [0.1111111111111111, \"#46039f\"], [0.2222222222222222, \"#7201a8\"], [0.3333333333333333, \"#9c179e\"], [0.4444444444444444, \"#bd3786\"], [0.5555555555555556, \"#d8576b\"], [0.6666666666666666, \"#ed7953\"], [0.7777777777777778, \"#fb9f3a\"], [0.8888888888888888, \"#fdca26\"], [1.0, \"#f0f921\"]], \"type\": \"heatmapgl\"}], \"histogram\": [{\"marker\": {\"colorbar\": {\"outlinewidth\": 0, \"ticks\": \"\"}}, \"type\": \"histogram\"}], \"histogram2d\": [{\"colorbar\": {\"outlinewidth\": 0, \"ticks\": \"\"}, \"colorscale\": [[0.0, \"#0d0887\"], [0.1111111111111111, \"#46039f\"], [0.2222222222222222, \"#7201a8\"], [0.3333333333333333, \"#9c179e\"], [0.4444444444444444, \"#bd3786\"], [0.5555555555555556, \"#d8576b\"], [0.6666666666666666, \"#ed7953\"], [0.7777777777777778, \"#fb9f3a\"], [0.8888888888888888, \"#fdca26\"], [1.0, \"#f0f921\"]], \"type\": \"histogram2d\"}], \"histogram2dcontour\": [{\"colorbar\": {\"outlinewidth\": 0, \"ticks\": \"\"}, \"colorscale\": [[0.0, \"#0d0887\"], [0.1111111111111111, \"#46039f\"], [0.2222222222222222, \"#7201a8\"], [0.3333333333333333, \"#9c179e\"], [0.4444444444444444, \"#bd3786\"], [0.5555555555555556, \"#d8576b\"], [0.6666666666666666, \"#ed7953\"], [0.7777777777777778, \"#fb9f3a\"], [0.8888888888888888, \"#fdca26\"], [1.0, \"#f0f921\"]], \"type\": \"histogram2dcontour\"}], \"mesh3d\": [{\"colorbar\": {\"outlinewidth\": 0, \"ticks\": \"\"}, \"type\": \"mesh3d\"}], \"parcoords\": [{\"line\": {\"colorbar\": {\"outlinewidth\": 0, \"ticks\": \"\"}}, \"type\": \"parcoords\"}], \"pie\": [{\"automargin\": true, \"type\": \"pie\"}], \"scatter\": [{\"marker\": {\"colorbar\": {\"outlinewidth\": 0, \"ticks\": \"\"}}, \"type\": \"scatter\"}], \"scatter3d\": [{\"line\": {\"colorbar\": {\"outlinewidth\": 0, \"ticks\": \"\"}}, \"marker\": {\"colorbar\": {\"outlinewidth\": 0, \"ticks\": \"\"}}, \"type\": \"scatter3d\"}], \"scattercarpet\": [{\"marker\": {\"colorbar\": {\"outlinewidth\": 0, \"ticks\": \"\"}}, \"type\": \"scattercarpet\"}], \"scattergeo\": [{\"marker\": {\"colorbar\": {\"outlinewidth\": 0, \"ticks\": \"\"}}, \"type\": \"scattergeo\"}], \"scattergl\": [{\"marker\": {\"colorbar\": {\"outlinewidth\": 0, \"ticks\": \"\"}}, \"type\": \"scattergl\"}], \"scattermapbox\": [{\"marker\": {\"colorbar\": {\"outlinewidth\": 0, \"ticks\": \"\"}}, \"type\": \"scattermapbox\"}], \"scatterpolar\": [{\"marker\": {\"colorbar\": {\"outlinewidth\": 0, \"ticks\": \"\"}}, \"type\": \"scatterpolar\"}], \"scatterpolargl\": [{\"marker\": {\"colorbar\": {\"outlinewidth\": 0, \"ticks\": \"\"}}, \"type\": \"scatterpolargl\"}], \"scatterternary\": [{\"marker\": {\"colorbar\": {\"outlinewidth\": 0, \"ticks\": \"\"}}, \"type\": \"scatterternary\"}], \"surface\": [{\"colorbar\": {\"outlinewidth\": 0, \"ticks\": \"\"}, \"colorscale\": [[0.0, \"#0d0887\"], [0.1111111111111111, \"#46039f\"], [0.2222222222222222, \"#7201a8\"], [0.3333333333333333, \"#9c179e\"], [0.4444444444444444, \"#bd3786\"], [0.5555555555555556, \"#d8576b\"], [0.6666666666666666, \"#ed7953\"], [0.7777777777777778, \"#fb9f3a\"], [0.8888888888888888, \"#fdca26\"], [1.0, \"#f0f921\"]], \"type\": \"surface\"}], \"table\": [{\"cells\": {\"fill\": {\"color\": \"#EBF0F8\"}, \"line\": {\"color\": \"white\"}}, \"header\": {\"fill\": {\"color\": \"#C8D4E3\"}, \"line\": {\"color\": \"white\"}}, \"type\": \"table\"}]}, \"layout\": {\"annotationdefaults\": {\"arrowcolor\": \"#2a3f5f\", \"arrowhead\": 0, \"arrowwidth\": 1}, \"autotypenumbers\": \"strict\", \"coloraxis\": {\"colorbar\": {\"outlinewidth\": 0, \"ticks\": \"\"}}, \"colorscale\": {\"diverging\": [[0, \"#8e0152\"], [0.1, \"#c51b7d\"], [0.2, \"#de77ae\"], [0.3, \"#f1b6da\"], [0.4, \"#fde0ef\"], [0.5, \"#f7f7f7\"], [0.6, \"#e6f5d0\"], [0.7, \"#b8e186\"], [0.8, \"#7fbc41\"], [0.9, \"#4d9221\"], [1, \"#276419\"]], \"sequential\": [[0.0, \"#0d0887\"], [0.1111111111111111, \"#46039f\"], [0.2222222222222222, \"#7201a8\"], [0.3333333333333333, \"#9c179e\"], [0.4444444444444444, \"#bd3786\"], [0.5555555555555556, \"#d8576b\"], [0.6666666666666666, \"#ed7953\"], [0.7777777777777778, \"#fb9f3a\"], [0.8888888888888888, \"#fdca26\"], [1.0, \"#f0f921\"]], \"sequentialminus\": [[0.0, \"#0d0887\"], [0.1111111111111111, \"#46039f\"], [0.2222222222222222, \"#7201a8\"], [0.3333333333333333, \"#9c179e\"], [0.4444444444444444, \"#bd3786\"], [0.5555555555555556, \"#d8576b\"], [0.6666666666666666, \"#ed7953\"], [0.7777777777777778, \"#fb9f3a\"], [0.8888888888888888, \"#fdca26\"], [1.0, \"#f0f921\"]]}, \"colorway\": [\"#636efa\", \"#EF553B\", \"#00cc96\", \"#ab63fa\", \"#FFA15A\", \"#19d3f3\", \"#FF6692\", \"#B6E880\", \"#FF97FF\", \"#FECB52\"], \"font\": {\"color\": \"#2a3f5f\"}, \"geo\": {\"bgcolor\": \"white\", \"lakecolor\": \"white\", \"landcolor\": \"#E5ECF6\", \"showlakes\": true, \"showland\": true, \"subunitcolor\": \"white\"}, \"hoverlabel\": {\"align\": \"left\"}, \"hovermode\": \"closest\", \"mapbox\": {\"style\": \"light\"}, \"paper_bgcolor\": \"white\", \"plot_bgcolor\": \"#E5ECF6\", \"polar\": {\"angularaxis\": {\"gridcolor\": \"white\", \"linecolor\": \"white\", \"ticks\": \"\"}, \"bgcolor\": \"#E5ECF6\", \"radialaxis\": {\"gridcolor\": \"white\", \"linecolor\": \"white\", \"ticks\": \"\"}}, \"scene\": {\"xaxis\": {\"backgroundcolor\": \"#E5ECF6\", \"gridcolor\": \"white\", \"gridwidth\": 2, \"linecolor\": \"white\", \"showbackground\": true, \"ticks\": \"\", \"zerolinecolor\": \"white\"}, \"yaxis\": {\"backgroundcolor\": \"#E5ECF6\", \"gridcolor\": \"white\", \"gridwidth\": 2, \"linecolor\": \"white\", \"showbackground\": true, \"ticks\": \"\", \"zerolinecolor\": \"white\"}, \"zaxis\": {\"backgroundcolor\": \"#E5ECF6\", \"gridcolor\": \"white\", \"gridwidth\": 2, \"linecolor\": \"white\", \"showbackground\": true, \"ticks\": \"\", \"zerolinecolor\": \"white\"}}, \"shapedefaults\": {\"line\": {\"color\": \"#2a3f5f\"}}, \"ternary\": {\"aaxis\": {\"gridcolor\": \"white\", \"linecolor\": \"white\", \"ticks\": \"\"}, \"baxis\": {\"gridcolor\": \"white\", \"linecolor\": \"white\", \"ticks\": \"\"}, \"bgcolor\": \"#E5ECF6\", \"caxis\": {\"gridcolor\": \"white\", \"linecolor\": \"white\", \"ticks\": \"\"}}, \"title\": {\"x\": 0.05}, \"xaxis\": {\"automargin\": true, \"gridcolor\": \"white\", \"linecolor\": \"white\", \"ticks\": \"\", \"title\": {\"standoff\": 15}, \"zerolinecolor\": \"white\", \"zerolinewidth\": 2}, \"yaxis\": {\"automargin\": true, \"gridcolor\": \"white\", \"linecolor\": \"white\", \"ticks\": \"\", \"title\": {\"standoff\": 15}, \"zerolinecolor\": \"white\", \"zerolinewidth\": 2}}}, \"title\": {\"text\": \"71 properties are currently On Market for Rent\"}, \"width\": 500, \"xaxis\": {\"anchor\": \"y\", \"categoryarray\": [\"1b1b\", \"2b1b\", \"2b2b\"], \"categoryorder\": \"array\", \"domain\": [0.0, 1.0], \"title\": {\"text\": \"room_type\"}}, \"yaxis\": {\"anchor\": \"x\", \"domain\": [0.0, 1.0], \"title\": {\"text\": \"price\"}}},                        {\"responsive\": true}                    ).then(function(){\n",
       "                            \n",
       "var gd = document.getElementById('61ec720e-8f43-435f-90ff-40cb5ee689fd');\n",
       "var x = new MutationObserver(function (mutations, observer) {{\n",
       "        var display = window.getComputedStyle(gd).display;\n",
       "        if (!display || display === 'none') {{\n",
       "            console.log([gd, 'removed!']);\n",
       "            Plotly.purge(gd);\n",
       "            observer.disconnect();\n",
       "        }}\n",
       "}});\n",
       "\n",
       "// Listen for the removal of the full notebook cells\n",
       "var notebookContainer = gd.closest('#notebook-container');\n",
       "if (notebookContainer) {{\n",
       "    x.observe(notebookContainer, {childList: true});\n",
       "}}\n",
       "\n",
       "// Listen for the clearing of the current output cell\n",
       "var outputEl = gd.closest('.output');\n",
       "if (outputEl) {{\n",
       "    x.observe(outputEl, {childList: true});\n",
       "}}\n",
       "\n",
       "                        })                };                });            </script>        </div>"
      ]
     },
     "metadata": {},
     "output_type": "display_data"
    },
    {
     "data": {
      "application/vnd.plotly.v1+json": {
       "config": {
        "plotlyServerURL": "https://plot.ly"
       },
       "data": [
        {
         "colorscale": [
          [
           0,
           "#00083e"
          ],
          [
           0.5,
           "#ededee"
          ],
          [
           1,
           "#ffffff"
          ]
         ],
         "hoverinfo": "none",
         "opacity": 0.75,
         "showscale": false,
         "type": "heatmap",
         "z": [
          [
           0,
           0,
           0,
           0,
           0,
           0
          ],
          [
           0.5,
           0.5,
           0.5,
           0.5,
           0.5,
           0.5
          ],
          [
           1,
           1,
           1,
           1,
           1,
           1
          ],
          [
           0.5,
           0.5,
           0.5,
           0.5,
           0.5,
           0.5
          ]
         ]
        }
       ],
       "layout": {
        "annotations": [
         {
          "align": "left",
          "font": {
           "color": "#ffffff"
          },
          "showarrow": false,
          "text": "<b>room<br>type</b>",
          "x": -0.45,
          "xanchor": "left",
          "xref": "x",
          "y": 0,
          "yref": "y"
         },
         {
          "align": "left",
          "font": {
           "color": "#ffffff"
          },
          "showarrow": false,
          "text": "<b>on market<br>count</b>",
          "x": 0.55,
          "xanchor": "left",
          "xref": "x",
          "y": 0,
          "yref": "y"
         },
         {
          "align": "left",
          "font": {
           "color": "#ffffff"
          },
          "showarrow": false,
          "text": "<b>median<br>price(pw)</b>",
          "x": 1.55,
          "xanchor": "left",
          "xref": "x",
          "y": 0,
          "yref": "y"
         },
         {
          "align": "left",
          "font": {
           "color": "#ffffff"
          },
          "showarrow": false,
          "text": "<b>lowest<br>price</b>",
          "x": 2.55,
          "xanchor": "left",
          "xref": "x",
          "y": 0,
          "yref": "y"
         },
         {
          "align": "left",
          "font": {
           "color": "#ffffff"
          },
          "showarrow": false,
          "text": "<b>highest<br>price</b>",
          "x": 3.55,
          "xanchor": "left",
          "xref": "x",
          "y": 0,
          "yref": "y"
         },
         {
          "align": "left",
          "font": {
           "color": "#ffffff"
          },
          "showarrow": false,
          "text": "<b>standard<br>deviation</b>",
          "x": 4.55,
          "xanchor": "left",
          "xref": "x",
          "y": 0,
          "yref": "y"
         },
         {
          "align": "left",
          "font": {
           "color": "#000000"
          },
          "showarrow": false,
          "text": "1b1b",
          "x": -0.45,
          "xanchor": "left",
          "xref": "x",
          "y": 1,
          "yref": "y"
         },
         {
          "align": "left",
          "font": {
           "color": "#000000"
          },
          "showarrow": false,
          "text": "15",
          "x": 0.55,
          "xanchor": "left",
          "xref": "x",
          "y": 1,
          "yref": "y"
         },
         {
          "align": "left",
          "font": {
           "color": "#000000"
          },
          "showarrow": false,
          "text": "$390.0",
          "x": 1.55,
          "xanchor": "left",
          "xref": "x",
          "y": 1,
          "yref": "y"
         },
         {
          "align": "left",
          "font": {
           "color": "#000000"
          },
          "showarrow": false,
          "text": "$308.0",
          "x": 2.55,
          "xanchor": "left",
          "xref": "x",
          "y": 1,
          "yref": "y"
         },
         {
          "align": "left",
          "font": {
           "color": "#000000"
          },
          "showarrow": false,
          "text": "$450.0",
          "x": 3.55,
          "xanchor": "left",
          "xref": "x",
          "y": 1,
          "yref": "y"
         },
         {
          "align": "left",
          "font": {
           "color": "#000000"
          },
          "showarrow": false,
          "text": "$36.5",
          "x": 4.55,
          "xanchor": "left",
          "xref": "x",
          "y": 1,
          "yref": "y"
         },
         {
          "align": "left",
          "font": {
           "color": "#000000"
          },
          "showarrow": false,
          "text": "2b1b",
          "x": -0.45,
          "xanchor": "left",
          "xref": "x",
          "y": 2,
          "yref": "y"
         },
         {
          "align": "left",
          "font": {
           "color": "#000000"
          },
          "showarrow": false,
          "text": "6",
          "x": 0.55,
          "xanchor": "left",
          "xref": "x",
          "y": 2,
          "yref": "y"
         },
         {
          "align": "left",
          "font": {
           "color": "#000000"
          },
          "showarrow": false,
          "text": "$490.0",
          "x": 1.55,
          "xanchor": "left",
          "xref": "x",
          "y": 2,
          "yref": "y"
         },
         {
          "align": "left",
          "font": {
           "color": "#000000"
          },
          "showarrow": false,
          "text": "$460.0",
          "x": 2.55,
          "xanchor": "left",
          "xref": "x",
          "y": 2,
          "yref": "y"
         },
         {
          "align": "left",
          "font": {
           "color": "#000000"
          },
          "showarrow": false,
          "text": "$600.0",
          "x": 3.55,
          "xanchor": "left",
          "xref": "x",
          "y": 2,
          "yref": "y"
         },
         {
          "align": "left",
          "font": {
           "color": "#000000"
          },
          "showarrow": false,
          "text": "$53.07",
          "x": 4.55,
          "xanchor": "left",
          "xref": "x",
          "y": 2,
          "yref": "y"
         },
         {
          "align": "left",
          "font": {
           "color": "#000000"
          },
          "showarrow": false,
          "text": "2b2b",
          "x": -0.45,
          "xanchor": "left",
          "xref": "x",
          "y": 3,
          "yref": "y"
         },
         {
          "align": "left",
          "font": {
           "color": "#000000"
          },
          "showarrow": false,
          "text": "28",
          "x": 0.55,
          "xanchor": "left",
          "xref": "x",
          "y": 3,
          "yref": "y"
         },
         {
          "align": "left",
          "font": {
           "color": "#000000"
          },
          "showarrow": false,
          "text": "$600.0",
          "x": 1.55,
          "xanchor": "left",
          "xref": "x",
          "y": 3,
          "yref": "y"
         },
         {
          "align": "left",
          "font": {
           "color": "#000000"
          },
          "showarrow": false,
          "text": "$450.0",
          "x": 2.55,
          "xanchor": "left",
          "xref": "x",
          "y": 3,
          "yref": "y"
         },
         {
          "align": "left",
          "font": {
           "color": "#000000"
          },
          "showarrow": false,
          "text": "$680.0",
          "x": 3.55,
          "xanchor": "left",
          "xref": "x",
          "y": 3,
          "yref": "y"
         },
         {
          "align": "left",
          "font": {
           "color": "#000000"
          },
          "showarrow": false,
          "text": "$51.38",
          "x": 4.55,
          "xanchor": "left",
          "xref": "x",
          "y": 3,
          "yref": "y"
         }
        ],
        "height": 290,
        "margin": {
         "b": 0,
         "l": 0,
         "r": 0,
         "t": 0
        },
        "template": {
         "data": {
          "bar": [
           {
            "error_x": {
             "color": "#2a3f5f"
            },
            "error_y": {
             "color": "#2a3f5f"
            },
            "marker": {
             "line": {
              "color": "#E5ECF6",
              "width": 0.5
             }
            },
            "type": "bar"
           }
          ],
          "barpolar": [
           {
            "marker": {
             "line": {
              "color": "#E5ECF6",
              "width": 0.5
             }
            },
            "type": "barpolar"
           }
          ],
          "carpet": [
           {
            "aaxis": {
             "endlinecolor": "#2a3f5f",
             "gridcolor": "white",
             "linecolor": "white",
             "minorgridcolor": "white",
             "startlinecolor": "#2a3f5f"
            },
            "baxis": {
             "endlinecolor": "#2a3f5f",
             "gridcolor": "white",
             "linecolor": "white",
             "minorgridcolor": "white",
             "startlinecolor": "#2a3f5f"
            },
            "type": "carpet"
           }
          ],
          "choropleth": [
           {
            "colorbar": {
             "outlinewidth": 0,
             "ticks": ""
            },
            "type": "choropleth"
           }
          ],
          "contour": [
           {
            "colorbar": {
             "outlinewidth": 0,
             "ticks": ""
            },
            "colorscale": [
             [
              0,
              "#0d0887"
             ],
             [
              0.1111111111111111,
              "#46039f"
             ],
             [
              0.2222222222222222,
              "#7201a8"
             ],
             [
              0.3333333333333333,
              "#9c179e"
             ],
             [
              0.4444444444444444,
              "#bd3786"
             ],
             [
              0.5555555555555556,
              "#d8576b"
             ],
             [
              0.6666666666666666,
              "#ed7953"
             ],
             [
              0.7777777777777778,
              "#fb9f3a"
             ],
             [
              0.8888888888888888,
              "#fdca26"
             ],
             [
              1,
              "#f0f921"
             ]
            ],
            "type": "contour"
           }
          ],
          "contourcarpet": [
           {
            "colorbar": {
             "outlinewidth": 0,
             "ticks": ""
            },
            "type": "contourcarpet"
           }
          ],
          "heatmap": [
           {
            "colorbar": {
             "outlinewidth": 0,
             "ticks": ""
            },
            "colorscale": [
             [
              0,
              "#0d0887"
             ],
             [
              0.1111111111111111,
              "#46039f"
             ],
             [
              0.2222222222222222,
              "#7201a8"
             ],
             [
              0.3333333333333333,
              "#9c179e"
             ],
             [
              0.4444444444444444,
              "#bd3786"
             ],
             [
              0.5555555555555556,
              "#d8576b"
             ],
             [
              0.6666666666666666,
              "#ed7953"
             ],
             [
              0.7777777777777778,
              "#fb9f3a"
             ],
             [
              0.8888888888888888,
              "#fdca26"
             ],
             [
              1,
              "#f0f921"
             ]
            ],
            "type": "heatmap"
           }
          ],
          "heatmapgl": [
           {
            "colorbar": {
             "outlinewidth": 0,
             "ticks": ""
            },
            "colorscale": [
             [
              0,
              "#0d0887"
             ],
             [
              0.1111111111111111,
              "#46039f"
             ],
             [
              0.2222222222222222,
              "#7201a8"
             ],
             [
              0.3333333333333333,
              "#9c179e"
             ],
             [
              0.4444444444444444,
              "#bd3786"
             ],
             [
              0.5555555555555556,
              "#d8576b"
             ],
             [
              0.6666666666666666,
              "#ed7953"
             ],
             [
              0.7777777777777778,
              "#fb9f3a"
             ],
             [
              0.8888888888888888,
              "#fdca26"
             ],
             [
              1,
              "#f0f921"
             ]
            ],
            "type": "heatmapgl"
           }
          ],
          "histogram": [
           {
            "marker": {
             "colorbar": {
              "outlinewidth": 0,
              "ticks": ""
             }
            },
            "type": "histogram"
           }
          ],
          "histogram2d": [
           {
            "colorbar": {
             "outlinewidth": 0,
             "ticks": ""
            },
            "colorscale": [
             [
              0,
              "#0d0887"
             ],
             [
              0.1111111111111111,
              "#46039f"
             ],
             [
              0.2222222222222222,
              "#7201a8"
             ],
             [
              0.3333333333333333,
              "#9c179e"
             ],
             [
              0.4444444444444444,
              "#bd3786"
             ],
             [
              0.5555555555555556,
              "#d8576b"
             ],
             [
              0.6666666666666666,
              "#ed7953"
             ],
             [
              0.7777777777777778,
              "#fb9f3a"
             ],
             [
              0.8888888888888888,
              "#fdca26"
             ],
             [
              1,
              "#f0f921"
             ]
            ],
            "type": "histogram2d"
           }
          ],
          "histogram2dcontour": [
           {
            "colorbar": {
             "outlinewidth": 0,
             "ticks": ""
            },
            "colorscale": [
             [
              0,
              "#0d0887"
             ],
             [
              0.1111111111111111,
              "#46039f"
             ],
             [
              0.2222222222222222,
              "#7201a8"
             ],
             [
              0.3333333333333333,
              "#9c179e"
             ],
             [
              0.4444444444444444,
              "#bd3786"
             ],
             [
              0.5555555555555556,
              "#d8576b"
             ],
             [
              0.6666666666666666,
              "#ed7953"
             ],
             [
              0.7777777777777778,
              "#fb9f3a"
             ],
             [
              0.8888888888888888,
              "#fdca26"
             ],
             [
              1,
              "#f0f921"
             ]
            ],
            "type": "histogram2dcontour"
           }
          ],
          "mesh3d": [
           {
            "colorbar": {
             "outlinewidth": 0,
             "ticks": ""
            },
            "type": "mesh3d"
           }
          ],
          "parcoords": [
           {
            "line": {
             "colorbar": {
              "outlinewidth": 0,
              "ticks": ""
             }
            },
            "type": "parcoords"
           }
          ],
          "pie": [
           {
            "automargin": true,
            "type": "pie"
           }
          ],
          "scatter": [
           {
            "marker": {
             "colorbar": {
              "outlinewidth": 0,
              "ticks": ""
             }
            },
            "type": "scatter"
           }
          ],
          "scatter3d": [
           {
            "line": {
             "colorbar": {
              "outlinewidth": 0,
              "ticks": ""
             }
            },
            "marker": {
             "colorbar": {
              "outlinewidth": 0,
              "ticks": ""
             }
            },
            "type": "scatter3d"
           }
          ],
          "scattercarpet": [
           {
            "marker": {
             "colorbar": {
              "outlinewidth": 0,
              "ticks": ""
             }
            },
            "type": "scattercarpet"
           }
          ],
          "scattergeo": [
           {
            "marker": {
             "colorbar": {
              "outlinewidth": 0,
              "ticks": ""
             }
            },
            "type": "scattergeo"
           }
          ],
          "scattergl": [
           {
            "marker": {
             "colorbar": {
              "outlinewidth": 0,
              "ticks": ""
             }
            },
            "type": "scattergl"
           }
          ],
          "scattermapbox": [
           {
            "marker": {
             "colorbar": {
              "outlinewidth": 0,
              "ticks": ""
             }
            },
            "type": "scattermapbox"
           }
          ],
          "scatterpolar": [
           {
            "marker": {
             "colorbar": {
              "outlinewidth": 0,
              "ticks": ""
             }
            },
            "type": "scatterpolar"
           }
          ],
          "scatterpolargl": [
           {
            "marker": {
             "colorbar": {
              "outlinewidth": 0,
              "ticks": ""
             }
            },
            "type": "scatterpolargl"
           }
          ],
          "scatterternary": [
           {
            "marker": {
             "colorbar": {
              "outlinewidth": 0,
              "ticks": ""
             }
            },
            "type": "scatterternary"
           }
          ],
          "surface": [
           {
            "colorbar": {
             "outlinewidth": 0,
             "ticks": ""
            },
            "colorscale": [
             [
              0,
              "#0d0887"
             ],
             [
              0.1111111111111111,
              "#46039f"
             ],
             [
              0.2222222222222222,
              "#7201a8"
             ],
             [
              0.3333333333333333,
              "#9c179e"
             ],
             [
              0.4444444444444444,
              "#bd3786"
             ],
             [
              0.5555555555555556,
              "#d8576b"
             ],
             [
              0.6666666666666666,
              "#ed7953"
             ],
             [
              0.7777777777777778,
              "#fb9f3a"
             ],
             [
              0.8888888888888888,
              "#fdca26"
             ],
             [
              1,
              "#f0f921"
             ]
            ],
            "type": "surface"
           }
          ],
          "table": [
           {
            "cells": {
             "fill": {
              "color": "#EBF0F8"
             },
             "line": {
              "color": "white"
             }
            },
            "header": {
             "fill": {
              "color": "#C8D4E3"
             },
             "line": {
              "color": "white"
             }
            },
            "type": "table"
           }
          ]
         },
         "layout": {
          "annotationdefaults": {
           "arrowcolor": "#2a3f5f",
           "arrowhead": 0,
           "arrowwidth": 1
          },
          "autotypenumbers": "strict",
          "coloraxis": {
           "colorbar": {
            "outlinewidth": 0,
            "ticks": ""
           }
          },
          "colorscale": {
           "diverging": [
            [
             0,
             "#8e0152"
            ],
            [
             0.1,
             "#c51b7d"
            ],
            [
             0.2,
             "#de77ae"
            ],
            [
             0.3,
             "#f1b6da"
            ],
            [
             0.4,
             "#fde0ef"
            ],
            [
             0.5,
             "#f7f7f7"
            ],
            [
             0.6,
             "#e6f5d0"
            ],
            [
             0.7,
             "#b8e186"
            ],
            [
             0.8,
             "#7fbc41"
            ],
            [
             0.9,
             "#4d9221"
            ],
            [
             1,
             "#276419"
            ]
           ],
           "sequential": [
            [
             0,
             "#0d0887"
            ],
            [
             0.1111111111111111,
             "#46039f"
            ],
            [
             0.2222222222222222,
             "#7201a8"
            ],
            [
             0.3333333333333333,
             "#9c179e"
            ],
            [
             0.4444444444444444,
             "#bd3786"
            ],
            [
             0.5555555555555556,
             "#d8576b"
            ],
            [
             0.6666666666666666,
             "#ed7953"
            ],
            [
             0.7777777777777778,
             "#fb9f3a"
            ],
            [
             0.8888888888888888,
             "#fdca26"
            ],
            [
             1,
             "#f0f921"
            ]
           ],
           "sequentialminus": [
            [
             0,
             "#0d0887"
            ],
            [
             0.1111111111111111,
             "#46039f"
            ],
            [
             0.2222222222222222,
             "#7201a8"
            ],
            [
             0.3333333333333333,
             "#9c179e"
            ],
            [
             0.4444444444444444,
             "#bd3786"
            ],
            [
             0.5555555555555556,
             "#d8576b"
            ],
            [
             0.6666666666666666,
             "#ed7953"
            ],
            [
             0.7777777777777778,
             "#fb9f3a"
            ],
            [
             0.8888888888888888,
             "#fdca26"
            ],
            [
             1,
             "#f0f921"
            ]
           ]
          },
          "colorway": [
           "#636efa",
           "#EF553B",
           "#00cc96",
           "#ab63fa",
           "#FFA15A",
           "#19d3f3",
           "#FF6692",
           "#B6E880",
           "#FF97FF",
           "#FECB52"
          ],
          "font": {
           "color": "#2a3f5f"
          },
          "geo": {
           "bgcolor": "white",
           "lakecolor": "white",
           "landcolor": "#E5ECF6",
           "showlakes": true,
           "showland": true,
           "subunitcolor": "white"
          },
          "hoverlabel": {
           "align": "left"
          },
          "hovermode": "closest",
          "mapbox": {
           "style": "light"
          },
          "paper_bgcolor": "white",
          "plot_bgcolor": "#E5ECF6",
          "polar": {
           "angularaxis": {
            "gridcolor": "white",
            "linecolor": "white",
            "ticks": ""
           },
           "bgcolor": "#E5ECF6",
           "radialaxis": {
            "gridcolor": "white",
            "linecolor": "white",
            "ticks": ""
           }
          },
          "scene": {
           "xaxis": {
            "backgroundcolor": "#E5ECF6",
            "gridcolor": "white",
            "gridwidth": 2,
            "linecolor": "white",
            "showbackground": true,
            "ticks": "",
            "zerolinecolor": "white"
           },
           "yaxis": {
            "backgroundcolor": "#E5ECF6",
            "gridcolor": "white",
            "gridwidth": 2,
            "linecolor": "white",
            "showbackground": true,
            "ticks": "",
            "zerolinecolor": "white"
           },
           "zaxis": {
            "backgroundcolor": "#E5ECF6",
            "gridcolor": "white",
            "gridwidth": 2,
            "linecolor": "white",
            "showbackground": true,
            "ticks": "",
            "zerolinecolor": "white"
           }
          },
          "shapedefaults": {
           "line": {
            "color": "#2a3f5f"
           }
          },
          "ternary": {
           "aaxis": {
            "gridcolor": "white",
            "linecolor": "white",
            "ticks": ""
           },
           "baxis": {
            "gridcolor": "white",
            "linecolor": "white",
            "ticks": ""
           },
           "bgcolor": "#E5ECF6",
           "caxis": {
            "gridcolor": "white",
            "linecolor": "white",
            "ticks": ""
           }
          },
          "title": {
           "x": 0.05
          },
          "xaxis": {
           "automargin": true,
           "gridcolor": "white",
           "linecolor": "white",
           "ticks": "",
           "title": {
            "standoff": 15
           },
           "zerolinecolor": "white",
           "zerolinewidth": 2
          },
          "yaxis": {
           "automargin": true,
           "gridcolor": "white",
           "linecolor": "white",
           "ticks": "",
           "title": {
            "standoff": 15
           },
           "zerolinecolor": "white",
           "zerolinewidth": 2
          }
         }
        },
        "width": 500,
        "xaxis": {
         "dtick": 1,
         "gridwidth": 2,
         "showticklabels": false,
         "tick0": -0.5,
         "ticks": "",
         "zeroline": false
        },
        "yaxis": {
         "autorange": "reversed",
         "dtick": 1,
         "gridwidth": 2,
         "showticklabels": false,
         "tick0": 0.5,
         "ticks": "",
         "zeroline": false
        }
       }
      },
      "text/html": [
       "<div>                            <div id=\"1242cf56-a56d-42eb-a50d-b5a7d06bf88e\" class=\"plotly-graph-div\" style=\"height:290px; width:500px;\"></div>            <script type=\"text/javascript\">                require([\"plotly\"], function(Plotly) {                    window.PLOTLYENV=window.PLOTLYENV || {};                                    if (document.getElementById(\"1242cf56-a56d-42eb-a50d-b5a7d06bf88e\")) {                    Plotly.newPlot(                        \"1242cf56-a56d-42eb-a50d-b5a7d06bf88e\",                        [{\"colorscale\": [[0, \"#00083e\"], [0.5, \"#ededee\"], [1, \"#ffffff\"]], \"hoverinfo\": \"none\", \"opacity\": 0.75, \"showscale\": false, \"type\": \"heatmap\", \"z\": [[0, 0, 0, 0, 0, 0], [0.5, 0.5, 0.5, 0.5, 0.5, 0.5], [1, 1, 1, 1, 1, 1], [0.5, 0.5, 0.5, 0.5, 0.5, 0.5]]}],                        {\"annotations\": [{\"align\": \"left\", \"font\": {\"color\": \"#ffffff\"}, \"showarrow\": false, \"text\": \"<b>room<br>type</b>\", \"x\": -0.45, \"xanchor\": \"left\", \"xref\": \"x\", \"y\": 0, \"yref\": \"y\"}, {\"align\": \"left\", \"font\": {\"color\": \"#ffffff\"}, \"showarrow\": false, \"text\": \"<b>on market<br>count</b>\", \"x\": 0.55, \"xanchor\": \"left\", \"xref\": \"x\", \"y\": 0, \"yref\": \"y\"}, {\"align\": \"left\", \"font\": {\"color\": \"#ffffff\"}, \"showarrow\": false, \"text\": \"<b>median<br>price(pw)</b>\", \"x\": 1.55, \"xanchor\": \"left\", \"xref\": \"x\", \"y\": 0, \"yref\": \"y\"}, {\"align\": \"left\", \"font\": {\"color\": \"#ffffff\"}, \"showarrow\": false, \"text\": \"<b>lowest<br>price</b>\", \"x\": 2.55, \"xanchor\": \"left\", \"xref\": \"x\", \"y\": 0, \"yref\": \"y\"}, {\"align\": \"left\", \"font\": {\"color\": \"#ffffff\"}, \"showarrow\": false, \"text\": \"<b>highest<br>price</b>\", \"x\": 3.55, \"xanchor\": \"left\", \"xref\": \"x\", \"y\": 0, \"yref\": \"y\"}, {\"align\": \"left\", \"font\": {\"color\": \"#ffffff\"}, \"showarrow\": false, \"text\": \"<b>standard<br>deviation</b>\", \"x\": 4.55, \"xanchor\": \"left\", \"xref\": \"x\", \"y\": 0, \"yref\": \"y\"}, {\"align\": \"left\", \"font\": {\"color\": \"#000000\"}, \"showarrow\": false, \"text\": \"1b1b\", \"x\": -0.45, \"xanchor\": \"left\", \"xref\": \"x\", \"y\": 1, \"yref\": \"y\"}, {\"align\": \"left\", \"font\": {\"color\": \"#000000\"}, \"showarrow\": false, \"text\": \"15\", \"x\": 0.55, \"xanchor\": \"left\", \"xref\": \"x\", \"y\": 1, \"yref\": \"y\"}, {\"align\": \"left\", \"font\": {\"color\": \"#000000\"}, \"showarrow\": false, \"text\": \"$390.0\", \"x\": 1.55, \"xanchor\": \"left\", \"xref\": \"x\", \"y\": 1, \"yref\": \"y\"}, {\"align\": \"left\", \"font\": {\"color\": \"#000000\"}, \"showarrow\": false, \"text\": \"$308.0\", \"x\": 2.55, \"xanchor\": \"left\", \"xref\": \"x\", \"y\": 1, \"yref\": \"y\"}, {\"align\": \"left\", \"font\": {\"color\": \"#000000\"}, \"showarrow\": false, \"text\": \"$450.0\", \"x\": 3.55, \"xanchor\": \"left\", \"xref\": \"x\", \"y\": 1, \"yref\": \"y\"}, {\"align\": \"left\", \"font\": {\"color\": \"#000000\"}, \"showarrow\": false, \"text\": \"$36.5\", \"x\": 4.55, \"xanchor\": \"left\", \"xref\": \"x\", \"y\": 1, \"yref\": \"y\"}, {\"align\": \"left\", \"font\": {\"color\": \"#000000\"}, \"showarrow\": false, \"text\": \"2b1b\", \"x\": -0.45, \"xanchor\": \"left\", \"xref\": \"x\", \"y\": 2, \"yref\": \"y\"}, {\"align\": \"left\", \"font\": {\"color\": \"#000000\"}, \"showarrow\": false, \"text\": \"6\", \"x\": 0.55, \"xanchor\": \"left\", \"xref\": \"x\", \"y\": 2, \"yref\": \"y\"}, {\"align\": \"left\", \"font\": {\"color\": \"#000000\"}, \"showarrow\": false, \"text\": \"$490.0\", \"x\": 1.55, \"xanchor\": \"left\", \"xref\": \"x\", \"y\": 2, \"yref\": \"y\"}, {\"align\": \"left\", \"font\": {\"color\": \"#000000\"}, \"showarrow\": false, \"text\": \"$460.0\", \"x\": 2.55, \"xanchor\": \"left\", \"xref\": \"x\", \"y\": 2, \"yref\": \"y\"}, {\"align\": \"left\", \"font\": {\"color\": \"#000000\"}, \"showarrow\": false, \"text\": \"$600.0\", \"x\": 3.55, \"xanchor\": \"left\", \"xref\": \"x\", \"y\": 2, \"yref\": \"y\"}, {\"align\": \"left\", \"font\": {\"color\": \"#000000\"}, \"showarrow\": false, \"text\": \"$53.07\", \"x\": 4.55, \"xanchor\": \"left\", \"xref\": \"x\", \"y\": 2, \"yref\": \"y\"}, {\"align\": \"left\", \"font\": {\"color\": \"#000000\"}, \"showarrow\": false, \"text\": \"2b2b\", \"x\": -0.45, \"xanchor\": \"left\", \"xref\": \"x\", \"y\": 3, \"yref\": \"y\"}, {\"align\": \"left\", \"font\": {\"color\": \"#000000\"}, \"showarrow\": false, \"text\": \"28\", \"x\": 0.55, \"xanchor\": \"left\", \"xref\": \"x\", \"y\": 3, \"yref\": \"y\"}, {\"align\": \"left\", \"font\": {\"color\": \"#000000\"}, \"showarrow\": false, \"text\": \"$600.0\", \"x\": 1.55, \"xanchor\": \"left\", \"xref\": \"x\", \"y\": 3, \"yref\": \"y\"}, {\"align\": \"left\", \"font\": {\"color\": \"#000000\"}, \"showarrow\": false, \"text\": \"$450.0\", \"x\": 2.55, \"xanchor\": \"left\", \"xref\": \"x\", \"y\": 3, \"yref\": \"y\"}, {\"align\": \"left\", \"font\": {\"color\": \"#000000\"}, \"showarrow\": false, \"text\": \"$680.0\", \"x\": 3.55, \"xanchor\": \"left\", \"xref\": \"x\", \"y\": 3, \"yref\": \"y\"}, {\"align\": \"left\", \"font\": {\"color\": \"#000000\"}, \"showarrow\": false, \"text\": \"$51.38\", \"x\": 4.55, \"xanchor\": \"left\", \"xref\": \"x\", \"y\": 3, \"yref\": \"y\"}], \"height\": 290, \"margin\": {\"b\": 0, \"l\": 0, \"r\": 0, \"t\": 0}, \"template\": {\"data\": {\"bar\": [{\"error_x\": {\"color\": \"#2a3f5f\"}, \"error_y\": {\"color\": \"#2a3f5f\"}, \"marker\": {\"line\": {\"color\": \"#E5ECF6\", \"width\": 0.5}}, \"type\": \"bar\"}], \"barpolar\": [{\"marker\": {\"line\": {\"color\": \"#E5ECF6\", \"width\": 0.5}}, \"type\": \"barpolar\"}], \"carpet\": [{\"aaxis\": {\"endlinecolor\": \"#2a3f5f\", \"gridcolor\": \"white\", \"linecolor\": \"white\", \"minorgridcolor\": \"white\", \"startlinecolor\": \"#2a3f5f\"}, \"baxis\": {\"endlinecolor\": \"#2a3f5f\", \"gridcolor\": \"white\", \"linecolor\": \"white\", \"minorgridcolor\": \"white\", \"startlinecolor\": \"#2a3f5f\"}, \"type\": \"carpet\"}], \"choropleth\": [{\"colorbar\": {\"outlinewidth\": 0, \"ticks\": \"\"}, \"type\": \"choropleth\"}], \"contour\": [{\"colorbar\": {\"outlinewidth\": 0, \"ticks\": \"\"}, \"colorscale\": [[0.0, \"#0d0887\"], [0.1111111111111111, \"#46039f\"], [0.2222222222222222, \"#7201a8\"], [0.3333333333333333, \"#9c179e\"], [0.4444444444444444, \"#bd3786\"], [0.5555555555555556, \"#d8576b\"], [0.6666666666666666, \"#ed7953\"], [0.7777777777777778, \"#fb9f3a\"], [0.8888888888888888, \"#fdca26\"], [1.0, \"#f0f921\"]], \"type\": \"contour\"}], \"contourcarpet\": [{\"colorbar\": {\"outlinewidth\": 0, \"ticks\": \"\"}, \"type\": \"contourcarpet\"}], \"heatmap\": [{\"colorbar\": {\"outlinewidth\": 0, \"ticks\": \"\"}, \"colorscale\": [[0.0, \"#0d0887\"], [0.1111111111111111, \"#46039f\"], [0.2222222222222222, \"#7201a8\"], [0.3333333333333333, \"#9c179e\"], [0.4444444444444444, \"#bd3786\"], [0.5555555555555556, \"#d8576b\"], [0.6666666666666666, \"#ed7953\"], [0.7777777777777778, \"#fb9f3a\"], [0.8888888888888888, \"#fdca26\"], [1.0, \"#f0f921\"]], \"type\": \"heatmap\"}], \"heatmapgl\": [{\"colorbar\": {\"outlinewidth\": 0, \"ticks\": \"\"}, \"colorscale\": [[0.0, \"#0d0887\"], [0.1111111111111111, \"#46039f\"], [0.2222222222222222, \"#7201a8\"], [0.3333333333333333, \"#9c179e\"], [0.4444444444444444, \"#bd3786\"], [0.5555555555555556, \"#d8576b\"], [0.6666666666666666, \"#ed7953\"], [0.7777777777777778, \"#fb9f3a\"], [0.8888888888888888, \"#fdca26\"], [1.0, \"#f0f921\"]], \"type\": \"heatmapgl\"}], \"histogram\": [{\"marker\": {\"colorbar\": {\"outlinewidth\": 0, \"ticks\": \"\"}}, \"type\": \"histogram\"}], \"histogram2d\": [{\"colorbar\": {\"outlinewidth\": 0, \"ticks\": \"\"}, \"colorscale\": [[0.0, \"#0d0887\"], [0.1111111111111111, \"#46039f\"], [0.2222222222222222, \"#7201a8\"], [0.3333333333333333, \"#9c179e\"], [0.4444444444444444, \"#bd3786\"], [0.5555555555555556, \"#d8576b\"], [0.6666666666666666, \"#ed7953\"], [0.7777777777777778, \"#fb9f3a\"], [0.8888888888888888, \"#fdca26\"], [1.0, \"#f0f921\"]], \"type\": \"histogram2d\"}], \"histogram2dcontour\": [{\"colorbar\": {\"outlinewidth\": 0, \"ticks\": \"\"}, \"colorscale\": [[0.0, \"#0d0887\"], [0.1111111111111111, \"#46039f\"], [0.2222222222222222, \"#7201a8\"], [0.3333333333333333, \"#9c179e\"], [0.4444444444444444, \"#bd3786\"], [0.5555555555555556, \"#d8576b\"], [0.6666666666666666, \"#ed7953\"], [0.7777777777777778, \"#fb9f3a\"], [0.8888888888888888, \"#fdca26\"], [1.0, \"#f0f921\"]], \"type\": \"histogram2dcontour\"}], \"mesh3d\": [{\"colorbar\": {\"outlinewidth\": 0, \"ticks\": \"\"}, \"type\": \"mesh3d\"}], \"parcoords\": [{\"line\": {\"colorbar\": {\"outlinewidth\": 0, \"ticks\": \"\"}}, \"type\": \"parcoords\"}], \"pie\": [{\"automargin\": true, \"type\": \"pie\"}], \"scatter\": [{\"marker\": {\"colorbar\": {\"outlinewidth\": 0, \"ticks\": \"\"}}, \"type\": \"scatter\"}], \"scatter3d\": [{\"line\": {\"colorbar\": {\"outlinewidth\": 0, \"ticks\": \"\"}}, \"marker\": {\"colorbar\": {\"outlinewidth\": 0, \"ticks\": \"\"}}, \"type\": \"scatter3d\"}], \"scattercarpet\": [{\"marker\": {\"colorbar\": {\"outlinewidth\": 0, \"ticks\": \"\"}}, \"type\": \"scattercarpet\"}], \"scattergeo\": [{\"marker\": {\"colorbar\": {\"outlinewidth\": 0, \"ticks\": \"\"}}, \"type\": \"scattergeo\"}], \"scattergl\": [{\"marker\": {\"colorbar\": {\"outlinewidth\": 0, \"ticks\": \"\"}}, \"type\": \"scattergl\"}], \"scattermapbox\": [{\"marker\": {\"colorbar\": {\"outlinewidth\": 0, \"ticks\": \"\"}}, \"type\": \"scattermapbox\"}], \"scatterpolar\": [{\"marker\": {\"colorbar\": {\"outlinewidth\": 0, \"ticks\": \"\"}}, \"type\": \"scatterpolar\"}], \"scatterpolargl\": [{\"marker\": {\"colorbar\": {\"outlinewidth\": 0, \"ticks\": \"\"}}, \"type\": \"scatterpolargl\"}], \"scatterternary\": [{\"marker\": {\"colorbar\": {\"outlinewidth\": 0, \"ticks\": \"\"}}, \"type\": \"scatterternary\"}], \"surface\": [{\"colorbar\": {\"outlinewidth\": 0, \"ticks\": \"\"}, \"colorscale\": [[0.0, \"#0d0887\"], [0.1111111111111111, \"#46039f\"], [0.2222222222222222, \"#7201a8\"], [0.3333333333333333, \"#9c179e\"], [0.4444444444444444, \"#bd3786\"], [0.5555555555555556, \"#d8576b\"], [0.6666666666666666, \"#ed7953\"], [0.7777777777777778, \"#fb9f3a\"], [0.8888888888888888, \"#fdca26\"], [1.0, \"#f0f921\"]], \"type\": \"surface\"}], \"table\": [{\"cells\": {\"fill\": {\"color\": \"#EBF0F8\"}, \"line\": {\"color\": \"white\"}}, \"header\": {\"fill\": {\"color\": \"#C8D4E3\"}, \"line\": {\"color\": \"white\"}}, \"type\": \"table\"}]}, \"layout\": {\"annotationdefaults\": {\"arrowcolor\": \"#2a3f5f\", \"arrowhead\": 0, \"arrowwidth\": 1}, \"autotypenumbers\": \"strict\", \"coloraxis\": {\"colorbar\": {\"outlinewidth\": 0, \"ticks\": \"\"}}, \"colorscale\": {\"diverging\": [[0, \"#8e0152\"], [0.1, \"#c51b7d\"], [0.2, \"#de77ae\"], [0.3, \"#f1b6da\"], [0.4, \"#fde0ef\"], [0.5, \"#f7f7f7\"], [0.6, \"#e6f5d0\"], [0.7, \"#b8e186\"], [0.8, \"#7fbc41\"], [0.9, \"#4d9221\"], [1, \"#276419\"]], \"sequential\": [[0.0, \"#0d0887\"], [0.1111111111111111, \"#46039f\"], [0.2222222222222222, \"#7201a8\"], [0.3333333333333333, \"#9c179e\"], [0.4444444444444444, \"#bd3786\"], [0.5555555555555556, \"#d8576b\"], [0.6666666666666666, \"#ed7953\"], [0.7777777777777778, \"#fb9f3a\"], [0.8888888888888888, \"#fdca26\"], [1.0, \"#f0f921\"]], \"sequentialminus\": [[0.0, \"#0d0887\"], [0.1111111111111111, \"#46039f\"], [0.2222222222222222, \"#7201a8\"], [0.3333333333333333, \"#9c179e\"], [0.4444444444444444, \"#bd3786\"], [0.5555555555555556, \"#d8576b\"], [0.6666666666666666, \"#ed7953\"], [0.7777777777777778, \"#fb9f3a\"], [0.8888888888888888, \"#fdca26\"], [1.0, \"#f0f921\"]]}, \"colorway\": [\"#636efa\", \"#EF553B\", \"#00cc96\", \"#ab63fa\", \"#FFA15A\", \"#19d3f3\", \"#FF6692\", \"#B6E880\", \"#FF97FF\", \"#FECB52\"], \"font\": {\"color\": \"#2a3f5f\"}, \"geo\": {\"bgcolor\": \"white\", \"lakecolor\": \"white\", \"landcolor\": \"#E5ECF6\", \"showlakes\": true, \"showland\": true, \"subunitcolor\": \"white\"}, \"hoverlabel\": {\"align\": \"left\"}, \"hovermode\": \"closest\", \"mapbox\": {\"style\": \"light\"}, \"paper_bgcolor\": \"white\", \"plot_bgcolor\": \"#E5ECF6\", \"polar\": {\"angularaxis\": {\"gridcolor\": \"white\", \"linecolor\": \"white\", \"ticks\": \"\"}, \"bgcolor\": \"#E5ECF6\", \"radialaxis\": {\"gridcolor\": \"white\", \"linecolor\": \"white\", \"ticks\": \"\"}}, \"scene\": {\"xaxis\": {\"backgroundcolor\": \"#E5ECF6\", \"gridcolor\": \"white\", \"gridwidth\": 2, \"linecolor\": \"white\", \"showbackground\": true, \"ticks\": \"\", \"zerolinecolor\": \"white\"}, \"yaxis\": {\"backgroundcolor\": \"#E5ECF6\", \"gridcolor\": \"white\", \"gridwidth\": 2, \"linecolor\": \"white\", \"showbackground\": true, \"ticks\": \"\", \"zerolinecolor\": \"white\"}, \"zaxis\": {\"backgroundcolor\": \"#E5ECF6\", \"gridcolor\": \"white\", \"gridwidth\": 2, \"linecolor\": \"white\", \"showbackground\": true, \"ticks\": \"\", \"zerolinecolor\": \"white\"}}, \"shapedefaults\": {\"line\": {\"color\": \"#2a3f5f\"}}, \"ternary\": {\"aaxis\": {\"gridcolor\": \"white\", \"linecolor\": \"white\", \"ticks\": \"\"}, \"baxis\": {\"gridcolor\": \"white\", \"linecolor\": \"white\", \"ticks\": \"\"}, \"bgcolor\": \"#E5ECF6\", \"caxis\": {\"gridcolor\": \"white\", \"linecolor\": \"white\", \"ticks\": \"\"}}, \"title\": {\"x\": 0.05}, \"xaxis\": {\"automargin\": true, \"gridcolor\": \"white\", \"linecolor\": \"white\", \"ticks\": \"\", \"title\": {\"standoff\": 15}, \"zerolinecolor\": \"white\", \"zerolinewidth\": 2}, \"yaxis\": {\"automargin\": true, \"gridcolor\": \"white\", \"linecolor\": \"white\", \"ticks\": \"\", \"title\": {\"standoff\": 15}, \"zerolinecolor\": \"white\", \"zerolinewidth\": 2}}}, \"width\": 500, \"xaxis\": {\"dtick\": 1, \"gridwidth\": 2, \"showticklabels\": false, \"tick0\": -0.5, \"ticks\": \"\", \"zeroline\": false}, \"yaxis\": {\"autorange\": \"reversed\", \"dtick\": 1, \"gridwidth\": 2, \"showticklabels\": false, \"tick0\": 0.5, \"ticks\": \"\", \"zeroline\": false}},                        {\"responsive\": true}                    ).then(function(){\n",
       "                            \n",
       "var gd = document.getElementById('1242cf56-a56d-42eb-a50d-b5a7d06bf88e');\n",
       "var x = new MutationObserver(function (mutations, observer) {{\n",
       "        var display = window.getComputedStyle(gd).display;\n",
       "        if (!display || display === 'none') {{\n",
       "            console.log([gd, 'removed!']);\n",
       "            Plotly.purge(gd);\n",
       "            observer.disconnect();\n",
       "        }}\n",
       "}});\n",
       "\n",
       "// Listen for the removal of the full notebook cells\n",
       "var notebookContainer = gd.closest('#notebook-container');\n",
       "if (notebookContainer) {{\n",
       "    x.observe(notebookContainer, {childList: true});\n",
       "}}\n",
       "\n",
       "// Listen for the clearing of the current output cell\n",
       "var outputEl = gd.closest('.output');\n",
       "if (outputEl) {{\n",
       "    x.observe(outputEl, {childList: true});\n",
       "}}\n",
       "\n",
       "                        })                };                });            </script>        </div>"
      ]
     },
     "metadata": {},
     "output_type": "display_data"
    }
   ],
   "source": [
    "table_data = [['room<br>type', 'on market<br>count', 'median<br>price(pw)', 'lowest<br>price', \"highest<br>price\", \"standard<br>deviation\"]] \n",
    "\n",
    "def fill_table_data(df):\n",
    "    table_data.append([df.iloc[0,:][\"room_type\"] , \n",
    "                       len(df),\"$\" + str(df.price.median()),\n",
    "                       \"$\" + str(df.price.min()),\n",
    "                       \"$\" + str( df.price.max()),\n",
    "                       \"$\" + str(round(df.price.std() , 2 ) ) \n",
    "                    ])\n",
    "    \n",
    "on_market_df.groupby(\"room_type\").apply(fill_table_data)\n",
    "\n",
    "fig = ff.create_table(table_data, height_constant=60)\n",
    "fig.layout.width=500\n",
    "fig0.show()\n",
    "fig.show()"
   ]
  },
  {
   "cell_type": "code",
   "execution_count": 383,
   "metadata": {},
   "outputs": [
    {
     "data": {
      "text/html": [
       "<div>\n",
       "<style scoped>\n",
       "    .dataframe tbody tr th:only-of-type {\n",
       "        vertical-align: middle;\n",
       "    }\n",
       "\n",
       "    .dataframe tbody tr th {\n",
       "        vertical-align: top;\n",
       "    }\n",
       "\n",
       "    .dataframe thead th {\n",
       "        text-align: right;\n",
       "    }\n",
       "</style>\n",
       "<table border=\"1\" class=\"dataframe\">\n",
       "  <thead>\n",
       "    <tr style=\"text-align: right;\">\n",
       "      <th></th>\n",
       "      <th>med_price_after</th>\n",
       "      <th>med_price_before</th>\n",
       "      <th>raw_decrease</th>\n",
       "      <th>perc_decrease</th>\n",
       "    </tr>\n",
       "    <tr>\n",
       "      <th>room_type_2</th>\n",
       "      <th></th>\n",
       "      <th></th>\n",
       "      <th></th>\n",
       "      <th></th>\n",
       "    </tr>\n",
       "  </thead>\n",
       "  <tbody>\n",
       "    <tr>\n",
       "      <th>1b1b</th>\n",
       "      <td>425</td>\n",
       "      <td>521</td>\n",
       "      <td>96</td>\n",
       "      <td>0.184261</td>\n",
       "    </tr>\n",
       "    <tr>\n",
       "      <th>2b1b</th>\n",
       "      <td>460</td>\n",
       "      <td>630</td>\n",
       "      <td>170</td>\n",
       "      <td>0.269841</td>\n",
       "    </tr>\n",
       "    <tr>\n",
       "      <th>2b2b</th>\n",
       "      <td>600</td>\n",
       "      <td>730</td>\n",
       "      <td>130</td>\n",
       "      <td>0.178082</td>\n",
       "    </tr>\n",
       "    <tr>\n",
       "      <th>3b2b</th>\n",
       "      <td>950</td>\n",
       "      <td>1200</td>\n",
       "      <td>250</td>\n",
       "      <td>0.208333</td>\n",
       "    </tr>\n",
       "  </tbody>\n",
       "</table>\n",
       "</div>"
      ],
      "text/plain": [
       "             med_price_after  med_price_before  raw_decrease  perc_decrease\n",
       "room_type_2                                                                \n",
       "1b1b                     425               521            96       0.184261\n",
       "2b1b                     460               630           170       0.269841\n",
       "2b2b                     600               730           130       0.178082\n",
       "3b2b                     950              1200           250       0.208333"
      ]
     },
     "execution_count": 383,
     "metadata": {},
     "output_type": "execute_result"
    }
   ],
   "source": [
    "perc_change_df"
   ]
  },
  {
   "cell_type": "code",
   "execution_count": 416,
   "metadata": {},
   "outputs": [
    {
     "data": {
      "application/vnd.plotly.v1+json": {
       "config": {
        "plotlyServerURL": "https://plot.ly"
       },
       "data": [
        {
         "colorscale": [
          [
           0,
           "#ffffff"
          ],
          [
           0.5,
           "#ffffff"
          ],
          [
           1,
           "#ededed"
          ]
         ],
         "hoverinfo": "none",
         "opacity": 0.75,
         "showscale": false,
         "type": "heatmap",
         "z": [
          [
           0,
           0,
           0,
           0,
           0
          ],
          [
           0.5,
           0.5,
           0.5,
           0.5,
           0.5
          ],
          [
           1,
           1,
           1,
           1,
           1
          ],
          [
           0.5,
           0.5,
           0.5,
           0.5,
           0.5
          ],
          [
           1,
           1,
           1,
           1,
           1
          ]
         ]
        }
       ],
       "layout": {
        "annotations": [
         {
          "align": "left",
          "font": {
           "color": "#808080"
          },
          "showarrow": false,
          "text": "<b>room<br>type</b>",
          "x": -0.45,
          "xanchor": "left",
          "xref": "x",
          "y": 0,
          "yref": "y"
         },
         {
          "align": "left",
          "font": {
           "color": "#808080"
          },
          "showarrow": false,
          "text": "<b>median<br>price<br>before</b>",
          "x": 0.55,
          "xanchor": "left",
          "xref": "x",
          "y": 0,
          "yref": "y"
         },
         {
          "align": "left",
          "font": {
           "color": "#808080"
          },
          "showarrow": false,
          "text": "<b>median<br>price<br>after</b>",
          "x": 1.55,
          "xanchor": "left",
          "xref": "x",
          "y": 0,
          "yref": "y"
         },
         {
          "align": "left",
          "font": {
           "color": "#808080"
          },
          "showarrow": false,
          "text": "<b>raw<br>difference</b>",
          "x": 2.55,
          "xanchor": "left",
          "xref": "x",
          "y": 0,
          "yref": "y"
         },
         {
          "align": "left",
          "font": {
           "color": "#808080"
          },
          "showarrow": false,
          "text": "<b>percentage<br>change</b>",
          "x": 3.55,
          "xanchor": "left",
          "xref": "x",
          "y": 0,
          "yref": "y"
         },
         {
          "align": "left",
          "font": {
           "color": "#808080"
          },
          "showarrow": false,
          "text": "1b1b",
          "x": -0.45,
          "xanchor": "left",
          "xref": "x",
          "y": 1,
          "yref": "y"
         },
         {
          "align": "left",
          "font": {
           "color": "#808080"
          },
          "showarrow": false,
          "text": "$521",
          "x": 0.55,
          "xanchor": "left",
          "xref": "x",
          "y": 1,
          "yref": "y"
         },
         {
          "align": "left",
          "font": {
           "color": "#808080"
          },
          "showarrow": false,
          "text": "$425",
          "x": 1.55,
          "xanchor": "left",
          "xref": "x",
          "y": 1,
          "yref": "y"
         },
         {
          "align": "left",
          "font": {
           "color": "#808080"
          },
          "showarrow": false,
          "text": "$96",
          "x": 2.55,
          "xanchor": "left",
          "xref": "x",
          "y": 1,
          "yref": "y"
         },
         {
          "align": "left",
          "font": {
           "color": "#808080"
          },
          "showarrow": false,
          "text": "18.43 %",
          "x": 3.55,
          "xanchor": "left",
          "xref": "x",
          "y": 1,
          "yref": "y"
         },
         {
          "align": "left",
          "font": {
           "color": "#808080"
          },
          "showarrow": false,
          "text": "2b1b",
          "x": -0.45,
          "xanchor": "left",
          "xref": "x",
          "y": 2,
          "yref": "y"
         },
         {
          "align": "left",
          "font": {
           "color": "#808080"
          },
          "showarrow": false,
          "text": "$630",
          "x": 0.55,
          "xanchor": "left",
          "xref": "x",
          "y": 2,
          "yref": "y"
         },
         {
          "align": "left",
          "font": {
           "color": "#808080"
          },
          "showarrow": false,
          "text": "$460",
          "x": 1.55,
          "xanchor": "left",
          "xref": "x",
          "y": 2,
          "yref": "y"
         },
         {
          "align": "left",
          "font": {
           "color": "#808080"
          },
          "showarrow": false,
          "text": "$170",
          "x": 2.55,
          "xanchor": "left",
          "xref": "x",
          "y": 2,
          "yref": "y"
         },
         {
          "align": "left",
          "font": {
           "color": "#808080"
          },
          "showarrow": false,
          "text": "26.98 %",
          "x": 3.55,
          "xanchor": "left",
          "xref": "x",
          "y": 2,
          "yref": "y"
         },
         {
          "align": "left",
          "font": {
           "color": "#808080"
          },
          "showarrow": false,
          "text": "2b2b",
          "x": -0.45,
          "xanchor": "left",
          "xref": "x",
          "y": 3,
          "yref": "y"
         },
         {
          "align": "left",
          "font": {
           "color": "#808080"
          },
          "showarrow": false,
          "text": "$730",
          "x": 0.55,
          "xanchor": "left",
          "xref": "x",
          "y": 3,
          "yref": "y"
         },
         {
          "align": "left",
          "font": {
           "color": "#808080"
          },
          "showarrow": false,
          "text": "$600",
          "x": 1.55,
          "xanchor": "left",
          "xref": "x",
          "y": 3,
          "yref": "y"
         },
         {
          "align": "left",
          "font": {
           "color": "#808080"
          },
          "showarrow": false,
          "text": "$130",
          "x": 2.55,
          "xanchor": "left",
          "xref": "x",
          "y": 3,
          "yref": "y"
         },
         {
          "align": "left",
          "font": {
           "color": "#808080"
          },
          "showarrow": false,
          "text": "17.81 %",
          "x": 3.55,
          "xanchor": "left",
          "xref": "x",
          "y": 3,
          "yref": "y"
         },
         {
          "align": "left",
          "font": {
           "color": "#808080"
          },
          "showarrow": false,
          "text": "3b2b",
          "x": -0.45,
          "xanchor": "left",
          "xref": "x",
          "y": 4,
          "yref": "y"
         },
         {
          "align": "left",
          "font": {
           "color": "#808080"
          },
          "showarrow": false,
          "text": "$1200",
          "x": 0.55,
          "xanchor": "left",
          "xref": "x",
          "y": 4,
          "yref": "y"
         },
         {
          "align": "left",
          "font": {
           "color": "#808080"
          },
          "showarrow": false,
          "text": "$950",
          "x": 1.55,
          "xanchor": "left",
          "xref": "x",
          "y": 4,
          "yref": "y"
         },
         {
          "align": "left",
          "font": {
           "color": "#808080"
          },
          "showarrow": false,
          "text": "$250",
          "x": 2.55,
          "xanchor": "left",
          "xref": "x",
          "y": 4,
          "yref": "y"
         },
         {
          "align": "left",
          "font": {
           "color": "#808080"
          },
          "showarrow": false,
          "text": "20.83 %",
          "x": 3.55,
          "xanchor": "left",
          "xref": "x",
          "y": 4,
          "yref": "y"
         }
        ],
        "height": 350,
        "margin": {
         "b": 0,
         "l": 0,
         "r": 0,
         "t": 0
        },
        "template": {
         "data": {
          "bar": [
           {
            "error_x": {
             "color": "#2a3f5f"
            },
            "error_y": {
             "color": "#2a3f5f"
            },
            "marker": {
             "line": {
              "color": "#E5ECF6",
              "width": 0.5
             }
            },
            "type": "bar"
           }
          ],
          "barpolar": [
           {
            "marker": {
             "line": {
              "color": "#E5ECF6",
              "width": 0.5
             }
            },
            "type": "barpolar"
           }
          ],
          "carpet": [
           {
            "aaxis": {
             "endlinecolor": "#2a3f5f",
             "gridcolor": "white",
             "linecolor": "white",
             "minorgridcolor": "white",
             "startlinecolor": "#2a3f5f"
            },
            "baxis": {
             "endlinecolor": "#2a3f5f",
             "gridcolor": "white",
             "linecolor": "white",
             "minorgridcolor": "white",
             "startlinecolor": "#2a3f5f"
            },
            "type": "carpet"
           }
          ],
          "choropleth": [
           {
            "colorbar": {
             "outlinewidth": 0,
             "ticks": ""
            },
            "type": "choropleth"
           }
          ],
          "contour": [
           {
            "colorbar": {
             "outlinewidth": 0,
             "ticks": ""
            },
            "colorscale": [
             [
              0,
              "#0d0887"
             ],
             [
              0.1111111111111111,
              "#46039f"
             ],
             [
              0.2222222222222222,
              "#7201a8"
             ],
             [
              0.3333333333333333,
              "#9c179e"
             ],
             [
              0.4444444444444444,
              "#bd3786"
             ],
             [
              0.5555555555555556,
              "#d8576b"
             ],
             [
              0.6666666666666666,
              "#ed7953"
             ],
             [
              0.7777777777777778,
              "#fb9f3a"
             ],
             [
              0.8888888888888888,
              "#fdca26"
             ],
             [
              1,
              "#f0f921"
             ]
            ],
            "type": "contour"
           }
          ],
          "contourcarpet": [
           {
            "colorbar": {
             "outlinewidth": 0,
             "ticks": ""
            },
            "type": "contourcarpet"
           }
          ],
          "heatmap": [
           {
            "colorbar": {
             "outlinewidth": 0,
             "ticks": ""
            },
            "colorscale": [
             [
              0,
              "#0d0887"
             ],
             [
              0.1111111111111111,
              "#46039f"
             ],
             [
              0.2222222222222222,
              "#7201a8"
             ],
             [
              0.3333333333333333,
              "#9c179e"
             ],
             [
              0.4444444444444444,
              "#bd3786"
             ],
             [
              0.5555555555555556,
              "#d8576b"
             ],
             [
              0.6666666666666666,
              "#ed7953"
             ],
             [
              0.7777777777777778,
              "#fb9f3a"
             ],
             [
              0.8888888888888888,
              "#fdca26"
             ],
             [
              1,
              "#f0f921"
             ]
            ],
            "type": "heatmap"
           }
          ],
          "heatmapgl": [
           {
            "colorbar": {
             "outlinewidth": 0,
             "ticks": ""
            },
            "colorscale": [
             [
              0,
              "#0d0887"
             ],
             [
              0.1111111111111111,
              "#46039f"
             ],
             [
              0.2222222222222222,
              "#7201a8"
             ],
             [
              0.3333333333333333,
              "#9c179e"
             ],
             [
              0.4444444444444444,
              "#bd3786"
             ],
             [
              0.5555555555555556,
              "#d8576b"
             ],
             [
              0.6666666666666666,
              "#ed7953"
             ],
             [
              0.7777777777777778,
              "#fb9f3a"
             ],
             [
              0.8888888888888888,
              "#fdca26"
             ],
             [
              1,
              "#f0f921"
             ]
            ],
            "type": "heatmapgl"
           }
          ],
          "histogram": [
           {
            "marker": {
             "colorbar": {
              "outlinewidth": 0,
              "ticks": ""
             }
            },
            "type": "histogram"
           }
          ],
          "histogram2d": [
           {
            "colorbar": {
             "outlinewidth": 0,
             "ticks": ""
            },
            "colorscale": [
             [
              0,
              "#0d0887"
             ],
             [
              0.1111111111111111,
              "#46039f"
             ],
             [
              0.2222222222222222,
              "#7201a8"
             ],
             [
              0.3333333333333333,
              "#9c179e"
             ],
             [
              0.4444444444444444,
              "#bd3786"
             ],
             [
              0.5555555555555556,
              "#d8576b"
             ],
             [
              0.6666666666666666,
              "#ed7953"
             ],
             [
              0.7777777777777778,
              "#fb9f3a"
             ],
             [
              0.8888888888888888,
              "#fdca26"
             ],
             [
              1,
              "#f0f921"
             ]
            ],
            "type": "histogram2d"
           }
          ],
          "histogram2dcontour": [
           {
            "colorbar": {
             "outlinewidth": 0,
             "ticks": ""
            },
            "colorscale": [
             [
              0,
              "#0d0887"
             ],
             [
              0.1111111111111111,
              "#46039f"
             ],
             [
              0.2222222222222222,
              "#7201a8"
             ],
             [
              0.3333333333333333,
              "#9c179e"
             ],
             [
              0.4444444444444444,
              "#bd3786"
             ],
             [
              0.5555555555555556,
              "#d8576b"
             ],
             [
              0.6666666666666666,
              "#ed7953"
             ],
             [
              0.7777777777777778,
              "#fb9f3a"
             ],
             [
              0.8888888888888888,
              "#fdca26"
             ],
             [
              1,
              "#f0f921"
             ]
            ],
            "type": "histogram2dcontour"
           }
          ],
          "mesh3d": [
           {
            "colorbar": {
             "outlinewidth": 0,
             "ticks": ""
            },
            "type": "mesh3d"
           }
          ],
          "parcoords": [
           {
            "line": {
             "colorbar": {
              "outlinewidth": 0,
              "ticks": ""
             }
            },
            "type": "parcoords"
           }
          ],
          "pie": [
           {
            "automargin": true,
            "type": "pie"
           }
          ],
          "scatter": [
           {
            "marker": {
             "colorbar": {
              "outlinewidth": 0,
              "ticks": ""
             }
            },
            "type": "scatter"
           }
          ],
          "scatter3d": [
           {
            "line": {
             "colorbar": {
              "outlinewidth": 0,
              "ticks": ""
             }
            },
            "marker": {
             "colorbar": {
              "outlinewidth": 0,
              "ticks": ""
             }
            },
            "type": "scatter3d"
           }
          ],
          "scattercarpet": [
           {
            "marker": {
             "colorbar": {
              "outlinewidth": 0,
              "ticks": ""
             }
            },
            "type": "scattercarpet"
           }
          ],
          "scattergeo": [
           {
            "marker": {
             "colorbar": {
              "outlinewidth": 0,
              "ticks": ""
             }
            },
            "type": "scattergeo"
           }
          ],
          "scattergl": [
           {
            "marker": {
             "colorbar": {
              "outlinewidth": 0,
              "ticks": ""
             }
            },
            "type": "scattergl"
           }
          ],
          "scattermapbox": [
           {
            "marker": {
             "colorbar": {
              "outlinewidth": 0,
              "ticks": ""
             }
            },
            "type": "scattermapbox"
           }
          ],
          "scatterpolar": [
           {
            "marker": {
             "colorbar": {
              "outlinewidth": 0,
              "ticks": ""
             }
            },
            "type": "scatterpolar"
           }
          ],
          "scatterpolargl": [
           {
            "marker": {
             "colorbar": {
              "outlinewidth": 0,
              "ticks": ""
             }
            },
            "type": "scatterpolargl"
           }
          ],
          "scatterternary": [
           {
            "marker": {
             "colorbar": {
              "outlinewidth": 0,
              "ticks": ""
             }
            },
            "type": "scatterternary"
           }
          ],
          "surface": [
           {
            "colorbar": {
             "outlinewidth": 0,
             "ticks": ""
            },
            "colorscale": [
             [
              0,
              "#0d0887"
             ],
             [
              0.1111111111111111,
              "#46039f"
             ],
             [
              0.2222222222222222,
              "#7201a8"
             ],
             [
              0.3333333333333333,
              "#9c179e"
             ],
             [
              0.4444444444444444,
              "#bd3786"
             ],
             [
              0.5555555555555556,
              "#d8576b"
             ],
             [
              0.6666666666666666,
              "#ed7953"
             ],
             [
              0.7777777777777778,
              "#fb9f3a"
             ],
             [
              0.8888888888888888,
              "#fdca26"
             ],
             [
              1,
              "#f0f921"
             ]
            ],
            "type": "surface"
           }
          ],
          "table": [
           {
            "cells": {
             "fill": {
              "color": "#EBF0F8"
             },
             "line": {
              "color": "white"
             }
            },
            "header": {
             "fill": {
              "color": "#C8D4E3"
             },
             "line": {
              "color": "white"
             }
            },
            "type": "table"
           }
          ]
         },
         "layout": {
          "annotationdefaults": {
           "arrowcolor": "#2a3f5f",
           "arrowhead": 0,
           "arrowwidth": 1
          },
          "autotypenumbers": "strict",
          "coloraxis": {
           "colorbar": {
            "outlinewidth": 0,
            "ticks": ""
           }
          },
          "colorscale": {
           "diverging": [
            [
             0,
             "#8e0152"
            ],
            [
             0.1,
             "#c51b7d"
            ],
            [
             0.2,
             "#de77ae"
            ],
            [
             0.3,
             "#f1b6da"
            ],
            [
             0.4,
             "#fde0ef"
            ],
            [
             0.5,
             "#f7f7f7"
            ],
            [
             0.6,
             "#e6f5d0"
            ],
            [
             0.7,
             "#b8e186"
            ],
            [
             0.8,
             "#7fbc41"
            ],
            [
             0.9,
             "#4d9221"
            ],
            [
             1,
             "#276419"
            ]
           ],
           "sequential": [
            [
             0,
             "#0d0887"
            ],
            [
             0.1111111111111111,
             "#46039f"
            ],
            [
             0.2222222222222222,
             "#7201a8"
            ],
            [
             0.3333333333333333,
             "#9c179e"
            ],
            [
             0.4444444444444444,
             "#bd3786"
            ],
            [
             0.5555555555555556,
             "#d8576b"
            ],
            [
             0.6666666666666666,
             "#ed7953"
            ],
            [
             0.7777777777777778,
             "#fb9f3a"
            ],
            [
             0.8888888888888888,
             "#fdca26"
            ],
            [
             1,
             "#f0f921"
            ]
           ],
           "sequentialminus": [
            [
             0,
             "#0d0887"
            ],
            [
             0.1111111111111111,
             "#46039f"
            ],
            [
             0.2222222222222222,
             "#7201a8"
            ],
            [
             0.3333333333333333,
             "#9c179e"
            ],
            [
             0.4444444444444444,
             "#bd3786"
            ],
            [
             0.5555555555555556,
             "#d8576b"
            ],
            [
             0.6666666666666666,
             "#ed7953"
            ],
            [
             0.7777777777777778,
             "#fb9f3a"
            ],
            [
             0.8888888888888888,
             "#fdca26"
            ],
            [
             1,
             "#f0f921"
            ]
           ]
          },
          "colorway": [
           "#636efa",
           "#EF553B",
           "#00cc96",
           "#ab63fa",
           "#FFA15A",
           "#19d3f3",
           "#FF6692",
           "#B6E880",
           "#FF97FF",
           "#FECB52"
          ],
          "font": {
           "color": "#2a3f5f"
          },
          "geo": {
           "bgcolor": "white",
           "lakecolor": "white",
           "landcolor": "#E5ECF6",
           "showlakes": true,
           "showland": true,
           "subunitcolor": "white"
          },
          "hoverlabel": {
           "align": "left"
          },
          "hovermode": "closest",
          "mapbox": {
           "style": "light"
          },
          "paper_bgcolor": "white",
          "plot_bgcolor": "#E5ECF6",
          "polar": {
           "angularaxis": {
            "gridcolor": "white",
            "linecolor": "white",
            "ticks": ""
           },
           "bgcolor": "#E5ECF6",
           "radialaxis": {
            "gridcolor": "white",
            "linecolor": "white",
            "ticks": ""
           }
          },
          "scene": {
           "xaxis": {
            "backgroundcolor": "#E5ECF6",
            "gridcolor": "white",
            "gridwidth": 2,
            "linecolor": "white",
            "showbackground": true,
            "ticks": "",
            "zerolinecolor": "white"
           },
           "yaxis": {
            "backgroundcolor": "#E5ECF6",
            "gridcolor": "white",
            "gridwidth": 2,
            "linecolor": "white",
            "showbackground": true,
            "ticks": "",
            "zerolinecolor": "white"
           },
           "zaxis": {
            "backgroundcolor": "#E5ECF6",
            "gridcolor": "white",
            "gridwidth": 2,
            "linecolor": "white",
            "showbackground": true,
            "ticks": "",
            "zerolinecolor": "white"
           }
          },
          "shapedefaults": {
           "line": {
            "color": "#2a3f5f"
           }
          },
          "ternary": {
           "aaxis": {
            "gridcolor": "white",
            "linecolor": "white",
            "ticks": ""
           },
           "baxis": {
            "gridcolor": "white",
            "linecolor": "white",
            "ticks": ""
           },
           "bgcolor": "#E5ECF6",
           "caxis": {
            "gridcolor": "white",
            "linecolor": "white",
            "ticks": ""
           }
          },
          "title": {
           "x": 0.05
          },
          "xaxis": {
           "automargin": true,
           "gridcolor": "white",
           "linecolor": "white",
           "ticks": "",
           "title": {
            "standoff": 15
           },
           "zerolinecolor": "white",
           "zerolinewidth": 2
          },
          "yaxis": {
           "automargin": true,
           "gridcolor": "white",
           "linecolor": "white",
           "ticks": "",
           "title": {
            "standoff": 15
           },
           "zerolinecolor": "white",
           "zerolinewidth": 2
          }
         }
        },
        "width": 500,
        "xaxis": {
         "dtick": 1,
         "gridwidth": 2,
         "showticklabels": false,
         "tick0": -0.5,
         "ticks": "",
         "zeroline": false
        },
        "yaxis": {
         "autorange": "reversed",
         "dtick": 1,
         "gridwidth": 2,
         "showticklabels": false,
         "tick0": 0.5,
         "ticks": "",
         "zeroline": false
        }
       }
      },
      "text/html": [
       "<div>                            <div id=\"0eaf6476-8aa1-4b4e-9c87-36e8e047c027\" class=\"plotly-graph-div\" style=\"height:350px; width:500px;\"></div>            <script type=\"text/javascript\">                require([\"plotly\"], function(Plotly) {                    window.PLOTLYENV=window.PLOTLYENV || {};                                    if (document.getElementById(\"0eaf6476-8aa1-4b4e-9c87-36e8e047c027\")) {                    Plotly.newPlot(                        \"0eaf6476-8aa1-4b4e-9c87-36e8e047c027\",                        [{\"colorscale\": [[0, \"#ffffff\"], [0.5, \"#ffffff\"], [1, \"#ededed\"]], \"hoverinfo\": \"none\", \"opacity\": 0.75, \"showscale\": false, \"type\": \"heatmap\", \"z\": [[0, 0, 0, 0, 0], [0.5, 0.5, 0.5, 0.5, 0.5], [1, 1, 1, 1, 1], [0.5, 0.5, 0.5, 0.5, 0.5], [1, 1, 1, 1, 1]]}],                        {\"annotations\": [{\"align\": \"left\", \"font\": {\"color\": \"#808080\"}, \"showarrow\": false, \"text\": \"<b>room<br>type</b>\", \"x\": -0.45, \"xanchor\": \"left\", \"xref\": \"x\", \"y\": 0, \"yref\": \"y\"}, {\"align\": \"left\", \"font\": {\"color\": \"#808080\"}, \"showarrow\": false, \"text\": \"<b>median<br>price<br>before</b>\", \"x\": 0.55, \"xanchor\": \"left\", \"xref\": \"x\", \"y\": 0, \"yref\": \"y\"}, {\"align\": \"left\", \"font\": {\"color\": \"#808080\"}, \"showarrow\": false, \"text\": \"<b>median<br>price<br>after</b>\", \"x\": 1.55, \"xanchor\": \"left\", \"xref\": \"x\", \"y\": 0, \"yref\": \"y\"}, {\"align\": \"left\", \"font\": {\"color\": \"#808080\"}, \"showarrow\": false, \"text\": \"<b>raw<br>difference</b>\", \"x\": 2.55, \"xanchor\": \"left\", \"xref\": \"x\", \"y\": 0, \"yref\": \"y\"}, {\"align\": \"left\", \"font\": {\"color\": \"#808080\"}, \"showarrow\": false, \"text\": \"<b>percentage<br>change</b>\", \"x\": 3.55, \"xanchor\": \"left\", \"xref\": \"x\", \"y\": 0, \"yref\": \"y\"}, {\"align\": \"left\", \"font\": {\"color\": \"#808080\"}, \"showarrow\": false, \"text\": \"1b1b\", \"x\": -0.45, \"xanchor\": \"left\", \"xref\": \"x\", \"y\": 1, \"yref\": \"y\"}, {\"align\": \"left\", \"font\": {\"color\": \"#808080\"}, \"showarrow\": false, \"text\": \"$521\", \"x\": 0.55, \"xanchor\": \"left\", \"xref\": \"x\", \"y\": 1, \"yref\": \"y\"}, {\"align\": \"left\", \"font\": {\"color\": \"#808080\"}, \"showarrow\": false, \"text\": \"$425\", \"x\": 1.55, \"xanchor\": \"left\", \"xref\": \"x\", \"y\": 1, \"yref\": \"y\"}, {\"align\": \"left\", \"font\": {\"color\": \"#808080\"}, \"showarrow\": false, \"text\": \"$96\", \"x\": 2.55, \"xanchor\": \"left\", \"xref\": \"x\", \"y\": 1, \"yref\": \"y\"}, {\"align\": \"left\", \"font\": {\"color\": \"#808080\"}, \"showarrow\": false, \"text\": \"18.43 %\", \"x\": 3.55, \"xanchor\": \"left\", \"xref\": \"x\", \"y\": 1, \"yref\": \"y\"}, {\"align\": \"left\", \"font\": {\"color\": \"#808080\"}, \"showarrow\": false, \"text\": \"2b1b\", \"x\": -0.45, \"xanchor\": \"left\", \"xref\": \"x\", \"y\": 2, \"yref\": \"y\"}, {\"align\": \"left\", \"font\": {\"color\": \"#808080\"}, \"showarrow\": false, \"text\": \"$630\", \"x\": 0.55, \"xanchor\": \"left\", \"xref\": \"x\", \"y\": 2, \"yref\": \"y\"}, {\"align\": \"left\", \"font\": {\"color\": \"#808080\"}, \"showarrow\": false, \"text\": \"$460\", \"x\": 1.55, \"xanchor\": \"left\", \"xref\": \"x\", \"y\": 2, \"yref\": \"y\"}, {\"align\": \"left\", \"font\": {\"color\": \"#808080\"}, \"showarrow\": false, \"text\": \"$170\", \"x\": 2.55, \"xanchor\": \"left\", \"xref\": \"x\", \"y\": 2, \"yref\": \"y\"}, {\"align\": \"left\", \"font\": {\"color\": \"#808080\"}, \"showarrow\": false, \"text\": \"26.98 %\", \"x\": 3.55, \"xanchor\": \"left\", \"xref\": \"x\", \"y\": 2, \"yref\": \"y\"}, {\"align\": \"left\", \"font\": {\"color\": \"#808080\"}, \"showarrow\": false, \"text\": \"2b2b\", \"x\": -0.45, \"xanchor\": \"left\", \"xref\": \"x\", \"y\": 3, \"yref\": \"y\"}, {\"align\": \"left\", \"font\": {\"color\": \"#808080\"}, \"showarrow\": false, \"text\": \"$730\", \"x\": 0.55, \"xanchor\": \"left\", \"xref\": \"x\", \"y\": 3, \"yref\": \"y\"}, {\"align\": \"left\", \"font\": {\"color\": \"#808080\"}, \"showarrow\": false, \"text\": \"$600\", \"x\": 1.55, \"xanchor\": \"left\", \"xref\": \"x\", \"y\": 3, \"yref\": \"y\"}, {\"align\": \"left\", \"font\": {\"color\": \"#808080\"}, \"showarrow\": false, \"text\": \"$130\", \"x\": 2.55, \"xanchor\": \"left\", \"xref\": \"x\", \"y\": 3, \"yref\": \"y\"}, {\"align\": \"left\", \"font\": {\"color\": \"#808080\"}, \"showarrow\": false, \"text\": \"17.81 %\", \"x\": 3.55, \"xanchor\": \"left\", \"xref\": \"x\", \"y\": 3, \"yref\": \"y\"}, {\"align\": \"left\", \"font\": {\"color\": \"#808080\"}, \"showarrow\": false, \"text\": \"3b2b\", \"x\": -0.45, \"xanchor\": \"left\", \"xref\": \"x\", \"y\": 4, \"yref\": \"y\"}, {\"align\": \"left\", \"font\": {\"color\": \"#808080\"}, \"showarrow\": false, \"text\": \"$1200\", \"x\": 0.55, \"xanchor\": \"left\", \"xref\": \"x\", \"y\": 4, \"yref\": \"y\"}, {\"align\": \"left\", \"font\": {\"color\": \"#808080\"}, \"showarrow\": false, \"text\": \"$950\", \"x\": 1.55, \"xanchor\": \"left\", \"xref\": \"x\", \"y\": 4, \"yref\": \"y\"}, {\"align\": \"left\", \"font\": {\"color\": \"#808080\"}, \"showarrow\": false, \"text\": \"$250\", \"x\": 2.55, \"xanchor\": \"left\", \"xref\": \"x\", \"y\": 4, \"yref\": \"y\"}, {\"align\": \"left\", \"font\": {\"color\": \"#808080\"}, \"showarrow\": false, \"text\": \"20.83 %\", \"x\": 3.55, \"xanchor\": \"left\", \"xref\": \"x\", \"y\": 4, \"yref\": \"y\"}], \"height\": 350, \"margin\": {\"b\": 0, \"l\": 0, \"r\": 0, \"t\": 0}, \"template\": {\"data\": {\"bar\": [{\"error_x\": {\"color\": \"#2a3f5f\"}, \"error_y\": {\"color\": \"#2a3f5f\"}, \"marker\": {\"line\": {\"color\": \"#E5ECF6\", \"width\": 0.5}}, \"type\": \"bar\"}], \"barpolar\": [{\"marker\": {\"line\": {\"color\": \"#E5ECF6\", \"width\": 0.5}}, \"type\": \"barpolar\"}], \"carpet\": [{\"aaxis\": {\"endlinecolor\": \"#2a3f5f\", \"gridcolor\": \"white\", \"linecolor\": \"white\", \"minorgridcolor\": \"white\", \"startlinecolor\": \"#2a3f5f\"}, \"baxis\": {\"endlinecolor\": \"#2a3f5f\", \"gridcolor\": \"white\", \"linecolor\": \"white\", \"minorgridcolor\": \"white\", \"startlinecolor\": \"#2a3f5f\"}, \"type\": \"carpet\"}], \"choropleth\": [{\"colorbar\": {\"outlinewidth\": 0, \"ticks\": \"\"}, \"type\": \"choropleth\"}], \"contour\": [{\"colorbar\": {\"outlinewidth\": 0, \"ticks\": \"\"}, \"colorscale\": [[0.0, \"#0d0887\"], [0.1111111111111111, \"#46039f\"], [0.2222222222222222, \"#7201a8\"], [0.3333333333333333, \"#9c179e\"], [0.4444444444444444, \"#bd3786\"], [0.5555555555555556, \"#d8576b\"], [0.6666666666666666, \"#ed7953\"], [0.7777777777777778, \"#fb9f3a\"], [0.8888888888888888, \"#fdca26\"], [1.0, \"#f0f921\"]], \"type\": \"contour\"}], \"contourcarpet\": [{\"colorbar\": {\"outlinewidth\": 0, \"ticks\": \"\"}, \"type\": \"contourcarpet\"}], \"heatmap\": [{\"colorbar\": {\"outlinewidth\": 0, \"ticks\": \"\"}, \"colorscale\": [[0.0, \"#0d0887\"], [0.1111111111111111, \"#46039f\"], [0.2222222222222222, \"#7201a8\"], [0.3333333333333333, \"#9c179e\"], [0.4444444444444444, \"#bd3786\"], [0.5555555555555556, \"#d8576b\"], [0.6666666666666666, \"#ed7953\"], [0.7777777777777778, \"#fb9f3a\"], [0.8888888888888888, \"#fdca26\"], [1.0, \"#f0f921\"]], \"type\": \"heatmap\"}], \"heatmapgl\": [{\"colorbar\": {\"outlinewidth\": 0, \"ticks\": \"\"}, \"colorscale\": [[0.0, \"#0d0887\"], [0.1111111111111111, \"#46039f\"], [0.2222222222222222, \"#7201a8\"], [0.3333333333333333, \"#9c179e\"], [0.4444444444444444, \"#bd3786\"], [0.5555555555555556, \"#d8576b\"], [0.6666666666666666, \"#ed7953\"], [0.7777777777777778, \"#fb9f3a\"], [0.8888888888888888, \"#fdca26\"], [1.0, \"#f0f921\"]], \"type\": \"heatmapgl\"}], \"histogram\": [{\"marker\": {\"colorbar\": {\"outlinewidth\": 0, \"ticks\": \"\"}}, \"type\": \"histogram\"}], \"histogram2d\": [{\"colorbar\": {\"outlinewidth\": 0, \"ticks\": \"\"}, \"colorscale\": [[0.0, \"#0d0887\"], [0.1111111111111111, \"#46039f\"], [0.2222222222222222, \"#7201a8\"], [0.3333333333333333, \"#9c179e\"], [0.4444444444444444, \"#bd3786\"], [0.5555555555555556, \"#d8576b\"], [0.6666666666666666, \"#ed7953\"], [0.7777777777777778, \"#fb9f3a\"], [0.8888888888888888, \"#fdca26\"], [1.0, \"#f0f921\"]], \"type\": \"histogram2d\"}], \"histogram2dcontour\": [{\"colorbar\": {\"outlinewidth\": 0, \"ticks\": \"\"}, \"colorscale\": [[0.0, \"#0d0887\"], [0.1111111111111111, \"#46039f\"], [0.2222222222222222, \"#7201a8\"], [0.3333333333333333, \"#9c179e\"], [0.4444444444444444, \"#bd3786\"], [0.5555555555555556, \"#d8576b\"], [0.6666666666666666, \"#ed7953\"], [0.7777777777777778, \"#fb9f3a\"], [0.8888888888888888, \"#fdca26\"], [1.0, \"#f0f921\"]], \"type\": \"histogram2dcontour\"}], \"mesh3d\": [{\"colorbar\": {\"outlinewidth\": 0, \"ticks\": \"\"}, \"type\": \"mesh3d\"}], \"parcoords\": [{\"line\": {\"colorbar\": {\"outlinewidth\": 0, \"ticks\": \"\"}}, \"type\": \"parcoords\"}], \"pie\": [{\"automargin\": true, \"type\": \"pie\"}], \"scatter\": [{\"marker\": {\"colorbar\": {\"outlinewidth\": 0, \"ticks\": \"\"}}, \"type\": \"scatter\"}], \"scatter3d\": [{\"line\": {\"colorbar\": {\"outlinewidth\": 0, \"ticks\": \"\"}}, \"marker\": {\"colorbar\": {\"outlinewidth\": 0, \"ticks\": \"\"}}, \"type\": \"scatter3d\"}], \"scattercarpet\": [{\"marker\": {\"colorbar\": {\"outlinewidth\": 0, \"ticks\": \"\"}}, \"type\": \"scattercarpet\"}], \"scattergeo\": [{\"marker\": {\"colorbar\": {\"outlinewidth\": 0, \"ticks\": \"\"}}, \"type\": \"scattergeo\"}], \"scattergl\": [{\"marker\": {\"colorbar\": {\"outlinewidth\": 0, \"ticks\": \"\"}}, \"type\": \"scattergl\"}], \"scattermapbox\": [{\"marker\": {\"colorbar\": {\"outlinewidth\": 0, \"ticks\": \"\"}}, \"type\": \"scattermapbox\"}], \"scatterpolar\": [{\"marker\": {\"colorbar\": {\"outlinewidth\": 0, \"ticks\": \"\"}}, \"type\": \"scatterpolar\"}], \"scatterpolargl\": [{\"marker\": {\"colorbar\": {\"outlinewidth\": 0, \"ticks\": \"\"}}, \"type\": \"scatterpolargl\"}], \"scatterternary\": [{\"marker\": {\"colorbar\": {\"outlinewidth\": 0, \"ticks\": \"\"}}, \"type\": \"scatterternary\"}], \"surface\": [{\"colorbar\": {\"outlinewidth\": 0, \"ticks\": \"\"}, \"colorscale\": [[0.0, \"#0d0887\"], [0.1111111111111111, \"#46039f\"], [0.2222222222222222, \"#7201a8\"], [0.3333333333333333, \"#9c179e\"], [0.4444444444444444, \"#bd3786\"], [0.5555555555555556, \"#d8576b\"], [0.6666666666666666, \"#ed7953\"], [0.7777777777777778, \"#fb9f3a\"], [0.8888888888888888, \"#fdca26\"], [1.0, \"#f0f921\"]], \"type\": \"surface\"}], \"table\": [{\"cells\": {\"fill\": {\"color\": \"#EBF0F8\"}, \"line\": {\"color\": \"white\"}}, \"header\": {\"fill\": {\"color\": \"#C8D4E3\"}, \"line\": {\"color\": \"white\"}}, \"type\": \"table\"}]}, \"layout\": {\"annotationdefaults\": {\"arrowcolor\": \"#2a3f5f\", \"arrowhead\": 0, \"arrowwidth\": 1}, \"autotypenumbers\": \"strict\", \"coloraxis\": {\"colorbar\": {\"outlinewidth\": 0, \"ticks\": \"\"}}, \"colorscale\": {\"diverging\": [[0, \"#8e0152\"], [0.1, \"#c51b7d\"], [0.2, \"#de77ae\"], [0.3, \"#f1b6da\"], [0.4, \"#fde0ef\"], [0.5, \"#f7f7f7\"], [0.6, \"#e6f5d0\"], [0.7, \"#b8e186\"], [0.8, \"#7fbc41\"], [0.9, \"#4d9221\"], [1, \"#276419\"]], \"sequential\": [[0.0, \"#0d0887\"], [0.1111111111111111, \"#46039f\"], [0.2222222222222222, \"#7201a8\"], [0.3333333333333333, \"#9c179e\"], [0.4444444444444444, \"#bd3786\"], [0.5555555555555556, \"#d8576b\"], [0.6666666666666666, \"#ed7953\"], [0.7777777777777778, \"#fb9f3a\"], [0.8888888888888888, \"#fdca26\"], [1.0, \"#f0f921\"]], \"sequentialminus\": [[0.0, \"#0d0887\"], [0.1111111111111111, \"#46039f\"], [0.2222222222222222, \"#7201a8\"], [0.3333333333333333, \"#9c179e\"], [0.4444444444444444, \"#bd3786\"], [0.5555555555555556, \"#d8576b\"], [0.6666666666666666, \"#ed7953\"], [0.7777777777777778, \"#fb9f3a\"], [0.8888888888888888, \"#fdca26\"], [1.0, \"#f0f921\"]]}, \"colorway\": [\"#636efa\", \"#EF553B\", \"#00cc96\", \"#ab63fa\", \"#FFA15A\", \"#19d3f3\", \"#FF6692\", \"#B6E880\", \"#FF97FF\", \"#FECB52\"], \"font\": {\"color\": \"#2a3f5f\"}, \"geo\": {\"bgcolor\": \"white\", \"lakecolor\": \"white\", \"landcolor\": \"#E5ECF6\", \"showlakes\": true, \"showland\": true, \"subunitcolor\": \"white\"}, \"hoverlabel\": {\"align\": \"left\"}, \"hovermode\": \"closest\", \"mapbox\": {\"style\": \"light\"}, \"paper_bgcolor\": \"white\", \"plot_bgcolor\": \"#E5ECF6\", \"polar\": {\"angularaxis\": {\"gridcolor\": \"white\", \"linecolor\": \"white\", \"ticks\": \"\"}, \"bgcolor\": \"#E5ECF6\", \"radialaxis\": {\"gridcolor\": \"white\", \"linecolor\": \"white\", \"ticks\": \"\"}}, \"scene\": {\"xaxis\": {\"backgroundcolor\": \"#E5ECF6\", \"gridcolor\": \"white\", \"gridwidth\": 2, \"linecolor\": \"white\", \"showbackground\": true, \"ticks\": \"\", \"zerolinecolor\": \"white\"}, \"yaxis\": {\"backgroundcolor\": \"#E5ECF6\", \"gridcolor\": \"white\", \"gridwidth\": 2, \"linecolor\": \"white\", \"showbackground\": true, \"ticks\": \"\", \"zerolinecolor\": \"white\"}, \"zaxis\": {\"backgroundcolor\": \"#E5ECF6\", \"gridcolor\": \"white\", \"gridwidth\": 2, \"linecolor\": \"white\", \"showbackground\": true, \"ticks\": \"\", \"zerolinecolor\": \"white\"}}, \"shapedefaults\": {\"line\": {\"color\": \"#2a3f5f\"}}, \"ternary\": {\"aaxis\": {\"gridcolor\": \"white\", \"linecolor\": \"white\", \"ticks\": \"\"}, \"baxis\": {\"gridcolor\": \"white\", \"linecolor\": \"white\", \"ticks\": \"\"}, \"bgcolor\": \"#E5ECF6\", \"caxis\": {\"gridcolor\": \"white\", \"linecolor\": \"white\", \"ticks\": \"\"}}, \"title\": {\"x\": 0.05}, \"xaxis\": {\"automargin\": true, \"gridcolor\": \"white\", \"linecolor\": \"white\", \"ticks\": \"\", \"title\": {\"standoff\": 15}, \"zerolinecolor\": \"white\", \"zerolinewidth\": 2}, \"yaxis\": {\"automargin\": true, \"gridcolor\": \"white\", \"linecolor\": \"white\", \"ticks\": \"\", \"title\": {\"standoff\": 15}, \"zerolinecolor\": \"white\", \"zerolinewidth\": 2}}}, \"width\": 500, \"xaxis\": {\"dtick\": 1, \"gridwidth\": 2, \"showticklabels\": false, \"tick0\": -0.5, \"ticks\": \"\", \"zeroline\": false}, \"yaxis\": {\"autorange\": \"reversed\", \"dtick\": 1, \"gridwidth\": 2, \"showticklabels\": false, \"tick0\": 0.5, \"ticks\": \"\", \"zeroline\": false}},                        {\"responsive\": true}                    ).then(function(){\n",
       "                            \n",
       "var gd = document.getElementById('0eaf6476-8aa1-4b4e-9c87-36e8e047c027');\n",
       "var x = new MutationObserver(function (mutations, observer) {{\n",
       "        var display = window.getComputedStyle(gd).display;\n",
       "        if (!display || display === 'none') {{\n",
       "            console.log([gd, 'removed!']);\n",
       "            Plotly.purge(gd);\n",
       "            observer.disconnect();\n",
       "        }}\n",
       "}});\n",
       "\n",
       "// Listen for the removal of the full notebook cells\n",
       "var notebookContainer = gd.closest('#notebook-container');\n",
       "if (notebookContainer) {{\n",
       "    x.observe(notebookContainer, {childList: true});\n",
       "}}\n",
       "\n",
       "// Listen for the clearing of the current output cell\n",
       "var outputEl = gd.closest('.output');\n",
       "if (outputEl) {{\n",
       "    x.observe(outputEl, {childList: true});\n",
       "}}\n",
       "\n",
       "                        })                };                });            </script>        </div>"
      ]
     },
     "metadata": {},
     "output_type": "display_data"
    }
   ],
   "source": [
    "tdata = [['room<br>type',\"median<br>price<br>before\",\"median<br>price<br>after\", \"raw<br>difference\", \"percentage<br>change\"]] \n",
    "\n",
    "\n",
    "for room_type in perc_change_df.index:\n",
    "    tdata.append([room_type, \n",
    "                       \"$\" + str(perc_change_df.loc[room_type, 'med_price_before']),\n",
    "                       \"$\" + str(perc_change_df.loc[room_type, 'med_price_after']),\n",
    "                       \"$\" + str(perc_change_df.loc[room_type, 'raw_decrease']),\n",
    "                         str(round(perc_change_df.loc[room_type, 'perc_decrease']* 100,2)) + \" %\",\n",
    "                    ])\n",
    "    \n",
    "\n",
    "\n",
    "colorscale = [[0, '#ffffff'],[.5, '#ffffff'],[1, '#ededed']]\n",
    "\n",
    "font=['#808080', '#808080', '#808080']\n",
    "fig = ff.create_table(tdata, height_constant=60, font_colors=font, colorscale = colorscale )\n",
    "fig.layout.width=500\n",
    "fig.show()"
   ]
  },
  {
   "cell_type": "code",
   "execution_count": 404,
   "metadata": {},
   "outputs": [
    {
     "data": {
      "text/html": [
       "<div>\n",
       "<style scoped>\n",
       "    .dataframe tbody tr th:only-of-type {\n",
       "        vertical-align: middle;\n",
       "    }\n",
       "\n",
       "    .dataframe tbody tr th {\n",
       "        vertical-align: top;\n",
       "    }\n",
       "\n",
       "    .dataframe thead th {\n",
       "        text-align: right;\n",
       "    }\n",
       "</style>\n",
       "<table border=\"1\" class=\"dataframe\">\n",
       "  <thead>\n",
       "    <tr style=\"text-align: right;\">\n",
       "      <th></th>\n",
       "      <th>room_type_2</th>\n",
       "      <th>med_price_after</th>\n",
       "      <th>med_price_before</th>\n",
       "      <th>raw_decrease</th>\n",
       "      <th>perc_decrease</th>\n",
       "      <th>color</th>\n",
       "    </tr>\n",
       "  </thead>\n",
       "  <tbody>\n",
       "    <tr>\n",
       "      <th>0</th>\n",
       "      <td>1b1b</td>\n",
       "      <td>425</td>\n",
       "      <td>521</td>\n",
       "      <td>96</td>\n",
       "      <td>0.184261</td>\n",
       "      <td>NaN</td>\n",
       "    </tr>\n",
       "    <tr>\n",
       "      <th>1</th>\n",
       "      <td>2b1b</td>\n",
       "      <td>460</td>\n",
       "      <td>630</td>\n",
       "      <td>170</td>\n",
       "      <td>0.269841</td>\n",
       "      <td>NaN</td>\n",
       "    </tr>\n",
       "    <tr>\n",
       "      <th>2</th>\n",
       "      <td>2b2b</td>\n",
       "      <td>600</td>\n",
       "      <td>730</td>\n",
       "      <td>130</td>\n",
       "      <td>0.178082</td>\n",
       "      <td>NaN</td>\n",
       "    </tr>\n",
       "    <tr>\n",
       "      <th>3</th>\n",
       "      <td>3b2b</td>\n",
       "      <td>950</td>\n",
       "      <td>1200</td>\n",
       "      <td>250</td>\n",
       "      <td>0.208333</td>\n",
       "      <td>NaN</td>\n",
       "    </tr>\n",
       "  </tbody>\n",
       "</table>\n",
       "</div>"
      ],
      "text/plain": [
       "  room_type_2  med_price_after  med_price_before  raw_decrease  perc_decrease  \\\n",
       "0        1b1b              425               521            96       0.184261   \n",
       "1        2b1b              460               630           170       0.269841   \n",
       "2        2b2b              600               730           130       0.178082   \n",
       "3        3b2b              950              1200           250       0.208333   \n",
       "\n",
       "  color  \n",
       "0   NaN  \n",
       "1   NaN  \n",
       "2   NaN  \n",
       "3   NaN  "
      ]
     },
     "execution_count": 404,
     "metadata": {},
     "output_type": "execute_result"
    }
   ],
   "source": [
    "perc_change_df2"
   ]
  },
  {
   "cell_type": "code",
   "execution_count": 408,
   "metadata": {},
   "outputs": [
    {
     "data": {
      "text/plain": [
       "[['black', 'black', 'black', 'black'],\n",
       " ['black', 'black', 'black', 'black'],\n",
       " ['black', 'black', 'black', 'black'],\n",
       " ['black', 'black', 'black', 'black'],\n",
       " ['black', 'black', 'black', 'black']]"
      ]
     },
     "execution_count": 408,
     "metadata": {},
     "output_type": "execute_result"
    }
   ],
   "source": [
    "text_color"
   ]
  },
  {
   "cell_type": "code",
   "execution_count": 406,
   "metadata": {},
   "outputs": [
    {
     "data": {
      "text/plain": [
       "room_type_2\n",
       "1b1b    red\n",
       "2b1b    red\n",
       "2b2b    red\n",
       "3b2b    red\n",
       "Name: raw_decrease, dtype: object"
      ]
     },
     "execution_count": 406,
     "metadata": {},
     "output_type": "execute_result"
    }
   ],
   "source": [
    "perc_change_df['raw_decrease'].map(lambda p: \"red\" if p>0 else \"green\")\n"
   ]
  },
  {
   "cell_type": "code",
   "execution_count": 435,
   "metadata": {},
   "outputs": [
    {
     "data": {
      "application/vnd.plotly.v1+json": {
       "config": {
        "plotlyServerURL": "https://plot.ly"
       },
       "data": [
        {
         "cells": {
          "align": "left",
          "fill": {
           "color": [
            "#f5f5f5"
           ]
          },
          "font": {
           "color": [
            [
             "#808080",
             "#808080",
             "#808080",
             "#808080"
            ],
            [
             "#808080",
             "#808080",
             "#808080",
             "#808080"
            ],
            [
             "#808080",
             "#808080",
             "#808080",
             "#808080"
            ],
            [
             "red",
             "red",
             "red",
             "red"
            ],
            [
             "red",
             "red",
             "red",
             "red"
            ]
           ],
           "family": "Lato",
           "size": 15
          },
          "height": 30,
          "values": [
           [
            "1b1b",
            "2b1b",
            "2b2b",
            "3b2b"
           ],
           [
            "$521",
            "$630",
            "$730",
            "$1200"
           ],
           [
            "$425",
            "$460",
            "$600",
            "$950"
           ],
           [
            "$96",
            "$170",
            "$130",
            "$250"
           ],
           [
            "18.43 %",
            "26.98 %",
            "17.81 %",
            "20.83 %"
           ]
          ]
         },
         "header": {
          "align": "center",
          "fill": {
           "color": "#e3e3e3"
          },
          "font": {
           "color": "#808080",
           "family": "Lato",
           "size": 15
          },
          "height": 30,
          "line": {
           "color": "white"
          },
          "values": [
           "<b>room<br>type</b>",
           "<b>median<br>rent<br>before</b>",
           "<b>median<br>rent<br>after</b>",
           "<b>raw<br>difference</b>",
           "<b>percentage<br>change</b>"
          ]
         },
         "type": "table"
        }
       ],
       "layout": {
        "height": 600,
        "template": {
         "data": {
          "bar": [
           {
            "error_x": {
             "color": "#2a3f5f"
            },
            "error_y": {
             "color": "#2a3f5f"
            },
            "marker": {
             "line": {
              "color": "#E5ECF6",
              "width": 0.5
             }
            },
            "type": "bar"
           }
          ],
          "barpolar": [
           {
            "marker": {
             "line": {
              "color": "#E5ECF6",
              "width": 0.5
             }
            },
            "type": "barpolar"
           }
          ],
          "carpet": [
           {
            "aaxis": {
             "endlinecolor": "#2a3f5f",
             "gridcolor": "white",
             "linecolor": "white",
             "minorgridcolor": "white",
             "startlinecolor": "#2a3f5f"
            },
            "baxis": {
             "endlinecolor": "#2a3f5f",
             "gridcolor": "white",
             "linecolor": "white",
             "minorgridcolor": "white",
             "startlinecolor": "#2a3f5f"
            },
            "type": "carpet"
           }
          ],
          "choropleth": [
           {
            "colorbar": {
             "outlinewidth": 0,
             "ticks": ""
            },
            "type": "choropleth"
           }
          ],
          "contour": [
           {
            "colorbar": {
             "outlinewidth": 0,
             "ticks": ""
            },
            "colorscale": [
             [
              0,
              "#0d0887"
             ],
             [
              0.1111111111111111,
              "#46039f"
             ],
             [
              0.2222222222222222,
              "#7201a8"
             ],
             [
              0.3333333333333333,
              "#9c179e"
             ],
             [
              0.4444444444444444,
              "#bd3786"
             ],
             [
              0.5555555555555556,
              "#d8576b"
             ],
             [
              0.6666666666666666,
              "#ed7953"
             ],
             [
              0.7777777777777778,
              "#fb9f3a"
             ],
             [
              0.8888888888888888,
              "#fdca26"
             ],
             [
              1,
              "#f0f921"
             ]
            ],
            "type": "contour"
           }
          ],
          "contourcarpet": [
           {
            "colorbar": {
             "outlinewidth": 0,
             "ticks": ""
            },
            "type": "contourcarpet"
           }
          ],
          "heatmap": [
           {
            "colorbar": {
             "outlinewidth": 0,
             "ticks": ""
            },
            "colorscale": [
             [
              0,
              "#0d0887"
             ],
             [
              0.1111111111111111,
              "#46039f"
             ],
             [
              0.2222222222222222,
              "#7201a8"
             ],
             [
              0.3333333333333333,
              "#9c179e"
             ],
             [
              0.4444444444444444,
              "#bd3786"
             ],
             [
              0.5555555555555556,
              "#d8576b"
             ],
             [
              0.6666666666666666,
              "#ed7953"
             ],
             [
              0.7777777777777778,
              "#fb9f3a"
             ],
             [
              0.8888888888888888,
              "#fdca26"
             ],
             [
              1,
              "#f0f921"
             ]
            ],
            "type": "heatmap"
           }
          ],
          "heatmapgl": [
           {
            "colorbar": {
             "outlinewidth": 0,
             "ticks": ""
            },
            "colorscale": [
             [
              0,
              "#0d0887"
             ],
             [
              0.1111111111111111,
              "#46039f"
             ],
             [
              0.2222222222222222,
              "#7201a8"
             ],
             [
              0.3333333333333333,
              "#9c179e"
             ],
             [
              0.4444444444444444,
              "#bd3786"
             ],
             [
              0.5555555555555556,
              "#d8576b"
             ],
             [
              0.6666666666666666,
              "#ed7953"
             ],
             [
              0.7777777777777778,
              "#fb9f3a"
             ],
             [
              0.8888888888888888,
              "#fdca26"
             ],
             [
              1,
              "#f0f921"
             ]
            ],
            "type": "heatmapgl"
           }
          ],
          "histogram": [
           {
            "marker": {
             "colorbar": {
              "outlinewidth": 0,
              "ticks": ""
             }
            },
            "type": "histogram"
           }
          ],
          "histogram2d": [
           {
            "colorbar": {
             "outlinewidth": 0,
             "ticks": ""
            },
            "colorscale": [
             [
              0,
              "#0d0887"
             ],
             [
              0.1111111111111111,
              "#46039f"
             ],
             [
              0.2222222222222222,
              "#7201a8"
             ],
             [
              0.3333333333333333,
              "#9c179e"
             ],
             [
              0.4444444444444444,
              "#bd3786"
             ],
             [
              0.5555555555555556,
              "#d8576b"
             ],
             [
              0.6666666666666666,
              "#ed7953"
             ],
             [
              0.7777777777777778,
              "#fb9f3a"
             ],
             [
              0.8888888888888888,
              "#fdca26"
             ],
             [
              1,
              "#f0f921"
             ]
            ],
            "type": "histogram2d"
           }
          ],
          "histogram2dcontour": [
           {
            "colorbar": {
             "outlinewidth": 0,
             "ticks": ""
            },
            "colorscale": [
             [
              0,
              "#0d0887"
             ],
             [
              0.1111111111111111,
              "#46039f"
             ],
             [
              0.2222222222222222,
              "#7201a8"
             ],
             [
              0.3333333333333333,
              "#9c179e"
             ],
             [
              0.4444444444444444,
              "#bd3786"
             ],
             [
              0.5555555555555556,
              "#d8576b"
             ],
             [
              0.6666666666666666,
              "#ed7953"
             ],
             [
              0.7777777777777778,
              "#fb9f3a"
             ],
             [
              0.8888888888888888,
              "#fdca26"
             ],
             [
              1,
              "#f0f921"
             ]
            ],
            "type": "histogram2dcontour"
           }
          ],
          "mesh3d": [
           {
            "colorbar": {
             "outlinewidth": 0,
             "ticks": ""
            },
            "type": "mesh3d"
           }
          ],
          "parcoords": [
           {
            "line": {
             "colorbar": {
              "outlinewidth": 0,
              "ticks": ""
             }
            },
            "type": "parcoords"
           }
          ],
          "pie": [
           {
            "automargin": true,
            "type": "pie"
           }
          ],
          "scatter": [
           {
            "marker": {
             "colorbar": {
              "outlinewidth": 0,
              "ticks": ""
             }
            },
            "type": "scatter"
           }
          ],
          "scatter3d": [
           {
            "line": {
             "colorbar": {
              "outlinewidth": 0,
              "ticks": ""
             }
            },
            "marker": {
             "colorbar": {
              "outlinewidth": 0,
              "ticks": ""
             }
            },
            "type": "scatter3d"
           }
          ],
          "scattercarpet": [
           {
            "marker": {
             "colorbar": {
              "outlinewidth": 0,
              "ticks": ""
             }
            },
            "type": "scattercarpet"
           }
          ],
          "scattergeo": [
           {
            "marker": {
             "colorbar": {
              "outlinewidth": 0,
              "ticks": ""
             }
            },
            "type": "scattergeo"
           }
          ],
          "scattergl": [
           {
            "marker": {
             "colorbar": {
              "outlinewidth": 0,
              "ticks": ""
             }
            },
            "type": "scattergl"
           }
          ],
          "scattermapbox": [
           {
            "marker": {
             "colorbar": {
              "outlinewidth": 0,
              "ticks": ""
             }
            },
            "type": "scattermapbox"
           }
          ],
          "scatterpolar": [
           {
            "marker": {
             "colorbar": {
              "outlinewidth": 0,
              "ticks": ""
             }
            },
            "type": "scatterpolar"
           }
          ],
          "scatterpolargl": [
           {
            "marker": {
             "colorbar": {
              "outlinewidth": 0,
              "ticks": ""
             }
            },
            "type": "scatterpolargl"
           }
          ],
          "scatterternary": [
           {
            "marker": {
             "colorbar": {
              "outlinewidth": 0,
              "ticks": ""
             }
            },
            "type": "scatterternary"
           }
          ],
          "surface": [
           {
            "colorbar": {
             "outlinewidth": 0,
             "ticks": ""
            },
            "colorscale": [
             [
              0,
              "#0d0887"
             ],
             [
              0.1111111111111111,
              "#46039f"
             ],
             [
              0.2222222222222222,
              "#7201a8"
             ],
             [
              0.3333333333333333,
              "#9c179e"
             ],
             [
              0.4444444444444444,
              "#bd3786"
             ],
             [
              0.5555555555555556,
              "#d8576b"
             ],
             [
              0.6666666666666666,
              "#ed7953"
             ],
             [
              0.7777777777777778,
              "#fb9f3a"
             ],
             [
              0.8888888888888888,
              "#fdca26"
             ],
             [
              1,
              "#f0f921"
             ]
            ],
            "type": "surface"
           }
          ],
          "table": [
           {
            "cells": {
             "fill": {
              "color": "#EBF0F8"
             },
             "line": {
              "color": "white"
             }
            },
            "header": {
             "fill": {
              "color": "#C8D4E3"
             },
             "line": {
              "color": "white"
             }
            },
            "type": "table"
           }
          ]
         },
         "layout": {
          "annotationdefaults": {
           "arrowcolor": "#2a3f5f",
           "arrowhead": 0,
           "arrowwidth": 1
          },
          "autotypenumbers": "strict",
          "coloraxis": {
           "colorbar": {
            "outlinewidth": 0,
            "ticks": ""
           }
          },
          "colorscale": {
           "diverging": [
            [
             0,
             "#8e0152"
            ],
            [
             0.1,
             "#c51b7d"
            ],
            [
             0.2,
             "#de77ae"
            ],
            [
             0.3,
             "#f1b6da"
            ],
            [
             0.4,
             "#fde0ef"
            ],
            [
             0.5,
             "#f7f7f7"
            ],
            [
             0.6,
             "#e6f5d0"
            ],
            [
             0.7,
             "#b8e186"
            ],
            [
             0.8,
             "#7fbc41"
            ],
            [
             0.9,
             "#4d9221"
            ],
            [
             1,
             "#276419"
            ]
           ],
           "sequential": [
            [
             0,
             "#0d0887"
            ],
            [
             0.1111111111111111,
             "#46039f"
            ],
            [
             0.2222222222222222,
             "#7201a8"
            ],
            [
             0.3333333333333333,
             "#9c179e"
            ],
            [
             0.4444444444444444,
             "#bd3786"
            ],
            [
             0.5555555555555556,
             "#d8576b"
            ],
            [
             0.6666666666666666,
             "#ed7953"
            ],
            [
             0.7777777777777778,
             "#fb9f3a"
            ],
            [
             0.8888888888888888,
             "#fdca26"
            ],
            [
             1,
             "#f0f921"
            ]
           ],
           "sequentialminus": [
            [
             0,
             "#0d0887"
            ],
            [
             0.1111111111111111,
             "#46039f"
            ],
            [
             0.2222222222222222,
             "#7201a8"
            ],
            [
             0.3333333333333333,
             "#9c179e"
            ],
            [
             0.4444444444444444,
             "#bd3786"
            ],
            [
             0.5555555555555556,
             "#d8576b"
            ],
            [
             0.6666666666666666,
             "#ed7953"
            ],
            [
             0.7777777777777778,
             "#fb9f3a"
            ],
            [
             0.8888888888888888,
             "#fdca26"
            ],
            [
             1,
             "#f0f921"
            ]
           ]
          },
          "colorway": [
           "#636efa",
           "#EF553B",
           "#00cc96",
           "#ab63fa",
           "#FFA15A",
           "#19d3f3",
           "#FF6692",
           "#B6E880",
           "#FF97FF",
           "#FECB52"
          ],
          "font": {
           "color": "#2a3f5f"
          },
          "geo": {
           "bgcolor": "white",
           "lakecolor": "white",
           "landcolor": "#E5ECF6",
           "showlakes": true,
           "showland": true,
           "subunitcolor": "white"
          },
          "hoverlabel": {
           "align": "left"
          },
          "hovermode": "closest",
          "mapbox": {
           "style": "light"
          },
          "paper_bgcolor": "white",
          "plot_bgcolor": "#E5ECF6",
          "polar": {
           "angularaxis": {
            "gridcolor": "white",
            "linecolor": "white",
            "ticks": ""
           },
           "bgcolor": "#E5ECF6",
           "radialaxis": {
            "gridcolor": "white",
            "linecolor": "white",
            "ticks": ""
           }
          },
          "scene": {
           "xaxis": {
            "backgroundcolor": "#E5ECF6",
            "gridcolor": "white",
            "gridwidth": 2,
            "linecolor": "white",
            "showbackground": true,
            "ticks": "",
            "zerolinecolor": "white"
           },
           "yaxis": {
            "backgroundcolor": "#E5ECF6",
            "gridcolor": "white",
            "gridwidth": 2,
            "linecolor": "white",
            "showbackground": true,
            "ticks": "",
            "zerolinecolor": "white"
           },
           "zaxis": {
            "backgroundcolor": "#E5ECF6",
            "gridcolor": "white",
            "gridwidth": 2,
            "linecolor": "white",
            "showbackground": true,
            "ticks": "",
            "zerolinecolor": "white"
           }
          },
          "shapedefaults": {
           "line": {
            "color": "#2a3f5f"
           }
          },
          "ternary": {
           "aaxis": {
            "gridcolor": "white",
            "linecolor": "white",
            "ticks": ""
           },
           "baxis": {
            "gridcolor": "white",
            "linecolor": "white",
            "ticks": ""
           },
           "bgcolor": "#E5ECF6",
           "caxis": {
            "gridcolor": "white",
            "linecolor": "white",
            "ticks": ""
           }
          },
          "title": {
           "x": 0.05
          },
          "xaxis": {
           "automargin": true,
           "gridcolor": "white",
           "linecolor": "white",
           "ticks": "",
           "title": {
            "standoff": 15
           },
           "zerolinecolor": "white",
           "zerolinewidth": 2
          },
          "yaxis": {
           "automargin": true,
           "gridcolor": "white",
           "linecolor": "white",
           "ticks": "",
           "title": {
            "standoff": 15
           },
           "zerolinecolor": "white",
           "zerolinewidth": 2
          }
         }
        },
        "width": 600
       }
      },
      "text/html": [
       "<div>                            <div id=\"b2b35a94-438a-49fa-a816-ea7f8858105f\" class=\"plotly-graph-div\" style=\"height:600px; width:600px;\"></div>            <script type=\"text/javascript\">                require([\"plotly\"], function(Plotly) {                    window.PLOTLYENV=window.PLOTLYENV || {};                                    if (document.getElementById(\"b2b35a94-438a-49fa-a816-ea7f8858105f\")) {                    Plotly.newPlot(                        \"b2b35a94-438a-49fa-a816-ea7f8858105f\",                        [{\"cells\": {\"align\": \"left\", \"fill\": {\"color\": [\"#f5f5f5\"]}, \"font\": {\"color\": [[\"#808080\", \"#808080\", \"#808080\", \"#808080\"], [\"#808080\", \"#808080\", \"#808080\", \"#808080\"], [\"#808080\", \"#808080\", \"#808080\", \"#808080\"], [\"red\", \"red\", \"red\", \"red\"], [\"red\", \"red\", \"red\", \"red\"]], \"family\": \"Lato\", \"size\": 15}, \"height\": 30, \"values\": [[\"1b1b\", \"2b1b\", \"2b2b\", \"3b2b\"], [\"$521\", \"$630\", \"$730\", \"$1200\"], [\"$425\", \"$460\", \"$600\", \"$950\"], [\"$96\", \"$170\", \"$130\", \"$250\"], [\"18.43 %\", \"26.98 %\", \"17.81 %\", \"20.83 %\"]]}, \"header\": {\"align\": \"center\", \"fill\": {\"color\": \"#e3e3e3\"}, \"font\": {\"color\": \"#808080\", \"family\": \"Lato\", \"size\": 15}, \"height\": 30, \"line\": {\"color\": \"white\"}, \"values\": [\"<b>room<br>type</b>\", \"<b>median<br>rent<br>before</b>\", \"<b>median<br>rent<br>after</b>\", \"<b>raw<br>difference</b>\", \"<b>percentage<br>change</b>\"]}, \"type\": \"table\"}],                        {\"height\": 600, \"template\": {\"data\": {\"bar\": [{\"error_x\": {\"color\": \"#2a3f5f\"}, \"error_y\": {\"color\": \"#2a3f5f\"}, \"marker\": {\"line\": {\"color\": \"#E5ECF6\", \"width\": 0.5}}, \"type\": \"bar\"}], \"barpolar\": [{\"marker\": {\"line\": {\"color\": \"#E5ECF6\", \"width\": 0.5}}, \"type\": \"barpolar\"}], \"carpet\": [{\"aaxis\": {\"endlinecolor\": \"#2a3f5f\", \"gridcolor\": \"white\", \"linecolor\": \"white\", \"minorgridcolor\": \"white\", \"startlinecolor\": \"#2a3f5f\"}, \"baxis\": {\"endlinecolor\": \"#2a3f5f\", \"gridcolor\": \"white\", \"linecolor\": \"white\", \"minorgridcolor\": \"white\", \"startlinecolor\": \"#2a3f5f\"}, \"type\": \"carpet\"}], \"choropleth\": [{\"colorbar\": {\"outlinewidth\": 0, \"ticks\": \"\"}, \"type\": \"choropleth\"}], \"contour\": [{\"colorbar\": {\"outlinewidth\": 0, \"ticks\": \"\"}, \"colorscale\": [[0.0, \"#0d0887\"], [0.1111111111111111, \"#46039f\"], [0.2222222222222222, \"#7201a8\"], [0.3333333333333333, \"#9c179e\"], [0.4444444444444444, \"#bd3786\"], [0.5555555555555556, \"#d8576b\"], [0.6666666666666666, \"#ed7953\"], [0.7777777777777778, \"#fb9f3a\"], [0.8888888888888888, \"#fdca26\"], [1.0, \"#f0f921\"]], \"type\": \"contour\"}], \"contourcarpet\": [{\"colorbar\": {\"outlinewidth\": 0, \"ticks\": \"\"}, \"type\": \"contourcarpet\"}], \"heatmap\": [{\"colorbar\": {\"outlinewidth\": 0, \"ticks\": \"\"}, \"colorscale\": [[0.0, \"#0d0887\"], [0.1111111111111111, \"#46039f\"], [0.2222222222222222, \"#7201a8\"], [0.3333333333333333, \"#9c179e\"], [0.4444444444444444, \"#bd3786\"], [0.5555555555555556, \"#d8576b\"], [0.6666666666666666, \"#ed7953\"], [0.7777777777777778, \"#fb9f3a\"], [0.8888888888888888, \"#fdca26\"], [1.0, \"#f0f921\"]], \"type\": \"heatmap\"}], \"heatmapgl\": [{\"colorbar\": {\"outlinewidth\": 0, \"ticks\": \"\"}, \"colorscale\": [[0.0, \"#0d0887\"], [0.1111111111111111, \"#46039f\"], [0.2222222222222222, \"#7201a8\"], [0.3333333333333333, \"#9c179e\"], [0.4444444444444444, \"#bd3786\"], [0.5555555555555556, \"#d8576b\"], [0.6666666666666666, \"#ed7953\"], [0.7777777777777778, \"#fb9f3a\"], [0.8888888888888888, \"#fdca26\"], [1.0, \"#f0f921\"]], \"type\": \"heatmapgl\"}], \"histogram\": [{\"marker\": {\"colorbar\": {\"outlinewidth\": 0, \"ticks\": \"\"}}, \"type\": \"histogram\"}], \"histogram2d\": [{\"colorbar\": {\"outlinewidth\": 0, \"ticks\": \"\"}, \"colorscale\": [[0.0, \"#0d0887\"], [0.1111111111111111, \"#46039f\"], [0.2222222222222222, \"#7201a8\"], [0.3333333333333333, \"#9c179e\"], [0.4444444444444444, \"#bd3786\"], [0.5555555555555556, \"#d8576b\"], [0.6666666666666666, \"#ed7953\"], [0.7777777777777778, \"#fb9f3a\"], [0.8888888888888888, \"#fdca26\"], [1.0, \"#f0f921\"]], \"type\": \"histogram2d\"}], \"histogram2dcontour\": [{\"colorbar\": {\"outlinewidth\": 0, \"ticks\": \"\"}, \"colorscale\": [[0.0, \"#0d0887\"], [0.1111111111111111, \"#46039f\"], [0.2222222222222222, \"#7201a8\"], [0.3333333333333333, \"#9c179e\"], [0.4444444444444444, \"#bd3786\"], [0.5555555555555556, \"#d8576b\"], [0.6666666666666666, \"#ed7953\"], [0.7777777777777778, \"#fb9f3a\"], [0.8888888888888888, \"#fdca26\"], [1.0, \"#f0f921\"]], \"type\": \"histogram2dcontour\"}], \"mesh3d\": [{\"colorbar\": {\"outlinewidth\": 0, \"ticks\": \"\"}, \"type\": \"mesh3d\"}], \"parcoords\": [{\"line\": {\"colorbar\": {\"outlinewidth\": 0, \"ticks\": \"\"}}, \"type\": \"parcoords\"}], \"pie\": [{\"automargin\": true, \"type\": \"pie\"}], \"scatter\": [{\"marker\": {\"colorbar\": {\"outlinewidth\": 0, \"ticks\": \"\"}}, \"type\": \"scatter\"}], \"scatter3d\": [{\"line\": {\"colorbar\": {\"outlinewidth\": 0, \"ticks\": \"\"}}, \"marker\": {\"colorbar\": {\"outlinewidth\": 0, \"ticks\": \"\"}}, \"type\": \"scatter3d\"}], \"scattercarpet\": [{\"marker\": {\"colorbar\": {\"outlinewidth\": 0, \"ticks\": \"\"}}, \"type\": \"scattercarpet\"}], \"scattergeo\": [{\"marker\": {\"colorbar\": {\"outlinewidth\": 0, \"ticks\": \"\"}}, \"type\": \"scattergeo\"}], \"scattergl\": [{\"marker\": {\"colorbar\": {\"outlinewidth\": 0, \"ticks\": \"\"}}, \"type\": \"scattergl\"}], \"scattermapbox\": [{\"marker\": {\"colorbar\": {\"outlinewidth\": 0, \"ticks\": \"\"}}, \"type\": \"scattermapbox\"}], \"scatterpolar\": [{\"marker\": {\"colorbar\": {\"outlinewidth\": 0, \"ticks\": \"\"}}, \"type\": \"scatterpolar\"}], \"scatterpolargl\": [{\"marker\": {\"colorbar\": {\"outlinewidth\": 0, \"ticks\": \"\"}}, \"type\": \"scatterpolargl\"}], \"scatterternary\": [{\"marker\": {\"colorbar\": {\"outlinewidth\": 0, \"ticks\": \"\"}}, \"type\": \"scatterternary\"}], \"surface\": [{\"colorbar\": {\"outlinewidth\": 0, \"ticks\": \"\"}, \"colorscale\": [[0.0, \"#0d0887\"], [0.1111111111111111, \"#46039f\"], [0.2222222222222222, \"#7201a8\"], [0.3333333333333333, \"#9c179e\"], [0.4444444444444444, \"#bd3786\"], [0.5555555555555556, \"#d8576b\"], [0.6666666666666666, \"#ed7953\"], [0.7777777777777778, \"#fb9f3a\"], [0.8888888888888888, \"#fdca26\"], [1.0, \"#f0f921\"]], \"type\": \"surface\"}], \"table\": [{\"cells\": {\"fill\": {\"color\": \"#EBF0F8\"}, \"line\": {\"color\": \"white\"}}, \"header\": {\"fill\": {\"color\": \"#C8D4E3\"}, \"line\": {\"color\": \"white\"}}, \"type\": \"table\"}]}, \"layout\": {\"annotationdefaults\": {\"arrowcolor\": \"#2a3f5f\", \"arrowhead\": 0, \"arrowwidth\": 1}, \"autotypenumbers\": \"strict\", \"coloraxis\": {\"colorbar\": {\"outlinewidth\": 0, \"ticks\": \"\"}}, \"colorscale\": {\"diverging\": [[0, \"#8e0152\"], [0.1, \"#c51b7d\"], [0.2, \"#de77ae\"], [0.3, \"#f1b6da\"], [0.4, \"#fde0ef\"], [0.5, \"#f7f7f7\"], [0.6, \"#e6f5d0\"], [0.7, \"#b8e186\"], [0.8, \"#7fbc41\"], [0.9, \"#4d9221\"], [1, \"#276419\"]], \"sequential\": [[0.0, \"#0d0887\"], [0.1111111111111111, \"#46039f\"], [0.2222222222222222, \"#7201a8\"], [0.3333333333333333, \"#9c179e\"], [0.4444444444444444, \"#bd3786\"], [0.5555555555555556, \"#d8576b\"], [0.6666666666666666, \"#ed7953\"], [0.7777777777777778, \"#fb9f3a\"], [0.8888888888888888, \"#fdca26\"], [1.0, \"#f0f921\"]], \"sequentialminus\": [[0.0, \"#0d0887\"], [0.1111111111111111, \"#46039f\"], [0.2222222222222222, \"#7201a8\"], [0.3333333333333333, \"#9c179e\"], [0.4444444444444444, \"#bd3786\"], [0.5555555555555556, \"#d8576b\"], [0.6666666666666666, \"#ed7953\"], [0.7777777777777778, \"#fb9f3a\"], [0.8888888888888888, \"#fdca26\"], [1.0, \"#f0f921\"]]}, \"colorway\": [\"#636efa\", \"#EF553B\", \"#00cc96\", \"#ab63fa\", \"#FFA15A\", \"#19d3f3\", \"#FF6692\", \"#B6E880\", \"#FF97FF\", \"#FECB52\"], \"font\": {\"color\": \"#2a3f5f\"}, \"geo\": {\"bgcolor\": \"white\", \"lakecolor\": \"white\", \"landcolor\": \"#E5ECF6\", \"showlakes\": true, \"showland\": true, \"subunitcolor\": \"white\"}, \"hoverlabel\": {\"align\": \"left\"}, \"hovermode\": \"closest\", \"mapbox\": {\"style\": \"light\"}, \"paper_bgcolor\": \"white\", \"plot_bgcolor\": \"#E5ECF6\", \"polar\": {\"angularaxis\": {\"gridcolor\": \"white\", \"linecolor\": \"white\", \"ticks\": \"\"}, \"bgcolor\": \"#E5ECF6\", \"radialaxis\": {\"gridcolor\": \"white\", \"linecolor\": \"white\", \"ticks\": \"\"}}, \"scene\": {\"xaxis\": {\"backgroundcolor\": \"#E5ECF6\", \"gridcolor\": \"white\", \"gridwidth\": 2, \"linecolor\": \"white\", \"showbackground\": true, \"ticks\": \"\", \"zerolinecolor\": \"white\"}, \"yaxis\": {\"backgroundcolor\": \"#E5ECF6\", \"gridcolor\": \"white\", \"gridwidth\": 2, \"linecolor\": \"white\", \"showbackground\": true, \"ticks\": \"\", \"zerolinecolor\": \"white\"}, \"zaxis\": {\"backgroundcolor\": \"#E5ECF6\", \"gridcolor\": \"white\", \"gridwidth\": 2, \"linecolor\": \"white\", \"showbackground\": true, \"ticks\": \"\", \"zerolinecolor\": \"white\"}}, \"shapedefaults\": {\"line\": {\"color\": \"#2a3f5f\"}}, \"ternary\": {\"aaxis\": {\"gridcolor\": \"white\", \"linecolor\": \"white\", \"ticks\": \"\"}, \"baxis\": {\"gridcolor\": \"white\", \"linecolor\": \"white\", \"ticks\": \"\"}, \"bgcolor\": \"#E5ECF6\", \"caxis\": {\"gridcolor\": \"white\", \"linecolor\": \"white\", \"ticks\": \"\"}}, \"title\": {\"x\": 0.05}, \"xaxis\": {\"automargin\": true, \"gridcolor\": \"white\", \"linecolor\": \"white\", \"ticks\": \"\", \"title\": {\"standoff\": 15}, \"zerolinecolor\": \"white\", \"zerolinewidth\": 2}, \"yaxis\": {\"automargin\": true, \"gridcolor\": \"white\", \"linecolor\": \"white\", \"ticks\": \"\", \"title\": {\"standoff\": 15}, \"zerolinecolor\": \"white\", \"zerolinewidth\": 2}}}, \"width\": 600},                        {\"responsive\": true}                    ).then(function(){\n",
       "                            \n",
       "var gd = document.getElementById('b2b35a94-438a-49fa-a816-ea7f8858105f');\n",
       "var x = new MutationObserver(function (mutations, observer) {{\n",
       "        var display = window.getComputedStyle(gd).display;\n",
       "        if (!display || display === 'none') {{\n",
       "            console.log([gd, 'removed!']);\n",
       "            Plotly.purge(gd);\n",
       "            observer.disconnect();\n",
       "        }}\n",
       "}});\n",
       "\n",
       "// Listen for the removal of the full notebook cells\n",
       "var notebookContainer = gd.closest('#notebook-container');\n",
       "if (notebookContainer) {{\n",
       "    x.observe(notebookContainer, {childList: true});\n",
       "}}\n",
       "\n",
       "// Listen for the clearing of the current output cell\n",
       "var outputEl = gd.closest('.output');\n",
       "if (outputEl) {{\n",
       "    x.observe(outputEl, {childList: true});\n",
       "}}\n",
       "\n",
       "                        })                };                });            </script>        </div>"
      ]
     },
     "metadata": {},
     "output_type": "display_data"
    }
   ],
   "source": [
    "\n",
    "\n",
    "perc_change_df2 = perc_change_df.reset_index()\n",
    "\n",
    "perc_change_df2[\"color\"] = perc_change_df2['raw_decrease'].map(lambda p: \"red\" if p>0 else \"green\")\n",
    "\n",
    "\n",
    "col_to_show = [\"room_type_2\",'med_price_after', 'med_price_before', 'raw_decrease', 'perc_decrease']\n",
    "\n",
    "text_color = []\n",
    "n = len(perc_change_df2)\n",
    "for col in col_to_show:\n",
    "    if col!='raw_decrease' and col!= \"perc_decrease\":\n",
    "        text_color.append(['#808080'] * n)\n",
    "    else:\n",
    "        text_color.append(perc_change_df2[\"color\"].to_list())\n",
    "\n",
    "    \n",
    "header_text = ['<b>room<br>type</b>',\"<b>median<br>rent<br>before</b>\",\"<b>median<br>rent<br>after</b>\", \"<b>raw<br>difference</b>\", \"<b>percentage<br>change</b>\"]\n",
    "data=[go.Table(\n",
    "#     columnwidth = [15,20,30],\n",
    "    header=dict(values= header_text,\n",
    "                fill_color='#e3e3e3',\n",
    "                line_color='white',\n",
    "                align='center',\n",
    "                font=dict(color=\"#808080\", family=\"Lato\", size=15),\n",
    "                height=30\n",
    "                ),\n",
    "    cells=dict(values=pd.DataFrame(tdata[1:]).values.T,\n",
    "\n",
    "               #line_color='darkslategray',\n",
    "               align='left',\n",
    "               font=dict(color=text_color, family=\"Lato\", size=15),\n",
    "               fill_color = ['#f5f5f5'],\n",
    "               height=30\n",
    "               ))\n",
    "]\n",
    "\n",
    "fig = go.Figure(data=data)\n",
    "fig.update_layout(width=600, height=600)\n",
    "fig.show()"
   ]
  },
  {
   "cell_type": "code",
   "execution_count": 417,
   "metadata": {},
   "outputs": [
    {
     "data": {
      "text/plain": [
       "array([['1b1b', '2b1b', '2b2b', '3b2b'],\n",
       "       ['$521', '$630', '$730', '$1200'],\n",
       "       ['$425', '$460', '$600', '$950'],\n",
       "       ['$96', '$170', '$130', '$250'],\n",
       "       ['18.43 %', '26.98 %', '17.81 %', '20.83 %']], dtype=object)"
      ]
     },
     "execution_count": 417,
     "metadata": {},
     "output_type": "execute_result"
    }
   ],
   "source": [
    "pd.DataFrame(tdata[1:]).values.T"
   ]
  },
  {
   "cell_type": "markdown",
   "metadata": {},
   "source": [
    "### KNN to identify room types"
   ]
  },
  {
   "cell_type": "code",
   "execution_count": 31,
   "metadata": {},
   "outputs": [],
   "source": [
    "df = df_318_rus[(df_318_rus.bed==2) &(df_318_rus.bath==2)  & (df_318_rus.parking==0)]"
   ]
  },
  {
   "cell_type": "code",
   "execution_count": 179,
   "metadata": {
    "scrolled": true
   },
   "outputs": [
    {
     "data": {
      "text/html": [
       "<div>\n",
       "<style scoped>\n",
       "    .dataframe tbody tr th:only-of-type {\n",
       "        vertical-align: middle;\n",
       "    }\n",
       "\n",
       "    .dataframe tbody tr th {\n",
       "        vertical-align: top;\n",
       "    }\n",
       "\n",
       "    .dataframe thead th {\n",
       "        text-align: right;\n",
       "    }\n",
       "</style>\n",
       "<table border=\"1\" class=\"dataframe\">\n",
       "  <thead>\n",
       "    <tr style=\"text-align: right;\">\n",
       "      <th></th>\n",
       "      <th></th>\n",
       "      <th>len</th>\n",
       "      <th>min</th>\n",
       "      <th>max</th>\n",
       "    </tr>\n",
       "    <tr>\n",
       "      <th>time_split</th>\n",
       "      <th>room_type</th>\n",
       "      <th></th>\n",
       "      <th></th>\n",
       "      <th></th>\n",
       "    </tr>\n",
       "  </thead>\n",
       "  <tbody>\n",
       "    <tr>\n",
       "      <th rowspan=\"8\" valign=\"top\">after</th>\n",
       "      <th>1</th>\n",
       "      <td>6</td>\n",
       "      <td>490</td>\n",
       "      <td>660</td>\n",
       "    </tr>\n",
       "    <tr>\n",
       "      <th>10</th>\n",
       "      <td>3</td>\n",
       "      <td>580</td>\n",
       "      <td>700</td>\n",
       "    </tr>\n",
       "    <tr>\n",
       "      <th>2</th>\n",
       "      <td>5</td>\n",
       "      <td>650</td>\n",
       "      <td>800</td>\n",
       "    </tr>\n",
       "    <tr>\n",
       "      <th>3</th>\n",
       "      <td>3</td>\n",
       "      <td>580</td>\n",
       "      <td>600</td>\n",
       "    </tr>\n",
       "    <tr>\n",
       "      <th>4</th>\n",
       "      <td>3</td>\n",
       "      <td>450</td>\n",
       "      <td>650</td>\n",
       "    </tr>\n",
       "    <tr>\n",
       "      <th>7</th>\n",
       "      <td>2</td>\n",
       "      <td>520</td>\n",
       "      <td>670</td>\n",
       "    </tr>\n",
       "    <tr>\n",
       "      <th>8</th>\n",
       "      <td>1</td>\n",
       "      <td>550</td>\n",
       "      <td>550</td>\n",
       "    </tr>\n",
       "    <tr>\n",
       "      <th>9</th>\n",
       "      <td>5</td>\n",
       "      <td>560</td>\n",
       "      <td>680</td>\n",
       "    </tr>\n",
       "    <tr>\n",
       "      <th rowspan=\"10\" valign=\"top\">before</th>\n",
       "      <th>1</th>\n",
       "      <td>10</td>\n",
       "      <td>680</td>\n",
       "      <td>850</td>\n",
       "    </tr>\n",
       "    <tr>\n",
       "      <th>10</th>\n",
       "      <td>19</td>\n",
       "      <td>630</td>\n",
       "      <td>820</td>\n",
       "    </tr>\n",
       "    <tr>\n",
       "      <th>11</th>\n",
       "      <td>2</td>\n",
       "      <td>720</td>\n",
       "      <td>780</td>\n",
       "    </tr>\n",
       "    <tr>\n",
       "      <th>2</th>\n",
       "      <td>12</td>\n",
       "      <td>580</td>\n",
       "      <td>850</td>\n",
       "    </tr>\n",
       "    <tr>\n",
       "      <th>3</th>\n",
       "      <td>7</td>\n",
       "      <td>650</td>\n",
       "      <td>780</td>\n",
       "    </tr>\n",
       "    <tr>\n",
       "      <th>4</th>\n",
       "      <td>2</td>\n",
       "      <td>600</td>\n",
       "      <td>640</td>\n",
       "    </tr>\n",
       "    <tr>\n",
       "      <th>6</th>\n",
       "      <td>1</td>\n",
       "      <td>720</td>\n",
       "      <td>720</td>\n",
       "    </tr>\n",
       "    <tr>\n",
       "      <th>7</th>\n",
       "      <td>2</td>\n",
       "      <td>652</td>\n",
       "      <td>690</td>\n",
       "    </tr>\n",
       "    <tr>\n",
       "      <th>8</th>\n",
       "      <td>9</td>\n",
       "      <td>650</td>\n",
       "      <td>780</td>\n",
       "    </tr>\n",
       "    <tr>\n",
       "      <th>9</th>\n",
       "      <td>9</td>\n",
       "      <td>700</td>\n",
       "      <td>900</td>\n",
       "    </tr>\n",
       "  </tbody>\n",
       "</table>\n",
       "</div>"
      ],
      "text/plain": [
       "                      len  min  max\n",
       "time_split room_type               \n",
       "after      1            6  490  660\n",
       "           10           3  580  700\n",
       "           2            5  650  800\n",
       "           3            3  580  600\n",
       "           4            3  450  650\n",
       "           7            2  520  670\n",
       "           8            1  550  550\n",
       "           9            5  560  680\n",
       "before     1           10  680  850\n",
       "           10          19  630  820\n",
       "           11           2  720  780\n",
       "           2           12  580  850\n",
       "           3            7  650  780\n",
       "           4            2  600  640\n",
       "           6            1  720  720\n",
       "           7            2  652  690\n",
       "           8            9  650  780\n",
       "           9            9  700  900"
      ]
     },
     "execution_count": 179,
     "metadata": {},
     "output_type": "execute_result"
    }
   ],
   "source": [
    "notypes =2 \n",
    "df.groupby([ \"time_split\",\"room_type\"]).price.agg([len, min,max])"
   ]
  },
  {
   "cell_type": "code",
   "execution_count": 35,
   "metadata": {},
   "outputs": [
    {
     "data": {
      "text/html": [
       "<div>\n",
       "<style scoped>\n",
       "    .dataframe tbody tr th:only-of-type {\n",
       "        vertical-align: middle;\n",
       "    }\n",
       "\n",
       "    .dataframe tbody tr th {\n",
       "        vertical-align: top;\n",
       "    }\n",
       "\n",
       "    .dataframe thead th {\n",
       "        text-align: right;\n",
       "    }\n",
       "</style>\n",
       "<table border=\"1\" class=\"dataframe\">\n",
       "  <thead>\n",
       "    <tr style=\"text-align: right;\">\n",
       "      <th></th>\n",
       "      <th>building_name</th>\n",
       "      <th>room_no</th>\n",
       "      <th>price</th>\n",
       "      <th>date</th>\n",
       "      <th>bed</th>\n",
       "      <th>bath</th>\n",
       "      <th>parking</th>\n",
       "      <th>room_type</th>\n",
       "      <th>level</th>\n",
       "    </tr>\n",
       "  </thead>\n",
       "  <tbody>\n",
       "    <tr>\n",
       "      <th>0</th>\n",
       "      <td>318-russell-street-melbourne-vic-3000</td>\n",
       "      <td>2606</td>\n",
       "      <td>380</td>\n",
       "      <td>2021-03-03</td>\n",
       "      <td>1</td>\n",
       "      <td>1</td>\n",
       "      <td>0</td>\n",
       "      <td>6</td>\n",
       "      <td>26</td>\n",
       "    </tr>\n",
       "  </tbody>\n",
       "</table>\n",
       "</div>"
      ],
      "text/plain": [
       "                           building_name  room_no  price       date  bed  \\\n",
       "0  318-russell-street-melbourne-vic-3000     2606    380 2021-03-03    1   \n",
       "\n",
       "   bath  parking room_type  level  \n",
       "0     1        0         6     26  "
      ]
     },
     "execution_count": 35,
     "metadata": {},
     "output_type": "execute_result"
    }
   ],
   "source": [
    "df_318_rus[df_318_rus.room_no == 2606]"
   ]
  },
  {
   "cell_type": "code",
   "execution_count": 171,
   "metadata": {},
   "outputs": [
    {
     "data": {
      "text/html": [
       "<div>\n",
       "<style scoped>\n",
       "    .dataframe tbody tr th:only-of-type {\n",
       "        vertical-align: middle;\n",
       "    }\n",
       "\n",
       "    .dataframe tbody tr th {\n",
       "        vertical-align: top;\n",
       "    }\n",
       "\n",
       "    .dataframe thead th {\n",
       "        text-align: right;\n",
       "    }\n",
       "</style>\n",
       "<table border=\"1\" class=\"dataframe\">\n",
       "  <thead>\n",
       "    <tr style=\"text-align: right;\">\n",
       "      <th></th>\n",
       "      <th>building_name</th>\n",
       "      <th>room_no</th>\n",
       "      <th>price</th>\n",
       "      <th>date</th>\n",
       "      <th>bed</th>\n",
       "      <th>bath</th>\n",
       "      <th>parking</th>\n",
       "      <th>room_type</th>\n",
       "      <th>level</th>\n",
       "      <th>time_split</th>\n",
       "    </tr>\n",
       "  </thead>\n",
       "  <tbody>\n",
       "  </tbody>\n",
       "</table>\n",
       "</div>"
      ],
      "text/plain": [
       "Empty DataFrame\n",
       "Columns: [building_name, room_no, price, date, bed, bath, parking, room_type, level, time_split]\n",
       "Index: []"
      ]
     },
     "execution_count": 171,
     "metadata": {},
     "output_type": "execute_result"
    }
   ],
   "source": [
    "df[df.room_type ==10]"
   ]
  },
  {
   "cell_type": "code",
   "execution_count": 177,
   "metadata": {},
   "outputs": [
    {
     "data": {
      "application/vnd.plotly.v1+json": {
       "config": {
        "plotlyServerURL": "https://plot.ly"
       },
       "data": [
        {
         "hovertemplate": "date=2021-02-10 00:00:00<br>level=%{x}<br>price=%{y}<extra></extra>",
         "legendgroup": "2021-02-10 00:00:00",
         "marker": {
          "color": "#FF97FF",
          "symbol": "circle"
         },
         "mode": "markers",
         "name": "2021-02-10 00:00:00",
         "orientation": "v",
         "showlegend": true,
         "type": "scatter",
         "x": [
          19,
          45
         ],
         "xaxis": "x",
         "y": [
          580,
          620
         ],
         "yaxis": "y"
        },
        {
         "hovertemplate": "date=2020-04-15 00:00:00<br>level=%{x}<br>price=%{y}<extra></extra>",
         "legendgroup": "2020-04-15 00:00:00",
         "marker": {
          "color": "#FECB52",
          "symbol": "circle"
         },
         "mode": "markers",
         "name": "2020-04-15 00:00:00",
         "orientation": "v",
         "showlegend": true,
         "type": "scatter",
         "x": [
          38
         ],
         "xaxis": "x",
         "y": [
          700
         ],
         "yaxis": "y"
        },
        {
         "hovertemplate": "date=2020-01-16 00:00:00<br>level=%{x}<br>price=%{y}<extra></extra>",
         "legendgroup": "2020-01-16 00:00:00",
         "marker": {
          "color": "#636efa",
          "symbol": "circle"
         },
         "mode": "markers",
         "name": "2020-01-16 00:00:00",
         "orientation": "v",
         "showlegend": true,
         "type": "scatter",
         "x": [
          11
         ],
         "xaxis": "x",
         "y": [
          820
         ],
         "yaxis": "y"
        },
        {
         "hovertemplate": "date=2019-11-01 00:00:00<br>level=%{x}<br>price=%{y}<extra></extra>",
         "legendgroup": "2019-11-01 00:00:00",
         "marker": {
          "color": "#EF553B",
          "symbol": "circle"
         },
         "mode": "markers",
         "name": "2019-11-01 00:00:00",
         "orientation": "v",
         "showlegend": true,
         "type": "scatter",
         "x": [
          31
         ],
         "xaxis": "x",
         "y": [
          700
         ],
         "yaxis": "y"
        },
        {
         "hovertemplate": "date=2019-01-23 00:00:00<br>level=%{x}<br>price=%{y}<extra></extra>",
         "legendgroup": "2019-01-23 00:00:00",
         "marker": {
          "color": "#00cc96",
          "symbol": "circle"
         },
         "mode": "markers",
         "name": "2019-01-23 00:00:00",
         "orientation": "v",
         "showlegend": true,
         "type": "scatter",
         "x": [
          34,
          17
         ],
         "xaxis": "x",
         "y": [
          720,
          730
         ],
         "yaxis": "y"
        },
        {
         "hovertemplate": "date=2019-01-10 00:00:00<br>level=%{x}<br>price=%{y}<extra></extra>",
         "legendgroup": "2019-01-10 00:00:00",
         "marker": {
          "color": "#ab63fa",
          "symbol": "circle"
         },
         "mode": "markers",
         "name": "2019-01-10 00:00:00",
         "orientation": "v",
         "showlegend": true,
         "type": "scatter",
         "x": [
          25
         ],
         "xaxis": "x",
         "y": [
          810
         ],
         "yaxis": "y"
        },
        {
         "hovertemplate": "date=2019-01-09 00:00:00<br>level=%{x}<br>price=%{y}<extra></extra>",
         "legendgroup": "2019-01-09 00:00:00",
         "marker": {
          "color": "#FFA15A",
          "symbol": "circle"
         },
         "mode": "markers",
         "name": "2019-01-09 00:00:00",
         "orientation": "v",
         "showlegend": true,
         "type": "scatter",
         "x": [
          29,
          47
         ],
         "xaxis": "x",
         "y": [
          730,
          820
         ],
         "yaxis": "y"
        },
        {
         "hovertemplate": "date=2018-08-22 00:00:00<br>level=%{x}<br>price=%{y}<extra></extra>",
         "legendgroup": "2018-08-22 00:00:00",
         "marker": {
          "color": "#19d3f3",
          "symbol": "circle"
         },
         "mode": "markers",
         "name": "2018-08-22 00:00:00",
         "orientation": "v",
         "showlegend": true,
         "type": "scatter",
         "x": [
          26
         ],
         "xaxis": "x",
         "y": [
          800
         ],
         "yaxis": "y"
        },
        {
         "hovertemplate": "date=2018-07-18 00:00:00<br>level=%{x}<br>price=%{y}<extra></extra>",
         "legendgroup": "2018-07-18 00:00:00",
         "marker": {
          "color": "#FF6692",
          "symbol": "circle"
         },
         "mode": "markers",
         "name": "2018-07-18 00:00:00",
         "orientation": "v",
         "showlegend": true,
         "type": "scatter",
         "x": [
          21,
          28
         ],
         "xaxis": "x",
         "y": [
          780,
          730
         ],
         "yaxis": "y"
        },
        {
         "hovertemplate": "date=2018-02-02 00:00:00<br>level=%{x}<br>price=%{y}<extra></extra>",
         "legendgroup": "2018-02-02 00:00:00",
         "marker": {
          "color": "#B6E880",
          "symbol": "circle"
         },
         "mode": "markers",
         "name": "2018-02-02 00:00:00",
         "orientation": "v",
         "showlegend": true,
         "type": "scatter",
         "x": [
          42
         ],
         "xaxis": "x",
         "y": [
          800
         ],
         "yaxis": "y"
        },
        {
         "hovertemplate": "date=2017-06-08 00:00:00<br>level=%{x}<br>price=%{y}<extra></extra>",
         "legendgroup": "2017-06-08 00:00:00",
         "marker": {
          "color": "#FF97FF",
          "symbol": "circle"
         },
         "mode": "markers",
         "name": "2017-06-08 00:00:00",
         "orientation": "v",
         "showlegend": true,
         "type": "scatter",
         "x": [
          37
         ],
         "xaxis": "x",
         "y": [
          720
         ],
         "yaxis": "y"
        },
        {
         "hovertemplate": "date=2017-02-12 00:00:00<br>level=%{x}<br>price=%{y}<extra></extra>",
         "legendgroup": "2017-02-12 00:00:00",
         "marker": {
          "color": "#FECB52",
          "symbol": "circle"
         },
         "mode": "markers",
         "name": "2017-02-12 00:00:00",
         "orientation": "v",
         "showlegend": true,
         "type": "scatter",
         "x": [
          43
         ],
         "xaxis": "x",
         "y": [
          740
         ],
         "yaxis": "y"
        },
        {
         "hovertemplate": "date=2016-11-13 00:00:00<br>level=%{x}<br>price=%{y}<extra></extra>",
         "legendgroup": "2016-11-13 00:00:00",
         "marker": {
          "color": "#636efa",
          "symbol": "circle"
         },
         "mode": "markers",
         "name": "2016-11-13 00:00:00",
         "orientation": "v",
         "showlegend": true,
         "type": "scatter",
         "x": [
          32
         ],
         "xaxis": "x",
         "y": [
          690
         ],
         "yaxis": "y"
        },
        {
         "hovertemplate": "date=2016-08-19 00:00:00<br>level=%{x}<br>price=%{y}<extra></extra>",
         "legendgroup": "2016-08-19 00:00:00",
         "marker": {
          "color": "#EF553B",
          "symbol": "circle"
         },
         "mode": "markers",
         "name": "2016-08-19 00:00:00",
         "orientation": "v",
         "showlegend": true,
         "type": "scatter",
         "x": [
          36
         ],
         "xaxis": "x",
         "y": [
          800
         ],
         "yaxis": "y"
        },
        {
         "hovertemplate": "date=2016-08-17 00:00:00<br>level=%{x}<br>price=%{y}<extra></extra>",
         "legendgroup": "2016-08-17 00:00:00",
         "marker": {
          "color": "#00cc96",
          "symbol": "circle"
         },
         "mode": "markers",
         "name": "2016-08-17 00:00:00",
         "orientation": "v",
         "showlegend": true,
         "type": "scatter",
         "x": [
          41
         ],
         "xaxis": "x",
         "y": [
          750
         ],
         "yaxis": "y"
        },
        {
         "hovertemplate": "date=2016-07-22 00:00:00<br>level=%{x}<br>price=%{y}<extra></extra>",
         "legendgroup": "2016-07-22 00:00:00",
         "marker": {
          "color": "#ab63fa",
          "symbol": "circle"
         },
         "mode": "markers",
         "name": "2016-07-22 00:00:00",
         "orientation": "v",
         "showlegend": true,
         "type": "scatter",
         "x": [
          33
         ],
         "xaxis": "x",
         "y": [
          750
         ],
         "yaxis": "y"
        },
        {
         "hovertemplate": "date=2016-03-16 00:00:00<br>level=%{x}<br>price=%{y}<extra></extra>",
         "legendgroup": "2016-03-16 00:00:00",
         "marker": {
          "color": "#FFA15A",
          "symbol": "circle"
         },
         "mode": "markers",
         "name": "2016-03-16 00:00:00",
         "orientation": "v",
         "showlegend": true,
         "type": "scatter",
         "x": [
          23
         ],
         "xaxis": "x",
         "y": [
          800
         ],
         "yaxis": "y"
        },
        {
         "hovertemplate": "date=2014-12-31 00:00:00<br>level=%{x}<br>price=%{y}<extra></extra>",
         "legendgroup": "2014-12-31 00:00:00",
         "marker": {
          "color": "#19d3f3",
          "symbol": "circle"
         },
         "mode": "markers",
         "name": "2014-12-31 00:00:00",
         "orientation": "v",
         "showlegend": true,
         "type": "scatter",
         "x": [
          20
         ],
         "xaxis": "x",
         "y": [
          630
         ],
         "yaxis": "y"
        }
       ],
       "layout": {
        "height": 400,
        "legend": {
         "title": {
          "text": "date"
         },
         "tracegroupgap": 0
        },
        "margin": {
         "t": 60
        },
        "template": {
         "data": {
          "bar": [
           {
            "error_x": {
             "color": "#2a3f5f"
            },
            "error_y": {
             "color": "#2a3f5f"
            },
            "marker": {
             "line": {
              "color": "#E5ECF6",
              "width": 0.5
             }
            },
            "type": "bar"
           }
          ],
          "barpolar": [
           {
            "marker": {
             "line": {
              "color": "#E5ECF6",
              "width": 0.5
             }
            },
            "type": "barpolar"
           }
          ],
          "carpet": [
           {
            "aaxis": {
             "endlinecolor": "#2a3f5f",
             "gridcolor": "white",
             "linecolor": "white",
             "minorgridcolor": "white",
             "startlinecolor": "#2a3f5f"
            },
            "baxis": {
             "endlinecolor": "#2a3f5f",
             "gridcolor": "white",
             "linecolor": "white",
             "minorgridcolor": "white",
             "startlinecolor": "#2a3f5f"
            },
            "type": "carpet"
           }
          ],
          "choropleth": [
           {
            "colorbar": {
             "outlinewidth": 0,
             "ticks": ""
            },
            "type": "choropleth"
           }
          ],
          "contour": [
           {
            "colorbar": {
             "outlinewidth": 0,
             "ticks": ""
            },
            "colorscale": [
             [
              0,
              "#0d0887"
             ],
             [
              0.1111111111111111,
              "#46039f"
             ],
             [
              0.2222222222222222,
              "#7201a8"
             ],
             [
              0.3333333333333333,
              "#9c179e"
             ],
             [
              0.4444444444444444,
              "#bd3786"
             ],
             [
              0.5555555555555556,
              "#d8576b"
             ],
             [
              0.6666666666666666,
              "#ed7953"
             ],
             [
              0.7777777777777778,
              "#fb9f3a"
             ],
             [
              0.8888888888888888,
              "#fdca26"
             ],
             [
              1,
              "#f0f921"
             ]
            ],
            "type": "contour"
           }
          ],
          "contourcarpet": [
           {
            "colorbar": {
             "outlinewidth": 0,
             "ticks": ""
            },
            "type": "contourcarpet"
           }
          ],
          "heatmap": [
           {
            "colorbar": {
             "outlinewidth": 0,
             "ticks": ""
            },
            "colorscale": [
             [
              0,
              "#0d0887"
             ],
             [
              0.1111111111111111,
              "#46039f"
             ],
             [
              0.2222222222222222,
              "#7201a8"
             ],
             [
              0.3333333333333333,
              "#9c179e"
             ],
             [
              0.4444444444444444,
              "#bd3786"
             ],
             [
              0.5555555555555556,
              "#d8576b"
             ],
             [
              0.6666666666666666,
              "#ed7953"
             ],
             [
              0.7777777777777778,
              "#fb9f3a"
             ],
             [
              0.8888888888888888,
              "#fdca26"
             ],
             [
              1,
              "#f0f921"
             ]
            ],
            "type": "heatmap"
           }
          ],
          "heatmapgl": [
           {
            "colorbar": {
             "outlinewidth": 0,
             "ticks": ""
            },
            "colorscale": [
             [
              0,
              "#0d0887"
             ],
             [
              0.1111111111111111,
              "#46039f"
             ],
             [
              0.2222222222222222,
              "#7201a8"
             ],
             [
              0.3333333333333333,
              "#9c179e"
             ],
             [
              0.4444444444444444,
              "#bd3786"
             ],
             [
              0.5555555555555556,
              "#d8576b"
             ],
             [
              0.6666666666666666,
              "#ed7953"
             ],
             [
              0.7777777777777778,
              "#fb9f3a"
             ],
             [
              0.8888888888888888,
              "#fdca26"
             ],
             [
              1,
              "#f0f921"
             ]
            ],
            "type": "heatmapgl"
           }
          ],
          "histogram": [
           {
            "marker": {
             "colorbar": {
              "outlinewidth": 0,
              "ticks": ""
             }
            },
            "type": "histogram"
           }
          ],
          "histogram2d": [
           {
            "colorbar": {
             "outlinewidth": 0,
             "ticks": ""
            },
            "colorscale": [
             [
              0,
              "#0d0887"
             ],
             [
              0.1111111111111111,
              "#46039f"
             ],
             [
              0.2222222222222222,
              "#7201a8"
             ],
             [
              0.3333333333333333,
              "#9c179e"
             ],
             [
              0.4444444444444444,
              "#bd3786"
             ],
             [
              0.5555555555555556,
              "#d8576b"
             ],
             [
              0.6666666666666666,
              "#ed7953"
             ],
             [
              0.7777777777777778,
              "#fb9f3a"
             ],
             [
              0.8888888888888888,
              "#fdca26"
             ],
             [
              1,
              "#f0f921"
             ]
            ],
            "type": "histogram2d"
           }
          ],
          "histogram2dcontour": [
           {
            "colorbar": {
             "outlinewidth": 0,
             "ticks": ""
            },
            "colorscale": [
             [
              0,
              "#0d0887"
             ],
             [
              0.1111111111111111,
              "#46039f"
             ],
             [
              0.2222222222222222,
              "#7201a8"
             ],
             [
              0.3333333333333333,
              "#9c179e"
             ],
             [
              0.4444444444444444,
              "#bd3786"
             ],
             [
              0.5555555555555556,
              "#d8576b"
             ],
             [
              0.6666666666666666,
              "#ed7953"
             ],
             [
              0.7777777777777778,
              "#fb9f3a"
             ],
             [
              0.8888888888888888,
              "#fdca26"
             ],
             [
              1,
              "#f0f921"
             ]
            ],
            "type": "histogram2dcontour"
           }
          ],
          "mesh3d": [
           {
            "colorbar": {
             "outlinewidth": 0,
             "ticks": ""
            },
            "type": "mesh3d"
           }
          ],
          "parcoords": [
           {
            "line": {
             "colorbar": {
              "outlinewidth": 0,
              "ticks": ""
             }
            },
            "type": "parcoords"
           }
          ],
          "pie": [
           {
            "automargin": true,
            "type": "pie"
           }
          ],
          "scatter": [
           {
            "marker": {
             "colorbar": {
              "outlinewidth": 0,
              "ticks": ""
             }
            },
            "type": "scatter"
           }
          ],
          "scatter3d": [
           {
            "line": {
             "colorbar": {
              "outlinewidth": 0,
              "ticks": ""
             }
            },
            "marker": {
             "colorbar": {
              "outlinewidth": 0,
              "ticks": ""
             }
            },
            "type": "scatter3d"
           }
          ],
          "scattercarpet": [
           {
            "marker": {
             "colorbar": {
              "outlinewidth": 0,
              "ticks": ""
             }
            },
            "type": "scattercarpet"
           }
          ],
          "scattergeo": [
           {
            "marker": {
             "colorbar": {
              "outlinewidth": 0,
              "ticks": ""
             }
            },
            "type": "scattergeo"
           }
          ],
          "scattergl": [
           {
            "marker": {
             "colorbar": {
              "outlinewidth": 0,
              "ticks": ""
             }
            },
            "type": "scattergl"
           }
          ],
          "scattermapbox": [
           {
            "marker": {
             "colorbar": {
              "outlinewidth": 0,
              "ticks": ""
             }
            },
            "type": "scattermapbox"
           }
          ],
          "scatterpolar": [
           {
            "marker": {
             "colorbar": {
              "outlinewidth": 0,
              "ticks": ""
             }
            },
            "type": "scatterpolar"
           }
          ],
          "scatterpolargl": [
           {
            "marker": {
             "colorbar": {
              "outlinewidth": 0,
              "ticks": ""
             }
            },
            "type": "scatterpolargl"
           }
          ],
          "scatterternary": [
           {
            "marker": {
             "colorbar": {
              "outlinewidth": 0,
              "ticks": ""
             }
            },
            "type": "scatterternary"
           }
          ],
          "surface": [
           {
            "colorbar": {
             "outlinewidth": 0,
             "ticks": ""
            },
            "colorscale": [
             [
              0,
              "#0d0887"
             ],
             [
              0.1111111111111111,
              "#46039f"
             ],
             [
              0.2222222222222222,
              "#7201a8"
             ],
             [
              0.3333333333333333,
              "#9c179e"
             ],
             [
              0.4444444444444444,
              "#bd3786"
             ],
             [
              0.5555555555555556,
              "#d8576b"
             ],
             [
              0.6666666666666666,
              "#ed7953"
             ],
             [
              0.7777777777777778,
              "#fb9f3a"
             ],
             [
              0.8888888888888888,
              "#fdca26"
             ],
             [
              1,
              "#f0f921"
             ]
            ],
            "type": "surface"
           }
          ],
          "table": [
           {
            "cells": {
             "fill": {
              "color": "#EBF0F8"
             },
             "line": {
              "color": "white"
             }
            },
            "header": {
             "fill": {
              "color": "#C8D4E3"
             },
             "line": {
              "color": "white"
             }
            },
            "type": "table"
           }
          ]
         },
         "layout": {
          "annotationdefaults": {
           "arrowcolor": "#2a3f5f",
           "arrowhead": 0,
           "arrowwidth": 1
          },
          "autotypenumbers": "strict",
          "coloraxis": {
           "colorbar": {
            "outlinewidth": 0,
            "ticks": ""
           }
          },
          "colorscale": {
           "diverging": [
            [
             0,
             "#8e0152"
            ],
            [
             0.1,
             "#c51b7d"
            ],
            [
             0.2,
             "#de77ae"
            ],
            [
             0.3,
             "#f1b6da"
            ],
            [
             0.4,
             "#fde0ef"
            ],
            [
             0.5,
             "#f7f7f7"
            ],
            [
             0.6,
             "#e6f5d0"
            ],
            [
             0.7,
             "#b8e186"
            ],
            [
             0.8,
             "#7fbc41"
            ],
            [
             0.9,
             "#4d9221"
            ],
            [
             1,
             "#276419"
            ]
           ],
           "sequential": [
            [
             0,
             "#0d0887"
            ],
            [
             0.1111111111111111,
             "#46039f"
            ],
            [
             0.2222222222222222,
             "#7201a8"
            ],
            [
             0.3333333333333333,
             "#9c179e"
            ],
            [
             0.4444444444444444,
             "#bd3786"
            ],
            [
             0.5555555555555556,
             "#d8576b"
            ],
            [
             0.6666666666666666,
             "#ed7953"
            ],
            [
             0.7777777777777778,
             "#fb9f3a"
            ],
            [
             0.8888888888888888,
             "#fdca26"
            ],
            [
             1,
             "#f0f921"
            ]
           ],
           "sequentialminus": [
            [
             0,
             "#0d0887"
            ],
            [
             0.1111111111111111,
             "#46039f"
            ],
            [
             0.2222222222222222,
             "#7201a8"
            ],
            [
             0.3333333333333333,
             "#9c179e"
            ],
            [
             0.4444444444444444,
             "#bd3786"
            ],
            [
             0.5555555555555556,
             "#d8576b"
            ],
            [
             0.6666666666666666,
             "#ed7953"
            ],
            [
             0.7777777777777778,
             "#fb9f3a"
            ],
            [
             0.8888888888888888,
             "#fdca26"
            ],
            [
             1,
             "#f0f921"
            ]
           ]
          },
          "colorway": [
           "#636efa",
           "#EF553B",
           "#00cc96",
           "#ab63fa",
           "#FFA15A",
           "#19d3f3",
           "#FF6692",
           "#B6E880",
           "#FF97FF",
           "#FECB52"
          ],
          "font": {
           "color": "#2a3f5f"
          },
          "geo": {
           "bgcolor": "white",
           "lakecolor": "white",
           "landcolor": "#E5ECF6",
           "showlakes": true,
           "showland": true,
           "subunitcolor": "white"
          },
          "hoverlabel": {
           "align": "left"
          },
          "hovermode": "closest",
          "mapbox": {
           "style": "light"
          },
          "paper_bgcolor": "white",
          "plot_bgcolor": "#E5ECF6",
          "polar": {
           "angularaxis": {
            "gridcolor": "white",
            "linecolor": "white",
            "ticks": ""
           },
           "bgcolor": "#E5ECF6",
           "radialaxis": {
            "gridcolor": "white",
            "linecolor": "white",
            "ticks": ""
           }
          },
          "scene": {
           "xaxis": {
            "backgroundcolor": "#E5ECF6",
            "gridcolor": "white",
            "gridwidth": 2,
            "linecolor": "white",
            "showbackground": true,
            "ticks": "",
            "zerolinecolor": "white"
           },
           "yaxis": {
            "backgroundcolor": "#E5ECF6",
            "gridcolor": "white",
            "gridwidth": 2,
            "linecolor": "white",
            "showbackground": true,
            "ticks": "",
            "zerolinecolor": "white"
           },
           "zaxis": {
            "backgroundcolor": "#E5ECF6",
            "gridcolor": "white",
            "gridwidth": 2,
            "linecolor": "white",
            "showbackground": true,
            "ticks": "",
            "zerolinecolor": "white"
           }
          },
          "shapedefaults": {
           "line": {
            "color": "#2a3f5f"
           }
          },
          "ternary": {
           "aaxis": {
            "gridcolor": "white",
            "linecolor": "white",
            "ticks": ""
           },
           "baxis": {
            "gridcolor": "white",
            "linecolor": "white",
            "ticks": ""
           },
           "bgcolor": "#E5ECF6",
           "caxis": {
            "gridcolor": "white",
            "linecolor": "white",
            "ticks": ""
           }
          },
          "title": {
           "x": 0.05
          },
          "xaxis": {
           "automargin": true,
           "gridcolor": "white",
           "linecolor": "white",
           "ticks": "",
           "title": {
            "standoff": 15
           },
           "zerolinecolor": "white",
           "zerolinewidth": 2
          },
          "yaxis": {
           "automargin": true,
           "gridcolor": "white",
           "linecolor": "white",
           "ticks": "",
           "title": {
            "standoff": 15
           },
           "zerolinecolor": "white",
           "zerolinewidth": 2
          }
         }
        },
        "width": 700,
        "xaxis": {
         "anchor": "y",
         "domain": [
          0,
          1
         ],
         "title": {
          "text": "level"
         }
        },
        "yaxis": {
         "anchor": "x",
         "domain": [
          0,
          1
         ],
         "title": {
          "text": "price"
         }
        }
       }
      },
      "text/html": [
       "<div>                            <div id=\"9ccf5cc4-d644-4ca8-aabb-7da6a7eb5b5e\" class=\"plotly-graph-div\" style=\"height:400px; width:700px;\"></div>            <script type=\"text/javascript\">                require([\"plotly\"], function(Plotly) {                    window.PLOTLYENV=window.PLOTLYENV || {};                                    if (document.getElementById(\"9ccf5cc4-d644-4ca8-aabb-7da6a7eb5b5e\")) {                    Plotly.newPlot(                        \"9ccf5cc4-d644-4ca8-aabb-7da6a7eb5b5e\",                        [{\"hovertemplate\": \"date=2021-02-10 00:00:00<br>level=%{x}<br>price=%{y}<extra></extra>\", \"legendgroup\": \"2021-02-10 00:00:00\", \"marker\": {\"color\": \"#FF97FF\", \"symbol\": \"circle\"}, \"mode\": \"markers\", \"name\": \"2021-02-10 00:00:00\", \"orientation\": \"v\", \"showlegend\": true, \"type\": \"scatter\", \"x\": [19, 45], \"xaxis\": \"x\", \"y\": [580, 620], \"yaxis\": \"y\"}, {\"hovertemplate\": \"date=2020-04-15 00:00:00<br>level=%{x}<br>price=%{y}<extra></extra>\", \"legendgroup\": \"2020-04-15 00:00:00\", \"marker\": {\"color\": \"#FECB52\", \"symbol\": \"circle\"}, \"mode\": \"markers\", \"name\": \"2020-04-15 00:00:00\", \"orientation\": \"v\", \"showlegend\": true, \"type\": \"scatter\", \"x\": [38], \"xaxis\": \"x\", \"y\": [700], \"yaxis\": \"y\"}, {\"hovertemplate\": \"date=2020-01-16 00:00:00<br>level=%{x}<br>price=%{y}<extra></extra>\", \"legendgroup\": \"2020-01-16 00:00:00\", \"marker\": {\"color\": \"#636efa\", \"symbol\": \"circle\"}, \"mode\": \"markers\", \"name\": \"2020-01-16 00:00:00\", \"orientation\": \"v\", \"showlegend\": true, \"type\": \"scatter\", \"x\": [11], \"xaxis\": \"x\", \"y\": [820], \"yaxis\": \"y\"}, {\"hovertemplate\": \"date=2019-11-01 00:00:00<br>level=%{x}<br>price=%{y}<extra></extra>\", \"legendgroup\": \"2019-11-01 00:00:00\", \"marker\": {\"color\": \"#EF553B\", \"symbol\": \"circle\"}, \"mode\": \"markers\", \"name\": \"2019-11-01 00:00:00\", \"orientation\": \"v\", \"showlegend\": true, \"type\": \"scatter\", \"x\": [31], \"xaxis\": \"x\", \"y\": [700], \"yaxis\": \"y\"}, {\"hovertemplate\": \"date=2019-01-23 00:00:00<br>level=%{x}<br>price=%{y}<extra></extra>\", \"legendgroup\": \"2019-01-23 00:00:00\", \"marker\": {\"color\": \"#00cc96\", \"symbol\": \"circle\"}, \"mode\": \"markers\", \"name\": \"2019-01-23 00:00:00\", \"orientation\": \"v\", \"showlegend\": true, \"type\": \"scatter\", \"x\": [34, 17], \"xaxis\": \"x\", \"y\": [720, 730], \"yaxis\": \"y\"}, {\"hovertemplate\": \"date=2019-01-10 00:00:00<br>level=%{x}<br>price=%{y}<extra></extra>\", \"legendgroup\": \"2019-01-10 00:00:00\", \"marker\": {\"color\": \"#ab63fa\", \"symbol\": \"circle\"}, \"mode\": \"markers\", \"name\": \"2019-01-10 00:00:00\", \"orientation\": \"v\", \"showlegend\": true, \"type\": \"scatter\", \"x\": [25], \"xaxis\": \"x\", \"y\": [810], \"yaxis\": \"y\"}, {\"hovertemplate\": \"date=2019-01-09 00:00:00<br>level=%{x}<br>price=%{y}<extra></extra>\", \"legendgroup\": \"2019-01-09 00:00:00\", \"marker\": {\"color\": \"#FFA15A\", \"symbol\": \"circle\"}, \"mode\": \"markers\", \"name\": \"2019-01-09 00:00:00\", \"orientation\": \"v\", \"showlegend\": true, \"type\": \"scatter\", \"x\": [29, 47], \"xaxis\": \"x\", \"y\": [730, 820], \"yaxis\": \"y\"}, {\"hovertemplate\": \"date=2018-08-22 00:00:00<br>level=%{x}<br>price=%{y}<extra></extra>\", \"legendgroup\": \"2018-08-22 00:00:00\", \"marker\": {\"color\": \"#19d3f3\", \"symbol\": \"circle\"}, \"mode\": \"markers\", \"name\": \"2018-08-22 00:00:00\", \"orientation\": \"v\", \"showlegend\": true, \"type\": \"scatter\", \"x\": [26], \"xaxis\": \"x\", \"y\": [800], \"yaxis\": \"y\"}, {\"hovertemplate\": \"date=2018-07-18 00:00:00<br>level=%{x}<br>price=%{y}<extra></extra>\", \"legendgroup\": \"2018-07-18 00:00:00\", \"marker\": {\"color\": \"#FF6692\", \"symbol\": \"circle\"}, \"mode\": \"markers\", \"name\": \"2018-07-18 00:00:00\", \"orientation\": \"v\", \"showlegend\": true, \"type\": \"scatter\", \"x\": [21, 28], \"xaxis\": \"x\", \"y\": [780, 730], \"yaxis\": \"y\"}, {\"hovertemplate\": \"date=2018-02-02 00:00:00<br>level=%{x}<br>price=%{y}<extra></extra>\", \"legendgroup\": \"2018-02-02 00:00:00\", \"marker\": {\"color\": \"#B6E880\", \"symbol\": \"circle\"}, \"mode\": \"markers\", \"name\": \"2018-02-02 00:00:00\", \"orientation\": \"v\", \"showlegend\": true, \"type\": \"scatter\", \"x\": [42], \"xaxis\": \"x\", \"y\": [800], \"yaxis\": \"y\"}, {\"hovertemplate\": \"date=2017-06-08 00:00:00<br>level=%{x}<br>price=%{y}<extra></extra>\", \"legendgroup\": \"2017-06-08 00:00:00\", \"marker\": {\"color\": \"#FF97FF\", \"symbol\": \"circle\"}, \"mode\": \"markers\", \"name\": \"2017-06-08 00:00:00\", \"orientation\": \"v\", \"showlegend\": true, \"type\": \"scatter\", \"x\": [37], \"xaxis\": \"x\", \"y\": [720], \"yaxis\": \"y\"}, {\"hovertemplate\": \"date=2017-02-12 00:00:00<br>level=%{x}<br>price=%{y}<extra></extra>\", \"legendgroup\": \"2017-02-12 00:00:00\", \"marker\": {\"color\": \"#FECB52\", \"symbol\": \"circle\"}, \"mode\": \"markers\", \"name\": \"2017-02-12 00:00:00\", \"orientation\": \"v\", \"showlegend\": true, \"type\": \"scatter\", \"x\": [43], \"xaxis\": \"x\", \"y\": [740], \"yaxis\": \"y\"}, {\"hovertemplate\": \"date=2016-11-13 00:00:00<br>level=%{x}<br>price=%{y}<extra></extra>\", \"legendgroup\": \"2016-11-13 00:00:00\", \"marker\": {\"color\": \"#636efa\", \"symbol\": \"circle\"}, \"mode\": \"markers\", \"name\": \"2016-11-13 00:00:00\", \"orientation\": \"v\", \"showlegend\": true, \"type\": \"scatter\", \"x\": [32], \"xaxis\": \"x\", \"y\": [690], \"yaxis\": \"y\"}, {\"hovertemplate\": \"date=2016-08-19 00:00:00<br>level=%{x}<br>price=%{y}<extra></extra>\", \"legendgroup\": \"2016-08-19 00:00:00\", \"marker\": {\"color\": \"#EF553B\", \"symbol\": \"circle\"}, \"mode\": \"markers\", \"name\": \"2016-08-19 00:00:00\", \"orientation\": \"v\", \"showlegend\": true, \"type\": \"scatter\", \"x\": [36], \"xaxis\": \"x\", \"y\": [800], \"yaxis\": \"y\"}, {\"hovertemplate\": \"date=2016-08-17 00:00:00<br>level=%{x}<br>price=%{y}<extra></extra>\", \"legendgroup\": \"2016-08-17 00:00:00\", \"marker\": {\"color\": \"#00cc96\", \"symbol\": \"circle\"}, \"mode\": \"markers\", \"name\": \"2016-08-17 00:00:00\", \"orientation\": \"v\", \"showlegend\": true, \"type\": \"scatter\", \"x\": [41], \"xaxis\": \"x\", \"y\": [750], \"yaxis\": \"y\"}, {\"hovertemplate\": \"date=2016-07-22 00:00:00<br>level=%{x}<br>price=%{y}<extra></extra>\", \"legendgroup\": \"2016-07-22 00:00:00\", \"marker\": {\"color\": \"#ab63fa\", \"symbol\": \"circle\"}, \"mode\": \"markers\", \"name\": \"2016-07-22 00:00:00\", \"orientation\": \"v\", \"showlegend\": true, \"type\": \"scatter\", \"x\": [33], \"xaxis\": \"x\", \"y\": [750], \"yaxis\": \"y\"}, {\"hovertemplate\": \"date=2016-03-16 00:00:00<br>level=%{x}<br>price=%{y}<extra></extra>\", \"legendgroup\": \"2016-03-16 00:00:00\", \"marker\": {\"color\": \"#FFA15A\", \"symbol\": \"circle\"}, \"mode\": \"markers\", \"name\": \"2016-03-16 00:00:00\", \"orientation\": \"v\", \"showlegend\": true, \"type\": \"scatter\", \"x\": [23], \"xaxis\": \"x\", \"y\": [800], \"yaxis\": \"y\"}, {\"hovertemplate\": \"date=2014-12-31 00:00:00<br>level=%{x}<br>price=%{y}<extra></extra>\", \"legendgroup\": \"2014-12-31 00:00:00\", \"marker\": {\"color\": \"#19d3f3\", \"symbol\": \"circle\"}, \"mode\": \"markers\", \"name\": \"2014-12-31 00:00:00\", \"orientation\": \"v\", \"showlegend\": true, \"type\": \"scatter\", \"x\": [20], \"xaxis\": \"x\", \"y\": [630], \"yaxis\": \"y\"}],                        {\"height\": 400, \"legend\": {\"title\": {\"text\": \"date\"}, \"tracegroupgap\": 0}, \"margin\": {\"t\": 60}, \"template\": {\"data\": {\"bar\": [{\"error_x\": {\"color\": \"#2a3f5f\"}, \"error_y\": {\"color\": \"#2a3f5f\"}, \"marker\": {\"line\": {\"color\": \"#E5ECF6\", \"width\": 0.5}}, \"type\": \"bar\"}], \"barpolar\": [{\"marker\": {\"line\": {\"color\": \"#E5ECF6\", \"width\": 0.5}}, \"type\": \"barpolar\"}], \"carpet\": [{\"aaxis\": {\"endlinecolor\": \"#2a3f5f\", \"gridcolor\": \"white\", \"linecolor\": \"white\", \"minorgridcolor\": \"white\", \"startlinecolor\": \"#2a3f5f\"}, \"baxis\": {\"endlinecolor\": \"#2a3f5f\", \"gridcolor\": \"white\", \"linecolor\": \"white\", \"minorgridcolor\": \"white\", \"startlinecolor\": \"#2a3f5f\"}, \"type\": \"carpet\"}], \"choropleth\": [{\"colorbar\": {\"outlinewidth\": 0, \"ticks\": \"\"}, \"type\": \"choropleth\"}], \"contour\": [{\"colorbar\": {\"outlinewidth\": 0, \"ticks\": \"\"}, \"colorscale\": [[0.0, \"#0d0887\"], [0.1111111111111111, \"#46039f\"], [0.2222222222222222, \"#7201a8\"], [0.3333333333333333, \"#9c179e\"], [0.4444444444444444, \"#bd3786\"], [0.5555555555555556, \"#d8576b\"], [0.6666666666666666, \"#ed7953\"], [0.7777777777777778, \"#fb9f3a\"], [0.8888888888888888, \"#fdca26\"], [1.0, \"#f0f921\"]], \"type\": \"contour\"}], \"contourcarpet\": [{\"colorbar\": {\"outlinewidth\": 0, \"ticks\": \"\"}, \"type\": \"contourcarpet\"}], \"heatmap\": [{\"colorbar\": {\"outlinewidth\": 0, \"ticks\": \"\"}, \"colorscale\": [[0.0, \"#0d0887\"], [0.1111111111111111, \"#46039f\"], [0.2222222222222222, \"#7201a8\"], [0.3333333333333333, \"#9c179e\"], [0.4444444444444444, \"#bd3786\"], [0.5555555555555556, \"#d8576b\"], [0.6666666666666666, \"#ed7953\"], [0.7777777777777778, \"#fb9f3a\"], [0.8888888888888888, \"#fdca26\"], [1.0, \"#f0f921\"]], \"type\": \"heatmap\"}], \"heatmapgl\": [{\"colorbar\": {\"outlinewidth\": 0, \"ticks\": \"\"}, \"colorscale\": [[0.0, \"#0d0887\"], [0.1111111111111111, \"#46039f\"], [0.2222222222222222, \"#7201a8\"], [0.3333333333333333, \"#9c179e\"], [0.4444444444444444, \"#bd3786\"], [0.5555555555555556, \"#d8576b\"], [0.6666666666666666, \"#ed7953\"], [0.7777777777777778, \"#fb9f3a\"], [0.8888888888888888, \"#fdca26\"], [1.0, \"#f0f921\"]], \"type\": \"heatmapgl\"}], \"histogram\": [{\"marker\": {\"colorbar\": {\"outlinewidth\": 0, \"ticks\": \"\"}}, \"type\": \"histogram\"}], \"histogram2d\": [{\"colorbar\": {\"outlinewidth\": 0, \"ticks\": \"\"}, \"colorscale\": [[0.0, \"#0d0887\"], [0.1111111111111111, \"#46039f\"], [0.2222222222222222, \"#7201a8\"], [0.3333333333333333, \"#9c179e\"], [0.4444444444444444, \"#bd3786\"], [0.5555555555555556, \"#d8576b\"], [0.6666666666666666, \"#ed7953\"], [0.7777777777777778, \"#fb9f3a\"], [0.8888888888888888, \"#fdca26\"], [1.0, \"#f0f921\"]], \"type\": \"histogram2d\"}], \"histogram2dcontour\": [{\"colorbar\": {\"outlinewidth\": 0, \"ticks\": \"\"}, \"colorscale\": [[0.0, \"#0d0887\"], [0.1111111111111111, \"#46039f\"], [0.2222222222222222, \"#7201a8\"], [0.3333333333333333, \"#9c179e\"], [0.4444444444444444, \"#bd3786\"], [0.5555555555555556, \"#d8576b\"], [0.6666666666666666, \"#ed7953\"], [0.7777777777777778, \"#fb9f3a\"], [0.8888888888888888, \"#fdca26\"], [1.0, \"#f0f921\"]], \"type\": \"histogram2dcontour\"}], \"mesh3d\": [{\"colorbar\": {\"outlinewidth\": 0, \"ticks\": \"\"}, \"type\": \"mesh3d\"}], \"parcoords\": [{\"line\": {\"colorbar\": {\"outlinewidth\": 0, \"ticks\": \"\"}}, \"type\": \"parcoords\"}], \"pie\": [{\"automargin\": true, \"type\": \"pie\"}], \"scatter\": [{\"marker\": {\"colorbar\": {\"outlinewidth\": 0, \"ticks\": \"\"}}, \"type\": \"scatter\"}], \"scatter3d\": [{\"line\": {\"colorbar\": {\"outlinewidth\": 0, \"ticks\": \"\"}}, \"marker\": {\"colorbar\": {\"outlinewidth\": 0, \"ticks\": \"\"}}, \"type\": \"scatter3d\"}], \"scattercarpet\": [{\"marker\": {\"colorbar\": {\"outlinewidth\": 0, \"ticks\": \"\"}}, \"type\": \"scattercarpet\"}], \"scattergeo\": [{\"marker\": {\"colorbar\": {\"outlinewidth\": 0, \"ticks\": \"\"}}, \"type\": \"scattergeo\"}], \"scattergl\": [{\"marker\": {\"colorbar\": {\"outlinewidth\": 0, \"ticks\": \"\"}}, \"type\": \"scattergl\"}], \"scattermapbox\": [{\"marker\": {\"colorbar\": {\"outlinewidth\": 0, \"ticks\": \"\"}}, \"type\": \"scattermapbox\"}], \"scatterpolar\": [{\"marker\": {\"colorbar\": {\"outlinewidth\": 0, \"ticks\": \"\"}}, \"type\": \"scatterpolar\"}], \"scatterpolargl\": [{\"marker\": {\"colorbar\": {\"outlinewidth\": 0, \"ticks\": \"\"}}, \"type\": \"scatterpolargl\"}], \"scatterternary\": [{\"marker\": {\"colorbar\": {\"outlinewidth\": 0, \"ticks\": \"\"}}, \"type\": \"scatterternary\"}], \"surface\": [{\"colorbar\": {\"outlinewidth\": 0, \"ticks\": \"\"}, \"colorscale\": [[0.0, \"#0d0887\"], [0.1111111111111111, \"#46039f\"], [0.2222222222222222, \"#7201a8\"], [0.3333333333333333, \"#9c179e\"], [0.4444444444444444, \"#bd3786\"], [0.5555555555555556, \"#d8576b\"], [0.6666666666666666, \"#ed7953\"], [0.7777777777777778, \"#fb9f3a\"], [0.8888888888888888, \"#fdca26\"], [1.0, \"#f0f921\"]], \"type\": \"surface\"}], \"table\": [{\"cells\": {\"fill\": {\"color\": \"#EBF0F8\"}, \"line\": {\"color\": \"white\"}}, \"header\": {\"fill\": {\"color\": \"#C8D4E3\"}, \"line\": {\"color\": \"white\"}}, \"type\": \"table\"}]}, \"layout\": {\"annotationdefaults\": {\"arrowcolor\": \"#2a3f5f\", \"arrowhead\": 0, \"arrowwidth\": 1}, \"autotypenumbers\": \"strict\", \"coloraxis\": {\"colorbar\": {\"outlinewidth\": 0, \"ticks\": \"\"}}, \"colorscale\": {\"diverging\": [[0, \"#8e0152\"], [0.1, \"#c51b7d\"], [0.2, \"#de77ae\"], [0.3, \"#f1b6da\"], [0.4, \"#fde0ef\"], [0.5, \"#f7f7f7\"], [0.6, \"#e6f5d0\"], [0.7, \"#b8e186\"], [0.8, \"#7fbc41\"], [0.9, \"#4d9221\"], [1, \"#276419\"]], \"sequential\": [[0.0, \"#0d0887\"], [0.1111111111111111, \"#46039f\"], [0.2222222222222222, \"#7201a8\"], [0.3333333333333333, \"#9c179e\"], [0.4444444444444444, \"#bd3786\"], [0.5555555555555556, \"#d8576b\"], [0.6666666666666666, \"#ed7953\"], [0.7777777777777778, \"#fb9f3a\"], [0.8888888888888888, \"#fdca26\"], [1.0, \"#f0f921\"]], \"sequentialminus\": [[0.0, \"#0d0887\"], [0.1111111111111111, \"#46039f\"], [0.2222222222222222, \"#7201a8\"], [0.3333333333333333, \"#9c179e\"], [0.4444444444444444, \"#bd3786\"], [0.5555555555555556, \"#d8576b\"], [0.6666666666666666, \"#ed7953\"], [0.7777777777777778, \"#fb9f3a\"], [0.8888888888888888, \"#fdca26\"], [1.0, \"#f0f921\"]]}, \"colorway\": [\"#636efa\", \"#EF553B\", \"#00cc96\", \"#ab63fa\", \"#FFA15A\", \"#19d3f3\", \"#FF6692\", \"#B6E880\", \"#FF97FF\", \"#FECB52\"], \"font\": {\"color\": \"#2a3f5f\"}, \"geo\": {\"bgcolor\": \"white\", \"lakecolor\": \"white\", \"landcolor\": \"#E5ECF6\", \"showlakes\": true, \"showland\": true, \"subunitcolor\": \"white\"}, \"hoverlabel\": {\"align\": \"left\"}, \"hovermode\": \"closest\", \"mapbox\": {\"style\": \"light\"}, \"paper_bgcolor\": \"white\", \"plot_bgcolor\": \"#E5ECF6\", \"polar\": {\"angularaxis\": {\"gridcolor\": \"white\", \"linecolor\": \"white\", \"ticks\": \"\"}, \"bgcolor\": \"#E5ECF6\", \"radialaxis\": {\"gridcolor\": \"white\", \"linecolor\": \"white\", \"ticks\": \"\"}}, \"scene\": {\"xaxis\": {\"backgroundcolor\": \"#E5ECF6\", \"gridcolor\": \"white\", \"gridwidth\": 2, \"linecolor\": \"white\", \"showbackground\": true, \"ticks\": \"\", \"zerolinecolor\": \"white\"}, \"yaxis\": {\"backgroundcolor\": \"#E5ECF6\", \"gridcolor\": \"white\", \"gridwidth\": 2, \"linecolor\": \"white\", \"showbackground\": true, \"ticks\": \"\", \"zerolinecolor\": \"white\"}, \"zaxis\": {\"backgroundcolor\": \"#E5ECF6\", \"gridcolor\": \"white\", \"gridwidth\": 2, \"linecolor\": \"white\", \"showbackground\": true, \"ticks\": \"\", \"zerolinecolor\": \"white\"}}, \"shapedefaults\": {\"line\": {\"color\": \"#2a3f5f\"}}, \"ternary\": {\"aaxis\": {\"gridcolor\": \"white\", \"linecolor\": \"white\", \"ticks\": \"\"}, \"baxis\": {\"gridcolor\": \"white\", \"linecolor\": \"white\", \"ticks\": \"\"}, \"bgcolor\": \"#E5ECF6\", \"caxis\": {\"gridcolor\": \"white\", \"linecolor\": \"white\", \"ticks\": \"\"}}, \"title\": {\"x\": 0.05}, \"xaxis\": {\"automargin\": true, \"gridcolor\": \"white\", \"linecolor\": \"white\", \"ticks\": \"\", \"title\": {\"standoff\": 15}, \"zerolinecolor\": \"white\", \"zerolinewidth\": 2}, \"yaxis\": {\"automargin\": true, \"gridcolor\": \"white\", \"linecolor\": \"white\", \"ticks\": \"\", \"title\": {\"standoff\": 15}, \"zerolinecolor\": \"white\", \"zerolinewidth\": 2}}}, \"width\": 700, \"xaxis\": {\"anchor\": \"y\", \"domain\": [0.0, 1.0], \"title\": {\"text\": \"level\"}}, \"yaxis\": {\"anchor\": \"x\", \"domain\": [0.0, 1.0], \"title\": {\"text\": \"price\"}}},                        {\"responsive\": true}                    ).then(function(){\n",
       "                            \n",
       "var gd = document.getElementById('9ccf5cc4-d644-4ca8-aabb-7da6a7eb5b5e');\n",
       "var x = new MutationObserver(function (mutations, observer) {{\n",
       "        var display = window.getComputedStyle(gd).display;\n",
       "        if (!display || display === 'none') {{\n",
       "            console.log([gd, 'removed!']);\n",
       "            Plotly.purge(gd);\n",
       "            observer.disconnect();\n",
       "        }}\n",
       "}});\n",
       "\n",
       "// Listen for the removal of the full notebook cells\n",
       "var notebookContainer = gd.closest('#notebook-container');\n",
       "if (notebookContainer) {{\n",
       "    x.observe(notebookContainer, {childList: true});\n",
       "}}\n",
       "\n",
       "// Listen for the clearing of the current output cell\n",
       "var outputEl = gd.closest('.output');\n",
       "if (outputEl) {{\n",
       "    x.observe(outputEl, {childList: true});\n",
       "}}\n",
       "\n",
       "                        })                };                });            </script>        </div>"
      ]
     },
     "metadata": {},
     "output_type": "display_data"
    }
   ],
   "source": [
    "fig = px.scatter(df[df.room_type ==\"10\"], x=\"level\", y=\"price\", color = \"date\",width=700, height=400)\n",
    "fig.show()"
   ]
  },
  {
   "cell_type": "code",
   "execution_count": 29,
   "metadata": {},
   "outputs": [],
   "source": [
    "fig = px.scatter(df, x=\"level\", y=\"price\", color=\"room_type\",width=700, height=400)"
   ]
  },
  {
   "cell_type": "code",
   "execution_count": 30,
   "metadata": {},
   "outputs": [
    {
     "data": {
      "application/vnd.plotly.v1+json": {
       "config": {
        "plotlyServerURL": "https://plot.ly"
       },
       "data": [
        {
         "hovertemplate": "room_type=7<br>level=%{x}<br>price=%{y}<extra></extra>",
         "legendgroup": "7",
         "marker": {
          "color": "#636efa",
          "symbol": "circle"
         },
         "mode": "markers",
         "name": "7",
         "orientation": "v",
         "showlegend": true,
         "type": "scatter",
         "x": [
          42,
          46,
          45,
          48
         ],
         "xaxis": "x",
         "y": [
          520,
          670,
          652,
          690
         ],
         "yaxis": "y"
        },
        {
         "hovertemplate": "room_type=9<br>level=%{x}<br>price=%{y}<extra></extra>",
         "legendgroup": "9",
         "marker": {
          "color": "#EF553B",
          "symbol": "circle"
         },
         "mode": "markers",
         "name": "9",
         "orientation": "v",
         "showlegend": true,
         "type": "scatter",
         "x": [
          38,
          41,
          34,
          11,
          24,
          39,
          10,
          45,
          48,
          40,
          18,
          21,
          47,
          42
         ],
         "xaxis": "x",
         "y": [
          560,
          650,
          595,
          580,
          680,
          760,
          840,
          900,
          840,
          820,
          820,
          700,
          800,
          720
         ],
         "yaxis": "y"
        },
        {
         "hovertemplate": "room_type=10<br>level=%{x}<br>price=%{y}<extra></extra>",
         "legendgroup": "10",
         "marker": {
          "color": "#00cc96",
          "symbol": "circle"
         },
         "mode": "markers",
         "name": "10",
         "orientation": "v",
         "showlegend": true,
         "type": "scatter",
         "x": [
          19,
          45,
          38,
          11,
          31,
          34,
          17,
          25,
          29,
          47,
          26,
          21,
          28,
          42,
          37,
          43,
          32,
          36,
          41,
          33,
          23,
          20
         ],
         "xaxis": "x",
         "y": [
          580,
          620,
          700,
          820,
          700,
          720,
          730,
          810,
          730,
          820,
          800,
          780,
          730,
          800,
          720,
          740,
          690,
          800,
          750,
          750,
          800,
          630
         ],
         "yaxis": "y"
        },
        {
         "hovertemplate": "room_type=2<br>level=%{x}<br>price=%{y}<extra></extra>",
         "legendgroup": "2",
         "marker": {
          "color": "#ab63fa",
          "symbol": "circle"
         },
         "mode": "markers",
         "name": "2",
         "orientation": "v",
         "showlegend": true,
         "type": "scatter",
         "x": [
          39,
          27,
          32,
          19,
          29,
          12,
          16,
          36,
          33,
          21,
          22,
          26,
          38,
          28,
          15,
          11,
          30
         ],
         "xaxis": "x",
         "y": [
          650,
          650,
          650,
          720,
          800,
          820,
          840,
          722,
          820,
          850,
          750,
          800,
          800,
          700,
          730,
          750,
          580
         ],
         "yaxis": "y"
        },
        {
         "hovertemplate": "room_type=4<br>level=%{x}<br>price=%{y}<extra></extra>",
         "legendgroup": "4",
         "marker": {
          "color": "#FFA15A",
          "symbol": "circle"
         },
         "mode": "markers",
         "name": "4",
         "orientation": "v",
         "showlegend": true,
         "type": "scatter",
         "x": [
          47,
          40,
          44,
          46,
          48
         ],
         "xaxis": "x",
         "y": [
          510,
          450,
          650,
          640,
          600
         ],
         "yaxis": "y"
        },
        {
         "hovertemplate": "room_type=1<br>level=%{x}<br>price=%{y}<extra></extra>",
         "legendgroup": "1",
         "marker": {
          "color": "#19d3f3",
          "symbol": "circle"
         },
         "mode": "markers",
         "name": "1",
         "orientation": "v",
         "showlegend": true,
         "type": "scatter",
         "x": [
          42,
          10,
          44,
          24,
          18,
          17,
          47,
          12,
          30,
          15,
          23,
          22,
          20,
          21,
          41,
          36
         ],
         "xaxis": "x",
         "y": [
          600,
          550,
          660,
          650,
          580,
          490,
          750,
          802,
          850,
          680,
          690,
          760,
          720,
          710,
          720,
          682
         ],
         "yaxis": "y"
        },
        {
         "hovertemplate": "room_type=8<br>level=%{x}<br>price=%{y}<extra></extra>",
         "legendgroup": "8",
         "marker": {
          "color": "#FF6692",
          "symbol": "circle"
         },
         "mode": "markers",
         "name": "8",
         "orientation": "v",
         "showlegend": true,
         "type": "scatter",
         "x": [
          19,
          34,
          29,
          53,
          24,
          17,
          27,
          18,
          21,
          22
         ],
         "xaxis": "x",
         "y": [
          550,
          700,
          682,
          700,
          780,
          690,
          742,
          720,
          650,
          700
         ],
         "yaxis": "y"
        },
        {
         "hovertemplate": "room_type=3<br>level=%{x}<br>price=%{y}<extra></extra>",
         "legendgroup": "3",
         "marker": {
          "color": "#B6E880",
          "symbol": "circle"
         },
         "mode": "markers",
         "name": "3",
         "orientation": "v",
         "showlegend": true,
         "type": "scatter",
         "x": [
          19,
          22,
          27,
          29,
          20,
          21,
          24,
          31,
          33,
          28
         ],
         "xaxis": "x",
         "y": [
          580,
          580,
          600,
          680,
          700,
          780,
          760,
          680,
          660,
          650
         ],
         "yaxis": "y"
        },
        {
         "hovertemplate": "room_type=11<br>level=%{x}<br>price=%{y}<extra></extra>",
         "legendgroup": "11",
         "marker": {
          "color": "#FF97FF",
          "symbol": "circle"
         },
         "mode": "markers",
         "name": "11",
         "orientation": "v",
         "showlegend": true,
         "type": "scatter",
         "x": [
          12,
          16
         ],
         "xaxis": "x",
         "y": [
          780,
          720
         ],
         "yaxis": "y"
        },
        {
         "hovertemplate": "room_type=6<br>level=%{x}<br>price=%{y}<extra></extra>",
         "legendgroup": "6",
         "marker": {
          "color": "#FECB52",
          "symbol": "circle"
         },
         "mode": "markers",
         "name": "6",
         "orientation": "v",
         "showlegend": true,
         "type": "scatter",
         "x": [
          51
         ],
         "xaxis": "x",
         "y": [
          720
         ],
         "yaxis": "y"
        }
       ],
       "layout": {
        "height": 400,
        "legend": {
         "title": {
          "text": "room_type"
         },
         "tracegroupgap": 0
        },
        "margin": {
         "t": 60
        },
        "template": {
         "data": {
          "bar": [
           {
            "error_x": {
             "color": "#2a3f5f"
            },
            "error_y": {
             "color": "#2a3f5f"
            },
            "marker": {
             "line": {
              "color": "#E5ECF6",
              "width": 0.5
             }
            },
            "type": "bar"
           }
          ],
          "barpolar": [
           {
            "marker": {
             "line": {
              "color": "#E5ECF6",
              "width": 0.5
             }
            },
            "type": "barpolar"
           }
          ],
          "carpet": [
           {
            "aaxis": {
             "endlinecolor": "#2a3f5f",
             "gridcolor": "white",
             "linecolor": "white",
             "minorgridcolor": "white",
             "startlinecolor": "#2a3f5f"
            },
            "baxis": {
             "endlinecolor": "#2a3f5f",
             "gridcolor": "white",
             "linecolor": "white",
             "minorgridcolor": "white",
             "startlinecolor": "#2a3f5f"
            },
            "type": "carpet"
           }
          ],
          "choropleth": [
           {
            "colorbar": {
             "outlinewidth": 0,
             "ticks": ""
            },
            "type": "choropleth"
           }
          ],
          "contour": [
           {
            "colorbar": {
             "outlinewidth": 0,
             "ticks": ""
            },
            "colorscale": [
             [
              0,
              "#0d0887"
             ],
             [
              0.1111111111111111,
              "#46039f"
             ],
             [
              0.2222222222222222,
              "#7201a8"
             ],
             [
              0.3333333333333333,
              "#9c179e"
             ],
             [
              0.4444444444444444,
              "#bd3786"
             ],
             [
              0.5555555555555556,
              "#d8576b"
             ],
             [
              0.6666666666666666,
              "#ed7953"
             ],
             [
              0.7777777777777778,
              "#fb9f3a"
             ],
             [
              0.8888888888888888,
              "#fdca26"
             ],
             [
              1,
              "#f0f921"
             ]
            ],
            "type": "contour"
           }
          ],
          "contourcarpet": [
           {
            "colorbar": {
             "outlinewidth": 0,
             "ticks": ""
            },
            "type": "contourcarpet"
           }
          ],
          "heatmap": [
           {
            "colorbar": {
             "outlinewidth": 0,
             "ticks": ""
            },
            "colorscale": [
             [
              0,
              "#0d0887"
             ],
             [
              0.1111111111111111,
              "#46039f"
             ],
             [
              0.2222222222222222,
              "#7201a8"
             ],
             [
              0.3333333333333333,
              "#9c179e"
             ],
             [
              0.4444444444444444,
              "#bd3786"
             ],
             [
              0.5555555555555556,
              "#d8576b"
             ],
             [
              0.6666666666666666,
              "#ed7953"
             ],
             [
              0.7777777777777778,
              "#fb9f3a"
             ],
             [
              0.8888888888888888,
              "#fdca26"
             ],
             [
              1,
              "#f0f921"
             ]
            ],
            "type": "heatmap"
           }
          ],
          "heatmapgl": [
           {
            "colorbar": {
             "outlinewidth": 0,
             "ticks": ""
            },
            "colorscale": [
             [
              0,
              "#0d0887"
             ],
             [
              0.1111111111111111,
              "#46039f"
             ],
             [
              0.2222222222222222,
              "#7201a8"
             ],
             [
              0.3333333333333333,
              "#9c179e"
             ],
             [
              0.4444444444444444,
              "#bd3786"
             ],
             [
              0.5555555555555556,
              "#d8576b"
             ],
             [
              0.6666666666666666,
              "#ed7953"
             ],
             [
              0.7777777777777778,
              "#fb9f3a"
             ],
             [
              0.8888888888888888,
              "#fdca26"
             ],
             [
              1,
              "#f0f921"
             ]
            ],
            "type": "heatmapgl"
           }
          ],
          "histogram": [
           {
            "marker": {
             "colorbar": {
              "outlinewidth": 0,
              "ticks": ""
             }
            },
            "type": "histogram"
           }
          ],
          "histogram2d": [
           {
            "colorbar": {
             "outlinewidth": 0,
             "ticks": ""
            },
            "colorscale": [
             [
              0,
              "#0d0887"
             ],
             [
              0.1111111111111111,
              "#46039f"
             ],
             [
              0.2222222222222222,
              "#7201a8"
             ],
             [
              0.3333333333333333,
              "#9c179e"
             ],
             [
              0.4444444444444444,
              "#bd3786"
             ],
             [
              0.5555555555555556,
              "#d8576b"
             ],
             [
              0.6666666666666666,
              "#ed7953"
             ],
             [
              0.7777777777777778,
              "#fb9f3a"
             ],
             [
              0.8888888888888888,
              "#fdca26"
             ],
             [
              1,
              "#f0f921"
             ]
            ],
            "type": "histogram2d"
           }
          ],
          "histogram2dcontour": [
           {
            "colorbar": {
             "outlinewidth": 0,
             "ticks": ""
            },
            "colorscale": [
             [
              0,
              "#0d0887"
             ],
             [
              0.1111111111111111,
              "#46039f"
             ],
             [
              0.2222222222222222,
              "#7201a8"
             ],
             [
              0.3333333333333333,
              "#9c179e"
             ],
             [
              0.4444444444444444,
              "#bd3786"
             ],
             [
              0.5555555555555556,
              "#d8576b"
             ],
             [
              0.6666666666666666,
              "#ed7953"
             ],
             [
              0.7777777777777778,
              "#fb9f3a"
             ],
             [
              0.8888888888888888,
              "#fdca26"
             ],
             [
              1,
              "#f0f921"
             ]
            ],
            "type": "histogram2dcontour"
           }
          ],
          "mesh3d": [
           {
            "colorbar": {
             "outlinewidth": 0,
             "ticks": ""
            },
            "type": "mesh3d"
           }
          ],
          "parcoords": [
           {
            "line": {
             "colorbar": {
              "outlinewidth": 0,
              "ticks": ""
             }
            },
            "type": "parcoords"
           }
          ],
          "pie": [
           {
            "automargin": true,
            "type": "pie"
           }
          ],
          "scatter": [
           {
            "marker": {
             "colorbar": {
              "outlinewidth": 0,
              "ticks": ""
             }
            },
            "type": "scatter"
           }
          ],
          "scatter3d": [
           {
            "line": {
             "colorbar": {
              "outlinewidth": 0,
              "ticks": ""
             }
            },
            "marker": {
             "colorbar": {
              "outlinewidth": 0,
              "ticks": ""
             }
            },
            "type": "scatter3d"
           }
          ],
          "scattercarpet": [
           {
            "marker": {
             "colorbar": {
              "outlinewidth": 0,
              "ticks": ""
             }
            },
            "type": "scattercarpet"
           }
          ],
          "scattergeo": [
           {
            "marker": {
             "colorbar": {
              "outlinewidth": 0,
              "ticks": ""
             }
            },
            "type": "scattergeo"
           }
          ],
          "scattergl": [
           {
            "marker": {
             "colorbar": {
              "outlinewidth": 0,
              "ticks": ""
             }
            },
            "type": "scattergl"
           }
          ],
          "scattermapbox": [
           {
            "marker": {
             "colorbar": {
              "outlinewidth": 0,
              "ticks": ""
             }
            },
            "type": "scattermapbox"
           }
          ],
          "scatterpolar": [
           {
            "marker": {
             "colorbar": {
              "outlinewidth": 0,
              "ticks": ""
             }
            },
            "type": "scatterpolar"
           }
          ],
          "scatterpolargl": [
           {
            "marker": {
             "colorbar": {
              "outlinewidth": 0,
              "ticks": ""
             }
            },
            "type": "scatterpolargl"
           }
          ],
          "scatterternary": [
           {
            "marker": {
             "colorbar": {
              "outlinewidth": 0,
              "ticks": ""
             }
            },
            "type": "scatterternary"
           }
          ],
          "surface": [
           {
            "colorbar": {
             "outlinewidth": 0,
             "ticks": ""
            },
            "colorscale": [
             [
              0,
              "#0d0887"
             ],
             [
              0.1111111111111111,
              "#46039f"
             ],
             [
              0.2222222222222222,
              "#7201a8"
             ],
             [
              0.3333333333333333,
              "#9c179e"
             ],
             [
              0.4444444444444444,
              "#bd3786"
             ],
             [
              0.5555555555555556,
              "#d8576b"
             ],
             [
              0.6666666666666666,
              "#ed7953"
             ],
             [
              0.7777777777777778,
              "#fb9f3a"
             ],
             [
              0.8888888888888888,
              "#fdca26"
             ],
             [
              1,
              "#f0f921"
             ]
            ],
            "type": "surface"
           }
          ],
          "table": [
           {
            "cells": {
             "fill": {
              "color": "#EBF0F8"
             },
             "line": {
              "color": "white"
             }
            },
            "header": {
             "fill": {
              "color": "#C8D4E3"
             },
             "line": {
              "color": "white"
             }
            },
            "type": "table"
           }
          ]
         },
         "layout": {
          "annotationdefaults": {
           "arrowcolor": "#2a3f5f",
           "arrowhead": 0,
           "arrowwidth": 1
          },
          "autotypenumbers": "strict",
          "coloraxis": {
           "colorbar": {
            "outlinewidth": 0,
            "ticks": ""
           }
          },
          "colorscale": {
           "diverging": [
            [
             0,
             "#8e0152"
            ],
            [
             0.1,
             "#c51b7d"
            ],
            [
             0.2,
             "#de77ae"
            ],
            [
             0.3,
             "#f1b6da"
            ],
            [
             0.4,
             "#fde0ef"
            ],
            [
             0.5,
             "#f7f7f7"
            ],
            [
             0.6,
             "#e6f5d0"
            ],
            [
             0.7,
             "#b8e186"
            ],
            [
             0.8,
             "#7fbc41"
            ],
            [
             0.9,
             "#4d9221"
            ],
            [
             1,
             "#276419"
            ]
           ],
           "sequential": [
            [
             0,
             "#0d0887"
            ],
            [
             0.1111111111111111,
             "#46039f"
            ],
            [
             0.2222222222222222,
             "#7201a8"
            ],
            [
             0.3333333333333333,
             "#9c179e"
            ],
            [
             0.4444444444444444,
             "#bd3786"
            ],
            [
             0.5555555555555556,
             "#d8576b"
            ],
            [
             0.6666666666666666,
             "#ed7953"
            ],
            [
             0.7777777777777778,
             "#fb9f3a"
            ],
            [
             0.8888888888888888,
             "#fdca26"
            ],
            [
             1,
             "#f0f921"
            ]
           ],
           "sequentialminus": [
            [
             0,
             "#0d0887"
            ],
            [
             0.1111111111111111,
             "#46039f"
            ],
            [
             0.2222222222222222,
             "#7201a8"
            ],
            [
             0.3333333333333333,
             "#9c179e"
            ],
            [
             0.4444444444444444,
             "#bd3786"
            ],
            [
             0.5555555555555556,
             "#d8576b"
            ],
            [
             0.6666666666666666,
             "#ed7953"
            ],
            [
             0.7777777777777778,
             "#fb9f3a"
            ],
            [
             0.8888888888888888,
             "#fdca26"
            ],
            [
             1,
             "#f0f921"
            ]
           ]
          },
          "colorway": [
           "#636efa",
           "#EF553B",
           "#00cc96",
           "#ab63fa",
           "#FFA15A",
           "#19d3f3",
           "#FF6692",
           "#B6E880",
           "#FF97FF",
           "#FECB52"
          ],
          "font": {
           "color": "#2a3f5f"
          },
          "geo": {
           "bgcolor": "white",
           "lakecolor": "white",
           "landcolor": "#E5ECF6",
           "showlakes": true,
           "showland": true,
           "subunitcolor": "white"
          },
          "hoverlabel": {
           "align": "left"
          },
          "hovermode": "closest",
          "mapbox": {
           "style": "light"
          },
          "paper_bgcolor": "white",
          "plot_bgcolor": "#E5ECF6",
          "polar": {
           "angularaxis": {
            "gridcolor": "white",
            "linecolor": "white",
            "ticks": ""
           },
           "bgcolor": "#E5ECF6",
           "radialaxis": {
            "gridcolor": "white",
            "linecolor": "white",
            "ticks": ""
           }
          },
          "scene": {
           "xaxis": {
            "backgroundcolor": "#E5ECF6",
            "gridcolor": "white",
            "gridwidth": 2,
            "linecolor": "white",
            "showbackground": true,
            "ticks": "",
            "zerolinecolor": "white"
           },
           "yaxis": {
            "backgroundcolor": "#E5ECF6",
            "gridcolor": "white",
            "gridwidth": 2,
            "linecolor": "white",
            "showbackground": true,
            "ticks": "",
            "zerolinecolor": "white"
           },
           "zaxis": {
            "backgroundcolor": "#E5ECF6",
            "gridcolor": "white",
            "gridwidth": 2,
            "linecolor": "white",
            "showbackground": true,
            "ticks": "",
            "zerolinecolor": "white"
           }
          },
          "shapedefaults": {
           "line": {
            "color": "#2a3f5f"
           }
          },
          "ternary": {
           "aaxis": {
            "gridcolor": "white",
            "linecolor": "white",
            "ticks": ""
           },
           "baxis": {
            "gridcolor": "white",
            "linecolor": "white",
            "ticks": ""
           },
           "bgcolor": "#E5ECF6",
           "caxis": {
            "gridcolor": "white",
            "linecolor": "white",
            "ticks": ""
           }
          },
          "title": {
           "x": 0.05
          },
          "xaxis": {
           "automargin": true,
           "gridcolor": "white",
           "linecolor": "white",
           "ticks": "",
           "title": {
            "standoff": 15
           },
           "zerolinecolor": "white",
           "zerolinewidth": 2
          },
          "yaxis": {
           "automargin": true,
           "gridcolor": "white",
           "linecolor": "white",
           "ticks": "",
           "title": {
            "standoff": 15
           },
           "zerolinecolor": "white",
           "zerolinewidth": 2
          }
         }
        },
        "width": 700,
        "xaxis": {
         "anchor": "y",
         "domain": [
          0,
          1
         ],
         "title": {
          "text": "level"
         }
        },
        "yaxis": {
         "anchor": "x",
         "domain": [
          0,
          1
         ],
         "title": {
          "text": "price"
         }
        }
       }
      },
      "text/html": [
       "<div>                            <div id=\"7643539f-effb-4c27-a23a-3d793c823903\" class=\"plotly-graph-div\" style=\"height:400px; width:700px;\"></div>            <script type=\"text/javascript\">                require([\"plotly\"], function(Plotly) {                    window.PLOTLYENV=window.PLOTLYENV || {};                                    if (document.getElementById(\"7643539f-effb-4c27-a23a-3d793c823903\")) {                    Plotly.newPlot(                        \"7643539f-effb-4c27-a23a-3d793c823903\",                        [{\"hovertemplate\": \"room_type=7<br>level=%{x}<br>price=%{y}<extra></extra>\", \"legendgroup\": \"7\", \"marker\": {\"color\": \"#636efa\", \"symbol\": \"circle\"}, \"mode\": \"markers\", \"name\": \"7\", \"orientation\": \"v\", \"showlegend\": true, \"type\": \"scatter\", \"x\": [42, 46, 45, 48], \"xaxis\": \"x\", \"y\": [520, 670, 652, 690], \"yaxis\": \"y\"}, {\"hovertemplate\": \"room_type=9<br>level=%{x}<br>price=%{y}<extra></extra>\", \"legendgroup\": \"9\", \"marker\": {\"color\": \"#EF553B\", \"symbol\": \"circle\"}, \"mode\": \"markers\", \"name\": \"9\", \"orientation\": \"v\", \"showlegend\": true, \"type\": \"scatter\", \"x\": [38, 41, 34, 11, 24, 39, 10, 45, 48, 40, 18, 21, 47, 42], \"xaxis\": \"x\", \"y\": [560, 650, 595, 580, 680, 760, 840, 900, 840, 820, 820, 700, 800, 720], \"yaxis\": \"y\"}, {\"hovertemplate\": \"room_type=10<br>level=%{x}<br>price=%{y}<extra></extra>\", \"legendgroup\": \"10\", \"marker\": {\"color\": \"#00cc96\", \"symbol\": \"circle\"}, \"mode\": \"markers\", \"name\": \"10\", \"orientation\": \"v\", \"showlegend\": true, \"type\": \"scatter\", \"x\": [19, 45, 38, 11, 31, 34, 17, 25, 29, 47, 26, 21, 28, 42, 37, 43, 32, 36, 41, 33, 23, 20], \"xaxis\": \"x\", \"y\": [580, 620, 700, 820, 700, 720, 730, 810, 730, 820, 800, 780, 730, 800, 720, 740, 690, 800, 750, 750, 800, 630], \"yaxis\": \"y\"}, {\"hovertemplate\": \"room_type=2<br>level=%{x}<br>price=%{y}<extra></extra>\", \"legendgroup\": \"2\", \"marker\": {\"color\": \"#ab63fa\", \"symbol\": \"circle\"}, \"mode\": \"markers\", \"name\": \"2\", \"orientation\": \"v\", \"showlegend\": true, \"type\": \"scatter\", \"x\": [39, 27, 32, 19, 29, 12, 16, 36, 33, 21, 22, 26, 38, 28, 15, 11, 30], \"xaxis\": \"x\", \"y\": [650, 650, 650, 720, 800, 820, 840, 722, 820, 850, 750, 800, 800, 700, 730, 750, 580], \"yaxis\": \"y\"}, {\"hovertemplate\": \"room_type=4<br>level=%{x}<br>price=%{y}<extra></extra>\", \"legendgroup\": \"4\", \"marker\": {\"color\": \"#FFA15A\", \"symbol\": \"circle\"}, \"mode\": \"markers\", \"name\": \"4\", \"orientation\": \"v\", \"showlegend\": true, \"type\": \"scatter\", \"x\": [47, 40, 44, 46, 48], \"xaxis\": \"x\", \"y\": [510, 450, 650, 640, 600], \"yaxis\": \"y\"}, {\"hovertemplate\": \"room_type=1<br>level=%{x}<br>price=%{y}<extra></extra>\", \"legendgroup\": \"1\", \"marker\": {\"color\": \"#19d3f3\", \"symbol\": \"circle\"}, \"mode\": \"markers\", \"name\": \"1\", \"orientation\": \"v\", \"showlegend\": true, \"type\": \"scatter\", \"x\": [42, 10, 44, 24, 18, 17, 47, 12, 30, 15, 23, 22, 20, 21, 41, 36], \"xaxis\": \"x\", \"y\": [600, 550, 660, 650, 580, 490, 750, 802, 850, 680, 690, 760, 720, 710, 720, 682], \"yaxis\": \"y\"}, {\"hovertemplate\": \"room_type=8<br>level=%{x}<br>price=%{y}<extra></extra>\", \"legendgroup\": \"8\", \"marker\": {\"color\": \"#FF6692\", \"symbol\": \"circle\"}, \"mode\": \"markers\", \"name\": \"8\", \"orientation\": \"v\", \"showlegend\": true, \"type\": \"scatter\", \"x\": [19, 34, 29, 53, 24, 17, 27, 18, 21, 22], \"xaxis\": \"x\", \"y\": [550, 700, 682, 700, 780, 690, 742, 720, 650, 700], \"yaxis\": \"y\"}, {\"hovertemplate\": \"room_type=3<br>level=%{x}<br>price=%{y}<extra></extra>\", \"legendgroup\": \"3\", \"marker\": {\"color\": \"#B6E880\", \"symbol\": \"circle\"}, \"mode\": \"markers\", \"name\": \"3\", \"orientation\": \"v\", \"showlegend\": true, \"type\": \"scatter\", \"x\": [19, 22, 27, 29, 20, 21, 24, 31, 33, 28], \"xaxis\": \"x\", \"y\": [580, 580, 600, 680, 700, 780, 760, 680, 660, 650], \"yaxis\": \"y\"}, {\"hovertemplate\": \"room_type=11<br>level=%{x}<br>price=%{y}<extra></extra>\", \"legendgroup\": \"11\", \"marker\": {\"color\": \"#FF97FF\", \"symbol\": \"circle\"}, \"mode\": \"markers\", \"name\": \"11\", \"orientation\": \"v\", \"showlegend\": true, \"type\": \"scatter\", \"x\": [12, 16], \"xaxis\": \"x\", \"y\": [780, 720], \"yaxis\": \"y\"}, {\"hovertemplate\": \"room_type=6<br>level=%{x}<br>price=%{y}<extra></extra>\", \"legendgroup\": \"6\", \"marker\": {\"color\": \"#FECB52\", \"symbol\": \"circle\"}, \"mode\": \"markers\", \"name\": \"6\", \"orientation\": \"v\", \"showlegend\": true, \"type\": \"scatter\", \"x\": [51], \"xaxis\": \"x\", \"y\": [720], \"yaxis\": \"y\"}],                        {\"height\": 400, \"legend\": {\"title\": {\"text\": \"room_type\"}, \"tracegroupgap\": 0}, \"margin\": {\"t\": 60}, \"template\": {\"data\": {\"bar\": [{\"error_x\": {\"color\": \"#2a3f5f\"}, \"error_y\": {\"color\": \"#2a3f5f\"}, \"marker\": {\"line\": {\"color\": \"#E5ECF6\", \"width\": 0.5}}, \"type\": \"bar\"}], \"barpolar\": [{\"marker\": {\"line\": {\"color\": \"#E5ECF6\", \"width\": 0.5}}, \"type\": \"barpolar\"}], \"carpet\": [{\"aaxis\": {\"endlinecolor\": \"#2a3f5f\", \"gridcolor\": \"white\", \"linecolor\": \"white\", \"minorgridcolor\": \"white\", \"startlinecolor\": \"#2a3f5f\"}, \"baxis\": {\"endlinecolor\": \"#2a3f5f\", \"gridcolor\": \"white\", \"linecolor\": \"white\", \"minorgridcolor\": \"white\", \"startlinecolor\": \"#2a3f5f\"}, \"type\": \"carpet\"}], \"choropleth\": [{\"colorbar\": {\"outlinewidth\": 0, \"ticks\": \"\"}, \"type\": \"choropleth\"}], \"contour\": [{\"colorbar\": {\"outlinewidth\": 0, \"ticks\": \"\"}, \"colorscale\": [[0.0, \"#0d0887\"], [0.1111111111111111, \"#46039f\"], [0.2222222222222222, \"#7201a8\"], [0.3333333333333333, \"#9c179e\"], [0.4444444444444444, \"#bd3786\"], [0.5555555555555556, \"#d8576b\"], [0.6666666666666666, \"#ed7953\"], [0.7777777777777778, \"#fb9f3a\"], [0.8888888888888888, \"#fdca26\"], [1.0, \"#f0f921\"]], \"type\": \"contour\"}], \"contourcarpet\": [{\"colorbar\": {\"outlinewidth\": 0, \"ticks\": \"\"}, \"type\": \"contourcarpet\"}], \"heatmap\": [{\"colorbar\": {\"outlinewidth\": 0, \"ticks\": \"\"}, \"colorscale\": [[0.0, \"#0d0887\"], [0.1111111111111111, \"#46039f\"], [0.2222222222222222, \"#7201a8\"], [0.3333333333333333, \"#9c179e\"], [0.4444444444444444, \"#bd3786\"], [0.5555555555555556, \"#d8576b\"], [0.6666666666666666, \"#ed7953\"], [0.7777777777777778, \"#fb9f3a\"], [0.8888888888888888, \"#fdca26\"], [1.0, \"#f0f921\"]], \"type\": \"heatmap\"}], \"heatmapgl\": [{\"colorbar\": {\"outlinewidth\": 0, \"ticks\": \"\"}, \"colorscale\": [[0.0, \"#0d0887\"], [0.1111111111111111, \"#46039f\"], [0.2222222222222222, \"#7201a8\"], [0.3333333333333333, \"#9c179e\"], [0.4444444444444444, \"#bd3786\"], [0.5555555555555556, \"#d8576b\"], [0.6666666666666666, \"#ed7953\"], [0.7777777777777778, \"#fb9f3a\"], [0.8888888888888888, \"#fdca26\"], [1.0, \"#f0f921\"]], \"type\": \"heatmapgl\"}], \"histogram\": [{\"marker\": {\"colorbar\": {\"outlinewidth\": 0, \"ticks\": \"\"}}, \"type\": \"histogram\"}], \"histogram2d\": [{\"colorbar\": {\"outlinewidth\": 0, \"ticks\": \"\"}, \"colorscale\": [[0.0, \"#0d0887\"], [0.1111111111111111, \"#46039f\"], [0.2222222222222222, \"#7201a8\"], [0.3333333333333333, \"#9c179e\"], [0.4444444444444444, \"#bd3786\"], [0.5555555555555556, \"#d8576b\"], [0.6666666666666666, \"#ed7953\"], [0.7777777777777778, \"#fb9f3a\"], [0.8888888888888888, \"#fdca26\"], [1.0, \"#f0f921\"]], \"type\": \"histogram2d\"}], \"histogram2dcontour\": [{\"colorbar\": {\"outlinewidth\": 0, \"ticks\": \"\"}, \"colorscale\": [[0.0, \"#0d0887\"], [0.1111111111111111, \"#46039f\"], [0.2222222222222222, \"#7201a8\"], [0.3333333333333333, \"#9c179e\"], [0.4444444444444444, \"#bd3786\"], [0.5555555555555556, \"#d8576b\"], [0.6666666666666666, \"#ed7953\"], [0.7777777777777778, \"#fb9f3a\"], [0.8888888888888888, \"#fdca26\"], [1.0, \"#f0f921\"]], \"type\": \"histogram2dcontour\"}], \"mesh3d\": [{\"colorbar\": {\"outlinewidth\": 0, \"ticks\": \"\"}, \"type\": \"mesh3d\"}], \"parcoords\": [{\"line\": {\"colorbar\": {\"outlinewidth\": 0, \"ticks\": \"\"}}, \"type\": \"parcoords\"}], \"pie\": [{\"automargin\": true, \"type\": \"pie\"}], \"scatter\": [{\"marker\": {\"colorbar\": {\"outlinewidth\": 0, \"ticks\": \"\"}}, \"type\": \"scatter\"}], \"scatter3d\": [{\"line\": {\"colorbar\": {\"outlinewidth\": 0, \"ticks\": \"\"}}, \"marker\": {\"colorbar\": {\"outlinewidth\": 0, \"ticks\": \"\"}}, \"type\": \"scatter3d\"}], \"scattercarpet\": [{\"marker\": {\"colorbar\": {\"outlinewidth\": 0, \"ticks\": \"\"}}, \"type\": \"scattercarpet\"}], \"scattergeo\": [{\"marker\": {\"colorbar\": {\"outlinewidth\": 0, \"ticks\": \"\"}}, \"type\": \"scattergeo\"}], \"scattergl\": [{\"marker\": {\"colorbar\": {\"outlinewidth\": 0, \"ticks\": \"\"}}, \"type\": \"scattergl\"}], \"scattermapbox\": [{\"marker\": {\"colorbar\": {\"outlinewidth\": 0, \"ticks\": \"\"}}, \"type\": \"scattermapbox\"}], \"scatterpolar\": [{\"marker\": {\"colorbar\": {\"outlinewidth\": 0, \"ticks\": \"\"}}, \"type\": \"scatterpolar\"}], \"scatterpolargl\": [{\"marker\": {\"colorbar\": {\"outlinewidth\": 0, \"ticks\": \"\"}}, \"type\": \"scatterpolargl\"}], \"scatterternary\": [{\"marker\": {\"colorbar\": {\"outlinewidth\": 0, \"ticks\": \"\"}}, \"type\": \"scatterternary\"}], \"surface\": [{\"colorbar\": {\"outlinewidth\": 0, \"ticks\": \"\"}, \"colorscale\": [[0.0, \"#0d0887\"], [0.1111111111111111, \"#46039f\"], [0.2222222222222222, \"#7201a8\"], [0.3333333333333333, \"#9c179e\"], [0.4444444444444444, \"#bd3786\"], [0.5555555555555556, \"#d8576b\"], [0.6666666666666666, \"#ed7953\"], [0.7777777777777778, \"#fb9f3a\"], [0.8888888888888888, \"#fdca26\"], [1.0, \"#f0f921\"]], \"type\": \"surface\"}], \"table\": [{\"cells\": {\"fill\": {\"color\": \"#EBF0F8\"}, \"line\": {\"color\": \"white\"}}, \"header\": {\"fill\": {\"color\": \"#C8D4E3\"}, \"line\": {\"color\": \"white\"}}, \"type\": \"table\"}]}, \"layout\": {\"annotationdefaults\": {\"arrowcolor\": \"#2a3f5f\", \"arrowhead\": 0, \"arrowwidth\": 1}, \"autotypenumbers\": \"strict\", \"coloraxis\": {\"colorbar\": {\"outlinewidth\": 0, \"ticks\": \"\"}}, \"colorscale\": {\"diverging\": [[0, \"#8e0152\"], [0.1, \"#c51b7d\"], [0.2, \"#de77ae\"], [0.3, \"#f1b6da\"], [0.4, \"#fde0ef\"], [0.5, \"#f7f7f7\"], [0.6, \"#e6f5d0\"], [0.7, \"#b8e186\"], [0.8, \"#7fbc41\"], [0.9, \"#4d9221\"], [1, \"#276419\"]], \"sequential\": [[0.0, \"#0d0887\"], [0.1111111111111111, \"#46039f\"], [0.2222222222222222, \"#7201a8\"], [0.3333333333333333, \"#9c179e\"], [0.4444444444444444, \"#bd3786\"], [0.5555555555555556, \"#d8576b\"], [0.6666666666666666, \"#ed7953\"], [0.7777777777777778, \"#fb9f3a\"], [0.8888888888888888, \"#fdca26\"], [1.0, \"#f0f921\"]], \"sequentialminus\": [[0.0, \"#0d0887\"], [0.1111111111111111, \"#46039f\"], [0.2222222222222222, \"#7201a8\"], [0.3333333333333333, \"#9c179e\"], [0.4444444444444444, \"#bd3786\"], [0.5555555555555556, \"#d8576b\"], [0.6666666666666666, \"#ed7953\"], [0.7777777777777778, \"#fb9f3a\"], [0.8888888888888888, \"#fdca26\"], [1.0, \"#f0f921\"]]}, \"colorway\": [\"#636efa\", \"#EF553B\", \"#00cc96\", \"#ab63fa\", \"#FFA15A\", \"#19d3f3\", \"#FF6692\", \"#B6E880\", \"#FF97FF\", \"#FECB52\"], \"font\": {\"color\": \"#2a3f5f\"}, \"geo\": {\"bgcolor\": \"white\", \"lakecolor\": \"white\", \"landcolor\": \"#E5ECF6\", \"showlakes\": true, \"showland\": true, \"subunitcolor\": \"white\"}, \"hoverlabel\": {\"align\": \"left\"}, \"hovermode\": \"closest\", \"mapbox\": {\"style\": \"light\"}, \"paper_bgcolor\": \"white\", \"plot_bgcolor\": \"#E5ECF6\", \"polar\": {\"angularaxis\": {\"gridcolor\": \"white\", \"linecolor\": \"white\", \"ticks\": \"\"}, \"bgcolor\": \"#E5ECF6\", \"radialaxis\": {\"gridcolor\": \"white\", \"linecolor\": \"white\", \"ticks\": \"\"}}, \"scene\": {\"xaxis\": {\"backgroundcolor\": \"#E5ECF6\", \"gridcolor\": \"white\", \"gridwidth\": 2, \"linecolor\": \"white\", \"showbackground\": true, \"ticks\": \"\", \"zerolinecolor\": \"white\"}, \"yaxis\": {\"backgroundcolor\": \"#E5ECF6\", \"gridcolor\": \"white\", \"gridwidth\": 2, \"linecolor\": \"white\", \"showbackground\": true, \"ticks\": \"\", \"zerolinecolor\": \"white\"}, \"zaxis\": {\"backgroundcolor\": \"#E5ECF6\", \"gridcolor\": \"white\", \"gridwidth\": 2, \"linecolor\": \"white\", \"showbackground\": true, \"ticks\": \"\", \"zerolinecolor\": \"white\"}}, \"shapedefaults\": {\"line\": {\"color\": \"#2a3f5f\"}}, \"ternary\": {\"aaxis\": {\"gridcolor\": \"white\", \"linecolor\": \"white\", \"ticks\": \"\"}, \"baxis\": {\"gridcolor\": \"white\", \"linecolor\": \"white\", \"ticks\": \"\"}, \"bgcolor\": \"#E5ECF6\", \"caxis\": {\"gridcolor\": \"white\", \"linecolor\": \"white\", \"ticks\": \"\"}}, \"title\": {\"x\": 0.05}, \"xaxis\": {\"automargin\": true, \"gridcolor\": \"white\", \"linecolor\": \"white\", \"ticks\": \"\", \"title\": {\"standoff\": 15}, \"zerolinecolor\": \"white\", \"zerolinewidth\": 2}, \"yaxis\": {\"automargin\": true, \"gridcolor\": \"white\", \"linecolor\": \"white\", \"ticks\": \"\", \"title\": {\"standoff\": 15}, \"zerolinecolor\": \"white\", \"zerolinewidth\": 2}}}, \"width\": 700, \"xaxis\": {\"anchor\": \"y\", \"domain\": [0.0, 1.0], \"title\": {\"text\": \"level\"}}, \"yaxis\": {\"anchor\": \"x\", \"domain\": [0.0, 1.0], \"title\": {\"text\": \"price\"}}},                        {\"responsive\": true}                    ).then(function(){\n",
       "                            \n",
       "var gd = document.getElementById('7643539f-effb-4c27-a23a-3d793c823903');\n",
       "var x = new MutationObserver(function (mutations, observer) {{\n",
       "        var display = window.getComputedStyle(gd).display;\n",
       "        if (!display || display === 'none') {{\n",
       "            console.log([gd, 'removed!']);\n",
       "            Plotly.purge(gd);\n",
       "            observer.disconnect();\n",
       "        }}\n",
       "}});\n",
       "\n",
       "// Listen for the removal of the full notebook cells\n",
       "var notebookContainer = gd.closest('#notebook-container');\n",
       "if (notebookContainer) {{\n",
       "    x.observe(notebookContainer, {childList: true});\n",
       "}}\n",
       "\n",
       "// Listen for the clearing of the current output cell\n",
       "var outputEl = gd.closest('.output');\n",
       "if (outputEl) {{\n",
       "    x.observe(outputEl, {childList: true});\n",
       "}}\n",
       "\n",
       "                        })                };                });            </script>        </div>"
      ]
     },
     "metadata": {},
     "output_type": "display_data"
    }
   ],
   "source": [
    "fig.show()"
   ]
  },
  {
   "cell_type": "code",
   "execution_count": 34,
   "metadata": {},
   "outputs": [
    {
     "data": {
      "application/vnd.plotly.v1+json": {
       "config": {
        "plotlyServerURL": "https://plot.ly"
       },
       "data": [
        {
         "alignmentgroup": "True",
         "hovertemplate": "time_split=after<br>room_type=%{x}<br>price=%{y}<extra></extra>",
         "legendgroup": "after",
         "marker": {
          "color": "#636efa"
         },
         "name": "after",
         "notched": false,
         "offsetgroup": "after",
         "orientation": "v",
         "quartilemethod": "exclusive",
         "showlegend": true,
         "type": "box",
         "x": [
          "7",
          "9",
          "10",
          "10",
          "2",
          "4",
          "1",
          "1",
          "1",
          "9",
          "1",
          "2",
          "8",
          "9",
          "1",
          "9",
          "3",
          "9",
          "3",
          "2",
          "4",
          "4",
          "3",
          "2",
          "1",
          "10",
          "2",
          "7"
         ],
         "x0": " ",
         "xaxis": "x",
         "y": [
          520,
          560,
          580,
          620,
          650,
          510,
          600,
          550,
          660,
          650,
          650,
          650,
          550,
          595,
          580,
          580,
          580,
          680,
          580,
          650,
          450,
          650,
          600,
          720,
          490,
          700,
          800,
          670
         ],
         "y0": " ",
         "yaxis": "y"
        },
        {
         "alignmentgroup": "True",
         "hovertemplate": "time_split=before<br>room_type=%{x}<br>price=%{y}<extra></extra>",
         "legendgroup": "before",
         "marker": {
          "color": "#EF553B"
         },
         "name": "before",
         "notched": false,
         "offsetgroup": "before",
         "orientation": "v",
         "quartilemethod": "exclusive",
         "showlegend": true,
         "type": "box",
         "x": [
          "9",
          "9",
          "9",
          "10",
          "9",
          "8",
          "8",
          "11",
          "2",
          "2",
          "10",
          "8",
          "2",
          "9",
          "4",
          "2",
          "3",
          "7",
          "3",
          "1",
          "9",
          "6",
          "9",
          "3",
          "1",
          "10",
          "10",
          "10",
          "10",
          "10",
          "8",
          "2",
          "1",
          "11",
          "10",
          "2",
          "9",
          "10",
          "10",
          "3",
          "2",
          "1",
          "8",
          "3",
          "2",
          "3",
          "2",
          "10",
          "7",
          "9",
          "1",
          "2",
          "10",
          "10",
          "8",
          "1",
          "8",
          "2",
          "10",
          "1",
          "1",
          "10",
          "10",
          "10",
          "10",
          "1",
          "8",
          "3",
          "8",
          "1",
          "4",
          "2",
          "10"
         ],
         "x0": " ",
         "xaxis": "x",
         "y": [
          760,
          840,
          900,
          820,
          840,
          700,
          682,
          780,
          820,
          840,
          700,
          700,
          722,
          820,
          640,
          820,
          680,
          652,
          700,
          750,
          820,
          720,
          700,
          780,
          802,
          720,
          730,
          810,
          730,
          820,
          780,
          850,
          850,
          720,
          800,
          750,
          800,
          780,
          730,
          760,
          800,
          680,
          690,
          680,
          800,
          660,
          700,
          800,
          690,
          720,
          690,
          730,
          720,
          740,
          742,
          760,
          720,
          750,
          690,
          720,
          710,
          800,
          750,
          750,
          800,
          720,
          650,
          650,
          700,
          682,
          600,
          580,
          630
         ],
         "y0": " ",
         "yaxis": "y"
        }
       ],
       "layout": {
        "boxmode": "group",
        "height": 400,
        "legend": {
         "title": {
          "text": "time_split"
         },
         "tracegroupgap": 0
        },
        "margin": {
         "t": 60
        },
        "template": {
         "data": {
          "bar": [
           {
            "error_x": {
             "color": "#2a3f5f"
            },
            "error_y": {
             "color": "#2a3f5f"
            },
            "marker": {
             "line": {
              "color": "#E5ECF6",
              "width": 0.5
             }
            },
            "type": "bar"
           }
          ],
          "barpolar": [
           {
            "marker": {
             "line": {
              "color": "#E5ECF6",
              "width": 0.5
             }
            },
            "type": "barpolar"
           }
          ],
          "carpet": [
           {
            "aaxis": {
             "endlinecolor": "#2a3f5f",
             "gridcolor": "white",
             "linecolor": "white",
             "minorgridcolor": "white",
             "startlinecolor": "#2a3f5f"
            },
            "baxis": {
             "endlinecolor": "#2a3f5f",
             "gridcolor": "white",
             "linecolor": "white",
             "minorgridcolor": "white",
             "startlinecolor": "#2a3f5f"
            },
            "type": "carpet"
           }
          ],
          "choropleth": [
           {
            "colorbar": {
             "outlinewidth": 0,
             "ticks": ""
            },
            "type": "choropleth"
           }
          ],
          "contour": [
           {
            "colorbar": {
             "outlinewidth": 0,
             "ticks": ""
            },
            "colorscale": [
             [
              0,
              "#0d0887"
             ],
             [
              0.1111111111111111,
              "#46039f"
             ],
             [
              0.2222222222222222,
              "#7201a8"
             ],
             [
              0.3333333333333333,
              "#9c179e"
             ],
             [
              0.4444444444444444,
              "#bd3786"
             ],
             [
              0.5555555555555556,
              "#d8576b"
             ],
             [
              0.6666666666666666,
              "#ed7953"
             ],
             [
              0.7777777777777778,
              "#fb9f3a"
             ],
             [
              0.8888888888888888,
              "#fdca26"
             ],
             [
              1,
              "#f0f921"
             ]
            ],
            "type": "contour"
           }
          ],
          "contourcarpet": [
           {
            "colorbar": {
             "outlinewidth": 0,
             "ticks": ""
            },
            "type": "contourcarpet"
           }
          ],
          "heatmap": [
           {
            "colorbar": {
             "outlinewidth": 0,
             "ticks": ""
            },
            "colorscale": [
             [
              0,
              "#0d0887"
             ],
             [
              0.1111111111111111,
              "#46039f"
             ],
             [
              0.2222222222222222,
              "#7201a8"
             ],
             [
              0.3333333333333333,
              "#9c179e"
             ],
             [
              0.4444444444444444,
              "#bd3786"
             ],
             [
              0.5555555555555556,
              "#d8576b"
             ],
             [
              0.6666666666666666,
              "#ed7953"
             ],
             [
              0.7777777777777778,
              "#fb9f3a"
             ],
             [
              0.8888888888888888,
              "#fdca26"
             ],
             [
              1,
              "#f0f921"
             ]
            ],
            "type": "heatmap"
           }
          ],
          "heatmapgl": [
           {
            "colorbar": {
             "outlinewidth": 0,
             "ticks": ""
            },
            "colorscale": [
             [
              0,
              "#0d0887"
             ],
             [
              0.1111111111111111,
              "#46039f"
             ],
             [
              0.2222222222222222,
              "#7201a8"
             ],
             [
              0.3333333333333333,
              "#9c179e"
             ],
             [
              0.4444444444444444,
              "#bd3786"
             ],
             [
              0.5555555555555556,
              "#d8576b"
             ],
             [
              0.6666666666666666,
              "#ed7953"
             ],
             [
              0.7777777777777778,
              "#fb9f3a"
             ],
             [
              0.8888888888888888,
              "#fdca26"
             ],
             [
              1,
              "#f0f921"
             ]
            ],
            "type": "heatmapgl"
           }
          ],
          "histogram": [
           {
            "marker": {
             "colorbar": {
              "outlinewidth": 0,
              "ticks": ""
             }
            },
            "type": "histogram"
           }
          ],
          "histogram2d": [
           {
            "colorbar": {
             "outlinewidth": 0,
             "ticks": ""
            },
            "colorscale": [
             [
              0,
              "#0d0887"
             ],
             [
              0.1111111111111111,
              "#46039f"
             ],
             [
              0.2222222222222222,
              "#7201a8"
             ],
             [
              0.3333333333333333,
              "#9c179e"
             ],
             [
              0.4444444444444444,
              "#bd3786"
             ],
             [
              0.5555555555555556,
              "#d8576b"
             ],
             [
              0.6666666666666666,
              "#ed7953"
             ],
             [
              0.7777777777777778,
              "#fb9f3a"
             ],
             [
              0.8888888888888888,
              "#fdca26"
             ],
             [
              1,
              "#f0f921"
             ]
            ],
            "type": "histogram2d"
           }
          ],
          "histogram2dcontour": [
           {
            "colorbar": {
             "outlinewidth": 0,
             "ticks": ""
            },
            "colorscale": [
             [
              0,
              "#0d0887"
             ],
             [
              0.1111111111111111,
              "#46039f"
             ],
             [
              0.2222222222222222,
              "#7201a8"
             ],
             [
              0.3333333333333333,
              "#9c179e"
             ],
             [
              0.4444444444444444,
              "#bd3786"
             ],
             [
              0.5555555555555556,
              "#d8576b"
             ],
             [
              0.6666666666666666,
              "#ed7953"
             ],
             [
              0.7777777777777778,
              "#fb9f3a"
             ],
             [
              0.8888888888888888,
              "#fdca26"
             ],
             [
              1,
              "#f0f921"
             ]
            ],
            "type": "histogram2dcontour"
           }
          ],
          "mesh3d": [
           {
            "colorbar": {
             "outlinewidth": 0,
             "ticks": ""
            },
            "type": "mesh3d"
           }
          ],
          "parcoords": [
           {
            "line": {
             "colorbar": {
              "outlinewidth": 0,
              "ticks": ""
             }
            },
            "type": "parcoords"
           }
          ],
          "pie": [
           {
            "automargin": true,
            "type": "pie"
           }
          ],
          "scatter": [
           {
            "marker": {
             "colorbar": {
              "outlinewidth": 0,
              "ticks": ""
             }
            },
            "type": "scatter"
           }
          ],
          "scatter3d": [
           {
            "line": {
             "colorbar": {
              "outlinewidth": 0,
              "ticks": ""
             }
            },
            "marker": {
             "colorbar": {
              "outlinewidth": 0,
              "ticks": ""
             }
            },
            "type": "scatter3d"
           }
          ],
          "scattercarpet": [
           {
            "marker": {
             "colorbar": {
              "outlinewidth": 0,
              "ticks": ""
             }
            },
            "type": "scattercarpet"
           }
          ],
          "scattergeo": [
           {
            "marker": {
             "colorbar": {
              "outlinewidth": 0,
              "ticks": ""
             }
            },
            "type": "scattergeo"
           }
          ],
          "scattergl": [
           {
            "marker": {
             "colorbar": {
              "outlinewidth": 0,
              "ticks": ""
             }
            },
            "type": "scattergl"
           }
          ],
          "scattermapbox": [
           {
            "marker": {
             "colorbar": {
              "outlinewidth": 0,
              "ticks": ""
             }
            },
            "type": "scattermapbox"
           }
          ],
          "scatterpolar": [
           {
            "marker": {
             "colorbar": {
              "outlinewidth": 0,
              "ticks": ""
             }
            },
            "type": "scatterpolar"
           }
          ],
          "scatterpolargl": [
           {
            "marker": {
             "colorbar": {
              "outlinewidth": 0,
              "ticks": ""
             }
            },
            "type": "scatterpolargl"
           }
          ],
          "scatterternary": [
           {
            "marker": {
             "colorbar": {
              "outlinewidth": 0,
              "ticks": ""
             }
            },
            "type": "scatterternary"
           }
          ],
          "surface": [
           {
            "colorbar": {
             "outlinewidth": 0,
             "ticks": ""
            },
            "colorscale": [
             [
              0,
              "#0d0887"
             ],
             [
              0.1111111111111111,
              "#46039f"
             ],
             [
              0.2222222222222222,
              "#7201a8"
             ],
             [
              0.3333333333333333,
              "#9c179e"
             ],
             [
              0.4444444444444444,
              "#bd3786"
             ],
             [
              0.5555555555555556,
              "#d8576b"
             ],
             [
              0.6666666666666666,
              "#ed7953"
             ],
             [
              0.7777777777777778,
              "#fb9f3a"
             ],
             [
              0.8888888888888888,
              "#fdca26"
             ],
             [
              1,
              "#f0f921"
             ]
            ],
            "type": "surface"
           }
          ],
          "table": [
           {
            "cells": {
             "fill": {
              "color": "#EBF0F8"
             },
             "line": {
              "color": "white"
             }
            },
            "header": {
             "fill": {
              "color": "#C8D4E3"
             },
             "line": {
              "color": "white"
             }
            },
            "type": "table"
           }
          ]
         },
         "layout": {
          "annotationdefaults": {
           "arrowcolor": "#2a3f5f",
           "arrowhead": 0,
           "arrowwidth": 1
          },
          "autotypenumbers": "strict",
          "coloraxis": {
           "colorbar": {
            "outlinewidth": 0,
            "ticks": ""
           }
          },
          "colorscale": {
           "diverging": [
            [
             0,
             "#8e0152"
            ],
            [
             0.1,
             "#c51b7d"
            ],
            [
             0.2,
             "#de77ae"
            ],
            [
             0.3,
             "#f1b6da"
            ],
            [
             0.4,
             "#fde0ef"
            ],
            [
             0.5,
             "#f7f7f7"
            ],
            [
             0.6,
             "#e6f5d0"
            ],
            [
             0.7,
             "#b8e186"
            ],
            [
             0.8,
             "#7fbc41"
            ],
            [
             0.9,
             "#4d9221"
            ],
            [
             1,
             "#276419"
            ]
           ],
           "sequential": [
            [
             0,
             "#0d0887"
            ],
            [
             0.1111111111111111,
             "#46039f"
            ],
            [
             0.2222222222222222,
             "#7201a8"
            ],
            [
             0.3333333333333333,
             "#9c179e"
            ],
            [
             0.4444444444444444,
             "#bd3786"
            ],
            [
             0.5555555555555556,
             "#d8576b"
            ],
            [
             0.6666666666666666,
             "#ed7953"
            ],
            [
             0.7777777777777778,
             "#fb9f3a"
            ],
            [
             0.8888888888888888,
             "#fdca26"
            ],
            [
             1,
             "#f0f921"
            ]
           ],
           "sequentialminus": [
            [
             0,
             "#0d0887"
            ],
            [
             0.1111111111111111,
             "#46039f"
            ],
            [
             0.2222222222222222,
             "#7201a8"
            ],
            [
             0.3333333333333333,
             "#9c179e"
            ],
            [
             0.4444444444444444,
             "#bd3786"
            ],
            [
             0.5555555555555556,
             "#d8576b"
            ],
            [
             0.6666666666666666,
             "#ed7953"
            ],
            [
             0.7777777777777778,
             "#fb9f3a"
            ],
            [
             0.8888888888888888,
             "#fdca26"
            ],
            [
             1,
             "#f0f921"
            ]
           ]
          },
          "colorway": [
           "#636efa",
           "#EF553B",
           "#00cc96",
           "#ab63fa",
           "#FFA15A",
           "#19d3f3",
           "#FF6692",
           "#B6E880",
           "#FF97FF",
           "#FECB52"
          ],
          "font": {
           "color": "#2a3f5f"
          },
          "geo": {
           "bgcolor": "white",
           "lakecolor": "white",
           "landcolor": "#E5ECF6",
           "showlakes": true,
           "showland": true,
           "subunitcolor": "white"
          },
          "hoverlabel": {
           "align": "left"
          },
          "hovermode": "closest",
          "mapbox": {
           "style": "light"
          },
          "paper_bgcolor": "white",
          "plot_bgcolor": "#E5ECF6",
          "polar": {
           "angularaxis": {
            "gridcolor": "white",
            "linecolor": "white",
            "ticks": ""
           },
           "bgcolor": "#E5ECF6",
           "radialaxis": {
            "gridcolor": "white",
            "linecolor": "white",
            "ticks": ""
           }
          },
          "scene": {
           "xaxis": {
            "backgroundcolor": "#E5ECF6",
            "gridcolor": "white",
            "gridwidth": 2,
            "linecolor": "white",
            "showbackground": true,
            "ticks": "",
            "zerolinecolor": "white"
           },
           "yaxis": {
            "backgroundcolor": "#E5ECF6",
            "gridcolor": "white",
            "gridwidth": 2,
            "linecolor": "white",
            "showbackground": true,
            "ticks": "",
            "zerolinecolor": "white"
           },
           "zaxis": {
            "backgroundcolor": "#E5ECF6",
            "gridcolor": "white",
            "gridwidth": 2,
            "linecolor": "white",
            "showbackground": true,
            "ticks": "",
            "zerolinecolor": "white"
           }
          },
          "shapedefaults": {
           "line": {
            "color": "#2a3f5f"
           }
          },
          "ternary": {
           "aaxis": {
            "gridcolor": "white",
            "linecolor": "white",
            "ticks": ""
           },
           "baxis": {
            "gridcolor": "white",
            "linecolor": "white",
            "ticks": ""
           },
           "bgcolor": "#E5ECF6",
           "caxis": {
            "gridcolor": "white",
            "linecolor": "white",
            "ticks": ""
           }
          },
          "title": {
           "x": 0.05
          },
          "xaxis": {
           "automargin": true,
           "gridcolor": "white",
           "linecolor": "white",
           "ticks": "",
           "title": {
            "standoff": 15
           },
           "zerolinecolor": "white",
           "zerolinewidth": 2
          },
          "yaxis": {
           "automargin": true,
           "gridcolor": "white",
           "linecolor": "white",
           "ticks": "",
           "title": {
            "standoff": 15
           },
           "zerolinecolor": "white",
           "zerolinewidth": 2
          }
         }
        },
        "width": 800,
        "xaxis": {
         "anchor": "y",
         "domain": [
          0,
          1
         ],
         "title": {
          "text": "room_type"
         },
         "type": "category"
        },
        "yaxis": {
         "anchor": "x",
         "domain": [
          0,
          1
         ],
         "title": {
          "text": "price"
         }
        }
       }
      },
      "text/html": [
       "<div>                            <div id=\"d649fef7-7d08-447c-a1c1-2d35f298cbd0\" class=\"plotly-graph-div\" style=\"height:400px; width:800px;\"></div>            <script type=\"text/javascript\">                require([\"plotly\"], function(Plotly) {                    window.PLOTLYENV=window.PLOTLYENV || {};                                    if (document.getElementById(\"d649fef7-7d08-447c-a1c1-2d35f298cbd0\")) {                    Plotly.newPlot(                        \"d649fef7-7d08-447c-a1c1-2d35f298cbd0\",                        [{\"alignmentgroup\": \"True\", \"hovertemplate\": \"time_split=after<br>room_type=%{x}<br>price=%{y}<extra></extra>\", \"legendgroup\": \"after\", \"marker\": {\"color\": \"#636efa\"}, \"name\": \"after\", \"notched\": false, \"offsetgroup\": \"after\", \"orientation\": \"v\", \"quartilemethod\": \"exclusive\", \"showlegend\": true, \"type\": \"box\", \"x\": [\"7\", \"9\", \"10\", \"10\", \"2\", \"4\", \"1\", \"1\", \"1\", \"9\", \"1\", \"2\", \"8\", \"9\", \"1\", \"9\", \"3\", \"9\", \"3\", \"2\", \"4\", \"4\", \"3\", \"2\", \"1\", \"10\", \"2\", \"7\"], \"x0\": \" \", \"xaxis\": \"x\", \"y\": [520, 560, 580, 620, 650, 510, 600, 550, 660, 650, 650, 650, 550, 595, 580, 580, 580, 680, 580, 650, 450, 650, 600, 720, 490, 700, 800, 670], \"y0\": \" \", \"yaxis\": \"y\"}, {\"alignmentgroup\": \"True\", \"hovertemplate\": \"time_split=before<br>room_type=%{x}<br>price=%{y}<extra></extra>\", \"legendgroup\": \"before\", \"marker\": {\"color\": \"#EF553B\"}, \"name\": \"before\", \"notched\": false, \"offsetgroup\": \"before\", \"orientation\": \"v\", \"quartilemethod\": \"exclusive\", \"showlegend\": true, \"type\": \"box\", \"x\": [\"9\", \"9\", \"9\", \"10\", \"9\", \"8\", \"8\", \"11\", \"2\", \"2\", \"10\", \"8\", \"2\", \"9\", \"4\", \"2\", \"3\", \"7\", \"3\", \"1\", \"9\", \"6\", \"9\", \"3\", \"1\", \"10\", \"10\", \"10\", \"10\", \"10\", \"8\", \"2\", \"1\", \"11\", \"10\", \"2\", \"9\", \"10\", \"10\", \"3\", \"2\", \"1\", \"8\", \"3\", \"2\", \"3\", \"2\", \"10\", \"7\", \"9\", \"1\", \"2\", \"10\", \"10\", \"8\", \"1\", \"8\", \"2\", \"10\", \"1\", \"1\", \"10\", \"10\", \"10\", \"10\", \"1\", \"8\", \"3\", \"8\", \"1\", \"4\", \"2\", \"10\"], \"x0\": \" \", \"xaxis\": \"x\", \"y\": [760, 840, 900, 820, 840, 700, 682, 780, 820, 840, 700, 700, 722, 820, 640, 820, 680, 652, 700, 750, 820, 720, 700, 780, 802, 720, 730, 810, 730, 820, 780, 850, 850, 720, 800, 750, 800, 780, 730, 760, 800, 680, 690, 680, 800, 660, 700, 800, 690, 720, 690, 730, 720, 740, 742, 760, 720, 750, 690, 720, 710, 800, 750, 750, 800, 720, 650, 650, 700, 682, 600, 580, 630], \"y0\": \" \", \"yaxis\": \"y\"}],                        {\"boxmode\": \"group\", \"height\": 400, \"legend\": {\"title\": {\"text\": \"time_split\"}, \"tracegroupgap\": 0}, \"margin\": {\"t\": 60}, \"template\": {\"data\": {\"bar\": [{\"error_x\": {\"color\": \"#2a3f5f\"}, \"error_y\": {\"color\": \"#2a3f5f\"}, \"marker\": {\"line\": {\"color\": \"#E5ECF6\", \"width\": 0.5}}, \"type\": \"bar\"}], \"barpolar\": [{\"marker\": {\"line\": {\"color\": \"#E5ECF6\", \"width\": 0.5}}, \"type\": \"barpolar\"}], \"carpet\": [{\"aaxis\": {\"endlinecolor\": \"#2a3f5f\", \"gridcolor\": \"white\", \"linecolor\": \"white\", \"minorgridcolor\": \"white\", \"startlinecolor\": \"#2a3f5f\"}, \"baxis\": {\"endlinecolor\": \"#2a3f5f\", \"gridcolor\": \"white\", \"linecolor\": \"white\", \"minorgridcolor\": \"white\", \"startlinecolor\": \"#2a3f5f\"}, \"type\": \"carpet\"}], \"choropleth\": [{\"colorbar\": {\"outlinewidth\": 0, \"ticks\": \"\"}, \"type\": \"choropleth\"}], \"contour\": [{\"colorbar\": {\"outlinewidth\": 0, \"ticks\": \"\"}, \"colorscale\": [[0.0, \"#0d0887\"], [0.1111111111111111, \"#46039f\"], [0.2222222222222222, \"#7201a8\"], [0.3333333333333333, \"#9c179e\"], [0.4444444444444444, \"#bd3786\"], [0.5555555555555556, \"#d8576b\"], [0.6666666666666666, \"#ed7953\"], [0.7777777777777778, \"#fb9f3a\"], [0.8888888888888888, \"#fdca26\"], [1.0, \"#f0f921\"]], \"type\": \"contour\"}], \"contourcarpet\": [{\"colorbar\": {\"outlinewidth\": 0, \"ticks\": \"\"}, \"type\": \"contourcarpet\"}], \"heatmap\": [{\"colorbar\": {\"outlinewidth\": 0, \"ticks\": \"\"}, \"colorscale\": [[0.0, \"#0d0887\"], [0.1111111111111111, \"#46039f\"], [0.2222222222222222, \"#7201a8\"], [0.3333333333333333, \"#9c179e\"], [0.4444444444444444, \"#bd3786\"], [0.5555555555555556, \"#d8576b\"], [0.6666666666666666, \"#ed7953\"], [0.7777777777777778, \"#fb9f3a\"], [0.8888888888888888, \"#fdca26\"], [1.0, \"#f0f921\"]], \"type\": \"heatmap\"}], \"heatmapgl\": [{\"colorbar\": {\"outlinewidth\": 0, \"ticks\": \"\"}, \"colorscale\": [[0.0, \"#0d0887\"], [0.1111111111111111, \"#46039f\"], [0.2222222222222222, \"#7201a8\"], [0.3333333333333333, \"#9c179e\"], [0.4444444444444444, \"#bd3786\"], [0.5555555555555556, \"#d8576b\"], [0.6666666666666666, \"#ed7953\"], [0.7777777777777778, \"#fb9f3a\"], [0.8888888888888888, \"#fdca26\"], [1.0, \"#f0f921\"]], \"type\": \"heatmapgl\"}], \"histogram\": [{\"marker\": {\"colorbar\": {\"outlinewidth\": 0, \"ticks\": \"\"}}, \"type\": \"histogram\"}], \"histogram2d\": [{\"colorbar\": {\"outlinewidth\": 0, \"ticks\": \"\"}, \"colorscale\": [[0.0, \"#0d0887\"], [0.1111111111111111, \"#46039f\"], [0.2222222222222222, \"#7201a8\"], [0.3333333333333333, \"#9c179e\"], [0.4444444444444444, \"#bd3786\"], [0.5555555555555556, \"#d8576b\"], [0.6666666666666666, \"#ed7953\"], [0.7777777777777778, \"#fb9f3a\"], [0.8888888888888888, \"#fdca26\"], [1.0, \"#f0f921\"]], \"type\": \"histogram2d\"}], \"histogram2dcontour\": [{\"colorbar\": {\"outlinewidth\": 0, \"ticks\": \"\"}, \"colorscale\": [[0.0, \"#0d0887\"], [0.1111111111111111, \"#46039f\"], [0.2222222222222222, \"#7201a8\"], [0.3333333333333333, \"#9c179e\"], [0.4444444444444444, \"#bd3786\"], [0.5555555555555556, \"#d8576b\"], [0.6666666666666666, \"#ed7953\"], [0.7777777777777778, \"#fb9f3a\"], [0.8888888888888888, \"#fdca26\"], [1.0, \"#f0f921\"]], \"type\": \"histogram2dcontour\"}], \"mesh3d\": [{\"colorbar\": {\"outlinewidth\": 0, \"ticks\": \"\"}, \"type\": \"mesh3d\"}], \"parcoords\": [{\"line\": {\"colorbar\": {\"outlinewidth\": 0, \"ticks\": \"\"}}, \"type\": \"parcoords\"}], \"pie\": [{\"automargin\": true, \"type\": \"pie\"}], \"scatter\": [{\"marker\": {\"colorbar\": {\"outlinewidth\": 0, \"ticks\": \"\"}}, \"type\": \"scatter\"}], \"scatter3d\": [{\"line\": {\"colorbar\": {\"outlinewidth\": 0, \"ticks\": \"\"}}, \"marker\": {\"colorbar\": {\"outlinewidth\": 0, \"ticks\": \"\"}}, \"type\": \"scatter3d\"}], \"scattercarpet\": [{\"marker\": {\"colorbar\": {\"outlinewidth\": 0, \"ticks\": \"\"}}, \"type\": \"scattercarpet\"}], \"scattergeo\": [{\"marker\": {\"colorbar\": {\"outlinewidth\": 0, \"ticks\": \"\"}}, \"type\": \"scattergeo\"}], \"scattergl\": [{\"marker\": {\"colorbar\": {\"outlinewidth\": 0, \"ticks\": \"\"}}, \"type\": \"scattergl\"}], \"scattermapbox\": [{\"marker\": {\"colorbar\": {\"outlinewidth\": 0, \"ticks\": \"\"}}, \"type\": \"scattermapbox\"}], \"scatterpolar\": [{\"marker\": {\"colorbar\": {\"outlinewidth\": 0, \"ticks\": \"\"}}, \"type\": \"scatterpolar\"}], \"scatterpolargl\": [{\"marker\": {\"colorbar\": {\"outlinewidth\": 0, \"ticks\": \"\"}}, \"type\": \"scatterpolargl\"}], \"scatterternary\": [{\"marker\": {\"colorbar\": {\"outlinewidth\": 0, \"ticks\": \"\"}}, \"type\": \"scatterternary\"}], \"surface\": [{\"colorbar\": {\"outlinewidth\": 0, \"ticks\": \"\"}, \"colorscale\": [[0.0, \"#0d0887\"], [0.1111111111111111, \"#46039f\"], [0.2222222222222222, \"#7201a8\"], [0.3333333333333333, \"#9c179e\"], [0.4444444444444444, \"#bd3786\"], [0.5555555555555556, \"#d8576b\"], [0.6666666666666666, \"#ed7953\"], [0.7777777777777778, \"#fb9f3a\"], [0.8888888888888888, \"#fdca26\"], [1.0, \"#f0f921\"]], \"type\": \"surface\"}], \"table\": [{\"cells\": {\"fill\": {\"color\": \"#EBF0F8\"}, \"line\": {\"color\": \"white\"}}, \"header\": {\"fill\": {\"color\": \"#C8D4E3\"}, \"line\": {\"color\": \"white\"}}, \"type\": \"table\"}]}, \"layout\": {\"annotationdefaults\": {\"arrowcolor\": \"#2a3f5f\", \"arrowhead\": 0, \"arrowwidth\": 1}, \"autotypenumbers\": \"strict\", \"coloraxis\": {\"colorbar\": {\"outlinewidth\": 0, \"ticks\": \"\"}}, \"colorscale\": {\"diverging\": [[0, \"#8e0152\"], [0.1, \"#c51b7d\"], [0.2, \"#de77ae\"], [0.3, \"#f1b6da\"], [0.4, \"#fde0ef\"], [0.5, \"#f7f7f7\"], [0.6, \"#e6f5d0\"], [0.7, \"#b8e186\"], [0.8, \"#7fbc41\"], [0.9, \"#4d9221\"], [1, \"#276419\"]], \"sequential\": [[0.0, \"#0d0887\"], [0.1111111111111111, \"#46039f\"], [0.2222222222222222, \"#7201a8\"], [0.3333333333333333, \"#9c179e\"], [0.4444444444444444, \"#bd3786\"], [0.5555555555555556, \"#d8576b\"], [0.6666666666666666, \"#ed7953\"], [0.7777777777777778, \"#fb9f3a\"], [0.8888888888888888, \"#fdca26\"], [1.0, \"#f0f921\"]], \"sequentialminus\": [[0.0, \"#0d0887\"], [0.1111111111111111, \"#46039f\"], [0.2222222222222222, \"#7201a8\"], [0.3333333333333333, \"#9c179e\"], [0.4444444444444444, \"#bd3786\"], [0.5555555555555556, \"#d8576b\"], [0.6666666666666666, \"#ed7953\"], [0.7777777777777778, \"#fb9f3a\"], [0.8888888888888888, \"#fdca26\"], [1.0, \"#f0f921\"]]}, \"colorway\": [\"#636efa\", \"#EF553B\", \"#00cc96\", \"#ab63fa\", \"#FFA15A\", \"#19d3f3\", \"#FF6692\", \"#B6E880\", \"#FF97FF\", \"#FECB52\"], \"font\": {\"color\": \"#2a3f5f\"}, \"geo\": {\"bgcolor\": \"white\", \"lakecolor\": \"white\", \"landcolor\": \"#E5ECF6\", \"showlakes\": true, \"showland\": true, \"subunitcolor\": \"white\"}, \"hoverlabel\": {\"align\": \"left\"}, \"hovermode\": \"closest\", \"mapbox\": {\"style\": \"light\"}, \"paper_bgcolor\": \"white\", \"plot_bgcolor\": \"#E5ECF6\", \"polar\": {\"angularaxis\": {\"gridcolor\": \"white\", \"linecolor\": \"white\", \"ticks\": \"\"}, \"bgcolor\": \"#E5ECF6\", \"radialaxis\": {\"gridcolor\": \"white\", \"linecolor\": \"white\", \"ticks\": \"\"}}, \"scene\": {\"xaxis\": {\"backgroundcolor\": \"#E5ECF6\", \"gridcolor\": \"white\", \"gridwidth\": 2, \"linecolor\": \"white\", \"showbackground\": true, \"ticks\": \"\", \"zerolinecolor\": \"white\"}, \"yaxis\": {\"backgroundcolor\": \"#E5ECF6\", \"gridcolor\": \"white\", \"gridwidth\": 2, \"linecolor\": \"white\", \"showbackground\": true, \"ticks\": \"\", \"zerolinecolor\": \"white\"}, \"zaxis\": {\"backgroundcolor\": \"#E5ECF6\", \"gridcolor\": \"white\", \"gridwidth\": 2, \"linecolor\": \"white\", \"showbackground\": true, \"ticks\": \"\", \"zerolinecolor\": \"white\"}}, \"shapedefaults\": {\"line\": {\"color\": \"#2a3f5f\"}}, \"ternary\": {\"aaxis\": {\"gridcolor\": \"white\", \"linecolor\": \"white\", \"ticks\": \"\"}, \"baxis\": {\"gridcolor\": \"white\", \"linecolor\": \"white\", \"ticks\": \"\"}, \"bgcolor\": \"#E5ECF6\", \"caxis\": {\"gridcolor\": \"white\", \"linecolor\": \"white\", \"ticks\": \"\"}}, \"title\": {\"x\": 0.05}, \"xaxis\": {\"automargin\": true, \"gridcolor\": \"white\", \"linecolor\": \"white\", \"ticks\": \"\", \"title\": {\"standoff\": 15}, \"zerolinecolor\": \"white\", \"zerolinewidth\": 2}, \"yaxis\": {\"automargin\": true, \"gridcolor\": \"white\", \"linecolor\": \"white\", \"ticks\": \"\", \"title\": {\"standoff\": 15}, \"zerolinecolor\": \"white\", \"zerolinewidth\": 2}}}, \"width\": 800, \"xaxis\": {\"anchor\": \"y\", \"domain\": [0.0, 1.0], \"title\": {\"text\": \"room_type\"}, \"type\": \"category\"}, \"yaxis\": {\"anchor\": \"x\", \"domain\": [0.0, 1.0], \"title\": {\"text\": \"price\"}}},                        {\"responsive\": true}                    ).then(function(){\n",
       "                            \n",
       "var gd = document.getElementById('d649fef7-7d08-447c-a1c1-2d35f298cbd0');\n",
       "var x = new MutationObserver(function (mutations, observer) {{\n",
       "        var display = window.getComputedStyle(gd).display;\n",
       "        if (!display || display === 'none') {{\n",
       "            console.log([gd, 'removed!']);\n",
       "            Plotly.purge(gd);\n",
       "            observer.disconnect();\n",
       "        }}\n",
       "}});\n",
       "\n",
       "// Listen for the removal of the full notebook cells\n",
       "var notebookContainer = gd.closest('#notebook-container');\n",
       "if (notebookContainer) {{\n",
       "    x.observe(notebookContainer, {childList: true});\n",
       "}}\n",
       "\n",
       "// Listen for the clearing of the current output cell\n",
       "var outputEl = gd.closest('.output');\n",
       "if (outputEl) {{\n",
       "    x.observe(outputEl, {childList: true});\n",
       "}}\n",
       "\n",
       "                        })                };                });            </script>        </div>"
      ]
     },
     "metadata": {},
     "output_type": "display_data"
    }
   ],
   "source": [
    "# plot box \n",
    "df.loc[df.date <= pd.to_datetime('20200301', format='%Y%m%d'),'time_split'] = 'before'\n",
    "\n",
    "df.loc[df.date > pd.to_datetime('20200301', format='%Y%m%d'),'time_split'] = 'after'\n",
    "\n",
    "fig = px.box(df, x=\"room_type\", y=\"price\", color=\"time_split\",height=400, width=800)\n",
    "fig.update_traces(quartilemethod=\"exclusive\") # or \"inclusive\", or \"linear\" by default\n",
    "\n",
    "fig.update_xaxes(type='category')\n",
    "fig.show()"
   ]
  },
  {
   "cell_type": "markdown",
   "metadata": {},
   "source": [
    "#### API Calls"
   ]
  },
  {
   "cell_type": "code",
   "execution_count": null,
   "metadata": {},
   "outputs": [],
   "source": []
  },
  {
   "cell_type": "code",
   "execution_count": 83,
   "metadata": {},
   "outputs": [],
   "source": [
    "headers = {\"accept\": \"application/json\", \"X-Api-key\" : \"key_96722ad209ed03b38756862ecdd76b01\"}"
   ]
  },
  {
   "cell_type": "code",
   "execution_count": 63,
   "metadata": {},
   "outputs": [],
   "source": [
    "# get property ID \n",
    "params = {\n",
    "    \"terms\" :  \"3705/318-russell-street-melbourne-vic-3000\", \n",
    "    \"pageSize\" :  20,\n",
    "    \"channel\": \"Residential\"\n",
    "}\n",
    "url = 'https://api.domain.com.au/sandbox/v1/properties/_suggest'"
   ]
  },
  {
   "cell_type": "code",
   "execution_count": 64,
   "metadata": {},
   "outputs": [],
   "source": [
    "r = requests.get(url, params, headers = headers )"
   ]
  },
  {
   "cell_type": "code",
   "execution_count": 65,
   "metadata": {},
   "outputs": [],
   "source": [
    "res = r.json()"
   ]
  },
  {
   "cell_type": "code",
   "execution_count": 66,
   "metadata": {},
   "outputs": [
    {
     "name": "stdout",
     "output_type": "stream",
     "text": [
      "CM-7189-NW\n",
      "100\n"
     ]
    }
   ],
   "source": [
    "print(res[0][\"id\"])\n",
    "print(res[0][\"relativeScore\"])"
   ]
  },
  {
   "cell_type": "code",
   "execution_count": 49,
   "metadata": {},
   "outputs": [],
   "source": [
    "prop_id = res[0][\"id\"]"
   ]
  },
  {
   "cell_type": "code",
   "execution_count": 54,
   "metadata": {},
   "outputs": [],
   "source": [
    "# get size with property id \n",
    "params = {\n",
    "    \"id\" : prop_id\n",
    "}\n",
    "url = 'https://api.domain.com.au/sandbox/v1/properties/' + prop_id"
   ]
  },
  {
   "cell_type": "code",
   "execution_count": 61,
   "metadata": {},
   "outputs": [],
   "source": [
    "prop_json = requests.get(url, headers = headers ).json()"
   ]
  },
  {
   "cell_type": "code",
   "execution_count": 62,
   "metadata": {},
   "outputs": [
    {
     "data": {
      "text/plain": [
       "933"
      ]
     },
     "execution_count": 62,
     "metadata": {},
     "output_type": "execute_result"
    }
   ],
   "source": [
    "prop_json['areaSize']"
   ]
  },
  {
   "cell_type": "code",
   "execution_count": 72,
   "metadata": {},
   "outputs": [
    {
     "ename": "KeyError",
     "evalue": "0",
     "output_type": "error",
     "traceback": [
      "\u001b[0;31m---------------------------------------------------------------------------\u001b[0m",
      "\u001b[0;31mKeyError\u001b[0m                                  Traceback (most recent call last)",
      "\u001b[0;32m<ipython-input-72-ca6552093e5a>\u001b[0m in \u001b[0;36m<module>\u001b[0;34m\u001b[0m\n\u001b[1;32m     14\u001b[0m     \u001b[0mparams\u001b[0m\u001b[0;34m[\u001b[0m\u001b[0;34m\"terms\"\u001b[0m\u001b[0;34m]\u001b[0m \u001b[0;34m=\u001b[0m  \u001b[0mstr\u001b[0m\u001b[0;34m(\u001b[0m\u001b[0mdf_318_rus\u001b[0m\u001b[0;34m.\u001b[0m\u001b[0mloc\u001b[0m\u001b[0;34m[\u001b[0m\u001b[0mi\u001b[0m\u001b[0;34m,\u001b[0m \u001b[0;34m\"room_no\"\u001b[0m\u001b[0;34m]\u001b[0m\u001b[0;34m)\u001b[0m \u001b[0;34m+\u001b[0m \u001b[0;34m\"/\"\u001b[0m\u001b[0;34m+\u001b[0m \u001b[0mdf_318_rus\u001b[0m\u001b[0;34m.\u001b[0m\u001b[0mloc\u001b[0m\u001b[0;34m[\u001b[0m\u001b[0mi\u001b[0m\u001b[0;34m,\u001b[0m \u001b[0;34m\"building_name\"\u001b[0m\u001b[0;34m]\u001b[0m\u001b[0;34m\u001b[0m\u001b[0;34m\u001b[0m\u001b[0m\n\u001b[1;32m     15\u001b[0m     \u001b[0mres\u001b[0m \u001b[0;34m=\u001b[0m \u001b[0mrequests\u001b[0m\u001b[0;34m.\u001b[0m\u001b[0mget\u001b[0m\u001b[0;34m(\u001b[0m\u001b[0murl\u001b[0m\u001b[0;34m,\u001b[0m\u001b[0mparams\u001b[0m \u001b[0;34m=\u001b[0m\u001b[0mparams\u001b[0m\u001b[0;34m,\u001b[0m \u001b[0mheaders\u001b[0m \u001b[0;34m=\u001b[0m \u001b[0mheaders\u001b[0m \u001b[0;34m)\u001b[0m\u001b[0;34m.\u001b[0m\u001b[0mjson\u001b[0m\u001b[0;34m(\u001b[0m\u001b[0;34m)\u001b[0m\u001b[0;34m\u001b[0m\u001b[0;34m\u001b[0m\u001b[0m\n\u001b[0;32m---> 16\u001b[0;31m     \u001b[0mprop_id\u001b[0m \u001b[0;34m=\u001b[0m \u001b[0mres\u001b[0m\u001b[0;34m[\u001b[0m\u001b[0;36m0\u001b[0m\u001b[0;34m]\u001b[0m\u001b[0;34m[\u001b[0m\u001b[0;34m\"id\"\u001b[0m\u001b[0;34m]\u001b[0m\u001b[0;34m\u001b[0m\u001b[0;34m\u001b[0m\u001b[0m\n\u001b[0m\u001b[1;32m     17\u001b[0m     \u001b[0mprop_json\u001b[0m \u001b[0;34m=\u001b[0m \u001b[0mrequests\u001b[0m\u001b[0;34m.\u001b[0m\u001b[0mget\u001b[0m\u001b[0;34m(\u001b[0m\u001b[0mpinfo_url\u001b[0m \u001b[0;34m+\u001b[0m \u001b[0mprop_id\u001b[0m\u001b[0;34m,\u001b[0m \u001b[0mheaders\u001b[0m \u001b[0;34m=\u001b[0m \u001b[0mheaders\u001b[0m \u001b[0;34m)\u001b[0m\u001b[0;34m.\u001b[0m\u001b[0mjson\u001b[0m\u001b[0;34m(\u001b[0m\u001b[0;34m)\u001b[0m\u001b[0;34m\u001b[0m\u001b[0;34m\u001b[0m\u001b[0m\n\u001b[1;32m     18\u001b[0m     \u001b[0mdf_318_rus\u001b[0m\u001b[0;34m.\u001b[0m\u001b[0mloc\u001b[0m\u001b[0;34m[\u001b[0m\u001b[0mi\u001b[0m\u001b[0;34m,\u001b[0m \u001b[0;34m\"areaSize\"\u001b[0m\u001b[0;34m]\u001b[0m \u001b[0;34m=\u001b[0m \u001b[0mprop_json\u001b[0m\u001b[0;34m[\u001b[0m\u001b[0;34m\"areaSize\"\u001b[0m\u001b[0;34m]\u001b[0m\u001b[0;34m\u001b[0m\u001b[0;34m\u001b[0m\u001b[0m\n",
      "\u001b[0;31mKeyError\u001b[0m: 0"
     ]
    }
   ],
   "source": [
    "# get all size as a new columns \n",
    "get_pid_url = 'https://api.domain.com.au/sandbox/v1/properties/_suggest'\n",
    "pinfo_url =  'https://api.domain.com.au/sandbox/v1/properties/'\n",
    "# init the column\n",
    "df_318_rus[\"areaSize\"] = 0\n",
    "params = {\n",
    "        \"terms\" :  \"\", \n",
    "        \"pageSize\" :  20,\n",
    "        \"channel\": \"Residential\"\n",
    "        }\n",
    "\n",
    "# get list history from adv id \n",
    "hist_df = pd.DataFrame(columns = [ 'room_no', 'list_id', 'list_date', 'leased_date'])\n",
    "for i in df_318_rus.index:\n",
    "    # get property ID \n",
    "    \n",
    "    params[\"terms\"] =  str(df_318_rus.loc[i, \"room_no\"]) + \"/\"+ df_318_rus.loc[i, \"building_name\"]\n",
    "    res = requests.get(url,params =params, headers = headers ).json()\n",
    "    prop_id = res[0][\"id\"]\n",
    "    prop_json = requests.get(pinfo_url + prop_id, headers = headers ).json()\n",
    "    df_318_rus.loc[i, \"areaSize\"] = prop_json[\"areaSize\"]\n",
    "    \n",
    "    \n",
    "    \n",
    " \n",
    "    "
   ]
  },
  {
   "cell_type": "code",
   "execution_count": 116,
   "metadata": {},
   "outputs": [],
   "source": [
    "def get_info_from_list_id(list_id, headers):\n",
    "    list_url = 'https://api.domain.com.au/sandbox/v1/listings/'\n",
    "    list_res =  requests.get(list_url + str(list_id), headers = headers )\n",
    "    if (list_res.status_code != 200):\n",
    "        return {}\n",
    "    \n",
    "    list_json =list_res.json()\n",
    "    res = {}\n",
    "\n",
    "    try: \n",
    "        list_json['rentalDetails']['leasedDate']\n",
    "        res['leased_date'] = list_json['rentalDetails']['leasedDate']\n",
    "    except:\n",
    "        res['leased_date'] = \"n/a\"\n",
    "        \n",
    "    \n",
    "    res['list_date'] = list_json['dateListed']\n",
    "    try:    \n",
    "        res['price']= list_json['priceDetails']['price']\n",
    "    except:\n",
    "        res['price'] = None\n",
    "        \n",
    "    res['display_price'] = list_json[\"priceDetails\"]['displayPrice']\n",
    "    \n",
    "    res['status'] = list_json['status']\n",
    "    res['objective'] = list_json['objective']\n",
    "\n",
    "    return res"
   ]
  },
  {
   "cell_type": "code",
   "execution_count": null,
   "metadata": {},
   "outputs": [],
   "source": []
  },
  {
   "cell_type": "code",
   "execution_count": 117,
   "metadata": {
    "scrolled": true
   },
   "outputs": [],
   "source": [
    "# get list history from adv id \n",
    "hist_df = pd.DataFrame(columns = [ 'room_no', 'list_id', 'list_date', 'leased_date', 'price', 'display_price','status', 'objective'])\n",
    "for i in df.index:\n",
    "    # get property ID \n",
    "    params[\"terms\"] =  str(df_318_rus.loc[i, \"room_no\"]) + \"/\"+ df_318_rus.loc[i, \"building_name\"]\n",
    "    res = requests.get(url,params =params, headers = headers ).json()\n",
    "    prop_id = res[0][\"id\"]\n",
    "    prop_json = requests.get(pinfo_url + prop_id, headers = headers ).json()\n",
    "    #df_318_rus.loc[i, \"areaSize\"] = prop_json[\"areaSize\"] \n",
    "    current_id = 0 # TODO \n",
    "    for photo in prop_json['photos']:\n",
    "        #print(photo['advertId'])\n",
    "        if photo['advertId'] != current_id: # TODO \n",
    "            list_res = get_info_from_list_id(photo['advertId'], headers)\n",
    "            list_res['room_no'] = df.loc[i, 'room_no']\n",
    "            list_res['list_id'] = photo['advertId'] \n",
    "            hist_df = hist_df.append(list_res, ignore_index = True )\n",
    "            # update id \n",
    "            current_id = photo['advertId']\n",
    "            \n",
    "        "
   ]
  },
  {
   "cell_type": "markdown",
   "metadata": {},
   "source": []
  },
  {
   "cell_type": "code",
   "execution_count": null,
   "metadata": {},
   "outputs": [],
   "source": []
  },
  {
   "cell_type": "code",
   "execution_count": null,
   "metadata": {},
   "outputs": [],
   "source": []
  },
  {
   "cell_type": "code",
   "execution_count": null,
   "metadata": {},
   "outputs": [],
   "source": []
  },
  {
   "cell_type": "code",
   "execution_count": 129,
   "metadata": {},
   "outputs": [
    {
     "name": "stderr",
     "output_type": "stream",
     "text": [
      "<ipython-input-129-6c2db9246440>:3: SettingWithCopyWarning:\n",
      "\n",
      "\n",
      "A value is trying to be set on a copy of a slice from a DataFrame.\n",
      "Try using .loc[row_indexer,col_indexer] = value instead\n",
      "\n",
      "See the caveats in the documentation: https://pandas.pydata.org/pandas-docs/stable/user_guide/indexing.html#returning-a-view-versus-a-copy\n",
      "\n",
      "<ipython-input-129-6c2db9246440>:4: SettingWithCopyWarning:\n",
      "\n",
      "\n",
      "A value is trying to be set on a copy of a slice from a DataFrame.\n",
      "Try using .loc[row_indexer,col_indexer] = value instead\n",
      "\n",
      "See the caveats in the documentation: https://pandas.pydata.org/pandas-docs/stable/user_guide/indexing.html#returning-a-view-versus-a-copy\n",
      "\n",
      "<ipython-input-129-6c2db9246440>:5: SettingWithCopyWarning:\n",
      "\n",
      "\n",
      "A value is trying to be set on a copy of a slice from a DataFrame.\n",
      "Try using .loc[row_indexer,col_indexer] = value instead\n",
      "\n",
      "See the caveats in the documentation: https://pandas.pydata.org/pandas-docs/stable/user_guide/indexing.html#returning-a-view-versus-a-copy\n",
      "\n",
      "<ipython-input-129-6c2db9246440>:6: SettingWithCopyWarning:\n",
      "\n",
      "\n",
      "A value is trying to be set on a copy of a slice from a DataFrame.\n",
      "Try using .loc[row_indexer,col_indexer] = value instead\n",
      "\n",
      "See the caveats in the documentation: https://pandas.pydata.org/pandas-docs/stable/user_guide/indexing.html#returning-a-view-versus-a-copy\n",
      "\n"
     ]
    },
    {
     "ename": "TypeError",
     "evalue": "unsupported operand type(s) for -: 'DatetimeArray' and 'list'",
     "output_type": "error",
     "traceback": [
      "\u001b[0;31m---------------------------------------------------------------------------\u001b[0m",
      "\u001b[0;31mTypeError\u001b[0m                                 Traceback (most recent call last)",
      "\u001b[0;32m<ipython-input-129-6c2db9246440>\u001b[0m in \u001b[0;36m<module>\u001b[0;34m\u001b[0m\n\u001b[1;32m      5\u001b[0m \u001b[0mup_df\u001b[0m\u001b[0;34m[\u001b[0m\u001b[0;34m'list_date'\u001b[0m\u001b[0;34m]\u001b[0m \u001b[0;34m=\u001b[0m \u001b[0mup_df\u001b[0m\u001b[0;34m[\u001b[0m\u001b[0;34m'list_date'\u001b[0m\u001b[0;34m]\u001b[0m\u001b[0;34m.\u001b[0m\u001b[0mmap\u001b[0m\u001b[0;34m(\u001b[0m\u001b[0;32mlambda\u001b[0m \u001b[0mp\u001b[0m\u001b[0;34m:\u001b[0m\u001b[0mp\u001b[0m\u001b[0;34m.\u001b[0m\u001b[0msplit\u001b[0m\u001b[0;34m(\u001b[0m\u001b[0;34m\"T\"\u001b[0m\u001b[0;34m)\u001b[0m\u001b[0;34m[\u001b[0m\u001b[0;36m0\u001b[0m\u001b[0;34m]\u001b[0m\u001b[0;34m)\u001b[0m\u001b[0;34m\u001b[0m\u001b[0;34m\u001b[0m\u001b[0m\n\u001b[1;32m      6\u001b[0m \u001b[0mup_df\u001b[0m\u001b[0;34m[\u001b[0m\u001b[0;34m'list_date'\u001b[0m\u001b[0;34m]\u001b[0m \u001b[0;34m=\u001b[0m \u001b[0mpd\u001b[0m\u001b[0;34m.\u001b[0m\u001b[0mto_datetime\u001b[0m\u001b[0;34m(\u001b[0m\u001b[0mup_df\u001b[0m\u001b[0;34m[\u001b[0m\u001b[0;34m'list_date'\u001b[0m\u001b[0;34m]\u001b[0m\u001b[0;34m,\u001b[0m \u001b[0mformat\u001b[0m \u001b[0;34m=\u001b[0m \u001b[0;34m\"%Y-%m-%d\"\u001b[0m\u001b[0;34m)\u001b[0m\u001b[0;34m\u001b[0m\u001b[0;34m\u001b[0m\u001b[0m\n\u001b[0;32m----> 7\u001b[0;31m \u001b[0mup_df\u001b[0m\u001b[0;34m[\u001b[0m\u001b[0;34m'up_date'\u001b[0m\u001b[0;34m]\u001b[0m \u001b[0;34m=\u001b[0m \u001b[0mup_df\u001b[0m\u001b[0;34m[\u001b[0m\u001b[0;34m'leased_date'\u001b[0m\u001b[0;34m]\u001b[0m \u001b[0;34m-\u001b[0m \u001b[0;34m[\u001b[0m\u001b[0;34m'list_date'\u001b[0m\u001b[0;34m]\u001b[0m\u001b[0;34m\u001b[0m\u001b[0;34m\u001b[0m\u001b[0m\n\u001b[0m",
      "\u001b[0;32m~/anaconda3/lib/python3.8/site-packages/pandas/core/ops/common.py\u001b[0m in \u001b[0;36mnew_method\u001b[0;34m(self, other)\u001b[0m\n\u001b[1;32m     63\u001b[0m         \u001b[0mother\u001b[0m \u001b[0;34m=\u001b[0m \u001b[0mitem_from_zerodim\u001b[0m\u001b[0;34m(\u001b[0m\u001b[0mother\u001b[0m\u001b[0;34m)\u001b[0m\u001b[0;34m\u001b[0m\u001b[0;34m\u001b[0m\u001b[0m\n\u001b[1;32m     64\u001b[0m \u001b[0;34m\u001b[0m\u001b[0m\n\u001b[0;32m---> 65\u001b[0;31m         \u001b[0;32mreturn\u001b[0m \u001b[0mmethod\u001b[0m\u001b[0;34m(\u001b[0m\u001b[0mself\u001b[0m\u001b[0;34m,\u001b[0m \u001b[0mother\u001b[0m\u001b[0;34m)\u001b[0m\u001b[0;34m\u001b[0m\u001b[0;34m\u001b[0m\u001b[0m\n\u001b[0m\u001b[1;32m     66\u001b[0m \u001b[0;34m\u001b[0m\u001b[0m\n\u001b[1;32m     67\u001b[0m     \u001b[0;32mreturn\u001b[0m \u001b[0mnew_method\u001b[0m\u001b[0;34m\u001b[0m\u001b[0;34m\u001b[0m\u001b[0m\n",
      "\u001b[0;32m~/anaconda3/lib/python3.8/site-packages/pandas/core/ops/__init__.py\u001b[0m in \u001b[0;36mwrapper\u001b[0;34m(left, right)\u001b[0m\n\u001b[1;32m    341\u001b[0m         \u001b[0mlvalues\u001b[0m \u001b[0;34m=\u001b[0m \u001b[0mextract_array\u001b[0m\u001b[0;34m(\u001b[0m\u001b[0mleft\u001b[0m\u001b[0;34m,\u001b[0m \u001b[0mextract_numpy\u001b[0m\u001b[0;34m=\u001b[0m\u001b[0;32mTrue\u001b[0m\u001b[0;34m)\u001b[0m\u001b[0;34m\u001b[0m\u001b[0;34m\u001b[0m\u001b[0m\n\u001b[1;32m    342\u001b[0m         \u001b[0mrvalues\u001b[0m \u001b[0;34m=\u001b[0m \u001b[0mextract_array\u001b[0m\u001b[0;34m(\u001b[0m\u001b[0mright\u001b[0m\u001b[0;34m,\u001b[0m \u001b[0mextract_numpy\u001b[0m\u001b[0;34m=\u001b[0m\u001b[0;32mTrue\u001b[0m\u001b[0;34m)\u001b[0m\u001b[0;34m\u001b[0m\u001b[0;34m\u001b[0m\u001b[0m\n\u001b[0;32m--> 343\u001b[0;31m         \u001b[0mresult\u001b[0m \u001b[0;34m=\u001b[0m \u001b[0marithmetic_op\u001b[0m\u001b[0;34m(\u001b[0m\u001b[0mlvalues\u001b[0m\u001b[0;34m,\u001b[0m \u001b[0mrvalues\u001b[0m\u001b[0;34m,\u001b[0m \u001b[0mop\u001b[0m\u001b[0;34m)\u001b[0m\u001b[0;34m\u001b[0m\u001b[0;34m\u001b[0m\u001b[0m\n\u001b[0m\u001b[1;32m    344\u001b[0m \u001b[0;34m\u001b[0m\u001b[0m\n\u001b[1;32m    345\u001b[0m         \u001b[0;32mreturn\u001b[0m \u001b[0mleft\u001b[0m\u001b[0;34m.\u001b[0m\u001b[0m_construct_result\u001b[0m\u001b[0;34m(\u001b[0m\u001b[0mresult\u001b[0m\u001b[0;34m,\u001b[0m \u001b[0mname\u001b[0m\u001b[0;34m=\u001b[0m\u001b[0mres_name\u001b[0m\u001b[0;34m)\u001b[0m\u001b[0;34m\u001b[0m\u001b[0;34m\u001b[0m\u001b[0m\n",
      "\u001b[0;32m~/anaconda3/lib/python3.8/site-packages/pandas/core/ops/array_ops.py\u001b[0m in \u001b[0;36marithmetic_op\u001b[0;34m(left, right, op)\u001b[0m\n\u001b[1;32m    184\u001b[0m     \u001b[0;32mif\u001b[0m \u001b[0mshould_extension_dispatch\u001b[0m\u001b[0;34m(\u001b[0m\u001b[0mlvalues\u001b[0m\u001b[0;34m,\u001b[0m \u001b[0mrvalues\u001b[0m\u001b[0;34m)\u001b[0m \u001b[0;32mor\u001b[0m \u001b[0misinstance\u001b[0m\u001b[0;34m(\u001b[0m\u001b[0mrvalues\u001b[0m\u001b[0;34m,\u001b[0m \u001b[0mTimedelta\u001b[0m\u001b[0;34m)\u001b[0m\u001b[0;34m:\u001b[0m\u001b[0;34m\u001b[0m\u001b[0;34m\u001b[0m\u001b[0m\n\u001b[1;32m    185\u001b[0m         \u001b[0;31m# Timedelta is included because numexpr will fail on it, see GH#31457\u001b[0m\u001b[0;34m\u001b[0m\u001b[0;34m\u001b[0m\u001b[0;34m\u001b[0m\u001b[0m\n\u001b[0;32m--> 186\u001b[0;31m         \u001b[0mres_values\u001b[0m \u001b[0;34m=\u001b[0m \u001b[0mop\u001b[0m\u001b[0;34m(\u001b[0m\u001b[0mlvalues\u001b[0m\u001b[0;34m,\u001b[0m \u001b[0mrvalues\u001b[0m\u001b[0;34m)\u001b[0m\u001b[0;34m\u001b[0m\u001b[0;34m\u001b[0m\u001b[0m\n\u001b[0m\u001b[1;32m    187\u001b[0m \u001b[0;34m\u001b[0m\u001b[0m\n\u001b[1;32m    188\u001b[0m     \u001b[0;32melse\u001b[0m\u001b[0;34m:\u001b[0m\u001b[0;34m\u001b[0m\u001b[0;34m\u001b[0m\u001b[0m\n",
      "\u001b[0;31mTypeError\u001b[0m: unsupported operand type(s) for -: 'DatetimeArray' and 'list'"
     ]
    }
   ],
   "source": [
    "# calculate the up_date , leased_date - list_date \n",
    "up_df = hist_df[hist_df.leased_date != 'n/a']\n",
    "up_df['leased_date'] = pd.to_datetime(up_df['leased_date'], format='%Y-%m-%d')\n",
    "up_df['list_date'] = up_df['list_date'].astype(str)\n",
    "up_df['list_date'] = up_df['list_date'].map(lambda p:p.split(\"T\")[0])\n",
    "up_df['list_date'] = pd.to_datetime(up_df['list_date'], format = \"%Y-%m-%d\")\n",
    "up_df['up_date'] = up_df['leased_date'] - up_df['list_date']"
   ]
  },
  {
   "cell_type": "code",
   "execution_count": 135,
   "metadata": {},
   "outputs": [],
   "source": [
    "up_df.loc[:, 'up_date'] = up_df.loc[:,'leased_date'] - up_df.loc[:,'list_date']"
   ]
  },
  {
   "cell_type": "code",
   "execution_count": 138,
   "metadata": {},
   "outputs": [],
   "source": [
    "up_df = up_df[up_df.up_date.notna()]"
   ]
  },
  {
   "cell_type": "code",
   "execution_count": 142,
   "metadata": {},
   "outputs": [
    {
     "name": "stderr",
     "output_type": "stream",
     "text": [
      "<ipython-input-142-395dab26cd3d>:1: SettingWithCopyWarning:\n",
      "\n",
      "\n",
      "A value is trying to be set on a copy of a slice from a DataFrame.\n",
      "Try using .loc[row_indexer,col_indexer] = value instead\n",
      "\n",
      "See the caveats in the documentation: https://pandas.pydata.org/pandas-docs/stable/user_guide/indexing.html#returning-a-view-versus-a-copy\n",
      "\n"
     ]
    }
   ],
   "source": [
    "up_df['display_price'] = up_df['display_price'].map(lambda p: float(p.split(\"p\")[0][1:]))"
   ]
  },
  {
   "cell_type": "code",
   "execution_count": 149,
   "metadata": {},
   "outputs": [
    {
     "data": {
      "text/html": [
       "<div>\n",
       "<style scoped>\n",
       "    .dataframe tbody tr th:only-of-type {\n",
       "        vertical-align: middle;\n",
       "    }\n",
       "\n",
       "    .dataframe tbody tr th {\n",
       "        vertical-align: top;\n",
       "    }\n",
       "\n",
       "    .dataframe thead th {\n",
       "        text-align: right;\n",
       "    }\n",
       "</style>\n",
       "<table border=\"1\" class=\"dataframe\">\n",
       "  <thead>\n",
       "    <tr style=\"text-align: right;\">\n",
       "      <th></th>\n",
       "      <th>room_no</th>\n",
       "      <th>list_id</th>\n",
       "      <th>list_date</th>\n",
       "      <th>leased_date</th>\n",
       "      <th>price</th>\n",
       "      <th>display_price</th>\n",
       "      <th>status</th>\n",
       "      <th>objective</th>\n",
       "      <th>up_date</th>\n",
       "    </tr>\n",
       "  </thead>\n",
       "  <tbody>\n",
       "    <tr>\n",
       "      <th>0</th>\n",
       "      <td>4207</td>\n",
       "      <td>14428505</td>\n",
       "      <td>2020-07-31</td>\n",
       "      <td>2020-07-31</td>\n",
       "      <td>NaN</td>\n",
       "      <td>520.0</td>\n",
       "      <td>leased</td>\n",
       "      <td>rent</td>\n",
       "      <td>0 days</td>\n",
       "    </tr>\n",
       "    <tr>\n",
       "      <th>1</th>\n",
       "      <td>3809</td>\n",
       "      <td>14717706</td>\n",
       "      <td>2020-11-23</td>\n",
       "      <td>2020-11-23</td>\n",
       "      <td>NaN</td>\n",
       "      <td>560.0</td>\n",
       "      <td>leased</td>\n",
       "      <td>rent</td>\n",
       "      <td>0 days</td>\n",
       "    </tr>\n",
       "    <tr>\n",
       "      <th>2</th>\n",
       "      <td>3809</td>\n",
       "      <td>11142287</td>\n",
       "      <td>2017-01-27</td>\n",
       "      <td>2017-02-01</td>\n",
       "      <td>NaN</td>\n",
       "      <td>700.0</td>\n",
       "      <td>leased</td>\n",
       "      <td>rent</td>\n",
       "      <td>5 days</td>\n",
       "    </tr>\n",
       "    <tr>\n",
       "      <th>3</th>\n",
       "      <td>1910</td>\n",
       "      <td>14773472</td>\n",
       "      <td>2020-12-15</td>\n",
       "      <td>2020-12-16</td>\n",
       "      <td>NaN</td>\n",
       "      <td>580.0</td>\n",
       "      <td>leased</td>\n",
       "      <td>rent</td>\n",
       "      <td>1 days</td>\n",
       "    </tr>\n",
       "    <tr>\n",
       "      <th>4</th>\n",
       "      <td>1910</td>\n",
       "      <td>10664304</td>\n",
       "      <td>2016-06-29</td>\n",
       "      <td>2016-08-04</td>\n",
       "      <td>NaN</td>\n",
       "      <td>720.0</td>\n",
       "      <td>leased</td>\n",
       "      <td>rent</td>\n",
       "      <td>36 days</td>\n",
       "    </tr>\n",
       "    <tr>\n",
       "      <th>...</th>\n",
       "      <td>...</td>\n",
       "      <td>...</td>\n",
       "      <td>...</td>\n",
       "      <td>...</td>\n",
       "      <td>...</td>\n",
       "      <td>...</td>\n",
       "      <td>...</td>\n",
       "      <td>...</td>\n",
       "      <td>...</td>\n",
       "    </tr>\n",
       "    <tr>\n",
       "      <th>160</th>\n",
       "      <td>4101</td>\n",
       "      <td>10370957</td>\n",
       "      <td>2016-02-16</td>\n",
       "      <td>2016-03-11</td>\n",
       "      <td>NaN</td>\n",
       "      <td>720.0</td>\n",
       "      <td>leased</td>\n",
       "      <td>rent</td>\n",
       "      <td>24 days</td>\n",
       "    </tr>\n",
       "    <tr>\n",
       "      <th>162</th>\n",
       "      <td>2108</td>\n",
       "      <td>10370954</td>\n",
       "      <td>2016-02-16</td>\n",
       "      <td>2016-02-16</td>\n",
       "      <td>NaN</td>\n",
       "      <td>650.0</td>\n",
       "      <td>leased</td>\n",
       "      <td>rent</td>\n",
       "      <td>0 days</td>\n",
       "    </tr>\n",
       "    <tr>\n",
       "      <th>163</th>\n",
       "      <td>2803</td>\n",
       "      <td>10323451</td>\n",
       "      <td>2016-01-26</td>\n",
       "      <td>2016-02-29</td>\n",
       "      <td>NaN</td>\n",
       "      <td>650.0</td>\n",
       "      <td>leased</td>\n",
       "      <td>rent</td>\n",
       "      <td>34 days</td>\n",
       "    </tr>\n",
       "    <tr>\n",
       "      <th>165</th>\n",
       "      <td>2208</td>\n",
       "      <td>10292043</td>\n",
       "      <td>2016-01-12</td>\n",
       "      <td>2016-02-01</td>\n",
       "      <td>NaN</td>\n",
       "      <td>700.0</td>\n",
       "      <td>leased</td>\n",
       "      <td>rent</td>\n",
       "      <td>20 days</td>\n",
       "    </tr>\n",
       "    <tr>\n",
       "      <th>167</th>\n",
       "      <td>3601</td>\n",
       "      <td>9701545</td>\n",
       "      <td>2015-04-11</td>\n",
       "      <td>2015-04-17</td>\n",
       "      <td>NaN</td>\n",
       "      <td>682.0</td>\n",
       "      <td>leased</td>\n",
       "      <td>rent</td>\n",
       "      <td>6 days</td>\n",
       "    </tr>\n",
       "  </tbody>\n",
       "</table>\n",
       "<p>124 rows × 9 columns</p>\n",
       "</div>"
      ],
      "text/plain": [
       "    room_no   list_id  list_date leased_date  price  display_price  status  \\\n",
       "0      4207  14428505 2020-07-31  2020-07-31    NaN          520.0  leased   \n",
       "1      3809  14717706 2020-11-23  2020-11-23    NaN          560.0  leased   \n",
       "2      3809  11142287 2017-01-27  2017-02-01    NaN          700.0  leased   \n",
       "3      1910  14773472 2020-12-15  2020-12-16    NaN          580.0  leased   \n",
       "4      1910  10664304 2016-06-29  2016-08-04    NaN          720.0  leased   \n",
       "..      ...       ...        ...         ...    ...            ...     ...   \n",
       "160    4101  10370957 2016-02-16  2016-03-11    NaN          720.0  leased   \n",
       "162    2108  10370954 2016-02-16  2016-02-16    NaN          650.0  leased   \n",
       "163    2803  10323451 2016-01-26  2016-02-29    NaN          650.0  leased   \n",
       "165    2208  10292043 2016-01-12  2016-02-01    NaN          700.0  leased   \n",
       "167    3601   9701545 2015-04-11  2015-04-17    NaN          682.0  leased   \n",
       "\n",
       "    objective up_date  \n",
       "0        rent  0 days  \n",
       "1        rent  0 days  \n",
       "2        rent  5 days  \n",
       "3        rent  1 days  \n",
       "4        rent 36 days  \n",
       "..        ...     ...  \n",
       "160      rent 24 days  \n",
       "162      rent  0 days  \n",
       "163      rent 34 days  \n",
       "165      rent 20 days  \n",
       "167      rent  6 days  \n",
       "\n",
       "[124 rows x 9 columns]"
      ]
     },
     "execution_count": 149,
     "metadata": {},
     "output_type": "execute_result"
    }
   ],
   "source": [
    "up_df"
   ]
  },
  {
   "cell_type": "code",
   "execution_count": 152,
   "metadata": {},
   "outputs": [
    {
     "data": {
      "text/html": [
       "<div>\n",
       "<style scoped>\n",
       "    .dataframe tbody tr th:only-of-type {\n",
       "        vertical-align: middle;\n",
       "    }\n",
       "\n",
       "    .dataframe tbody tr th {\n",
       "        vertical-align: top;\n",
       "    }\n",
       "\n",
       "    .dataframe thead th {\n",
       "        text-align: right;\n",
       "    }\n",
       "</style>\n",
       "<table border=\"1\" class=\"dataframe\">\n",
       "  <thead>\n",
       "    <tr style=\"text-align: right;\">\n",
       "      <th></th>\n",
       "      <th>price</th>\n",
       "      <th>display_price</th>\n",
       "      <th>up_date</th>\n",
       "    </tr>\n",
       "  </thead>\n",
       "  <tbody>\n",
       "    <tr>\n",
       "      <th>count</th>\n",
       "      <td>20.000000</td>\n",
       "      <td>124.000000</td>\n",
       "      <td>124</td>\n",
       "    </tr>\n",
       "    <tr>\n",
       "      <th>mean</th>\n",
       "      <td>756.300000</td>\n",
       "      <td>714.669355</td>\n",
       "      <td>86 days 14:42:34.838709677</td>\n",
       "    </tr>\n",
       "    <tr>\n",
       "      <th>std</th>\n",
       "      <td>91.392214</td>\n",
       "      <td>82.607380</td>\n",
       "      <td>172 days 22:53:37.126018822</td>\n",
       "    </tr>\n",
       "    <tr>\n",
       "      <th>min</th>\n",
       "      <td>450.000000</td>\n",
       "      <td>450.000000</td>\n",
       "      <td>-305 days +00:00:00</td>\n",
       "    </tr>\n",
       "    <tr>\n",
       "      <th>25%</th>\n",
       "      <td>720.000000</td>\n",
       "      <td>668.000000</td>\n",
       "      <td>3 days 00:00:00</td>\n",
       "    </tr>\n",
       "    <tr>\n",
       "      <th>50%</th>\n",
       "      <td>766.000000</td>\n",
       "      <td>720.000000</td>\n",
       "      <td>16 days 00:00:00</td>\n",
       "    </tr>\n",
       "    <tr>\n",
       "      <th>75%</th>\n",
       "      <td>820.500000</td>\n",
       "      <td>780.000000</td>\n",
       "      <td>34 days 12:00:00</td>\n",
       "    </tr>\n",
       "    <tr>\n",
       "      <th>max</th>\n",
       "      <td>850.000000</td>\n",
       "      <td>900.000000</td>\n",
       "      <td>751 days 00:00:00</td>\n",
       "    </tr>\n",
       "  </tbody>\n",
       "</table>\n",
       "</div>"
      ],
      "text/plain": [
       "            price  display_price                      up_date\n",
       "count   20.000000     124.000000                          124\n",
       "mean   756.300000     714.669355   86 days 14:42:34.838709677\n",
       "std     91.392214      82.607380  172 days 22:53:37.126018822\n",
       "min    450.000000     450.000000          -305 days +00:00:00\n",
       "25%    720.000000     668.000000              3 days 00:00:00\n",
       "50%    766.000000     720.000000             16 days 00:00:00\n",
       "75%    820.500000     780.000000             34 days 12:00:00\n",
       "max    850.000000     900.000000            751 days 00:00:00"
      ]
     },
     "execution_count": 152,
     "metadata": {},
     "output_type": "execute_result"
    }
   ],
   "source": [
    "up_df.describe()"
   ]
  },
  {
   "cell_type": "code",
   "execution_count": 153,
   "metadata": {},
   "outputs": [
    {
     "name": "stderr",
     "output_type": "stream",
     "text": [
      "/Users/chenbeining/anaconda3/lib/python3.8/site-packages/pandas/core/indexing.py:1596: SettingWithCopyWarning:\n",
      "\n",
      "\n",
      "A value is trying to be set on a copy of a slice from a DataFrame.\n",
      "Try using .loc[row_indexer,col_indexer] = value instead\n",
      "\n",
      "See the caveats in the documentation: https://pandas.pydata.org/pandas-docs/stable/user_guide/indexing.html#returning-a-view-versus-a-copy\n",
      "\n",
      "/Users/chenbeining/anaconda3/lib/python3.8/site-packages/pandas/core/indexing.py:1765: SettingWithCopyWarning:\n",
      "\n",
      "\n",
      "A value is trying to be set on a copy of a slice from a DataFrame.\n",
      "Try using .loc[row_indexer,col_indexer] = value instead\n",
      "\n",
      "See the caveats in the documentation: https://pandas.pydata.org/pandas-docs/stable/user_guide/indexing.html#returning-a-view-versus-a-copy\n",
      "\n"
     ]
    }
   ],
   "source": [
    "covid_start ='20200301'\n",
    "up_df.loc[up_df.leased_date <= pd.to_datetime(covid_start, format='%Y%m%d'),'time_split'] = 'before'\n",
    "\n",
    "up_df.loc[up_df.leased_date > pd.to_datetime(covid_start, format='%Y%m%d'),'time_split'] = 'after'"
   ]
  },
  {
   "cell_type": "code",
   "execution_count": 377,
   "metadata": {},
   "outputs": [],
   "source": [
    "up_df[\"up_days\"] = up_df.up_date.map(lambda p: p.days)"
   ]
  },
  {
   "cell_type": "code",
   "execution_count": 380,
   "metadata": {},
   "outputs": [
    {
     "data": {
      "text/plain": [
       "15"
      ]
     },
     "execution_count": 380,
     "metadata": {},
     "output_type": "execute_result"
    }
   ],
   "source": [
    "(up_df.up_days == 0).sum()"
   ]
  },
  {
   "cell_type": "code",
   "execution_count": 379,
   "metadata": {},
   "outputs": [
    {
     "data": {
      "application/vnd.plotly.v1+json": {
       "config": {
        "plotlyServerURL": "https://plot.ly"
       },
       "data": [
        {
         "customdata": [
          [
           14428505
          ],
          [
           14717706
          ],
          [
           14773472
          ],
          [
           14776388
          ],
          [
           14835636
          ],
          [
           14766693
          ],
          [
           14497469
          ],
          [
           14766574
          ],
          [
           14368490
          ],
          [
           14398693
          ],
          [
           14772012
          ],
          [
           14497647
          ],
          [
           14620519
          ],
          [
           14623758
          ],
          [
           14447886
          ],
          [
           14497520
          ],
          [
           14573020
          ],
          [
           14406012
          ],
          [
           14596576
          ],
          [
           14457618
          ],
          [
           14022604
          ],
          [
           14161628
          ],
          [
           13382779
          ],
          [
           14162850
          ]
         ],
         "hovertemplate": "time_split=after<br>up_days=%{x}<br>display_price=%{y}<br>list_id=%{customdata[0]}<extra></extra>",
         "legendgroup": "after",
         "marker": {
          "color": "#636efa",
          "symbol": "circle"
         },
         "mode": "markers",
         "name": "after",
         "orientation": "v",
         "showlegend": true,
         "type": "scatter",
         "x": [
          0,
          0,
          1,
          1,
          0,
          0,
          1,
          1,
          10,
          2,
          0,
          107,
          1,
          1,
          1,
          1,
          -1,
          0,
          -4,
          33,
          40,
          31,
          0,
          31
         ],
         "xaxis": "x",
         "y": [
          520,
          560,
          580,
          620,
          650,
          600,
          550,
          660,
          650,
          650,
          650,
          550,
          595,
          580,
          580,
          580,
          680,
          580,
          650,
          450,
          650,
          600,
          720,
          490
         ],
         "yaxis": "y"
        },
        {
         "customdata": [
          [
           11142287
          ],
          [
           10664304
          ],
          [
           10707338
          ],
          [
           9694368
          ],
          [
           10053011
          ],
          [
           10830036
          ],
          [
           10035184
          ],
          [
           11095136
          ],
          [
           11599206
          ],
          [
           9809152
          ],
          [
           10424787
          ],
          [
           9796873
          ],
          [
           13028607
          ],
          [
           13056363
          ],
          [
           10525740
          ],
          [
           14019599
          ],
          [
           13032468
          ],
          [
           13940514
          ],
          [
           13985268
          ],
          [
           10441318
          ],
          [
           13889283
          ],
          [
           13837534
          ],
          [
           10243520
          ],
          [
           13889285
          ],
          [
           13830030
          ],
          [
           13781074
          ],
          [
           13672516
          ],
          [
           13767124
          ],
          [
           10253525
          ],
          [
           13638038
          ],
          [
           11131212
          ],
          [
           13629448
          ],
          [
           10323452
          ],
          [
           10859941
          ],
          [
           13408753
          ],
          [
           13428348
          ],
          [
           11040524
          ],
          [
           12978407
          ],
          [
           11628619
          ],
          [
           12957569
          ],
          [
           10370953
          ],
          [
           12892752
          ],
          [
           10441319
          ],
          [
           10370955
          ],
          [
           14713430
          ],
          [
           9769155
          ],
          [
           12834659
          ],
          [
           10175276
          ],
          [
           12834794
          ],
          [
           10783888
          ],
          [
           12762337
          ],
          [
           9875987
          ],
          [
           12791955
          ],
          [
           9809079
          ],
          [
           12793902
          ],
          [
           9703856
          ],
          [
           12725503
          ],
          [
           12724959
          ],
          [
           10175278
          ],
          [
           12668657
          ],
          [
           10734416
          ],
          [
           12445863
          ],
          [
           12444921
          ],
          [
           13837535
          ],
          [
           10681222
          ],
          [
           12356083
          ],
          [
           11535488
          ],
          [
           12340086
          ],
          [
           11089510
          ],
          [
           12282631
          ],
          [
           12008694
          ],
          [
           10277666
          ],
          [
           11209854
          ],
          [
           11973766
          ],
          [
           10504149
          ],
          [
           11958388
          ],
          [
           10337040
          ],
          [
           11943922
          ],
          [
           11102738
          ],
          [
           11730519
          ],
          [
           11730520
          ],
          [
           10292039
          ],
          [
           11395913
          ],
          [
           11142331
          ],
          [
           10273339
          ],
          [
           11088874
          ],
          [
           9992642
          ],
          [
           13688573
          ],
          [
           10945854
          ],
          [
           10907606
          ],
          [
           9869446
          ],
          [
           9992634
          ],
          [
           9887357
          ],
          [
           9919974
          ],
          [
           10424786
          ],
          [
           10370957
          ],
          [
           10370954
          ],
          [
           10323451
          ],
          [
           10292043
          ],
          [
           9701545
          ]
         ],
         "hovertemplate": "time_split=before<br>up_days=%{x}<br>display_price=%{y}<br>list_id=%{customdata[0]}<extra></extra>",
         "legendgroup": "before",
         "marker": {
          "color": "#EF553B",
          "symbol": "circle"
         },
         "mode": "markers",
         "name": "before",
         "orientation": "v",
         "showlegend": true,
         "type": "scatter",
         "x": [
          5,
          36,
          20,
          751,
          0,
          0,
          561,
          16,
          3,
          468,
          426,
          142,
          15,
          11,
          216,
          3,
          30,
          5,
          9,
          383,
          7,
          24,
          406,
          8,
          18,
          0,
          32,
          19,
          392,
          5,
          12,
          11,
          427,
          19,
          0,
          13,
          14,
          1,
          43,
          7,
          13,
          22,
          6,
          20,
          -305,
          41,
          22,
          442,
          15,
          20,
          40,
          622,
          30,
          551,
          26,
          18,
          12,
          8,
          396,
          23,
          65,
          17,
          8,
          21,
          0,
          -3,
          3,
          4,
          12,
          16,
          8,
          33,
          1,
          6,
          323,
          6,
          19,
          9,
          78,
          42,
          32,
          554,
          16,
          14,
          380,
          0,
          472,
          25,
          27,
          24,
          444,
          376,
          402,
          385,
          0,
          24,
          0,
          34,
          20,
          6
         ],
         "xaxis": "x",
         "y": [
          700,
          720,
          720,
          800,
          750,
          700,
          682,
          792,
          730,
          750,
          690,
          780,
          700,
          700,
          690,
          830,
          670,
          752,
          840,
          832,
          900,
          820,
          750,
          840,
          700,
          682,
          780,
          820,
          762,
          722,
          720,
          820,
          802,
          620,
          820,
          680,
          662,
          750,
          722,
          820,
          750,
          720,
          690,
          680,
          600,
          830,
          802,
          752,
          720,
          650,
          810,
          780,
          820,
          780,
          780,
          632,
          850,
          850,
          720,
          720,
          720,
          800,
          800,
          822,
          750,
          730,
          730,
          760,
          720,
          800,
          680,
          630,
          802,
          700,
          680,
          800,
          760,
          690,
          650,
          720,
          690,
          730,
          720,
          740,
          742,
          760,
          720,
          800,
          690,
          720,
          710,
          800,
          750,
          750,
          800,
          720,
          650,
          650,
          700,
          682
         ],
         "yaxis": "y"
        }
       ],
       "layout": {
        "height": 400,
        "legend": {
         "title": {
          "text": "time_split"
         },
         "tracegroupgap": 0
        },
        "margin": {
         "t": 60
        },
        "template": {
         "data": {
          "bar": [
           {
            "error_x": {
             "color": "#2a3f5f"
            },
            "error_y": {
             "color": "#2a3f5f"
            },
            "marker": {
             "line": {
              "color": "#E5ECF6",
              "width": 0.5
             }
            },
            "type": "bar"
           }
          ],
          "barpolar": [
           {
            "marker": {
             "line": {
              "color": "#E5ECF6",
              "width": 0.5
             }
            },
            "type": "barpolar"
           }
          ],
          "carpet": [
           {
            "aaxis": {
             "endlinecolor": "#2a3f5f",
             "gridcolor": "white",
             "linecolor": "white",
             "minorgridcolor": "white",
             "startlinecolor": "#2a3f5f"
            },
            "baxis": {
             "endlinecolor": "#2a3f5f",
             "gridcolor": "white",
             "linecolor": "white",
             "minorgridcolor": "white",
             "startlinecolor": "#2a3f5f"
            },
            "type": "carpet"
           }
          ],
          "choropleth": [
           {
            "colorbar": {
             "outlinewidth": 0,
             "ticks": ""
            },
            "type": "choropleth"
           }
          ],
          "contour": [
           {
            "colorbar": {
             "outlinewidth": 0,
             "ticks": ""
            },
            "colorscale": [
             [
              0,
              "#0d0887"
             ],
             [
              0.1111111111111111,
              "#46039f"
             ],
             [
              0.2222222222222222,
              "#7201a8"
             ],
             [
              0.3333333333333333,
              "#9c179e"
             ],
             [
              0.4444444444444444,
              "#bd3786"
             ],
             [
              0.5555555555555556,
              "#d8576b"
             ],
             [
              0.6666666666666666,
              "#ed7953"
             ],
             [
              0.7777777777777778,
              "#fb9f3a"
             ],
             [
              0.8888888888888888,
              "#fdca26"
             ],
             [
              1,
              "#f0f921"
             ]
            ],
            "type": "contour"
           }
          ],
          "contourcarpet": [
           {
            "colorbar": {
             "outlinewidth": 0,
             "ticks": ""
            },
            "type": "contourcarpet"
           }
          ],
          "heatmap": [
           {
            "colorbar": {
             "outlinewidth": 0,
             "ticks": ""
            },
            "colorscale": [
             [
              0,
              "#0d0887"
             ],
             [
              0.1111111111111111,
              "#46039f"
             ],
             [
              0.2222222222222222,
              "#7201a8"
             ],
             [
              0.3333333333333333,
              "#9c179e"
             ],
             [
              0.4444444444444444,
              "#bd3786"
             ],
             [
              0.5555555555555556,
              "#d8576b"
             ],
             [
              0.6666666666666666,
              "#ed7953"
             ],
             [
              0.7777777777777778,
              "#fb9f3a"
             ],
             [
              0.8888888888888888,
              "#fdca26"
             ],
             [
              1,
              "#f0f921"
             ]
            ],
            "type": "heatmap"
           }
          ],
          "heatmapgl": [
           {
            "colorbar": {
             "outlinewidth": 0,
             "ticks": ""
            },
            "colorscale": [
             [
              0,
              "#0d0887"
             ],
             [
              0.1111111111111111,
              "#46039f"
             ],
             [
              0.2222222222222222,
              "#7201a8"
             ],
             [
              0.3333333333333333,
              "#9c179e"
             ],
             [
              0.4444444444444444,
              "#bd3786"
             ],
             [
              0.5555555555555556,
              "#d8576b"
             ],
             [
              0.6666666666666666,
              "#ed7953"
             ],
             [
              0.7777777777777778,
              "#fb9f3a"
             ],
             [
              0.8888888888888888,
              "#fdca26"
             ],
             [
              1,
              "#f0f921"
             ]
            ],
            "type": "heatmapgl"
           }
          ],
          "histogram": [
           {
            "marker": {
             "colorbar": {
              "outlinewidth": 0,
              "ticks": ""
             }
            },
            "type": "histogram"
           }
          ],
          "histogram2d": [
           {
            "colorbar": {
             "outlinewidth": 0,
             "ticks": ""
            },
            "colorscale": [
             [
              0,
              "#0d0887"
             ],
             [
              0.1111111111111111,
              "#46039f"
             ],
             [
              0.2222222222222222,
              "#7201a8"
             ],
             [
              0.3333333333333333,
              "#9c179e"
             ],
             [
              0.4444444444444444,
              "#bd3786"
             ],
             [
              0.5555555555555556,
              "#d8576b"
             ],
             [
              0.6666666666666666,
              "#ed7953"
             ],
             [
              0.7777777777777778,
              "#fb9f3a"
             ],
             [
              0.8888888888888888,
              "#fdca26"
             ],
             [
              1,
              "#f0f921"
             ]
            ],
            "type": "histogram2d"
           }
          ],
          "histogram2dcontour": [
           {
            "colorbar": {
             "outlinewidth": 0,
             "ticks": ""
            },
            "colorscale": [
             [
              0,
              "#0d0887"
             ],
             [
              0.1111111111111111,
              "#46039f"
             ],
             [
              0.2222222222222222,
              "#7201a8"
             ],
             [
              0.3333333333333333,
              "#9c179e"
             ],
             [
              0.4444444444444444,
              "#bd3786"
             ],
             [
              0.5555555555555556,
              "#d8576b"
             ],
             [
              0.6666666666666666,
              "#ed7953"
             ],
             [
              0.7777777777777778,
              "#fb9f3a"
             ],
             [
              0.8888888888888888,
              "#fdca26"
             ],
             [
              1,
              "#f0f921"
             ]
            ],
            "type": "histogram2dcontour"
           }
          ],
          "mesh3d": [
           {
            "colorbar": {
             "outlinewidth": 0,
             "ticks": ""
            },
            "type": "mesh3d"
           }
          ],
          "parcoords": [
           {
            "line": {
             "colorbar": {
              "outlinewidth": 0,
              "ticks": ""
             }
            },
            "type": "parcoords"
           }
          ],
          "pie": [
           {
            "automargin": true,
            "type": "pie"
           }
          ],
          "scatter": [
           {
            "marker": {
             "colorbar": {
              "outlinewidth": 0,
              "ticks": ""
             }
            },
            "type": "scatter"
           }
          ],
          "scatter3d": [
           {
            "line": {
             "colorbar": {
              "outlinewidth": 0,
              "ticks": ""
             }
            },
            "marker": {
             "colorbar": {
              "outlinewidth": 0,
              "ticks": ""
             }
            },
            "type": "scatter3d"
           }
          ],
          "scattercarpet": [
           {
            "marker": {
             "colorbar": {
              "outlinewidth": 0,
              "ticks": ""
             }
            },
            "type": "scattercarpet"
           }
          ],
          "scattergeo": [
           {
            "marker": {
             "colorbar": {
              "outlinewidth": 0,
              "ticks": ""
             }
            },
            "type": "scattergeo"
           }
          ],
          "scattergl": [
           {
            "marker": {
             "colorbar": {
              "outlinewidth": 0,
              "ticks": ""
             }
            },
            "type": "scattergl"
           }
          ],
          "scattermapbox": [
           {
            "marker": {
             "colorbar": {
              "outlinewidth": 0,
              "ticks": ""
             }
            },
            "type": "scattermapbox"
           }
          ],
          "scatterpolar": [
           {
            "marker": {
             "colorbar": {
              "outlinewidth": 0,
              "ticks": ""
             }
            },
            "type": "scatterpolar"
           }
          ],
          "scatterpolargl": [
           {
            "marker": {
             "colorbar": {
              "outlinewidth": 0,
              "ticks": ""
             }
            },
            "type": "scatterpolargl"
           }
          ],
          "scatterternary": [
           {
            "marker": {
             "colorbar": {
              "outlinewidth": 0,
              "ticks": ""
             }
            },
            "type": "scatterternary"
           }
          ],
          "surface": [
           {
            "colorbar": {
             "outlinewidth": 0,
             "ticks": ""
            },
            "colorscale": [
             [
              0,
              "#0d0887"
             ],
             [
              0.1111111111111111,
              "#46039f"
             ],
             [
              0.2222222222222222,
              "#7201a8"
             ],
             [
              0.3333333333333333,
              "#9c179e"
             ],
             [
              0.4444444444444444,
              "#bd3786"
             ],
             [
              0.5555555555555556,
              "#d8576b"
             ],
             [
              0.6666666666666666,
              "#ed7953"
             ],
             [
              0.7777777777777778,
              "#fb9f3a"
             ],
             [
              0.8888888888888888,
              "#fdca26"
             ],
             [
              1,
              "#f0f921"
             ]
            ],
            "type": "surface"
           }
          ],
          "table": [
           {
            "cells": {
             "fill": {
              "color": "#EBF0F8"
             },
             "line": {
              "color": "white"
             }
            },
            "header": {
             "fill": {
              "color": "#C8D4E3"
             },
             "line": {
              "color": "white"
             }
            },
            "type": "table"
           }
          ]
         },
         "layout": {
          "annotationdefaults": {
           "arrowcolor": "#2a3f5f",
           "arrowhead": 0,
           "arrowwidth": 1
          },
          "autotypenumbers": "strict",
          "coloraxis": {
           "colorbar": {
            "outlinewidth": 0,
            "ticks": ""
           }
          },
          "colorscale": {
           "diverging": [
            [
             0,
             "#8e0152"
            ],
            [
             0.1,
             "#c51b7d"
            ],
            [
             0.2,
             "#de77ae"
            ],
            [
             0.3,
             "#f1b6da"
            ],
            [
             0.4,
             "#fde0ef"
            ],
            [
             0.5,
             "#f7f7f7"
            ],
            [
             0.6,
             "#e6f5d0"
            ],
            [
             0.7,
             "#b8e186"
            ],
            [
             0.8,
             "#7fbc41"
            ],
            [
             0.9,
             "#4d9221"
            ],
            [
             1,
             "#276419"
            ]
           ],
           "sequential": [
            [
             0,
             "#0d0887"
            ],
            [
             0.1111111111111111,
             "#46039f"
            ],
            [
             0.2222222222222222,
             "#7201a8"
            ],
            [
             0.3333333333333333,
             "#9c179e"
            ],
            [
             0.4444444444444444,
             "#bd3786"
            ],
            [
             0.5555555555555556,
             "#d8576b"
            ],
            [
             0.6666666666666666,
             "#ed7953"
            ],
            [
             0.7777777777777778,
             "#fb9f3a"
            ],
            [
             0.8888888888888888,
             "#fdca26"
            ],
            [
             1,
             "#f0f921"
            ]
           ],
           "sequentialminus": [
            [
             0,
             "#0d0887"
            ],
            [
             0.1111111111111111,
             "#46039f"
            ],
            [
             0.2222222222222222,
             "#7201a8"
            ],
            [
             0.3333333333333333,
             "#9c179e"
            ],
            [
             0.4444444444444444,
             "#bd3786"
            ],
            [
             0.5555555555555556,
             "#d8576b"
            ],
            [
             0.6666666666666666,
             "#ed7953"
            ],
            [
             0.7777777777777778,
             "#fb9f3a"
            ],
            [
             0.8888888888888888,
             "#fdca26"
            ],
            [
             1,
             "#f0f921"
            ]
           ]
          },
          "colorway": [
           "#636efa",
           "#EF553B",
           "#00cc96",
           "#ab63fa",
           "#FFA15A",
           "#19d3f3",
           "#FF6692",
           "#B6E880",
           "#FF97FF",
           "#FECB52"
          ],
          "font": {
           "color": "#2a3f5f"
          },
          "geo": {
           "bgcolor": "white",
           "lakecolor": "white",
           "landcolor": "#E5ECF6",
           "showlakes": true,
           "showland": true,
           "subunitcolor": "white"
          },
          "hoverlabel": {
           "align": "left"
          },
          "hovermode": "closest",
          "mapbox": {
           "style": "light"
          },
          "paper_bgcolor": "white",
          "plot_bgcolor": "#E5ECF6",
          "polar": {
           "angularaxis": {
            "gridcolor": "white",
            "linecolor": "white",
            "ticks": ""
           },
           "bgcolor": "#E5ECF6",
           "radialaxis": {
            "gridcolor": "white",
            "linecolor": "white",
            "ticks": ""
           }
          },
          "scene": {
           "xaxis": {
            "backgroundcolor": "#E5ECF6",
            "gridcolor": "white",
            "gridwidth": 2,
            "linecolor": "white",
            "showbackground": true,
            "ticks": "",
            "zerolinecolor": "white"
           },
           "yaxis": {
            "backgroundcolor": "#E5ECF6",
            "gridcolor": "white",
            "gridwidth": 2,
            "linecolor": "white",
            "showbackground": true,
            "ticks": "",
            "zerolinecolor": "white"
           },
           "zaxis": {
            "backgroundcolor": "#E5ECF6",
            "gridcolor": "white",
            "gridwidth": 2,
            "linecolor": "white",
            "showbackground": true,
            "ticks": "",
            "zerolinecolor": "white"
           }
          },
          "shapedefaults": {
           "line": {
            "color": "#2a3f5f"
           }
          },
          "ternary": {
           "aaxis": {
            "gridcolor": "white",
            "linecolor": "white",
            "ticks": ""
           },
           "baxis": {
            "gridcolor": "white",
            "linecolor": "white",
            "ticks": ""
           },
           "bgcolor": "#E5ECF6",
           "caxis": {
            "gridcolor": "white",
            "linecolor": "white",
            "ticks": ""
           }
          },
          "title": {
           "x": 0.05
          },
          "xaxis": {
           "automargin": true,
           "gridcolor": "white",
           "linecolor": "white",
           "ticks": "",
           "title": {
            "standoff": 15
           },
           "zerolinecolor": "white",
           "zerolinewidth": 2
          },
          "yaxis": {
           "automargin": true,
           "gridcolor": "white",
           "linecolor": "white",
           "ticks": "",
           "title": {
            "standoff": 15
           },
           "zerolinecolor": "white",
           "zerolinewidth": 2
          }
         }
        },
        "width": 700,
        "xaxis": {
         "anchor": "y",
         "domain": [
          0,
          1
         ],
         "title": {
          "text": "up_days"
         }
        },
        "yaxis": {
         "anchor": "x",
         "domain": [
          0,
          1
         ],
         "title": {
          "text": "display_price"
         }
        }
       }
      },
      "text/html": [
       "<div>                            <div id=\"3a071c12-ef81-4fee-a9d3-5f5c9d44b6ba\" class=\"plotly-graph-div\" style=\"height:400px; width:700px;\"></div>            <script type=\"text/javascript\">                require([\"plotly\"], function(Plotly) {                    window.PLOTLYENV=window.PLOTLYENV || {};                                    if (document.getElementById(\"3a071c12-ef81-4fee-a9d3-5f5c9d44b6ba\")) {                    Plotly.newPlot(                        \"3a071c12-ef81-4fee-a9d3-5f5c9d44b6ba\",                        [{\"customdata\": [[14428505], [14717706], [14773472], [14776388], [14835636], [14766693], [14497469], [14766574], [14368490], [14398693], [14772012], [14497647], [14620519], [14623758], [14447886], [14497520], [14573020], [14406012], [14596576], [14457618], [14022604], [14161628], [13382779], [14162850]], \"hovertemplate\": \"time_split=after<br>up_days=%{x}<br>display_price=%{y}<br>list_id=%{customdata[0]}<extra></extra>\", \"legendgroup\": \"after\", \"marker\": {\"color\": \"#636efa\", \"symbol\": \"circle\"}, \"mode\": \"markers\", \"name\": \"after\", \"orientation\": \"v\", \"showlegend\": true, \"type\": \"scatter\", \"x\": [0, 0, 1, 1, 0, 0, 1, 1, 10, 2, 0, 107, 1, 1, 1, 1, -1, 0, -4, 33, 40, 31, 0, 31], \"xaxis\": \"x\", \"y\": [520.0, 560.0, 580.0, 620.0, 650.0, 600.0, 550.0, 660.0, 650.0, 650.0, 650.0, 550.0, 595.0, 580.0, 580.0, 580.0, 680.0, 580.0, 650.0, 450.0, 650.0, 600.0, 720.0, 490.0], \"yaxis\": \"y\"}, {\"customdata\": [[11142287], [10664304], [10707338], [9694368], [10053011], [10830036], [10035184], [11095136], [11599206], [9809152], [10424787], [9796873], [13028607], [13056363], [10525740], [14019599], [13032468], [13940514], [13985268], [10441318], [13889283], [13837534], [10243520], [13889285], [13830030], [13781074], [13672516], [13767124], [10253525], [13638038], [11131212], [13629448], [10323452], [10859941], [13408753], [13428348], [11040524], [12978407], [11628619], [12957569], [10370953], [12892752], [10441319], [10370955], [14713430], [9769155], [12834659], [10175276], [12834794], [10783888], [12762337], [9875987], [12791955], [9809079], [12793902], [9703856], [12725503], [12724959], [10175278], [12668657], [10734416], [12445863], [12444921], [13837535], [10681222], [12356083], [11535488], [12340086], [11089510], [12282631], [12008694], [10277666], [11209854], [11973766], [10504149], [11958388], [10337040], [11943922], [11102738], [11730519], [11730520], [10292039], [11395913], [11142331], [10273339], [11088874], [9992642], [13688573], [10945854], [10907606], [9869446], [9992634], [9887357], [9919974], [10424786], [10370957], [10370954], [10323451], [10292043], [9701545]], \"hovertemplate\": \"time_split=before<br>up_days=%{x}<br>display_price=%{y}<br>list_id=%{customdata[0]}<extra></extra>\", \"legendgroup\": \"before\", \"marker\": {\"color\": \"#EF553B\", \"symbol\": \"circle\"}, \"mode\": \"markers\", \"name\": \"before\", \"orientation\": \"v\", \"showlegend\": true, \"type\": \"scatter\", \"x\": [5, 36, 20, 751, 0, 0, 561, 16, 3, 468, 426, 142, 15, 11, 216, 3, 30, 5, 9, 383, 7, 24, 406, 8, 18, 0, 32, 19, 392, 5, 12, 11, 427, 19, 0, 13, 14, 1, 43, 7, 13, 22, 6, 20, -305, 41, 22, 442, 15, 20, 40, 622, 30, 551, 26, 18, 12, 8, 396, 23, 65, 17, 8, 21, 0, -3, 3, 4, 12, 16, 8, 33, 1, 6, 323, 6, 19, 9, 78, 42, 32, 554, 16, 14, 380, 0, 472, 25, 27, 24, 444, 376, 402, 385, 0, 24, 0, 34, 20, 6], \"xaxis\": \"x\", \"y\": [700.0, 720.0, 720.0, 800.0, 750.0, 700.0, 682.0, 792.0, 730.0, 750.0, 690.0, 780.0, 700.0, 700.0, 690.0, 830.0, 670.0, 752.0, 840.0, 832.0, 900.0, 820.0, 750.0, 840.0, 700.0, 682.0, 780.0, 820.0, 762.0, 722.0, 720.0, 820.0, 802.0, 620.0, 820.0, 680.0, 662.0, 750.0, 722.0, 820.0, 750.0, 720.0, 690.0, 680.0, 600.0, 830.0, 802.0, 752.0, 720.0, 650.0, 810.0, 780.0, 820.0, 780.0, 780.0, 632.0, 850.0, 850.0, 720.0, 720.0, 720.0, 800.0, 800.0, 822.0, 750.0, 730.0, 730.0, 760.0, 720.0, 800.0, 680.0, 630.0, 802.0, 700.0, 680.0, 800.0, 760.0, 690.0, 650.0, 720.0, 690.0, 730.0, 720.0, 740.0, 742.0, 760.0, 720.0, 800.0, 690.0, 720.0, 710.0, 800.0, 750.0, 750.0, 800.0, 720.0, 650.0, 650.0, 700.0, 682.0], \"yaxis\": \"y\"}],                        {\"height\": 400, \"legend\": {\"title\": {\"text\": \"time_split\"}, \"tracegroupgap\": 0}, \"margin\": {\"t\": 60}, \"template\": {\"data\": {\"bar\": [{\"error_x\": {\"color\": \"#2a3f5f\"}, \"error_y\": {\"color\": \"#2a3f5f\"}, \"marker\": {\"line\": {\"color\": \"#E5ECF6\", \"width\": 0.5}}, \"type\": \"bar\"}], \"barpolar\": [{\"marker\": {\"line\": {\"color\": \"#E5ECF6\", \"width\": 0.5}}, \"type\": \"barpolar\"}], \"carpet\": [{\"aaxis\": {\"endlinecolor\": \"#2a3f5f\", \"gridcolor\": \"white\", \"linecolor\": \"white\", \"minorgridcolor\": \"white\", \"startlinecolor\": \"#2a3f5f\"}, \"baxis\": {\"endlinecolor\": \"#2a3f5f\", \"gridcolor\": \"white\", \"linecolor\": \"white\", \"minorgridcolor\": \"white\", \"startlinecolor\": \"#2a3f5f\"}, \"type\": \"carpet\"}], \"choropleth\": [{\"colorbar\": {\"outlinewidth\": 0, \"ticks\": \"\"}, \"type\": \"choropleth\"}], \"contour\": [{\"colorbar\": {\"outlinewidth\": 0, \"ticks\": \"\"}, \"colorscale\": [[0.0, \"#0d0887\"], [0.1111111111111111, \"#46039f\"], [0.2222222222222222, \"#7201a8\"], [0.3333333333333333, \"#9c179e\"], [0.4444444444444444, \"#bd3786\"], [0.5555555555555556, \"#d8576b\"], [0.6666666666666666, \"#ed7953\"], [0.7777777777777778, \"#fb9f3a\"], [0.8888888888888888, \"#fdca26\"], [1.0, \"#f0f921\"]], \"type\": \"contour\"}], \"contourcarpet\": [{\"colorbar\": {\"outlinewidth\": 0, \"ticks\": \"\"}, \"type\": \"contourcarpet\"}], \"heatmap\": [{\"colorbar\": {\"outlinewidth\": 0, \"ticks\": \"\"}, \"colorscale\": [[0.0, \"#0d0887\"], [0.1111111111111111, \"#46039f\"], [0.2222222222222222, \"#7201a8\"], [0.3333333333333333, \"#9c179e\"], [0.4444444444444444, \"#bd3786\"], [0.5555555555555556, \"#d8576b\"], [0.6666666666666666, \"#ed7953\"], [0.7777777777777778, \"#fb9f3a\"], [0.8888888888888888, \"#fdca26\"], [1.0, \"#f0f921\"]], \"type\": \"heatmap\"}], \"heatmapgl\": [{\"colorbar\": {\"outlinewidth\": 0, \"ticks\": \"\"}, \"colorscale\": [[0.0, \"#0d0887\"], [0.1111111111111111, \"#46039f\"], [0.2222222222222222, \"#7201a8\"], [0.3333333333333333, \"#9c179e\"], [0.4444444444444444, \"#bd3786\"], [0.5555555555555556, \"#d8576b\"], [0.6666666666666666, \"#ed7953\"], [0.7777777777777778, \"#fb9f3a\"], [0.8888888888888888, \"#fdca26\"], [1.0, \"#f0f921\"]], \"type\": \"heatmapgl\"}], \"histogram\": [{\"marker\": {\"colorbar\": {\"outlinewidth\": 0, \"ticks\": \"\"}}, \"type\": \"histogram\"}], \"histogram2d\": [{\"colorbar\": {\"outlinewidth\": 0, \"ticks\": \"\"}, \"colorscale\": [[0.0, \"#0d0887\"], [0.1111111111111111, \"#46039f\"], [0.2222222222222222, \"#7201a8\"], [0.3333333333333333, \"#9c179e\"], [0.4444444444444444, \"#bd3786\"], [0.5555555555555556, \"#d8576b\"], [0.6666666666666666, \"#ed7953\"], [0.7777777777777778, \"#fb9f3a\"], [0.8888888888888888, \"#fdca26\"], [1.0, \"#f0f921\"]], \"type\": \"histogram2d\"}], \"histogram2dcontour\": [{\"colorbar\": {\"outlinewidth\": 0, \"ticks\": \"\"}, \"colorscale\": [[0.0, \"#0d0887\"], [0.1111111111111111, \"#46039f\"], [0.2222222222222222, \"#7201a8\"], [0.3333333333333333, \"#9c179e\"], [0.4444444444444444, \"#bd3786\"], [0.5555555555555556, \"#d8576b\"], [0.6666666666666666, \"#ed7953\"], [0.7777777777777778, \"#fb9f3a\"], [0.8888888888888888, \"#fdca26\"], [1.0, \"#f0f921\"]], \"type\": \"histogram2dcontour\"}], \"mesh3d\": [{\"colorbar\": {\"outlinewidth\": 0, \"ticks\": \"\"}, \"type\": \"mesh3d\"}], \"parcoords\": [{\"line\": {\"colorbar\": {\"outlinewidth\": 0, \"ticks\": \"\"}}, \"type\": \"parcoords\"}], \"pie\": [{\"automargin\": true, \"type\": \"pie\"}], \"scatter\": [{\"marker\": {\"colorbar\": {\"outlinewidth\": 0, \"ticks\": \"\"}}, \"type\": \"scatter\"}], \"scatter3d\": [{\"line\": {\"colorbar\": {\"outlinewidth\": 0, \"ticks\": \"\"}}, \"marker\": {\"colorbar\": {\"outlinewidth\": 0, \"ticks\": \"\"}}, \"type\": \"scatter3d\"}], \"scattercarpet\": [{\"marker\": {\"colorbar\": {\"outlinewidth\": 0, \"ticks\": \"\"}}, \"type\": \"scattercarpet\"}], \"scattergeo\": [{\"marker\": {\"colorbar\": {\"outlinewidth\": 0, \"ticks\": \"\"}}, \"type\": \"scattergeo\"}], \"scattergl\": [{\"marker\": {\"colorbar\": {\"outlinewidth\": 0, \"ticks\": \"\"}}, \"type\": \"scattergl\"}], \"scattermapbox\": [{\"marker\": {\"colorbar\": {\"outlinewidth\": 0, \"ticks\": \"\"}}, \"type\": \"scattermapbox\"}], \"scatterpolar\": [{\"marker\": {\"colorbar\": {\"outlinewidth\": 0, \"ticks\": \"\"}}, \"type\": \"scatterpolar\"}], \"scatterpolargl\": [{\"marker\": {\"colorbar\": {\"outlinewidth\": 0, \"ticks\": \"\"}}, \"type\": \"scatterpolargl\"}], \"scatterternary\": [{\"marker\": {\"colorbar\": {\"outlinewidth\": 0, \"ticks\": \"\"}}, \"type\": \"scatterternary\"}], \"surface\": [{\"colorbar\": {\"outlinewidth\": 0, \"ticks\": \"\"}, \"colorscale\": [[0.0, \"#0d0887\"], [0.1111111111111111, \"#46039f\"], [0.2222222222222222, \"#7201a8\"], [0.3333333333333333, \"#9c179e\"], [0.4444444444444444, \"#bd3786\"], [0.5555555555555556, \"#d8576b\"], [0.6666666666666666, \"#ed7953\"], [0.7777777777777778, \"#fb9f3a\"], [0.8888888888888888, \"#fdca26\"], [1.0, \"#f0f921\"]], \"type\": \"surface\"}], \"table\": [{\"cells\": {\"fill\": {\"color\": \"#EBF0F8\"}, \"line\": {\"color\": \"white\"}}, \"header\": {\"fill\": {\"color\": \"#C8D4E3\"}, \"line\": {\"color\": \"white\"}}, \"type\": \"table\"}]}, \"layout\": {\"annotationdefaults\": {\"arrowcolor\": \"#2a3f5f\", \"arrowhead\": 0, \"arrowwidth\": 1}, \"autotypenumbers\": \"strict\", \"coloraxis\": {\"colorbar\": {\"outlinewidth\": 0, \"ticks\": \"\"}}, \"colorscale\": {\"diverging\": [[0, \"#8e0152\"], [0.1, \"#c51b7d\"], [0.2, \"#de77ae\"], [0.3, \"#f1b6da\"], [0.4, \"#fde0ef\"], [0.5, \"#f7f7f7\"], [0.6, \"#e6f5d0\"], [0.7, \"#b8e186\"], [0.8, \"#7fbc41\"], [0.9, \"#4d9221\"], [1, \"#276419\"]], \"sequential\": [[0.0, \"#0d0887\"], [0.1111111111111111, \"#46039f\"], [0.2222222222222222, \"#7201a8\"], [0.3333333333333333, \"#9c179e\"], [0.4444444444444444, \"#bd3786\"], [0.5555555555555556, \"#d8576b\"], [0.6666666666666666, \"#ed7953\"], [0.7777777777777778, \"#fb9f3a\"], [0.8888888888888888, \"#fdca26\"], [1.0, \"#f0f921\"]], \"sequentialminus\": [[0.0, \"#0d0887\"], [0.1111111111111111, \"#46039f\"], [0.2222222222222222, \"#7201a8\"], [0.3333333333333333, \"#9c179e\"], [0.4444444444444444, \"#bd3786\"], [0.5555555555555556, \"#d8576b\"], [0.6666666666666666, \"#ed7953\"], [0.7777777777777778, \"#fb9f3a\"], [0.8888888888888888, \"#fdca26\"], [1.0, \"#f0f921\"]]}, \"colorway\": [\"#636efa\", \"#EF553B\", \"#00cc96\", \"#ab63fa\", \"#FFA15A\", \"#19d3f3\", \"#FF6692\", \"#B6E880\", \"#FF97FF\", \"#FECB52\"], \"font\": {\"color\": \"#2a3f5f\"}, \"geo\": {\"bgcolor\": \"white\", \"lakecolor\": \"white\", \"landcolor\": \"#E5ECF6\", \"showlakes\": true, \"showland\": true, \"subunitcolor\": \"white\"}, \"hoverlabel\": {\"align\": \"left\"}, \"hovermode\": \"closest\", \"mapbox\": {\"style\": \"light\"}, \"paper_bgcolor\": \"white\", \"plot_bgcolor\": \"#E5ECF6\", \"polar\": {\"angularaxis\": {\"gridcolor\": \"white\", \"linecolor\": \"white\", \"ticks\": \"\"}, \"bgcolor\": \"#E5ECF6\", \"radialaxis\": {\"gridcolor\": \"white\", \"linecolor\": \"white\", \"ticks\": \"\"}}, \"scene\": {\"xaxis\": {\"backgroundcolor\": \"#E5ECF6\", \"gridcolor\": \"white\", \"gridwidth\": 2, \"linecolor\": \"white\", \"showbackground\": true, \"ticks\": \"\", \"zerolinecolor\": \"white\"}, \"yaxis\": {\"backgroundcolor\": \"#E5ECF6\", \"gridcolor\": \"white\", \"gridwidth\": 2, \"linecolor\": \"white\", \"showbackground\": true, \"ticks\": \"\", \"zerolinecolor\": \"white\"}, \"zaxis\": {\"backgroundcolor\": \"#E5ECF6\", \"gridcolor\": \"white\", \"gridwidth\": 2, \"linecolor\": \"white\", \"showbackground\": true, \"ticks\": \"\", \"zerolinecolor\": \"white\"}}, \"shapedefaults\": {\"line\": {\"color\": \"#2a3f5f\"}}, \"ternary\": {\"aaxis\": {\"gridcolor\": \"white\", \"linecolor\": \"white\", \"ticks\": \"\"}, \"baxis\": {\"gridcolor\": \"white\", \"linecolor\": \"white\", \"ticks\": \"\"}, \"bgcolor\": \"#E5ECF6\", \"caxis\": {\"gridcolor\": \"white\", \"linecolor\": \"white\", \"ticks\": \"\"}}, \"title\": {\"x\": 0.05}, \"xaxis\": {\"automargin\": true, \"gridcolor\": \"white\", \"linecolor\": \"white\", \"ticks\": \"\", \"title\": {\"standoff\": 15}, \"zerolinecolor\": \"white\", \"zerolinewidth\": 2}, \"yaxis\": {\"automargin\": true, \"gridcolor\": \"white\", \"linecolor\": \"white\", \"ticks\": \"\", \"title\": {\"standoff\": 15}, \"zerolinecolor\": \"white\", \"zerolinewidth\": 2}}}, \"width\": 700, \"xaxis\": {\"anchor\": \"y\", \"domain\": [0.0, 1.0], \"title\": {\"text\": \"up_days\"}}, \"yaxis\": {\"anchor\": \"x\", \"domain\": [0.0, 1.0], \"title\": {\"text\": \"display_price\"}}},                        {\"responsive\": true}                    ).then(function(){\n",
       "                            \n",
       "var gd = document.getElementById('3a071c12-ef81-4fee-a9d3-5f5c9d44b6ba');\n",
       "var x = new MutationObserver(function (mutations, observer) {{\n",
       "        var display = window.getComputedStyle(gd).display;\n",
       "        if (!display || display === 'none') {{\n",
       "            console.log([gd, 'removed!']);\n",
       "            Plotly.purge(gd);\n",
       "            observer.disconnect();\n",
       "        }}\n",
       "}});\n",
       "\n",
       "// Listen for the removal of the full notebook cells\n",
       "var notebookContainer = gd.closest('#notebook-container');\n",
       "if (notebookContainer) {{\n",
       "    x.observe(notebookContainer, {childList: true});\n",
       "}}\n",
       "\n",
       "// Listen for the clearing of the current output cell\n",
       "var outputEl = gd.closest('.output');\n",
       "if (outputEl) {{\n",
       "    x.observe(outputEl, {childList: true});\n",
       "}}\n",
       "\n",
       "                        })                };                });            </script>        </div>"
      ]
     },
     "metadata": {},
     "output_type": "display_data"
    }
   ],
   "source": [
    "fig = px.scatter(up_df, x=\"up_days\", y=\"display_price\",color = 'time_split',hover_data = ['list_id'],width=700, height=400)\n",
    "fig.show()"
   ]
  },
  {
   "cell_type": "code",
   "execution_count": 357,
   "metadata": {},
   "outputs": [],
   "source": [
    "fig = px.scatter()"
   ]
  },
  {
   "cell_type": "code",
   "execution_count": 358,
   "metadata": {},
   "outputs": [
    {
     "data": {
      "application/vnd.plotly.v1+json": {
       "config": {
        "plotlyServerURL": "https://plot.ly"
       },
       "data": [],
       "layout": {
        "legend": {
         "tracegroupgap": 0
        },
        "margin": {
         "t": 60
        },
        "template": {
         "data": {
          "bar": [
           {
            "error_x": {
             "color": "#2a3f5f"
            },
            "error_y": {
             "color": "#2a3f5f"
            },
            "marker": {
             "line": {
              "color": "#E5ECF6",
              "width": 0.5
             }
            },
            "type": "bar"
           }
          ],
          "barpolar": [
           {
            "marker": {
             "line": {
              "color": "#E5ECF6",
              "width": 0.5
             }
            },
            "type": "barpolar"
           }
          ],
          "carpet": [
           {
            "aaxis": {
             "endlinecolor": "#2a3f5f",
             "gridcolor": "white",
             "linecolor": "white",
             "minorgridcolor": "white",
             "startlinecolor": "#2a3f5f"
            },
            "baxis": {
             "endlinecolor": "#2a3f5f",
             "gridcolor": "white",
             "linecolor": "white",
             "minorgridcolor": "white",
             "startlinecolor": "#2a3f5f"
            },
            "type": "carpet"
           }
          ],
          "choropleth": [
           {
            "colorbar": {
             "outlinewidth": 0,
             "ticks": ""
            },
            "type": "choropleth"
           }
          ],
          "contour": [
           {
            "colorbar": {
             "outlinewidth": 0,
             "ticks": ""
            },
            "colorscale": [
             [
              0,
              "#0d0887"
             ],
             [
              0.1111111111111111,
              "#46039f"
             ],
             [
              0.2222222222222222,
              "#7201a8"
             ],
             [
              0.3333333333333333,
              "#9c179e"
             ],
             [
              0.4444444444444444,
              "#bd3786"
             ],
             [
              0.5555555555555556,
              "#d8576b"
             ],
             [
              0.6666666666666666,
              "#ed7953"
             ],
             [
              0.7777777777777778,
              "#fb9f3a"
             ],
             [
              0.8888888888888888,
              "#fdca26"
             ],
             [
              1,
              "#f0f921"
             ]
            ],
            "type": "contour"
           }
          ],
          "contourcarpet": [
           {
            "colorbar": {
             "outlinewidth": 0,
             "ticks": ""
            },
            "type": "contourcarpet"
           }
          ],
          "heatmap": [
           {
            "colorbar": {
             "outlinewidth": 0,
             "ticks": ""
            },
            "colorscale": [
             [
              0,
              "#0d0887"
             ],
             [
              0.1111111111111111,
              "#46039f"
             ],
             [
              0.2222222222222222,
              "#7201a8"
             ],
             [
              0.3333333333333333,
              "#9c179e"
             ],
             [
              0.4444444444444444,
              "#bd3786"
             ],
             [
              0.5555555555555556,
              "#d8576b"
             ],
             [
              0.6666666666666666,
              "#ed7953"
             ],
             [
              0.7777777777777778,
              "#fb9f3a"
             ],
             [
              0.8888888888888888,
              "#fdca26"
             ],
             [
              1,
              "#f0f921"
             ]
            ],
            "type": "heatmap"
           }
          ],
          "heatmapgl": [
           {
            "colorbar": {
             "outlinewidth": 0,
             "ticks": ""
            },
            "colorscale": [
             [
              0,
              "#0d0887"
             ],
             [
              0.1111111111111111,
              "#46039f"
             ],
             [
              0.2222222222222222,
              "#7201a8"
             ],
             [
              0.3333333333333333,
              "#9c179e"
             ],
             [
              0.4444444444444444,
              "#bd3786"
             ],
             [
              0.5555555555555556,
              "#d8576b"
             ],
             [
              0.6666666666666666,
              "#ed7953"
             ],
             [
              0.7777777777777778,
              "#fb9f3a"
             ],
             [
              0.8888888888888888,
              "#fdca26"
             ],
             [
              1,
              "#f0f921"
             ]
            ],
            "type": "heatmapgl"
           }
          ],
          "histogram": [
           {
            "marker": {
             "colorbar": {
              "outlinewidth": 0,
              "ticks": ""
             }
            },
            "type": "histogram"
           }
          ],
          "histogram2d": [
           {
            "colorbar": {
             "outlinewidth": 0,
             "ticks": ""
            },
            "colorscale": [
             [
              0,
              "#0d0887"
             ],
             [
              0.1111111111111111,
              "#46039f"
             ],
             [
              0.2222222222222222,
              "#7201a8"
             ],
             [
              0.3333333333333333,
              "#9c179e"
             ],
             [
              0.4444444444444444,
              "#bd3786"
             ],
             [
              0.5555555555555556,
              "#d8576b"
             ],
             [
              0.6666666666666666,
              "#ed7953"
             ],
             [
              0.7777777777777778,
              "#fb9f3a"
             ],
             [
              0.8888888888888888,
              "#fdca26"
             ],
             [
              1,
              "#f0f921"
             ]
            ],
            "type": "histogram2d"
           }
          ],
          "histogram2dcontour": [
           {
            "colorbar": {
             "outlinewidth": 0,
             "ticks": ""
            },
            "colorscale": [
             [
              0,
              "#0d0887"
             ],
             [
              0.1111111111111111,
              "#46039f"
             ],
             [
              0.2222222222222222,
              "#7201a8"
             ],
             [
              0.3333333333333333,
              "#9c179e"
             ],
             [
              0.4444444444444444,
              "#bd3786"
             ],
             [
              0.5555555555555556,
              "#d8576b"
             ],
             [
              0.6666666666666666,
              "#ed7953"
             ],
             [
              0.7777777777777778,
              "#fb9f3a"
             ],
             [
              0.8888888888888888,
              "#fdca26"
             ],
             [
              1,
              "#f0f921"
             ]
            ],
            "type": "histogram2dcontour"
           }
          ],
          "mesh3d": [
           {
            "colorbar": {
             "outlinewidth": 0,
             "ticks": ""
            },
            "type": "mesh3d"
           }
          ],
          "parcoords": [
           {
            "line": {
             "colorbar": {
              "outlinewidth": 0,
              "ticks": ""
             }
            },
            "type": "parcoords"
           }
          ],
          "pie": [
           {
            "automargin": true,
            "type": "pie"
           }
          ],
          "scatter": [
           {
            "marker": {
             "colorbar": {
              "outlinewidth": 0,
              "ticks": ""
             }
            },
            "type": "scatter"
           }
          ],
          "scatter3d": [
           {
            "line": {
             "colorbar": {
              "outlinewidth": 0,
              "ticks": ""
             }
            },
            "marker": {
             "colorbar": {
              "outlinewidth": 0,
              "ticks": ""
             }
            },
            "type": "scatter3d"
           }
          ],
          "scattercarpet": [
           {
            "marker": {
             "colorbar": {
              "outlinewidth": 0,
              "ticks": ""
             }
            },
            "type": "scattercarpet"
           }
          ],
          "scattergeo": [
           {
            "marker": {
             "colorbar": {
              "outlinewidth": 0,
              "ticks": ""
             }
            },
            "type": "scattergeo"
           }
          ],
          "scattergl": [
           {
            "marker": {
             "colorbar": {
              "outlinewidth": 0,
              "ticks": ""
             }
            },
            "type": "scattergl"
           }
          ],
          "scattermapbox": [
           {
            "marker": {
             "colorbar": {
              "outlinewidth": 0,
              "ticks": ""
             }
            },
            "type": "scattermapbox"
           }
          ],
          "scatterpolar": [
           {
            "marker": {
             "colorbar": {
              "outlinewidth": 0,
              "ticks": ""
             }
            },
            "type": "scatterpolar"
           }
          ],
          "scatterpolargl": [
           {
            "marker": {
             "colorbar": {
              "outlinewidth": 0,
              "ticks": ""
             }
            },
            "type": "scatterpolargl"
           }
          ],
          "scatterternary": [
           {
            "marker": {
             "colorbar": {
              "outlinewidth": 0,
              "ticks": ""
             }
            },
            "type": "scatterternary"
           }
          ],
          "surface": [
           {
            "colorbar": {
             "outlinewidth": 0,
             "ticks": ""
            },
            "colorscale": [
             [
              0,
              "#0d0887"
             ],
             [
              0.1111111111111111,
              "#46039f"
             ],
             [
              0.2222222222222222,
              "#7201a8"
             ],
             [
              0.3333333333333333,
              "#9c179e"
             ],
             [
              0.4444444444444444,
              "#bd3786"
             ],
             [
              0.5555555555555556,
              "#d8576b"
             ],
             [
              0.6666666666666666,
              "#ed7953"
             ],
             [
              0.7777777777777778,
              "#fb9f3a"
             ],
             [
              0.8888888888888888,
              "#fdca26"
             ],
             [
              1,
              "#f0f921"
             ]
            ],
            "type": "surface"
           }
          ],
          "table": [
           {
            "cells": {
             "fill": {
              "color": "#EBF0F8"
             },
             "line": {
              "color": "white"
             }
            },
            "header": {
             "fill": {
              "color": "#C8D4E3"
             },
             "line": {
              "color": "white"
             }
            },
            "type": "table"
           }
          ]
         },
         "layout": {
          "annotationdefaults": {
           "arrowcolor": "#2a3f5f",
           "arrowhead": 0,
           "arrowwidth": 1
          },
          "autotypenumbers": "strict",
          "coloraxis": {
           "colorbar": {
            "outlinewidth": 0,
            "ticks": ""
           }
          },
          "colorscale": {
           "diverging": [
            [
             0,
             "#8e0152"
            ],
            [
             0.1,
             "#c51b7d"
            ],
            [
             0.2,
             "#de77ae"
            ],
            [
             0.3,
             "#f1b6da"
            ],
            [
             0.4,
             "#fde0ef"
            ],
            [
             0.5,
             "#f7f7f7"
            ],
            [
             0.6,
             "#e6f5d0"
            ],
            [
             0.7,
             "#b8e186"
            ],
            [
             0.8,
             "#7fbc41"
            ],
            [
             0.9,
             "#4d9221"
            ],
            [
             1,
             "#276419"
            ]
           ],
           "sequential": [
            [
             0,
             "#0d0887"
            ],
            [
             0.1111111111111111,
             "#46039f"
            ],
            [
             0.2222222222222222,
             "#7201a8"
            ],
            [
             0.3333333333333333,
             "#9c179e"
            ],
            [
             0.4444444444444444,
             "#bd3786"
            ],
            [
             0.5555555555555556,
             "#d8576b"
            ],
            [
             0.6666666666666666,
             "#ed7953"
            ],
            [
             0.7777777777777778,
             "#fb9f3a"
            ],
            [
             0.8888888888888888,
             "#fdca26"
            ],
            [
             1,
             "#f0f921"
            ]
           ],
           "sequentialminus": [
            [
             0,
             "#0d0887"
            ],
            [
             0.1111111111111111,
             "#46039f"
            ],
            [
             0.2222222222222222,
             "#7201a8"
            ],
            [
             0.3333333333333333,
             "#9c179e"
            ],
            [
             0.4444444444444444,
             "#bd3786"
            ],
            [
             0.5555555555555556,
             "#d8576b"
            ],
            [
             0.6666666666666666,
             "#ed7953"
            ],
            [
             0.7777777777777778,
             "#fb9f3a"
            ],
            [
             0.8888888888888888,
             "#fdca26"
            ],
            [
             1,
             "#f0f921"
            ]
           ]
          },
          "colorway": [
           "#636efa",
           "#EF553B",
           "#00cc96",
           "#ab63fa",
           "#FFA15A",
           "#19d3f3",
           "#FF6692",
           "#B6E880",
           "#FF97FF",
           "#FECB52"
          ],
          "font": {
           "color": "#2a3f5f"
          },
          "geo": {
           "bgcolor": "white",
           "lakecolor": "white",
           "landcolor": "#E5ECF6",
           "showlakes": true,
           "showland": true,
           "subunitcolor": "white"
          },
          "hoverlabel": {
           "align": "left"
          },
          "hovermode": "closest",
          "mapbox": {
           "style": "light"
          },
          "paper_bgcolor": "white",
          "plot_bgcolor": "#E5ECF6",
          "polar": {
           "angularaxis": {
            "gridcolor": "white",
            "linecolor": "white",
            "ticks": ""
           },
           "bgcolor": "#E5ECF6",
           "radialaxis": {
            "gridcolor": "white",
            "linecolor": "white",
            "ticks": ""
           }
          },
          "scene": {
           "xaxis": {
            "backgroundcolor": "#E5ECF6",
            "gridcolor": "white",
            "gridwidth": 2,
            "linecolor": "white",
            "showbackground": true,
            "ticks": "",
            "zerolinecolor": "white"
           },
           "yaxis": {
            "backgroundcolor": "#E5ECF6",
            "gridcolor": "white",
            "gridwidth": 2,
            "linecolor": "white",
            "showbackground": true,
            "ticks": "",
            "zerolinecolor": "white"
           },
           "zaxis": {
            "backgroundcolor": "#E5ECF6",
            "gridcolor": "white",
            "gridwidth": 2,
            "linecolor": "white",
            "showbackground": true,
            "ticks": "",
            "zerolinecolor": "white"
           }
          },
          "shapedefaults": {
           "line": {
            "color": "#2a3f5f"
           }
          },
          "ternary": {
           "aaxis": {
            "gridcolor": "white",
            "linecolor": "white",
            "ticks": ""
           },
           "baxis": {
            "gridcolor": "white",
            "linecolor": "white",
            "ticks": ""
           },
           "bgcolor": "#E5ECF6",
           "caxis": {
            "gridcolor": "white",
            "linecolor": "white",
            "ticks": ""
           }
          },
          "title": {
           "x": 0.05
          },
          "xaxis": {
           "automargin": true,
           "gridcolor": "white",
           "linecolor": "white",
           "ticks": "",
           "title": {
            "standoff": 15
           },
           "zerolinecolor": "white",
           "zerolinewidth": 2
          },
          "yaxis": {
           "automargin": true,
           "gridcolor": "white",
           "linecolor": "white",
           "ticks": "",
           "title": {
            "standoff": 15
           },
           "zerolinecolor": "white",
           "zerolinewidth": 2
          }
         }
        },
        "xaxis": {
         "anchor": "y",
         "domain": [
          0,
          1
         ]
        },
        "yaxis": {
         "anchor": "x",
         "domain": [
          0,
          1
         ]
        }
       }
      },
      "text/html": [
       "<div>                            <div id=\"2d3f708a-bbe4-4532-86c8-8d0c9164b680\" class=\"plotly-graph-div\" style=\"height:525px; width:100%;\"></div>            <script type=\"text/javascript\">                require([\"plotly\"], function(Plotly) {                    window.PLOTLYENV=window.PLOTLYENV || {};                                    if (document.getElementById(\"2d3f708a-bbe4-4532-86c8-8d0c9164b680\")) {                    Plotly.newPlot(                        \"2d3f708a-bbe4-4532-86c8-8d0c9164b680\",                        [],                        {\"legend\": {\"tracegroupgap\": 0}, \"margin\": {\"t\": 60}, \"template\": {\"data\": {\"bar\": [{\"error_x\": {\"color\": \"#2a3f5f\"}, \"error_y\": {\"color\": \"#2a3f5f\"}, \"marker\": {\"line\": {\"color\": \"#E5ECF6\", \"width\": 0.5}}, \"type\": \"bar\"}], \"barpolar\": [{\"marker\": {\"line\": {\"color\": \"#E5ECF6\", \"width\": 0.5}}, \"type\": \"barpolar\"}], \"carpet\": [{\"aaxis\": {\"endlinecolor\": \"#2a3f5f\", \"gridcolor\": \"white\", \"linecolor\": \"white\", \"minorgridcolor\": \"white\", \"startlinecolor\": \"#2a3f5f\"}, \"baxis\": {\"endlinecolor\": \"#2a3f5f\", \"gridcolor\": \"white\", \"linecolor\": \"white\", \"minorgridcolor\": \"white\", \"startlinecolor\": \"#2a3f5f\"}, \"type\": \"carpet\"}], \"choropleth\": [{\"colorbar\": {\"outlinewidth\": 0, \"ticks\": \"\"}, \"type\": \"choropleth\"}], \"contour\": [{\"colorbar\": {\"outlinewidth\": 0, \"ticks\": \"\"}, \"colorscale\": [[0.0, \"#0d0887\"], [0.1111111111111111, \"#46039f\"], [0.2222222222222222, \"#7201a8\"], [0.3333333333333333, \"#9c179e\"], [0.4444444444444444, \"#bd3786\"], [0.5555555555555556, \"#d8576b\"], [0.6666666666666666, \"#ed7953\"], [0.7777777777777778, \"#fb9f3a\"], [0.8888888888888888, \"#fdca26\"], [1.0, \"#f0f921\"]], \"type\": \"contour\"}], \"contourcarpet\": [{\"colorbar\": {\"outlinewidth\": 0, \"ticks\": \"\"}, \"type\": \"contourcarpet\"}], \"heatmap\": [{\"colorbar\": {\"outlinewidth\": 0, \"ticks\": \"\"}, \"colorscale\": [[0.0, \"#0d0887\"], [0.1111111111111111, \"#46039f\"], [0.2222222222222222, \"#7201a8\"], [0.3333333333333333, \"#9c179e\"], [0.4444444444444444, \"#bd3786\"], [0.5555555555555556, \"#d8576b\"], [0.6666666666666666, \"#ed7953\"], [0.7777777777777778, \"#fb9f3a\"], [0.8888888888888888, \"#fdca26\"], [1.0, \"#f0f921\"]], \"type\": \"heatmap\"}], \"heatmapgl\": [{\"colorbar\": {\"outlinewidth\": 0, \"ticks\": \"\"}, \"colorscale\": [[0.0, \"#0d0887\"], [0.1111111111111111, \"#46039f\"], [0.2222222222222222, \"#7201a8\"], [0.3333333333333333, \"#9c179e\"], [0.4444444444444444, \"#bd3786\"], [0.5555555555555556, \"#d8576b\"], [0.6666666666666666, \"#ed7953\"], [0.7777777777777778, \"#fb9f3a\"], [0.8888888888888888, \"#fdca26\"], [1.0, \"#f0f921\"]], \"type\": \"heatmapgl\"}], \"histogram\": [{\"marker\": {\"colorbar\": {\"outlinewidth\": 0, \"ticks\": \"\"}}, \"type\": \"histogram\"}], \"histogram2d\": [{\"colorbar\": {\"outlinewidth\": 0, \"ticks\": \"\"}, \"colorscale\": [[0.0, \"#0d0887\"], [0.1111111111111111, \"#46039f\"], [0.2222222222222222, \"#7201a8\"], [0.3333333333333333, \"#9c179e\"], [0.4444444444444444, \"#bd3786\"], [0.5555555555555556, \"#d8576b\"], [0.6666666666666666, \"#ed7953\"], [0.7777777777777778, \"#fb9f3a\"], [0.8888888888888888, \"#fdca26\"], [1.0, \"#f0f921\"]], \"type\": \"histogram2d\"}], \"histogram2dcontour\": [{\"colorbar\": {\"outlinewidth\": 0, \"ticks\": \"\"}, \"colorscale\": [[0.0, \"#0d0887\"], [0.1111111111111111, \"#46039f\"], [0.2222222222222222, \"#7201a8\"], [0.3333333333333333, \"#9c179e\"], [0.4444444444444444, \"#bd3786\"], [0.5555555555555556, \"#d8576b\"], [0.6666666666666666, \"#ed7953\"], [0.7777777777777778, \"#fb9f3a\"], [0.8888888888888888, \"#fdca26\"], [1.0, \"#f0f921\"]], \"type\": \"histogram2dcontour\"}], \"mesh3d\": [{\"colorbar\": {\"outlinewidth\": 0, \"ticks\": \"\"}, \"type\": \"mesh3d\"}], \"parcoords\": [{\"line\": {\"colorbar\": {\"outlinewidth\": 0, \"ticks\": \"\"}}, \"type\": \"parcoords\"}], \"pie\": [{\"automargin\": true, \"type\": \"pie\"}], \"scatter\": [{\"marker\": {\"colorbar\": {\"outlinewidth\": 0, \"ticks\": \"\"}}, \"type\": \"scatter\"}], \"scatter3d\": [{\"line\": {\"colorbar\": {\"outlinewidth\": 0, \"ticks\": \"\"}}, \"marker\": {\"colorbar\": {\"outlinewidth\": 0, \"ticks\": \"\"}}, \"type\": \"scatter3d\"}], \"scattercarpet\": [{\"marker\": {\"colorbar\": {\"outlinewidth\": 0, \"ticks\": \"\"}}, \"type\": \"scattercarpet\"}], \"scattergeo\": [{\"marker\": {\"colorbar\": {\"outlinewidth\": 0, \"ticks\": \"\"}}, \"type\": \"scattergeo\"}], \"scattergl\": [{\"marker\": {\"colorbar\": {\"outlinewidth\": 0, \"ticks\": \"\"}}, \"type\": \"scattergl\"}], \"scattermapbox\": [{\"marker\": {\"colorbar\": {\"outlinewidth\": 0, \"ticks\": \"\"}}, \"type\": \"scattermapbox\"}], \"scatterpolar\": [{\"marker\": {\"colorbar\": {\"outlinewidth\": 0, \"ticks\": \"\"}}, \"type\": \"scatterpolar\"}], \"scatterpolargl\": [{\"marker\": {\"colorbar\": {\"outlinewidth\": 0, \"ticks\": \"\"}}, \"type\": \"scatterpolargl\"}], \"scatterternary\": [{\"marker\": {\"colorbar\": {\"outlinewidth\": 0, \"ticks\": \"\"}}, \"type\": \"scatterternary\"}], \"surface\": [{\"colorbar\": {\"outlinewidth\": 0, \"ticks\": \"\"}, \"colorscale\": [[0.0, \"#0d0887\"], [0.1111111111111111, \"#46039f\"], [0.2222222222222222, \"#7201a8\"], [0.3333333333333333, \"#9c179e\"], [0.4444444444444444, \"#bd3786\"], [0.5555555555555556, \"#d8576b\"], [0.6666666666666666, \"#ed7953\"], [0.7777777777777778, \"#fb9f3a\"], [0.8888888888888888, \"#fdca26\"], [1.0, \"#f0f921\"]], \"type\": \"surface\"}], \"table\": [{\"cells\": {\"fill\": {\"color\": \"#EBF0F8\"}, \"line\": {\"color\": \"white\"}}, \"header\": {\"fill\": {\"color\": \"#C8D4E3\"}, \"line\": {\"color\": \"white\"}}, \"type\": \"table\"}]}, \"layout\": {\"annotationdefaults\": {\"arrowcolor\": \"#2a3f5f\", \"arrowhead\": 0, \"arrowwidth\": 1}, \"autotypenumbers\": \"strict\", \"coloraxis\": {\"colorbar\": {\"outlinewidth\": 0, \"ticks\": \"\"}}, \"colorscale\": {\"diverging\": [[0, \"#8e0152\"], [0.1, \"#c51b7d\"], [0.2, \"#de77ae\"], [0.3, \"#f1b6da\"], [0.4, \"#fde0ef\"], [0.5, \"#f7f7f7\"], [0.6, \"#e6f5d0\"], [0.7, \"#b8e186\"], [0.8, \"#7fbc41\"], [0.9, \"#4d9221\"], [1, \"#276419\"]], \"sequential\": [[0.0, \"#0d0887\"], [0.1111111111111111, \"#46039f\"], [0.2222222222222222, \"#7201a8\"], [0.3333333333333333, \"#9c179e\"], [0.4444444444444444, \"#bd3786\"], [0.5555555555555556, \"#d8576b\"], [0.6666666666666666, \"#ed7953\"], [0.7777777777777778, \"#fb9f3a\"], [0.8888888888888888, \"#fdca26\"], [1.0, \"#f0f921\"]], \"sequentialminus\": [[0.0, \"#0d0887\"], [0.1111111111111111, \"#46039f\"], [0.2222222222222222, \"#7201a8\"], [0.3333333333333333, \"#9c179e\"], [0.4444444444444444, \"#bd3786\"], [0.5555555555555556, \"#d8576b\"], [0.6666666666666666, \"#ed7953\"], [0.7777777777777778, \"#fb9f3a\"], [0.8888888888888888, \"#fdca26\"], [1.0, \"#f0f921\"]]}, \"colorway\": [\"#636efa\", \"#EF553B\", \"#00cc96\", \"#ab63fa\", \"#FFA15A\", \"#19d3f3\", \"#FF6692\", \"#B6E880\", \"#FF97FF\", \"#FECB52\"], \"font\": {\"color\": \"#2a3f5f\"}, \"geo\": {\"bgcolor\": \"white\", \"lakecolor\": \"white\", \"landcolor\": \"#E5ECF6\", \"showlakes\": true, \"showland\": true, \"subunitcolor\": \"white\"}, \"hoverlabel\": {\"align\": \"left\"}, \"hovermode\": \"closest\", \"mapbox\": {\"style\": \"light\"}, \"paper_bgcolor\": \"white\", \"plot_bgcolor\": \"#E5ECF6\", \"polar\": {\"angularaxis\": {\"gridcolor\": \"white\", \"linecolor\": \"white\", \"ticks\": \"\"}, \"bgcolor\": \"#E5ECF6\", \"radialaxis\": {\"gridcolor\": \"white\", \"linecolor\": \"white\", \"ticks\": \"\"}}, \"scene\": {\"xaxis\": {\"backgroundcolor\": \"#E5ECF6\", \"gridcolor\": \"white\", \"gridwidth\": 2, \"linecolor\": \"white\", \"showbackground\": true, \"ticks\": \"\", \"zerolinecolor\": \"white\"}, \"yaxis\": {\"backgroundcolor\": \"#E5ECF6\", \"gridcolor\": \"white\", \"gridwidth\": 2, \"linecolor\": \"white\", \"showbackground\": true, \"ticks\": \"\", \"zerolinecolor\": \"white\"}, \"zaxis\": {\"backgroundcolor\": \"#E5ECF6\", \"gridcolor\": \"white\", \"gridwidth\": 2, \"linecolor\": \"white\", \"showbackground\": true, \"ticks\": \"\", \"zerolinecolor\": \"white\"}}, \"shapedefaults\": {\"line\": {\"color\": \"#2a3f5f\"}}, \"ternary\": {\"aaxis\": {\"gridcolor\": \"white\", \"linecolor\": \"white\", \"ticks\": \"\"}, \"baxis\": {\"gridcolor\": \"white\", \"linecolor\": \"white\", \"ticks\": \"\"}, \"bgcolor\": \"#E5ECF6\", \"caxis\": {\"gridcolor\": \"white\", \"linecolor\": \"white\", \"ticks\": \"\"}}, \"title\": {\"x\": 0.05}, \"xaxis\": {\"automargin\": true, \"gridcolor\": \"white\", \"linecolor\": \"white\", \"ticks\": \"\", \"title\": {\"standoff\": 15}, \"zerolinecolor\": \"white\", \"zerolinewidth\": 2}, \"yaxis\": {\"automargin\": true, \"gridcolor\": \"white\", \"linecolor\": \"white\", \"ticks\": \"\", \"title\": {\"standoff\": 15}, \"zerolinecolor\": \"white\", \"zerolinewidth\": 2}}}, \"xaxis\": {\"anchor\": \"y\", \"domain\": [0.0, 1.0]}, \"yaxis\": {\"anchor\": \"x\", \"domain\": [0.0, 1.0]}},                        {\"responsive\": true}                    ).then(function(){\n",
       "                            \n",
       "var gd = document.getElementById('2d3f708a-bbe4-4532-86c8-8d0c9164b680');\n",
       "var x = new MutationObserver(function (mutations, observer) {{\n",
       "        var display = window.getComputedStyle(gd).display;\n",
       "        if (!display || display === 'none') {{\n",
       "            console.log([gd, 'removed!']);\n",
       "            Plotly.purge(gd);\n",
       "            observer.disconnect();\n",
       "        }}\n",
       "}});\n",
       "\n",
       "// Listen for the removal of the full notebook cells\n",
       "var notebookContainer = gd.closest('#notebook-container');\n",
       "if (notebookContainer) {{\n",
       "    x.observe(notebookContainer, {childList: true});\n",
       "}}\n",
       "\n",
       "// Listen for the clearing of the current output cell\n",
       "var outputEl = gd.closest('.output');\n",
       "if (outputEl) {{\n",
       "    x.observe(outputEl, {childList: true});\n",
       "}}\n",
       "\n",
       "                        })                };                });            </script>        </div>"
      ]
     },
     "metadata": {},
     "output_type": "display_data"
    }
   ],
   "source": [
    "fig.show()"
   ]
  },
  {
   "cell_type": "code",
   "execution_count": 125,
   "metadata": {},
   "outputs": [
    {
     "name": "stdout",
     "output_type": "stream",
     "text": [
      "<class 'pandas.core.frame.DataFrame'>\n",
      "RangeIndex: 172 entries, 0 to 171\n",
      "Data columns (total 8 columns):\n",
      " #   Column         Non-Null Count  Dtype  \n",
      "---  ------         --------------  -----  \n",
      " 0   room_no        172 non-null    object \n",
      " 1   list_id        172 non-null    object \n",
      " 2   list_date      170 non-null    object \n",
      " 3   leased_date    170 non-null    object \n",
      " 4   price          24 non-null     float64\n",
      " 5   display_price  170 non-null    object \n",
      " 6   status         170 non-null    object \n",
      " 7   objective      170 non-null    object \n",
      "dtypes: float64(1), object(7)\n",
      "memory usage: 10.9+ KB\n"
     ]
    }
   ],
   "source": [
    "hist_df"
   ]
  },
  {
   "cell_type": "code",
   "execution_count": 122,
   "metadata": {},
   "outputs": [
    {
     "data": {
      "text/plain": [
       "46"
      ]
     },
     "execution_count": 122,
     "metadata": {},
     "output_type": "execute_result"
    }
   ],
   "source": [
    "(hist_df.leased_date == 'n/a').sum()"
   ]
  },
  {
   "cell_type": "code",
   "execution_count": 118,
   "metadata": {},
   "outputs": [
    {
     "data": {
      "text/html": [
       "<div>\n",
       "<style scoped>\n",
       "    .dataframe tbody tr th:only-of-type {\n",
       "        vertical-align: middle;\n",
       "    }\n",
       "\n",
       "    .dataframe tbody tr th {\n",
       "        vertical-align: top;\n",
       "    }\n",
       "\n",
       "    .dataframe thead th {\n",
       "        text-align: right;\n",
       "    }\n",
       "</style>\n",
       "<table border=\"1\" class=\"dataframe\">\n",
       "  <thead>\n",
       "    <tr style=\"text-align: right;\">\n",
       "      <th></th>\n",
       "      <th>room_no</th>\n",
       "      <th>list_id</th>\n",
       "      <th>list_date</th>\n",
       "      <th>leased_date</th>\n",
       "      <th>price</th>\n",
       "      <th>display_price</th>\n",
       "      <th>status</th>\n",
       "      <th>objective</th>\n",
       "    </tr>\n",
       "  </thead>\n",
       "  <tbody>\n",
       "    <tr>\n",
       "      <th>0</th>\n",
       "      <td>4207</td>\n",
       "      <td>14428505</td>\n",
       "      <td>2020-07-31T00:07:03Z</td>\n",
       "      <td>2020-07-31</td>\n",
       "      <td>NaN</td>\n",
       "      <td>$520 per week</td>\n",
       "      <td>leased</td>\n",
       "      <td>rent</td>\n",
       "    </tr>\n",
       "    <tr>\n",
       "      <th>1</th>\n",
       "      <td>3809</td>\n",
       "      <td>14717706</td>\n",
       "      <td>2020-11-23T05:24:28Z</td>\n",
       "      <td>2020-11-23</td>\n",
       "      <td>NaN</td>\n",
       "      <td>$560 per week</td>\n",
       "      <td>leased</td>\n",
       "      <td>rent</td>\n",
       "    </tr>\n",
       "    <tr>\n",
       "      <th>2</th>\n",
       "      <td>3809</td>\n",
       "      <td>11142287</td>\n",
       "      <td>2017-01-27T22:31:21Z</td>\n",
       "      <td>2017-02-01</td>\n",
       "      <td>NaN</td>\n",
       "      <td>$700 per week</td>\n",
       "      <td>leased</td>\n",
       "      <td>rent</td>\n",
       "    </tr>\n",
       "    <tr>\n",
       "      <th>3</th>\n",
       "      <td>1910</td>\n",
       "      <td>14773472</td>\n",
       "      <td>2020-12-15T22:49:01Z</td>\n",
       "      <td>2020-12-16</td>\n",
       "      <td>NaN</td>\n",
       "      <td>$580 per week</td>\n",
       "      <td>leased</td>\n",
       "      <td>rent</td>\n",
       "    </tr>\n",
       "    <tr>\n",
       "      <th>4</th>\n",
       "      <td>1910</td>\n",
       "      <td>10664304</td>\n",
       "      <td>2016-06-29T05:27:56Z</td>\n",
       "      <td>2016-08-04</td>\n",
       "      <td>NaN</td>\n",
       "      <td>$720 per week</td>\n",
       "      <td>leased</td>\n",
       "      <td>rent</td>\n",
       "    </tr>\n",
       "    <tr>\n",
       "      <th>...</th>\n",
       "      <td>...</td>\n",
       "      <td>...</td>\n",
       "      <td>...</td>\n",
       "      <td>...</td>\n",
       "      <td>...</td>\n",
       "      <td>...</td>\n",
       "      <td>...</td>\n",
       "      <td>...</td>\n",
       "    </tr>\n",
       "    <tr>\n",
       "      <th>167</th>\n",
       "      <td>3601</td>\n",
       "      <td>9701545</td>\n",
       "      <td>2015-04-11T04:27:09Z</td>\n",
       "      <td>2015-04-17</td>\n",
       "      <td>NaN</td>\n",
       "      <td>$682 per week</td>\n",
       "      <td>leased</td>\n",
       "      <td>rent</td>\n",
       "    </tr>\n",
       "    <tr>\n",
       "      <th>168</th>\n",
       "      <td>4804</td>\n",
       "      <td>9449473</td>\n",
       "      <td>2014-12-08T00:18:05Z</td>\n",
       "      <td>n/a</td>\n",
       "      <td>NaN</td>\n",
       "      <td>$600.00 per week</td>\n",
       "      <td>archived</td>\n",
       "      <td>rent</td>\n",
       "    </tr>\n",
       "    <tr>\n",
       "      <th>169</th>\n",
       "      <td>3002</td>\n",
       "      <td>9449066</td>\n",
       "      <td>2014-12-07T09:35:05Z</td>\n",
       "      <td>n/a</td>\n",
       "      <td>580.0</td>\n",
       "      <td>$580</td>\n",
       "      <td>archived</td>\n",
       "      <td>rent</td>\n",
       "    </tr>\n",
       "    <tr>\n",
       "      <th>170</th>\n",
       "      <td>2010</td>\n",
       "      <td>14463209</td>\n",
       "      <td>2020-08-14T05:17:52Z</td>\n",
       "      <td>n/a</td>\n",
       "      <td>NaN</td>\n",
       "      <td>$400 Per Week</td>\n",
       "      <td>archived</td>\n",
       "      <td>rent</td>\n",
       "    </tr>\n",
       "    <tr>\n",
       "      <th>171</th>\n",
       "      <td>2010</td>\n",
       "      <td>9449065</td>\n",
       "      <td>2014-12-07T09:28:34Z</td>\n",
       "      <td>n/a</td>\n",
       "      <td>630.0</td>\n",
       "      <td>$630</td>\n",
       "      <td>archived</td>\n",
       "      <td>rent</td>\n",
       "    </tr>\n",
       "  </tbody>\n",
       "</table>\n",
       "<p>172 rows × 8 columns</p>\n",
       "</div>"
      ],
      "text/plain": [
       "    room_no   list_id             list_date leased_date  price  \\\n",
       "0      4207  14428505  2020-07-31T00:07:03Z  2020-07-31    NaN   \n",
       "1      3809  14717706  2020-11-23T05:24:28Z  2020-11-23    NaN   \n",
       "2      3809  11142287  2017-01-27T22:31:21Z  2017-02-01    NaN   \n",
       "3      1910  14773472  2020-12-15T22:49:01Z  2020-12-16    NaN   \n",
       "4      1910  10664304  2016-06-29T05:27:56Z  2016-08-04    NaN   \n",
       "..      ...       ...                   ...         ...    ...   \n",
       "167    3601   9701545  2015-04-11T04:27:09Z  2015-04-17    NaN   \n",
       "168    4804   9449473  2014-12-08T00:18:05Z         n/a    NaN   \n",
       "169    3002   9449066  2014-12-07T09:35:05Z         n/a  580.0   \n",
       "170    2010  14463209  2020-08-14T05:17:52Z         n/a    NaN   \n",
       "171    2010   9449065  2014-12-07T09:28:34Z         n/a  630.0   \n",
       "\n",
       "        display_price    status objective  \n",
       "0       $520 per week    leased      rent  \n",
       "1       $560 per week    leased      rent  \n",
       "2       $700 per week    leased      rent  \n",
       "3       $580 per week    leased      rent  \n",
       "4       $720 per week    leased      rent  \n",
       "..                ...       ...       ...  \n",
       "167     $682 per week    leased      rent  \n",
       "168  $600.00 per week  archived      rent  \n",
       "169              $580  archived      rent  \n",
       "170     $400 Per Week  archived      rent  \n",
       "171              $630  archived      rent  \n",
       "\n",
       "[172 rows x 8 columns]"
      ]
     },
     "execution_count": 118,
     "metadata": {},
     "output_type": "execute_result"
    }
   ],
   "source": [
    "hist_df"
   ]
  },
  {
   "cell_type": "code",
   "execution_count": 107,
   "metadata": {},
   "outputs": [
    {
     "data": {
      "text/plain": [
       "{'cadastreType': 'Polygon',\n",
       " 'onMarketTypes': ['Rent'],\n",
       " 'status': 'OnMarket',\n",
       " 'address': '5106/318 Russell Street, Melbourne VIC 3000',\n",
       " 'addressCoordinate': {'lat': -37.8093, 'lon': 144.96681},\n",
       " 'addressId': 40688617,\n",
       " 'areaSize': 933,\n",
       " 'bathrooms': 2,\n",
       " 'bedrooms': 2,\n",
       " 'carSpaces': 0,\n",
       " 'created': '2021-02-03T03:57:51.331Z',\n",
       " 'features': ['Study',\n",
       "  'Spa',\n",
       "  'Air Conditioning',\n",
       "  'Heating',\n",
       "  'Alarm',\n",
       "  'Pool',\n",
       "  'Barbeque'],\n",
       " 'flatNumber': '5106',\n",
       " 'gnafIds': [{'monthNo': 11, 'yearNo': 2020, 'gnafPID': 'GAVIC425569233'}],\n",
       " 'id': 'QF-8208-ZZ',\n",
       " 'isResidential': True,\n",
       " 'photos': [{'imageType': 'Property',\n",
       "   'advertId': 14947271,\n",
       "   'date': '2021-03-02T00:17:14.34Z',\n",
       "   'fullUrl': 'https://bucket-api.domain.com.au/v1/bucket/image/14947271_1_1_210302_121713-w712-h534',\n",
       "   'rank': 1},\n",
       "  {'imageType': 'Property',\n",
       "   'advertId': 14947271,\n",
       "   'date': '2021-03-02T00:17:14.34Z',\n",
       "   'fullUrl': 'https://bucket-api.domain.com.au/v1/bucket/image/14947271_2_1_210302_121713-w712-h534',\n",
       "   'rank': 2},\n",
       "  {'imageType': 'Property',\n",
       "   'advertId': 14947271,\n",
       "   'date': '2021-03-02T00:17:14.34Z',\n",
       "   'fullUrl': 'https://bucket-api.domain.com.au/v1/bucket/image/14910807_6_1_210216_010818-w712-h534',\n",
       "   'rank': 3},\n",
       "  {'imageType': 'Property',\n",
       "   'advertId': 14947271,\n",
       "   'date': '2021-03-02T00:17:14.34Z',\n",
       "   'fullUrl': 'https://bucket-api.domain.com.au/v1/bucket/image/14910807_7_1_210216_010818-w712-h534',\n",
       "   'rank': 4},\n",
       "  {'imageType': 'Property',\n",
       "   'advertId': 14947271,\n",
       "   'date': '2021-03-02T00:17:14.34Z',\n",
       "   'fullUrl': 'https://bucket-api.domain.com.au/v1/bucket/image/14947271_5_1_210302_121713-w712-h534',\n",
       "   'rank': 5},\n",
       "  {'imageType': 'Property',\n",
       "   'advertId': 14947271,\n",
       "   'date': '2021-03-02T00:17:14.34Z',\n",
       "   'fullUrl': 'https://bucket-api.domain.com.au/v1/bucket/image/14947271_6_1_210302_121713-w712-h534',\n",
       "   'rank': 6},\n",
       "  {'imageType': 'Property',\n",
       "   'advertId': 12892752,\n",
       "   'date': '2019-02-21T05:26:21.613Z',\n",
       "   'fullUrl': 'https://bucket-api.domain.com.au/v1/bucket/image/12892752_1_1_190130_114634-w800-h534',\n",
       "   'rank': 1},\n",
       "  {'imageType': 'Property',\n",
       "   'advertId': 12892752,\n",
       "   'date': '2019-02-21T05:26:21.613Z',\n",
       "   'fullUrl': 'https://bucket-api.domain.com.au/v1/bucket/image/12892752_2_1_190130_114634-w800-h534',\n",
       "   'rank': 2},\n",
       "  {'imageType': 'Property',\n",
       "   'advertId': 12892752,\n",
       "   'date': '2019-02-21T05:26:21.613Z',\n",
       "   'fullUrl': 'https://bucket-api.domain.com.au/v1/bucket/image/12892752_3_1_190130_114634-w800-h534',\n",
       "   'rank': 3},\n",
       "  {'imageType': 'Property',\n",
       "   'advertId': 12892752,\n",
       "   'date': '2019-02-21T05:26:21.613Z',\n",
       "   'fullUrl': 'https://bucket-api.domain.com.au/v1/bucket/image/12892752_4_1_190130_114634-w800-h534',\n",
       "   'rank': 4},\n",
       "  {'imageType': 'Property',\n",
       "   'advertId': 12892752,\n",
       "   'date': '2019-02-21T05:26:21.613Z',\n",
       "   'fullUrl': 'https://bucket-api.domain.com.au/v1/bucket/image/12892752_5_1_190130_114634-w800-h534',\n",
       "   'rank': 5},\n",
       "  {'imageType': 'Property',\n",
       "   'advertId': 12892752,\n",
       "   'date': '2019-02-21T05:26:21.613Z',\n",
       "   'fullUrl': 'https://bucket-api.domain.com.au/v1/bucket/image/12892752_6_1_190130_114634-w800-h534',\n",
       "   'rank': 6},\n",
       "  {'imageType': 'Property',\n",
       "   'advertId': 12892752,\n",
       "   'date': '2019-02-21T05:26:21.613Z',\n",
       "   'fullUrl': 'https://bucket-api.domain.com.au/v1/bucket/image/12759159_8_1_181129_120102-w800-h534',\n",
       "   'rank': 7},\n",
       "  {'imageType': 'Property',\n",
       "   'advertId': 12892752,\n",
       "   'date': '2019-02-21T05:26:21.613Z',\n",
       "   'fullUrl': 'https://bucket-api.domain.com.au/v1/bucket/image/11775945_7_0_171109_040119-w800-h600',\n",
       "   'rank': 8},\n",
       "  {'imageType': 'Property',\n",
       "   'advertId': 10441319,\n",
       "   'date': '2016-03-24T02:27:11.483Z',\n",
       "   'fullUrl': 'https://bucket-api.domain.com.au/v1/bucket/image/w800-h533-10441319_1_pi_160317_072158',\n",
       "   'rank': 1},\n",
       "  {'imageType': 'Property',\n",
       "   'advertId': 10441319,\n",
       "   'date': '2016-03-24T02:27:11.483Z',\n",
       "   'fullUrl': 'https://bucket-api.domain.com.au/v1/bucket/image/w800-h533-10441319_2_pi_160317_072158',\n",
       "   'rank': 2},\n",
       "  {'imageType': 'Property',\n",
       "   'advertId': 10441319,\n",
       "   'date': '2016-03-24T02:27:11.483Z',\n",
       "   'fullUrl': 'https://bucket-api.domain.com.au/v1/bucket/image/w800-h534-10441319_3_pi_160317_072158',\n",
       "   'rank': 3},\n",
       "  {'imageType': 'Property',\n",
       "   'advertId': 10441319,\n",
       "   'date': '2016-03-24T02:27:11.483Z',\n",
       "   'fullUrl': 'https://bucket-api.domain.com.au/v1/bucket/image/w800-h534-10441319_4_pi_160317_072158',\n",
       "   'rank': 4}],\n",
       " 'planNumber': 'PS720256',\n",
       " 'postcode': '3000',\n",
       " 'propertyCategory': 'Unit',\n",
       " 'propertyCategoryId': 2,\n",
       " 'state': 'VIC',\n",
       " 'streetAddress': '318 Russell Street',\n",
       " 'streetName': 'Russell',\n",
       " 'streetNumber': '318',\n",
       " 'streetType': 'St',\n",
       " 'streetTypeLong': 'Street',\n",
       " 'suburb': 'Melbourne',\n",
       " 'suburbId': 25807,\n",
       " 'urlSlug': '5106-318-russell-street-melbourne-vic-3000',\n",
       " 'urlSlugShort': '5106-318-russell-st-melbourne-vic-3000',\n",
       " 'canonicalUrl': 'https://www.domain.com.au/property-profile/5106-318-russell-street-melbourne-vic-3000'}"
      ]
     },
     "execution_count": 107,
     "metadata": {},
     "output_type": "execute_result"
    }
   ],
   "source": [
    "prop_json"
   ]
  },
  {
   "cell_type": "code",
   "execution_count": 110,
   "metadata": {},
   "outputs": [],
   "source": [
    "list_url = 'https://api.domain.com.au/sandbox/v1/listings/'\n",
    "list_json = requests.get(list_url + str(photo['advertId']), headers = headers )"
   ]
  },
  {
   "cell_type": "code",
   "execution_count": 115,
   "metadata": {},
   "outputs": [
    {
     "data": {
      "text/plain": [
       "200"
      ]
     },
     "execution_count": 115,
     "metadata": {},
     "output_type": "execute_result"
    }
   ],
   "source": [
    "list_json.status_code"
   ]
  },
  {
   "cell_type": "code",
   "execution_count": null,
   "metadata": {},
   "outputs": [],
   "source": [
    "df = pd.DataFrame(columns = ['building_name', 'room_no', 'price', 'date' , 'bed', 'bath', 'parking'])"
   ]
  },
  {
   "cell_type": "code",
   "execution_count": 74,
   "metadata": {},
   "outputs": [
    {
     "data": {
      "text/plain": [
       "{'title': 'Internal Server Error',\n",
       " 'status': 500,\n",
       " 'detail': 'The request was canceled due to the configured HttpClient.Timeout of 10 seconds elapsing.',\n",
       " 'traceId': '5f87f9b7f89d094fb3f1caf560289f74'}"
      ]
     },
     "execution_count": 74,
     "metadata": {},
     "output_type": "execute_result"
    }
   ],
   "source": [
    "res"
   ]
  },
  {
   "cell_type": "code",
   "execution_count": 77,
   "metadata": {},
   "outputs": [
    {
     "data": {
      "text/plain": [
       "933    205\n",
       "0       41\n",
       "937      2\n",
       "Name: areaSize, dtype: int64"
      ]
     },
     "execution_count": 77,
     "metadata": {},
     "output_type": "execute_result"
    }
   ],
   "source": [
    "df_318_rus.areaSize.value_counts()"
   ]
  },
  {
   "cell_type": "code",
   "execution_count": 78,
   "metadata": {},
   "outputs": [
    {
     "data": {
      "text/plain": [
       "{'cadastreType': 'Polygon',\n",
       " 'onMarketTypes': [],\n",
       " 'status': 'OffMarket',\n",
       " 'address': '3306/318 Russell Street, Melbourne VIC 3000',\n",
       " 'addressCoordinate': {'lat': -37.80935, 'lon': 144.9668},\n",
       " 'addressId': 40693967,\n",
       " 'areaSize': 933,\n",
       " 'bathrooms': 1,\n",
       " 'bedrooms': 1,\n",
       " 'carSpaces': 0,\n",
       " 'created': '2021-02-03T02:10:29.581Z',\n",
       " 'features': ['Study', 'Air Conditioning', 'Heating', 'Alarm', 'Barbeque'],\n",
       " 'flatNumber': '3306',\n",
       " 'gnafIds': [{'monthNo': 11, 'yearNo': 2020, 'gnafPID': 'GAVIC425569033'}],\n",
       " 'id': 'FZ-6415-LH',\n",
       " 'isResidential': True,\n",
       " 'photos': [{'imageType': 'Property',\n",
       "   'advertId': 11060681,\n",
       "   'date': '2017-01-07T23:25:37.193Z',\n",
       "   'fullUrl': 'https://bucket-api.domain.com.au/v1/bucket/image/w800-h529-11060681_1_pi_170106_033333',\n",
       "   'rank': 1},\n",
       "  {'imageType': 'Property',\n",
       "   'advertId': 11060681,\n",
       "   'date': '2017-01-07T23:25:37.193Z',\n",
       "   'fullUrl': 'https://bucket-api.domain.com.au/v1/bucket/image/w800-h529-11060681_2_pi_170106_033334',\n",
       "   'rank': 2},\n",
       "  {'imageType': 'Property',\n",
       "   'advertId': 11060681,\n",
       "   'date': '2017-01-07T23:25:37.193Z',\n",
       "   'fullUrl': 'https://bucket-api.domain.com.au/v1/bucket/image/w800-h529-11060681_3_pi_170106_033333',\n",
       "   'rank': 3},\n",
       "  {'imageType': 'Property',\n",
       "   'advertId': 11060681,\n",
       "   'date': '2017-01-07T23:25:37.193Z',\n",
       "   'fullUrl': 'https://bucket-api.domain.com.au/v1/bucket/image/w800-h533-11060681_4_pi_170106_033335',\n",
       "   'rank': 4},\n",
       "  {'imageType': 'Property',\n",
       "   'advertId': 11060681,\n",
       "   'date': '2017-01-07T23:25:37.193Z',\n",
       "   'fullUrl': 'https://bucket-api.domain.com.au/v1/bucket/image/w800-h534-11060681_5_pi_170106_033333',\n",
       "   'rank': 5},\n",
       "  {'imageType': 'Property',\n",
       "   'advertId': 11060681,\n",
       "   'date': '2017-01-07T23:25:37.193Z',\n",
       "   'fullUrl': 'https://bucket-api.domain.com.au/v1/bucket/image/w800-h534-11060681_6_pi_170106_033335',\n",
       "   'rank': 6},\n",
       "  {'imageType': 'Property',\n",
       "   'advertId': 11060681,\n",
       "   'date': '2017-01-07T23:25:37.193Z',\n",
       "   'fullUrl': 'https://bucket-api.domain.com.au/v1/bucket/image/w800-h534-11060681_7_pi_170106_033333',\n",
       "   'rank': 7},\n",
       "  {'imageType': 'Property',\n",
       "   'advertId': 11060681,\n",
       "   'date': '2017-01-07T23:25:37.193Z',\n",
       "   'fullUrl': 'https://bucket-api.domain.com.au/v1/bucket/image/w800-h534-11060681_8_pi_170106_033333',\n",
       "   'rank': 8},\n",
       "  {'imageType': 'Property',\n",
       "   'advertId': 11060681,\n",
       "   'date': '2017-01-07T23:25:37.193Z',\n",
       "   'fullUrl': 'https://bucket-api.domain.com.au/v1/bucket/image/w800-h532-11060681_9_pi_170106_033334',\n",
       "   'rank': 9},\n",
       "  {'imageType': 'Property',\n",
       "   'advertId': 11060681,\n",
       "   'date': '2017-01-07T23:25:37.193Z',\n",
       "   'fullUrl': 'https://bucket-api.domain.com.au/v1/bucket/image/w800-h600-11060681_10_fi_170106_033335',\n",
       "   'rank': 10}],\n",
       " 'planNumber': 'PS720256',\n",
       " 'postcode': '3000',\n",
       " 'propertyCategory': 'Unit',\n",
       " 'propertyCategoryId': 2,\n",
       " 'state': 'VIC',\n",
       " 'streetAddress': '318 Russell Street',\n",
       " 'streetName': 'Russell',\n",
       " 'streetNumber': '318',\n",
       " 'streetType': 'St',\n",
       " 'streetTypeLong': 'Street',\n",
       " 'suburb': 'Melbourne',\n",
       " 'suburbId': 25807,\n",
       " 'urlSlug': '3306-318-russell-street-melbourne-vic-3000',\n",
       " 'urlSlugShort': '3306-318-russell-st-melbourne-vic-3000',\n",
       " 'canonicalUrl': 'https://www.domain.com.au/property-profile/3306-318-russell-street-melbourne-vic-3000'}"
      ]
     },
     "execution_count": 78,
     "metadata": {},
     "output_type": "execute_result"
    }
   ],
   "source": [
    "prop_json"
   ]
  },
  {
   "cell_type": "markdown",
   "metadata": {},
   "source": [
    "### Get Current Listing "
   ]
  },
  {
   "cell_type": "code",
   "execution_count": 217,
   "metadata": {
    "scrolled": true
   },
   "outputs": [],
   "source": [
    "page_no = 1\n",
    "on_market_list = []\n",
    "while True: \n",
    "    cur_list_url = 'https://www.domain.com.au/building-profile/' + address + '?filtertype=forRent&pagesize=10&pageno=' + str(page_no)\n",
    "    raw_html = getHTMLText(cur_list_url)\n",
    "    page_no += 1 \n",
    "\n",
    "    soup = BeautifulSoup(raw_html, 'html.parser')\n",
    "    #print(soup)\n",
    "    list_tags = soup.find_all(class_ = \"css-t7tdkc\")\n",
    "    properties = list_tags[0].find_all(class_ =  'css-3c3rcn', attrs = {\"data-testid\": 'nearby-properties__on-market-property'} )\n",
    "    for prop in properties: \n",
    "        \n",
    "        list_id = prop.find_all(\"a\")[0]['href'].split(\"-\")[-1]\n",
    "        #print(list_id)\n",
    "        on_market_list.append(list_id)\n",
    "    if(len(properties) == 0):\n",
    "        break \n",
    "\n",
    "    "
   ]
  },
  {
   "cell_type": "code",
   "execution_count": 218,
   "metadata": {},
   "outputs": [
    {
     "data": {
      "text/plain": [
       "['14928673',\n",
       " '14958705',\n",
       " '14958385',\n",
       " '14957690',\n",
       " '14955899',\n",
       " '14955799',\n",
       " '14955716',\n",
       " '14947271',\n",
       " '14946865',\n",
       " '14940057',\n",
       " '14936089',\n",
       " '14930793',\n",
       " '14920068',\n",
       " '14919124',\n",
       " '14917397',\n",
       " '14915101',\n",
       " '14914813',\n",
       " '14910807',\n",
       " '14906069',\n",
       " '14906056',\n",
       " '14906033',\n",
       " '14905866',\n",
       " '14905858',\n",
       " '14897818',\n",
       " '14896727',\n",
       " '14883526',\n",
       " '14883178',\n",
       " '14883039',\n",
       " '14879991',\n",
       " '14877863',\n",
       " '14871156',\n",
       " '14869618',\n",
       " '14868914',\n",
       " '14868220',\n",
       " '14868083',\n",
       " '14867181',\n",
       " '14864460',\n",
       " '14855089',\n",
       " '14854777',\n",
       " '14854774',\n",
       " '14853599',\n",
       " '14830157',\n",
       " '14822799',\n",
       " '14811181',\n",
       " '14807103',\n",
       " '14779144',\n",
       " '14757444',\n",
       " '14729672',\n",
       " '14718152',\n",
       " '14662122',\n",
       " '14644385',\n",
       " '14644357',\n",
       " '14637261',\n",
       " '14590148',\n",
       " '14590023',\n",
       " '14587759',\n",
       " '14585512',\n",
       " '14585274',\n",
       " '14571077',\n",
       " '14559609',\n",
       " '14536377',\n",
       " '14521642',\n",
       " '14435555',\n",
       " '14425646',\n",
       " '14424258',\n",
       " '14408965',\n",
       " '14391282',\n",
       " '14318978',\n",
       " '14298280',\n",
       " '14283215',\n",
       " '13952555']"
      ]
     },
     "execution_count": 218,
     "metadata": {},
     "output_type": "execute_result"
    }
   ],
   "source": [
    "on_market_list "
   ]
  },
  {
   "cell_type": "code",
   "execution_count": 241,
   "metadata": {},
   "outputs": [],
   "source": [
    "on_market_df = pd.DataFrame(columns = [\"list_id\",\"status\", 'room_no', 'price','list_date' , 'bed', 'bath', 'parking', 'agency_id'])"
   ]
  },
  {
   "cell_type": "code",
   "execution_count": 244,
   "metadata": {
    "scrolled": true
   },
   "outputs": [
    {
     "name": "stdout",
     "output_type": "stream",
     "text": [
      "14928673\n",
      "14940057\n",
      "14936089\n",
      "14930793\n",
      "14920068\n",
      "14919124\n",
      "14917397\n",
      "14915101\n",
      "14914813\n",
      "14910807\n",
      "14906069\n",
      "14906056\n",
      "14906033\n",
      "14905866\n",
      "14905858\n",
      "14897818\n",
      "14896727\n",
      "14883526\n",
      "14883178\n",
      "14883039\n",
      "14879991\n",
      "14877863\n",
      "14871156\n",
      "14869618\n",
      "14868914\n",
      "14868220\n",
      "14868083\n",
      "14867181\n",
      "14864460\n",
      "14855089\n",
      "14854777\n",
      "14854774\n",
      "14853599\n",
      "14830157\n",
      "14822799\n",
      "14811181\n",
      "14807103\n",
      "14779144\n",
      "14757444\n",
      "14729672\n",
      "14718152\n",
      "14662122\n",
      "14644385\n",
      "14644357\n",
      "14637261\n",
      "14590148\n",
      "14590023\n",
      "14587759\n",
      "14585512\n"
     ]
    }
   ],
   "source": [
    "# fetch from listing API \n",
    "for list_id in on_market_list:\n",
    "    list_url = 'https://api.domain.com.au/sandbox/v1/listings/'\n",
    "    list_res =  requests.get(list_url + str(list_id), headers = headers )\n",
    "    if (list_res.status_code == 200):\n",
    "        json_res = list_res.json()\n",
    "        print(list_id)\n",
    "        try: \n",
    "            carspaces = json_res['carspaces'] \n",
    "        except: \n",
    "            carspaces = 0 \n",
    "        try:\n",
    "            room_no =  re.search(\"[0-9][0-9]*\", json_res[\"addressParts\"][\"unitNumber\"]).group()\n",
    "        except:\n",
    "            room_no = re.search(\"[0-9][0-9]*\", json_res[\"addressParts\"][\"streetNumber\"]).group()\n",
    "            \n",
    "        raw_price = json_res['priceDetails']['displayPrice']\n",
    "        price = float(re.search(\"[0-9][0-9]*\", raw_price).group())\n",
    "        re.search(\"[0-9][0-9]*[^0-9]\", raw_price)\n",
    "        on_market_df = on_market_df.append({\"list_id\" : list_id,\n",
    "                             'room_no' : room_no,\n",
    "                             \"price\" : price,\n",
    "                             \"list_date\" : json_res['dateListed'] ,\n",
    "                              \"status\" : json_res[\"status\"],\n",
    "                             \"bed\" : float(json_res['bedrooms']), \n",
    "                             \"bath\" : float(json_res['bathrooms']),\n",
    "                             \"parking\" : float(carspaces ) , \n",
    "                             \"agency_id\": json_res['advertiserIdentifiers']['advertiserId'] \n",
    "                            \n",
    "                            }, ignore_index = True)\n",
    "        \n",
    "        \n",
    "    \n",
    "   \n",
    "        \n",
    "        "
   ]
  },
  {
   "cell_type": "code",
   "execution_count": 250,
   "metadata": {
    "collapsed": true
   },
   "outputs": [
    {
     "ename": "AttributeError",
     "evalue": "'Timestamp' object has no attribute 'split'",
     "output_type": "error",
     "traceback": [
      "\u001b[0;31m---------------------------------------------------------------------------\u001b[0m",
      "\u001b[0;31mAttributeError\u001b[0m                            Traceback (most recent call last)",
      "\u001b[0;32m<ipython-input-250-7556ad8b0f21>\u001b[0m in \u001b[0;36m<module>\u001b[0;34m\u001b[0m\n\u001b[0;32m----> 1\u001b[0;31m \u001b[0mon_market_df\u001b[0m\u001b[0;34m.\u001b[0m\u001b[0mloc\u001b[0m\u001b[0;34m[\u001b[0m\u001b[0;34m:\u001b[0m\u001b[0;34m,\u001b[0m \u001b[0;34m\"list_date\"\u001b[0m\u001b[0;34m]\u001b[0m \u001b[0;34m=\u001b[0m \u001b[0mpd\u001b[0m\u001b[0;34m.\u001b[0m\u001b[0mto_datetime\u001b[0m\u001b[0;34m(\u001b[0m\u001b[0mon_market_df\u001b[0m\u001b[0;34m[\u001b[0m\u001b[0;34m'list_date'\u001b[0m\u001b[0;34m]\u001b[0m\u001b[0;34m.\u001b[0m\u001b[0mmap\u001b[0m\u001b[0;34m(\u001b[0m\u001b[0;32mlambda\u001b[0m \u001b[0mp\u001b[0m\u001b[0;34m:\u001b[0m \u001b[0mp\u001b[0m\u001b[0;34m.\u001b[0m\u001b[0msplit\u001b[0m\u001b[0;34m(\u001b[0m\u001b[0;34m\"T\"\u001b[0m\u001b[0;34m)\u001b[0m\u001b[0;34m[\u001b[0m\u001b[0;36m0\u001b[0m\u001b[0;34m]\u001b[0m\u001b[0;34m)\u001b[0m\u001b[0;34m,\u001b[0m \u001b[0mformat\u001b[0m \u001b[0;34m=\u001b[0m \u001b[0;34m\"%Y-%m-%d\"\u001b[0m\u001b[0;34m)\u001b[0m\u001b[0;34m\u001b[0m\u001b[0;34m\u001b[0m\u001b[0m\n\u001b[0m\u001b[1;32m      2\u001b[0m \u001b[0mon_market_df\u001b[0m\u001b[0;34m.\u001b[0m\u001b[0mloc\u001b[0m\u001b[0;34m[\u001b[0m\u001b[0;34m:\u001b[0m\u001b[0;34m,\u001b[0m \u001b[0;34m\"up_days\"\u001b[0m\u001b[0;34m]\u001b[0m \u001b[0;34m=\u001b[0m  \u001b[0mon_market_df\u001b[0m\u001b[0;34m[\u001b[0m\u001b[0;34m\"list_date\"\u001b[0m\u001b[0;34m]\u001b[0m\u001b[0;34m.\u001b[0m\u001b[0mmap\u001b[0m\u001b[0;34m(\u001b[0m\u001b[0;32mlambda\u001b[0m \u001b[0mp\u001b[0m\u001b[0;34m:\u001b[0m \u001b[0;34m(\u001b[0m\u001b[0mdate\u001b[0m\u001b[0;34m.\u001b[0m\u001b[0mtoday\u001b[0m\u001b[0;34m(\u001b[0m\u001b[0;34m)\u001b[0m \u001b[0;34m-\u001b[0m \u001b[0mp\u001b[0m\u001b[0;34m)\u001b[0m\u001b[0;34m.\u001b[0m\u001b[0mdays\u001b[0m\u001b[0;34m)\u001b[0m\u001b[0;34m\u001b[0m\u001b[0;34m\u001b[0m\u001b[0m\n",
      "\u001b[0;32m~/anaconda3/lib/python3.8/site-packages/pandas/core/series.py\u001b[0m in \u001b[0;36mmap\u001b[0;34m(self, arg, na_action)\u001b[0m\n\u001b[1;32m   3968\u001b[0m         \u001b[0mdtype\u001b[0m\u001b[0;34m:\u001b[0m \u001b[0mobject\u001b[0m\u001b[0;34m\u001b[0m\u001b[0;34m\u001b[0m\u001b[0m\n\u001b[1;32m   3969\u001b[0m         \"\"\"\n\u001b[0;32m-> 3970\u001b[0;31m         \u001b[0mnew_values\u001b[0m \u001b[0;34m=\u001b[0m \u001b[0msuper\u001b[0m\u001b[0;34m(\u001b[0m\u001b[0;34m)\u001b[0m\u001b[0;34m.\u001b[0m\u001b[0m_map_values\u001b[0m\u001b[0;34m(\u001b[0m\u001b[0marg\u001b[0m\u001b[0;34m,\u001b[0m \u001b[0mna_action\u001b[0m\u001b[0;34m=\u001b[0m\u001b[0mna_action\u001b[0m\u001b[0;34m)\u001b[0m\u001b[0;34m\u001b[0m\u001b[0;34m\u001b[0m\u001b[0m\n\u001b[0m\u001b[1;32m   3971\u001b[0m         return self._constructor(new_values, index=self.index).__finalize__(\n\u001b[1;32m   3972\u001b[0m             \u001b[0mself\u001b[0m\u001b[0;34m,\u001b[0m \u001b[0mmethod\u001b[0m\u001b[0;34m=\u001b[0m\u001b[0;34m\"map\"\u001b[0m\u001b[0;34m\u001b[0m\u001b[0;34m\u001b[0m\u001b[0m\n",
      "\u001b[0;32m~/anaconda3/lib/python3.8/site-packages/pandas/core/base.py\u001b[0m in \u001b[0;36m_map_values\u001b[0;34m(self, mapper, na_action)\u001b[0m\n\u001b[1;32m   1158\u001b[0m \u001b[0;34m\u001b[0m\u001b[0m\n\u001b[1;32m   1159\u001b[0m         \u001b[0;31m# mapper is a function\u001b[0m\u001b[0;34m\u001b[0m\u001b[0;34m\u001b[0m\u001b[0;34m\u001b[0m\u001b[0m\n\u001b[0;32m-> 1160\u001b[0;31m         \u001b[0mnew_values\u001b[0m \u001b[0;34m=\u001b[0m \u001b[0mmap_f\u001b[0m\u001b[0;34m(\u001b[0m\u001b[0mvalues\u001b[0m\u001b[0;34m,\u001b[0m \u001b[0mmapper\u001b[0m\u001b[0;34m)\u001b[0m\u001b[0;34m\u001b[0m\u001b[0;34m\u001b[0m\u001b[0m\n\u001b[0m\u001b[1;32m   1161\u001b[0m \u001b[0;34m\u001b[0m\u001b[0m\n\u001b[1;32m   1162\u001b[0m         \u001b[0;32mreturn\u001b[0m \u001b[0mnew_values\u001b[0m\u001b[0;34m\u001b[0m\u001b[0;34m\u001b[0m\u001b[0m\n",
      "\u001b[0;32mpandas/_libs/lib.pyx\u001b[0m in \u001b[0;36mpandas._libs.lib.map_infer\u001b[0;34m()\u001b[0m\n",
      "\u001b[0;32m<ipython-input-250-7556ad8b0f21>\u001b[0m in \u001b[0;36m<lambda>\u001b[0;34m(p)\u001b[0m\n\u001b[0;32m----> 1\u001b[0;31m \u001b[0mon_market_df\u001b[0m\u001b[0;34m.\u001b[0m\u001b[0mloc\u001b[0m\u001b[0;34m[\u001b[0m\u001b[0;34m:\u001b[0m\u001b[0;34m,\u001b[0m \u001b[0;34m\"list_date\"\u001b[0m\u001b[0;34m]\u001b[0m \u001b[0;34m=\u001b[0m \u001b[0mpd\u001b[0m\u001b[0;34m.\u001b[0m\u001b[0mto_datetime\u001b[0m\u001b[0;34m(\u001b[0m\u001b[0mon_market_df\u001b[0m\u001b[0;34m[\u001b[0m\u001b[0;34m'list_date'\u001b[0m\u001b[0;34m]\u001b[0m\u001b[0;34m.\u001b[0m\u001b[0mmap\u001b[0m\u001b[0;34m(\u001b[0m\u001b[0;32mlambda\u001b[0m \u001b[0mp\u001b[0m\u001b[0;34m:\u001b[0m \u001b[0mp\u001b[0m\u001b[0;34m.\u001b[0m\u001b[0msplit\u001b[0m\u001b[0;34m(\u001b[0m\u001b[0;34m\"T\"\u001b[0m\u001b[0;34m)\u001b[0m\u001b[0;34m[\u001b[0m\u001b[0;36m0\u001b[0m\u001b[0;34m]\u001b[0m\u001b[0;34m)\u001b[0m\u001b[0;34m,\u001b[0m \u001b[0mformat\u001b[0m \u001b[0;34m=\u001b[0m \u001b[0;34m\"%Y-%m-%d\"\u001b[0m\u001b[0;34m)\u001b[0m\u001b[0;34m\u001b[0m\u001b[0;34m\u001b[0m\u001b[0m\n\u001b[0m\u001b[1;32m      2\u001b[0m \u001b[0mon_market_df\u001b[0m\u001b[0;34m.\u001b[0m\u001b[0mloc\u001b[0m\u001b[0;34m[\u001b[0m\u001b[0;34m:\u001b[0m\u001b[0;34m,\u001b[0m \u001b[0;34m\"up_days\"\u001b[0m\u001b[0;34m]\u001b[0m \u001b[0;34m=\u001b[0m  \u001b[0mon_market_df\u001b[0m\u001b[0;34m[\u001b[0m\u001b[0;34m\"list_date\"\u001b[0m\u001b[0;34m]\u001b[0m\u001b[0;34m.\u001b[0m\u001b[0mmap\u001b[0m\u001b[0;34m(\u001b[0m\u001b[0;32mlambda\u001b[0m \u001b[0mp\u001b[0m\u001b[0;34m:\u001b[0m \u001b[0;34m(\u001b[0m\u001b[0mdate\u001b[0m\u001b[0;34m.\u001b[0m\u001b[0mtoday\u001b[0m\u001b[0;34m(\u001b[0m\u001b[0;34m)\u001b[0m \u001b[0;34m-\u001b[0m \u001b[0mp\u001b[0m\u001b[0;34m)\u001b[0m\u001b[0;34m.\u001b[0m\u001b[0mdays\u001b[0m\u001b[0;34m)\u001b[0m\u001b[0;34m\u001b[0m\u001b[0;34m\u001b[0m\u001b[0m\n",
      "\u001b[0;31mAttributeError\u001b[0m: 'Timestamp' object has no attribute 'split'"
     ]
    }
   ],
   "source": [
    "on_market_df.loc[:, \"list_date\"] = pd.to_datetime(on_market_df['list_date'].map(lambda p: p.split(\"T\")[0]), format = \"%Y-%m-%d\")\n"
   ]
  },
  {
   "cell_type": "code",
   "execution_count": 252,
   "metadata": {},
   "outputs": [],
   "source": [
    "on_market_df.loc[:, \"up_days\"] =  on_market_df[\"list_date\"].map(lambda p: (date.today() - p.date()).days)"
   ]
  },
  {
   "cell_type": "code",
   "execution_count": 254,
   "metadata": {
    "scrolled": true
   },
   "outputs": [],
   "source": [
    "on_market_df.loc[:, \"room_type\"] = on_market_df['bed'].astype(int).astype(str) + \"b\" + on_market_df['bath'].astype(int).astype(str) + \"b\""
   ]
  },
  {
   "cell_type": "code",
   "execution_count": 255,
   "metadata": {
    "scrolled": true
   },
   "outputs": [
    {
     "data": {
      "text/html": [
       "<div>\n",
       "<style scoped>\n",
       "    .dataframe tbody tr th:only-of-type {\n",
       "        vertical-align: middle;\n",
       "    }\n",
       "\n",
       "    .dataframe tbody tr th {\n",
       "        vertical-align: top;\n",
       "    }\n",
       "\n",
       "    .dataframe thead th {\n",
       "        text-align: right;\n",
       "    }\n",
       "</style>\n",
       "<table border=\"1\" class=\"dataframe\">\n",
       "  <thead>\n",
       "    <tr style=\"text-align: right;\">\n",
       "      <th></th>\n",
       "      <th>list_id</th>\n",
       "      <th>status</th>\n",
       "      <th>room_no</th>\n",
       "      <th>price</th>\n",
       "      <th>list_date</th>\n",
       "      <th>available_date</th>\n",
       "      <th>bed</th>\n",
       "      <th>bath</th>\n",
       "      <th>parking</th>\n",
       "      <th>agency_id</th>\n",
       "      <th>up_days</th>\n",
       "      <th>room_type</th>\n",
       "    </tr>\n",
       "  </thead>\n",
       "  <tbody>\n",
       "    <tr>\n",
       "      <th>0</th>\n",
       "      <td>14928673</td>\n",
       "      <td>live</td>\n",
       "      <td>3705</td>\n",
       "      <td>380.0</td>\n",
       "      <td>2021-02-23</td>\n",
       "      <td>NaN</td>\n",
       "      <td>1.0</td>\n",
       "      <td>1.0</td>\n",
       "      <td>0.0</td>\n",
       "      <td>18765</td>\n",
       "      <td>11</td>\n",
       "      <td>1b1b</td>\n",
       "    </tr>\n",
       "    <tr>\n",
       "      <th>1</th>\n",
       "      <td>14940057</td>\n",
       "      <td>new</td>\n",
       "      <td>4508</td>\n",
       "      <td>550.0</td>\n",
       "      <td>2021-02-26</td>\n",
       "      <td>NaN</td>\n",
       "      <td>2.0</td>\n",
       "      <td>1.0</td>\n",
       "      <td>0.0</td>\n",
       "      <td>11842</td>\n",
       "      <td>8</td>\n",
       "      <td>2b1b</td>\n",
       "    </tr>\n",
       "    <tr>\n",
       "      <th>2</th>\n",
       "      <td>14936089</td>\n",
       "      <td>live</td>\n",
       "      <td>3009</td>\n",
       "      <td>600.0</td>\n",
       "      <td>2021-02-25</td>\n",
       "      <td>NaN</td>\n",
       "      <td>2.0</td>\n",
       "      <td>2.0</td>\n",
       "      <td>0.0</td>\n",
       "      <td>11842</td>\n",
       "      <td>9</td>\n",
       "      <td>2b2b</td>\n",
       "    </tr>\n",
       "    <tr>\n",
       "      <th>3</th>\n",
       "      <td>14930793</td>\n",
       "      <td>live</td>\n",
       "      <td>3502</td>\n",
       "      <td>600.0</td>\n",
       "      <td>2021-02-23</td>\n",
       "      <td>NaN</td>\n",
       "      <td>2.0</td>\n",
       "      <td>2.0</td>\n",
       "      <td>0.0</td>\n",
       "      <td>11842</td>\n",
       "      <td>11</td>\n",
       "      <td>2b2b</td>\n",
       "    </tr>\n",
       "    <tr>\n",
       "      <th>4</th>\n",
       "      <td>14920068</td>\n",
       "      <td>new</td>\n",
       "      <td>4509</td>\n",
       "      <td>650.0</td>\n",
       "      <td>2021-02-18</td>\n",
       "      <td>NaN</td>\n",
       "      <td>2.0</td>\n",
       "      <td>2.0</td>\n",
       "      <td>0.0</td>\n",
       "      <td>11842</td>\n",
       "      <td>16</td>\n",
       "      <td>2b2b</td>\n",
       "    </tr>\n",
       "    <tr>\n",
       "      <th>5</th>\n",
       "      <td>14919124</td>\n",
       "      <td>live</td>\n",
       "      <td>3004</td>\n",
       "      <td>480.0</td>\n",
       "      <td>2021-02-18</td>\n",
       "      <td>NaN</td>\n",
       "      <td>2.0</td>\n",
       "      <td>1.0</td>\n",
       "      <td>0.0</td>\n",
       "      <td>4757</td>\n",
       "      <td>16</td>\n",
       "      <td>2b1b</td>\n",
       "    </tr>\n",
       "    <tr>\n",
       "      <th>6</th>\n",
       "      <td>14917397</td>\n",
       "      <td>live</td>\n",
       "      <td>1302</td>\n",
       "      <td>550.0</td>\n",
       "      <td>2021-02-18</td>\n",
       "      <td>NaN</td>\n",
       "      <td>2.0</td>\n",
       "      <td>2.0</td>\n",
       "      <td>0.0</td>\n",
       "      <td>232</td>\n",
       "      <td>16</td>\n",
       "      <td>2b2b</td>\n",
       "    </tr>\n",
       "    <tr>\n",
       "      <th>7</th>\n",
       "      <td>14915101</td>\n",
       "      <td>live</td>\n",
       "      <td>4506</td>\n",
       "      <td>430.0</td>\n",
       "      <td>2021-02-17</td>\n",
       "      <td>NaN</td>\n",
       "      <td>1.0</td>\n",
       "      <td>1.0</td>\n",
       "      <td>0.0</td>\n",
       "      <td>11842</td>\n",
       "      <td>17</td>\n",
       "      <td>1b1b</td>\n",
       "    </tr>\n",
       "    <tr>\n",
       "      <th>8</th>\n",
       "      <td>14914813</td>\n",
       "      <td>live</td>\n",
       "      <td>1009</td>\n",
       "      <td>650.0</td>\n",
       "      <td>2021-02-17</td>\n",
       "      <td>NaN</td>\n",
       "      <td>2.0</td>\n",
       "      <td>2.0</td>\n",
       "      <td>0.0</td>\n",
       "      <td>11842</td>\n",
       "      <td>17</td>\n",
       "      <td>2b2b</td>\n",
       "    </tr>\n",
       "    <tr>\n",
       "      <th>9</th>\n",
       "      <td>14910807</td>\n",
       "      <td>live</td>\n",
       "      <td>4710</td>\n",
       "      <td>650.0</td>\n",
       "      <td>2021-02-16</td>\n",
       "      <td>NaN</td>\n",
       "      <td>2.0</td>\n",
       "      <td>2.0</td>\n",
       "      <td>0.0</td>\n",
       "      <td>11842</td>\n",
       "      <td>18</td>\n",
       "      <td>2b2b</td>\n",
       "    </tr>\n",
       "    <tr>\n",
       "      <th>10</th>\n",
       "      <td>14906069</td>\n",
       "      <td>live</td>\n",
       "      <td>4809</td>\n",
       "      <td>650.0</td>\n",
       "      <td>2021-02-14</td>\n",
       "      <td>NaN</td>\n",
       "      <td>2.0</td>\n",
       "      <td>2.0</td>\n",
       "      <td>0.0</td>\n",
       "      <td>11842</td>\n",
       "      <td>20</td>\n",
       "      <td>2b2b</td>\n",
       "    </tr>\n",
       "    <tr>\n",
       "      <th>11</th>\n",
       "      <td>14906056</td>\n",
       "      <td>live</td>\n",
       "      <td>1102</td>\n",
       "      <td>630.0</td>\n",
       "      <td>2021-02-14</td>\n",
       "      <td>NaN</td>\n",
       "      <td>2.0</td>\n",
       "      <td>2.0</td>\n",
       "      <td>0.0</td>\n",
       "      <td>11842</td>\n",
       "      <td>20</td>\n",
       "      <td>2b2b</td>\n",
       "    </tr>\n",
       "    <tr>\n",
       "      <th>12</th>\n",
       "      <td>14906033</td>\n",
       "      <td>live</td>\n",
       "      <td>3610</td>\n",
       "      <td>650.0</td>\n",
       "      <td>2021-02-14</td>\n",
       "      <td>NaN</td>\n",
       "      <td>2.0</td>\n",
       "      <td>2.0</td>\n",
       "      <td>0.0</td>\n",
       "      <td>11842</td>\n",
       "      <td>20</td>\n",
       "      <td>2b2b</td>\n",
       "    </tr>\n",
       "    <tr>\n",
       "      <th>13</th>\n",
       "      <td>14905866</td>\n",
       "      <td>live</td>\n",
       "      <td>3010</td>\n",
       "      <td>620.0</td>\n",
       "      <td>2021-02-13</td>\n",
       "      <td>NaN</td>\n",
       "      <td>2.0</td>\n",
       "      <td>2.0</td>\n",
       "      <td>0.0</td>\n",
       "      <td>11842</td>\n",
       "      <td>21</td>\n",
       "      <td>2b2b</td>\n",
       "    </tr>\n",
       "    <tr>\n",
       "      <th>14</th>\n",
       "      <td>14905858</td>\n",
       "      <td>live</td>\n",
       "      <td>2810</td>\n",
       "      <td>580.0</td>\n",
       "      <td>2021-02-13</td>\n",
       "      <td>NaN</td>\n",
       "      <td>2.0</td>\n",
       "      <td>2.0</td>\n",
       "      <td>0.0</td>\n",
       "      <td>11842</td>\n",
       "      <td>21</td>\n",
       "      <td>2b2b</td>\n",
       "    </tr>\n",
       "    <tr>\n",
       "      <th>15</th>\n",
       "      <td>14897818</td>\n",
       "      <td>live</td>\n",
       "      <td>2904</td>\n",
       "      <td>480.0</td>\n",
       "      <td>2021-02-10</td>\n",
       "      <td>NaN</td>\n",
       "      <td>2.0</td>\n",
       "      <td>1.0</td>\n",
       "      <td>0.0</td>\n",
       "      <td>190</td>\n",
       "      <td>24</td>\n",
       "      <td>2b1b</td>\n",
       "    </tr>\n",
       "    <tr>\n",
       "      <th>16</th>\n",
       "      <td>14896727</td>\n",
       "      <td>live</td>\n",
       "      <td>1809</td>\n",
       "      <td>650.0</td>\n",
       "      <td>2021-02-10</td>\n",
       "      <td>NaN</td>\n",
       "      <td>2.0</td>\n",
       "      <td>2.0</td>\n",
       "      <td>0.0</td>\n",
       "      <td>11842</td>\n",
       "      <td>24</td>\n",
       "      <td>2b2b</td>\n",
       "    </tr>\n",
       "    <tr>\n",
       "      <th>17</th>\n",
       "      <td>14883526</td>\n",
       "      <td>live</td>\n",
       "      <td>2802</td>\n",
       "      <td>560.0</td>\n",
       "      <td>2021-02-04</td>\n",
       "      <td>NaN</td>\n",
       "      <td>2.0</td>\n",
       "      <td>2.0</td>\n",
       "      <td>0.0</td>\n",
       "      <td>11842</td>\n",
       "      <td>30</td>\n",
       "      <td>2b2b</td>\n",
       "    </tr>\n",
       "    <tr>\n",
       "      <th>18</th>\n",
       "      <td>14883178</td>\n",
       "      <td>live</td>\n",
       "      <td>1706</td>\n",
       "      <td>380.0</td>\n",
       "      <td>2021-02-04</td>\n",
       "      <td>NaN</td>\n",
       "      <td>1.0</td>\n",
       "      <td>1.0</td>\n",
       "      <td>0.0</td>\n",
       "      <td>11842</td>\n",
       "      <td>30</td>\n",
       "      <td>1b1b</td>\n",
       "    </tr>\n",
       "    <tr>\n",
       "      <th>19</th>\n",
       "      <td>14883039</td>\n",
       "      <td>live</td>\n",
       "      <td>2103</td>\n",
       "      <td>600.0</td>\n",
       "      <td>2021-02-04</td>\n",
       "      <td>NaN</td>\n",
       "      <td>2.0</td>\n",
       "      <td>2.0</td>\n",
       "      <td>0.0</td>\n",
       "      <td>11842</td>\n",
       "      <td>30</td>\n",
       "      <td>2b2b</td>\n",
       "    </tr>\n",
       "    <tr>\n",
       "      <th>20</th>\n",
       "      <td>14879991</td>\n",
       "      <td>live</td>\n",
       "      <td>2106</td>\n",
       "      <td>400.0</td>\n",
       "      <td>2021-02-03</td>\n",
       "      <td>NaN</td>\n",
       "      <td>1.0</td>\n",
       "      <td>1.0</td>\n",
       "      <td>0.0</td>\n",
       "      <td>11842</td>\n",
       "      <td>31</td>\n",
       "      <td>1b1b</td>\n",
       "    </tr>\n",
       "    <tr>\n",
       "      <th>21</th>\n",
       "      <td>14877863</td>\n",
       "      <td>live</td>\n",
       "      <td>1208</td>\n",
       "      <td>390.0</td>\n",
       "      <td>2021-02-02</td>\n",
       "      <td>NaN</td>\n",
       "      <td>1.0</td>\n",
       "      <td>1.0</td>\n",
       "      <td>0.0</td>\n",
       "      <td>24974</td>\n",
       "      <td>32</td>\n",
       "      <td>1b1b</td>\n",
       "    </tr>\n",
       "    <tr>\n",
       "      <th>22</th>\n",
       "      <td>14871156</td>\n",
       "      <td>live</td>\n",
       "      <td>Unit 1006</td>\n",
       "      <td>308.0</td>\n",
       "      <td>2021-01-31</td>\n",
       "      <td>NaN</td>\n",
       "      <td>1.0</td>\n",
       "      <td>1.0</td>\n",
       "      <td>0.0</td>\n",
       "      <td>8389</td>\n",
       "      <td>34</td>\n",
       "      <td>1b1b</td>\n",
       "    </tr>\n",
       "    <tr>\n",
       "      <th>23</th>\n",
       "      <td>14869618</td>\n",
       "      <td>live</td>\n",
       "      <td>2208</td>\n",
       "      <td>550.0</td>\n",
       "      <td>2021-01-29</td>\n",
       "      <td>NaN</td>\n",
       "      <td>2.0</td>\n",
       "      <td>2.0</td>\n",
       "      <td>0.0</td>\n",
       "      <td>11842</td>\n",
       "      <td>36</td>\n",
       "      <td>2b2b</td>\n",
       "    </tr>\n",
       "    <tr>\n",
       "      <th>24</th>\n",
       "      <td>14868914</td>\n",
       "      <td>live</td>\n",
       "      <td>3310</td>\n",
       "      <td>650.0</td>\n",
       "      <td>2021-01-29</td>\n",
       "      <td>NaN</td>\n",
       "      <td>2.0</td>\n",
       "      <td>2.0</td>\n",
       "      <td>0.0</td>\n",
       "      <td>11842</td>\n",
       "      <td>36</td>\n",
       "      <td>2b2b</td>\n",
       "    </tr>\n",
       "    <tr>\n",
       "      <th>25</th>\n",
       "      <td>14868220</td>\n",
       "      <td>live</td>\n",
       "      <td>2505</td>\n",
       "      <td>430.0</td>\n",
       "      <td>2021-01-29</td>\n",
       "      <td>NaN</td>\n",
       "      <td>1.0</td>\n",
       "      <td>1.0</td>\n",
       "      <td>0.0</td>\n",
       "      <td>11842</td>\n",
       "      <td>36</td>\n",
       "      <td>1b1b</td>\n",
       "    </tr>\n",
       "    <tr>\n",
       "      <th>26</th>\n",
       "      <td>14868083</td>\n",
       "      <td>live</td>\n",
       "      <td>2405</td>\n",
       "      <td>400.0</td>\n",
       "      <td>2021-01-29</td>\n",
       "      <td>NaN</td>\n",
       "      <td>1.0</td>\n",
       "      <td>1.0</td>\n",
       "      <td>0.0</td>\n",
       "      <td>11842</td>\n",
       "      <td>36</td>\n",
       "      <td>1b1b</td>\n",
       "    </tr>\n",
       "    <tr>\n",
       "      <th>27</th>\n",
       "      <td>14867181</td>\n",
       "      <td>live</td>\n",
       "      <td>4003</td>\n",
       "      <td>460.0</td>\n",
       "      <td>2021-01-28</td>\n",
       "      <td>NaN</td>\n",
       "      <td>2.0</td>\n",
       "      <td>1.0</td>\n",
       "      <td>0.0</td>\n",
       "      <td>30082</td>\n",
       "      <td>37</td>\n",
       "      <td>2b1b</td>\n",
       "    </tr>\n",
       "    <tr>\n",
       "      <th>28</th>\n",
       "      <td>14864460</td>\n",
       "      <td>live</td>\n",
       "      <td>2302</td>\n",
       "      <td>650.0</td>\n",
       "      <td>2021-01-28</td>\n",
       "      <td>NaN</td>\n",
       "      <td>2.0</td>\n",
       "      <td>2.0</td>\n",
       "      <td>1.0</td>\n",
       "      <td>29243</td>\n",
       "      <td>37</td>\n",
       "      <td>2b2b</td>\n",
       "    </tr>\n",
       "    <tr>\n",
       "      <th>29</th>\n",
       "      <td>14855089</td>\n",
       "      <td>live</td>\n",
       "      <td>2007</td>\n",
       "      <td>500.0</td>\n",
       "      <td>2021-01-23</td>\n",
       "      <td>NaN</td>\n",
       "      <td>2.0</td>\n",
       "      <td>1.0</td>\n",
       "      <td>0.0</td>\n",
       "      <td>11842</td>\n",
       "      <td>42</td>\n",
       "      <td>2b1b</td>\n",
       "    </tr>\n",
       "    <tr>\n",
       "      <th>30</th>\n",
       "      <td>14854777</td>\n",
       "      <td>live</td>\n",
       "      <td>1505</td>\n",
       "      <td>400.0</td>\n",
       "      <td>2021-01-22</td>\n",
       "      <td>NaN</td>\n",
       "      <td>1.0</td>\n",
       "      <td>1.0</td>\n",
       "      <td>0.0</td>\n",
       "      <td>11842</td>\n",
       "      <td>43</td>\n",
       "      <td>1b1b</td>\n",
       "    </tr>\n",
       "    <tr>\n",
       "      <th>31</th>\n",
       "      <td>14854774</td>\n",
       "      <td>live</td>\n",
       "      <td>1602</td>\n",
       "      <td>650.0</td>\n",
       "      <td>2021-01-22</td>\n",
       "      <td>NaN</td>\n",
       "      <td>2.0</td>\n",
       "      <td>2.0</td>\n",
       "      <td>0.0</td>\n",
       "      <td>11842</td>\n",
       "      <td>43</td>\n",
       "      <td>2b2b</td>\n",
       "    </tr>\n",
       "    <tr>\n",
       "      <th>32</th>\n",
       "      <td>14853599</td>\n",
       "      <td>live</td>\n",
       "      <td>3606</td>\n",
       "      <td>390.0</td>\n",
       "      <td>2021-01-22</td>\n",
       "      <td>NaN</td>\n",
       "      <td>1.0</td>\n",
       "      <td>1.0</td>\n",
       "      <td>0.0</td>\n",
       "      <td>17347</td>\n",
       "      <td>43</td>\n",
       "      <td>1b1b</td>\n",
       "    </tr>\n",
       "    <tr>\n",
       "      <th>33</th>\n",
       "      <td>14830157</td>\n",
       "      <td>live</td>\n",
       "      <td>1709</td>\n",
       "      <td>600.0</td>\n",
       "      <td>2021-01-13</td>\n",
       "      <td>NaN</td>\n",
       "      <td>2.0</td>\n",
       "      <td>2.0</td>\n",
       "      <td>1.0</td>\n",
       "      <td>4757</td>\n",
       "      <td>52</td>\n",
       "      <td>2b2b</td>\n",
       "    </tr>\n",
       "    <tr>\n",
       "      <th>34</th>\n",
       "      <td>14822799</td>\n",
       "      <td>live</td>\n",
       "      <td>2108</td>\n",
       "      <td>600.0</td>\n",
       "      <td>2021-01-11</td>\n",
       "      <td>NaN</td>\n",
       "      <td>2.0</td>\n",
       "      <td>2.0</td>\n",
       "      <td>0.0</td>\n",
       "      <td>11842</td>\n",
       "      <td>54</td>\n",
       "      <td>2b2b</td>\n",
       "    </tr>\n",
       "    <tr>\n",
       "      <th>35</th>\n",
       "      <td>14811181</td>\n",
       "      <td>live</td>\n",
       "      <td>2206</td>\n",
       "      <td>450.0</td>\n",
       "      <td>2021-01-06</td>\n",
       "      <td>NaN</td>\n",
       "      <td>1.0</td>\n",
       "      <td>1.0</td>\n",
       "      <td>0.0</td>\n",
       "      <td>11842</td>\n",
       "      <td>59</td>\n",
       "      <td>1b1b</td>\n",
       "    </tr>\n",
       "    <tr>\n",
       "      <th>36</th>\n",
       "      <td>14807103</td>\n",
       "      <td>live</td>\n",
       "      <td>2601</td>\n",
       "      <td>680.0</td>\n",
       "      <td>2021-01-05</td>\n",
       "      <td>NaN</td>\n",
       "      <td>2.0</td>\n",
       "      <td>2.0</td>\n",
       "      <td>0.0</td>\n",
       "      <td>32569</td>\n",
       "      <td>60</td>\n",
       "      <td>2b2b</td>\n",
       "    </tr>\n",
       "    <tr>\n",
       "      <th>37</th>\n",
       "      <td>14779144</td>\n",
       "      <td>live</td>\n",
       "      <td>4108</td>\n",
       "      <td>600.0</td>\n",
       "      <td>2020-12-17</td>\n",
       "      <td>NaN</td>\n",
       "      <td>2.0</td>\n",
       "      <td>1.0</td>\n",
       "      <td>0.0</td>\n",
       "      <td>11842</td>\n",
       "      <td>79</td>\n",
       "      <td>2b1b</td>\n",
       "    </tr>\n",
       "    <tr>\n",
       "      <th>38</th>\n",
       "      <td>14757444</td>\n",
       "      <td>live</td>\n",
       "      <td>1501</td>\n",
       "      <td>560.0</td>\n",
       "      <td>2020-12-08</td>\n",
       "      <td>NaN</td>\n",
       "      <td>2.0</td>\n",
       "      <td>2.0</td>\n",
       "      <td>0.0</td>\n",
       "      <td>11842</td>\n",
       "      <td>88</td>\n",
       "      <td>2b2b</td>\n",
       "    </tr>\n",
       "    <tr>\n",
       "      <th>39</th>\n",
       "      <td>14729672</td>\n",
       "      <td>live</td>\n",
       "      <td>1106</td>\n",
       "      <td>350.0</td>\n",
       "      <td>2020-11-27</td>\n",
       "      <td>NaN</td>\n",
       "      <td>1.0</td>\n",
       "      <td>1.0</td>\n",
       "      <td>0.0</td>\n",
       "      <td>11842</td>\n",
       "      <td>99</td>\n",
       "      <td>1b1b</td>\n",
       "    </tr>\n",
       "    <tr>\n",
       "      <th>40</th>\n",
       "      <td>14718152</td>\n",
       "      <td>live</td>\n",
       "      <td>3710</td>\n",
       "      <td>580.0</td>\n",
       "      <td>2020-11-23</td>\n",
       "      <td>NaN</td>\n",
       "      <td>2.0</td>\n",
       "      <td>2.0</td>\n",
       "      <td>0.0</td>\n",
       "      <td>11842</td>\n",
       "      <td>103</td>\n",
       "      <td>2b2b</td>\n",
       "    </tr>\n",
       "    <tr>\n",
       "      <th>41</th>\n",
       "      <td>14662122</td>\n",
       "      <td>live</td>\n",
       "      <td>Unit 1105</td>\n",
       "      <td>345.0</td>\n",
       "      <td>2020-11-05</td>\n",
       "      <td>NaN</td>\n",
       "      <td>1.0</td>\n",
       "      <td>1.0</td>\n",
       "      <td>0.0</td>\n",
       "      <td>8389</td>\n",
       "      <td>121</td>\n",
       "      <td>1b1b</td>\n",
       "    </tr>\n",
       "    <tr>\n",
       "      <th>42</th>\n",
       "      <td>14644385</td>\n",
       "      <td>live</td>\n",
       "      <td>1808</td>\n",
       "      <td>550.0</td>\n",
       "      <td>2020-10-28</td>\n",
       "      <td>NaN</td>\n",
       "      <td>2.0</td>\n",
       "      <td>2.0</td>\n",
       "      <td>0.0</td>\n",
       "      <td>11842</td>\n",
       "      <td>129</td>\n",
       "      <td>2b2b</td>\n",
       "    </tr>\n",
       "    <tr>\n",
       "      <th>43</th>\n",
       "      <td>14644357</td>\n",
       "      <td>live</td>\n",
       "      <td>1708</td>\n",
       "      <td>550.0</td>\n",
       "      <td>2020-10-28</td>\n",
       "      <td>NaN</td>\n",
       "      <td>2.0</td>\n",
       "      <td>2.0</td>\n",
       "      <td>0.0</td>\n",
       "      <td>11842</td>\n",
       "      <td>129</td>\n",
       "      <td>2b2b</td>\n",
       "    </tr>\n",
       "    <tr>\n",
       "      <th>44</th>\n",
       "      <td>14637261</td>\n",
       "      <td>live</td>\n",
       "      <td>3303</td>\n",
       "      <td>550.0</td>\n",
       "      <td>2020-10-26</td>\n",
       "      <td>NaN</td>\n",
       "      <td>2.0</td>\n",
       "      <td>2.0</td>\n",
       "      <td>0.0</td>\n",
       "      <td>11842</td>\n",
       "      <td>131</td>\n",
       "      <td>2b2b</td>\n",
       "    </tr>\n",
       "    <tr>\n",
       "      <th>45</th>\n",
       "      <td>14590148</td>\n",
       "      <td>live</td>\n",
       "      <td>4606</td>\n",
       "      <td>420.0</td>\n",
       "      <td>2020-10-07</td>\n",
       "      <td>NaN</td>\n",
       "      <td>1.0</td>\n",
       "      <td>1.0</td>\n",
       "      <td>0.0</td>\n",
       "      <td>24371</td>\n",
       "      <td>150</td>\n",
       "      <td>1b1b</td>\n",
       "    </tr>\n",
       "    <tr>\n",
       "      <th>46</th>\n",
       "      <td>14590023</td>\n",
       "      <td>live</td>\n",
       "      <td>2202</td>\n",
       "      <td>650.0</td>\n",
       "      <td>2020-10-07</td>\n",
       "      <td>NaN</td>\n",
       "      <td>2.0</td>\n",
       "      <td>2.0</td>\n",
       "      <td>0.0</td>\n",
       "      <td>24371</td>\n",
       "      <td>150</td>\n",
       "      <td>2b2b</td>\n",
       "    </tr>\n",
       "    <tr>\n",
       "      <th>47</th>\n",
       "      <td>14587759</td>\n",
       "      <td>live</td>\n",
       "      <td>4504</td>\n",
       "      <td>450.0</td>\n",
       "      <td>2020-10-06</td>\n",
       "      <td>NaN</td>\n",
       "      <td>2.0</td>\n",
       "      <td>2.0</td>\n",
       "      <td>0.0</td>\n",
       "      <td>11842</td>\n",
       "      <td>151</td>\n",
       "      <td>2b2b</td>\n",
       "    </tr>\n",
       "    <tr>\n",
       "      <th>48</th>\n",
       "      <td>14585512</td>\n",
       "      <td>live</td>\n",
       "      <td>2806</td>\n",
       "      <td>380.0</td>\n",
       "      <td>2020-10-06</td>\n",
       "      <td>NaN</td>\n",
       "      <td>1.0</td>\n",
       "      <td>1.0</td>\n",
       "      <td>0.0</td>\n",
       "      <td>11842</td>\n",
       "      <td>151</td>\n",
       "      <td>1b1b</td>\n",
       "    </tr>\n",
       "  </tbody>\n",
       "</table>\n",
       "</div>"
      ],
      "text/plain": [
       "     list_id status    room_no  price  list_date  available_date  bed  bath  \\\n",
       "0   14928673   live       3705  380.0 2021-02-23             NaN  1.0   1.0   \n",
       "1   14940057    new       4508  550.0 2021-02-26             NaN  2.0   1.0   \n",
       "2   14936089   live       3009  600.0 2021-02-25             NaN  2.0   2.0   \n",
       "3   14930793   live       3502  600.0 2021-02-23             NaN  2.0   2.0   \n",
       "4   14920068    new       4509  650.0 2021-02-18             NaN  2.0   2.0   \n",
       "5   14919124   live       3004  480.0 2021-02-18             NaN  2.0   1.0   \n",
       "6   14917397   live       1302  550.0 2021-02-18             NaN  2.0   2.0   \n",
       "7   14915101   live       4506  430.0 2021-02-17             NaN  1.0   1.0   \n",
       "8   14914813   live       1009  650.0 2021-02-17             NaN  2.0   2.0   \n",
       "9   14910807   live       4710  650.0 2021-02-16             NaN  2.0   2.0   \n",
       "10  14906069   live       4809  650.0 2021-02-14             NaN  2.0   2.0   \n",
       "11  14906056   live       1102  630.0 2021-02-14             NaN  2.0   2.0   \n",
       "12  14906033   live       3610  650.0 2021-02-14             NaN  2.0   2.0   \n",
       "13  14905866   live       3010  620.0 2021-02-13             NaN  2.0   2.0   \n",
       "14  14905858   live       2810  580.0 2021-02-13             NaN  2.0   2.0   \n",
       "15  14897818   live       2904  480.0 2021-02-10             NaN  2.0   1.0   \n",
       "16  14896727   live       1809  650.0 2021-02-10             NaN  2.0   2.0   \n",
       "17  14883526   live       2802  560.0 2021-02-04             NaN  2.0   2.0   \n",
       "18  14883178   live       1706  380.0 2021-02-04             NaN  1.0   1.0   \n",
       "19  14883039   live       2103  600.0 2021-02-04             NaN  2.0   2.0   \n",
       "20  14879991   live       2106  400.0 2021-02-03             NaN  1.0   1.0   \n",
       "21  14877863   live       1208  390.0 2021-02-02             NaN  1.0   1.0   \n",
       "22  14871156   live  Unit 1006  308.0 2021-01-31             NaN  1.0   1.0   \n",
       "23  14869618   live       2208  550.0 2021-01-29             NaN  2.0   2.0   \n",
       "24  14868914   live       3310  650.0 2021-01-29             NaN  2.0   2.0   \n",
       "25  14868220   live       2505  430.0 2021-01-29             NaN  1.0   1.0   \n",
       "26  14868083   live       2405  400.0 2021-01-29             NaN  1.0   1.0   \n",
       "27  14867181   live       4003  460.0 2021-01-28             NaN  2.0   1.0   \n",
       "28  14864460   live       2302  650.0 2021-01-28             NaN  2.0   2.0   \n",
       "29  14855089   live       2007  500.0 2021-01-23             NaN  2.0   1.0   \n",
       "30  14854777   live       1505  400.0 2021-01-22             NaN  1.0   1.0   \n",
       "31  14854774   live       1602  650.0 2021-01-22             NaN  2.0   2.0   \n",
       "32  14853599   live       3606  390.0 2021-01-22             NaN  1.0   1.0   \n",
       "33  14830157   live       1709  600.0 2021-01-13             NaN  2.0   2.0   \n",
       "34  14822799   live       2108  600.0 2021-01-11             NaN  2.0   2.0   \n",
       "35  14811181   live       2206  450.0 2021-01-06             NaN  1.0   1.0   \n",
       "36  14807103   live       2601  680.0 2021-01-05             NaN  2.0   2.0   \n",
       "37  14779144   live       4108  600.0 2020-12-17             NaN  2.0   1.0   \n",
       "38  14757444   live       1501  560.0 2020-12-08             NaN  2.0   2.0   \n",
       "39  14729672   live       1106  350.0 2020-11-27             NaN  1.0   1.0   \n",
       "40  14718152   live       3710  580.0 2020-11-23             NaN  2.0   2.0   \n",
       "41  14662122   live  Unit 1105  345.0 2020-11-05             NaN  1.0   1.0   \n",
       "42  14644385   live       1808  550.0 2020-10-28             NaN  2.0   2.0   \n",
       "43  14644357   live       1708  550.0 2020-10-28             NaN  2.0   2.0   \n",
       "44  14637261   live       3303  550.0 2020-10-26             NaN  2.0   2.0   \n",
       "45  14590148   live       4606  420.0 2020-10-07             NaN  1.0   1.0   \n",
       "46  14590023   live       2202  650.0 2020-10-07             NaN  2.0   2.0   \n",
       "47  14587759   live       4504  450.0 2020-10-06             NaN  2.0   2.0   \n",
       "48  14585512   live       2806  380.0 2020-10-06             NaN  1.0   1.0   \n",
       "\n",
       "    parking agency_id  up_days room_type  \n",
       "0       0.0     18765       11      1b1b  \n",
       "1       0.0     11842        8      2b1b  \n",
       "2       0.0     11842        9      2b2b  \n",
       "3       0.0     11842       11      2b2b  \n",
       "4       0.0     11842       16      2b2b  \n",
       "5       0.0      4757       16      2b1b  \n",
       "6       0.0       232       16      2b2b  \n",
       "7       0.0     11842       17      1b1b  \n",
       "8       0.0     11842       17      2b2b  \n",
       "9       0.0     11842       18      2b2b  \n",
       "10      0.0     11842       20      2b2b  \n",
       "11      0.0     11842       20      2b2b  \n",
       "12      0.0     11842       20      2b2b  \n",
       "13      0.0     11842       21      2b2b  \n",
       "14      0.0     11842       21      2b2b  \n",
       "15      0.0       190       24      2b1b  \n",
       "16      0.0     11842       24      2b2b  \n",
       "17      0.0     11842       30      2b2b  \n",
       "18      0.0     11842       30      1b1b  \n",
       "19      0.0     11842       30      2b2b  \n",
       "20      0.0     11842       31      1b1b  \n",
       "21      0.0     24974       32      1b1b  \n",
       "22      0.0      8389       34      1b1b  \n",
       "23      0.0     11842       36      2b2b  \n",
       "24      0.0     11842       36      2b2b  \n",
       "25      0.0     11842       36      1b1b  \n",
       "26      0.0     11842       36      1b1b  \n",
       "27      0.0     30082       37      2b1b  \n",
       "28      1.0     29243       37      2b2b  \n",
       "29      0.0     11842       42      2b1b  \n",
       "30      0.0     11842       43      1b1b  \n",
       "31      0.0     11842       43      2b2b  \n",
       "32      0.0     17347       43      1b1b  \n",
       "33      1.0      4757       52      2b2b  \n",
       "34      0.0     11842       54      2b2b  \n",
       "35      0.0     11842       59      1b1b  \n",
       "36      0.0     32569       60      2b2b  \n",
       "37      0.0     11842       79      2b1b  \n",
       "38      0.0     11842       88      2b2b  \n",
       "39      0.0     11842       99      1b1b  \n",
       "40      0.0     11842      103      2b2b  \n",
       "41      0.0      8389      121      1b1b  \n",
       "42      0.0     11842      129      2b2b  \n",
       "43      0.0     11842      129      2b2b  \n",
       "44      0.0     11842      131      2b2b  \n",
       "45      0.0     24371      150      1b1b  \n",
       "46      0.0     24371      150      2b2b  \n",
       "47      0.0     11842      151      2b2b  \n",
       "48      0.0     11842      151      1b1b  "
      ]
     },
     "execution_count": 255,
     "metadata": {},
     "output_type": "execute_result"
    }
   ],
   "source": [
    "on_market_df\n",
    "        "
   ]
  },
  {
   "cell_type": "code",
   "execution_count": 259,
   "metadata": {},
   "outputs": [
    {
     "name": "stdout",
     "output_type": "stream",
     "text": [
      "<class 'pandas.core.frame.DataFrame'>\n",
      "RangeIndex: 49 entries, 0 to 48\n",
      "Data columns (total 12 columns):\n",
      " #   Column          Non-Null Count  Dtype         \n",
      "---  ------          --------------  -----         \n",
      " 0   list_id         49 non-null     object        \n",
      " 1   status          49 non-null     object        \n",
      " 2   room_no         49 non-null     object        \n",
      " 3   price           49 non-null     float64       \n",
      " 4   list_date       49 non-null     datetime64[ns]\n",
      " 5   available_date  0 non-null      float64       \n",
      " 6   bed             49 non-null     float64       \n",
      " 7   bath            49 non-null     float64       \n",
      " 8   parking         49 non-null     float64       \n",
      " 9   agency_id       49 non-null     object        \n",
      " 10  up_days         49 non-null     int64         \n",
      " 11  room_type       49 non-null     object        \n",
      "dtypes: datetime64[ns](1), float64(5), int64(1), object(5)\n",
      "memory usage: 4.7+ KB\n"
     ]
    }
   ],
   "source": [
    "on_market_df.info()"
   ]
  },
  {
   "cell_type": "code",
   "execution_count": 293,
   "metadata": {},
   "outputs": [
    {
     "data": {
      "application/vnd.plotly.v1+json": {
       "config": {
        "plotlyServerURL": "https://plot.ly"
       },
       "data": [
        {
         "alignmentgroup": "True",
         "boxpoints": "all",
         "customdata": [
          [
           11,
           "14928673"
          ],
          [
           17,
           "14915101"
          ],
          [
           30,
           "14883178"
          ],
          [
           31,
           "14879991"
          ],
          [
           32,
           "14877863"
          ],
          [
           34,
           "14871156"
          ],
          [
           36,
           "14868220"
          ],
          [
           36,
           "14868083"
          ],
          [
           43,
           "14854777"
          ],
          [
           43,
           "14853599"
          ],
          [
           59,
           "14811181"
          ],
          [
           99,
           "14729672"
          ],
          [
           121,
           "14662122"
          ],
          [
           150,
           "14590148"
          ],
          [
           151,
           "14585512"
          ]
         ],
         "fillcolor": "rgba(255,255,255,0)",
         "hoveron": "points",
         "hovertemplate": "room_type=%{x}<br>price=%{y}<br>up_days=%{customdata[0]}<br>list_id=%{customdata[1]}<extra></extra>",
         "legendgroup": "1b1b",
         "line": {
          "color": "rgba(255,255,255,0)"
         },
         "marker": {
          "color": "#636efa"
         },
         "name": "1b1b",
         "offsetgroup": "1b1b",
         "orientation": "v",
         "pointpos": 0,
         "showlegend": true,
         "type": "box",
         "x": [
          "1b1b",
          "1b1b",
          "1b1b",
          "1b1b",
          "1b1b",
          "1b1b",
          "1b1b",
          "1b1b",
          "1b1b",
          "1b1b",
          "1b1b",
          "1b1b",
          "1b1b",
          "1b1b",
          "1b1b"
         ],
         "x0": " ",
         "xaxis": "x",
         "y": [
          380,
          430,
          380,
          400,
          390,
          308,
          430,
          400,
          400,
          390,
          450,
          350,
          345,
          420,
          380
         ],
         "y0": " ",
         "yaxis": "y"
        },
        {
         "alignmentgroup": "True",
         "boxpoints": "all",
         "customdata": [
          [
           8,
           "14940057"
          ],
          [
           16,
           "14919124"
          ],
          [
           24,
           "14897818"
          ],
          [
           37,
           "14867181"
          ],
          [
           42,
           "14855089"
          ],
          [
           79,
           "14779144"
          ]
         ],
         "fillcolor": "rgba(255,255,255,0)",
         "hoveron": "points",
         "hovertemplate": "room_type=%{x}<br>price=%{y}<br>up_days=%{customdata[0]}<br>list_id=%{customdata[1]}<extra></extra>",
         "legendgroup": "2b1b",
         "line": {
          "color": "rgba(255,255,255,0)"
         },
         "marker": {
          "color": "#EF553B"
         },
         "name": "2b1b",
         "offsetgroup": "2b1b",
         "orientation": "v",
         "pointpos": 0,
         "showlegend": true,
         "type": "box",
         "x": [
          "2b1b",
          "2b1b",
          "2b1b",
          "2b1b",
          "2b1b",
          "2b1b"
         ],
         "x0": " ",
         "xaxis": "x",
         "y": [
          550,
          480,
          480,
          460,
          500,
          600
         ],
         "y0": " ",
         "yaxis": "y"
        },
        {
         "alignmentgroup": "True",
         "boxpoints": "all",
         "customdata": [
          [
           9,
           "14936089"
          ],
          [
           11,
           "14930793"
          ],
          [
           16,
           "14920068"
          ],
          [
           16,
           "14917397"
          ],
          [
           17,
           "14914813"
          ],
          [
           18,
           "14910807"
          ],
          [
           20,
           "14906069"
          ],
          [
           20,
           "14906056"
          ],
          [
           20,
           "14906033"
          ],
          [
           21,
           "14905866"
          ],
          [
           21,
           "14905858"
          ],
          [
           24,
           "14896727"
          ],
          [
           30,
           "14883526"
          ],
          [
           30,
           "14883039"
          ],
          [
           36,
           "14869618"
          ],
          [
           36,
           "14868914"
          ],
          [
           37,
           "14864460"
          ],
          [
           43,
           "14854774"
          ],
          [
           52,
           "14830157"
          ],
          [
           54,
           "14822799"
          ],
          [
           60,
           "14807103"
          ],
          [
           88,
           "14757444"
          ],
          [
           103,
           "14718152"
          ],
          [
           129,
           "14644385"
          ],
          [
           129,
           "14644357"
          ],
          [
           131,
           "14637261"
          ],
          [
           150,
           "14590023"
          ],
          [
           151,
           "14587759"
          ]
         ],
         "fillcolor": "rgba(255,255,255,0)",
         "hoveron": "points",
         "hovertemplate": "room_type=%{x}<br>price=%{y}<br>up_days=%{customdata[0]}<br>list_id=%{customdata[1]}<extra></extra>",
         "legendgroup": "2b2b",
         "line": {
          "color": "rgba(255,255,255,0)"
         },
         "marker": {
          "color": "#00cc96"
         },
         "name": "2b2b",
         "offsetgroup": "2b2b",
         "orientation": "v",
         "pointpos": 0,
         "showlegend": true,
         "type": "box",
         "x": [
          "2b2b",
          "2b2b",
          "2b2b",
          "2b2b",
          "2b2b",
          "2b2b",
          "2b2b",
          "2b2b",
          "2b2b",
          "2b2b",
          "2b2b",
          "2b2b",
          "2b2b",
          "2b2b",
          "2b2b",
          "2b2b",
          "2b2b",
          "2b2b",
          "2b2b",
          "2b2b",
          "2b2b",
          "2b2b",
          "2b2b",
          "2b2b",
          "2b2b",
          "2b2b",
          "2b2b",
          "2b2b"
         ],
         "x0": " ",
         "xaxis": "x",
         "y": [
          600,
          600,
          650,
          550,
          650,
          650,
          650,
          630,
          650,
          620,
          580,
          650,
          560,
          600,
          550,
          650,
          650,
          650,
          600,
          600,
          680,
          560,
          580,
          550,
          550,
          550,
          650,
          450
         ],
         "y0": " ",
         "yaxis": "y"
        }
       ],
       "layout": {
        "boxmode": "overlay",
        "height": 400,
        "legend": {
         "title": {
          "text": "room_type"
         },
         "tracegroupgap": 0
        },
        "showlegend": false,
        "template": {
         "data": {
          "bar": [
           {
            "error_x": {
             "color": "#2a3f5f"
            },
            "error_y": {
             "color": "#2a3f5f"
            },
            "marker": {
             "line": {
              "color": "#E5ECF6",
              "width": 0.5
             }
            },
            "type": "bar"
           }
          ],
          "barpolar": [
           {
            "marker": {
             "line": {
              "color": "#E5ECF6",
              "width": 0.5
             }
            },
            "type": "barpolar"
           }
          ],
          "carpet": [
           {
            "aaxis": {
             "endlinecolor": "#2a3f5f",
             "gridcolor": "white",
             "linecolor": "white",
             "minorgridcolor": "white",
             "startlinecolor": "#2a3f5f"
            },
            "baxis": {
             "endlinecolor": "#2a3f5f",
             "gridcolor": "white",
             "linecolor": "white",
             "minorgridcolor": "white",
             "startlinecolor": "#2a3f5f"
            },
            "type": "carpet"
           }
          ],
          "choropleth": [
           {
            "colorbar": {
             "outlinewidth": 0,
             "ticks": ""
            },
            "type": "choropleth"
           }
          ],
          "contour": [
           {
            "colorbar": {
             "outlinewidth": 0,
             "ticks": ""
            },
            "colorscale": [
             [
              0,
              "#0d0887"
             ],
             [
              0.1111111111111111,
              "#46039f"
             ],
             [
              0.2222222222222222,
              "#7201a8"
             ],
             [
              0.3333333333333333,
              "#9c179e"
             ],
             [
              0.4444444444444444,
              "#bd3786"
             ],
             [
              0.5555555555555556,
              "#d8576b"
             ],
             [
              0.6666666666666666,
              "#ed7953"
             ],
             [
              0.7777777777777778,
              "#fb9f3a"
             ],
             [
              0.8888888888888888,
              "#fdca26"
             ],
             [
              1,
              "#f0f921"
             ]
            ],
            "type": "contour"
           }
          ],
          "contourcarpet": [
           {
            "colorbar": {
             "outlinewidth": 0,
             "ticks": ""
            },
            "type": "contourcarpet"
           }
          ],
          "heatmap": [
           {
            "colorbar": {
             "outlinewidth": 0,
             "ticks": ""
            },
            "colorscale": [
             [
              0,
              "#0d0887"
             ],
             [
              0.1111111111111111,
              "#46039f"
             ],
             [
              0.2222222222222222,
              "#7201a8"
             ],
             [
              0.3333333333333333,
              "#9c179e"
             ],
             [
              0.4444444444444444,
              "#bd3786"
             ],
             [
              0.5555555555555556,
              "#d8576b"
             ],
             [
              0.6666666666666666,
              "#ed7953"
             ],
             [
              0.7777777777777778,
              "#fb9f3a"
             ],
             [
              0.8888888888888888,
              "#fdca26"
             ],
             [
              1,
              "#f0f921"
             ]
            ],
            "type": "heatmap"
           }
          ],
          "heatmapgl": [
           {
            "colorbar": {
             "outlinewidth": 0,
             "ticks": ""
            },
            "colorscale": [
             [
              0,
              "#0d0887"
             ],
             [
              0.1111111111111111,
              "#46039f"
             ],
             [
              0.2222222222222222,
              "#7201a8"
             ],
             [
              0.3333333333333333,
              "#9c179e"
             ],
             [
              0.4444444444444444,
              "#bd3786"
             ],
             [
              0.5555555555555556,
              "#d8576b"
             ],
             [
              0.6666666666666666,
              "#ed7953"
             ],
             [
              0.7777777777777778,
              "#fb9f3a"
             ],
             [
              0.8888888888888888,
              "#fdca26"
             ],
             [
              1,
              "#f0f921"
             ]
            ],
            "type": "heatmapgl"
           }
          ],
          "histogram": [
           {
            "marker": {
             "colorbar": {
              "outlinewidth": 0,
              "ticks": ""
             }
            },
            "type": "histogram"
           }
          ],
          "histogram2d": [
           {
            "colorbar": {
             "outlinewidth": 0,
             "ticks": ""
            },
            "colorscale": [
             [
              0,
              "#0d0887"
             ],
             [
              0.1111111111111111,
              "#46039f"
             ],
             [
              0.2222222222222222,
              "#7201a8"
             ],
             [
              0.3333333333333333,
              "#9c179e"
             ],
             [
              0.4444444444444444,
              "#bd3786"
             ],
             [
              0.5555555555555556,
              "#d8576b"
             ],
             [
              0.6666666666666666,
              "#ed7953"
             ],
             [
              0.7777777777777778,
              "#fb9f3a"
             ],
             [
              0.8888888888888888,
              "#fdca26"
             ],
             [
              1,
              "#f0f921"
             ]
            ],
            "type": "histogram2d"
           }
          ],
          "histogram2dcontour": [
           {
            "colorbar": {
             "outlinewidth": 0,
             "ticks": ""
            },
            "colorscale": [
             [
              0,
              "#0d0887"
             ],
             [
              0.1111111111111111,
              "#46039f"
             ],
             [
              0.2222222222222222,
              "#7201a8"
             ],
             [
              0.3333333333333333,
              "#9c179e"
             ],
             [
              0.4444444444444444,
              "#bd3786"
             ],
             [
              0.5555555555555556,
              "#d8576b"
             ],
             [
              0.6666666666666666,
              "#ed7953"
             ],
             [
              0.7777777777777778,
              "#fb9f3a"
             ],
             [
              0.8888888888888888,
              "#fdca26"
             ],
             [
              1,
              "#f0f921"
             ]
            ],
            "type": "histogram2dcontour"
           }
          ],
          "mesh3d": [
           {
            "colorbar": {
             "outlinewidth": 0,
             "ticks": ""
            },
            "type": "mesh3d"
           }
          ],
          "parcoords": [
           {
            "line": {
             "colorbar": {
              "outlinewidth": 0,
              "ticks": ""
             }
            },
            "type": "parcoords"
           }
          ],
          "pie": [
           {
            "automargin": true,
            "type": "pie"
           }
          ],
          "scatter": [
           {
            "marker": {
             "colorbar": {
              "outlinewidth": 0,
              "ticks": ""
             }
            },
            "type": "scatter"
           }
          ],
          "scatter3d": [
           {
            "line": {
             "colorbar": {
              "outlinewidth": 0,
              "ticks": ""
             }
            },
            "marker": {
             "colorbar": {
              "outlinewidth": 0,
              "ticks": ""
             }
            },
            "type": "scatter3d"
           }
          ],
          "scattercarpet": [
           {
            "marker": {
             "colorbar": {
              "outlinewidth": 0,
              "ticks": ""
             }
            },
            "type": "scattercarpet"
           }
          ],
          "scattergeo": [
           {
            "marker": {
             "colorbar": {
              "outlinewidth": 0,
              "ticks": ""
             }
            },
            "type": "scattergeo"
           }
          ],
          "scattergl": [
           {
            "marker": {
             "colorbar": {
              "outlinewidth": 0,
              "ticks": ""
             }
            },
            "type": "scattergl"
           }
          ],
          "scattermapbox": [
           {
            "marker": {
             "colorbar": {
              "outlinewidth": 0,
              "ticks": ""
             }
            },
            "type": "scattermapbox"
           }
          ],
          "scatterpolar": [
           {
            "marker": {
             "colorbar": {
              "outlinewidth": 0,
              "ticks": ""
             }
            },
            "type": "scatterpolar"
           }
          ],
          "scatterpolargl": [
           {
            "marker": {
             "colorbar": {
              "outlinewidth": 0,
              "ticks": ""
             }
            },
            "type": "scatterpolargl"
           }
          ],
          "scatterternary": [
           {
            "marker": {
             "colorbar": {
              "outlinewidth": 0,
              "ticks": ""
             }
            },
            "type": "scatterternary"
           }
          ],
          "surface": [
           {
            "colorbar": {
             "outlinewidth": 0,
             "ticks": ""
            },
            "colorscale": [
             [
              0,
              "#0d0887"
             ],
             [
              0.1111111111111111,
              "#46039f"
             ],
             [
              0.2222222222222222,
              "#7201a8"
             ],
             [
              0.3333333333333333,
              "#9c179e"
             ],
             [
              0.4444444444444444,
              "#bd3786"
             ],
             [
              0.5555555555555556,
              "#d8576b"
             ],
             [
              0.6666666666666666,
              "#ed7953"
             ],
             [
              0.7777777777777778,
              "#fb9f3a"
             ],
             [
              0.8888888888888888,
              "#fdca26"
             ],
             [
              1,
              "#f0f921"
             ]
            ],
            "type": "surface"
           }
          ],
          "table": [
           {
            "cells": {
             "fill": {
              "color": "#EBF0F8"
             },
             "line": {
              "color": "white"
             }
            },
            "header": {
             "fill": {
              "color": "#C8D4E3"
             },
             "line": {
              "color": "white"
             }
            },
            "type": "table"
           }
          ]
         },
         "layout": {
          "annotationdefaults": {
           "arrowcolor": "#2a3f5f",
           "arrowhead": 0,
           "arrowwidth": 1
          },
          "autotypenumbers": "strict",
          "coloraxis": {
           "colorbar": {
            "outlinewidth": 0,
            "ticks": ""
           }
          },
          "colorscale": {
           "diverging": [
            [
             0,
             "#8e0152"
            ],
            [
             0.1,
             "#c51b7d"
            ],
            [
             0.2,
             "#de77ae"
            ],
            [
             0.3,
             "#f1b6da"
            ],
            [
             0.4,
             "#fde0ef"
            ],
            [
             0.5,
             "#f7f7f7"
            ],
            [
             0.6,
             "#e6f5d0"
            ],
            [
             0.7,
             "#b8e186"
            ],
            [
             0.8,
             "#7fbc41"
            ],
            [
             0.9,
             "#4d9221"
            ],
            [
             1,
             "#276419"
            ]
           ],
           "sequential": [
            [
             0,
             "#0d0887"
            ],
            [
             0.1111111111111111,
             "#46039f"
            ],
            [
             0.2222222222222222,
             "#7201a8"
            ],
            [
             0.3333333333333333,
             "#9c179e"
            ],
            [
             0.4444444444444444,
             "#bd3786"
            ],
            [
             0.5555555555555556,
             "#d8576b"
            ],
            [
             0.6666666666666666,
             "#ed7953"
            ],
            [
             0.7777777777777778,
             "#fb9f3a"
            ],
            [
             0.8888888888888888,
             "#fdca26"
            ],
            [
             1,
             "#f0f921"
            ]
           ],
           "sequentialminus": [
            [
             0,
             "#0d0887"
            ],
            [
             0.1111111111111111,
             "#46039f"
            ],
            [
             0.2222222222222222,
             "#7201a8"
            ],
            [
             0.3333333333333333,
             "#9c179e"
            ],
            [
             0.4444444444444444,
             "#bd3786"
            ],
            [
             0.5555555555555556,
             "#d8576b"
            ],
            [
             0.6666666666666666,
             "#ed7953"
            ],
            [
             0.7777777777777778,
             "#fb9f3a"
            ],
            [
             0.8888888888888888,
             "#fdca26"
            ],
            [
             1,
             "#f0f921"
            ]
           ]
          },
          "colorway": [
           "#636efa",
           "#EF553B",
           "#00cc96",
           "#ab63fa",
           "#FFA15A",
           "#19d3f3",
           "#FF6692",
           "#B6E880",
           "#FF97FF",
           "#FECB52"
          ],
          "font": {
           "color": "#2a3f5f"
          },
          "geo": {
           "bgcolor": "white",
           "lakecolor": "white",
           "landcolor": "#E5ECF6",
           "showlakes": true,
           "showland": true,
           "subunitcolor": "white"
          },
          "hoverlabel": {
           "align": "left"
          },
          "hovermode": "closest",
          "mapbox": {
           "style": "light"
          },
          "paper_bgcolor": "white",
          "plot_bgcolor": "#E5ECF6",
          "polar": {
           "angularaxis": {
            "gridcolor": "white",
            "linecolor": "white",
            "ticks": ""
           },
           "bgcolor": "#E5ECF6",
           "radialaxis": {
            "gridcolor": "white",
            "linecolor": "white",
            "ticks": ""
           }
          },
          "scene": {
           "xaxis": {
            "backgroundcolor": "#E5ECF6",
            "gridcolor": "white",
            "gridwidth": 2,
            "linecolor": "white",
            "showbackground": true,
            "ticks": "",
            "zerolinecolor": "white"
           },
           "yaxis": {
            "backgroundcolor": "#E5ECF6",
            "gridcolor": "white",
            "gridwidth": 2,
            "linecolor": "white",
            "showbackground": true,
            "ticks": "",
            "zerolinecolor": "white"
           },
           "zaxis": {
            "backgroundcolor": "#E5ECF6",
            "gridcolor": "white",
            "gridwidth": 2,
            "linecolor": "white",
            "showbackground": true,
            "ticks": "",
            "zerolinecolor": "white"
           }
          },
          "shapedefaults": {
           "line": {
            "color": "#2a3f5f"
           }
          },
          "ternary": {
           "aaxis": {
            "gridcolor": "white",
            "linecolor": "white",
            "ticks": ""
           },
           "baxis": {
            "gridcolor": "white",
            "linecolor": "white",
            "ticks": ""
           },
           "bgcolor": "#E5ECF6",
           "caxis": {
            "gridcolor": "white",
            "linecolor": "white",
            "ticks": ""
           }
          },
          "title": {
           "x": 0.05
          },
          "xaxis": {
           "automargin": true,
           "gridcolor": "white",
           "linecolor": "white",
           "ticks": "",
           "title": {
            "standoff": 15
           },
           "zerolinecolor": "white",
           "zerolinewidth": 2
          },
          "yaxis": {
           "automargin": true,
           "gridcolor": "white",
           "linecolor": "white",
           "ticks": "",
           "title": {
            "standoff": 15
           },
           "zerolinecolor": "white",
           "zerolinewidth": 2
          }
         }
        },
        "title": {
         "text": "71 properties are currently On Market for Rent"
        },
        "width": 500,
        "xaxis": {
         "anchor": "y",
         "categoryarray": [
          "1b1b",
          "2b1b",
          "2b2b"
         ],
         "categoryorder": "array",
         "domain": [
          0,
          1
         ],
         "title": {
          "text": "room_type"
         }
        },
        "yaxis": {
         "anchor": "x",
         "domain": [
          0,
          1
         ],
         "title": {
          "text": "price"
         }
        }
       }
      },
      "text/html": [
       "<div>                            <div id=\"1343477f-4d48-403c-85c8-f6cb8d4996a9\" class=\"plotly-graph-div\" style=\"height:400px; width:500px;\"></div>            <script type=\"text/javascript\">                require([\"plotly\"], function(Plotly) {                    window.PLOTLYENV=window.PLOTLYENV || {};                                    if (document.getElementById(\"1343477f-4d48-403c-85c8-f6cb8d4996a9\")) {                    Plotly.newPlot(                        \"1343477f-4d48-403c-85c8-f6cb8d4996a9\",                        [{\"alignmentgroup\": \"True\", \"boxpoints\": \"all\", \"customdata\": [[11, \"14928673\"], [17, \"14915101\"], [30, \"14883178\"], [31, \"14879991\"], [32, \"14877863\"], [34, \"14871156\"], [36, \"14868220\"], [36, \"14868083\"], [43, \"14854777\"], [43, \"14853599\"], [59, \"14811181\"], [99, \"14729672\"], [121, \"14662122\"], [150, \"14590148\"], [151, \"14585512\"]], \"fillcolor\": \"rgba(255,255,255,0)\", \"hoveron\": \"points\", \"hovertemplate\": \"room_type=%{x}<br>price=%{y}<br>up_days=%{customdata[0]}<br>list_id=%{customdata[1]}<extra></extra>\", \"legendgroup\": \"1b1b\", \"line\": {\"color\": \"rgba(255,255,255,0)\"}, \"marker\": {\"color\": \"#636efa\"}, \"name\": \"1b1b\", \"offsetgroup\": \"1b1b\", \"orientation\": \"v\", \"pointpos\": 0, \"showlegend\": true, \"type\": \"box\", \"x\": [\"1b1b\", \"1b1b\", \"1b1b\", \"1b1b\", \"1b1b\", \"1b1b\", \"1b1b\", \"1b1b\", \"1b1b\", \"1b1b\", \"1b1b\", \"1b1b\", \"1b1b\", \"1b1b\", \"1b1b\"], \"x0\": \" \", \"xaxis\": \"x\", \"y\": [380.0, 430.0, 380.0, 400.0, 390.0, 308.0, 430.0, 400.0, 400.0, 390.0, 450.0, 350.0, 345.0, 420.0, 380.0], \"y0\": \" \", \"yaxis\": \"y\"}, {\"alignmentgroup\": \"True\", \"boxpoints\": \"all\", \"customdata\": [[8, \"14940057\"], [16, \"14919124\"], [24, \"14897818\"], [37, \"14867181\"], [42, \"14855089\"], [79, \"14779144\"]], \"fillcolor\": \"rgba(255,255,255,0)\", \"hoveron\": \"points\", \"hovertemplate\": \"room_type=%{x}<br>price=%{y}<br>up_days=%{customdata[0]}<br>list_id=%{customdata[1]}<extra></extra>\", \"legendgroup\": \"2b1b\", \"line\": {\"color\": \"rgba(255,255,255,0)\"}, \"marker\": {\"color\": \"#EF553B\"}, \"name\": \"2b1b\", \"offsetgroup\": \"2b1b\", \"orientation\": \"v\", \"pointpos\": 0, \"showlegend\": true, \"type\": \"box\", \"x\": [\"2b1b\", \"2b1b\", \"2b1b\", \"2b1b\", \"2b1b\", \"2b1b\"], \"x0\": \" \", \"xaxis\": \"x\", \"y\": [550.0, 480.0, 480.0, 460.0, 500.0, 600.0], \"y0\": \" \", \"yaxis\": \"y\"}, {\"alignmentgroup\": \"True\", \"boxpoints\": \"all\", \"customdata\": [[9, \"14936089\"], [11, \"14930793\"], [16, \"14920068\"], [16, \"14917397\"], [17, \"14914813\"], [18, \"14910807\"], [20, \"14906069\"], [20, \"14906056\"], [20, \"14906033\"], [21, \"14905866\"], [21, \"14905858\"], [24, \"14896727\"], [30, \"14883526\"], [30, \"14883039\"], [36, \"14869618\"], [36, \"14868914\"], [37, \"14864460\"], [43, \"14854774\"], [52, \"14830157\"], [54, \"14822799\"], [60, \"14807103\"], [88, \"14757444\"], [103, \"14718152\"], [129, \"14644385\"], [129, \"14644357\"], [131, \"14637261\"], [150, \"14590023\"], [151, \"14587759\"]], \"fillcolor\": \"rgba(255,255,255,0)\", \"hoveron\": \"points\", \"hovertemplate\": \"room_type=%{x}<br>price=%{y}<br>up_days=%{customdata[0]}<br>list_id=%{customdata[1]}<extra></extra>\", \"legendgroup\": \"2b2b\", \"line\": {\"color\": \"rgba(255,255,255,0)\"}, \"marker\": {\"color\": \"#00cc96\"}, \"name\": \"2b2b\", \"offsetgroup\": \"2b2b\", \"orientation\": \"v\", \"pointpos\": 0, \"showlegend\": true, \"type\": \"box\", \"x\": [\"2b2b\", \"2b2b\", \"2b2b\", \"2b2b\", \"2b2b\", \"2b2b\", \"2b2b\", \"2b2b\", \"2b2b\", \"2b2b\", \"2b2b\", \"2b2b\", \"2b2b\", \"2b2b\", \"2b2b\", \"2b2b\", \"2b2b\", \"2b2b\", \"2b2b\", \"2b2b\", \"2b2b\", \"2b2b\", \"2b2b\", \"2b2b\", \"2b2b\", \"2b2b\", \"2b2b\", \"2b2b\"], \"x0\": \" \", \"xaxis\": \"x\", \"y\": [600.0, 600.0, 650.0, 550.0, 650.0, 650.0, 650.0, 630.0, 650.0, 620.0, 580.0, 650.0, 560.0, 600.0, 550.0, 650.0, 650.0, 650.0, 600.0, 600.0, 680.0, 560.0, 580.0, 550.0, 550.0, 550.0, 650.0, 450.0], \"y0\": \" \", \"yaxis\": \"y\"}],                        {\"boxmode\": \"overlay\", \"height\": 400, \"legend\": {\"title\": {\"text\": \"room_type\"}, \"tracegroupgap\": 0}, \"showlegend\": false, \"template\": {\"data\": {\"bar\": [{\"error_x\": {\"color\": \"#2a3f5f\"}, \"error_y\": {\"color\": \"#2a3f5f\"}, \"marker\": {\"line\": {\"color\": \"#E5ECF6\", \"width\": 0.5}}, \"type\": \"bar\"}], \"barpolar\": [{\"marker\": {\"line\": {\"color\": \"#E5ECF6\", \"width\": 0.5}}, \"type\": \"barpolar\"}], \"carpet\": [{\"aaxis\": {\"endlinecolor\": \"#2a3f5f\", \"gridcolor\": \"white\", \"linecolor\": \"white\", \"minorgridcolor\": \"white\", \"startlinecolor\": \"#2a3f5f\"}, \"baxis\": {\"endlinecolor\": \"#2a3f5f\", \"gridcolor\": \"white\", \"linecolor\": \"white\", \"minorgridcolor\": \"white\", \"startlinecolor\": \"#2a3f5f\"}, \"type\": \"carpet\"}], \"choropleth\": [{\"colorbar\": {\"outlinewidth\": 0, \"ticks\": \"\"}, \"type\": \"choropleth\"}], \"contour\": [{\"colorbar\": {\"outlinewidth\": 0, \"ticks\": \"\"}, \"colorscale\": [[0.0, \"#0d0887\"], [0.1111111111111111, \"#46039f\"], [0.2222222222222222, \"#7201a8\"], [0.3333333333333333, \"#9c179e\"], [0.4444444444444444, \"#bd3786\"], [0.5555555555555556, \"#d8576b\"], [0.6666666666666666, \"#ed7953\"], [0.7777777777777778, \"#fb9f3a\"], [0.8888888888888888, \"#fdca26\"], [1.0, \"#f0f921\"]], \"type\": \"contour\"}], \"contourcarpet\": [{\"colorbar\": {\"outlinewidth\": 0, \"ticks\": \"\"}, \"type\": \"contourcarpet\"}], \"heatmap\": [{\"colorbar\": {\"outlinewidth\": 0, \"ticks\": \"\"}, \"colorscale\": [[0.0, \"#0d0887\"], [0.1111111111111111, \"#46039f\"], [0.2222222222222222, \"#7201a8\"], [0.3333333333333333, \"#9c179e\"], [0.4444444444444444, \"#bd3786\"], [0.5555555555555556, \"#d8576b\"], [0.6666666666666666, \"#ed7953\"], [0.7777777777777778, \"#fb9f3a\"], [0.8888888888888888, \"#fdca26\"], [1.0, \"#f0f921\"]], \"type\": \"heatmap\"}], \"heatmapgl\": [{\"colorbar\": {\"outlinewidth\": 0, \"ticks\": \"\"}, \"colorscale\": [[0.0, \"#0d0887\"], [0.1111111111111111, \"#46039f\"], [0.2222222222222222, \"#7201a8\"], [0.3333333333333333, \"#9c179e\"], [0.4444444444444444, \"#bd3786\"], [0.5555555555555556, \"#d8576b\"], [0.6666666666666666, \"#ed7953\"], [0.7777777777777778, \"#fb9f3a\"], [0.8888888888888888, \"#fdca26\"], [1.0, \"#f0f921\"]], \"type\": \"heatmapgl\"}], \"histogram\": [{\"marker\": {\"colorbar\": {\"outlinewidth\": 0, \"ticks\": \"\"}}, \"type\": \"histogram\"}], \"histogram2d\": [{\"colorbar\": {\"outlinewidth\": 0, \"ticks\": \"\"}, \"colorscale\": [[0.0, \"#0d0887\"], [0.1111111111111111, \"#46039f\"], [0.2222222222222222, \"#7201a8\"], [0.3333333333333333, \"#9c179e\"], [0.4444444444444444, \"#bd3786\"], [0.5555555555555556, \"#d8576b\"], [0.6666666666666666, \"#ed7953\"], [0.7777777777777778, \"#fb9f3a\"], [0.8888888888888888, \"#fdca26\"], [1.0, \"#f0f921\"]], \"type\": \"histogram2d\"}], \"histogram2dcontour\": [{\"colorbar\": {\"outlinewidth\": 0, \"ticks\": \"\"}, \"colorscale\": [[0.0, \"#0d0887\"], [0.1111111111111111, \"#46039f\"], [0.2222222222222222, \"#7201a8\"], [0.3333333333333333, \"#9c179e\"], [0.4444444444444444, \"#bd3786\"], [0.5555555555555556, \"#d8576b\"], [0.6666666666666666, \"#ed7953\"], [0.7777777777777778, \"#fb9f3a\"], [0.8888888888888888, \"#fdca26\"], [1.0, \"#f0f921\"]], \"type\": \"histogram2dcontour\"}], \"mesh3d\": [{\"colorbar\": {\"outlinewidth\": 0, \"ticks\": \"\"}, \"type\": \"mesh3d\"}], \"parcoords\": [{\"line\": {\"colorbar\": {\"outlinewidth\": 0, \"ticks\": \"\"}}, \"type\": \"parcoords\"}], \"pie\": [{\"automargin\": true, \"type\": \"pie\"}], \"scatter\": [{\"marker\": {\"colorbar\": {\"outlinewidth\": 0, \"ticks\": \"\"}}, \"type\": \"scatter\"}], \"scatter3d\": [{\"line\": {\"colorbar\": {\"outlinewidth\": 0, \"ticks\": \"\"}}, \"marker\": {\"colorbar\": {\"outlinewidth\": 0, \"ticks\": \"\"}}, \"type\": \"scatter3d\"}], \"scattercarpet\": [{\"marker\": {\"colorbar\": {\"outlinewidth\": 0, \"ticks\": \"\"}}, \"type\": \"scattercarpet\"}], \"scattergeo\": [{\"marker\": {\"colorbar\": {\"outlinewidth\": 0, \"ticks\": \"\"}}, \"type\": \"scattergeo\"}], \"scattergl\": [{\"marker\": {\"colorbar\": {\"outlinewidth\": 0, \"ticks\": \"\"}}, \"type\": \"scattergl\"}], \"scattermapbox\": [{\"marker\": {\"colorbar\": {\"outlinewidth\": 0, \"ticks\": \"\"}}, \"type\": \"scattermapbox\"}], \"scatterpolar\": [{\"marker\": {\"colorbar\": {\"outlinewidth\": 0, \"ticks\": \"\"}}, \"type\": \"scatterpolar\"}], \"scatterpolargl\": [{\"marker\": {\"colorbar\": {\"outlinewidth\": 0, \"ticks\": \"\"}}, \"type\": \"scatterpolargl\"}], \"scatterternary\": [{\"marker\": {\"colorbar\": {\"outlinewidth\": 0, \"ticks\": \"\"}}, \"type\": \"scatterternary\"}], \"surface\": [{\"colorbar\": {\"outlinewidth\": 0, \"ticks\": \"\"}, \"colorscale\": [[0.0, \"#0d0887\"], [0.1111111111111111, \"#46039f\"], [0.2222222222222222, \"#7201a8\"], [0.3333333333333333, \"#9c179e\"], [0.4444444444444444, \"#bd3786\"], [0.5555555555555556, \"#d8576b\"], [0.6666666666666666, \"#ed7953\"], [0.7777777777777778, \"#fb9f3a\"], [0.8888888888888888, \"#fdca26\"], [1.0, \"#f0f921\"]], \"type\": \"surface\"}], \"table\": [{\"cells\": {\"fill\": {\"color\": \"#EBF0F8\"}, \"line\": {\"color\": \"white\"}}, \"header\": {\"fill\": {\"color\": \"#C8D4E3\"}, \"line\": {\"color\": \"white\"}}, \"type\": \"table\"}]}, \"layout\": {\"annotationdefaults\": {\"arrowcolor\": \"#2a3f5f\", \"arrowhead\": 0, \"arrowwidth\": 1}, \"autotypenumbers\": \"strict\", \"coloraxis\": {\"colorbar\": {\"outlinewidth\": 0, \"ticks\": \"\"}}, \"colorscale\": {\"diverging\": [[0, \"#8e0152\"], [0.1, \"#c51b7d\"], [0.2, \"#de77ae\"], [0.3, \"#f1b6da\"], [0.4, \"#fde0ef\"], [0.5, \"#f7f7f7\"], [0.6, \"#e6f5d0\"], [0.7, \"#b8e186\"], [0.8, \"#7fbc41\"], [0.9, \"#4d9221\"], [1, \"#276419\"]], \"sequential\": [[0.0, \"#0d0887\"], [0.1111111111111111, \"#46039f\"], [0.2222222222222222, \"#7201a8\"], [0.3333333333333333, \"#9c179e\"], [0.4444444444444444, \"#bd3786\"], [0.5555555555555556, \"#d8576b\"], [0.6666666666666666, \"#ed7953\"], [0.7777777777777778, \"#fb9f3a\"], [0.8888888888888888, \"#fdca26\"], [1.0, \"#f0f921\"]], \"sequentialminus\": [[0.0, \"#0d0887\"], [0.1111111111111111, \"#46039f\"], [0.2222222222222222, \"#7201a8\"], [0.3333333333333333, \"#9c179e\"], [0.4444444444444444, \"#bd3786\"], [0.5555555555555556, \"#d8576b\"], [0.6666666666666666, \"#ed7953\"], [0.7777777777777778, \"#fb9f3a\"], [0.8888888888888888, \"#fdca26\"], [1.0, \"#f0f921\"]]}, \"colorway\": [\"#636efa\", \"#EF553B\", \"#00cc96\", \"#ab63fa\", \"#FFA15A\", \"#19d3f3\", \"#FF6692\", \"#B6E880\", \"#FF97FF\", \"#FECB52\"], \"font\": {\"color\": \"#2a3f5f\"}, \"geo\": {\"bgcolor\": \"white\", \"lakecolor\": \"white\", \"landcolor\": \"#E5ECF6\", \"showlakes\": true, \"showland\": true, \"subunitcolor\": \"white\"}, \"hoverlabel\": {\"align\": \"left\"}, \"hovermode\": \"closest\", \"mapbox\": {\"style\": \"light\"}, \"paper_bgcolor\": \"white\", \"plot_bgcolor\": \"#E5ECF6\", \"polar\": {\"angularaxis\": {\"gridcolor\": \"white\", \"linecolor\": \"white\", \"ticks\": \"\"}, \"bgcolor\": \"#E5ECF6\", \"radialaxis\": {\"gridcolor\": \"white\", \"linecolor\": \"white\", \"ticks\": \"\"}}, \"scene\": {\"xaxis\": {\"backgroundcolor\": \"#E5ECF6\", \"gridcolor\": \"white\", \"gridwidth\": 2, \"linecolor\": \"white\", \"showbackground\": true, \"ticks\": \"\", \"zerolinecolor\": \"white\"}, \"yaxis\": {\"backgroundcolor\": \"#E5ECF6\", \"gridcolor\": \"white\", \"gridwidth\": 2, \"linecolor\": \"white\", \"showbackground\": true, \"ticks\": \"\", \"zerolinecolor\": \"white\"}, \"zaxis\": {\"backgroundcolor\": \"#E5ECF6\", \"gridcolor\": \"white\", \"gridwidth\": 2, \"linecolor\": \"white\", \"showbackground\": true, \"ticks\": \"\", \"zerolinecolor\": \"white\"}}, \"shapedefaults\": {\"line\": {\"color\": \"#2a3f5f\"}}, \"ternary\": {\"aaxis\": {\"gridcolor\": \"white\", \"linecolor\": \"white\", \"ticks\": \"\"}, \"baxis\": {\"gridcolor\": \"white\", \"linecolor\": \"white\", \"ticks\": \"\"}, \"bgcolor\": \"#E5ECF6\", \"caxis\": {\"gridcolor\": \"white\", \"linecolor\": \"white\", \"ticks\": \"\"}}, \"title\": {\"x\": 0.05}, \"xaxis\": {\"automargin\": true, \"gridcolor\": \"white\", \"linecolor\": \"white\", \"ticks\": \"\", \"title\": {\"standoff\": 15}, \"zerolinecolor\": \"white\", \"zerolinewidth\": 2}, \"yaxis\": {\"automargin\": true, \"gridcolor\": \"white\", \"linecolor\": \"white\", \"ticks\": \"\", \"title\": {\"standoff\": 15}, \"zerolinecolor\": \"white\", \"zerolinewidth\": 2}}}, \"title\": {\"text\": \"71 properties are currently On Market for Rent\"}, \"width\": 500, \"xaxis\": {\"anchor\": \"y\", \"categoryarray\": [\"1b1b\", \"2b1b\", \"2b2b\"], \"categoryorder\": \"array\", \"domain\": [0.0, 1.0], \"title\": {\"text\": \"room_type\"}}, \"yaxis\": {\"anchor\": \"x\", \"domain\": [0.0, 1.0], \"title\": {\"text\": \"price\"}}},                        {\"responsive\": true}                    ).then(function(){\n",
       "                            \n",
       "var gd = document.getElementById('1343477f-4d48-403c-85c8-f6cb8d4996a9');\n",
       "var x = new MutationObserver(function (mutations, observer) {{\n",
       "        var display = window.getComputedStyle(gd).display;\n",
       "        if (!display || display === 'none') {{\n",
       "            console.log([gd, 'removed!']);\n",
       "            Plotly.purge(gd);\n",
       "            observer.disconnect();\n",
       "        }}\n",
       "}});\n",
       "\n",
       "// Listen for the removal of the full notebook cells\n",
       "var notebookContainer = gd.closest('#notebook-container');\n",
       "if (notebookContainer) {{\n",
       "    x.observe(notebookContainer, {childList: true});\n",
       "}}\n",
       "\n",
       "// Listen for the clearing of the current output cell\n",
       "var outputEl = gd.closest('.output');\n",
       "if (outputEl) {{\n",
       "    x.observe(outputEl, {childList: true});\n",
       "}}\n",
       "\n",
       "                        })                };                });            </script>        </div>"
      ]
     },
     "metadata": {},
     "output_type": "display_data"
    }
   ],
   "source": [
    "fig0 = px.strip(on_market_df, x=\"room_type\", y=\"price\", hover_data = ['up_days', 'list_id'], color = \"room_type\",width = 500, height = 400, title = \"71 properties are currently On Market for Rent\" )\n",
    "fig0.update_layout(showlegend=False)\n",
    "fig0.show()"
   ]
  },
  {
   "cell_type": "code",
   "execution_count": 294,
   "metadata": {
    "scrolled": true
   },
   "outputs": [
    {
     "data": {
      "application/vnd.plotly.v1+json": {
       "config": {
        "plotlyServerURL": "https://plot.ly"
       },
       "data": [
        {
         "alignmentgroup": "True",
         "boxpoints": "all",
         "customdata": [
          [
           11,
           "14928673"
          ],
          [
           17,
           "14915101"
          ],
          [
           30,
           "14883178"
          ],
          [
           31,
           "14879991"
          ],
          [
           32,
           "14877863"
          ],
          [
           34,
           "14871156"
          ],
          [
           36,
           "14868220"
          ],
          [
           36,
           "14868083"
          ],
          [
           43,
           "14854777"
          ],
          [
           43,
           "14853599"
          ],
          [
           59,
           "14811181"
          ],
          [
           99,
           "14729672"
          ],
          [
           121,
           "14662122"
          ],
          [
           150,
           "14590148"
          ],
          [
           151,
           "14585512"
          ]
         ],
         "fillcolor": "rgba(255,255,255,0)",
         "hoveron": "points",
         "hovertemplate": "room_type=%{x}<br>price=%{y}<br>up_days=%{customdata[0]}<br>list_id=%{customdata[1]}<extra></extra>",
         "legendgroup": "1b1b",
         "line": {
          "color": "rgba(255,255,255,0)"
         },
         "marker": {
          "color": "#636efa"
         },
         "name": "1b1b",
         "offsetgroup": "1b1b",
         "orientation": "v",
         "pointpos": 0,
         "showlegend": true,
         "type": "box",
         "x": [
          "1b1b",
          "1b1b",
          "1b1b",
          "1b1b",
          "1b1b",
          "1b1b",
          "1b1b",
          "1b1b",
          "1b1b",
          "1b1b",
          "1b1b",
          "1b1b",
          "1b1b",
          "1b1b",
          "1b1b"
         ],
         "x0": " ",
         "xaxis": "x",
         "y": [
          380,
          430,
          380,
          400,
          390,
          308,
          430,
          400,
          400,
          390,
          450,
          350,
          345,
          420,
          380
         ],
         "y0": " ",
         "yaxis": "y"
        },
        {
         "alignmentgroup": "True",
         "boxpoints": "all",
         "customdata": [
          [
           8,
           "14940057"
          ],
          [
           16,
           "14919124"
          ],
          [
           24,
           "14897818"
          ],
          [
           37,
           "14867181"
          ],
          [
           42,
           "14855089"
          ],
          [
           79,
           "14779144"
          ]
         ],
         "fillcolor": "rgba(255,255,255,0)",
         "hoveron": "points",
         "hovertemplate": "room_type=%{x}<br>price=%{y}<br>up_days=%{customdata[0]}<br>list_id=%{customdata[1]}<extra></extra>",
         "legendgroup": "2b1b",
         "line": {
          "color": "rgba(255,255,255,0)"
         },
         "marker": {
          "color": "#EF553B"
         },
         "name": "2b1b",
         "offsetgroup": "2b1b",
         "orientation": "v",
         "pointpos": 0,
         "showlegend": true,
         "type": "box",
         "x": [
          "2b1b",
          "2b1b",
          "2b1b",
          "2b1b",
          "2b1b",
          "2b1b"
         ],
         "x0": " ",
         "xaxis": "x",
         "y": [
          550,
          480,
          480,
          460,
          500,
          600
         ],
         "y0": " ",
         "yaxis": "y"
        },
        {
         "alignmentgroup": "True",
         "boxpoints": "all",
         "customdata": [
          [
           9,
           "14936089"
          ],
          [
           11,
           "14930793"
          ],
          [
           16,
           "14920068"
          ],
          [
           16,
           "14917397"
          ],
          [
           17,
           "14914813"
          ],
          [
           18,
           "14910807"
          ],
          [
           20,
           "14906069"
          ],
          [
           20,
           "14906056"
          ],
          [
           20,
           "14906033"
          ],
          [
           21,
           "14905866"
          ],
          [
           21,
           "14905858"
          ],
          [
           24,
           "14896727"
          ],
          [
           30,
           "14883526"
          ],
          [
           30,
           "14883039"
          ],
          [
           36,
           "14869618"
          ],
          [
           36,
           "14868914"
          ],
          [
           37,
           "14864460"
          ],
          [
           43,
           "14854774"
          ],
          [
           52,
           "14830157"
          ],
          [
           54,
           "14822799"
          ],
          [
           60,
           "14807103"
          ],
          [
           88,
           "14757444"
          ],
          [
           103,
           "14718152"
          ],
          [
           129,
           "14644385"
          ],
          [
           129,
           "14644357"
          ],
          [
           131,
           "14637261"
          ],
          [
           150,
           "14590023"
          ],
          [
           151,
           "14587759"
          ]
         ],
         "fillcolor": "rgba(255,255,255,0)",
         "hoveron": "points",
         "hovertemplate": "room_type=%{x}<br>price=%{y}<br>up_days=%{customdata[0]}<br>list_id=%{customdata[1]}<extra></extra>",
         "legendgroup": "2b2b",
         "line": {
          "color": "rgba(255,255,255,0)"
         },
         "marker": {
          "color": "#00cc96"
         },
         "name": "2b2b",
         "offsetgroup": "2b2b",
         "orientation": "v",
         "pointpos": 0,
         "showlegend": true,
         "type": "box",
         "x": [
          "2b2b",
          "2b2b",
          "2b2b",
          "2b2b",
          "2b2b",
          "2b2b",
          "2b2b",
          "2b2b",
          "2b2b",
          "2b2b",
          "2b2b",
          "2b2b",
          "2b2b",
          "2b2b",
          "2b2b",
          "2b2b",
          "2b2b",
          "2b2b",
          "2b2b",
          "2b2b",
          "2b2b",
          "2b2b",
          "2b2b",
          "2b2b",
          "2b2b",
          "2b2b",
          "2b2b",
          "2b2b"
         ],
         "x0": " ",
         "xaxis": "x",
         "y": [
          600,
          600,
          650,
          550,
          650,
          650,
          650,
          630,
          650,
          620,
          580,
          650,
          560,
          600,
          550,
          650,
          650,
          650,
          600,
          600,
          680,
          560,
          580,
          550,
          550,
          550,
          650,
          450
         ],
         "y0": " ",
         "yaxis": "y"
        }
       ],
       "layout": {
        "boxmode": "overlay",
        "height": 400,
        "legend": {
         "title": {
          "text": "room_type"
         },
         "tracegroupgap": 0
        },
        "showlegend": false,
        "template": {
         "data": {
          "bar": [
           {
            "error_x": {
             "color": "#2a3f5f"
            },
            "error_y": {
             "color": "#2a3f5f"
            },
            "marker": {
             "line": {
              "color": "#E5ECF6",
              "width": 0.5
             }
            },
            "type": "bar"
           }
          ],
          "barpolar": [
           {
            "marker": {
             "line": {
              "color": "#E5ECF6",
              "width": 0.5
             }
            },
            "type": "barpolar"
           }
          ],
          "carpet": [
           {
            "aaxis": {
             "endlinecolor": "#2a3f5f",
             "gridcolor": "white",
             "linecolor": "white",
             "minorgridcolor": "white",
             "startlinecolor": "#2a3f5f"
            },
            "baxis": {
             "endlinecolor": "#2a3f5f",
             "gridcolor": "white",
             "linecolor": "white",
             "minorgridcolor": "white",
             "startlinecolor": "#2a3f5f"
            },
            "type": "carpet"
           }
          ],
          "choropleth": [
           {
            "colorbar": {
             "outlinewidth": 0,
             "ticks": ""
            },
            "type": "choropleth"
           }
          ],
          "contour": [
           {
            "colorbar": {
             "outlinewidth": 0,
             "ticks": ""
            },
            "colorscale": [
             [
              0,
              "#0d0887"
             ],
             [
              0.1111111111111111,
              "#46039f"
             ],
             [
              0.2222222222222222,
              "#7201a8"
             ],
             [
              0.3333333333333333,
              "#9c179e"
             ],
             [
              0.4444444444444444,
              "#bd3786"
             ],
             [
              0.5555555555555556,
              "#d8576b"
             ],
             [
              0.6666666666666666,
              "#ed7953"
             ],
             [
              0.7777777777777778,
              "#fb9f3a"
             ],
             [
              0.8888888888888888,
              "#fdca26"
             ],
             [
              1,
              "#f0f921"
             ]
            ],
            "type": "contour"
           }
          ],
          "contourcarpet": [
           {
            "colorbar": {
             "outlinewidth": 0,
             "ticks": ""
            },
            "type": "contourcarpet"
           }
          ],
          "heatmap": [
           {
            "colorbar": {
             "outlinewidth": 0,
             "ticks": ""
            },
            "colorscale": [
             [
              0,
              "#0d0887"
             ],
             [
              0.1111111111111111,
              "#46039f"
             ],
             [
              0.2222222222222222,
              "#7201a8"
             ],
             [
              0.3333333333333333,
              "#9c179e"
             ],
             [
              0.4444444444444444,
              "#bd3786"
             ],
             [
              0.5555555555555556,
              "#d8576b"
             ],
             [
              0.6666666666666666,
              "#ed7953"
             ],
             [
              0.7777777777777778,
              "#fb9f3a"
             ],
             [
              0.8888888888888888,
              "#fdca26"
             ],
             [
              1,
              "#f0f921"
             ]
            ],
            "type": "heatmap"
           }
          ],
          "heatmapgl": [
           {
            "colorbar": {
             "outlinewidth": 0,
             "ticks": ""
            },
            "colorscale": [
             [
              0,
              "#0d0887"
             ],
             [
              0.1111111111111111,
              "#46039f"
             ],
             [
              0.2222222222222222,
              "#7201a8"
             ],
             [
              0.3333333333333333,
              "#9c179e"
             ],
             [
              0.4444444444444444,
              "#bd3786"
             ],
             [
              0.5555555555555556,
              "#d8576b"
             ],
             [
              0.6666666666666666,
              "#ed7953"
             ],
             [
              0.7777777777777778,
              "#fb9f3a"
             ],
             [
              0.8888888888888888,
              "#fdca26"
             ],
             [
              1,
              "#f0f921"
             ]
            ],
            "type": "heatmapgl"
           }
          ],
          "histogram": [
           {
            "marker": {
             "colorbar": {
              "outlinewidth": 0,
              "ticks": ""
             }
            },
            "type": "histogram"
           }
          ],
          "histogram2d": [
           {
            "colorbar": {
             "outlinewidth": 0,
             "ticks": ""
            },
            "colorscale": [
             [
              0,
              "#0d0887"
             ],
             [
              0.1111111111111111,
              "#46039f"
             ],
             [
              0.2222222222222222,
              "#7201a8"
             ],
             [
              0.3333333333333333,
              "#9c179e"
             ],
             [
              0.4444444444444444,
              "#bd3786"
             ],
             [
              0.5555555555555556,
              "#d8576b"
             ],
             [
              0.6666666666666666,
              "#ed7953"
             ],
             [
              0.7777777777777778,
              "#fb9f3a"
             ],
             [
              0.8888888888888888,
              "#fdca26"
             ],
             [
              1,
              "#f0f921"
             ]
            ],
            "type": "histogram2d"
           }
          ],
          "histogram2dcontour": [
           {
            "colorbar": {
             "outlinewidth": 0,
             "ticks": ""
            },
            "colorscale": [
             [
              0,
              "#0d0887"
             ],
             [
              0.1111111111111111,
              "#46039f"
             ],
             [
              0.2222222222222222,
              "#7201a8"
             ],
             [
              0.3333333333333333,
              "#9c179e"
             ],
             [
              0.4444444444444444,
              "#bd3786"
             ],
             [
              0.5555555555555556,
              "#d8576b"
             ],
             [
              0.6666666666666666,
              "#ed7953"
             ],
             [
              0.7777777777777778,
              "#fb9f3a"
             ],
             [
              0.8888888888888888,
              "#fdca26"
             ],
             [
              1,
              "#f0f921"
             ]
            ],
            "type": "histogram2dcontour"
           }
          ],
          "mesh3d": [
           {
            "colorbar": {
             "outlinewidth": 0,
             "ticks": ""
            },
            "type": "mesh3d"
           }
          ],
          "parcoords": [
           {
            "line": {
             "colorbar": {
              "outlinewidth": 0,
              "ticks": ""
             }
            },
            "type": "parcoords"
           }
          ],
          "pie": [
           {
            "automargin": true,
            "type": "pie"
           }
          ],
          "scatter": [
           {
            "marker": {
             "colorbar": {
              "outlinewidth": 0,
              "ticks": ""
             }
            },
            "type": "scatter"
           }
          ],
          "scatter3d": [
           {
            "line": {
             "colorbar": {
              "outlinewidth": 0,
              "ticks": ""
             }
            },
            "marker": {
             "colorbar": {
              "outlinewidth": 0,
              "ticks": ""
             }
            },
            "type": "scatter3d"
           }
          ],
          "scattercarpet": [
           {
            "marker": {
             "colorbar": {
              "outlinewidth": 0,
              "ticks": ""
             }
            },
            "type": "scattercarpet"
           }
          ],
          "scattergeo": [
           {
            "marker": {
             "colorbar": {
              "outlinewidth": 0,
              "ticks": ""
             }
            },
            "type": "scattergeo"
           }
          ],
          "scattergl": [
           {
            "marker": {
             "colorbar": {
              "outlinewidth": 0,
              "ticks": ""
             }
            },
            "type": "scattergl"
           }
          ],
          "scattermapbox": [
           {
            "marker": {
             "colorbar": {
              "outlinewidth": 0,
              "ticks": ""
             }
            },
            "type": "scattermapbox"
           }
          ],
          "scatterpolar": [
           {
            "marker": {
             "colorbar": {
              "outlinewidth": 0,
              "ticks": ""
             }
            },
            "type": "scatterpolar"
           }
          ],
          "scatterpolargl": [
           {
            "marker": {
             "colorbar": {
              "outlinewidth": 0,
              "ticks": ""
             }
            },
            "type": "scatterpolargl"
           }
          ],
          "scatterternary": [
           {
            "marker": {
             "colorbar": {
              "outlinewidth": 0,
              "ticks": ""
             }
            },
            "type": "scatterternary"
           }
          ],
          "surface": [
           {
            "colorbar": {
             "outlinewidth": 0,
             "ticks": ""
            },
            "colorscale": [
             [
              0,
              "#0d0887"
             ],
             [
              0.1111111111111111,
              "#46039f"
             ],
             [
              0.2222222222222222,
              "#7201a8"
             ],
             [
              0.3333333333333333,
              "#9c179e"
             ],
             [
              0.4444444444444444,
              "#bd3786"
             ],
             [
              0.5555555555555556,
              "#d8576b"
             ],
             [
              0.6666666666666666,
              "#ed7953"
             ],
             [
              0.7777777777777778,
              "#fb9f3a"
             ],
             [
              0.8888888888888888,
              "#fdca26"
             ],
             [
              1,
              "#f0f921"
             ]
            ],
            "type": "surface"
           }
          ],
          "table": [
           {
            "cells": {
             "fill": {
              "color": "#EBF0F8"
             },
             "line": {
              "color": "white"
             }
            },
            "header": {
             "fill": {
              "color": "#C8D4E3"
             },
             "line": {
              "color": "white"
             }
            },
            "type": "table"
           }
          ]
         },
         "layout": {
          "annotationdefaults": {
           "arrowcolor": "#2a3f5f",
           "arrowhead": 0,
           "arrowwidth": 1
          },
          "autotypenumbers": "strict",
          "coloraxis": {
           "colorbar": {
            "outlinewidth": 0,
            "ticks": ""
           }
          },
          "colorscale": {
           "diverging": [
            [
             0,
             "#8e0152"
            ],
            [
             0.1,
             "#c51b7d"
            ],
            [
             0.2,
             "#de77ae"
            ],
            [
             0.3,
             "#f1b6da"
            ],
            [
             0.4,
             "#fde0ef"
            ],
            [
             0.5,
             "#f7f7f7"
            ],
            [
             0.6,
             "#e6f5d0"
            ],
            [
             0.7,
             "#b8e186"
            ],
            [
             0.8,
             "#7fbc41"
            ],
            [
             0.9,
             "#4d9221"
            ],
            [
             1,
             "#276419"
            ]
           ],
           "sequential": [
            [
             0,
             "#0d0887"
            ],
            [
             0.1111111111111111,
             "#46039f"
            ],
            [
             0.2222222222222222,
             "#7201a8"
            ],
            [
             0.3333333333333333,
             "#9c179e"
            ],
            [
             0.4444444444444444,
             "#bd3786"
            ],
            [
             0.5555555555555556,
             "#d8576b"
            ],
            [
             0.6666666666666666,
             "#ed7953"
            ],
            [
             0.7777777777777778,
             "#fb9f3a"
            ],
            [
             0.8888888888888888,
             "#fdca26"
            ],
            [
             1,
             "#f0f921"
            ]
           ],
           "sequentialminus": [
            [
             0,
             "#0d0887"
            ],
            [
             0.1111111111111111,
             "#46039f"
            ],
            [
             0.2222222222222222,
             "#7201a8"
            ],
            [
             0.3333333333333333,
             "#9c179e"
            ],
            [
             0.4444444444444444,
             "#bd3786"
            ],
            [
             0.5555555555555556,
             "#d8576b"
            ],
            [
             0.6666666666666666,
             "#ed7953"
            ],
            [
             0.7777777777777778,
             "#fb9f3a"
            ],
            [
             0.8888888888888888,
             "#fdca26"
            ],
            [
             1,
             "#f0f921"
            ]
           ]
          },
          "colorway": [
           "#636efa",
           "#EF553B",
           "#00cc96",
           "#ab63fa",
           "#FFA15A",
           "#19d3f3",
           "#FF6692",
           "#B6E880",
           "#FF97FF",
           "#FECB52"
          ],
          "font": {
           "color": "#2a3f5f"
          },
          "geo": {
           "bgcolor": "white",
           "lakecolor": "white",
           "landcolor": "#E5ECF6",
           "showlakes": true,
           "showland": true,
           "subunitcolor": "white"
          },
          "hoverlabel": {
           "align": "left"
          },
          "hovermode": "closest",
          "mapbox": {
           "style": "light"
          },
          "paper_bgcolor": "white",
          "plot_bgcolor": "#E5ECF6",
          "polar": {
           "angularaxis": {
            "gridcolor": "white",
            "linecolor": "white",
            "ticks": ""
           },
           "bgcolor": "#E5ECF6",
           "radialaxis": {
            "gridcolor": "white",
            "linecolor": "white",
            "ticks": ""
           }
          },
          "scene": {
           "xaxis": {
            "backgroundcolor": "#E5ECF6",
            "gridcolor": "white",
            "gridwidth": 2,
            "linecolor": "white",
            "showbackground": true,
            "ticks": "",
            "zerolinecolor": "white"
           },
           "yaxis": {
            "backgroundcolor": "#E5ECF6",
            "gridcolor": "white",
            "gridwidth": 2,
            "linecolor": "white",
            "showbackground": true,
            "ticks": "",
            "zerolinecolor": "white"
           },
           "zaxis": {
            "backgroundcolor": "#E5ECF6",
            "gridcolor": "white",
            "gridwidth": 2,
            "linecolor": "white",
            "showbackground": true,
            "ticks": "",
            "zerolinecolor": "white"
           }
          },
          "shapedefaults": {
           "line": {
            "color": "#2a3f5f"
           }
          },
          "ternary": {
           "aaxis": {
            "gridcolor": "white",
            "linecolor": "white",
            "ticks": ""
           },
           "baxis": {
            "gridcolor": "white",
            "linecolor": "white",
            "ticks": ""
           },
           "bgcolor": "#E5ECF6",
           "caxis": {
            "gridcolor": "white",
            "linecolor": "white",
            "ticks": ""
           }
          },
          "title": {
           "x": 0.05
          },
          "xaxis": {
           "automargin": true,
           "gridcolor": "white",
           "linecolor": "white",
           "ticks": "",
           "title": {
            "standoff": 15
           },
           "zerolinecolor": "white",
           "zerolinewidth": 2
          },
          "yaxis": {
           "automargin": true,
           "gridcolor": "white",
           "linecolor": "white",
           "ticks": "",
           "title": {
            "standoff": 15
           },
           "zerolinecolor": "white",
           "zerolinewidth": 2
          }
         }
        },
        "title": {
         "text": "71 properties are currently On Market for Rent"
        },
        "width": 500,
        "xaxis": {
         "anchor": "y",
         "categoryarray": [
          "1b1b",
          "2b1b",
          "2b2b"
         ],
         "categoryorder": "array",
         "domain": [
          0,
          1
         ],
         "title": {
          "text": "room_type"
         }
        },
        "yaxis": {
         "anchor": "x",
         "domain": [
          0,
          1
         ],
         "title": {
          "text": "price"
         }
        }
       }
      },
      "text/html": [
       "<div>                            <div id=\"16ea20d9-16cb-4229-8d3c-463d33b710e0\" class=\"plotly-graph-div\" style=\"height:400px; width:500px;\"></div>            <script type=\"text/javascript\">                require([\"plotly\"], function(Plotly) {                    window.PLOTLYENV=window.PLOTLYENV || {};                                    if (document.getElementById(\"16ea20d9-16cb-4229-8d3c-463d33b710e0\")) {                    Plotly.newPlot(                        \"16ea20d9-16cb-4229-8d3c-463d33b710e0\",                        [{\"alignmentgroup\": \"True\", \"boxpoints\": \"all\", \"customdata\": [[11, \"14928673\"], [17, \"14915101\"], [30, \"14883178\"], [31, \"14879991\"], [32, \"14877863\"], [34, \"14871156\"], [36, \"14868220\"], [36, \"14868083\"], [43, \"14854777\"], [43, \"14853599\"], [59, \"14811181\"], [99, \"14729672\"], [121, \"14662122\"], [150, \"14590148\"], [151, \"14585512\"]], \"fillcolor\": \"rgba(255,255,255,0)\", \"hoveron\": \"points\", \"hovertemplate\": \"room_type=%{x}<br>price=%{y}<br>up_days=%{customdata[0]}<br>list_id=%{customdata[1]}<extra></extra>\", \"legendgroup\": \"1b1b\", \"line\": {\"color\": \"rgba(255,255,255,0)\"}, \"marker\": {\"color\": \"#636efa\"}, \"name\": \"1b1b\", \"offsetgroup\": \"1b1b\", \"orientation\": \"v\", \"pointpos\": 0, \"showlegend\": true, \"type\": \"box\", \"x\": [\"1b1b\", \"1b1b\", \"1b1b\", \"1b1b\", \"1b1b\", \"1b1b\", \"1b1b\", \"1b1b\", \"1b1b\", \"1b1b\", \"1b1b\", \"1b1b\", \"1b1b\", \"1b1b\", \"1b1b\"], \"x0\": \" \", \"xaxis\": \"x\", \"y\": [380.0, 430.0, 380.0, 400.0, 390.0, 308.0, 430.0, 400.0, 400.0, 390.0, 450.0, 350.0, 345.0, 420.0, 380.0], \"y0\": \" \", \"yaxis\": \"y\"}, {\"alignmentgroup\": \"True\", \"boxpoints\": \"all\", \"customdata\": [[8, \"14940057\"], [16, \"14919124\"], [24, \"14897818\"], [37, \"14867181\"], [42, \"14855089\"], [79, \"14779144\"]], \"fillcolor\": \"rgba(255,255,255,0)\", \"hoveron\": \"points\", \"hovertemplate\": \"room_type=%{x}<br>price=%{y}<br>up_days=%{customdata[0]}<br>list_id=%{customdata[1]}<extra></extra>\", \"legendgroup\": \"2b1b\", \"line\": {\"color\": \"rgba(255,255,255,0)\"}, \"marker\": {\"color\": \"#EF553B\"}, \"name\": \"2b1b\", \"offsetgroup\": \"2b1b\", \"orientation\": \"v\", \"pointpos\": 0, \"showlegend\": true, \"type\": \"box\", \"x\": [\"2b1b\", \"2b1b\", \"2b1b\", \"2b1b\", \"2b1b\", \"2b1b\"], \"x0\": \" \", \"xaxis\": \"x\", \"y\": [550.0, 480.0, 480.0, 460.0, 500.0, 600.0], \"y0\": \" \", \"yaxis\": \"y\"}, {\"alignmentgroup\": \"True\", \"boxpoints\": \"all\", \"customdata\": [[9, \"14936089\"], [11, \"14930793\"], [16, \"14920068\"], [16, \"14917397\"], [17, \"14914813\"], [18, \"14910807\"], [20, \"14906069\"], [20, \"14906056\"], [20, \"14906033\"], [21, \"14905866\"], [21, \"14905858\"], [24, \"14896727\"], [30, \"14883526\"], [30, \"14883039\"], [36, \"14869618\"], [36, \"14868914\"], [37, \"14864460\"], [43, \"14854774\"], [52, \"14830157\"], [54, \"14822799\"], [60, \"14807103\"], [88, \"14757444\"], [103, \"14718152\"], [129, \"14644385\"], [129, \"14644357\"], [131, \"14637261\"], [150, \"14590023\"], [151, \"14587759\"]], \"fillcolor\": \"rgba(255,255,255,0)\", \"hoveron\": \"points\", \"hovertemplate\": \"room_type=%{x}<br>price=%{y}<br>up_days=%{customdata[0]}<br>list_id=%{customdata[1]}<extra></extra>\", \"legendgroup\": \"2b2b\", \"line\": {\"color\": \"rgba(255,255,255,0)\"}, \"marker\": {\"color\": \"#00cc96\"}, \"name\": \"2b2b\", \"offsetgroup\": \"2b2b\", \"orientation\": \"v\", \"pointpos\": 0, \"showlegend\": true, \"type\": \"box\", \"x\": [\"2b2b\", \"2b2b\", \"2b2b\", \"2b2b\", \"2b2b\", \"2b2b\", \"2b2b\", \"2b2b\", \"2b2b\", \"2b2b\", \"2b2b\", \"2b2b\", \"2b2b\", \"2b2b\", \"2b2b\", \"2b2b\", \"2b2b\", \"2b2b\", \"2b2b\", \"2b2b\", \"2b2b\", \"2b2b\", \"2b2b\", \"2b2b\", \"2b2b\", \"2b2b\", \"2b2b\", \"2b2b\"], \"x0\": \" \", \"xaxis\": \"x\", \"y\": [600.0, 600.0, 650.0, 550.0, 650.0, 650.0, 650.0, 630.0, 650.0, 620.0, 580.0, 650.0, 560.0, 600.0, 550.0, 650.0, 650.0, 650.0, 600.0, 600.0, 680.0, 560.0, 580.0, 550.0, 550.0, 550.0, 650.0, 450.0], \"y0\": \" \", \"yaxis\": \"y\"}],                        {\"boxmode\": \"overlay\", \"height\": 400, \"legend\": {\"title\": {\"text\": \"room_type\"}, \"tracegroupgap\": 0}, \"showlegend\": false, \"template\": {\"data\": {\"bar\": [{\"error_x\": {\"color\": \"#2a3f5f\"}, \"error_y\": {\"color\": \"#2a3f5f\"}, \"marker\": {\"line\": {\"color\": \"#E5ECF6\", \"width\": 0.5}}, \"type\": \"bar\"}], \"barpolar\": [{\"marker\": {\"line\": {\"color\": \"#E5ECF6\", \"width\": 0.5}}, \"type\": \"barpolar\"}], \"carpet\": [{\"aaxis\": {\"endlinecolor\": \"#2a3f5f\", \"gridcolor\": \"white\", \"linecolor\": \"white\", \"minorgridcolor\": \"white\", \"startlinecolor\": \"#2a3f5f\"}, \"baxis\": {\"endlinecolor\": \"#2a3f5f\", \"gridcolor\": \"white\", \"linecolor\": \"white\", \"minorgridcolor\": \"white\", \"startlinecolor\": \"#2a3f5f\"}, \"type\": \"carpet\"}], \"choropleth\": [{\"colorbar\": {\"outlinewidth\": 0, \"ticks\": \"\"}, \"type\": \"choropleth\"}], \"contour\": [{\"colorbar\": {\"outlinewidth\": 0, \"ticks\": \"\"}, \"colorscale\": [[0.0, \"#0d0887\"], [0.1111111111111111, \"#46039f\"], [0.2222222222222222, \"#7201a8\"], [0.3333333333333333, \"#9c179e\"], [0.4444444444444444, \"#bd3786\"], [0.5555555555555556, \"#d8576b\"], [0.6666666666666666, \"#ed7953\"], [0.7777777777777778, \"#fb9f3a\"], [0.8888888888888888, \"#fdca26\"], [1.0, \"#f0f921\"]], \"type\": \"contour\"}], \"contourcarpet\": [{\"colorbar\": {\"outlinewidth\": 0, \"ticks\": \"\"}, \"type\": \"contourcarpet\"}], \"heatmap\": [{\"colorbar\": {\"outlinewidth\": 0, \"ticks\": \"\"}, \"colorscale\": [[0.0, \"#0d0887\"], [0.1111111111111111, \"#46039f\"], [0.2222222222222222, \"#7201a8\"], [0.3333333333333333, \"#9c179e\"], [0.4444444444444444, \"#bd3786\"], [0.5555555555555556, \"#d8576b\"], [0.6666666666666666, \"#ed7953\"], [0.7777777777777778, \"#fb9f3a\"], [0.8888888888888888, \"#fdca26\"], [1.0, \"#f0f921\"]], \"type\": \"heatmap\"}], \"heatmapgl\": [{\"colorbar\": {\"outlinewidth\": 0, \"ticks\": \"\"}, \"colorscale\": [[0.0, \"#0d0887\"], [0.1111111111111111, \"#46039f\"], [0.2222222222222222, \"#7201a8\"], [0.3333333333333333, \"#9c179e\"], [0.4444444444444444, \"#bd3786\"], [0.5555555555555556, \"#d8576b\"], [0.6666666666666666, \"#ed7953\"], [0.7777777777777778, \"#fb9f3a\"], [0.8888888888888888, \"#fdca26\"], [1.0, \"#f0f921\"]], \"type\": \"heatmapgl\"}], \"histogram\": [{\"marker\": {\"colorbar\": {\"outlinewidth\": 0, \"ticks\": \"\"}}, \"type\": \"histogram\"}], \"histogram2d\": [{\"colorbar\": {\"outlinewidth\": 0, \"ticks\": \"\"}, \"colorscale\": [[0.0, \"#0d0887\"], [0.1111111111111111, \"#46039f\"], [0.2222222222222222, \"#7201a8\"], [0.3333333333333333, \"#9c179e\"], [0.4444444444444444, \"#bd3786\"], [0.5555555555555556, \"#d8576b\"], [0.6666666666666666, \"#ed7953\"], [0.7777777777777778, \"#fb9f3a\"], [0.8888888888888888, \"#fdca26\"], [1.0, \"#f0f921\"]], \"type\": \"histogram2d\"}], \"histogram2dcontour\": [{\"colorbar\": {\"outlinewidth\": 0, \"ticks\": \"\"}, \"colorscale\": [[0.0, \"#0d0887\"], [0.1111111111111111, \"#46039f\"], [0.2222222222222222, \"#7201a8\"], [0.3333333333333333, \"#9c179e\"], [0.4444444444444444, \"#bd3786\"], [0.5555555555555556, \"#d8576b\"], [0.6666666666666666, \"#ed7953\"], [0.7777777777777778, \"#fb9f3a\"], [0.8888888888888888, \"#fdca26\"], [1.0, \"#f0f921\"]], \"type\": \"histogram2dcontour\"}], \"mesh3d\": [{\"colorbar\": {\"outlinewidth\": 0, \"ticks\": \"\"}, \"type\": \"mesh3d\"}], \"parcoords\": [{\"line\": {\"colorbar\": {\"outlinewidth\": 0, \"ticks\": \"\"}}, \"type\": \"parcoords\"}], \"pie\": [{\"automargin\": true, \"type\": \"pie\"}], \"scatter\": [{\"marker\": {\"colorbar\": {\"outlinewidth\": 0, \"ticks\": \"\"}}, \"type\": \"scatter\"}], \"scatter3d\": [{\"line\": {\"colorbar\": {\"outlinewidth\": 0, \"ticks\": \"\"}}, \"marker\": {\"colorbar\": {\"outlinewidth\": 0, \"ticks\": \"\"}}, \"type\": \"scatter3d\"}], \"scattercarpet\": [{\"marker\": {\"colorbar\": {\"outlinewidth\": 0, \"ticks\": \"\"}}, \"type\": \"scattercarpet\"}], \"scattergeo\": [{\"marker\": {\"colorbar\": {\"outlinewidth\": 0, \"ticks\": \"\"}}, \"type\": \"scattergeo\"}], \"scattergl\": [{\"marker\": {\"colorbar\": {\"outlinewidth\": 0, \"ticks\": \"\"}}, \"type\": \"scattergl\"}], \"scattermapbox\": [{\"marker\": {\"colorbar\": {\"outlinewidth\": 0, \"ticks\": \"\"}}, \"type\": \"scattermapbox\"}], \"scatterpolar\": [{\"marker\": {\"colorbar\": {\"outlinewidth\": 0, \"ticks\": \"\"}}, \"type\": \"scatterpolar\"}], \"scatterpolargl\": [{\"marker\": {\"colorbar\": {\"outlinewidth\": 0, \"ticks\": \"\"}}, \"type\": \"scatterpolargl\"}], \"scatterternary\": [{\"marker\": {\"colorbar\": {\"outlinewidth\": 0, \"ticks\": \"\"}}, \"type\": \"scatterternary\"}], \"surface\": [{\"colorbar\": {\"outlinewidth\": 0, \"ticks\": \"\"}, \"colorscale\": [[0.0, \"#0d0887\"], [0.1111111111111111, \"#46039f\"], [0.2222222222222222, \"#7201a8\"], [0.3333333333333333, \"#9c179e\"], [0.4444444444444444, \"#bd3786\"], [0.5555555555555556, \"#d8576b\"], [0.6666666666666666, \"#ed7953\"], [0.7777777777777778, \"#fb9f3a\"], [0.8888888888888888, \"#fdca26\"], [1.0, \"#f0f921\"]], \"type\": \"surface\"}], \"table\": [{\"cells\": {\"fill\": {\"color\": \"#EBF0F8\"}, \"line\": {\"color\": \"white\"}}, \"header\": {\"fill\": {\"color\": \"#C8D4E3\"}, \"line\": {\"color\": \"white\"}}, \"type\": \"table\"}]}, \"layout\": {\"annotationdefaults\": {\"arrowcolor\": \"#2a3f5f\", \"arrowhead\": 0, \"arrowwidth\": 1}, \"autotypenumbers\": \"strict\", \"coloraxis\": {\"colorbar\": {\"outlinewidth\": 0, \"ticks\": \"\"}}, \"colorscale\": {\"diverging\": [[0, \"#8e0152\"], [0.1, \"#c51b7d\"], [0.2, \"#de77ae\"], [0.3, \"#f1b6da\"], [0.4, \"#fde0ef\"], [0.5, \"#f7f7f7\"], [0.6, \"#e6f5d0\"], [0.7, \"#b8e186\"], [0.8, \"#7fbc41\"], [0.9, \"#4d9221\"], [1, \"#276419\"]], \"sequential\": [[0.0, \"#0d0887\"], [0.1111111111111111, \"#46039f\"], [0.2222222222222222, \"#7201a8\"], [0.3333333333333333, \"#9c179e\"], [0.4444444444444444, \"#bd3786\"], [0.5555555555555556, \"#d8576b\"], [0.6666666666666666, \"#ed7953\"], [0.7777777777777778, \"#fb9f3a\"], [0.8888888888888888, \"#fdca26\"], [1.0, \"#f0f921\"]], \"sequentialminus\": [[0.0, \"#0d0887\"], [0.1111111111111111, \"#46039f\"], [0.2222222222222222, \"#7201a8\"], [0.3333333333333333, \"#9c179e\"], [0.4444444444444444, \"#bd3786\"], [0.5555555555555556, \"#d8576b\"], [0.6666666666666666, \"#ed7953\"], [0.7777777777777778, \"#fb9f3a\"], [0.8888888888888888, \"#fdca26\"], [1.0, \"#f0f921\"]]}, \"colorway\": [\"#636efa\", \"#EF553B\", \"#00cc96\", \"#ab63fa\", \"#FFA15A\", \"#19d3f3\", \"#FF6692\", \"#B6E880\", \"#FF97FF\", \"#FECB52\"], \"font\": {\"color\": \"#2a3f5f\"}, \"geo\": {\"bgcolor\": \"white\", \"lakecolor\": \"white\", \"landcolor\": \"#E5ECF6\", \"showlakes\": true, \"showland\": true, \"subunitcolor\": \"white\"}, \"hoverlabel\": {\"align\": \"left\"}, \"hovermode\": \"closest\", \"mapbox\": {\"style\": \"light\"}, \"paper_bgcolor\": \"white\", \"plot_bgcolor\": \"#E5ECF6\", \"polar\": {\"angularaxis\": {\"gridcolor\": \"white\", \"linecolor\": \"white\", \"ticks\": \"\"}, \"bgcolor\": \"#E5ECF6\", \"radialaxis\": {\"gridcolor\": \"white\", \"linecolor\": \"white\", \"ticks\": \"\"}}, \"scene\": {\"xaxis\": {\"backgroundcolor\": \"#E5ECF6\", \"gridcolor\": \"white\", \"gridwidth\": 2, \"linecolor\": \"white\", \"showbackground\": true, \"ticks\": \"\", \"zerolinecolor\": \"white\"}, \"yaxis\": {\"backgroundcolor\": \"#E5ECF6\", \"gridcolor\": \"white\", \"gridwidth\": 2, \"linecolor\": \"white\", \"showbackground\": true, \"ticks\": \"\", \"zerolinecolor\": \"white\"}, \"zaxis\": {\"backgroundcolor\": \"#E5ECF6\", \"gridcolor\": \"white\", \"gridwidth\": 2, \"linecolor\": \"white\", \"showbackground\": true, \"ticks\": \"\", \"zerolinecolor\": \"white\"}}, \"shapedefaults\": {\"line\": {\"color\": \"#2a3f5f\"}}, \"ternary\": {\"aaxis\": {\"gridcolor\": \"white\", \"linecolor\": \"white\", \"ticks\": \"\"}, \"baxis\": {\"gridcolor\": \"white\", \"linecolor\": \"white\", \"ticks\": \"\"}, \"bgcolor\": \"#E5ECF6\", \"caxis\": {\"gridcolor\": \"white\", \"linecolor\": \"white\", \"ticks\": \"\"}}, \"title\": {\"x\": 0.05}, \"xaxis\": {\"automargin\": true, \"gridcolor\": \"white\", \"linecolor\": \"white\", \"ticks\": \"\", \"title\": {\"standoff\": 15}, \"zerolinecolor\": \"white\", \"zerolinewidth\": 2}, \"yaxis\": {\"automargin\": true, \"gridcolor\": \"white\", \"linecolor\": \"white\", \"ticks\": \"\", \"title\": {\"standoff\": 15}, \"zerolinecolor\": \"white\", \"zerolinewidth\": 2}}}, \"title\": {\"text\": \"71 properties are currently On Market for Rent\"}, \"width\": 500, \"xaxis\": {\"anchor\": \"y\", \"categoryarray\": [\"1b1b\", \"2b1b\", \"2b2b\"], \"categoryorder\": \"array\", \"domain\": [0.0, 1.0], \"title\": {\"text\": \"room_type\"}}, \"yaxis\": {\"anchor\": \"x\", \"domain\": [0.0, 1.0], \"title\": {\"text\": \"price\"}}},                        {\"responsive\": true}                    ).then(function(){\n",
       "                            \n",
       "var gd = document.getElementById('16ea20d9-16cb-4229-8d3c-463d33b710e0');\n",
       "var x = new MutationObserver(function (mutations, observer) {{\n",
       "        var display = window.getComputedStyle(gd).display;\n",
       "        if (!display || display === 'none') {{\n",
       "            console.log([gd, 'removed!']);\n",
       "            Plotly.purge(gd);\n",
       "            observer.disconnect();\n",
       "        }}\n",
       "}});\n",
       "\n",
       "// Listen for the removal of the full notebook cells\n",
       "var notebookContainer = gd.closest('#notebook-container');\n",
       "if (notebookContainer) {{\n",
       "    x.observe(notebookContainer, {childList: true});\n",
       "}}\n",
       "\n",
       "// Listen for the clearing of the current output cell\n",
       "var outputEl = gd.closest('.output');\n",
       "if (outputEl) {{\n",
       "    x.observe(outputEl, {childList: true});\n",
       "}}\n",
       "\n",
       "                        })                };                });            </script>        </div>"
      ]
     },
     "metadata": {},
     "output_type": "display_data"
    },
    {
     "data": {
      "application/vnd.plotly.v1+json": {
       "config": {
        "plotlyServerURL": "https://plot.ly"
       },
       "data": [
        {
         "colorscale": [
          [
           0,
           "#00083e"
          ],
          [
           0.5,
           "#ededee"
          ],
          [
           1,
           "#ffffff"
          ]
         ],
         "hoverinfo": "none",
         "opacity": 0.75,
         "showscale": false,
         "type": "heatmap",
         "z": [
          [
           0,
           0,
           0,
           0,
           0,
           0
          ],
          [
           0.5,
           0.5,
           0.5,
           0.5,
           0.5,
           0.5
          ],
          [
           1,
           1,
           1,
           1,
           1,
           1
          ],
          [
           0.5,
           0.5,
           0.5,
           0.5,
           0.5,
           0.5
          ]
         ]
        }
       ],
       "layout": {
        "annotations": [
         {
          "align": "left",
          "font": {
           "color": "#ffffff"
          },
          "showarrow": false,
          "text": "<b>room<br>type</b>",
          "x": -0.45,
          "xanchor": "left",
          "xref": "x",
          "y": 0,
          "yref": "y"
         },
         {
          "align": "left",
          "font": {
           "color": "#ffffff"
          },
          "showarrow": false,
          "text": "<b>on market<br>count</b>",
          "x": 0.55,
          "xanchor": "left",
          "xref": "x",
          "y": 0,
          "yref": "y"
         },
         {
          "align": "left",
          "font": {
           "color": "#ffffff"
          },
          "showarrow": false,
          "text": "<b>median<br>price(pw)</b>",
          "x": 1.55,
          "xanchor": "left",
          "xref": "x",
          "y": 0,
          "yref": "y"
         },
         {
          "align": "left",
          "font": {
           "color": "#ffffff"
          },
          "showarrow": false,
          "text": "<b>lowest<br>price</b>",
          "x": 2.55,
          "xanchor": "left",
          "xref": "x",
          "y": 0,
          "yref": "y"
         },
         {
          "align": "left",
          "font": {
           "color": "#ffffff"
          },
          "showarrow": false,
          "text": "<b>highest<br>price</b>",
          "x": 3.55,
          "xanchor": "left",
          "xref": "x",
          "y": 0,
          "yref": "y"
         },
         {
          "align": "left",
          "font": {
           "color": "#ffffff"
          },
          "showarrow": false,
          "text": "<b>standard<br>deviation</b>",
          "x": 4.55,
          "xanchor": "left",
          "xref": "x",
          "y": 0,
          "yref": "y"
         },
         {
          "align": "left",
          "font": {
           "color": "#000000"
          },
          "showarrow": false,
          "text": "1b1b",
          "x": -0.45,
          "xanchor": "left",
          "xref": "x",
          "y": 1,
          "yref": "y"
         },
         {
          "align": "left",
          "font": {
           "color": "#000000"
          },
          "showarrow": false,
          "text": "15",
          "x": 0.55,
          "xanchor": "left",
          "xref": "x",
          "y": 1,
          "yref": "y"
         },
         {
          "align": "left",
          "font": {
           "color": "#000000"
          },
          "showarrow": false,
          "text": "$390.0",
          "x": 1.55,
          "xanchor": "left",
          "xref": "x",
          "y": 1,
          "yref": "y"
         },
         {
          "align": "left",
          "font": {
           "color": "#000000"
          },
          "showarrow": false,
          "text": "$308.0",
          "x": 2.55,
          "xanchor": "left",
          "xref": "x",
          "y": 1,
          "yref": "y"
         },
         {
          "align": "left",
          "font": {
           "color": "#000000"
          },
          "showarrow": false,
          "text": "$450.0",
          "x": 3.55,
          "xanchor": "left",
          "xref": "x",
          "y": 1,
          "yref": "y"
         },
         {
          "align": "left",
          "font": {
           "color": "#000000"
          },
          "showarrow": false,
          "text": "$36.5",
          "x": 4.55,
          "xanchor": "left",
          "xref": "x",
          "y": 1,
          "yref": "y"
         },
         {
          "align": "left",
          "font": {
           "color": "#000000"
          },
          "showarrow": false,
          "text": "2b1b",
          "x": -0.45,
          "xanchor": "left",
          "xref": "x",
          "y": 2,
          "yref": "y"
         },
         {
          "align": "left",
          "font": {
           "color": "#000000"
          },
          "showarrow": false,
          "text": "6",
          "x": 0.55,
          "xanchor": "left",
          "xref": "x",
          "y": 2,
          "yref": "y"
         },
         {
          "align": "left",
          "font": {
           "color": "#000000"
          },
          "showarrow": false,
          "text": "$490.0",
          "x": 1.55,
          "xanchor": "left",
          "xref": "x",
          "y": 2,
          "yref": "y"
         },
         {
          "align": "left",
          "font": {
           "color": "#000000"
          },
          "showarrow": false,
          "text": "$460.0",
          "x": 2.55,
          "xanchor": "left",
          "xref": "x",
          "y": 2,
          "yref": "y"
         },
         {
          "align": "left",
          "font": {
           "color": "#000000"
          },
          "showarrow": false,
          "text": "$600.0",
          "x": 3.55,
          "xanchor": "left",
          "xref": "x",
          "y": 2,
          "yref": "y"
         },
         {
          "align": "left",
          "font": {
           "color": "#000000"
          },
          "showarrow": false,
          "text": "$53.07",
          "x": 4.55,
          "xanchor": "left",
          "xref": "x",
          "y": 2,
          "yref": "y"
         },
         {
          "align": "left",
          "font": {
           "color": "#000000"
          },
          "showarrow": false,
          "text": "2b2b",
          "x": -0.45,
          "xanchor": "left",
          "xref": "x",
          "y": 3,
          "yref": "y"
         },
         {
          "align": "left",
          "font": {
           "color": "#000000"
          },
          "showarrow": false,
          "text": "28",
          "x": 0.55,
          "xanchor": "left",
          "xref": "x",
          "y": 3,
          "yref": "y"
         },
         {
          "align": "left",
          "font": {
           "color": "#000000"
          },
          "showarrow": false,
          "text": "$600.0",
          "x": 1.55,
          "xanchor": "left",
          "xref": "x",
          "y": 3,
          "yref": "y"
         },
         {
          "align": "left",
          "font": {
           "color": "#000000"
          },
          "showarrow": false,
          "text": "$450.0",
          "x": 2.55,
          "xanchor": "left",
          "xref": "x",
          "y": 3,
          "yref": "y"
         },
         {
          "align": "left",
          "font": {
           "color": "#000000"
          },
          "showarrow": false,
          "text": "$680.0",
          "x": 3.55,
          "xanchor": "left",
          "xref": "x",
          "y": 3,
          "yref": "y"
         },
         {
          "align": "left",
          "font": {
           "color": "#000000"
          },
          "showarrow": false,
          "text": "$51.38",
          "x": 4.55,
          "xanchor": "left",
          "xref": "x",
          "y": 3,
          "yref": "y"
         }
        ],
        "height": 290,
        "margin": {
         "b": 0,
         "l": 0,
         "r": 0,
         "t": 0
        },
        "template": {
         "data": {
          "bar": [
           {
            "error_x": {
             "color": "#2a3f5f"
            },
            "error_y": {
             "color": "#2a3f5f"
            },
            "marker": {
             "line": {
              "color": "#E5ECF6",
              "width": 0.5
             }
            },
            "type": "bar"
           }
          ],
          "barpolar": [
           {
            "marker": {
             "line": {
              "color": "#E5ECF6",
              "width": 0.5
             }
            },
            "type": "barpolar"
           }
          ],
          "carpet": [
           {
            "aaxis": {
             "endlinecolor": "#2a3f5f",
             "gridcolor": "white",
             "linecolor": "white",
             "minorgridcolor": "white",
             "startlinecolor": "#2a3f5f"
            },
            "baxis": {
             "endlinecolor": "#2a3f5f",
             "gridcolor": "white",
             "linecolor": "white",
             "minorgridcolor": "white",
             "startlinecolor": "#2a3f5f"
            },
            "type": "carpet"
           }
          ],
          "choropleth": [
           {
            "colorbar": {
             "outlinewidth": 0,
             "ticks": ""
            },
            "type": "choropleth"
           }
          ],
          "contour": [
           {
            "colorbar": {
             "outlinewidth": 0,
             "ticks": ""
            },
            "colorscale": [
             [
              0,
              "#0d0887"
             ],
             [
              0.1111111111111111,
              "#46039f"
             ],
             [
              0.2222222222222222,
              "#7201a8"
             ],
             [
              0.3333333333333333,
              "#9c179e"
             ],
             [
              0.4444444444444444,
              "#bd3786"
             ],
             [
              0.5555555555555556,
              "#d8576b"
             ],
             [
              0.6666666666666666,
              "#ed7953"
             ],
             [
              0.7777777777777778,
              "#fb9f3a"
             ],
             [
              0.8888888888888888,
              "#fdca26"
             ],
             [
              1,
              "#f0f921"
             ]
            ],
            "type": "contour"
           }
          ],
          "contourcarpet": [
           {
            "colorbar": {
             "outlinewidth": 0,
             "ticks": ""
            },
            "type": "contourcarpet"
           }
          ],
          "heatmap": [
           {
            "colorbar": {
             "outlinewidth": 0,
             "ticks": ""
            },
            "colorscale": [
             [
              0,
              "#0d0887"
             ],
             [
              0.1111111111111111,
              "#46039f"
             ],
             [
              0.2222222222222222,
              "#7201a8"
             ],
             [
              0.3333333333333333,
              "#9c179e"
             ],
             [
              0.4444444444444444,
              "#bd3786"
             ],
             [
              0.5555555555555556,
              "#d8576b"
             ],
             [
              0.6666666666666666,
              "#ed7953"
             ],
             [
              0.7777777777777778,
              "#fb9f3a"
             ],
             [
              0.8888888888888888,
              "#fdca26"
             ],
             [
              1,
              "#f0f921"
             ]
            ],
            "type": "heatmap"
           }
          ],
          "heatmapgl": [
           {
            "colorbar": {
             "outlinewidth": 0,
             "ticks": ""
            },
            "colorscale": [
             [
              0,
              "#0d0887"
             ],
             [
              0.1111111111111111,
              "#46039f"
             ],
             [
              0.2222222222222222,
              "#7201a8"
             ],
             [
              0.3333333333333333,
              "#9c179e"
             ],
             [
              0.4444444444444444,
              "#bd3786"
             ],
             [
              0.5555555555555556,
              "#d8576b"
             ],
             [
              0.6666666666666666,
              "#ed7953"
             ],
             [
              0.7777777777777778,
              "#fb9f3a"
             ],
             [
              0.8888888888888888,
              "#fdca26"
             ],
             [
              1,
              "#f0f921"
             ]
            ],
            "type": "heatmapgl"
           }
          ],
          "histogram": [
           {
            "marker": {
             "colorbar": {
              "outlinewidth": 0,
              "ticks": ""
             }
            },
            "type": "histogram"
           }
          ],
          "histogram2d": [
           {
            "colorbar": {
             "outlinewidth": 0,
             "ticks": ""
            },
            "colorscale": [
             [
              0,
              "#0d0887"
             ],
             [
              0.1111111111111111,
              "#46039f"
             ],
             [
              0.2222222222222222,
              "#7201a8"
             ],
             [
              0.3333333333333333,
              "#9c179e"
             ],
             [
              0.4444444444444444,
              "#bd3786"
             ],
             [
              0.5555555555555556,
              "#d8576b"
             ],
             [
              0.6666666666666666,
              "#ed7953"
             ],
             [
              0.7777777777777778,
              "#fb9f3a"
             ],
             [
              0.8888888888888888,
              "#fdca26"
             ],
             [
              1,
              "#f0f921"
             ]
            ],
            "type": "histogram2d"
           }
          ],
          "histogram2dcontour": [
           {
            "colorbar": {
             "outlinewidth": 0,
             "ticks": ""
            },
            "colorscale": [
             [
              0,
              "#0d0887"
             ],
             [
              0.1111111111111111,
              "#46039f"
             ],
             [
              0.2222222222222222,
              "#7201a8"
             ],
             [
              0.3333333333333333,
              "#9c179e"
             ],
             [
              0.4444444444444444,
              "#bd3786"
             ],
             [
              0.5555555555555556,
              "#d8576b"
             ],
             [
              0.6666666666666666,
              "#ed7953"
             ],
             [
              0.7777777777777778,
              "#fb9f3a"
             ],
             [
              0.8888888888888888,
              "#fdca26"
             ],
             [
              1,
              "#f0f921"
             ]
            ],
            "type": "histogram2dcontour"
           }
          ],
          "mesh3d": [
           {
            "colorbar": {
             "outlinewidth": 0,
             "ticks": ""
            },
            "type": "mesh3d"
           }
          ],
          "parcoords": [
           {
            "line": {
             "colorbar": {
              "outlinewidth": 0,
              "ticks": ""
             }
            },
            "type": "parcoords"
           }
          ],
          "pie": [
           {
            "automargin": true,
            "type": "pie"
           }
          ],
          "scatter": [
           {
            "marker": {
             "colorbar": {
              "outlinewidth": 0,
              "ticks": ""
             }
            },
            "type": "scatter"
           }
          ],
          "scatter3d": [
           {
            "line": {
             "colorbar": {
              "outlinewidth": 0,
              "ticks": ""
             }
            },
            "marker": {
             "colorbar": {
              "outlinewidth": 0,
              "ticks": ""
             }
            },
            "type": "scatter3d"
           }
          ],
          "scattercarpet": [
           {
            "marker": {
             "colorbar": {
              "outlinewidth": 0,
              "ticks": ""
             }
            },
            "type": "scattercarpet"
           }
          ],
          "scattergeo": [
           {
            "marker": {
             "colorbar": {
              "outlinewidth": 0,
              "ticks": ""
             }
            },
            "type": "scattergeo"
           }
          ],
          "scattergl": [
           {
            "marker": {
             "colorbar": {
              "outlinewidth": 0,
              "ticks": ""
             }
            },
            "type": "scattergl"
           }
          ],
          "scattermapbox": [
           {
            "marker": {
             "colorbar": {
              "outlinewidth": 0,
              "ticks": ""
             }
            },
            "type": "scattermapbox"
           }
          ],
          "scatterpolar": [
           {
            "marker": {
             "colorbar": {
              "outlinewidth": 0,
              "ticks": ""
             }
            },
            "type": "scatterpolar"
           }
          ],
          "scatterpolargl": [
           {
            "marker": {
             "colorbar": {
              "outlinewidth": 0,
              "ticks": ""
             }
            },
            "type": "scatterpolargl"
           }
          ],
          "scatterternary": [
           {
            "marker": {
             "colorbar": {
              "outlinewidth": 0,
              "ticks": ""
             }
            },
            "type": "scatterternary"
           }
          ],
          "surface": [
           {
            "colorbar": {
             "outlinewidth": 0,
             "ticks": ""
            },
            "colorscale": [
             [
              0,
              "#0d0887"
             ],
             [
              0.1111111111111111,
              "#46039f"
             ],
             [
              0.2222222222222222,
              "#7201a8"
             ],
             [
              0.3333333333333333,
              "#9c179e"
             ],
             [
              0.4444444444444444,
              "#bd3786"
             ],
             [
              0.5555555555555556,
              "#d8576b"
             ],
             [
              0.6666666666666666,
              "#ed7953"
             ],
             [
              0.7777777777777778,
              "#fb9f3a"
             ],
             [
              0.8888888888888888,
              "#fdca26"
             ],
             [
              1,
              "#f0f921"
             ]
            ],
            "type": "surface"
           }
          ],
          "table": [
           {
            "cells": {
             "fill": {
              "color": "#EBF0F8"
             },
             "line": {
              "color": "white"
             }
            },
            "header": {
             "fill": {
              "color": "#C8D4E3"
             },
             "line": {
              "color": "white"
             }
            },
            "type": "table"
           }
          ]
         },
         "layout": {
          "annotationdefaults": {
           "arrowcolor": "#2a3f5f",
           "arrowhead": 0,
           "arrowwidth": 1
          },
          "autotypenumbers": "strict",
          "coloraxis": {
           "colorbar": {
            "outlinewidth": 0,
            "ticks": ""
           }
          },
          "colorscale": {
           "diverging": [
            [
             0,
             "#8e0152"
            ],
            [
             0.1,
             "#c51b7d"
            ],
            [
             0.2,
             "#de77ae"
            ],
            [
             0.3,
             "#f1b6da"
            ],
            [
             0.4,
             "#fde0ef"
            ],
            [
             0.5,
             "#f7f7f7"
            ],
            [
             0.6,
             "#e6f5d0"
            ],
            [
             0.7,
             "#b8e186"
            ],
            [
             0.8,
             "#7fbc41"
            ],
            [
             0.9,
             "#4d9221"
            ],
            [
             1,
             "#276419"
            ]
           ],
           "sequential": [
            [
             0,
             "#0d0887"
            ],
            [
             0.1111111111111111,
             "#46039f"
            ],
            [
             0.2222222222222222,
             "#7201a8"
            ],
            [
             0.3333333333333333,
             "#9c179e"
            ],
            [
             0.4444444444444444,
             "#bd3786"
            ],
            [
             0.5555555555555556,
             "#d8576b"
            ],
            [
             0.6666666666666666,
             "#ed7953"
            ],
            [
             0.7777777777777778,
             "#fb9f3a"
            ],
            [
             0.8888888888888888,
             "#fdca26"
            ],
            [
             1,
             "#f0f921"
            ]
           ],
           "sequentialminus": [
            [
             0,
             "#0d0887"
            ],
            [
             0.1111111111111111,
             "#46039f"
            ],
            [
             0.2222222222222222,
             "#7201a8"
            ],
            [
             0.3333333333333333,
             "#9c179e"
            ],
            [
             0.4444444444444444,
             "#bd3786"
            ],
            [
             0.5555555555555556,
             "#d8576b"
            ],
            [
             0.6666666666666666,
             "#ed7953"
            ],
            [
             0.7777777777777778,
             "#fb9f3a"
            ],
            [
             0.8888888888888888,
             "#fdca26"
            ],
            [
             1,
             "#f0f921"
            ]
           ]
          },
          "colorway": [
           "#636efa",
           "#EF553B",
           "#00cc96",
           "#ab63fa",
           "#FFA15A",
           "#19d3f3",
           "#FF6692",
           "#B6E880",
           "#FF97FF",
           "#FECB52"
          ],
          "font": {
           "color": "#2a3f5f"
          },
          "geo": {
           "bgcolor": "white",
           "lakecolor": "white",
           "landcolor": "#E5ECF6",
           "showlakes": true,
           "showland": true,
           "subunitcolor": "white"
          },
          "hoverlabel": {
           "align": "left"
          },
          "hovermode": "closest",
          "mapbox": {
           "style": "light"
          },
          "paper_bgcolor": "white",
          "plot_bgcolor": "#E5ECF6",
          "polar": {
           "angularaxis": {
            "gridcolor": "white",
            "linecolor": "white",
            "ticks": ""
           },
           "bgcolor": "#E5ECF6",
           "radialaxis": {
            "gridcolor": "white",
            "linecolor": "white",
            "ticks": ""
           }
          },
          "scene": {
           "xaxis": {
            "backgroundcolor": "#E5ECF6",
            "gridcolor": "white",
            "gridwidth": 2,
            "linecolor": "white",
            "showbackground": true,
            "ticks": "",
            "zerolinecolor": "white"
           },
           "yaxis": {
            "backgroundcolor": "#E5ECF6",
            "gridcolor": "white",
            "gridwidth": 2,
            "linecolor": "white",
            "showbackground": true,
            "ticks": "",
            "zerolinecolor": "white"
           },
           "zaxis": {
            "backgroundcolor": "#E5ECF6",
            "gridcolor": "white",
            "gridwidth": 2,
            "linecolor": "white",
            "showbackground": true,
            "ticks": "",
            "zerolinecolor": "white"
           }
          },
          "shapedefaults": {
           "line": {
            "color": "#2a3f5f"
           }
          },
          "ternary": {
           "aaxis": {
            "gridcolor": "white",
            "linecolor": "white",
            "ticks": ""
           },
           "baxis": {
            "gridcolor": "white",
            "linecolor": "white",
            "ticks": ""
           },
           "bgcolor": "#E5ECF6",
           "caxis": {
            "gridcolor": "white",
            "linecolor": "white",
            "ticks": ""
           }
          },
          "title": {
           "x": 0.05
          },
          "xaxis": {
           "automargin": true,
           "gridcolor": "white",
           "linecolor": "white",
           "ticks": "",
           "title": {
            "standoff": 15
           },
           "zerolinecolor": "white",
           "zerolinewidth": 2
          },
          "yaxis": {
           "automargin": true,
           "gridcolor": "white",
           "linecolor": "white",
           "ticks": "",
           "title": {
            "standoff": 15
           },
           "zerolinecolor": "white",
           "zerolinewidth": 2
          }
         }
        },
        "width": 500,
        "xaxis": {
         "dtick": 1,
         "gridwidth": 2,
         "showticklabels": false,
         "tick0": -0.5,
         "ticks": "",
         "zeroline": false
        },
        "yaxis": {
         "autorange": "reversed",
         "dtick": 1,
         "gridwidth": 2,
         "showticklabels": false,
         "tick0": 0.5,
         "ticks": "",
         "zeroline": false
        }
       }
      },
      "text/html": [
       "<div>                            <div id=\"3f38a6b5-a77f-4c90-b852-81ec40f1ed57\" class=\"plotly-graph-div\" style=\"height:290px; width:500px;\"></div>            <script type=\"text/javascript\">                require([\"plotly\"], function(Plotly) {                    window.PLOTLYENV=window.PLOTLYENV || {};                                    if (document.getElementById(\"3f38a6b5-a77f-4c90-b852-81ec40f1ed57\")) {                    Plotly.newPlot(                        \"3f38a6b5-a77f-4c90-b852-81ec40f1ed57\",                        [{\"colorscale\": [[0, \"#00083e\"], [0.5, \"#ededee\"], [1, \"#ffffff\"]], \"hoverinfo\": \"none\", \"opacity\": 0.75, \"showscale\": false, \"type\": \"heatmap\", \"z\": [[0, 0, 0, 0, 0, 0], [0.5, 0.5, 0.5, 0.5, 0.5, 0.5], [1, 1, 1, 1, 1, 1], [0.5, 0.5, 0.5, 0.5, 0.5, 0.5]]}],                        {\"annotations\": [{\"align\": \"left\", \"font\": {\"color\": \"#ffffff\"}, \"showarrow\": false, \"text\": \"<b>room<br>type</b>\", \"x\": -0.45, \"xanchor\": \"left\", \"xref\": \"x\", \"y\": 0, \"yref\": \"y\"}, {\"align\": \"left\", \"font\": {\"color\": \"#ffffff\"}, \"showarrow\": false, \"text\": \"<b>on market<br>count</b>\", \"x\": 0.55, \"xanchor\": \"left\", \"xref\": \"x\", \"y\": 0, \"yref\": \"y\"}, {\"align\": \"left\", \"font\": {\"color\": \"#ffffff\"}, \"showarrow\": false, \"text\": \"<b>median<br>price(pw)</b>\", \"x\": 1.55, \"xanchor\": \"left\", \"xref\": \"x\", \"y\": 0, \"yref\": \"y\"}, {\"align\": \"left\", \"font\": {\"color\": \"#ffffff\"}, \"showarrow\": false, \"text\": \"<b>lowest<br>price</b>\", \"x\": 2.55, \"xanchor\": \"left\", \"xref\": \"x\", \"y\": 0, \"yref\": \"y\"}, {\"align\": \"left\", \"font\": {\"color\": \"#ffffff\"}, \"showarrow\": false, \"text\": \"<b>highest<br>price</b>\", \"x\": 3.55, \"xanchor\": \"left\", \"xref\": \"x\", \"y\": 0, \"yref\": \"y\"}, {\"align\": \"left\", \"font\": {\"color\": \"#ffffff\"}, \"showarrow\": false, \"text\": \"<b>standard<br>deviation</b>\", \"x\": 4.55, \"xanchor\": \"left\", \"xref\": \"x\", \"y\": 0, \"yref\": \"y\"}, {\"align\": \"left\", \"font\": {\"color\": \"#000000\"}, \"showarrow\": false, \"text\": \"1b1b\", \"x\": -0.45, \"xanchor\": \"left\", \"xref\": \"x\", \"y\": 1, \"yref\": \"y\"}, {\"align\": \"left\", \"font\": {\"color\": \"#000000\"}, \"showarrow\": false, \"text\": \"15\", \"x\": 0.55, \"xanchor\": \"left\", \"xref\": \"x\", \"y\": 1, \"yref\": \"y\"}, {\"align\": \"left\", \"font\": {\"color\": \"#000000\"}, \"showarrow\": false, \"text\": \"$390.0\", \"x\": 1.55, \"xanchor\": \"left\", \"xref\": \"x\", \"y\": 1, \"yref\": \"y\"}, {\"align\": \"left\", \"font\": {\"color\": \"#000000\"}, \"showarrow\": false, \"text\": \"$308.0\", \"x\": 2.55, \"xanchor\": \"left\", \"xref\": \"x\", \"y\": 1, \"yref\": \"y\"}, {\"align\": \"left\", \"font\": {\"color\": \"#000000\"}, \"showarrow\": false, \"text\": \"$450.0\", \"x\": 3.55, \"xanchor\": \"left\", \"xref\": \"x\", \"y\": 1, \"yref\": \"y\"}, {\"align\": \"left\", \"font\": {\"color\": \"#000000\"}, \"showarrow\": false, \"text\": \"$36.5\", \"x\": 4.55, \"xanchor\": \"left\", \"xref\": \"x\", \"y\": 1, \"yref\": \"y\"}, {\"align\": \"left\", \"font\": {\"color\": \"#000000\"}, \"showarrow\": false, \"text\": \"2b1b\", \"x\": -0.45, \"xanchor\": \"left\", \"xref\": \"x\", \"y\": 2, \"yref\": \"y\"}, {\"align\": \"left\", \"font\": {\"color\": \"#000000\"}, \"showarrow\": false, \"text\": \"6\", \"x\": 0.55, \"xanchor\": \"left\", \"xref\": \"x\", \"y\": 2, \"yref\": \"y\"}, {\"align\": \"left\", \"font\": {\"color\": \"#000000\"}, \"showarrow\": false, \"text\": \"$490.0\", \"x\": 1.55, \"xanchor\": \"left\", \"xref\": \"x\", \"y\": 2, \"yref\": \"y\"}, {\"align\": \"left\", \"font\": {\"color\": \"#000000\"}, \"showarrow\": false, \"text\": \"$460.0\", \"x\": 2.55, \"xanchor\": \"left\", \"xref\": \"x\", \"y\": 2, \"yref\": \"y\"}, {\"align\": \"left\", \"font\": {\"color\": \"#000000\"}, \"showarrow\": false, \"text\": \"$600.0\", \"x\": 3.55, \"xanchor\": \"left\", \"xref\": \"x\", \"y\": 2, \"yref\": \"y\"}, {\"align\": \"left\", \"font\": {\"color\": \"#000000\"}, \"showarrow\": false, \"text\": \"$53.07\", \"x\": 4.55, \"xanchor\": \"left\", \"xref\": \"x\", \"y\": 2, \"yref\": \"y\"}, {\"align\": \"left\", \"font\": {\"color\": \"#000000\"}, \"showarrow\": false, \"text\": \"2b2b\", \"x\": -0.45, \"xanchor\": \"left\", \"xref\": \"x\", \"y\": 3, \"yref\": \"y\"}, {\"align\": \"left\", \"font\": {\"color\": \"#000000\"}, \"showarrow\": false, \"text\": \"28\", \"x\": 0.55, \"xanchor\": \"left\", \"xref\": \"x\", \"y\": 3, \"yref\": \"y\"}, {\"align\": \"left\", \"font\": {\"color\": \"#000000\"}, \"showarrow\": false, \"text\": \"$600.0\", \"x\": 1.55, \"xanchor\": \"left\", \"xref\": \"x\", \"y\": 3, \"yref\": \"y\"}, {\"align\": \"left\", \"font\": {\"color\": \"#000000\"}, \"showarrow\": false, \"text\": \"$450.0\", \"x\": 2.55, \"xanchor\": \"left\", \"xref\": \"x\", \"y\": 3, \"yref\": \"y\"}, {\"align\": \"left\", \"font\": {\"color\": \"#000000\"}, \"showarrow\": false, \"text\": \"$680.0\", \"x\": 3.55, \"xanchor\": \"left\", \"xref\": \"x\", \"y\": 3, \"yref\": \"y\"}, {\"align\": \"left\", \"font\": {\"color\": \"#000000\"}, \"showarrow\": false, \"text\": \"$51.38\", \"x\": 4.55, \"xanchor\": \"left\", \"xref\": \"x\", \"y\": 3, \"yref\": \"y\"}], \"height\": 290, \"margin\": {\"b\": 0, \"l\": 0, \"r\": 0, \"t\": 0}, \"template\": {\"data\": {\"bar\": [{\"error_x\": {\"color\": \"#2a3f5f\"}, \"error_y\": {\"color\": \"#2a3f5f\"}, \"marker\": {\"line\": {\"color\": \"#E5ECF6\", \"width\": 0.5}}, \"type\": \"bar\"}], \"barpolar\": [{\"marker\": {\"line\": {\"color\": \"#E5ECF6\", \"width\": 0.5}}, \"type\": \"barpolar\"}], \"carpet\": [{\"aaxis\": {\"endlinecolor\": \"#2a3f5f\", \"gridcolor\": \"white\", \"linecolor\": \"white\", \"minorgridcolor\": \"white\", \"startlinecolor\": \"#2a3f5f\"}, \"baxis\": {\"endlinecolor\": \"#2a3f5f\", \"gridcolor\": \"white\", \"linecolor\": \"white\", \"minorgridcolor\": \"white\", \"startlinecolor\": \"#2a3f5f\"}, \"type\": \"carpet\"}], \"choropleth\": [{\"colorbar\": {\"outlinewidth\": 0, \"ticks\": \"\"}, \"type\": \"choropleth\"}], \"contour\": [{\"colorbar\": {\"outlinewidth\": 0, \"ticks\": \"\"}, \"colorscale\": [[0.0, \"#0d0887\"], [0.1111111111111111, \"#46039f\"], [0.2222222222222222, \"#7201a8\"], [0.3333333333333333, \"#9c179e\"], [0.4444444444444444, \"#bd3786\"], [0.5555555555555556, \"#d8576b\"], [0.6666666666666666, \"#ed7953\"], [0.7777777777777778, \"#fb9f3a\"], [0.8888888888888888, \"#fdca26\"], [1.0, \"#f0f921\"]], \"type\": \"contour\"}], \"contourcarpet\": [{\"colorbar\": {\"outlinewidth\": 0, \"ticks\": \"\"}, \"type\": \"contourcarpet\"}], \"heatmap\": [{\"colorbar\": {\"outlinewidth\": 0, \"ticks\": \"\"}, \"colorscale\": [[0.0, \"#0d0887\"], [0.1111111111111111, \"#46039f\"], [0.2222222222222222, \"#7201a8\"], [0.3333333333333333, \"#9c179e\"], [0.4444444444444444, \"#bd3786\"], [0.5555555555555556, \"#d8576b\"], [0.6666666666666666, \"#ed7953\"], [0.7777777777777778, \"#fb9f3a\"], [0.8888888888888888, \"#fdca26\"], [1.0, \"#f0f921\"]], \"type\": \"heatmap\"}], \"heatmapgl\": [{\"colorbar\": {\"outlinewidth\": 0, \"ticks\": \"\"}, \"colorscale\": [[0.0, \"#0d0887\"], [0.1111111111111111, \"#46039f\"], [0.2222222222222222, \"#7201a8\"], [0.3333333333333333, \"#9c179e\"], [0.4444444444444444, \"#bd3786\"], [0.5555555555555556, \"#d8576b\"], [0.6666666666666666, \"#ed7953\"], [0.7777777777777778, \"#fb9f3a\"], [0.8888888888888888, \"#fdca26\"], [1.0, \"#f0f921\"]], \"type\": \"heatmapgl\"}], \"histogram\": [{\"marker\": {\"colorbar\": {\"outlinewidth\": 0, \"ticks\": \"\"}}, \"type\": \"histogram\"}], \"histogram2d\": [{\"colorbar\": {\"outlinewidth\": 0, \"ticks\": \"\"}, \"colorscale\": [[0.0, \"#0d0887\"], [0.1111111111111111, \"#46039f\"], [0.2222222222222222, \"#7201a8\"], [0.3333333333333333, \"#9c179e\"], [0.4444444444444444, \"#bd3786\"], [0.5555555555555556, \"#d8576b\"], [0.6666666666666666, \"#ed7953\"], [0.7777777777777778, \"#fb9f3a\"], [0.8888888888888888, \"#fdca26\"], [1.0, \"#f0f921\"]], \"type\": \"histogram2d\"}], \"histogram2dcontour\": [{\"colorbar\": {\"outlinewidth\": 0, \"ticks\": \"\"}, \"colorscale\": [[0.0, \"#0d0887\"], [0.1111111111111111, \"#46039f\"], [0.2222222222222222, \"#7201a8\"], [0.3333333333333333, \"#9c179e\"], [0.4444444444444444, \"#bd3786\"], [0.5555555555555556, \"#d8576b\"], [0.6666666666666666, \"#ed7953\"], [0.7777777777777778, \"#fb9f3a\"], [0.8888888888888888, \"#fdca26\"], [1.0, \"#f0f921\"]], \"type\": \"histogram2dcontour\"}], \"mesh3d\": [{\"colorbar\": {\"outlinewidth\": 0, \"ticks\": \"\"}, \"type\": \"mesh3d\"}], \"parcoords\": [{\"line\": {\"colorbar\": {\"outlinewidth\": 0, \"ticks\": \"\"}}, \"type\": \"parcoords\"}], \"pie\": [{\"automargin\": true, \"type\": \"pie\"}], \"scatter\": [{\"marker\": {\"colorbar\": {\"outlinewidth\": 0, \"ticks\": \"\"}}, \"type\": \"scatter\"}], \"scatter3d\": [{\"line\": {\"colorbar\": {\"outlinewidth\": 0, \"ticks\": \"\"}}, \"marker\": {\"colorbar\": {\"outlinewidth\": 0, \"ticks\": \"\"}}, \"type\": \"scatter3d\"}], \"scattercarpet\": [{\"marker\": {\"colorbar\": {\"outlinewidth\": 0, \"ticks\": \"\"}}, \"type\": \"scattercarpet\"}], \"scattergeo\": [{\"marker\": {\"colorbar\": {\"outlinewidth\": 0, \"ticks\": \"\"}}, \"type\": \"scattergeo\"}], \"scattergl\": [{\"marker\": {\"colorbar\": {\"outlinewidth\": 0, \"ticks\": \"\"}}, \"type\": \"scattergl\"}], \"scattermapbox\": [{\"marker\": {\"colorbar\": {\"outlinewidth\": 0, \"ticks\": \"\"}}, \"type\": \"scattermapbox\"}], \"scatterpolar\": [{\"marker\": {\"colorbar\": {\"outlinewidth\": 0, \"ticks\": \"\"}}, \"type\": \"scatterpolar\"}], \"scatterpolargl\": [{\"marker\": {\"colorbar\": {\"outlinewidth\": 0, \"ticks\": \"\"}}, \"type\": \"scatterpolargl\"}], \"scatterternary\": [{\"marker\": {\"colorbar\": {\"outlinewidth\": 0, \"ticks\": \"\"}}, \"type\": \"scatterternary\"}], \"surface\": [{\"colorbar\": {\"outlinewidth\": 0, \"ticks\": \"\"}, \"colorscale\": [[0.0, \"#0d0887\"], [0.1111111111111111, \"#46039f\"], [0.2222222222222222, \"#7201a8\"], [0.3333333333333333, \"#9c179e\"], [0.4444444444444444, \"#bd3786\"], [0.5555555555555556, \"#d8576b\"], [0.6666666666666666, \"#ed7953\"], [0.7777777777777778, \"#fb9f3a\"], [0.8888888888888888, \"#fdca26\"], [1.0, \"#f0f921\"]], \"type\": \"surface\"}], \"table\": [{\"cells\": {\"fill\": {\"color\": \"#EBF0F8\"}, \"line\": {\"color\": \"white\"}}, \"header\": {\"fill\": {\"color\": \"#C8D4E3\"}, \"line\": {\"color\": \"white\"}}, \"type\": \"table\"}]}, \"layout\": {\"annotationdefaults\": {\"arrowcolor\": \"#2a3f5f\", \"arrowhead\": 0, \"arrowwidth\": 1}, \"autotypenumbers\": \"strict\", \"coloraxis\": {\"colorbar\": {\"outlinewidth\": 0, \"ticks\": \"\"}}, \"colorscale\": {\"diverging\": [[0, \"#8e0152\"], [0.1, \"#c51b7d\"], [0.2, \"#de77ae\"], [0.3, \"#f1b6da\"], [0.4, \"#fde0ef\"], [0.5, \"#f7f7f7\"], [0.6, \"#e6f5d0\"], [0.7, \"#b8e186\"], [0.8, \"#7fbc41\"], [0.9, \"#4d9221\"], [1, \"#276419\"]], \"sequential\": [[0.0, \"#0d0887\"], [0.1111111111111111, \"#46039f\"], [0.2222222222222222, \"#7201a8\"], [0.3333333333333333, \"#9c179e\"], [0.4444444444444444, \"#bd3786\"], [0.5555555555555556, \"#d8576b\"], [0.6666666666666666, \"#ed7953\"], [0.7777777777777778, \"#fb9f3a\"], [0.8888888888888888, \"#fdca26\"], [1.0, \"#f0f921\"]], \"sequentialminus\": [[0.0, \"#0d0887\"], [0.1111111111111111, \"#46039f\"], [0.2222222222222222, \"#7201a8\"], [0.3333333333333333, \"#9c179e\"], [0.4444444444444444, \"#bd3786\"], [0.5555555555555556, \"#d8576b\"], [0.6666666666666666, \"#ed7953\"], [0.7777777777777778, \"#fb9f3a\"], [0.8888888888888888, \"#fdca26\"], [1.0, \"#f0f921\"]]}, \"colorway\": [\"#636efa\", \"#EF553B\", \"#00cc96\", \"#ab63fa\", \"#FFA15A\", \"#19d3f3\", \"#FF6692\", \"#B6E880\", \"#FF97FF\", \"#FECB52\"], \"font\": {\"color\": \"#2a3f5f\"}, \"geo\": {\"bgcolor\": \"white\", \"lakecolor\": \"white\", \"landcolor\": \"#E5ECF6\", \"showlakes\": true, \"showland\": true, \"subunitcolor\": \"white\"}, \"hoverlabel\": {\"align\": \"left\"}, \"hovermode\": \"closest\", \"mapbox\": {\"style\": \"light\"}, \"paper_bgcolor\": \"white\", \"plot_bgcolor\": \"#E5ECF6\", \"polar\": {\"angularaxis\": {\"gridcolor\": \"white\", \"linecolor\": \"white\", \"ticks\": \"\"}, \"bgcolor\": \"#E5ECF6\", \"radialaxis\": {\"gridcolor\": \"white\", \"linecolor\": \"white\", \"ticks\": \"\"}}, \"scene\": {\"xaxis\": {\"backgroundcolor\": \"#E5ECF6\", \"gridcolor\": \"white\", \"gridwidth\": 2, \"linecolor\": \"white\", \"showbackground\": true, \"ticks\": \"\", \"zerolinecolor\": \"white\"}, \"yaxis\": {\"backgroundcolor\": \"#E5ECF6\", \"gridcolor\": \"white\", \"gridwidth\": 2, \"linecolor\": \"white\", \"showbackground\": true, \"ticks\": \"\", \"zerolinecolor\": \"white\"}, \"zaxis\": {\"backgroundcolor\": \"#E5ECF6\", \"gridcolor\": \"white\", \"gridwidth\": 2, \"linecolor\": \"white\", \"showbackground\": true, \"ticks\": \"\", \"zerolinecolor\": \"white\"}}, \"shapedefaults\": {\"line\": {\"color\": \"#2a3f5f\"}}, \"ternary\": {\"aaxis\": {\"gridcolor\": \"white\", \"linecolor\": \"white\", \"ticks\": \"\"}, \"baxis\": {\"gridcolor\": \"white\", \"linecolor\": \"white\", \"ticks\": \"\"}, \"bgcolor\": \"#E5ECF6\", \"caxis\": {\"gridcolor\": \"white\", \"linecolor\": \"white\", \"ticks\": \"\"}}, \"title\": {\"x\": 0.05}, \"xaxis\": {\"automargin\": true, \"gridcolor\": \"white\", \"linecolor\": \"white\", \"ticks\": \"\", \"title\": {\"standoff\": 15}, \"zerolinecolor\": \"white\", \"zerolinewidth\": 2}, \"yaxis\": {\"automargin\": true, \"gridcolor\": \"white\", \"linecolor\": \"white\", \"ticks\": \"\", \"title\": {\"standoff\": 15}, \"zerolinecolor\": \"white\", \"zerolinewidth\": 2}}}, \"width\": 500, \"xaxis\": {\"dtick\": 1, \"gridwidth\": 2, \"showticklabels\": false, \"tick0\": -0.5, \"ticks\": \"\", \"zeroline\": false}, \"yaxis\": {\"autorange\": \"reversed\", \"dtick\": 1, \"gridwidth\": 2, \"showticklabels\": false, \"tick0\": 0.5, \"ticks\": \"\", \"zeroline\": false}},                        {\"responsive\": true}                    ).then(function(){\n",
       "                            \n",
       "var gd = document.getElementById('3f38a6b5-a77f-4c90-b852-81ec40f1ed57');\n",
       "var x = new MutationObserver(function (mutations, observer) {{\n",
       "        var display = window.getComputedStyle(gd).display;\n",
       "        if (!display || display === 'none') {{\n",
       "            console.log([gd, 'removed!']);\n",
       "            Plotly.purge(gd);\n",
       "            observer.disconnect();\n",
       "        }}\n",
       "}});\n",
       "\n",
       "// Listen for the removal of the full notebook cells\n",
       "var notebookContainer = gd.closest('#notebook-container');\n",
       "if (notebookContainer) {{\n",
       "    x.observe(notebookContainer, {childList: true});\n",
       "}}\n",
       "\n",
       "// Listen for the clearing of the current output cell\n",
       "var outputEl = gd.closest('.output');\n",
       "if (outputEl) {{\n",
       "    x.observe(outputEl, {childList: true});\n",
       "}}\n",
       "\n",
       "                        })                };                });            </script>        </div>"
      ]
     },
     "metadata": {},
     "output_type": "display_data"
    }
   ],
   "source": [
    "table_data = [['room<br>type', 'on market<br>count', 'median<br>price(pw)', 'lowest<br>price', \"highest<br>price\", \"standard<br>deviation\"]] \n",
    "\n",
    "def fill_table_data(df):\n",
    "    table_data.append([df.iloc[0,:][\"room_type\"] , \n",
    "                       len(df),\"$\" + str(df.price.median()),\n",
    "                       \"$\" + str(df.price.min()),\n",
    "                       \"$\" + str( df.price.max()),\n",
    "                       \"$\" + str(round(df.price.std() , 2 ) ) \n",
    "                    ])\n",
    "    \n",
    "on_market_df.groupby(\"room_type\").apply(fill_table_data)\n",
    "\n",
    "fig = ff.create_table(table_data, height_constant=60)\n",
    "fig.layout.width=500\n",
    "fig0.show()\n",
    "fig.show()"
   ]
  },
  {
   "cell_type": "markdown",
   "metadata": {},
   "source": [
    "### Get One Prop hist"
   ]
  },
  {
   "cell_type": "code",
   "execution_count": null,
   "metadata": {},
   "outputs": [],
   "source": [
    "listing_id = 14718152\n"
   ]
  },
  {
   "cell_type": "code",
   "execution_count": 440,
   "metadata": {
    "scrolled": true
   },
   "outputs": [
    {
     "name": "stdout",
     "output_type": "stream",
     "text": [
      "14906056\n",
      "14906056\n",
      "14906056\n",
      "14906056\n",
      "14906056\n",
      "14906056\n",
      "14906056\n",
      "14906056\n",
      "14906056\n",
      "13688573\n",
      "13688573\n",
      "13688573\n",
      "13688573\n",
      "13688573\n",
      "13688573\n",
      "13688573\n",
      "13688573\n",
      "10963374\n",
      "10963374\n",
      "10963374\n",
      "10963374\n",
      "10963374\n",
      "10963374\n",
      "10963374\n",
      "10963374\n"
     ]
    }
   ],
   "source": [
    "prop_id = 'PG-9328-YD'\n",
    "pinfo_url = 'https://api.domain.com.au/sandbox/v1/properties/'\n",
    "prop_json = requests.get(pinfo_url + prop_id, headers = headers ).json()\n",
    "#df_318_rus.loc[i, \"areaSize\"] = prop_json[\"areaSize\"] \n",
    "current_id = 0 # TODO \n",
    "for photo in prop_json['photos']:\n",
    "    print(photo['advertId'])\n",
    "    if photo['advertId'] != current_id: # TODO \n",
    "        #list_res = get_info_from_list_id(photo['advertId'], headers)\n",
    "        #list_res['room_no'] = df.loc[i, 'room_no']\n",
    "        #list_res['list_id'] = photo['advertId'] \n",
    "        #hist_df = hist_df.append(list_res, ignore_index = True )\n",
    "        # update id \n",
    "        current_id = photo['advertId']\n",
    "            "
   ]
  },
  {
   "cell_type": "code",
   "execution_count": 465,
   "metadata": {},
   "outputs": [],
   "source": [
    "room_no = 1102\n",
    "prop_url = 'https://www.domain.com.au/property-profile/' + str(room_no) + \"-\" + address\n",
    "raw_html = getHTMLText(prop_url)\n",
    "soup = BeautifulSoup(raw_html, 'html.parser')\n",
    "#print(soup)\n",
    "list_tags = soup.find_all(class_=\"css-m3i618\")\n",
    "timeline_df = pd.DataFrame(columns = [\"Date\", \"Price\",\"days\", \"Type\", \"Agency\"])\n",
    "# for each record\n",
    "for hist in list_tags[0].find_all(class_ = \"css-16ezjtx\"):\n",
    "    temp = hist.find_all(class_ = 'css-zwto9f')\n",
    "    if len(temp) == 1:\n",
    "        days = \"N/A\"\n",
    "    else:\n",
    "        days = temp[1].text\n",
    "        \n",
    "    \n",
    "    this_type = hist.find(class_ = 'css-bl2deh')\n",
    "    if this_type is None:\n",
    "        this_type = hist.find(class_ = 'css-jcs3kb').text\n",
    "    else:\n",
    "        this_type = this_type.text\n",
    "        \n",
    "    timeline_df = timeline_df.append({\n",
    "        \"Date\" : hist.find(class_ = 'css-vajoca').text + hist.find(class_ = 'css-1qi20sy').text,\n",
    "        \"Price\" : hist.find(class_ = 'css-6xjfcu').text + hist.find(class_ = 'css-obiveq').text,\n",
    "        \"Type\" : this_type, \n",
    "        \"days\" : days ,\n",
    "        \"Agency\" : temp[0].text\n",
    "        \n",
    "    },\n",
    "                      ignore_index= True)\n",
    "    \n",
    "    "
   ]
  },
  {
   "cell_type": "code",
   "execution_count": 468,
   "metadata": {},
   "outputs": [],
   "source": [
    "rent_df = timeline_df[timeline_df.Type == \"RENTED\"]"
   ]
  },
  {
   "cell_type": "code",
   "execution_count": 476,
   "metadata": {},
   "outputs": [
    {
     "data": {
      "text/html": [
       "<div>\n",
       "<style scoped>\n",
       "    .dataframe tbody tr th:only-of-type {\n",
       "        vertical-align: middle;\n",
       "    }\n",
       "\n",
       "    .dataframe tbody tr th {\n",
       "        vertical-align: top;\n",
       "    }\n",
       "\n",
       "    .dataframe thead th {\n",
       "        text-align: right;\n",
       "    }\n",
       "</style>\n",
       "<table border=\"1\" class=\"dataframe\">\n",
       "  <thead>\n",
       "    <tr style=\"text-align: right;\">\n",
       "      <th></th>\n",
       "      <th>Date</th>\n",
       "      <th>Price</th>\n",
       "      <th>days</th>\n",
       "      <th>Type</th>\n",
       "      <th>Agency</th>\n",
       "      <th>date_date</th>\n",
       "      <th>price_num</th>\n",
       "    </tr>\n",
       "  </thead>\n",
       "  <tbody>\n",
       "    <tr>\n",
       "      <th>0</th>\n",
       "      <td>Jan2020</td>\n",
       "      <td>$800PER WEEK</td>\n",
       "      <td>66</td>\n",
       "      <td>RENTED</td>\n",
       "      <td>Melcorp Real Estate</td>\n",
       "      <td>2020-01-01</td>\n",
       "      <td>800.0</td>\n",
       "    </tr>\n",
       "    <tr>\n",
       "      <th>1</th>\n",
       "      <td>Oct2017</td>\n",
       "      <td>$770PER WEEK</td>\n",
       "      <td>98</td>\n",
       "      <td>RENTED</td>\n",
       "      <td>Melcorp Property - Melbourne</td>\n",
       "      <td>2017-10-01</td>\n",
       "      <td>770.0</td>\n",
       "    </tr>\n",
       "  </tbody>\n",
       "</table>\n",
       "</div>"
      ],
      "text/plain": [
       "      Date         Price days    Type                        Agency  \\\n",
       "0  Jan2020  $800PER WEEK   66  RENTED           Melcorp Real Estate   \n",
       "1  Oct2017  $770PER WEEK   98  RENTED  Melcorp Property - Melbourne   \n",
       "\n",
       "   date_date  price_num  \n",
       "0 2020-01-01      800.0  \n",
       "1 2017-10-01      770.0  "
      ]
     },
     "execution_count": 476,
     "metadata": {},
     "output_type": "execute_result"
    }
   ],
   "source": [
    "rent_df"
   ]
  },
  {
   "cell_type": "code",
   "execution_count": 510,
   "metadata": {},
   "outputs": [],
   "source": [
    "rent_df[\"description\"] = \"<b>\" + rent_df[\"price_num\"].astype(int).astype(str)  + \"</b> per week<br>Listed for <b>\" + rent_df[\"days\"] + \" </b>days<br>by \" + rent_df[\"Agency\"]"
   ]
  },
  {
   "cell_type": "code",
   "execution_count": 511,
   "metadata": {},
   "outputs": [],
   "source": [
    "rent_df[\"date_date\"] = pd.to_datetime(rent_df[\"Date\"], format = \"%b%Y\")\n",
    "rent_df[\"price_num\"] = rent_df[\"Price\"].map(lambda p: float(p.split(\"P\")[0][1:]))"
   ]
  },
  {
   "cell_type": "code",
   "execution_count": 512,
   "metadata": {},
   "outputs": [
    {
     "data": {
      "application/vnd.plotly.v1+json": {
       "config": {
        "plotlyServerURL": "https://plot.ly"
       },
       "data": [
        {
         "marker": {
          "size": 15
         },
         "mode": "lines+text+markers",
         "text": [
          "<b>800</b> per week<br>Listed for <b>66 </b>days<br>by Melcorp Real Estate",
          "<b>770</b> per week<br>Listed for <b>98 </b>days<br>by Melcorp Property - Melbourne"
         ],
         "textfont": {
          "family": "Times",
          "size": 20
         },
         "textposition": "top center",
         "type": "scatter",
         "x": [
          "2020-01-01T00:00:00",
          "2017-10-01T00:00:00"
         ],
         "y": [
          800,
          770
         ]
        }
       ],
       "layout": {
        "template": {
         "data": {
          "bar": [
           {
            "error_x": {
             "color": "#2a3f5f"
            },
            "error_y": {
             "color": "#2a3f5f"
            },
            "marker": {
             "line": {
              "color": "#E5ECF6",
              "width": 0.5
             }
            },
            "type": "bar"
           }
          ],
          "barpolar": [
           {
            "marker": {
             "line": {
              "color": "#E5ECF6",
              "width": 0.5
             }
            },
            "type": "barpolar"
           }
          ],
          "carpet": [
           {
            "aaxis": {
             "endlinecolor": "#2a3f5f",
             "gridcolor": "white",
             "linecolor": "white",
             "minorgridcolor": "white",
             "startlinecolor": "#2a3f5f"
            },
            "baxis": {
             "endlinecolor": "#2a3f5f",
             "gridcolor": "white",
             "linecolor": "white",
             "minorgridcolor": "white",
             "startlinecolor": "#2a3f5f"
            },
            "type": "carpet"
           }
          ],
          "choropleth": [
           {
            "colorbar": {
             "outlinewidth": 0,
             "ticks": ""
            },
            "type": "choropleth"
           }
          ],
          "contour": [
           {
            "colorbar": {
             "outlinewidth": 0,
             "ticks": ""
            },
            "colorscale": [
             [
              0,
              "#0d0887"
             ],
             [
              0.1111111111111111,
              "#46039f"
             ],
             [
              0.2222222222222222,
              "#7201a8"
             ],
             [
              0.3333333333333333,
              "#9c179e"
             ],
             [
              0.4444444444444444,
              "#bd3786"
             ],
             [
              0.5555555555555556,
              "#d8576b"
             ],
             [
              0.6666666666666666,
              "#ed7953"
             ],
             [
              0.7777777777777778,
              "#fb9f3a"
             ],
             [
              0.8888888888888888,
              "#fdca26"
             ],
             [
              1,
              "#f0f921"
             ]
            ],
            "type": "contour"
           }
          ],
          "contourcarpet": [
           {
            "colorbar": {
             "outlinewidth": 0,
             "ticks": ""
            },
            "type": "contourcarpet"
           }
          ],
          "heatmap": [
           {
            "colorbar": {
             "outlinewidth": 0,
             "ticks": ""
            },
            "colorscale": [
             [
              0,
              "#0d0887"
             ],
             [
              0.1111111111111111,
              "#46039f"
             ],
             [
              0.2222222222222222,
              "#7201a8"
             ],
             [
              0.3333333333333333,
              "#9c179e"
             ],
             [
              0.4444444444444444,
              "#bd3786"
             ],
             [
              0.5555555555555556,
              "#d8576b"
             ],
             [
              0.6666666666666666,
              "#ed7953"
             ],
             [
              0.7777777777777778,
              "#fb9f3a"
             ],
             [
              0.8888888888888888,
              "#fdca26"
             ],
             [
              1,
              "#f0f921"
             ]
            ],
            "type": "heatmap"
           }
          ],
          "heatmapgl": [
           {
            "colorbar": {
             "outlinewidth": 0,
             "ticks": ""
            },
            "colorscale": [
             [
              0,
              "#0d0887"
             ],
             [
              0.1111111111111111,
              "#46039f"
             ],
             [
              0.2222222222222222,
              "#7201a8"
             ],
             [
              0.3333333333333333,
              "#9c179e"
             ],
             [
              0.4444444444444444,
              "#bd3786"
             ],
             [
              0.5555555555555556,
              "#d8576b"
             ],
             [
              0.6666666666666666,
              "#ed7953"
             ],
             [
              0.7777777777777778,
              "#fb9f3a"
             ],
             [
              0.8888888888888888,
              "#fdca26"
             ],
             [
              1,
              "#f0f921"
             ]
            ],
            "type": "heatmapgl"
           }
          ],
          "histogram": [
           {
            "marker": {
             "colorbar": {
              "outlinewidth": 0,
              "ticks": ""
             }
            },
            "type": "histogram"
           }
          ],
          "histogram2d": [
           {
            "colorbar": {
             "outlinewidth": 0,
             "ticks": ""
            },
            "colorscale": [
             [
              0,
              "#0d0887"
             ],
             [
              0.1111111111111111,
              "#46039f"
             ],
             [
              0.2222222222222222,
              "#7201a8"
             ],
             [
              0.3333333333333333,
              "#9c179e"
             ],
             [
              0.4444444444444444,
              "#bd3786"
             ],
             [
              0.5555555555555556,
              "#d8576b"
             ],
             [
              0.6666666666666666,
              "#ed7953"
             ],
             [
              0.7777777777777778,
              "#fb9f3a"
             ],
             [
              0.8888888888888888,
              "#fdca26"
             ],
             [
              1,
              "#f0f921"
             ]
            ],
            "type": "histogram2d"
           }
          ],
          "histogram2dcontour": [
           {
            "colorbar": {
             "outlinewidth": 0,
             "ticks": ""
            },
            "colorscale": [
             [
              0,
              "#0d0887"
             ],
             [
              0.1111111111111111,
              "#46039f"
             ],
             [
              0.2222222222222222,
              "#7201a8"
             ],
             [
              0.3333333333333333,
              "#9c179e"
             ],
             [
              0.4444444444444444,
              "#bd3786"
             ],
             [
              0.5555555555555556,
              "#d8576b"
             ],
             [
              0.6666666666666666,
              "#ed7953"
             ],
             [
              0.7777777777777778,
              "#fb9f3a"
             ],
             [
              0.8888888888888888,
              "#fdca26"
             ],
             [
              1,
              "#f0f921"
             ]
            ],
            "type": "histogram2dcontour"
           }
          ],
          "mesh3d": [
           {
            "colorbar": {
             "outlinewidth": 0,
             "ticks": ""
            },
            "type": "mesh3d"
           }
          ],
          "parcoords": [
           {
            "line": {
             "colorbar": {
              "outlinewidth": 0,
              "ticks": ""
             }
            },
            "type": "parcoords"
           }
          ],
          "pie": [
           {
            "automargin": true,
            "type": "pie"
           }
          ],
          "scatter": [
           {
            "marker": {
             "colorbar": {
              "outlinewidth": 0,
              "ticks": ""
             }
            },
            "type": "scatter"
           }
          ],
          "scatter3d": [
           {
            "line": {
             "colorbar": {
              "outlinewidth": 0,
              "ticks": ""
             }
            },
            "marker": {
             "colorbar": {
              "outlinewidth": 0,
              "ticks": ""
             }
            },
            "type": "scatter3d"
           }
          ],
          "scattercarpet": [
           {
            "marker": {
             "colorbar": {
              "outlinewidth": 0,
              "ticks": ""
             }
            },
            "type": "scattercarpet"
           }
          ],
          "scattergeo": [
           {
            "marker": {
             "colorbar": {
              "outlinewidth": 0,
              "ticks": ""
             }
            },
            "type": "scattergeo"
           }
          ],
          "scattergl": [
           {
            "marker": {
             "colorbar": {
              "outlinewidth": 0,
              "ticks": ""
             }
            },
            "type": "scattergl"
           }
          ],
          "scattermapbox": [
           {
            "marker": {
             "colorbar": {
              "outlinewidth": 0,
              "ticks": ""
             }
            },
            "type": "scattermapbox"
           }
          ],
          "scatterpolar": [
           {
            "marker": {
             "colorbar": {
              "outlinewidth": 0,
              "ticks": ""
             }
            },
            "type": "scatterpolar"
           }
          ],
          "scatterpolargl": [
           {
            "marker": {
             "colorbar": {
              "outlinewidth": 0,
              "ticks": ""
             }
            },
            "type": "scatterpolargl"
           }
          ],
          "scatterternary": [
           {
            "marker": {
             "colorbar": {
              "outlinewidth": 0,
              "ticks": ""
             }
            },
            "type": "scatterternary"
           }
          ],
          "surface": [
           {
            "colorbar": {
             "outlinewidth": 0,
             "ticks": ""
            },
            "colorscale": [
             [
              0,
              "#0d0887"
             ],
             [
              0.1111111111111111,
              "#46039f"
             ],
             [
              0.2222222222222222,
              "#7201a8"
             ],
             [
              0.3333333333333333,
              "#9c179e"
             ],
             [
              0.4444444444444444,
              "#bd3786"
             ],
             [
              0.5555555555555556,
              "#d8576b"
             ],
             [
              0.6666666666666666,
              "#ed7953"
             ],
             [
              0.7777777777777778,
              "#fb9f3a"
             ],
             [
              0.8888888888888888,
              "#fdca26"
             ],
             [
              1,
              "#f0f921"
             ]
            ],
            "type": "surface"
           }
          ],
          "table": [
           {
            "cells": {
             "fill": {
              "color": "#EBF0F8"
             },
             "line": {
              "color": "white"
             }
            },
            "header": {
             "fill": {
              "color": "#C8D4E3"
             },
             "line": {
              "color": "white"
             }
            },
            "type": "table"
           }
          ]
         },
         "layout": {
          "annotationdefaults": {
           "arrowcolor": "#2a3f5f",
           "arrowhead": 0,
           "arrowwidth": 1
          },
          "autotypenumbers": "strict",
          "coloraxis": {
           "colorbar": {
            "outlinewidth": 0,
            "ticks": ""
           }
          },
          "colorscale": {
           "diverging": [
            [
             0,
             "#8e0152"
            ],
            [
             0.1,
             "#c51b7d"
            ],
            [
             0.2,
             "#de77ae"
            ],
            [
             0.3,
             "#f1b6da"
            ],
            [
             0.4,
             "#fde0ef"
            ],
            [
             0.5,
             "#f7f7f7"
            ],
            [
             0.6,
             "#e6f5d0"
            ],
            [
             0.7,
             "#b8e186"
            ],
            [
             0.8,
             "#7fbc41"
            ],
            [
             0.9,
             "#4d9221"
            ],
            [
             1,
             "#276419"
            ]
           ],
           "sequential": [
            [
             0,
             "#0d0887"
            ],
            [
             0.1111111111111111,
             "#46039f"
            ],
            [
             0.2222222222222222,
             "#7201a8"
            ],
            [
             0.3333333333333333,
             "#9c179e"
            ],
            [
             0.4444444444444444,
             "#bd3786"
            ],
            [
             0.5555555555555556,
             "#d8576b"
            ],
            [
             0.6666666666666666,
             "#ed7953"
            ],
            [
             0.7777777777777778,
             "#fb9f3a"
            ],
            [
             0.8888888888888888,
             "#fdca26"
            ],
            [
             1,
             "#f0f921"
            ]
           ],
           "sequentialminus": [
            [
             0,
             "#0d0887"
            ],
            [
             0.1111111111111111,
             "#46039f"
            ],
            [
             0.2222222222222222,
             "#7201a8"
            ],
            [
             0.3333333333333333,
             "#9c179e"
            ],
            [
             0.4444444444444444,
             "#bd3786"
            ],
            [
             0.5555555555555556,
             "#d8576b"
            ],
            [
             0.6666666666666666,
             "#ed7953"
            ],
            [
             0.7777777777777778,
             "#fb9f3a"
            ],
            [
             0.8888888888888888,
             "#fdca26"
            ],
            [
             1,
             "#f0f921"
            ]
           ]
          },
          "colorway": [
           "#636efa",
           "#EF553B",
           "#00cc96",
           "#ab63fa",
           "#FFA15A",
           "#19d3f3",
           "#FF6692",
           "#B6E880",
           "#FF97FF",
           "#FECB52"
          ],
          "font": {
           "color": "#2a3f5f"
          },
          "geo": {
           "bgcolor": "white",
           "lakecolor": "white",
           "landcolor": "#E5ECF6",
           "showlakes": true,
           "showland": true,
           "subunitcolor": "white"
          },
          "hoverlabel": {
           "align": "left"
          },
          "hovermode": "closest",
          "mapbox": {
           "style": "light"
          },
          "paper_bgcolor": "white",
          "plot_bgcolor": "#E5ECF6",
          "polar": {
           "angularaxis": {
            "gridcolor": "white",
            "linecolor": "white",
            "ticks": ""
           },
           "bgcolor": "#E5ECF6",
           "radialaxis": {
            "gridcolor": "white",
            "linecolor": "white",
            "ticks": ""
           }
          },
          "scene": {
           "xaxis": {
            "backgroundcolor": "#E5ECF6",
            "gridcolor": "white",
            "gridwidth": 2,
            "linecolor": "white",
            "showbackground": true,
            "ticks": "",
            "zerolinecolor": "white"
           },
           "yaxis": {
            "backgroundcolor": "#E5ECF6",
            "gridcolor": "white",
            "gridwidth": 2,
            "linecolor": "white",
            "showbackground": true,
            "ticks": "",
            "zerolinecolor": "white"
           },
           "zaxis": {
            "backgroundcolor": "#E5ECF6",
            "gridcolor": "white",
            "gridwidth": 2,
            "linecolor": "white",
            "showbackground": true,
            "ticks": "",
            "zerolinecolor": "white"
           }
          },
          "shapedefaults": {
           "line": {
            "color": "#2a3f5f"
           }
          },
          "ternary": {
           "aaxis": {
            "gridcolor": "white",
            "linecolor": "white",
            "ticks": ""
           },
           "baxis": {
            "gridcolor": "white",
            "linecolor": "white",
            "ticks": ""
           },
           "bgcolor": "#E5ECF6",
           "caxis": {
            "gridcolor": "white",
            "linecolor": "white",
            "ticks": ""
           }
          },
          "title": {
           "x": 0.05
          },
          "xaxis": {
           "automargin": true,
           "gridcolor": "white",
           "linecolor": "white",
           "ticks": "",
           "title": {
            "standoff": 15
           },
           "zerolinecolor": "white",
           "zerolinewidth": 2
          },
          "yaxis": {
           "automargin": true,
           "gridcolor": "white",
           "linecolor": "white",
           "ticks": "",
           "title": {
            "standoff": 15
           },
           "zerolinecolor": "white",
           "zerolinewidth": 2
          }
         }
        },
        "xaxis": {
         "range": [
          "2017-01-01",
          "2020-06-08"
         ]
        },
        "yaxis": {
         "range": [
          600,
          900
         ]
        }
       }
      },
      "text/html": [
       "<div>                            <div id=\"f848747f-383c-47c5-b994-0a035f5c6db0\" class=\"plotly-graph-div\" style=\"height:525px; width:100%;\"></div>            <script type=\"text/javascript\">                require([\"plotly\"], function(Plotly) {                    window.PLOTLYENV=window.PLOTLYENV || {};                                    if (document.getElementById(\"f848747f-383c-47c5-b994-0a035f5c6db0\")) {                    Plotly.newPlot(                        \"f848747f-383c-47c5-b994-0a035f5c6db0\",                        [{\"marker\": {\"size\": 15}, \"mode\": \"lines+text+markers\", \"text\": [\"<b>800</b> per week<br>Listed for <b>66 </b>days<br>by Melcorp Real Estate\", \"<b>770</b> per week<br>Listed for <b>98 </b>days<br>by Melcorp Property - Melbourne\"], \"textfont\": {\"family\": \"Times\", \"size\": 20}, \"textposition\": \"top center\", \"type\": \"scatter\", \"x\": [\"2020-01-01T00:00:00\", \"2017-10-01T00:00:00\"], \"y\": [800.0, 770.0]}],                        {\"template\": {\"data\": {\"bar\": [{\"error_x\": {\"color\": \"#2a3f5f\"}, \"error_y\": {\"color\": \"#2a3f5f\"}, \"marker\": {\"line\": {\"color\": \"#E5ECF6\", \"width\": 0.5}}, \"type\": \"bar\"}], \"barpolar\": [{\"marker\": {\"line\": {\"color\": \"#E5ECF6\", \"width\": 0.5}}, \"type\": \"barpolar\"}], \"carpet\": [{\"aaxis\": {\"endlinecolor\": \"#2a3f5f\", \"gridcolor\": \"white\", \"linecolor\": \"white\", \"minorgridcolor\": \"white\", \"startlinecolor\": \"#2a3f5f\"}, \"baxis\": {\"endlinecolor\": \"#2a3f5f\", \"gridcolor\": \"white\", \"linecolor\": \"white\", \"minorgridcolor\": \"white\", \"startlinecolor\": \"#2a3f5f\"}, \"type\": \"carpet\"}], \"choropleth\": [{\"colorbar\": {\"outlinewidth\": 0, \"ticks\": \"\"}, \"type\": \"choropleth\"}], \"contour\": [{\"colorbar\": {\"outlinewidth\": 0, \"ticks\": \"\"}, \"colorscale\": [[0.0, \"#0d0887\"], [0.1111111111111111, \"#46039f\"], [0.2222222222222222, \"#7201a8\"], [0.3333333333333333, \"#9c179e\"], [0.4444444444444444, \"#bd3786\"], [0.5555555555555556, \"#d8576b\"], [0.6666666666666666, \"#ed7953\"], [0.7777777777777778, \"#fb9f3a\"], [0.8888888888888888, \"#fdca26\"], [1.0, \"#f0f921\"]], \"type\": \"contour\"}], \"contourcarpet\": [{\"colorbar\": {\"outlinewidth\": 0, \"ticks\": \"\"}, \"type\": \"contourcarpet\"}], \"heatmap\": [{\"colorbar\": {\"outlinewidth\": 0, \"ticks\": \"\"}, \"colorscale\": [[0.0, \"#0d0887\"], [0.1111111111111111, \"#46039f\"], [0.2222222222222222, \"#7201a8\"], [0.3333333333333333, \"#9c179e\"], [0.4444444444444444, \"#bd3786\"], [0.5555555555555556, \"#d8576b\"], [0.6666666666666666, \"#ed7953\"], [0.7777777777777778, \"#fb9f3a\"], [0.8888888888888888, \"#fdca26\"], [1.0, \"#f0f921\"]], \"type\": \"heatmap\"}], \"heatmapgl\": [{\"colorbar\": {\"outlinewidth\": 0, \"ticks\": \"\"}, \"colorscale\": [[0.0, \"#0d0887\"], [0.1111111111111111, \"#46039f\"], [0.2222222222222222, \"#7201a8\"], [0.3333333333333333, \"#9c179e\"], [0.4444444444444444, \"#bd3786\"], [0.5555555555555556, \"#d8576b\"], [0.6666666666666666, \"#ed7953\"], [0.7777777777777778, \"#fb9f3a\"], [0.8888888888888888, \"#fdca26\"], [1.0, \"#f0f921\"]], \"type\": \"heatmapgl\"}], \"histogram\": [{\"marker\": {\"colorbar\": {\"outlinewidth\": 0, \"ticks\": \"\"}}, \"type\": \"histogram\"}], \"histogram2d\": [{\"colorbar\": {\"outlinewidth\": 0, \"ticks\": \"\"}, \"colorscale\": [[0.0, \"#0d0887\"], [0.1111111111111111, \"#46039f\"], [0.2222222222222222, \"#7201a8\"], [0.3333333333333333, \"#9c179e\"], [0.4444444444444444, \"#bd3786\"], [0.5555555555555556, \"#d8576b\"], [0.6666666666666666, \"#ed7953\"], [0.7777777777777778, \"#fb9f3a\"], [0.8888888888888888, \"#fdca26\"], [1.0, \"#f0f921\"]], \"type\": \"histogram2d\"}], \"histogram2dcontour\": [{\"colorbar\": {\"outlinewidth\": 0, \"ticks\": \"\"}, \"colorscale\": [[0.0, \"#0d0887\"], [0.1111111111111111, \"#46039f\"], [0.2222222222222222, \"#7201a8\"], [0.3333333333333333, \"#9c179e\"], [0.4444444444444444, \"#bd3786\"], [0.5555555555555556, \"#d8576b\"], [0.6666666666666666, \"#ed7953\"], [0.7777777777777778, \"#fb9f3a\"], [0.8888888888888888, \"#fdca26\"], [1.0, \"#f0f921\"]], \"type\": \"histogram2dcontour\"}], \"mesh3d\": [{\"colorbar\": {\"outlinewidth\": 0, \"ticks\": \"\"}, \"type\": \"mesh3d\"}], \"parcoords\": [{\"line\": {\"colorbar\": {\"outlinewidth\": 0, \"ticks\": \"\"}}, \"type\": \"parcoords\"}], \"pie\": [{\"automargin\": true, \"type\": \"pie\"}], \"scatter\": [{\"marker\": {\"colorbar\": {\"outlinewidth\": 0, \"ticks\": \"\"}}, \"type\": \"scatter\"}], \"scatter3d\": [{\"line\": {\"colorbar\": {\"outlinewidth\": 0, \"ticks\": \"\"}}, \"marker\": {\"colorbar\": {\"outlinewidth\": 0, \"ticks\": \"\"}}, \"type\": \"scatter3d\"}], \"scattercarpet\": [{\"marker\": {\"colorbar\": {\"outlinewidth\": 0, \"ticks\": \"\"}}, \"type\": \"scattercarpet\"}], \"scattergeo\": [{\"marker\": {\"colorbar\": {\"outlinewidth\": 0, \"ticks\": \"\"}}, \"type\": \"scattergeo\"}], \"scattergl\": [{\"marker\": {\"colorbar\": {\"outlinewidth\": 0, \"ticks\": \"\"}}, \"type\": \"scattergl\"}], \"scattermapbox\": [{\"marker\": {\"colorbar\": {\"outlinewidth\": 0, \"ticks\": \"\"}}, \"type\": \"scattermapbox\"}], \"scatterpolar\": [{\"marker\": {\"colorbar\": {\"outlinewidth\": 0, \"ticks\": \"\"}}, \"type\": \"scatterpolar\"}], \"scatterpolargl\": [{\"marker\": {\"colorbar\": {\"outlinewidth\": 0, \"ticks\": \"\"}}, \"type\": \"scatterpolargl\"}], \"scatterternary\": [{\"marker\": {\"colorbar\": {\"outlinewidth\": 0, \"ticks\": \"\"}}, \"type\": \"scatterternary\"}], \"surface\": [{\"colorbar\": {\"outlinewidth\": 0, \"ticks\": \"\"}, \"colorscale\": [[0.0, \"#0d0887\"], [0.1111111111111111, \"#46039f\"], [0.2222222222222222, \"#7201a8\"], [0.3333333333333333, \"#9c179e\"], [0.4444444444444444, \"#bd3786\"], [0.5555555555555556, \"#d8576b\"], [0.6666666666666666, \"#ed7953\"], [0.7777777777777778, \"#fb9f3a\"], [0.8888888888888888, \"#fdca26\"], [1.0, \"#f0f921\"]], \"type\": \"surface\"}], \"table\": [{\"cells\": {\"fill\": {\"color\": \"#EBF0F8\"}, \"line\": {\"color\": \"white\"}}, \"header\": {\"fill\": {\"color\": \"#C8D4E3\"}, \"line\": {\"color\": \"white\"}}, \"type\": \"table\"}]}, \"layout\": {\"annotationdefaults\": {\"arrowcolor\": \"#2a3f5f\", \"arrowhead\": 0, \"arrowwidth\": 1}, \"autotypenumbers\": \"strict\", \"coloraxis\": {\"colorbar\": {\"outlinewidth\": 0, \"ticks\": \"\"}}, \"colorscale\": {\"diverging\": [[0, \"#8e0152\"], [0.1, \"#c51b7d\"], [0.2, \"#de77ae\"], [0.3, \"#f1b6da\"], [0.4, \"#fde0ef\"], [0.5, \"#f7f7f7\"], [0.6, \"#e6f5d0\"], [0.7, \"#b8e186\"], [0.8, \"#7fbc41\"], [0.9, \"#4d9221\"], [1, \"#276419\"]], \"sequential\": [[0.0, \"#0d0887\"], [0.1111111111111111, \"#46039f\"], [0.2222222222222222, \"#7201a8\"], [0.3333333333333333, \"#9c179e\"], [0.4444444444444444, \"#bd3786\"], [0.5555555555555556, \"#d8576b\"], [0.6666666666666666, \"#ed7953\"], [0.7777777777777778, \"#fb9f3a\"], [0.8888888888888888, \"#fdca26\"], [1.0, \"#f0f921\"]], \"sequentialminus\": [[0.0, \"#0d0887\"], [0.1111111111111111, \"#46039f\"], [0.2222222222222222, \"#7201a8\"], [0.3333333333333333, \"#9c179e\"], [0.4444444444444444, \"#bd3786\"], [0.5555555555555556, \"#d8576b\"], [0.6666666666666666, \"#ed7953\"], [0.7777777777777778, \"#fb9f3a\"], [0.8888888888888888, \"#fdca26\"], [1.0, \"#f0f921\"]]}, \"colorway\": [\"#636efa\", \"#EF553B\", \"#00cc96\", \"#ab63fa\", \"#FFA15A\", \"#19d3f3\", \"#FF6692\", \"#B6E880\", \"#FF97FF\", \"#FECB52\"], \"font\": {\"color\": \"#2a3f5f\"}, \"geo\": {\"bgcolor\": \"white\", \"lakecolor\": \"white\", \"landcolor\": \"#E5ECF6\", \"showlakes\": true, \"showland\": true, \"subunitcolor\": \"white\"}, \"hoverlabel\": {\"align\": \"left\"}, \"hovermode\": \"closest\", \"mapbox\": {\"style\": \"light\"}, \"paper_bgcolor\": \"white\", \"plot_bgcolor\": \"#E5ECF6\", \"polar\": {\"angularaxis\": {\"gridcolor\": \"white\", \"linecolor\": \"white\", \"ticks\": \"\"}, \"bgcolor\": \"#E5ECF6\", \"radialaxis\": {\"gridcolor\": \"white\", \"linecolor\": \"white\", \"ticks\": \"\"}}, \"scene\": {\"xaxis\": {\"backgroundcolor\": \"#E5ECF6\", \"gridcolor\": \"white\", \"gridwidth\": 2, \"linecolor\": \"white\", \"showbackground\": true, \"ticks\": \"\", \"zerolinecolor\": \"white\"}, \"yaxis\": {\"backgroundcolor\": \"#E5ECF6\", \"gridcolor\": \"white\", \"gridwidth\": 2, \"linecolor\": \"white\", \"showbackground\": true, \"ticks\": \"\", \"zerolinecolor\": \"white\"}, \"zaxis\": {\"backgroundcolor\": \"#E5ECF6\", \"gridcolor\": \"white\", \"gridwidth\": 2, \"linecolor\": \"white\", \"showbackground\": true, \"ticks\": \"\", \"zerolinecolor\": \"white\"}}, \"shapedefaults\": {\"line\": {\"color\": \"#2a3f5f\"}}, \"ternary\": {\"aaxis\": {\"gridcolor\": \"white\", \"linecolor\": \"white\", \"ticks\": \"\"}, \"baxis\": {\"gridcolor\": \"white\", \"linecolor\": \"white\", \"ticks\": \"\"}, \"bgcolor\": \"#E5ECF6\", \"caxis\": {\"gridcolor\": \"white\", \"linecolor\": \"white\", \"ticks\": \"\"}}, \"title\": {\"x\": 0.05}, \"xaxis\": {\"automargin\": true, \"gridcolor\": \"white\", \"linecolor\": \"white\", \"ticks\": \"\", \"title\": {\"standoff\": 15}, \"zerolinecolor\": \"white\", \"zerolinewidth\": 2}, \"yaxis\": {\"automargin\": true, \"gridcolor\": \"white\", \"linecolor\": \"white\", \"ticks\": \"\", \"title\": {\"standoff\": 15}, \"zerolinecolor\": \"white\", \"zerolinewidth\": 2}}}, \"xaxis\": {\"range\": [\"2017-01-01\", \"2020-06-08\"]}, \"yaxis\": {\"range\": [600, 900]}},                        {\"responsive\": true}                    ).then(function(){\n",
       "                            \n",
       "var gd = document.getElementById('f848747f-383c-47c5-b994-0a035f5c6db0');\n",
       "var x = new MutationObserver(function (mutations, observer) {{\n",
       "        var display = window.getComputedStyle(gd).display;\n",
       "        if (!display || display === 'none') {{\n",
       "            console.log([gd, 'removed!']);\n",
       "            Plotly.purge(gd);\n",
       "            observer.disconnect();\n",
       "        }}\n",
       "}});\n",
       "\n",
       "// Listen for the removal of the full notebook cells\n",
       "var notebookContainer = gd.closest('#notebook-container');\n",
       "if (notebookContainer) {{\n",
       "    x.observe(notebookContainer, {childList: true});\n",
       "}}\n",
       "\n",
       "// Listen for the clearing of the current output cell\n",
       "var outputEl = gd.closest('.output');\n",
       "if (outputEl) {{\n",
       "    x.observe(outputEl, {childList: true});\n",
       "}}\n",
       "\n",
       "                        })                };                });            </script>        </div>"
      ]
     },
     "metadata": {},
     "output_type": "display_data"
    }
   ],
   "source": [
    "fig = go.Figure(data=go.Scatter(x=rent_df['date_date'],\n",
    "                                y=rent_df[\"price_num\"],\n",
    "                                mode = \"lines+text+markers\",\n",
    "                               text = rent_df[\"description\"],\n",
    "                               textposition=\"top center\",\n",
    "                                textfont = {'family': \"Times\", 'size': 20},\n",
    "                                marker=dict(size=15)\n",
    "                               ),\n",
    "                               )\n",
    "\n",
    "fig.update_layout(yaxis_range=[600,900], xaxis_range = ['2017-01-01', '2020-06-08'])\n",
    "fig.show()"
   ]
  },
  {
   "cell_type": "code",
   "execution_count": 447,
   "metadata": {},
   "outputs": [
    {
     "data": {
      "text/plain": [
       "3"
      ]
     },
     "execution_count": 447,
     "metadata": {},
     "output_type": "execute_result"
    }
   ],
   "source": [
    "len(list_tags[0].find_all(class_ = \"css-16ezjtx\"))"
   ]
  },
  {
   "cell_type": "code",
   "execution_count": 448,
   "metadata": {},
   "outputs": [],
   "source": [
    "test = list_tags[0].find_all(class_ = \"css-16ezjtx\")[0]"
   ]
  },
  {
   "cell_type": "code",
   "execution_count": 463,
   "metadata": {},
   "outputs": [
    {
     "name": "stdout",
     "output_type": "stream",
     "text": [
      "Sep\n",
      "2011\n"
     ]
    },
    {
     "ename": "AttributeError",
     "evalue": "'NoneType' object has no attribute 'text'",
     "output_type": "error",
     "traceback": [
      "\u001b[0;31m---------------------------------------------------------------------------\u001b[0m",
      "\u001b[0;31mAttributeError\u001b[0m                            Traceback (most recent call last)",
      "\u001b[0;32m<ipython-input-463-c813d7fc860f>\u001b[0m in \u001b[0;36m<module>\u001b[0;34m\u001b[0m\n\u001b[1;32m      1\u001b[0m \u001b[0mprint\u001b[0m\u001b[0;34m(\u001b[0m\u001b[0mhist\u001b[0m\u001b[0;34m.\u001b[0m\u001b[0mfind\u001b[0m\u001b[0;34m(\u001b[0m\u001b[0mclass_\u001b[0m \u001b[0;34m=\u001b[0m \u001b[0;34m'css-vajoca'\u001b[0m\u001b[0;34m)\u001b[0m\u001b[0;34m.\u001b[0m\u001b[0mtext\u001b[0m\u001b[0;34m)\u001b[0m\u001b[0;34m\u001b[0m\u001b[0;34m\u001b[0m\u001b[0m\n\u001b[1;32m      2\u001b[0m \u001b[0mprint\u001b[0m\u001b[0;34m(\u001b[0m\u001b[0mhist\u001b[0m\u001b[0;34m.\u001b[0m\u001b[0mfind\u001b[0m\u001b[0;34m(\u001b[0m\u001b[0mclass_\u001b[0m \u001b[0;34m=\u001b[0m \u001b[0;34m'css-1qi20sy'\u001b[0m\u001b[0;34m)\u001b[0m\u001b[0;34m.\u001b[0m\u001b[0mtext\u001b[0m\u001b[0;34m)\u001b[0m\u001b[0;34m\u001b[0m\u001b[0;34m\u001b[0m\u001b[0m\n\u001b[0;32m----> 3\u001b[0;31m \u001b[0mprint\u001b[0m\u001b[0;34m(\u001b[0m\u001b[0mhist\u001b[0m\u001b[0;34m.\u001b[0m\u001b[0mfind\u001b[0m\u001b[0;34m(\u001b[0m\u001b[0mclass_\u001b[0m \u001b[0;34m=\u001b[0m \u001b[0;34m'css-bl2deh'\u001b[0m\u001b[0;34m)\u001b[0m\u001b[0;34m.\u001b[0m\u001b[0mtext\u001b[0m\u001b[0;34m)\u001b[0m\u001b[0;34m\u001b[0m\u001b[0;34m\u001b[0m\u001b[0m\n\u001b[0m\u001b[1;32m      4\u001b[0m \u001b[0mprint\u001b[0m\u001b[0;34m(\u001b[0m\u001b[0mhist\u001b[0m\u001b[0;34m.\u001b[0m\u001b[0mfind\u001b[0m\u001b[0;34m(\u001b[0m\u001b[0mclass_\u001b[0m \u001b[0;34m=\u001b[0m \u001b[0;34m'css-6xjfcu'\u001b[0m\u001b[0;34m)\u001b[0m\u001b[0;34m.\u001b[0m\u001b[0mtext\u001b[0m\u001b[0;34m)\u001b[0m\u001b[0;34m\u001b[0m\u001b[0;34m\u001b[0m\u001b[0m\n\u001b[1;32m      5\u001b[0m \u001b[0mprint\u001b[0m\u001b[0;34m(\u001b[0m\u001b[0mhist\u001b[0m\u001b[0;34m.\u001b[0m\u001b[0mfind\u001b[0m\u001b[0;34m(\u001b[0m\u001b[0mclass_\u001b[0m \u001b[0;34m=\u001b[0m \u001b[0;34m'css-obiveq'\u001b[0m\u001b[0;34m)\u001b[0m\u001b[0;34m.\u001b[0m\u001b[0mtext\u001b[0m\u001b[0;34m)\u001b[0m\u001b[0;34m\u001b[0m\u001b[0;34m\u001b[0m\u001b[0m\n",
      "\u001b[0;31mAttributeError\u001b[0m: 'NoneType' object has no attribute 'text'"
     ]
    }
   ],
   "source": [
    "print(hist.find(class_ = 'css-vajoca').text)\n",
    "print(hist.find(class_ = 'css-1qi20sy').text)\n",
    "print(hist.find(class_ = 'css-bl2deh').text)\n",
    "print(hist.find(class_ = 'css-6xjfcu').text)\n",
    "print(hist.find(class_ = 'css-obiveq').text)\n",
    "print(hist.find_all(class_ = 'css-zwto9f'))\n",
    "#print(test.find_all(class_ = 'css-1oi8ih3'))"
   ]
  },
  {
   "cell_type": "code",
   "execution_count": 441,
   "metadata": {},
   "outputs": [
    {
     "data": {
      "text/plain": [
       "{'cadastreType': 'Polygon',\n",
       " 'onMarketTypes': ['Rent'],\n",
       " 'status': 'OnMarket',\n",
       " 'address': '1102/318 Russell Street, Melbourne VIC 3000',\n",
       " 'addressCoordinate': {'lat': -37.8093, 'lon': 144.96681},\n",
       " 'addressId': 40693237,\n",
       " 'areaSize': 933,\n",
       " 'bathrooms': 2,\n",
       " 'bedrooms': 2,\n",
       " 'carSpaces': 0,\n",
       " 'created': '2021-02-03T03:47:36.614Z',\n",
       " 'features': ['Air Conditioning',\n",
       "  'Alarm',\n",
       "  'Barbeque',\n",
       "  'Ensuite',\n",
       "  'Heating',\n",
       "  'Pool',\n",
       "  'Spa'],\n",
       " 'flatNumber': '1102',\n",
       " 'gnafIds': [{'monthNo': 11, 'yearNo': 2020, 'gnafPID': 'GAVIC425568761'}],\n",
       " 'id': 'PG-9328-YD',\n",
       " 'isResidential': True,\n",
       " 'photos': [{'imageType': 'Property',\n",
       "   'advertId': 14906056,\n",
       "   'date': '2021-03-05T01:05:40.063Z',\n",
       "   'fullUrl': 'https://bucket-api.domain.com.au/v1/bucket/image/13638038_2_1_191010_124511-w800-h530',\n",
       "   'rank': 1},\n",
       "  {'imageType': 'Property',\n",
       "   'advertId': 14906056,\n",
       "   'date': '2021-03-05T01:05:40.063Z',\n",
       "   'fullUrl': 'https://bucket-api.domain.com.au/v1/bucket/image/13638038_1_1_191010_124511-w800-h530',\n",
       "   'rank': 2},\n",
       "  {'imageType': 'Property',\n",
       "   'advertId': 14906056,\n",
       "   'date': '2021-03-05T01:05:40.063Z',\n",
       "   'fullUrl': 'https://bucket-api.domain.com.au/v1/bucket/image/13638038_3_1_191010_124511-w800-h530',\n",
       "   'rank': 3},\n",
       "  {'imageType': 'Property',\n",
       "   'advertId': 14906056,\n",
       "   'date': '2021-03-05T01:05:40.063Z',\n",
       "   'fullUrl': 'https://bucket-api.domain.com.au/v1/bucket/image/12773546_3_1_181205_014115-w800-h534',\n",
       "   'rank': 4},\n",
       "  {'imageType': 'Property',\n",
       "   'advertId': 14906056,\n",
       "   'date': '2021-03-05T01:05:40.063Z',\n",
       "   'fullUrl': 'https://bucket-api.domain.com.au/v1/bucket/image/12751934_4_1_181126_104053-w800-h534',\n",
       "   'rank': 5},\n",
       "  {'imageType': 'Property',\n",
       "   'advertId': 14906056,\n",
       "   'date': '2021-03-05T01:05:40.063Z',\n",
       "   'fullUrl': 'https://bucket-api.domain.com.au/v1/bucket/image/12753361_6_1_181127_025609-w800-h534',\n",
       "   'rank': 6},\n",
       "  {'imageType': 'Property',\n",
       "   'advertId': 14906056,\n",
       "   'date': '2021-03-05T01:05:40.063Z',\n",
       "   'fullUrl': 'https://bucket-api.domain.com.au/v1/bucket/image/14678631_11_1_201111_124838-w3402-h2271',\n",
       "   'rank': 7},\n",
       "  {'imageType': 'Property',\n",
       "   'advertId': 14906056,\n",
       "   'date': '2021-03-05T01:05:40.063Z',\n",
       "   'fullUrl': 'https://bucket-api.domain.com.au/v1/bucket/image/14678631_10_1_201111_124838-w3402-h2271',\n",
       "   'rank': 8},\n",
       "  {'imageType': 'Property',\n",
       "   'advertId': 14906056,\n",
       "   'date': '2021-03-05T01:05:40.063Z',\n",
       "   'fullUrl': 'https://bucket-api.domain.com.au/v1/bucket/image/14596576_10_3_201010_042920-w1248-h1740',\n",
       "   'rank': 9},\n",
       "  {'imageType': 'Property',\n",
       "   'advertId': 13688573,\n",
       "   'date': '2020-01-06T06:44:57.07Z',\n",
       "   'fullUrl': 'https://bucket-api.domain.com.au/v1/bucket/image/13638038_1_1_191010_124511-w800-h530',\n",
       "   'rank': 1},\n",
       "  {'imageType': 'Property',\n",
       "   'advertId': 13688573,\n",
       "   'date': '2020-01-06T06:44:57.07Z',\n",
       "   'fullUrl': 'https://bucket-api.domain.com.au/v1/bucket/image/13638038_2_1_191010_124511-w800-h530',\n",
       "   'rank': 2},\n",
       "  {'imageType': 'Property',\n",
       "   'advertId': 13688573,\n",
       "   'date': '2020-01-06T06:44:57.07Z',\n",
       "   'fullUrl': 'https://bucket-api.domain.com.au/v1/bucket/image/13638038_3_1_191010_124511-w800-h530',\n",
       "   'rank': 3},\n",
       "  {'imageType': 'Property',\n",
       "   'advertId': 13688573,\n",
       "   'date': '2020-01-06T06:44:57.07Z',\n",
       "   'fullUrl': 'https://bucket-api.domain.com.au/v1/bucket/image/12773546_3_1_181205_014115-w800-h534',\n",
       "   'rank': 4},\n",
       "  {'imageType': 'Property',\n",
       "   'advertId': 13688573,\n",
       "   'date': '2020-01-06T06:44:57.07Z',\n",
       "   'fullUrl': 'https://bucket-api.domain.com.au/v1/bucket/image/12751934_4_1_181126_104053-w800-h534',\n",
       "   'rank': 5},\n",
       "  {'imageType': 'Property',\n",
       "   'advertId': 13688573,\n",
       "   'date': '2020-01-06T06:44:57.07Z',\n",
       "   'fullUrl': 'https://bucket-api.domain.com.au/v1/bucket/image/12753361_6_1_181127_025609-w800-h534',\n",
       "   'rank': 6},\n",
       "  {'imageType': 'Property',\n",
       "   'advertId': 13688573,\n",
       "   'date': '2020-01-06T06:44:57.07Z',\n",
       "   'fullUrl': 'https://bucket-api.domain.com.au/v1/bucket/image/12751934_8_1_181126_104053-w800-h534',\n",
       "   'rank': 8},\n",
       "  {'imageType': 'Property',\n",
       "   'advertId': 13688573,\n",
       "   'date': '2020-01-06T06:44:57.07Z',\n",
       "   'fullUrl': 'https://bucket-api.domain.com.au/v1/bucket/image/12896813_10_3_190201_024101-w800-h600',\n",
       "   'rank': 9},\n",
       "  {'imageType': 'Property',\n",
       "   'advertId': 10963374,\n",
       "   'date': '2017-07-27T23:49:21.507Z',\n",
       "   'fullUrl': 'https://bucket-api.domain.com.au/v1/bucket/image/10963374_1_pi_170718_082517-w800-h600',\n",
       "   'rank': 1},\n",
       "  {'imageType': 'Property',\n",
       "   'advertId': 10963374,\n",
       "   'date': '2017-07-27T23:49:21.507Z',\n",
       "   'fullUrl': 'https://bucket-api.domain.com.au/v1/bucket/image/10963374_2_pi_170718_082518-w800-h600',\n",
       "   'rank': 2},\n",
       "  {'imageType': 'Property',\n",
       "   'advertId': 10963374,\n",
       "   'date': '2017-07-27T23:49:21.507Z',\n",
       "   'fullUrl': 'https://bucket-api.domain.com.au/v1/bucket/image/10963374_3_pi_170718_082517-w800-h600',\n",
       "   'rank': 3},\n",
       "  {'imageType': 'Property',\n",
       "   'advertId': 10963374,\n",
       "   'date': '2017-07-27T23:49:21.507Z',\n",
       "   'fullUrl': 'https://bucket-api.domain.com.au/v1/bucket/image/10963374_4_pi_170718_082518-w711-h533',\n",
       "   'rank': 4},\n",
       "  {'imageType': 'Property',\n",
       "   'advertId': 10963374,\n",
       "   'date': '2017-07-27T23:49:21.507Z',\n",
       "   'fullUrl': 'https://bucket-api.domain.com.au/v1/bucket/image/10963374_5_pi_170718_082517-w712-h534',\n",
       "   'rank': 5},\n",
       "  {'imageType': 'Property',\n",
       "   'advertId': 10963374,\n",
       "   'date': '2017-07-27T23:49:21.507Z',\n",
       "   'fullUrl': 'https://bucket-api.domain.com.au/v1/bucket/image/10963374_6_pi_170718_082518-w712-h534',\n",
       "   'rank': 6},\n",
       "  {'imageType': 'Property',\n",
       "   'advertId': 10963374,\n",
       "   'date': '2017-07-27T23:49:21.507Z',\n",
       "   'fullUrl': 'https://bucket-api.domain.com.au/v1/bucket/image/10963374_7_pi_170718_082517-w712-h534',\n",
       "   'rank': 7},\n",
       "  {'imageType': 'Property',\n",
       "   'advertId': 10963374,\n",
       "   'date': '2017-07-27T23:49:21.507Z',\n",
       "   'fullUrl': 'https://bucket-api.domain.com.au/v1/bucket/image/10963374_8_fi_170718_082517-w800-h600',\n",
       "   'rank': 8}],\n",
       " 'planNumber': 'PS720256',\n",
       " 'postcode': '3000',\n",
       " 'propertyCategory': 'Unit',\n",
       " 'propertyCategoryId': 2,\n",
       " 'state': 'VIC',\n",
       " 'streetAddress': '318 Russell Street',\n",
       " 'streetName': 'Russell',\n",
       " 'streetNumber': '318',\n",
       " 'streetType': 'St',\n",
       " 'streetTypeLong': 'Street',\n",
       " 'suburb': 'Melbourne',\n",
       " 'suburbId': 25807,\n",
       " 'urlSlug': '1102-318-russell-street-melbourne-vic-3000',\n",
       " 'urlSlugShort': '1102-318-russell-st-melbourne-vic-3000',\n",
       " 'canonicalUrl': 'https://www.domain.com.au/property-profile/1102-318-russell-street-melbourne-vic-3000'}"
      ]
     },
     "execution_count": 441,
     "metadata": {},
     "output_type": "execute_result"
    }
   ],
   "source": [
    "prop_json"
   ]
  },
  {
   "cell_type": "code",
   "execution_count": null,
   "metadata": {},
   "outputs": [],
   "source": []
  },
  {
   "cell_type": "markdown",
   "metadata": {},
   "source": [
    "## Agent "
   ]
  },
  {
   "cell_type": "code",
   "execution_count": 330,
   "metadata": {},
   "outputs": [],
   "source": [
    "agency_df= pd.DataFrame(on_market_df.agency_id.value_counts())"
   ]
  },
  {
   "cell_type": "code",
   "execution_count": 356,
   "metadata": {},
   "outputs": [
    {
     "data": {
      "text/html": [
       "<div>\n",
       "<style scoped>\n",
       "    .dataframe tbody tr th:only-of-type {\n",
       "        vertical-align: middle;\n",
       "    }\n",
       "\n",
       "    .dataframe tbody tr th {\n",
       "        vertical-align: top;\n",
       "    }\n",
       "\n",
       "    .dataframe thead th {\n",
       "        text-align: right;\n",
       "    }\n",
       "</style>\n",
       "<table border=\"1\" class=\"dataframe\">\n",
       "  <thead>\n",
       "    <tr style=\"text-align: right;\">\n",
       "      <th></th>\n",
       "      <th>agency_id</th>\n",
       "    </tr>\n",
       "  </thead>\n",
       "  <tbody>\n",
       "    <tr>\n",
       "      <th>11842</th>\n",
       "      <td>35</td>\n",
       "    </tr>\n",
       "    <tr>\n",
       "      <th>8389</th>\n",
       "      <td>2</td>\n",
       "    </tr>\n",
       "    <tr>\n",
       "      <th>4757</th>\n",
       "      <td>2</td>\n",
       "    </tr>\n",
       "    <tr>\n",
       "      <th>24371</th>\n",
       "      <td>2</td>\n",
       "    </tr>\n",
       "    <tr>\n",
       "      <th>24974</th>\n",
       "      <td>1</td>\n",
       "    </tr>\n",
       "    <tr>\n",
       "      <th>190</th>\n",
       "      <td>1</td>\n",
       "    </tr>\n",
       "    <tr>\n",
       "      <th>18765</th>\n",
       "      <td>1</td>\n",
       "    </tr>\n",
       "    <tr>\n",
       "      <th>29243</th>\n",
       "      <td>1</td>\n",
       "    </tr>\n",
       "    <tr>\n",
       "      <th>32569</th>\n",
       "      <td>1</td>\n",
       "    </tr>\n",
       "    <tr>\n",
       "      <th>232</th>\n",
       "      <td>1</td>\n",
       "    </tr>\n",
       "    <tr>\n",
       "      <th>17347</th>\n",
       "      <td>1</td>\n",
       "    </tr>\n",
       "    <tr>\n",
       "      <th>30082</th>\n",
       "      <td>1</td>\n",
       "    </tr>\n",
       "  </tbody>\n",
       "</table>\n",
       "</div>"
      ],
      "text/plain": [
       "       agency_id\n",
       "11842         35\n",
       "8389           2\n",
       "4757           2\n",
       "24371          2\n",
       "24974          1\n",
       "190            1\n",
       "18765          1\n",
       "29243          1\n",
       "32569          1\n",
       "232            1\n",
       "17347          1\n",
       "30082          1"
      ]
     },
     "execution_count": 356,
     "metadata": {},
     "output_type": "execute_result"
    }
   ],
   "source": [
    "agency_df"
   ]
  },
  {
   "cell_type": "code",
   "execution_count": 355,
   "metadata": {},
   "outputs": [
    {
     "name": "stdout",
     "output_type": "stream",
     "text": [
      "11842\n",
      "8389\n",
      "4757\n",
      "24371\n",
      "24974\n",
      "190\n",
      "18765\n",
      "29243\n",
      "32569\n",
      "232\n",
      "17347\n",
      "30082\n"
     ]
    }
   ],
   "source": [
    "\n",
    "for aid in agency_df.index:\n",
    "    agency_url =  \"https://api.domain.com.au/sandbox/v1/agencies/\"\n",
    "    res =   requests.get(list_url + str(aid), headers = headers )\n",
    "    \n",
    "    if res.status_code != 200:\n",
    "        print(aid)\n",
    "        continue \n",
    "    res_json = res.json()\n",
    "    agency_df.loc[aid, \"agency_name\"] = res_json[\"name\"]\n",
    "    \n",
    "    "
   ]
  },
  {
   "cell_type": "code",
   "execution_count": 354,
   "metadata": {},
   "outputs": [
    {
     "data": {
      "text/plain": [
       "{'message': '{\"type\":\"https://tools.ietf.org/html/rfc7231#section-6.5.4\",\"title\":\"Not Found\",\"status\":404,\"traceId\":\"00-d246020383d04c42a83aacd41d495d15-95b222785aa77543-01\"}'}"
      ]
     },
     "execution_count": 354,
     "metadata": {},
     "output_type": "execute_result"
    }
   ],
   "source": [
    "res_json"
   ]
  },
  {
   "cell_type": "code",
   "execution_count": 338,
   "metadata": {
    "scrolled": false
   },
   "outputs": [
    {
     "data": {
      "text/html": [
       "<div>\n",
       "<style scoped>\n",
       "    .dataframe tbody tr th:only-of-type {\n",
       "        vertical-align: middle;\n",
       "    }\n",
       "\n",
       "    .dataframe tbody tr th {\n",
       "        vertical-align: top;\n",
       "    }\n",
       "\n",
       "    .dataframe thead th {\n",
       "        text-align: right;\n",
       "    }\n",
       "</style>\n",
       "<table border=\"1\" class=\"dataframe\">\n",
       "  <thead>\n",
       "    <tr style=\"text-align: right;\">\n",
       "      <th></th>\n",
       "      <th>agency_id</th>\n",
       "    </tr>\n",
       "  </thead>\n",
       "  <tbody>\n",
       "    <tr>\n",
       "      <th>11842</th>\n",
       "      <td>35</td>\n",
       "    </tr>\n",
       "    <tr>\n",
       "      <th>8389</th>\n",
       "      <td>2</td>\n",
       "    </tr>\n",
       "    <tr>\n",
       "      <th>4757</th>\n",
       "      <td>2</td>\n",
       "    </tr>\n",
       "    <tr>\n",
       "      <th>24371</th>\n",
       "      <td>2</td>\n",
       "    </tr>\n",
       "    <tr>\n",
       "      <th>24974</th>\n",
       "      <td>1</td>\n",
       "    </tr>\n",
       "    <tr>\n",
       "      <th>190</th>\n",
       "      <td>1</td>\n",
       "    </tr>\n",
       "    <tr>\n",
       "      <th>18765</th>\n",
       "      <td>1</td>\n",
       "    </tr>\n",
       "    <tr>\n",
       "      <th>29243</th>\n",
       "      <td>1</td>\n",
       "    </tr>\n",
       "    <tr>\n",
       "      <th>32569</th>\n",
       "      <td>1</td>\n",
       "    </tr>\n",
       "    <tr>\n",
       "      <th>232</th>\n",
       "      <td>1</td>\n",
       "    </tr>\n",
       "    <tr>\n",
       "      <th>17347</th>\n",
       "      <td>1</td>\n",
       "    </tr>\n",
       "    <tr>\n",
       "      <th>30082</th>\n",
       "      <td>1</td>\n",
       "    </tr>\n",
       "  </tbody>\n",
       "</table>\n",
       "</div>"
      ],
      "text/plain": [
       "       agency_id\n",
       "11842         35\n",
       "8389           2\n",
       "4757           2\n",
       "24371          2\n",
       "24974          1\n",
       "190            1\n",
       "18765          1\n",
       "29243          1\n",
       "32569          1\n",
       "232            1\n",
       "17347          1\n",
       "30082          1"
      ]
     },
     "execution_count": 338,
     "metadata": {},
     "output_type": "execute_result"
    }
   ],
   "source": [
    "agency_df"
   ]
  },
  {
   "cell_type": "markdown",
   "metadata": {},
   "source": [
    "### Aurora"
   ]
  },
  {
   "cell_type": "code",
   "execution_count": null,
   "metadata": {},
   "outputs": [],
   "source": []
  },
  {
   "cell_type": "code",
   "execution_count": 9,
   "metadata": {},
   "outputs": [
    {
     "ename": "NameError",
     "evalue": "name 'df_aurora' is not defined",
     "output_type": "error",
     "traceback": [
      "\u001b[0;31m---------------------------------------------------------------------------\u001b[0m",
      "\u001b[0;31mNameError\u001b[0m                                 Traceback (most recent call last)",
      "\u001b[0;32m<ipython-input-9-c507f2e0270f>\u001b[0m in \u001b[0;36m<module>\u001b[0;34m\u001b[0m\n\u001b[0;32m----> 1\u001b[0;31m \u001b[0;34m(\u001b[0m\u001b[0mdf_aurora\u001b[0m\u001b[0;34m.\u001b[0m\u001b[0mprice\u001b[0m\u001b[0;34m.\u001b[0m\u001b[0misna\u001b[0m\u001b[0;34m(\u001b[0m\u001b[0;34m)\u001b[0m\u001b[0;34m)\u001b[0m\u001b[0;34m.\u001b[0m\u001b[0msum\u001b[0m\u001b[0;34m(\u001b[0m\u001b[0;34m)\u001b[0m\u001b[0;34m\u001b[0m\u001b[0;34m\u001b[0m\u001b[0m\n\u001b[0m",
      "\u001b[0;31mNameError\u001b[0m: name 'df_aurora' is not defined"
     ]
    }
   ],
   "source": [
    "(df_aurora.price.isna()).sum()"
   ]
  },
  {
   "cell_type": "code",
   "execution_count": null,
   "metadata": {},
   "outputs": [],
   "source": [
    "address = '228-la-trobe-street-melbourne-vic-3000'\n",
    "df_aurora = get_property_rent_history(address)\n",
    "med_price_change(df_aurora)"
   ]
  },
  {
   "cell_type": "code",
   "execution_count": null,
   "metadata": {},
   "outputs": [],
   "source": [
    "med_price_change(df_aurora)"
   ]
  },
  {
   "cell_type": "markdown",
   "metadata": {},
   "source": [
    "### Zen"
   ]
  },
  {
   "cell_type": "markdown",
   "metadata": {},
   "source": [
    "# Draft "
   ]
  },
  {
   "cell_type": "code",
   "execution_count": null,
   "metadata": {},
   "outputs": [],
   "source": []
  },
  {
   "cell_type": "code",
   "execution_count": null,
   "metadata": {},
   "outputs": [],
   "source": [
    "address = '500-elizabeth-street-melbourne-vic-3000'\n",
    "df = get_property_rent_history(address)\n",
    "df[\"year_month\"]= df.date.dt.strftime(\"%Y %b\")\n",
    "df['bed_bath'] = df['bed'].astype(str) + \"_\" + df['bath'].astype(str)"
   ]
  },
  {
   "cell_type": "code",
   "execution_count": null,
   "metadata": {},
   "outputs": [],
   "source": [
    "df['bed_bath'] = df['bed'].astype(str) + \"_\" + df['bath'].astype(str)"
   ]
  },
  {
   "cell_type": "code",
   "execution_count": null,
   "metadata": {},
   "outputs": [],
   "source": [
    "df.head()"
   ]
  },
  {
   "cell_type": "code",
   "execution_count": null,
   "metadata": {},
   "outputs": [],
   "source": [
    "df.info()"
   ]
  },
  {
   "cell_type": "code",
   "execution_count": null,
   "metadata": {},
   "outputs": [],
   "source": [
    "df.describe()"
   ]
  },
  {
   "cell_type": "code",
   "execution_count": null,
   "metadata": {},
   "outputs": [],
   "source": [
    "df.room_type.unique()"
   ]
  },
  {
   "cell_type": "code",
   "execution_count": null,
   "metadata": {},
   "outputs": [],
   "source": [
    "plt.figure(figsize = (10,10))\n",
    "fig = df.groupby(['year_month', 'bed_bath']).price.min().unstack().plot()\n",
    "plt.axvline(x= 47) \n",
    "df.groupby(['year_month', 'bed_bath']).price.max().unstack().plot()\n",
    "plt.axvline(x= 47) \n",
    "df.groupby(['year_month', 'bed_bath']).price.median().unstack().plot()\n",
    "plt.axvline(x= 47) "
   ]
  },
  {
   "cell_type": "code",
   "execution_count": null,
   "metadata": {},
   "outputs": [],
   "source": [
    "plt.figure(figsize = (15 ,5 ))\n",
    "g = sns.scatterplot(\n",
    "    data=df, x='year_month' , y=\"price\", hue=\"bed\", size=\"bath\",sizes=(30, 150),x_jitter=True, y_jitter=True, alpha=0.8,\n",
    "    palette=sns.color_palette(\"Set1\", df.bed.nunique())\n",
    ")\n",
    "_ = plt.xticks(rotation=90)\n",
    "_ = plt.legend(loc='upper left')\n",
    "g.axes.invert_xaxis()"
   ]
  },
  {
   "cell_type": "code",
   "execution_count": null,
   "metadata": {},
   "outputs": [],
   "source": [
    "for i in range(1,4):\n",
    "    fig = px.scatter(df[df.bed == i], x=\"date\", y=\"price\", color=\"room_type\",\n",
    "                     size=((df[df.bed == i])['level'].astype(int))/50 ,hover_data=['room_type'],width=700, height=400)\n",
    "\n",
    "    fig.show()\n"
   ]
  },
  {
   "cell_type": "markdown",
   "metadata": {},
   "source": [
    "## Linear Regression "
   ]
  },
  {
   "cell_type": "code",
   "execution_count": null,
   "metadata": {},
   "outputs": [],
   "source": [
    "df = df.sort_values(\"date\", ascending = False)\n",
    "median_price_before_df = df[df.date <= pd.to_datetime('20200301', format='%Y%m%d')]\n",
    "median_price_after_df =  df[df.date > pd.to_datetime('20200301', format='%Y%m%d')]"
   ]
  },
  {
   "cell_type": "code",
   "execution_count": null,
   "metadata": {},
   "outputs": [],
   "source": [
    "median_price_before_df_nona = median_price_before_df.dropna()\n",
    "median_price_after_df_nona = median_price_after_df.dropna()"
   ]
  },
  {
   "cell_type": "code",
   "execution_count": null,
   "metadata": {},
   "outputs": [],
   "source": [
    "median_price_before_df_nona['room_type'] = median_price_before_df_nona.room_type.astype(str)\n",
    "median_price_after_df_nona['room_type']= median_price_after_df_nona.room_type.astype(str)"
   ]
  },
  {
   "cell_type": "code",
   "execution_count": null,
   "metadata": {},
   "outputs": [],
   "source": [
    "median_price_after_df_nona.info()"
   ]
  },
  {
   "cell_type": "code",
   "execution_count": null,
   "metadata": {},
   "outputs": [],
   "source": [
    "median_price_after_df_nona.index"
   ]
  },
  {
   "cell_type": "markdown",
   "metadata": {},
   "source": [
    "### One hot encoding "
   ]
  },
  {
   "cell_type": "code",
   "execution_count": null,
   "metadata": {},
   "outputs": [],
   "source": [
    "enc = OneHotEncoder()\n",
    "res_array = enc.fit_transform(median_price_after_df_nona[['room_type']]).toarray()\n",
    "onehot_res = pd.DataFrame(res_array, columns = enc.get_feature_names(['room_type']), index = median_price_after_df_nona.index)"
   ]
  },
  {
   "cell_type": "code",
   "execution_count": null,
   "metadata": {},
   "outputs": [],
   "source": [
    "median_price_after_df_nona = median_price_after_df_nona.join(onehot_res)"
   ]
  },
  {
   "cell_type": "code",
   "execution_count": null,
   "metadata": {},
   "outputs": [],
   "source": [
    "x = median_price_after_df_nona [['bed', 'level','room_type_1',\n",
    "       'room_type_10', 'room_type_11', 'room_type_12', 'room_type_2',\n",
    "       'room_type_3', 'room_type_5', 'room_type_6', 'room_type_7',\n",
    "       'room_type_8', 'room_type_9']]\n",
    "y = median_price_after_df_nona['price']"
   ]
  },
  {
   "cell_type": "markdown",
   "metadata": {},
   "source": [
    "### Run the Model "
   ]
  },
  {
   "cell_type": "code",
   "execution_count": null,
   "metadata": {},
   "outputs": [],
   "source": []
  },
  {
   "cell_type": "code",
   "execution_count": null,
   "metadata": {},
   "outputs": [],
   "source": [
    "reg_after= LinearRegression().fit(x, y)"
   ]
  },
  {
   "cell_type": "code",
   "execution_count": null,
   "metadata": {},
   "outputs": [],
   "source": [
    "reg_after"
   ]
  },
  {
   "cell_type": "code",
   "execution_count": null,
   "metadata": {},
   "outputs": [],
   "source": [
    "from sklearn.metrics import median_absolute_error\n",
    "\n",
    "y_pred = reg_after.predict(x)\n",
    "\n",
    "mae = median_absolute_error(y, y_pred)\n",
    "fig, ax = plt.subplots(figsize=(5, 5))\n",
    "plt.scatter(y, y_pred)\n",
    "ax.plot([0, 1], [0, 1], transform=ax.transAxes, ls=\"--\", c=\"red\")\n",
    "plt.text(3, 20, string_score)\n",
    "plt.title('Linear regression Accuracy on Train Set')\n",
    "plt.ylabel('Model predictions')\n",
    "plt.xlabel('Truths')\n",
    "# plt.xlim([0, 27])\n",
    "# _ = plt.ylim([0, 27])"
   ]
  },
  {
   "cell_type": "markdown",
   "metadata": {},
   "source": [
    "###  Coefficients "
   ]
  },
  {
   "cell_type": "code",
   "execution_count": null,
   "metadata": {},
   "outputs": [],
   "source": [
    "\n",
    "coefs = pd.DataFrame(\n",
    "    reg_after.coef_,\n",
    "    columns=['Coefficients'], index=x.columns\n",
    ")\n",
    "coefs.plot(kind='barh', figsize=(9, 7))\n",
    "plt.title('marginal price change')\n",
    "plt.axvline(x=0, color='.5')\n",
    "plt.subplots_adjust(left=.3)"
   ]
  },
  {
   "cell_type": "code",
   "execution_count": null,
   "metadata": {},
   "outputs": [],
   "source": [
    "\n",
    "coefs = pd.DataFrame(\n",
    "    reg_after.coef_ * x.std(axis=0),\n",
    "    columns=['Coefficients'], index=x.columns\n",
    ")\n",
    "\n",
    "coefs"
   ]
  },
  {
   "cell_type": "code",
   "execution_count": null,
   "metadata": {},
   "outputs": [],
   "source": [
    "\n",
    "coefs.plot(kind='barh', figsize=(9, 7))\n",
    "plt.title('Feature importance')\n",
    "plt.axvline(x=0, color='.5')\n",
    "plt.subplots_adjust(left=.3)"
   ]
  },
  {
   "cell_type": "markdown",
   "metadata": {},
   "source": [
    "## Change in Median Price"
   ]
  },
  {
   "cell_type": "code",
   "execution_count": null,
   "metadata": {},
   "outputs": [],
   "source": [
    "med_before = pd.DataFrame(median_price_before_df_nona.groupby('room_type').price.median())\n",
    "med_before = med_before.rename({'price': 'before_price_med'}, axis = 1)\n",
    "\n",
    "med_after = pd.DataFrame(median_price_after_df_nona.groupby('room_type').price.median())\n",
    "med_after = med_after.rename({'price': 'after_price_med'}, axis = 1)\n"
   ]
  },
  {
   "cell_type": "code",
   "execution_count": null,
   "metadata": {},
   "outputs": [],
   "source": [
    "room_no = df.groupby('room_type')[['bed', 'bath']].median()"
   ]
  },
  {
   "cell_type": "code",
   "execution_count": null,
   "metadata": {},
   "outputs": [],
   "source": [
    "med_price_df = med_before.join(med_after)\n",
    "med_price_df['change_precnetage'] = (med_price_df['after_price_med'] - med_price_df['before_price_med'])/med_price_df['after_price_med'] * 100"
   ]
  },
  {
   "cell_type": "code",
   "execution_count": null,
   "metadata": {},
   "outputs": [],
   "source": [
    "med_price_df = med_price_df.join(room_no)\n"
   ]
  },
  {
   "cell_type": "code",
   "execution_count": null,
   "metadata": {},
   "outputs": [],
   "source": [
    "med_price_df"
   ]
  },
  {
   "cell_type": "markdown",
   "metadata": {},
   "source": [
    "### Make Plots "
   ]
  },
  {
   "cell_type": "code",
   "execution_count": null,
   "metadata": {},
   "outputs": [],
   "source": [
    "\n",
    "\n",
    "fig = make_subplots(rows=3, cols=2, start_cell=\"bottom-left\",\n",
    "                   subplot_titles=(\"Before bedroom = 1 \", \"After bedroom = 1\", \"Before bedroom = 2\",\n",
    "                                   \"After bedroom = 2\",'Before bedroom = 3', 'After bedroom = 3'))\n",
    "\n",
    "for rt in range(1,4):\n",
    "\n",
    "    tempdf = median_price_before_df[median_price_before_df.bed == rt]\n",
    "    fig.add_trace(go.Scatter(x= tempdf.level, y=tempdf.price, \n",
    "                            mode='markers',\n",
    "                            marker=dict(size= list(tempdf['price']//60),\n",
    "                                        color=[px.colors.qualitative.Dark24[int(r)] for r in tempdf.room_type])),\n",
    "                          row=rt, col=1)\n",
    "\n",
    "for rt in range(1,4):\n",
    "    tempdf = median_price_after_df_nona[median_price_after_df_nona.bed == rt]\n",
    "    fig.add_trace(go.Scatter(x= tempdf.level, y=tempdf.price, \n",
    "                            mode='markers',\n",
    "                            marker=dict(size= list(tempdf['price'] //60),\n",
    "                                        color= [px.colors.qualitative.Dark24[int(r)] for r in tempdf.room_type])),\n",
    "                          row=rt, col=2)\n",
    "\n",
    "fig.update_layout(height=1000, width=1000, title_text=\"Before and After the pendanmic\")\n",
    "\n",
    "fig.show()"
   ]
  },
  {
   "cell_type": "markdown",
   "metadata": {},
   "source": [
    "## Box plot split by room type "
   ]
  },
  {
   "cell_type": "code",
   "execution_count": null,
   "metadata": {},
   "outputs": [],
   "source": [
    "df.loc[df.date <= pd.to_datetime('20200301', format='%Y%m%d'),'time_split'] = 'before'\n",
    "\n",
    "df.loc[df.date > pd.to_datetime('20200301', format='%Y%m%d'),'time_split'] = 'after'\n",
    "df.room_type= df.room_type.astype(str)"
   ]
  },
  {
   "cell_type": "code",
   "execution_count": null,
   "metadata": {},
   "outputs": [],
   "source": [
    "fig = px.box(df, x=\"room_type\", y=\"price\", color=\"time_split\")\n",
    "fig.update_traces(quartilemethod=\"exclusive\") # or \"inclusive\", or \"linear\" by default\n",
    "\n",
    "fig.update_xaxes(type='category')\n",
    "fig.show()"
   ]
  },
  {
   "cell_type": "code",
   "execution_count": null,
   "metadata": {},
   "outputs": [],
   "source": []
  }
 ],
 "metadata": {
  "kernelspec": {
   "display_name": "Python 3",
   "language": "python",
   "name": "python3"
  },
  "language_info": {
   "codemirror_mode": {
    "name": "ipython",
    "version": 3
   },
   "file_extension": ".py",
   "mimetype": "text/x-python",
   "name": "python",
   "nbconvert_exporter": "python",
   "pygments_lexer": "ipython3",
   "version": "3.8.5"
  }
 },
 "nbformat": 4,
 "nbformat_minor": 4
}
