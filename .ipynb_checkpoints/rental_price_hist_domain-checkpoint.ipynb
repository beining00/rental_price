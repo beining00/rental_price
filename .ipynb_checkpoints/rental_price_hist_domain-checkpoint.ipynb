{
 "cells": [
  {
   "cell_type": "code",
   "execution_count": 1,
   "metadata": {},
   "outputs": [],
   "source": [
    "import requests \n",
    "from bs4 import BeautifulSoup\n",
    "import re\n",
    "from matplotlib import pyplot as plt\n",
    "import pandas as pd \n",
    "import numpy as np\n",
    "import plotly.express as px\n",
    "import seaborn as sns\n",
    "from sklearn.linear_model import LinearRegression\n",
    "from sklearn.preprocessing import OneHotEncoder\n",
    "import plotly.graph_objects as go\n",
    "from plotly.subplots import make_subplots"
   ]
  },
  {
   "cell_type": "code",
   "execution_count": null,
   "metadata": {},
   "outputs": [],
   "source": []
  },
  {
   "cell_type": "code",
   "execution_count": 2,
   "metadata": {},
   "outputs": [],
   "source": [
    "def getHTMLText(url):\n",
    "    try:\n",
    "        hd = {\"user-agent\" : 'Mozilla/5.0'}\n",
    "        r  = requests.get(url, timeout=30, headers =hd)\n",
    "        r.raise_for_status()\n",
    "        r.encoding = r.apparent_encoding\n",
    "        \n",
    "      \n",
    "        return r.text\n",
    "    except:\n",
    "        return \"\""
   ]
  },
  {
   "cell_type": "code",
   "execution_count": 13,
   "metadata": {},
   "outputs": [],
   "source": [
    "def get_property_rent_history(address):\n",
    "\n",
    "    raw_html = getHTMLText('https://www.domain.com.au/building-profile/' + address +'?filtertype=rented&pagesize=1000&pageno=1')\n",
    "    #print(raw_html)\n",
    "    soup = BeautifulSoup(raw_html, 'html.parser')\n",
    "    #print(soup)\n",
    "    list_tags = soup.find_all(class_=\"css-t7tdkc\")\n",
    "    properties = list_tags[1].find_all(class_ = 'css-3c3rcn')\n",
    "    df = pd.DataFrame(columns = ['building_name', 'room_no', 'price', 'date' , 'bed', 'bath', 'parking'])\n",
    "    print(len(properties))\n",
    "    # loop through each property \n",
    "    for pro in properties:\n",
    "        #print(pro)\n",
    "        price = pro.find(class_ = 'css-1cq7t6n').text[1:]\n",
    "        if price[-1] == 'K' or price[-1] == 'k':\n",
    "            price = float(price[:-1]) * 1000\n",
    "        else:\n",
    "            try: \n",
    "                price = float(price)\n",
    "            except ValueError:\n",
    "                print(price )\n",
    "                price = None\n",
    "\n",
    "        #print(price)\n",
    "        room_no = pro.find('meta')['content'].split('/')[0]\n",
    "        #print(address1)\n",
    "        year = pro.find(class_ = 'css-bdklbo').text\n",
    "        month_date = pro.find(class_ = 'css-rxoubj').text\n",
    "        #print(year)\n",
    "        #print(month_date)\n",
    "        # get room number \n",
    "        no_rooms = pro.findAll(class_ = 'css-1ie6g1l')\n",
    "        res = []\n",
    "        for r in no_rooms:\n",
    "            #print(r.find(class_ = 'css-1rzse3v').text)\n",
    "            temp = r.find(class_ = 'css-1rzse3v').text.split(\" \")[0]\n",
    "            try: \n",
    "                res.append(int(temp))\n",
    "            except ValueError: \n",
    "                res.append(0)\n",
    "\n",
    "\n",
    "\n",
    "        try:\n",
    "            df = df.append({\n",
    "                    'building_name' : address,\n",
    "                    'room_no' : int(room_no), \n",
    "                    'price' : price , \n",
    "                    'date': pd.to_datetime(year + month_date, format='%Y%b %d'),\n",
    "                    'bed' : res[0], \n",
    "                    'bath': res[1], \n",
    "                    'parking' : res[2]\n",
    "            }, ignore_index=True)\n",
    "        except ValueError:\n",
    "            print(room_no)\n",
    "        \n",
    "    new_dtypes = {\"room_no\": pd.Int64Dtype(), \n",
    "                  \"price\": pd.Int64Dtype(),\n",
    "                    'bed' : pd.Int64Dtype(),\n",
    "                     'bath' : np.integer,\n",
    "                    'parking' :pd.Int64Dtype()}\n",
    "    \n",
    "    df = df.astype(new_dtypes)\n",
    "    df['room_type'] = (df['room_no'] %100).astype(str)\n",
    "    \n",
    "    df['level'] = df['room_no' ] // 100 \n",
    "         \n",
    "    return df "
   ]
  },
  {
   "cell_type": "code",
   "execution_count": 8,
   "metadata": {},
   "outputs": [],
   "source": [
    "def med_price_change(df):\n",
    "    df = df.sort_values(\"date\", ascending = False)\n",
    "    median_price_before_df = df[df.date <= pd.to_datetime('20200301', format='%Y%m%d')]\n",
    "    median_price_after_df =  df[df.date > pd.to_datetime('20200301', format='%Y%m%d')]\n",
    "    median_price_before_df_nona = median_price_before_df.dropna()\n",
    "    median_price_after_df_nona = median_price_after_df.dropna()\n",
    "    #median_price_before_df_nona.loc[:, 'room_type'] = median_price_before_df_nona.room_type.astype(str)\n",
    "    #median_price_after_df_nona.loc[: , 'room_type']= median_price_after_df_nona.room_type.astype(str)\n",
    "    \n",
    "    # get med \n",
    "    med_before = pd.DataFrame(median_price_before_df_nona.groupby('room_type').price.median())\n",
    "    med_before = med_before.rename({'price': 'before_price_med'}, axis = 1)\n",
    "\n",
    "    med_after = pd.DataFrame(median_price_after_df_nona.groupby('room_type').price.median())\n",
    "    med_after = med_after.rename({'price': 'after_price_med'}, axis = 1)\n",
    "    room_no = df.groupby('room_type')[['bed', 'bath']].median()\n",
    "    \n",
    "    # get difference \n",
    "    med_price_df = med_before.join(med_after)\n",
    "    med_price_df['change_precnetage'] = (med_price_df['after_price_med'] - med_price_df['before_price_med'])/med_price_df['after_price_med'] * 100\n",
    "    \n",
    "    # get room info \n",
    "    med_price_df = med_price_df.join(room_no)\n",
    "    \n",
    "    # plot box \n",
    "    df.loc[df.date <= pd.to_datetime('20200301', format='%Y%m%d'),'time_split'] = 'before'\n",
    "\n",
    "    df.loc[df.date > pd.to_datetime('20200301', format='%Y%m%d'),'time_split'] = 'after'\n",
    "    df.room_type= df.room_type.astype(str)\n",
    "    \n",
    "    fig = px.box(df, x=\"room_type\", y=\"price\", color=\"time_split\",height=400, width=800)\n",
    "    fig.update_traces(quartilemethod=\"exclusive\") # or \"inclusive\", or \"linear\" by default\n",
    "\n",
    "    fig.update_xaxes(type='category')\n",
    "    fig.show()\n",
    "\n",
    "    \n",
    "    # plot scatter \n",
    "    \n",
    "    fig = make_subplots(rows=1, cols=2, start_cell=\"bottom-left\",\n",
    "                       subplot_titles=(\"Before bedroom =2 \", \"After bedroom = 2\"))\n",
    "\n",
    "    rt = 2\n",
    "\n",
    "    tempdf = median_price_before_df_nona[median_price_before_df.bed == rt]\n",
    "    fig.add_trace(go.Scatter(x= tempdf.level, y=tempdf.price, \n",
    "                            mode='markers',\n",
    "                            marker=dict(size= list(tempdf['price']//60),\n",
    "                                        color=[px.colors.qualitative.Dark24[int(r)] for r in tempdf.room_type])),\n",
    "                          row=1, col=1)\n",
    "\n",
    "\n",
    "    tempdf = median_price_after_df_nona[median_price_after_df_nona.bed == rt]\n",
    "    fig.add_trace(go.Scatter(x= tempdf.level, y=tempdf.price, \n",
    "                            mode='markers',\n",
    "                            marker=dict(size= list(tempdf['price'] //60),\n",
    "                                        color= [px.colors.qualitative.Dark24[int(r)] for r in tempdf.room_type])),\n",
    "                          row=1, col=2)\n",
    "\n",
    "    fig.update_layout(height=330, width=1000, title_text=\"Before and After the pendanmic\")\n",
    "\n",
    "    fig.show()\n",
    "                                       \n",
    "                                       \n",
    "    # plot with time \n",
    "#     fig = px.scatter(df[df.bed == rt], x=\"date\", y=\"price\", color=\"room_type\",\n",
    "#                      size=((df[df.bed == rt])['bed'].astype(int))/50 ,hover_data=['room_type'],width=700, height=400)\n",
    "    fig = px.scatter(df[df.bed == rt], x=\"date\", y=\"price\", color=\"room_type\",hover_data=['room_type'],width=700, height=400)\n",
    "\n",
    "\n",
    "    fig.show()\n",
    "\n",
    "    \n",
    "    \n",
    "    \n",
    "    return med_price_df\n"
   ]
  },
  {
   "cell_type": "markdown",
   "metadata": {},
   "source": [
    "### 318 Russell street "
   ]
  },
  {
   "cell_type": "code",
   "execution_count": 15,
   "metadata": {},
   "outputs": [
    {
     "name": "stdout",
     "output_type": "stream",
     "text": [
      "248\n"
     ]
    },
    {
     "data": {
      "application/vnd.plotly.v1+json": {
       "config": {
        "plotlyServerURL": "https://plot.ly"
       },
       "data": [
        {
         "alignmentgroup": "True",
         "hovertemplate": "time_split=after<br>room_type=%{x}<br>price=%{y}<extra></extra>",
         "legendgroup": "after",
         "marker": {
          "color": "#636efa"
         },
         "name": "after",
         "notched": false,
         "offsetgroup": "after",
         "orientation": "v",
         "quartilemethod": "exclusive",
         "showlegend": true,
         "type": "box",
         "x": [
          "6",
          "5",
          "4",
          "5",
          "7",
          "9",
          "10",
          "5",
          "10",
          "5",
          "2",
          "6",
          "4",
          "1",
          "7",
          "5",
          "4",
          "1",
          "1",
          "5",
          "6",
          "8",
          "4",
          "6",
          "9",
          "9",
          "1",
          "9",
          "8",
          "5",
          "6",
          "6",
          "2",
          "8",
          "5",
          "7",
          "9",
          "9",
          "2",
          "5",
          "1",
          "4",
          "9",
          "4",
          "3",
          "9",
          "6",
          "3",
          "7",
          "7",
          "7",
          "4",
          "7",
          "4",
          "2",
          "7",
          "2",
          "4",
          "4",
          "7",
          "6",
          "5",
          "7",
          "1",
          "3",
          "5",
          "4",
          "9",
          "6",
          "4",
          "3",
          "2",
          "1",
          "1",
          "10",
          "7",
          "2",
          "7"
         ],
         "x0": " ",
         "xaxis": "x",
         "y": [
          380,
          420,
          420,
          330,
          520,
          560,
          580,
          430,
          620,
          300,
          650,
          410,
          510,
          600,
          430,
          430,
          460,
          550,
          660,
          450,
          420,
          600,
          460,
          430,
          420,
          650,
          650,
          400,
          430,
          430,
          400,
          420,
          650,
          550,
          420,
          500,
          595,
          400,
          900,
          430,
          580,
          450,
          580,
          500,
          580,
          680,
          380,
          580,
          390,
          450,
          400,
          390,
          450,
          460,
          650,
          430,
          1200,
          450,
          530,
          500,
          450,
          430,
          530,
          950,
          580,
          500,
          600,
          500,
          500,
          650,
          600,
          720,
          490,
          800,
          700,
          600,
          800,
          670
         ],
         "y0": " ",
         "yaxis": "y"
        },
        {
         "alignmentgroup": "True",
         "hovertemplate": "time_split=before<br>room_type=%{x}<br>price=%{y}<extra></extra>",
         "legendgroup": "before",
         "marker": {
          "color": "#EF553B"
         },
         "name": "before",
         "notched": false,
         "offsetgroup": "before",
         "orientation": "v",
         "quartilemethod": "exclusive",
         "showlegend": true,
         "type": "box",
         "x": [
          "4",
          "7",
          "8",
          "9",
          "9",
          "9",
          "8",
          "5",
          "6",
          "3",
          "4",
          "10",
          "9",
          "8",
          "6",
          "6",
          "8",
          "5",
          "4",
          "11",
          "9",
          "2",
          "6",
          "2",
          "5",
          "10",
          "8",
          "4",
          "6",
          "3",
          "2",
          "4",
          "9",
          "5",
          "8",
          "3",
          "2",
          "3",
          "7",
          "3",
          "8",
          "5",
          "1",
          "9",
          "8",
          "5",
          "3",
          "6",
          "9",
          "3",
          "5",
          "1",
          "10",
          "10",
          "8",
          "10",
          "7",
          "10",
          "10",
          "8",
          "7",
          "10",
          "1",
          "5",
          "2",
          "7",
          "11",
          "5",
          "4",
          "1",
          "6",
          "6",
          "10",
          "2",
          "9",
          "10",
          "10",
          "3",
          "2",
          "6",
          "6",
          "8",
          "6",
          "8",
          "1",
          "8",
          "8",
          "3",
          "2",
          "3",
          "2",
          "7",
          "10",
          "7",
          "5",
          "6",
          "9",
          "5",
          "3",
          "4",
          "8",
          "9",
          "6",
          "10",
          "1",
          "4",
          "4",
          "5",
          "7",
          "6",
          "2",
          "10",
          "6",
          "5",
          "8",
          "10",
          "2",
          "4",
          "9",
          "4",
          "10",
          "3",
          "6",
          "8",
          "4",
          "1",
          "8",
          "7",
          "6",
          "2",
          "10",
          "1",
          "6",
          "3",
          "1",
          "5",
          "3",
          "10",
          "10",
          "10",
          "4",
          "9",
          "6",
          "6",
          "10",
          "1",
          "8",
          "3",
          "7",
          "8",
          "8",
          "3",
          "6",
          "4",
          "7",
          "1",
          "1",
          "6",
          "7",
          "6",
          "1",
          "2",
          "3",
          "4",
          "4",
          "2",
          "10",
          "9",
          "8",
          "10"
         ],
         "x0": " ",
         "xaxis": "x",
         "y": [
          650,
          662,
          780,
          760,
          840,
          900,
          500,
          522,
          560,
          730,
          560,
          820,
          840,
          700,
          461,
          550,
          682,
          550,
          650,
          780,
          541,
          820,
          542,
          840,
          560,
          700,
          700,
          630,
          552,
          620,
          722,
          640,
          820,
          540,
          1103,
          600,
          820,
          680,
          652,
          700,
          680,
          550,
          750,
          820,
          750,
          550,
          700,
          720,
          700,
          780,
          550,
          802,
          720,
          730,
          550,
          810,
          630,
          730,
          820,
          780,
          630,
          490,
          850,
          500,
          850,
          620,
          720,
          550,
          660,
          1200,
          521,
          550,
          800,
          750,
          800,
          780,
          730,
          760,
          800,
          510,
          470,
          490,
          450,
          760,
          680,
          690,
          1253,
          680,
          800,
          660,
          700,
          650,
          800,
          690,
          540,
          530,
          670,
          480,
          670,
          650,
          651,
          720,
          540,
          580,
          690,
          690,
          580,
          2200,
          580,
          480,
          730,
          531,
          500,
          460,
          800,
          720,
          1200,
          650,
          1103,
          565,
          740,
          660,
          430,
          742,
          640,
          760,
          720,
          590,
          450,
          750,
          690,
          720,
          450,
          660,
          710,
          520,
          570,
          800,
          750,
          750,
          572,
          720,
          450,
          520,
          800,
          720,
          650,
          650,
          560,
          700,
          640,
          630,
          460,
          530,
          561,
          750,
          882,
          602,
          600,
          430,
          682,
          725,
          625,
          600,
          468,
          580,
          630,
          650,
          675,
          390
         ],
         "y0": " ",
         "yaxis": "y"
        }
       ],
       "layout": {
        "boxmode": "group",
        "height": 400,
        "legend": {
         "title": {
          "text": "time_split"
         },
         "tracegroupgap": 0
        },
        "margin": {
         "t": 60
        },
        "template": {
         "data": {
          "bar": [
           {
            "error_x": {
             "color": "#2a3f5f"
            },
            "error_y": {
             "color": "#2a3f5f"
            },
            "marker": {
             "line": {
              "color": "#E5ECF6",
              "width": 0.5
             }
            },
            "type": "bar"
           }
          ],
          "barpolar": [
           {
            "marker": {
             "line": {
              "color": "#E5ECF6",
              "width": 0.5
             }
            },
            "type": "barpolar"
           }
          ],
          "carpet": [
           {
            "aaxis": {
             "endlinecolor": "#2a3f5f",
             "gridcolor": "white",
             "linecolor": "white",
             "minorgridcolor": "white",
             "startlinecolor": "#2a3f5f"
            },
            "baxis": {
             "endlinecolor": "#2a3f5f",
             "gridcolor": "white",
             "linecolor": "white",
             "minorgridcolor": "white",
             "startlinecolor": "#2a3f5f"
            },
            "type": "carpet"
           }
          ],
          "choropleth": [
           {
            "colorbar": {
             "outlinewidth": 0,
             "ticks": ""
            },
            "type": "choropleth"
           }
          ],
          "contour": [
           {
            "colorbar": {
             "outlinewidth": 0,
             "ticks": ""
            },
            "colorscale": [
             [
              0,
              "#0d0887"
             ],
             [
              0.1111111111111111,
              "#46039f"
             ],
             [
              0.2222222222222222,
              "#7201a8"
             ],
             [
              0.3333333333333333,
              "#9c179e"
             ],
             [
              0.4444444444444444,
              "#bd3786"
             ],
             [
              0.5555555555555556,
              "#d8576b"
             ],
             [
              0.6666666666666666,
              "#ed7953"
             ],
             [
              0.7777777777777778,
              "#fb9f3a"
             ],
             [
              0.8888888888888888,
              "#fdca26"
             ],
             [
              1,
              "#f0f921"
             ]
            ],
            "type": "contour"
           }
          ],
          "contourcarpet": [
           {
            "colorbar": {
             "outlinewidth": 0,
             "ticks": ""
            },
            "type": "contourcarpet"
           }
          ],
          "heatmap": [
           {
            "colorbar": {
             "outlinewidth": 0,
             "ticks": ""
            },
            "colorscale": [
             [
              0,
              "#0d0887"
             ],
             [
              0.1111111111111111,
              "#46039f"
             ],
             [
              0.2222222222222222,
              "#7201a8"
             ],
             [
              0.3333333333333333,
              "#9c179e"
             ],
             [
              0.4444444444444444,
              "#bd3786"
             ],
             [
              0.5555555555555556,
              "#d8576b"
             ],
             [
              0.6666666666666666,
              "#ed7953"
             ],
             [
              0.7777777777777778,
              "#fb9f3a"
             ],
             [
              0.8888888888888888,
              "#fdca26"
             ],
             [
              1,
              "#f0f921"
             ]
            ],
            "type": "heatmap"
           }
          ],
          "heatmapgl": [
           {
            "colorbar": {
             "outlinewidth": 0,
             "ticks": ""
            },
            "colorscale": [
             [
              0,
              "#0d0887"
             ],
             [
              0.1111111111111111,
              "#46039f"
             ],
             [
              0.2222222222222222,
              "#7201a8"
             ],
             [
              0.3333333333333333,
              "#9c179e"
             ],
             [
              0.4444444444444444,
              "#bd3786"
             ],
             [
              0.5555555555555556,
              "#d8576b"
             ],
             [
              0.6666666666666666,
              "#ed7953"
             ],
             [
              0.7777777777777778,
              "#fb9f3a"
             ],
             [
              0.8888888888888888,
              "#fdca26"
             ],
             [
              1,
              "#f0f921"
             ]
            ],
            "type": "heatmapgl"
           }
          ],
          "histogram": [
           {
            "marker": {
             "colorbar": {
              "outlinewidth": 0,
              "ticks": ""
             }
            },
            "type": "histogram"
           }
          ],
          "histogram2d": [
           {
            "colorbar": {
             "outlinewidth": 0,
             "ticks": ""
            },
            "colorscale": [
             [
              0,
              "#0d0887"
             ],
             [
              0.1111111111111111,
              "#46039f"
             ],
             [
              0.2222222222222222,
              "#7201a8"
             ],
             [
              0.3333333333333333,
              "#9c179e"
             ],
             [
              0.4444444444444444,
              "#bd3786"
             ],
             [
              0.5555555555555556,
              "#d8576b"
             ],
             [
              0.6666666666666666,
              "#ed7953"
             ],
             [
              0.7777777777777778,
              "#fb9f3a"
             ],
             [
              0.8888888888888888,
              "#fdca26"
             ],
             [
              1,
              "#f0f921"
             ]
            ],
            "type": "histogram2d"
           }
          ],
          "histogram2dcontour": [
           {
            "colorbar": {
             "outlinewidth": 0,
             "ticks": ""
            },
            "colorscale": [
             [
              0,
              "#0d0887"
             ],
             [
              0.1111111111111111,
              "#46039f"
             ],
             [
              0.2222222222222222,
              "#7201a8"
             ],
             [
              0.3333333333333333,
              "#9c179e"
             ],
             [
              0.4444444444444444,
              "#bd3786"
             ],
             [
              0.5555555555555556,
              "#d8576b"
             ],
             [
              0.6666666666666666,
              "#ed7953"
             ],
             [
              0.7777777777777778,
              "#fb9f3a"
             ],
             [
              0.8888888888888888,
              "#fdca26"
             ],
             [
              1,
              "#f0f921"
             ]
            ],
            "type": "histogram2dcontour"
           }
          ],
          "mesh3d": [
           {
            "colorbar": {
             "outlinewidth": 0,
             "ticks": ""
            },
            "type": "mesh3d"
           }
          ],
          "parcoords": [
           {
            "line": {
             "colorbar": {
              "outlinewidth": 0,
              "ticks": ""
             }
            },
            "type": "parcoords"
           }
          ],
          "pie": [
           {
            "automargin": true,
            "type": "pie"
           }
          ],
          "scatter": [
           {
            "marker": {
             "colorbar": {
              "outlinewidth": 0,
              "ticks": ""
             }
            },
            "type": "scatter"
           }
          ],
          "scatter3d": [
           {
            "line": {
             "colorbar": {
              "outlinewidth": 0,
              "ticks": ""
             }
            },
            "marker": {
             "colorbar": {
              "outlinewidth": 0,
              "ticks": ""
             }
            },
            "type": "scatter3d"
           }
          ],
          "scattercarpet": [
           {
            "marker": {
             "colorbar": {
              "outlinewidth": 0,
              "ticks": ""
             }
            },
            "type": "scattercarpet"
           }
          ],
          "scattergeo": [
           {
            "marker": {
             "colorbar": {
              "outlinewidth": 0,
              "ticks": ""
             }
            },
            "type": "scattergeo"
           }
          ],
          "scattergl": [
           {
            "marker": {
             "colorbar": {
              "outlinewidth": 0,
              "ticks": ""
             }
            },
            "type": "scattergl"
           }
          ],
          "scattermapbox": [
           {
            "marker": {
             "colorbar": {
              "outlinewidth": 0,
              "ticks": ""
             }
            },
            "type": "scattermapbox"
           }
          ],
          "scatterpolar": [
           {
            "marker": {
             "colorbar": {
              "outlinewidth": 0,
              "ticks": ""
             }
            },
            "type": "scatterpolar"
           }
          ],
          "scatterpolargl": [
           {
            "marker": {
             "colorbar": {
              "outlinewidth": 0,
              "ticks": ""
             }
            },
            "type": "scatterpolargl"
           }
          ],
          "scatterternary": [
           {
            "marker": {
             "colorbar": {
              "outlinewidth": 0,
              "ticks": ""
             }
            },
            "type": "scatterternary"
           }
          ],
          "surface": [
           {
            "colorbar": {
             "outlinewidth": 0,
             "ticks": ""
            },
            "colorscale": [
             [
              0,
              "#0d0887"
             ],
             [
              0.1111111111111111,
              "#46039f"
             ],
             [
              0.2222222222222222,
              "#7201a8"
             ],
             [
              0.3333333333333333,
              "#9c179e"
             ],
             [
              0.4444444444444444,
              "#bd3786"
             ],
             [
              0.5555555555555556,
              "#d8576b"
             ],
             [
              0.6666666666666666,
              "#ed7953"
             ],
             [
              0.7777777777777778,
              "#fb9f3a"
             ],
             [
              0.8888888888888888,
              "#fdca26"
             ],
             [
              1,
              "#f0f921"
             ]
            ],
            "type": "surface"
           }
          ],
          "table": [
           {
            "cells": {
             "fill": {
              "color": "#EBF0F8"
             },
             "line": {
              "color": "white"
             }
            },
            "header": {
             "fill": {
              "color": "#C8D4E3"
             },
             "line": {
              "color": "white"
             }
            },
            "type": "table"
           }
          ]
         },
         "layout": {
          "annotationdefaults": {
           "arrowcolor": "#2a3f5f",
           "arrowhead": 0,
           "arrowwidth": 1
          },
          "autotypenumbers": "strict",
          "coloraxis": {
           "colorbar": {
            "outlinewidth": 0,
            "ticks": ""
           }
          },
          "colorscale": {
           "diverging": [
            [
             0,
             "#8e0152"
            ],
            [
             0.1,
             "#c51b7d"
            ],
            [
             0.2,
             "#de77ae"
            ],
            [
             0.3,
             "#f1b6da"
            ],
            [
             0.4,
             "#fde0ef"
            ],
            [
             0.5,
             "#f7f7f7"
            ],
            [
             0.6,
             "#e6f5d0"
            ],
            [
             0.7,
             "#b8e186"
            ],
            [
             0.8,
             "#7fbc41"
            ],
            [
             0.9,
             "#4d9221"
            ],
            [
             1,
             "#276419"
            ]
           ],
           "sequential": [
            [
             0,
             "#0d0887"
            ],
            [
             0.1111111111111111,
             "#46039f"
            ],
            [
             0.2222222222222222,
             "#7201a8"
            ],
            [
             0.3333333333333333,
             "#9c179e"
            ],
            [
             0.4444444444444444,
             "#bd3786"
            ],
            [
             0.5555555555555556,
             "#d8576b"
            ],
            [
             0.6666666666666666,
             "#ed7953"
            ],
            [
             0.7777777777777778,
             "#fb9f3a"
            ],
            [
             0.8888888888888888,
             "#fdca26"
            ],
            [
             1,
             "#f0f921"
            ]
           ],
           "sequentialminus": [
            [
             0,
             "#0d0887"
            ],
            [
             0.1111111111111111,
             "#46039f"
            ],
            [
             0.2222222222222222,
             "#7201a8"
            ],
            [
             0.3333333333333333,
             "#9c179e"
            ],
            [
             0.4444444444444444,
             "#bd3786"
            ],
            [
             0.5555555555555556,
             "#d8576b"
            ],
            [
             0.6666666666666666,
             "#ed7953"
            ],
            [
             0.7777777777777778,
             "#fb9f3a"
            ],
            [
             0.8888888888888888,
             "#fdca26"
            ],
            [
             1,
             "#f0f921"
            ]
           ]
          },
          "colorway": [
           "#636efa",
           "#EF553B",
           "#00cc96",
           "#ab63fa",
           "#FFA15A",
           "#19d3f3",
           "#FF6692",
           "#B6E880",
           "#FF97FF",
           "#FECB52"
          ],
          "font": {
           "color": "#2a3f5f"
          },
          "geo": {
           "bgcolor": "white",
           "lakecolor": "white",
           "landcolor": "#E5ECF6",
           "showlakes": true,
           "showland": true,
           "subunitcolor": "white"
          },
          "hoverlabel": {
           "align": "left"
          },
          "hovermode": "closest",
          "mapbox": {
           "style": "light"
          },
          "paper_bgcolor": "white",
          "plot_bgcolor": "#E5ECF6",
          "polar": {
           "angularaxis": {
            "gridcolor": "white",
            "linecolor": "white",
            "ticks": ""
           },
           "bgcolor": "#E5ECF6",
           "radialaxis": {
            "gridcolor": "white",
            "linecolor": "white",
            "ticks": ""
           }
          },
          "scene": {
           "xaxis": {
            "backgroundcolor": "#E5ECF6",
            "gridcolor": "white",
            "gridwidth": 2,
            "linecolor": "white",
            "showbackground": true,
            "ticks": "",
            "zerolinecolor": "white"
           },
           "yaxis": {
            "backgroundcolor": "#E5ECF6",
            "gridcolor": "white",
            "gridwidth": 2,
            "linecolor": "white",
            "showbackground": true,
            "ticks": "",
            "zerolinecolor": "white"
           },
           "zaxis": {
            "backgroundcolor": "#E5ECF6",
            "gridcolor": "white",
            "gridwidth": 2,
            "linecolor": "white",
            "showbackground": true,
            "ticks": "",
            "zerolinecolor": "white"
           }
          },
          "shapedefaults": {
           "line": {
            "color": "#2a3f5f"
           }
          },
          "ternary": {
           "aaxis": {
            "gridcolor": "white",
            "linecolor": "white",
            "ticks": ""
           },
           "baxis": {
            "gridcolor": "white",
            "linecolor": "white",
            "ticks": ""
           },
           "bgcolor": "#E5ECF6",
           "caxis": {
            "gridcolor": "white",
            "linecolor": "white",
            "ticks": ""
           }
          },
          "title": {
           "x": 0.05
          },
          "xaxis": {
           "automargin": true,
           "gridcolor": "white",
           "linecolor": "white",
           "ticks": "",
           "title": {
            "standoff": 15
           },
           "zerolinecolor": "white",
           "zerolinewidth": 2
          },
          "yaxis": {
           "automargin": true,
           "gridcolor": "white",
           "linecolor": "white",
           "ticks": "",
           "title": {
            "standoff": 15
           },
           "zerolinecolor": "white",
           "zerolinewidth": 2
          }
         }
        },
        "width": 800,
        "xaxis": {
         "anchor": "y",
         "domain": [
          0,
          1
         ],
         "title": {
          "text": "room_type"
         },
         "type": "category"
        },
        "yaxis": {
         "anchor": "x",
         "domain": [
          0,
          1
         ],
         "title": {
          "text": "price"
         }
        }
       }
      },
      "text/html": [
       "<div>                            <div id=\"29dcaf22-01d4-4e07-80da-f0b2ee28a37f\" class=\"plotly-graph-div\" style=\"height:400px; width:800px;\"></div>            <script type=\"text/javascript\">                require([\"plotly\"], function(Plotly) {                    window.PLOTLYENV=window.PLOTLYENV || {};                                    if (document.getElementById(\"29dcaf22-01d4-4e07-80da-f0b2ee28a37f\")) {                    Plotly.newPlot(                        \"29dcaf22-01d4-4e07-80da-f0b2ee28a37f\",                        [{\"alignmentgroup\": \"True\", \"hovertemplate\": \"time_split=after<br>room_type=%{x}<br>price=%{y}<extra></extra>\", \"legendgroup\": \"after\", \"marker\": {\"color\": \"#636efa\"}, \"name\": \"after\", \"notched\": false, \"offsetgroup\": \"after\", \"orientation\": \"v\", \"quartilemethod\": \"exclusive\", \"showlegend\": true, \"type\": \"box\", \"x\": [\"6\", \"5\", \"4\", \"5\", \"7\", \"9\", \"10\", \"5\", \"10\", \"5\", \"2\", \"6\", \"4\", \"1\", \"7\", \"5\", \"4\", \"1\", \"1\", \"5\", \"6\", \"8\", \"4\", \"6\", \"9\", \"9\", \"1\", \"9\", \"8\", \"5\", \"6\", \"6\", \"2\", \"8\", \"5\", \"7\", \"9\", \"9\", \"2\", \"5\", \"1\", \"4\", \"9\", \"4\", \"3\", \"9\", \"6\", \"3\", \"7\", \"7\", \"7\", \"4\", \"7\", \"4\", \"2\", \"7\", \"2\", \"4\", \"4\", \"7\", \"6\", \"5\", \"7\", \"1\", \"3\", \"5\", \"4\", \"9\", \"6\", \"4\", \"3\", \"2\", \"1\", \"1\", \"10\", \"7\", \"2\", \"7\"], \"x0\": \" \", \"xaxis\": \"x\", \"y\": [380, 420, 420, 330, 520, 560, 580, 430, 620, 300, 650, 410, 510, 600, 430, 430, 460, 550, 660, 450, 420, 600, 460, 430, 420, 650, 650, 400, 430, 430, 400, 420, 650, 550, 420, 500, 595, 400, 900, 430, 580, 450, 580, 500, 580, 680, 380, 580, 390, 450, 400, 390, 450, 460, 650, 430, 1200, 450, 530, 500, 450, 430, 530, 950, 580, 500, 600, 500, 500, 650, 600, 720, 490, 800, 700, 600, 800, 670], \"y0\": \" \", \"yaxis\": \"y\"}, {\"alignmentgroup\": \"True\", \"hovertemplate\": \"time_split=before<br>room_type=%{x}<br>price=%{y}<extra></extra>\", \"legendgroup\": \"before\", \"marker\": {\"color\": \"#EF553B\"}, \"name\": \"before\", \"notched\": false, \"offsetgroup\": \"before\", \"orientation\": \"v\", \"quartilemethod\": \"exclusive\", \"showlegend\": true, \"type\": \"box\", \"x\": [\"4\", \"7\", \"8\", \"9\", \"9\", \"9\", \"8\", \"5\", \"6\", \"3\", \"4\", \"10\", \"9\", \"8\", \"6\", \"6\", \"8\", \"5\", \"4\", \"11\", \"9\", \"2\", \"6\", \"2\", \"5\", \"10\", \"8\", \"4\", \"6\", \"3\", \"2\", \"4\", \"9\", \"5\", \"8\", \"3\", \"2\", \"3\", \"7\", \"3\", \"8\", \"5\", \"1\", \"9\", \"8\", \"5\", \"3\", \"6\", \"9\", \"3\", \"5\", \"1\", \"10\", \"10\", \"8\", \"10\", \"7\", \"10\", \"10\", \"8\", \"7\", \"10\", \"1\", \"5\", \"2\", \"7\", \"11\", \"5\", \"4\", \"1\", \"6\", \"6\", \"10\", \"2\", \"9\", \"10\", \"10\", \"3\", \"2\", \"6\", \"6\", \"8\", \"6\", \"8\", \"1\", \"8\", \"8\", \"3\", \"2\", \"3\", \"2\", \"7\", \"10\", \"7\", \"5\", \"6\", \"9\", \"5\", \"3\", \"4\", \"8\", \"9\", \"6\", \"10\", \"1\", \"4\", \"4\", \"5\", \"7\", \"6\", \"2\", \"10\", \"6\", \"5\", \"8\", \"10\", \"2\", \"4\", \"9\", \"4\", \"10\", \"3\", \"6\", \"8\", \"4\", \"1\", \"8\", \"7\", \"6\", \"2\", \"10\", \"1\", \"6\", \"3\", \"1\", \"5\", \"3\", \"10\", \"10\", \"10\", \"4\", \"9\", \"6\", \"6\", \"10\", \"1\", \"8\", \"3\", \"7\", \"8\", \"8\", \"3\", \"6\", \"4\", \"7\", \"1\", \"1\", \"6\", \"7\", \"6\", \"1\", \"2\", \"3\", \"4\", \"4\", \"2\", \"10\", \"9\", \"8\", \"10\"], \"x0\": \" \", \"xaxis\": \"x\", \"y\": [650, 662, 780, 760, 840, 900, 500, 522, 560, 730, 560, 820, 840, 700, 461, 550, 682, 550, 650, 780, 541, 820, 542, 840, 560, 700, 700, 630, 552, 620, 722, 640, 820, 540, 1103, 600, 820, 680, 652, 700, 680, 550, 750, 820, 750, 550, 700, 720, 700, 780, 550, 802, 720, 730, 550, 810, 630, 730, 820, 780, 630, 490, 850, 500, 850, 620, 720, 550, 660, 1200, 521, 550, 800, 750, 800, 780, 730, 760, 800, 510, 470, 490, 450, 760, 680, 690, 1253, 680, 800, 660, 700, 650, 800, 690, 540, 530, 670, 480, 670, 650, 651, 720, 540, 580, 690, 690, 580, 2200, 580, 480, 730, 531, 500, 460, 800, 720, 1200, 650, 1103, 565, 740, 660, 430, 742, 640, 760, 720, 590, 450, 750, 690, 720, 450, 660, 710, 520, 570, 800, 750, 750, 572, 720, 450, 520, 800, 720, 650, 650, 560, 700, 640, 630, 460, 530, 561, 750, 882, 602, 600, 430, 682, 725, 625, 600, 468, 580, 630, 650, 675, 390], \"y0\": \" \", \"yaxis\": \"y\"}],                        {\"boxmode\": \"group\", \"height\": 400, \"legend\": {\"title\": {\"text\": \"time_split\"}, \"tracegroupgap\": 0}, \"margin\": {\"t\": 60}, \"template\": {\"data\": {\"bar\": [{\"error_x\": {\"color\": \"#2a3f5f\"}, \"error_y\": {\"color\": \"#2a3f5f\"}, \"marker\": {\"line\": {\"color\": \"#E5ECF6\", \"width\": 0.5}}, \"type\": \"bar\"}], \"barpolar\": [{\"marker\": {\"line\": {\"color\": \"#E5ECF6\", \"width\": 0.5}}, \"type\": \"barpolar\"}], \"carpet\": [{\"aaxis\": {\"endlinecolor\": \"#2a3f5f\", \"gridcolor\": \"white\", \"linecolor\": \"white\", \"minorgridcolor\": \"white\", \"startlinecolor\": \"#2a3f5f\"}, \"baxis\": {\"endlinecolor\": \"#2a3f5f\", \"gridcolor\": \"white\", \"linecolor\": \"white\", \"minorgridcolor\": \"white\", \"startlinecolor\": \"#2a3f5f\"}, \"type\": \"carpet\"}], \"choropleth\": [{\"colorbar\": {\"outlinewidth\": 0, \"ticks\": \"\"}, \"type\": \"choropleth\"}], \"contour\": [{\"colorbar\": {\"outlinewidth\": 0, \"ticks\": \"\"}, \"colorscale\": [[0.0, \"#0d0887\"], [0.1111111111111111, \"#46039f\"], [0.2222222222222222, \"#7201a8\"], [0.3333333333333333, \"#9c179e\"], [0.4444444444444444, \"#bd3786\"], [0.5555555555555556, \"#d8576b\"], [0.6666666666666666, \"#ed7953\"], [0.7777777777777778, \"#fb9f3a\"], [0.8888888888888888, \"#fdca26\"], [1.0, \"#f0f921\"]], \"type\": \"contour\"}], \"contourcarpet\": [{\"colorbar\": {\"outlinewidth\": 0, \"ticks\": \"\"}, \"type\": \"contourcarpet\"}], \"heatmap\": [{\"colorbar\": {\"outlinewidth\": 0, \"ticks\": \"\"}, \"colorscale\": [[0.0, \"#0d0887\"], [0.1111111111111111, \"#46039f\"], [0.2222222222222222, \"#7201a8\"], [0.3333333333333333, \"#9c179e\"], [0.4444444444444444, \"#bd3786\"], [0.5555555555555556, \"#d8576b\"], [0.6666666666666666, \"#ed7953\"], [0.7777777777777778, \"#fb9f3a\"], [0.8888888888888888, \"#fdca26\"], [1.0, \"#f0f921\"]], \"type\": \"heatmap\"}], \"heatmapgl\": [{\"colorbar\": {\"outlinewidth\": 0, \"ticks\": \"\"}, \"colorscale\": [[0.0, \"#0d0887\"], [0.1111111111111111, \"#46039f\"], [0.2222222222222222, \"#7201a8\"], [0.3333333333333333, \"#9c179e\"], [0.4444444444444444, \"#bd3786\"], [0.5555555555555556, \"#d8576b\"], [0.6666666666666666, \"#ed7953\"], [0.7777777777777778, \"#fb9f3a\"], [0.8888888888888888, \"#fdca26\"], [1.0, \"#f0f921\"]], \"type\": \"heatmapgl\"}], \"histogram\": [{\"marker\": {\"colorbar\": {\"outlinewidth\": 0, \"ticks\": \"\"}}, \"type\": \"histogram\"}], \"histogram2d\": [{\"colorbar\": {\"outlinewidth\": 0, \"ticks\": \"\"}, \"colorscale\": [[0.0, \"#0d0887\"], [0.1111111111111111, \"#46039f\"], [0.2222222222222222, \"#7201a8\"], [0.3333333333333333, \"#9c179e\"], [0.4444444444444444, \"#bd3786\"], [0.5555555555555556, \"#d8576b\"], [0.6666666666666666, \"#ed7953\"], [0.7777777777777778, \"#fb9f3a\"], [0.8888888888888888, \"#fdca26\"], [1.0, \"#f0f921\"]], \"type\": \"histogram2d\"}], \"histogram2dcontour\": [{\"colorbar\": {\"outlinewidth\": 0, \"ticks\": \"\"}, \"colorscale\": [[0.0, \"#0d0887\"], [0.1111111111111111, \"#46039f\"], [0.2222222222222222, \"#7201a8\"], [0.3333333333333333, \"#9c179e\"], [0.4444444444444444, \"#bd3786\"], [0.5555555555555556, \"#d8576b\"], [0.6666666666666666, \"#ed7953\"], [0.7777777777777778, \"#fb9f3a\"], [0.8888888888888888, \"#fdca26\"], [1.0, \"#f0f921\"]], \"type\": \"histogram2dcontour\"}], \"mesh3d\": [{\"colorbar\": {\"outlinewidth\": 0, \"ticks\": \"\"}, \"type\": \"mesh3d\"}], \"parcoords\": [{\"line\": {\"colorbar\": {\"outlinewidth\": 0, \"ticks\": \"\"}}, \"type\": \"parcoords\"}], \"pie\": [{\"automargin\": true, \"type\": \"pie\"}], \"scatter\": [{\"marker\": {\"colorbar\": {\"outlinewidth\": 0, \"ticks\": \"\"}}, \"type\": \"scatter\"}], \"scatter3d\": [{\"line\": {\"colorbar\": {\"outlinewidth\": 0, \"ticks\": \"\"}}, \"marker\": {\"colorbar\": {\"outlinewidth\": 0, \"ticks\": \"\"}}, \"type\": \"scatter3d\"}], \"scattercarpet\": [{\"marker\": {\"colorbar\": {\"outlinewidth\": 0, \"ticks\": \"\"}}, \"type\": \"scattercarpet\"}], \"scattergeo\": [{\"marker\": {\"colorbar\": {\"outlinewidth\": 0, \"ticks\": \"\"}}, \"type\": \"scattergeo\"}], \"scattergl\": [{\"marker\": {\"colorbar\": {\"outlinewidth\": 0, \"ticks\": \"\"}}, \"type\": \"scattergl\"}], \"scattermapbox\": [{\"marker\": {\"colorbar\": {\"outlinewidth\": 0, \"ticks\": \"\"}}, \"type\": \"scattermapbox\"}], \"scatterpolar\": [{\"marker\": {\"colorbar\": {\"outlinewidth\": 0, \"ticks\": \"\"}}, \"type\": \"scatterpolar\"}], \"scatterpolargl\": [{\"marker\": {\"colorbar\": {\"outlinewidth\": 0, \"ticks\": \"\"}}, \"type\": \"scatterpolargl\"}], \"scatterternary\": [{\"marker\": {\"colorbar\": {\"outlinewidth\": 0, \"ticks\": \"\"}}, \"type\": \"scatterternary\"}], \"surface\": [{\"colorbar\": {\"outlinewidth\": 0, \"ticks\": \"\"}, \"colorscale\": [[0.0, \"#0d0887\"], [0.1111111111111111, \"#46039f\"], [0.2222222222222222, \"#7201a8\"], [0.3333333333333333, \"#9c179e\"], [0.4444444444444444, \"#bd3786\"], [0.5555555555555556, \"#d8576b\"], [0.6666666666666666, \"#ed7953\"], [0.7777777777777778, \"#fb9f3a\"], [0.8888888888888888, \"#fdca26\"], [1.0, \"#f0f921\"]], \"type\": \"surface\"}], \"table\": [{\"cells\": {\"fill\": {\"color\": \"#EBF0F8\"}, \"line\": {\"color\": \"white\"}}, \"header\": {\"fill\": {\"color\": \"#C8D4E3\"}, \"line\": {\"color\": \"white\"}}, \"type\": \"table\"}]}, \"layout\": {\"annotationdefaults\": {\"arrowcolor\": \"#2a3f5f\", \"arrowhead\": 0, \"arrowwidth\": 1}, \"autotypenumbers\": \"strict\", \"coloraxis\": {\"colorbar\": {\"outlinewidth\": 0, \"ticks\": \"\"}}, \"colorscale\": {\"diverging\": [[0, \"#8e0152\"], [0.1, \"#c51b7d\"], [0.2, \"#de77ae\"], [0.3, \"#f1b6da\"], [0.4, \"#fde0ef\"], [0.5, \"#f7f7f7\"], [0.6, \"#e6f5d0\"], [0.7, \"#b8e186\"], [0.8, \"#7fbc41\"], [0.9, \"#4d9221\"], [1, \"#276419\"]], \"sequential\": [[0.0, \"#0d0887\"], [0.1111111111111111, \"#46039f\"], [0.2222222222222222, \"#7201a8\"], [0.3333333333333333, \"#9c179e\"], [0.4444444444444444, \"#bd3786\"], [0.5555555555555556, \"#d8576b\"], [0.6666666666666666, \"#ed7953\"], [0.7777777777777778, \"#fb9f3a\"], [0.8888888888888888, \"#fdca26\"], [1.0, \"#f0f921\"]], \"sequentialminus\": [[0.0, \"#0d0887\"], [0.1111111111111111, \"#46039f\"], [0.2222222222222222, \"#7201a8\"], [0.3333333333333333, \"#9c179e\"], [0.4444444444444444, \"#bd3786\"], [0.5555555555555556, \"#d8576b\"], [0.6666666666666666, \"#ed7953\"], [0.7777777777777778, \"#fb9f3a\"], [0.8888888888888888, \"#fdca26\"], [1.0, \"#f0f921\"]]}, \"colorway\": [\"#636efa\", \"#EF553B\", \"#00cc96\", \"#ab63fa\", \"#FFA15A\", \"#19d3f3\", \"#FF6692\", \"#B6E880\", \"#FF97FF\", \"#FECB52\"], \"font\": {\"color\": \"#2a3f5f\"}, \"geo\": {\"bgcolor\": \"white\", \"lakecolor\": \"white\", \"landcolor\": \"#E5ECF6\", \"showlakes\": true, \"showland\": true, \"subunitcolor\": \"white\"}, \"hoverlabel\": {\"align\": \"left\"}, \"hovermode\": \"closest\", \"mapbox\": {\"style\": \"light\"}, \"paper_bgcolor\": \"white\", \"plot_bgcolor\": \"#E5ECF6\", \"polar\": {\"angularaxis\": {\"gridcolor\": \"white\", \"linecolor\": \"white\", \"ticks\": \"\"}, \"bgcolor\": \"#E5ECF6\", \"radialaxis\": {\"gridcolor\": \"white\", \"linecolor\": \"white\", \"ticks\": \"\"}}, \"scene\": {\"xaxis\": {\"backgroundcolor\": \"#E5ECF6\", \"gridcolor\": \"white\", \"gridwidth\": 2, \"linecolor\": \"white\", \"showbackground\": true, \"ticks\": \"\", \"zerolinecolor\": \"white\"}, \"yaxis\": {\"backgroundcolor\": \"#E5ECF6\", \"gridcolor\": \"white\", \"gridwidth\": 2, \"linecolor\": \"white\", \"showbackground\": true, \"ticks\": \"\", \"zerolinecolor\": \"white\"}, \"zaxis\": {\"backgroundcolor\": \"#E5ECF6\", \"gridcolor\": \"white\", \"gridwidth\": 2, \"linecolor\": \"white\", \"showbackground\": true, \"ticks\": \"\", \"zerolinecolor\": \"white\"}}, \"shapedefaults\": {\"line\": {\"color\": \"#2a3f5f\"}}, \"ternary\": {\"aaxis\": {\"gridcolor\": \"white\", \"linecolor\": \"white\", \"ticks\": \"\"}, \"baxis\": {\"gridcolor\": \"white\", \"linecolor\": \"white\", \"ticks\": \"\"}, \"bgcolor\": \"#E5ECF6\", \"caxis\": {\"gridcolor\": \"white\", \"linecolor\": \"white\", \"ticks\": \"\"}}, \"title\": {\"x\": 0.05}, \"xaxis\": {\"automargin\": true, \"gridcolor\": \"white\", \"linecolor\": \"white\", \"ticks\": \"\", \"title\": {\"standoff\": 15}, \"zerolinecolor\": \"white\", \"zerolinewidth\": 2}, \"yaxis\": {\"automargin\": true, \"gridcolor\": \"white\", \"linecolor\": \"white\", \"ticks\": \"\", \"title\": {\"standoff\": 15}, \"zerolinecolor\": \"white\", \"zerolinewidth\": 2}}}, \"width\": 800, \"xaxis\": {\"anchor\": \"y\", \"domain\": [0.0, 1.0], \"title\": {\"text\": \"room_type\"}, \"type\": \"category\"}, \"yaxis\": {\"anchor\": \"x\", \"domain\": [0.0, 1.0], \"title\": {\"text\": \"price\"}}},                        {\"responsive\": true}                    ).then(function(){\n",
       "                            \n",
       "var gd = document.getElementById('29dcaf22-01d4-4e07-80da-f0b2ee28a37f');\n",
       "var x = new MutationObserver(function (mutations, observer) {{\n",
       "        var display = window.getComputedStyle(gd).display;\n",
       "        if (!display || display === 'none') {{\n",
       "            console.log([gd, 'removed!']);\n",
       "            Plotly.purge(gd);\n",
       "            observer.disconnect();\n",
       "        }}\n",
       "}});\n",
       "\n",
       "// Listen for the removal of the full notebook cells\n",
       "var notebookContainer = gd.closest('#notebook-container');\n",
       "if (notebookContainer) {{\n",
       "    x.observe(notebookContainer, {childList: true});\n",
       "}}\n",
       "\n",
       "// Listen for the clearing of the current output cell\n",
       "var outputEl = gd.closest('.output');\n",
       "if (outputEl) {{\n",
       "    x.observe(outputEl, {childList: true});\n",
       "}}\n",
       "\n",
       "                        })                };                });            </script>        </div>"
      ]
     },
     "metadata": {},
     "output_type": "display_data"
    },
    {
     "data": {
      "application/vnd.plotly.v1+json": {
       "config": {
        "plotlyServerURL": "https://plot.ly"
       },
       "data": [
        {
         "marker": {
          "color": [
           "#DA16FF",
           "#750D86",
           "#EB663B",
           "#511CFB",
           "#511CFB",
           "#511CFB",
           "#FB0D0D",
           "#00A08B",
           "#511CFB",
           "#EB663B",
           "#EB663B",
           "#DA16FF",
           "#FB00D1",
           "#1CA71C",
           "#1CA71C",
           "#00A08B",
           "#EB663B",
           "#DA16FF",
           "#FB0D0D",
           "#1CA71C",
           "#DA16FF",
           "#511CFB",
           "#FB0D0D",
           "#1CA71C",
           "#FB0D0D",
           "#750D86",
           "#FB0D0D",
           "#EB663B",
           "#E15F99",
           "#511CFB",
           "#EB663B",
           "#FB0D0D",
           "#B68100",
           "#511CFB",
           "#FB0D0D",
           "#E15F99",
           "#00A08B",
           "#00A08B",
           "#00A08B",
           "#750D86",
           "#00A08B",
           "#00A08B",
           "#EB663B",
           "#750D86",
           "#E15F99",
           "#1CA71C",
           "#750D86",
           "#FB00D1",
           "#DA16FF",
           "#00A08B",
           "#1CA71C",
           "#511CFB",
           "#00A08B",
           "#00A08B",
           "#FB0D0D",
           "#1CA71C",
           "#EB663B",
           "#E15F99",
           "#EB663B",
           "#FB0D0D",
           "#1CA71C",
           "#FB0D0D",
           "#1CA71C",
           "#750D86",
           "#00A08B",
           "#750D86",
           "#511CFB",
           "#FB0D0D",
           "#DA16FF",
           "#EB663B",
           "#511CFB",
           "#E15F99",
           "#DA16FF",
           "#DA16FF",
           "#750D86",
           "#1CA71C",
           "#EB663B",
           "#00A08B",
           "#DA16FF",
           "#DA16FF",
           "#00A08B",
           "#FB0D0D",
           "#EB663B",
           "#DA16FF",
           "#E15F99",
           "#EB663B",
           "#750D86",
           "#1CA71C",
           "#00A08B",
           "#E15F99",
           "#FB0D0D",
           "#E15F99",
           "#FB0D0D",
           "#00A08B",
           "#00A08B",
           "#00A08B",
           "#DA16FF",
           "#511CFB",
           "#00A08B",
           "#E15F99",
           "#EB663B",
           "#FB0D0D",
           "#750D86",
           "#EB663B",
           "#EB663B",
           "#FB0D0D",
           "#DA16FF",
           "#750D86",
           "#E15F99",
           "#E15F99",
           "#B68100",
           "#750D86",
           "#E15F99",
           "#1CA71C",
           "#FB0D0D",
           "#DA16FF",
           "#DA16FF",
           "#1CA71C",
           "#00A08B",
           "#511CFB",
           "#EB663B"
          ],
          "size": [
           10,
           11,
           13,
           12,
           14,
           15,
           12,
           13,
           14,
           11,
           11,
           10,
           13,
           13,
           14,
           11,
           11,
           10,
           10,
           12,
           10,
           13,
           10,
           13,
           11,
           10,
           11,
           11,
           12,
           13,
           12,
           11,
           12,
           11,
           13,
           13,
           12,
           12,
           13,
           10,
           12,
           13,
           13,
           10,
           14,
           14,
           10,
           12,
           11,
           13,
           12,
           13,
           13,
           12,
           12,
           13,
           12,
           11,
           11,
           11,
           13,
           11,
           11,
           10,
           13,
           11,
           11,
           11,
           10,
           10,
           12,
           11,
           11,
           9,
           9,
           12,
           13,
           12,
           10,
           9,
           12,
           11,
           12,
           10,
           12,
           12,
           9,
           12,
           11,
           12,
           11,
           11,
           9,
           13,
           12,
           12,
           9,
           12,
           13,
           12,
           10,
           10,
           9,
           11,
           10,
           10,
           8,
           9,
           12,
           14,
           10,
           10,
           11,
           12,
           10,
           10,
           7,
           9,
           10,
           10,
           11
          ]
         },
         "mode": "markers",
         "type": "scatter",
         "x": [
          41,
          30,
          47,
          39,
          10,
          45,
          40,
          11,
          48,
          34,
          29,
          19,
          12,
          12,
          16,
          31,
          53,
          11,
          44,
          36,
          46,
          40,
          48,
          33,
          29,
          45,
          20,
          38,
          47,
          18,
          41,
          51,
          51,
          21,
          21,
          12,
          34,
          17,
          25,
          29,
          29,
          47,
          24,
          20,
          30,
          21,
          14,
          16,
          39,
          26,
          22,
          47,
          21,
          28,
          24,
          26,
          48,
          15,
          17,
          31,
          38,
          33,
          28,
          12,
          42,
          48,
          17,
          14,
          14,
          46,
          42,
          23,
          43,
          25,
          11,
          15,
          28,
          37,
          16,
          15,
          43,
          11,
          27,
          32,
          22,
          18,
          41,
          11,
          32,
          20,
          38,
          21,
          15,
          36,
          41,
          33,
          24,
          27,
          23,
          41,
          21,
          28,
          13,
          22,
          25,
          12,
          18,
          37,
          32,
          40,
          53,
          31,
          36,
          43,
          43,
          48,
          13,
          30,
          20,
          25,
          33
         ],
         "xaxis": "x",
         "y": [
          650,
          662,
          780,
          760,
          840,
          900,
          730,
          820,
          840,
          700,
          682,
          650,
          780,
          820,
          840,
          700,
          700,
          630,
          620,
          722,
          640,
          820,
          600,
          820,
          680,
          652,
          700,
          680,
          750,
          820,
          750,
          700,
          720,
          700,
          780,
          802,
          720,
          730,
          810,
          630,
          730,
          820,
          780,
          630,
          850,
          850,
          620,
          720,
          660,
          800,
          750,
          800,
          780,
          730,
          760,
          800,
          760,
          680,
          690,
          680,
          800,
          660,
          700,
          650,
          800,
          690,
          670,
          670,
          650,
          651,
          720,
          690,
          690,
          580,
          580,
          730,
          800,
          720,
          650,
          565,
          740,
          660,
          742,
          640,
          760,
          720,
          590,
          750,
          690,
          720,
          660,
          710,
          570,
          800,
          750,
          750,
          572,
          720,
          800,
          720,
          650,
          650,
          560,
          700,
          640,
          630,
          530,
          561,
          750,
          882,
          602,
          600,
          682,
          725,
          625,
          600,
          468,
          580,
          630,
          650,
          675
         ],
         "yaxis": "y"
        },
        {
         "marker": {
          "color": [
           "#DA16FF",
           "#750D86",
           "#511CFB",
           "#00A08B",
           "#00A08B",
           "#1CA71C",
           "#DA16FF",
           "#E15F99",
           "#750D86",
           "#DA16FF",
           "#E15F99",
           "#E15F99",
           "#EB663B",
           "#DA16FF",
           "#511CFB",
           "#E15F99",
           "#1CA71C",
           "#EB663B",
           "#750D86",
           "#511CFB",
           "#E15F99",
           "#511CFB",
           "#DA16FF",
           "#FB0D0D",
           "#511CFB",
           "#FB0D0D",
           "#750D86",
           "#750D86",
           "#750D86",
           "#DA16FF",
           "#750D86",
           "#DA16FF",
           "#1CA71C",
           "#750D86",
           "#DA16FF",
           "#DA16FF",
           "#750D86",
           "#750D86",
           "#FB0D0D",
           "#DA16FF",
           "#DA16FF",
           "#FB0D0D",
           "#1CA71C",
           "#E15F99",
           "#E15F99",
           "#00A08B",
           "#750D86",
           "#1CA71C",
           "#750D86"
          ],
          "size": [
           7,
           8,
           9,
           9,
           10,
           10,
           8,
           10,
           7,
           7,
           9,
           11,
           10,
           7,
           10,
           10,
           10,
           9,
           8,
           9,
           9,
           9,
           8,
           9,
           11,
           9,
           6,
           7,
           6,
           6,
           7,
           7,
           10,
           7,
           7,
           8,
           8,
           8,
           9,
           10,
           10,
           10,
           12,
           8,
           13,
           11,
           10,
           13,
           11
          ]
         },
         "mode": "markers",
         "type": "scatter",
         "x": [
          35,
          42,
          38,
          19,
          45,
          39,
          47,
          42,
          27,
          34,
          10,
          44,
          40,
          22,
          41,
          24,
          27,
          19,
          33,
          34,
          18,
          11,
          28,
          19,
          24,
          22,
          34,
          39,
          21,
          20,
          44,
          17,
          32,
          28,
          40,
          33,
          22,
          25,
          42,
          36,
          44,
          27,
          19,
          17,
          25,
          38,
          23,
          29,
          46
         ],
         "xaxis": "x2",
         "y": [
          420,
          520,
          560,
          580,
          620,
          650,
          510,
          600,
          430,
          460,
          550,
          660,
          600,
          460,
          650,
          650,
          650,
          550,
          500,
          595,
          580,
          580,
          500,
          580,
          680,
          580,
          390,
          450,
          400,
          390,
          450,
          460,
          650,
          430,
          450,
          530,
          500,
          530,
          580,
          600,
          650,
          600,
          720,
          490,
          800,
          700,
          600,
          800,
          670
         ],
         "yaxis": "y2"
        }
       ],
       "layout": {
        "annotations": [
         {
          "font": {
           "size": 16
          },
          "showarrow": false,
          "text": "Before bedroom =2 ",
          "x": 0.225,
          "xanchor": "center",
          "xref": "paper",
          "y": 1,
          "yanchor": "bottom",
          "yref": "paper"
         },
         {
          "font": {
           "size": 16
          },
          "showarrow": false,
          "text": "After bedroom = 2",
          "x": 0.775,
          "xanchor": "center",
          "xref": "paper",
          "y": 1,
          "yanchor": "bottom",
          "yref": "paper"
         }
        ],
        "height": 330,
        "template": {
         "data": {
          "bar": [
           {
            "error_x": {
             "color": "#2a3f5f"
            },
            "error_y": {
             "color": "#2a3f5f"
            },
            "marker": {
             "line": {
              "color": "#E5ECF6",
              "width": 0.5
             }
            },
            "type": "bar"
           }
          ],
          "barpolar": [
           {
            "marker": {
             "line": {
              "color": "#E5ECF6",
              "width": 0.5
             }
            },
            "type": "barpolar"
           }
          ],
          "carpet": [
           {
            "aaxis": {
             "endlinecolor": "#2a3f5f",
             "gridcolor": "white",
             "linecolor": "white",
             "minorgridcolor": "white",
             "startlinecolor": "#2a3f5f"
            },
            "baxis": {
             "endlinecolor": "#2a3f5f",
             "gridcolor": "white",
             "linecolor": "white",
             "minorgridcolor": "white",
             "startlinecolor": "#2a3f5f"
            },
            "type": "carpet"
           }
          ],
          "choropleth": [
           {
            "colorbar": {
             "outlinewidth": 0,
             "ticks": ""
            },
            "type": "choropleth"
           }
          ],
          "contour": [
           {
            "colorbar": {
             "outlinewidth": 0,
             "ticks": ""
            },
            "colorscale": [
             [
              0,
              "#0d0887"
             ],
             [
              0.1111111111111111,
              "#46039f"
             ],
             [
              0.2222222222222222,
              "#7201a8"
             ],
             [
              0.3333333333333333,
              "#9c179e"
             ],
             [
              0.4444444444444444,
              "#bd3786"
             ],
             [
              0.5555555555555556,
              "#d8576b"
             ],
             [
              0.6666666666666666,
              "#ed7953"
             ],
             [
              0.7777777777777778,
              "#fb9f3a"
             ],
             [
              0.8888888888888888,
              "#fdca26"
             ],
             [
              1,
              "#f0f921"
             ]
            ],
            "type": "contour"
           }
          ],
          "contourcarpet": [
           {
            "colorbar": {
             "outlinewidth": 0,
             "ticks": ""
            },
            "type": "contourcarpet"
           }
          ],
          "heatmap": [
           {
            "colorbar": {
             "outlinewidth": 0,
             "ticks": ""
            },
            "colorscale": [
             [
              0,
              "#0d0887"
             ],
             [
              0.1111111111111111,
              "#46039f"
             ],
             [
              0.2222222222222222,
              "#7201a8"
             ],
             [
              0.3333333333333333,
              "#9c179e"
             ],
             [
              0.4444444444444444,
              "#bd3786"
             ],
             [
              0.5555555555555556,
              "#d8576b"
             ],
             [
              0.6666666666666666,
              "#ed7953"
             ],
             [
              0.7777777777777778,
              "#fb9f3a"
             ],
             [
              0.8888888888888888,
              "#fdca26"
             ],
             [
              1,
              "#f0f921"
             ]
            ],
            "type": "heatmap"
           }
          ],
          "heatmapgl": [
           {
            "colorbar": {
             "outlinewidth": 0,
             "ticks": ""
            },
            "colorscale": [
             [
              0,
              "#0d0887"
             ],
             [
              0.1111111111111111,
              "#46039f"
             ],
             [
              0.2222222222222222,
              "#7201a8"
             ],
             [
              0.3333333333333333,
              "#9c179e"
             ],
             [
              0.4444444444444444,
              "#bd3786"
             ],
             [
              0.5555555555555556,
              "#d8576b"
             ],
             [
              0.6666666666666666,
              "#ed7953"
             ],
             [
              0.7777777777777778,
              "#fb9f3a"
             ],
             [
              0.8888888888888888,
              "#fdca26"
             ],
             [
              1,
              "#f0f921"
             ]
            ],
            "type": "heatmapgl"
           }
          ],
          "histogram": [
           {
            "marker": {
             "colorbar": {
              "outlinewidth": 0,
              "ticks": ""
             }
            },
            "type": "histogram"
           }
          ],
          "histogram2d": [
           {
            "colorbar": {
             "outlinewidth": 0,
             "ticks": ""
            },
            "colorscale": [
             [
              0,
              "#0d0887"
             ],
             [
              0.1111111111111111,
              "#46039f"
             ],
             [
              0.2222222222222222,
              "#7201a8"
             ],
             [
              0.3333333333333333,
              "#9c179e"
             ],
             [
              0.4444444444444444,
              "#bd3786"
             ],
             [
              0.5555555555555556,
              "#d8576b"
             ],
             [
              0.6666666666666666,
              "#ed7953"
             ],
             [
              0.7777777777777778,
              "#fb9f3a"
             ],
             [
              0.8888888888888888,
              "#fdca26"
             ],
             [
              1,
              "#f0f921"
             ]
            ],
            "type": "histogram2d"
           }
          ],
          "histogram2dcontour": [
           {
            "colorbar": {
             "outlinewidth": 0,
             "ticks": ""
            },
            "colorscale": [
             [
              0,
              "#0d0887"
             ],
             [
              0.1111111111111111,
              "#46039f"
             ],
             [
              0.2222222222222222,
              "#7201a8"
             ],
             [
              0.3333333333333333,
              "#9c179e"
             ],
             [
              0.4444444444444444,
              "#bd3786"
             ],
             [
              0.5555555555555556,
              "#d8576b"
             ],
             [
              0.6666666666666666,
              "#ed7953"
             ],
             [
              0.7777777777777778,
              "#fb9f3a"
             ],
             [
              0.8888888888888888,
              "#fdca26"
             ],
             [
              1,
              "#f0f921"
             ]
            ],
            "type": "histogram2dcontour"
           }
          ],
          "mesh3d": [
           {
            "colorbar": {
             "outlinewidth": 0,
             "ticks": ""
            },
            "type": "mesh3d"
           }
          ],
          "parcoords": [
           {
            "line": {
             "colorbar": {
              "outlinewidth": 0,
              "ticks": ""
             }
            },
            "type": "parcoords"
           }
          ],
          "pie": [
           {
            "automargin": true,
            "type": "pie"
           }
          ],
          "scatter": [
           {
            "marker": {
             "colorbar": {
              "outlinewidth": 0,
              "ticks": ""
             }
            },
            "type": "scatter"
           }
          ],
          "scatter3d": [
           {
            "line": {
             "colorbar": {
              "outlinewidth": 0,
              "ticks": ""
             }
            },
            "marker": {
             "colorbar": {
              "outlinewidth": 0,
              "ticks": ""
             }
            },
            "type": "scatter3d"
           }
          ],
          "scattercarpet": [
           {
            "marker": {
             "colorbar": {
              "outlinewidth": 0,
              "ticks": ""
             }
            },
            "type": "scattercarpet"
           }
          ],
          "scattergeo": [
           {
            "marker": {
             "colorbar": {
              "outlinewidth": 0,
              "ticks": ""
             }
            },
            "type": "scattergeo"
           }
          ],
          "scattergl": [
           {
            "marker": {
             "colorbar": {
              "outlinewidth": 0,
              "ticks": ""
             }
            },
            "type": "scattergl"
           }
          ],
          "scattermapbox": [
           {
            "marker": {
             "colorbar": {
              "outlinewidth": 0,
              "ticks": ""
             }
            },
            "type": "scattermapbox"
           }
          ],
          "scatterpolar": [
           {
            "marker": {
             "colorbar": {
              "outlinewidth": 0,
              "ticks": ""
             }
            },
            "type": "scatterpolar"
           }
          ],
          "scatterpolargl": [
           {
            "marker": {
             "colorbar": {
              "outlinewidth": 0,
              "ticks": ""
             }
            },
            "type": "scatterpolargl"
           }
          ],
          "scatterternary": [
           {
            "marker": {
             "colorbar": {
              "outlinewidth": 0,
              "ticks": ""
             }
            },
            "type": "scatterternary"
           }
          ],
          "surface": [
           {
            "colorbar": {
             "outlinewidth": 0,
             "ticks": ""
            },
            "colorscale": [
             [
              0,
              "#0d0887"
             ],
             [
              0.1111111111111111,
              "#46039f"
             ],
             [
              0.2222222222222222,
              "#7201a8"
             ],
             [
              0.3333333333333333,
              "#9c179e"
             ],
             [
              0.4444444444444444,
              "#bd3786"
             ],
             [
              0.5555555555555556,
              "#d8576b"
             ],
             [
              0.6666666666666666,
              "#ed7953"
             ],
             [
              0.7777777777777778,
              "#fb9f3a"
             ],
             [
              0.8888888888888888,
              "#fdca26"
             ],
             [
              1,
              "#f0f921"
             ]
            ],
            "type": "surface"
           }
          ],
          "table": [
           {
            "cells": {
             "fill": {
              "color": "#EBF0F8"
             },
             "line": {
              "color": "white"
             }
            },
            "header": {
             "fill": {
              "color": "#C8D4E3"
             },
             "line": {
              "color": "white"
             }
            },
            "type": "table"
           }
          ]
         },
         "layout": {
          "annotationdefaults": {
           "arrowcolor": "#2a3f5f",
           "arrowhead": 0,
           "arrowwidth": 1
          },
          "autotypenumbers": "strict",
          "coloraxis": {
           "colorbar": {
            "outlinewidth": 0,
            "ticks": ""
           }
          },
          "colorscale": {
           "diverging": [
            [
             0,
             "#8e0152"
            ],
            [
             0.1,
             "#c51b7d"
            ],
            [
             0.2,
             "#de77ae"
            ],
            [
             0.3,
             "#f1b6da"
            ],
            [
             0.4,
             "#fde0ef"
            ],
            [
             0.5,
             "#f7f7f7"
            ],
            [
             0.6,
             "#e6f5d0"
            ],
            [
             0.7,
             "#b8e186"
            ],
            [
             0.8,
             "#7fbc41"
            ],
            [
             0.9,
             "#4d9221"
            ],
            [
             1,
             "#276419"
            ]
           ],
           "sequential": [
            [
             0,
             "#0d0887"
            ],
            [
             0.1111111111111111,
             "#46039f"
            ],
            [
             0.2222222222222222,
             "#7201a8"
            ],
            [
             0.3333333333333333,
             "#9c179e"
            ],
            [
             0.4444444444444444,
             "#bd3786"
            ],
            [
             0.5555555555555556,
             "#d8576b"
            ],
            [
             0.6666666666666666,
             "#ed7953"
            ],
            [
             0.7777777777777778,
             "#fb9f3a"
            ],
            [
             0.8888888888888888,
             "#fdca26"
            ],
            [
             1,
             "#f0f921"
            ]
           ],
           "sequentialminus": [
            [
             0,
             "#0d0887"
            ],
            [
             0.1111111111111111,
             "#46039f"
            ],
            [
             0.2222222222222222,
             "#7201a8"
            ],
            [
             0.3333333333333333,
             "#9c179e"
            ],
            [
             0.4444444444444444,
             "#bd3786"
            ],
            [
             0.5555555555555556,
             "#d8576b"
            ],
            [
             0.6666666666666666,
             "#ed7953"
            ],
            [
             0.7777777777777778,
             "#fb9f3a"
            ],
            [
             0.8888888888888888,
             "#fdca26"
            ],
            [
             1,
             "#f0f921"
            ]
           ]
          },
          "colorway": [
           "#636efa",
           "#EF553B",
           "#00cc96",
           "#ab63fa",
           "#FFA15A",
           "#19d3f3",
           "#FF6692",
           "#B6E880",
           "#FF97FF",
           "#FECB52"
          ],
          "font": {
           "color": "#2a3f5f"
          },
          "geo": {
           "bgcolor": "white",
           "lakecolor": "white",
           "landcolor": "#E5ECF6",
           "showlakes": true,
           "showland": true,
           "subunitcolor": "white"
          },
          "hoverlabel": {
           "align": "left"
          },
          "hovermode": "closest",
          "mapbox": {
           "style": "light"
          },
          "paper_bgcolor": "white",
          "plot_bgcolor": "#E5ECF6",
          "polar": {
           "angularaxis": {
            "gridcolor": "white",
            "linecolor": "white",
            "ticks": ""
           },
           "bgcolor": "#E5ECF6",
           "radialaxis": {
            "gridcolor": "white",
            "linecolor": "white",
            "ticks": ""
           }
          },
          "scene": {
           "xaxis": {
            "backgroundcolor": "#E5ECF6",
            "gridcolor": "white",
            "gridwidth": 2,
            "linecolor": "white",
            "showbackground": true,
            "ticks": "",
            "zerolinecolor": "white"
           },
           "yaxis": {
            "backgroundcolor": "#E5ECF6",
            "gridcolor": "white",
            "gridwidth": 2,
            "linecolor": "white",
            "showbackground": true,
            "ticks": "",
            "zerolinecolor": "white"
           },
           "zaxis": {
            "backgroundcolor": "#E5ECF6",
            "gridcolor": "white",
            "gridwidth": 2,
            "linecolor": "white",
            "showbackground": true,
            "ticks": "",
            "zerolinecolor": "white"
           }
          },
          "shapedefaults": {
           "line": {
            "color": "#2a3f5f"
           }
          },
          "ternary": {
           "aaxis": {
            "gridcolor": "white",
            "linecolor": "white",
            "ticks": ""
           },
           "baxis": {
            "gridcolor": "white",
            "linecolor": "white",
            "ticks": ""
           },
           "bgcolor": "#E5ECF6",
           "caxis": {
            "gridcolor": "white",
            "linecolor": "white",
            "ticks": ""
           }
          },
          "title": {
           "x": 0.05
          },
          "xaxis": {
           "automargin": true,
           "gridcolor": "white",
           "linecolor": "white",
           "ticks": "",
           "title": {
            "standoff": 15
           },
           "zerolinecolor": "white",
           "zerolinewidth": 2
          },
          "yaxis": {
           "automargin": true,
           "gridcolor": "white",
           "linecolor": "white",
           "ticks": "",
           "title": {
            "standoff": 15
           },
           "zerolinecolor": "white",
           "zerolinewidth": 2
          }
         }
        },
        "title": {
         "text": "Before and After the pendanmic"
        },
        "width": 1000,
        "xaxis": {
         "anchor": "y",
         "domain": [
          0,
          0.45
         ]
        },
        "xaxis2": {
         "anchor": "y2",
         "domain": [
          0.55,
          1
         ]
        },
        "yaxis": {
         "anchor": "x",
         "domain": [
          0,
          1
         ]
        },
        "yaxis2": {
         "anchor": "x2",
         "domain": [
          0,
          1
         ]
        }
       }
      },
      "text/html": [
       "<div>                            <div id=\"bd76e192-242e-4f71-bccf-e6a3d157606f\" class=\"plotly-graph-div\" style=\"height:330px; width:1000px;\"></div>            <script type=\"text/javascript\">                require([\"plotly\"], function(Plotly) {                    window.PLOTLYENV=window.PLOTLYENV || {};                                    if (document.getElementById(\"bd76e192-242e-4f71-bccf-e6a3d157606f\")) {                    Plotly.newPlot(                        \"bd76e192-242e-4f71-bccf-e6a3d157606f\",                        [{\"marker\": {\"color\": [\"#DA16FF\", \"#750D86\", \"#EB663B\", \"#511CFB\", \"#511CFB\", \"#511CFB\", \"#FB0D0D\", \"#00A08B\", \"#511CFB\", \"#EB663B\", \"#EB663B\", \"#DA16FF\", \"#FB00D1\", \"#1CA71C\", \"#1CA71C\", \"#00A08B\", \"#EB663B\", \"#DA16FF\", \"#FB0D0D\", \"#1CA71C\", \"#DA16FF\", \"#511CFB\", \"#FB0D0D\", \"#1CA71C\", \"#FB0D0D\", \"#750D86\", \"#FB0D0D\", \"#EB663B\", \"#E15F99\", \"#511CFB\", \"#EB663B\", \"#FB0D0D\", \"#B68100\", \"#511CFB\", \"#FB0D0D\", \"#E15F99\", \"#00A08B\", \"#00A08B\", \"#00A08B\", \"#750D86\", \"#00A08B\", \"#00A08B\", \"#EB663B\", \"#750D86\", \"#E15F99\", \"#1CA71C\", \"#750D86\", \"#FB00D1\", \"#DA16FF\", \"#00A08B\", \"#1CA71C\", \"#511CFB\", \"#00A08B\", \"#00A08B\", \"#FB0D0D\", \"#1CA71C\", \"#EB663B\", \"#E15F99\", \"#EB663B\", \"#FB0D0D\", \"#1CA71C\", \"#FB0D0D\", \"#1CA71C\", \"#750D86\", \"#00A08B\", \"#750D86\", \"#511CFB\", \"#FB0D0D\", \"#DA16FF\", \"#EB663B\", \"#511CFB\", \"#E15F99\", \"#DA16FF\", \"#DA16FF\", \"#750D86\", \"#1CA71C\", \"#EB663B\", \"#00A08B\", \"#DA16FF\", \"#DA16FF\", \"#00A08B\", \"#FB0D0D\", \"#EB663B\", \"#DA16FF\", \"#E15F99\", \"#EB663B\", \"#750D86\", \"#1CA71C\", \"#00A08B\", \"#E15F99\", \"#FB0D0D\", \"#E15F99\", \"#FB0D0D\", \"#00A08B\", \"#00A08B\", \"#00A08B\", \"#DA16FF\", \"#511CFB\", \"#00A08B\", \"#E15F99\", \"#EB663B\", \"#FB0D0D\", \"#750D86\", \"#EB663B\", \"#EB663B\", \"#FB0D0D\", \"#DA16FF\", \"#750D86\", \"#E15F99\", \"#E15F99\", \"#B68100\", \"#750D86\", \"#E15F99\", \"#1CA71C\", \"#FB0D0D\", \"#DA16FF\", \"#DA16FF\", \"#1CA71C\", \"#00A08B\", \"#511CFB\", \"#EB663B\"], \"size\": [10, 11, 13, 12, 14, 15, 12, 13, 14, 11, 11, 10, 13, 13, 14, 11, 11, 10, 10, 12, 10, 13, 10, 13, 11, 10, 11, 11, 12, 13, 12, 11, 12, 11, 13, 13, 12, 12, 13, 10, 12, 13, 13, 10, 14, 14, 10, 12, 11, 13, 12, 13, 13, 12, 12, 13, 12, 11, 11, 11, 13, 11, 11, 10, 13, 11, 11, 11, 10, 10, 12, 11, 11, 9, 9, 12, 13, 12, 10, 9, 12, 11, 12, 10, 12, 12, 9, 12, 11, 12, 11, 11, 9, 13, 12, 12, 9, 12, 13, 12, 10, 10, 9, 11, 10, 10, 8, 9, 12, 14, 10, 10, 11, 12, 10, 10, 7, 9, 10, 10, 11]}, \"mode\": \"markers\", \"type\": \"scatter\", \"x\": [41, 30, 47, 39, 10, 45, 40, 11, 48, 34, 29, 19, 12, 12, 16, 31, 53, 11, 44, 36, 46, 40, 48, 33, 29, 45, 20, 38, 47, 18, 41, 51, 51, 21, 21, 12, 34, 17, 25, 29, 29, 47, 24, 20, 30, 21, 14, 16, 39, 26, 22, 47, 21, 28, 24, 26, 48, 15, 17, 31, 38, 33, 28, 12, 42, 48, 17, 14, 14, 46, 42, 23, 43, 25, 11, 15, 28, 37, 16, 15, 43, 11, 27, 32, 22, 18, 41, 11, 32, 20, 38, 21, 15, 36, 41, 33, 24, 27, 23, 41, 21, 28, 13, 22, 25, 12, 18, 37, 32, 40, 53, 31, 36, 43, 43, 48, 13, 30, 20, 25, 33], \"xaxis\": \"x\", \"y\": [650, 662, 780, 760, 840, 900, 730, 820, 840, 700, 682, 650, 780, 820, 840, 700, 700, 630, 620, 722, 640, 820, 600, 820, 680, 652, 700, 680, 750, 820, 750, 700, 720, 700, 780, 802, 720, 730, 810, 630, 730, 820, 780, 630, 850, 850, 620, 720, 660, 800, 750, 800, 780, 730, 760, 800, 760, 680, 690, 680, 800, 660, 700, 650, 800, 690, 670, 670, 650, 651, 720, 690, 690, 580, 580, 730, 800, 720, 650, 565, 740, 660, 742, 640, 760, 720, 590, 750, 690, 720, 660, 710, 570, 800, 750, 750, 572, 720, 800, 720, 650, 650, 560, 700, 640, 630, 530, 561, 750, 882, 602, 600, 682, 725, 625, 600, 468, 580, 630, 650, 675], \"yaxis\": \"y\"}, {\"marker\": {\"color\": [\"#DA16FF\", \"#750D86\", \"#511CFB\", \"#00A08B\", \"#00A08B\", \"#1CA71C\", \"#DA16FF\", \"#E15F99\", \"#750D86\", \"#DA16FF\", \"#E15F99\", \"#E15F99\", \"#EB663B\", \"#DA16FF\", \"#511CFB\", \"#E15F99\", \"#1CA71C\", \"#EB663B\", \"#750D86\", \"#511CFB\", \"#E15F99\", \"#511CFB\", \"#DA16FF\", \"#FB0D0D\", \"#511CFB\", \"#FB0D0D\", \"#750D86\", \"#750D86\", \"#750D86\", \"#DA16FF\", \"#750D86\", \"#DA16FF\", \"#1CA71C\", \"#750D86\", \"#DA16FF\", \"#DA16FF\", \"#750D86\", \"#750D86\", \"#FB0D0D\", \"#DA16FF\", \"#DA16FF\", \"#FB0D0D\", \"#1CA71C\", \"#E15F99\", \"#E15F99\", \"#00A08B\", \"#750D86\", \"#1CA71C\", \"#750D86\"], \"size\": [7, 8, 9, 9, 10, 10, 8, 10, 7, 7, 9, 11, 10, 7, 10, 10, 10, 9, 8, 9, 9, 9, 8, 9, 11, 9, 6, 7, 6, 6, 7, 7, 10, 7, 7, 8, 8, 8, 9, 10, 10, 10, 12, 8, 13, 11, 10, 13, 11]}, \"mode\": \"markers\", \"type\": \"scatter\", \"x\": [35, 42, 38, 19, 45, 39, 47, 42, 27, 34, 10, 44, 40, 22, 41, 24, 27, 19, 33, 34, 18, 11, 28, 19, 24, 22, 34, 39, 21, 20, 44, 17, 32, 28, 40, 33, 22, 25, 42, 36, 44, 27, 19, 17, 25, 38, 23, 29, 46], \"xaxis\": \"x2\", \"y\": [420, 520, 560, 580, 620, 650, 510, 600, 430, 460, 550, 660, 600, 460, 650, 650, 650, 550, 500, 595, 580, 580, 500, 580, 680, 580, 390, 450, 400, 390, 450, 460, 650, 430, 450, 530, 500, 530, 580, 600, 650, 600, 720, 490, 800, 700, 600, 800, 670], \"yaxis\": \"y2\"}],                        {\"annotations\": [{\"font\": {\"size\": 16}, \"showarrow\": false, \"text\": \"Before bedroom =2 \", \"x\": 0.225, \"xanchor\": \"center\", \"xref\": \"paper\", \"y\": 1.0, \"yanchor\": \"bottom\", \"yref\": \"paper\"}, {\"font\": {\"size\": 16}, \"showarrow\": false, \"text\": \"After bedroom = 2\", \"x\": 0.775, \"xanchor\": \"center\", \"xref\": \"paper\", \"y\": 1.0, \"yanchor\": \"bottom\", \"yref\": \"paper\"}], \"height\": 330, \"template\": {\"data\": {\"bar\": [{\"error_x\": {\"color\": \"#2a3f5f\"}, \"error_y\": {\"color\": \"#2a3f5f\"}, \"marker\": {\"line\": {\"color\": \"#E5ECF6\", \"width\": 0.5}}, \"type\": \"bar\"}], \"barpolar\": [{\"marker\": {\"line\": {\"color\": \"#E5ECF6\", \"width\": 0.5}}, \"type\": \"barpolar\"}], \"carpet\": [{\"aaxis\": {\"endlinecolor\": \"#2a3f5f\", \"gridcolor\": \"white\", \"linecolor\": \"white\", \"minorgridcolor\": \"white\", \"startlinecolor\": \"#2a3f5f\"}, \"baxis\": {\"endlinecolor\": \"#2a3f5f\", \"gridcolor\": \"white\", \"linecolor\": \"white\", \"minorgridcolor\": \"white\", \"startlinecolor\": \"#2a3f5f\"}, \"type\": \"carpet\"}], \"choropleth\": [{\"colorbar\": {\"outlinewidth\": 0, \"ticks\": \"\"}, \"type\": \"choropleth\"}], \"contour\": [{\"colorbar\": {\"outlinewidth\": 0, \"ticks\": \"\"}, \"colorscale\": [[0.0, \"#0d0887\"], [0.1111111111111111, \"#46039f\"], [0.2222222222222222, \"#7201a8\"], [0.3333333333333333, \"#9c179e\"], [0.4444444444444444, \"#bd3786\"], [0.5555555555555556, \"#d8576b\"], [0.6666666666666666, \"#ed7953\"], [0.7777777777777778, \"#fb9f3a\"], [0.8888888888888888, \"#fdca26\"], [1.0, \"#f0f921\"]], \"type\": \"contour\"}], \"contourcarpet\": [{\"colorbar\": {\"outlinewidth\": 0, \"ticks\": \"\"}, \"type\": \"contourcarpet\"}], \"heatmap\": [{\"colorbar\": {\"outlinewidth\": 0, \"ticks\": \"\"}, \"colorscale\": [[0.0, \"#0d0887\"], [0.1111111111111111, \"#46039f\"], [0.2222222222222222, \"#7201a8\"], [0.3333333333333333, \"#9c179e\"], [0.4444444444444444, \"#bd3786\"], [0.5555555555555556, \"#d8576b\"], [0.6666666666666666, \"#ed7953\"], [0.7777777777777778, \"#fb9f3a\"], [0.8888888888888888, \"#fdca26\"], [1.0, \"#f0f921\"]], \"type\": \"heatmap\"}], \"heatmapgl\": [{\"colorbar\": {\"outlinewidth\": 0, \"ticks\": \"\"}, \"colorscale\": [[0.0, \"#0d0887\"], [0.1111111111111111, \"#46039f\"], [0.2222222222222222, \"#7201a8\"], [0.3333333333333333, \"#9c179e\"], [0.4444444444444444, \"#bd3786\"], [0.5555555555555556, \"#d8576b\"], [0.6666666666666666, \"#ed7953\"], [0.7777777777777778, \"#fb9f3a\"], [0.8888888888888888, \"#fdca26\"], [1.0, \"#f0f921\"]], \"type\": \"heatmapgl\"}], \"histogram\": [{\"marker\": {\"colorbar\": {\"outlinewidth\": 0, \"ticks\": \"\"}}, \"type\": \"histogram\"}], \"histogram2d\": [{\"colorbar\": {\"outlinewidth\": 0, \"ticks\": \"\"}, \"colorscale\": [[0.0, \"#0d0887\"], [0.1111111111111111, \"#46039f\"], [0.2222222222222222, \"#7201a8\"], [0.3333333333333333, \"#9c179e\"], [0.4444444444444444, \"#bd3786\"], [0.5555555555555556, \"#d8576b\"], [0.6666666666666666, \"#ed7953\"], [0.7777777777777778, \"#fb9f3a\"], [0.8888888888888888, \"#fdca26\"], [1.0, \"#f0f921\"]], \"type\": \"histogram2d\"}], \"histogram2dcontour\": [{\"colorbar\": {\"outlinewidth\": 0, \"ticks\": \"\"}, \"colorscale\": [[0.0, \"#0d0887\"], [0.1111111111111111, \"#46039f\"], [0.2222222222222222, \"#7201a8\"], [0.3333333333333333, \"#9c179e\"], [0.4444444444444444, \"#bd3786\"], [0.5555555555555556, \"#d8576b\"], [0.6666666666666666, \"#ed7953\"], [0.7777777777777778, \"#fb9f3a\"], [0.8888888888888888, \"#fdca26\"], [1.0, \"#f0f921\"]], \"type\": \"histogram2dcontour\"}], \"mesh3d\": [{\"colorbar\": {\"outlinewidth\": 0, \"ticks\": \"\"}, \"type\": \"mesh3d\"}], \"parcoords\": [{\"line\": {\"colorbar\": {\"outlinewidth\": 0, \"ticks\": \"\"}}, \"type\": \"parcoords\"}], \"pie\": [{\"automargin\": true, \"type\": \"pie\"}], \"scatter\": [{\"marker\": {\"colorbar\": {\"outlinewidth\": 0, \"ticks\": \"\"}}, \"type\": \"scatter\"}], \"scatter3d\": [{\"line\": {\"colorbar\": {\"outlinewidth\": 0, \"ticks\": \"\"}}, \"marker\": {\"colorbar\": {\"outlinewidth\": 0, \"ticks\": \"\"}}, \"type\": \"scatter3d\"}], \"scattercarpet\": [{\"marker\": {\"colorbar\": {\"outlinewidth\": 0, \"ticks\": \"\"}}, \"type\": \"scattercarpet\"}], \"scattergeo\": [{\"marker\": {\"colorbar\": {\"outlinewidth\": 0, \"ticks\": \"\"}}, \"type\": \"scattergeo\"}], \"scattergl\": [{\"marker\": {\"colorbar\": {\"outlinewidth\": 0, \"ticks\": \"\"}}, \"type\": \"scattergl\"}], \"scattermapbox\": [{\"marker\": {\"colorbar\": {\"outlinewidth\": 0, \"ticks\": \"\"}}, \"type\": \"scattermapbox\"}], \"scatterpolar\": [{\"marker\": {\"colorbar\": {\"outlinewidth\": 0, \"ticks\": \"\"}}, \"type\": \"scatterpolar\"}], \"scatterpolargl\": [{\"marker\": {\"colorbar\": {\"outlinewidth\": 0, \"ticks\": \"\"}}, \"type\": \"scatterpolargl\"}], \"scatterternary\": [{\"marker\": {\"colorbar\": {\"outlinewidth\": 0, \"ticks\": \"\"}}, \"type\": \"scatterternary\"}], \"surface\": [{\"colorbar\": {\"outlinewidth\": 0, \"ticks\": \"\"}, \"colorscale\": [[0.0, \"#0d0887\"], [0.1111111111111111, \"#46039f\"], [0.2222222222222222, \"#7201a8\"], [0.3333333333333333, \"#9c179e\"], [0.4444444444444444, \"#bd3786\"], [0.5555555555555556, \"#d8576b\"], [0.6666666666666666, \"#ed7953\"], [0.7777777777777778, \"#fb9f3a\"], [0.8888888888888888, \"#fdca26\"], [1.0, \"#f0f921\"]], \"type\": \"surface\"}], \"table\": [{\"cells\": {\"fill\": {\"color\": \"#EBF0F8\"}, \"line\": {\"color\": \"white\"}}, \"header\": {\"fill\": {\"color\": \"#C8D4E3\"}, \"line\": {\"color\": \"white\"}}, \"type\": \"table\"}]}, \"layout\": {\"annotationdefaults\": {\"arrowcolor\": \"#2a3f5f\", \"arrowhead\": 0, \"arrowwidth\": 1}, \"autotypenumbers\": \"strict\", \"coloraxis\": {\"colorbar\": {\"outlinewidth\": 0, \"ticks\": \"\"}}, \"colorscale\": {\"diverging\": [[0, \"#8e0152\"], [0.1, \"#c51b7d\"], [0.2, \"#de77ae\"], [0.3, \"#f1b6da\"], [0.4, \"#fde0ef\"], [0.5, \"#f7f7f7\"], [0.6, \"#e6f5d0\"], [0.7, \"#b8e186\"], [0.8, \"#7fbc41\"], [0.9, \"#4d9221\"], [1, \"#276419\"]], \"sequential\": [[0.0, \"#0d0887\"], [0.1111111111111111, \"#46039f\"], [0.2222222222222222, \"#7201a8\"], [0.3333333333333333, \"#9c179e\"], [0.4444444444444444, \"#bd3786\"], [0.5555555555555556, \"#d8576b\"], [0.6666666666666666, \"#ed7953\"], [0.7777777777777778, \"#fb9f3a\"], [0.8888888888888888, \"#fdca26\"], [1.0, \"#f0f921\"]], \"sequentialminus\": [[0.0, \"#0d0887\"], [0.1111111111111111, \"#46039f\"], [0.2222222222222222, \"#7201a8\"], [0.3333333333333333, \"#9c179e\"], [0.4444444444444444, \"#bd3786\"], [0.5555555555555556, \"#d8576b\"], [0.6666666666666666, \"#ed7953\"], [0.7777777777777778, \"#fb9f3a\"], [0.8888888888888888, \"#fdca26\"], [1.0, \"#f0f921\"]]}, \"colorway\": [\"#636efa\", \"#EF553B\", \"#00cc96\", \"#ab63fa\", \"#FFA15A\", \"#19d3f3\", \"#FF6692\", \"#B6E880\", \"#FF97FF\", \"#FECB52\"], \"font\": {\"color\": \"#2a3f5f\"}, \"geo\": {\"bgcolor\": \"white\", \"lakecolor\": \"white\", \"landcolor\": \"#E5ECF6\", \"showlakes\": true, \"showland\": true, \"subunitcolor\": \"white\"}, \"hoverlabel\": {\"align\": \"left\"}, \"hovermode\": \"closest\", \"mapbox\": {\"style\": \"light\"}, \"paper_bgcolor\": \"white\", \"plot_bgcolor\": \"#E5ECF6\", \"polar\": {\"angularaxis\": {\"gridcolor\": \"white\", \"linecolor\": \"white\", \"ticks\": \"\"}, \"bgcolor\": \"#E5ECF6\", \"radialaxis\": {\"gridcolor\": \"white\", \"linecolor\": \"white\", \"ticks\": \"\"}}, \"scene\": {\"xaxis\": {\"backgroundcolor\": \"#E5ECF6\", \"gridcolor\": \"white\", \"gridwidth\": 2, \"linecolor\": \"white\", \"showbackground\": true, \"ticks\": \"\", \"zerolinecolor\": \"white\"}, \"yaxis\": {\"backgroundcolor\": \"#E5ECF6\", \"gridcolor\": \"white\", \"gridwidth\": 2, \"linecolor\": \"white\", \"showbackground\": true, \"ticks\": \"\", \"zerolinecolor\": \"white\"}, \"zaxis\": {\"backgroundcolor\": \"#E5ECF6\", \"gridcolor\": \"white\", \"gridwidth\": 2, \"linecolor\": \"white\", \"showbackground\": true, \"ticks\": \"\", \"zerolinecolor\": \"white\"}}, \"shapedefaults\": {\"line\": {\"color\": \"#2a3f5f\"}}, \"ternary\": {\"aaxis\": {\"gridcolor\": \"white\", \"linecolor\": \"white\", \"ticks\": \"\"}, \"baxis\": {\"gridcolor\": \"white\", \"linecolor\": \"white\", \"ticks\": \"\"}, \"bgcolor\": \"#E5ECF6\", \"caxis\": {\"gridcolor\": \"white\", \"linecolor\": \"white\", \"ticks\": \"\"}}, \"title\": {\"x\": 0.05}, \"xaxis\": {\"automargin\": true, \"gridcolor\": \"white\", \"linecolor\": \"white\", \"ticks\": \"\", \"title\": {\"standoff\": 15}, \"zerolinecolor\": \"white\", \"zerolinewidth\": 2}, \"yaxis\": {\"automargin\": true, \"gridcolor\": \"white\", \"linecolor\": \"white\", \"ticks\": \"\", \"title\": {\"standoff\": 15}, \"zerolinecolor\": \"white\", \"zerolinewidth\": 2}}}, \"title\": {\"text\": \"Before and After the pendanmic\"}, \"width\": 1000, \"xaxis\": {\"anchor\": \"y\", \"domain\": [0.0, 0.45]}, \"xaxis2\": {\"anchor\": \"y2\", \"domain\": [0.55, 1.0]}, \"yaxis\": {\"anchor\": \"x\", \"domain\": [0.0, 1.0]}, \"yaxis2\": {\"anchor\": \"x2\", \"domain\": [0.0, 1.0]}},                        {\"responsive\": true}                    ).then(function(){\n",
       "                            \n",
       "var gd = document.getElementById('bd76e192-242e-4f71-bccf-e6a3d157606f');\n",
       "var x = new MutationObserver(function (mutations, observer) {{\n",
       "        var display = window.getComputedStyle(gd).display;\n",
       "        if (!display || display === 'none') {{\n",
       "            console.log([gd, 'removed!']);\n",
       "            Plotly.purge(gd);\n",
       "            observer.disconnect();\n",
       "        }}\n",
       "}});\n",
       "\n",
       "// Listen for the removal of the full notebook cells\n",
       "var notebookContainer = gd.closest('#notebook-container');\n",
       "if (notebookContainer) {{\n",
       "    x.observe(notebookContainer, {childList: true});\n",
       "}}\n",
       "\n",
       "// Listen for the clearing of the current output cell\n",
       "var outputEl = gd.closest('.output');\n",
       "if (outputEl) {{\n",
       "    x.observe(outputEl, {childList: true});\n",
       "}}\n",
       "\n",
       "                        })                };                });            </script>        </div>"
      ]
     },
     "metadata": {},
     "output_type": "display_data"
    },
    {
     "data": {
      "application/vnd.plotly.v1+json": {
       "config": {
        "plotlyServerURL": "https://plot.ly"
       },
       "data": [
        {
         "customdata": [
          [
           "4"
          ],
          [
           "4"
          ],
          [
           "4"
          ],
          [
           "4"
          ],
          [
           "4"
          ],
          [
           "4"
          ],
          [
           "4"
          ],
          [
           "4"
          ],
          [
           "4"
          ],
          [
           "4"
          ],
          [
           "4"
          ],
          [
           "4"
          ],
          [
           "4"
          ],
          [
           "4"
          ],
          [
           "4"
          ],
          [
           "4"
          ],
          [
           "4"
          ],
          [
           "4"
          ],
          [
           "4"
          ],
          [
           "4"
          ],
          [
           "4"
          ],
          [
           "4"
          ],
          [
           "4"
          ],
          [
           "4"
          ],
          [
           "4"
          ],
          [
           "4"
          ]
         ],
         "hovertemplate": "room_type=%{customdata[0]}<br>date=%{x}<br>price=%{y}<extra></extra>",
         "legendgroup": "4",
         "marker": {
          "color": "#636efa",
          "symbol": "circle"
         },
         "mode": "markers",
         "name": "4",
         "orientation": "v",
         "showlegend": true,
         "type": "scatter",
         "x": [
          "2021-03-02T00:00:00",
          "2021-02-03T00:00:00",
          "2021-01-24T00:00:00",
          "2021-01-20T00:00:00",
          "2020-12-06T00:00:00",
          "2020-11-22T00:00:00",
          "2020-11-15T00:00:00",
          "2020-09-15T00:00:00",
          "2020-08-05T00:00:00",
          "2020-06-24T00:00:00",
          "2020-06-10T00:00:00",
          "2020-02-27T00:00:00",
          "2019-12-13T00:00:00",
          "2019-10-22T00:00:00",
          "2019-10-15T00:00:00",
          "2018-10-31T00:00:00",
          "2018-01-03T00:00:00",
          "2017-11-08T00:00:00",
          "2017-11-02T00:00:00",
          "2017-02-23T00:00:00",
          "2017-02-14T00:00:00",
          "2017-01-20T00:00:00",
          "2016-07-22T00:00:00",
          "2015-12-16T00:00:00",
          "2015-01-28T00:00:00",
          "2014-12-31T00:00:00"
         ],
         "xaxis": "x",
         "y": [
          420,
          510,
          460,
          460,
          500,
          390,
          460,
          450,
          530,
          600,
          650,
          650,
          650,
          630,
          640,
          660,
          650,
          690,
          580,
          650,
          565,
          640,
          572,
          530,
          600,
          468
         ],
         "yaxis": "y"
        },
        {
         "customdata": [
          [
           "7"
          ],
          [
           "7"
          ],
          [
           "7"
          ],
          [
           "7"
          ],
          [
           "7"
          ],
          [
           "7"
          ],
          [
           "7"
          ],
          [
           "7"
          ],
          [
           "7"
          ],
          [
           "7"
          ],
          [
           "7"
          ],
          [
           "7"
          ],
          [
           "7"
          ],
          [
           "7"
          ],
          [
           "7"
          ],
          [
           "7"
          ],
          [
           "7"
          ],
          [
           "7"
          ],
          [
           "7"
          ],
          [
           "7"
          ],
          [
           "7"
          ],
          [
           "7"
          ],
          [
           "7"
          ],
          [
           "7"
          ]
         ],
         "hovertemplate": "room_type=%{customdata[0]}<br>date=%{x}<br>price=%{y}<extra></extra>",
         "legendgroup": "7",
         "marker": {
          "color": "#EF553B",
          "symbol": "circle"
         },
         "mode": "markers",
         "name": "7",
         "orientation": "v",
         "showlegend": true,
         "type": "scatter",
         "x": [
          "2021-02-24T00:00:00",
          "2021-01-28T00:00:00",
          "2020-12-23T00:00:00",
          "2020-12-02T00:00:00",
          "2020-11-27T00:00:00",
          "2020-11-27T00:00:00",
          "2020-11-18T00:00:00",
          "2020-10-04T00:00:00",
          "2020-07-29T00:00:00",
          "2020-07-15T00:00:00",
          "2020-04-15T00:00:00",
          "2020-04-15T00:00:00",
          "2020-02-27T00:00:00",
          "2019-07-14T00:00:00",
          "2019-01-09T00:00:00",
          "2018-12-11T00:00:00",
          "2018-11-14T00:00:00",
          "2018-02-07T00:00:00",
          "2018-01-31T00:00:00",
          "2017-09-17T00:00:00",
          "2017-01-13T00:00:00",
          "2016-01-20T00:00:00",
          "2015-12-03T00:00:00",
          "2015-06-24T00:00:00"
         ],
         "xaxis": "x",
         "y": [
          520,
          430,
          500,
          390,
          450,
          400,
          450,
          430,
          500,
          530,
          600,
          670,
          662,
          652,
          630,
          630,
          620,
          650,
          690,
          580,
          590,
          560,
          561,
          600
         ],
         "yaxis": "y"
        },
        {
         "customdata": [
          [
           "9"
          ],
          [
           "9"
          ],
          [
           "9"
          ],
          [
           "9"
          ],
          [
           "9"
          ],
          [
           "9"
          ],
          [
           "9"
          ],
          [
           "9"
          ],
          [
           "9"
          ],
          [
           "9"
          ],
          [
           "9"
          ],
          [
           "9"
          ],
          [
           "9"
          ],
          [
           "9"
          ],
          [
           "9"
          ],
          [
           "9"
          ],
          [
           "9"
          ]
         ],
         "hovertemplate": "room_type=%{customdata[0]}<br>date=%{x}<br>price=%{y}<extra></extra>",
         "legendgroup": "9",
         "marker": {
          "color": "#00cc96",
          "symbol": "circle"
         },
         "mode": "markers",
         "name": "9",
         "orientation": "v",
         "showlegend": true,
         "type": "scatter",
         "x": [
          "2021-02-24T00:00:00",
          "2021-01-17T00:00:00",
          "2020-12-18T00:00:00",
          "2020-12-06T00:00:00",
          "2020-12-06T00:00:00",
          "2020-02-13T00:00:00",
          "2020-02-13T00:00:00",
          "2020-01-30T00:00:00",
          "2020-01-10T00:00:00",
          "2019-10-15T00:00:00",
          "2019-03-06T00:00:00",
          "2019-02-06T00:00:00",
          "2018-08-15T00:00:00",
          "2018-01-18T00:00:00",
          "2017-11-29T00:00:00",
          "2016-07-13T00:00:00",
          "2014-12-25T00:00:00"
         ],
         "xaxis": "x",
         "y": [
          560,
          650,
          595,
          580,
          680,
          760,
          840,
          900,
          840,
          820,
          820,
          700,
          800,
          670,
          720,
          720,
          650
         ],
         "yaxis": "y"
        },
        {
         "customdata": [
          [
           "10"
          ],
          [
           "10"
          ],
          [
           "10"
          ],
          [
           "10"
          ],
          [
           "10"
          ],
          [
           "10"
          ],
          [
           "10"
          ],
          [
           "10"
          ],
          [
           "10"
          ],
          [
           "10"
          ],
          [
           "10"
          ],
          [
           "10"
          ],
          [
           "10"
          ],
          [
           "10"
          ],
          [
           "10"
          ],
          [
           "10"
          ],
          [
           "10"
          ],
          [
           "10"
          ],
          [
           "10"
          ],
          [
           "10"
          ],
          [
           "10"
          ],
          [
           "10"
          ]
         ],
         "hovertemplate": "room_type=%{customdata[0]}<br>date=%{x}<br>price=%{y}<extra></extra>",
         "legendgroup": "10",
         "marker": {
          "color": "#ab63fa",
          "symbol": "circle"
         },
         "mode": "markers",
         "name": "10",
         "orientation": "v",
         "showlegend": true,
         "type": "scatter",
         "x": [
          "2021-02-10T00:00:00",
          "2021-02-10T00:00:00",
          "2020-04-15T00:00:00",
          "2020-01-16T00:00:00",
          "2019-11-01T00:00:00",
          "2019-01-23T00:00:00",
          "2019-01-23T00:00:00",
          "2019-01-10T00:00:00",
          "2019-01-09T00:00:00",
          "2019-01-09T00:00:00",
          "2018-08-22T00:00:00",
          "2018-07-18T00:00:00",
          "2018-07-18T00:00:00",
          "2018-02-02T00:00:00",
          "2017-06-08T00:00:00",
          "2017-02-12T00:00:00",
          "2016-11-13T00:00:00",
          "2016-08-19T00:00:00",
          "2016-08-17T00:00:00",
          "2016-07-22T00:00:00",
          "2016-03-16T00:00:00",
          "2014-12-31T00:00:00"
         ],
         "xaxis": "x",
         "y": [
          580,
          620,
          700,
          820,
          700,
          720,
          730,
          810,
          730,
          820,
          800,
          780,
          730,
          800,
          720,
          740,
          690,
          800,
          750,
          750,
          800,
          630
         ],
         "yaxis": "y"
        },
        {
         "customdata": [
          [
           "2"
          ],
          [
           "2"
          ],
          [
           "2"
          ],
          [
           "2"
          ],
          [
           "2"
          ],
          [
           "2"
          ],
          [
           "2"
          ],
          [
           "2"
          ],
          [
           "2"
          ],
          [
           "2"
          ],
          [
           "2"
          ],
          [
           "2"
          ],
          [
           "2"
          ],
          [
           "2"
          ],
          [
           "2"
          ],
          [
           "2"
          ],
          [
           "2"
          ],
          [
           "2"
          ]
         ],
         "hovertemplate": "room_type=%{customdata[0]}<br>date=%{x}<br>price=%{y}<extra></extra>",
         "legendgroup": "2",
         "marker": {
          "color": "#FFA15A",
          "symbol": "circle"
         },
         "mode": "markers",
         "name": "2",
         "orientation": "v",
         "showlegend": true,
         "type": "scatter",
         "x": [
          "2021-02-04T00:00:00",
          "2021-01-08T00:00:00",
          "2020-10-27T00:00:00",
          "2020-05-30T00:00:00",
          "2020-04-15T00:00:00",
          "2019-12-05T00:00:00",
          "2019-11-20T00:00:00",
          "2019-10-16T00:00:00",
          "2019-08-06T00:00:00",
          "2018-11-21T00:00:00",
          "2018-08-16T00:00:00",
          "2018-07-15T00:00:00",
          "2018-02-21T00:00:00",
          "2018-02-09T00:00:00",
          "2017-07-12T00:00:00",
          "2016-11-24T00:00:00",
          "2015-03-27T00:00:00",
          "2014-12-31T00:00:00"
         ],
         "xaxis": "x",
         "y": [
          650,
          650,
          650,
          720,
          800,
          820,
          840,
          722,
          820,
          850,
          750,
          800,
          800,
          700,
          730,
          750,
          725,
          580
         ],
         "yaxis": "y"
        },
        {
         "customdata": [
          [
           "1"
          ],
          [
           "1"
          ],
          [
           "1"
          ],
          [
           "1"
          ],
          [
           "1"
          ],
          [
           "1"
          ],
          [
           "1"
          ],
          [
           "1"
          ],
          [
           "1"
          ],
          [
           "1"
          ],
          [
           "1"
          ],
          [
           "1"
          ],
          [
           "1"
          ],
          [
           "1"
          ],
          [
           "1"
          ],
          [
           "1"
          ],
          [
           "1"
          ],
          [
           "1"
          ],
          [
           "1"
          ]
         ],
         "hovertemplate": "room_type=%{customdata[0]}<br>date=%{x}<br>price=%{y}<extra></extra>",
         "legendgroup": "1",
         "marker": {
          "color": "#19d3f3",
          "symbol": "circle"
         },
         "mode": "markers",
         "name": "1",
         "orientation": "v",
         "showlegend": true,
         "type": "scatter",
         "x": [
          "2021-01-31T00:00:00",
          "2021-01-24T00:00:00",
          "2021-01-22T00:00:00",
          "2021-01-14T00:00:00",
          "2020-12-11T00:00:00",
          "2020-05-13T00:00:00",
          "2020-04-15T00:00:00",
          "2019-03-08T00:00:00",
          "2019-01-30T00:00:00",
          "2018-11-21T00:00:00",
          "2018-04-11T00:00:00",
          "2017-11-15T00:00:00",
          "2017-01-13T00:00:00",
          "2016-11-11T00:00:00",
          "2016-10-20T00:00:00",
          "2016-02-24T00:00:00",
          "2015-12-02T00:00:00",
          "2015-10-01T00:00:00",
          "2015-04-16T00:00:00"
         ],
         "xaxis": "x",
         "y": [
          600,
          550,
          660,
          650,
          580,
          490,
          800,
          750,
          802,
          850,
          680,
          690,
          760,
          720,
          710,
          720,
          750,
          882,
          682
         ],
         "yaxis": "y"
        },
        {
         "customdata": [
          [
           "8"
          ],
          [
           "8"
          ],
          [
           "8"
          ],
          [
           "8"
          ],
          [
           "8"
          ],
          [
           "8"
          ],
          [
           "8"
          ],
          [
           "8"
          ],
          [
           "8"
          ],
          [
           "8"
          ],
          [
           "8"
          ],
          [
           "8"
          ],
          [
           "8"
          ],
          [
           "8"
          ],
          [
           "8"
          ],
          [
           "8"
          ],
          [
           "8"
          ],
          [
           "8"
          ],
          [
           "8"
          ]
         ],
         "hovertemplate": "room_type=%{customdata[0]}<br>date=%{x}<br>price=%{y}<extra></extra>",
         "legendgroup": "8",
         "marker": {
          "color": "#FF6692",
          "symbol": "circle"
         },
         "mode": "markers",
         "name": "8",
         "orientation": "v",
         "showlegend": true,
         "type": "scatter",
         "x": [
          "2021-01-20T00:00:00",
          "2021-01-06T00:00:00",
          "2020-02-27T00:00:00",
          "2020-01-09T00:00:00",
          "2019-12-17T00:00:00",
          "2019-10-24T00:00:00",
          "2019-05-16T00:00:00",
          "2019-02-27T00:00:00",
          "2019-01-02T00:00:00",
          "2018-04-18T00:00:00",
          "2018-03-21T00:00:00",
          "2017-12-20T00:00:00",
          "2017-06-21T00:00:00",
          "2017-01-20T00:00:00",
          "2017-01-13T00:00:00",
          "2016-02-21T00:00:00",
          "2016-01-14T00:00:00",
          "2016-01-13T00:00:00",
          "2014-12-17T00:00:00"
         ],
         "xaxis": "x",
         "y": [
          600,
          550,
          780,
          700,
          682,
          700,
          680,
          750,
          780,
          760,
          690,
          651,
          800,
          742,
          720,
          650,
          700,
          640,
          675
         ],
         "yaxis": "y"
        },
        {
         "customdata": [
          [
           "3"
          ],
          [
           "3"
          ],
          [
           "3"
          ],
          [
           "3"
          ],
          [
           "3"
          ],
          [
           "3"
          ],
          [
           "3"
          ],
          [
           "3"
          ],
          [
           "3"
          ],
          [
           "3"
          ],
          [
           "3"
          ],
          [
           "3"
          ],
          [
           "3"
          ],
          [
           "3"
          ],
          [
           "3"
          ],
          [
           "3"
          ],
          [
           "3"
          ],
          [
           "3"
          ],
          [
           "3"
          ],
          [
           "3"
          ],
          [
           "3"
          ]
         ],
         "hovertemplate": "room_type=%{customdata[0]}<br>date=%{x}<br>price=%{y}<extra></extra>",
         "legendgroup": "3",
         "marker": {
          "color": "#B6E880",
          "symbol": "circle"
         },
         "mode": "markers",
         "name": "3",
         "orientation": "v",
         "showlegend": true,
         "type": "scatter",
         "x": [
          "2020-12-06T00:00:00",
          "2020-12-03T00:00:00",
          "2020-07-01T00:00:00",
          "2020-06-03T00:00:00",
          "2020-01-23T00:00:00",
          "2019-10-18T00:00:00",
          "2019-08-23T00:00:00",
          "2019-08-01T00:00:00",
          "2019-07-12T00:00:00",
          "2019-02-20T00:00:00",
          "2019-02-06T00:00:00",
          "2018-07-17T00:00:00",
          "2018-02-28T00:00:00",
          "2018-02-21T00:00:00",
          "2018-01-10T00:00:00",
          "2017-02-05T00:00:00",
          "2016-10-20T00:00:00",
          "2016-09-09T00:00:00",
          "2016-01-27T00:00:00",
          "2016-01-06T00:00:00",
          "2015-03-25T00:00:00"
         ],
         "xaxis": "x",
         "y": [
          580,
          580,
          580,
          600,
          730,
          620,
          600,
          680,
          700,
          700,
          780,
          760,
          680,
          660,
          670,
          660,
          660,
          570,
          650,
          630,
          625
         ],
         "yaxis": "y"
        },
        {
         "customdata": [
          [
           "11"
          ],
          [
           "11"
          ]
         ],
         "hovertemplate": "room_type=%{customdata[0]}<br>date=%{x}<br>price=%{y}<extra></extra>",
         "legendgroup": "11",
         "marker": {
          "color": "#FF97FF",
          "symbol": "circle"
         },
         "mode": "markers",
         "name": "11",
         "orientation": "v",
         "showlegend": true,
         "type": "scatter",
         "x": [
          "2019-12-12T00:00:00",
          "2018-11-14T00:00:00"
         ],
         "xaxis": "x",
         "y": [
          780,
          720
         ],
         "yaxis": "y"
        },
        {
         "customdata": [
          [
           "6"
          ],
          [
           "6"
          ]
         ],
         "hovertemplate": "room_type=%{customdata[0]}<br>date=%{x}<br>price=%{y}<extra></extra>",
         "legendgroup": "6",
         "marker": {
          "color": "#FECB52",
          "symbol": "circle"
         },
         "mode": "markers",
         "name": "6",
         "orientation": "v",
         "showlegend": true,
         "type": "scatter",
         "x": [
          "2019-02-20T00:00:00",
          "2015-08-20T00:00:00"
         ],
         "xaxis": "x",
         "y": [
          720,
          602
         ],
         "yaxis": "y"
        }
       ],
       "layout": {
        "height": 400,
        "legend": {
         "title": {
          "text": "room_type"
         },
         "tracegroupgap": 0
        },
        "margin": {
         "t": 60
        },
        "template": {
         "data": {
          "bar": [
           {
            "error_x": {
             "color": "#2a3f5f"
            },
            "error_y": {
             "color": "#2a3f5f"
            },
            "marker": {
             "line": {
              "color": "#E5ECF6",
              "width": 0.5
             }
            },
            "type": "bar"
           }
          ],
          "barpolar": [
           {
            "marker": {
             "line": {
              "color": "#E5ECF6",
              "width": 0.5
             }
            },
            "type": "barpolar"
           }
          ],
          "carpet": [
           {
            "aaxis": {
             "endlinecolor": "#2a3f5f",
             "gridcolor": "white",
             "linecolor": "white",
             "minorgridcolor": "white",
             "startlinecolor": "#2a3f5f"
            },
            "baxis": {
             "endlinecolor": "#2a3f5f",
             "gridcolor": "white",
             "linecolor": "white",
             "minorgridcolor": "white",
             "startlinecolor": "#2a3f5f"
            },
            "type": "carpet"
           }
          ],
          "choropleth": [
           {
            "colorbar": {
             "outlinewidth": 0,
             "ticks": ""
            },
            "type": "choropleth"
           }
          ],
          "contour": [
           {
            "colorbar": {
             "outlinewidth": 0,
             "ticks": ""
            },
            "colorscale": [
             [
              0,
              "#0d0887"
             ],
             [
              0.1111111111111111,
              "#46039f"
             ],
             [
              0.2222222222222222,
              "#7201a8"
             ],
             [
              0.3333333333333333,
              "#9c179e"
             ],
             [
              0.4444444444444444,
              "#bd3786"
             ],
             [
              0.5555555555555556,
              "#d8576b"
             ],
             [
              0.6666666666666666,
              "#ed7953"
             ],
             [
              0.7777777777777778,
              "#fb9f3a"
             ],
             [
              0.8888888888888888,
              "#fdca26"
             ],
             [
              1,
              "#f0f921"
             ]
            ],
            "type": "contour"
           }
          ],
          "contourcarpet": [
           {
            "colorbar": {
             "outlinewidth": 0,
             "ticks": ""
            },
            "type": "contourcarpet"
           }
          ],
          "heatmap": [
           {
            "colorbar": {
             "outlinewidth": 0,
             "ticks": ""
            },
            "colorscale": [
             [
              0,
              "#0d0887"
             ],
             [
              0.1111111111111111,
              "#46039f"
             ],
             [
              0.2222222222222222,
              "#7201a8"
             ],
             [
              0.3333333333333333,
              "#9c179e"
             ],
             [
              0.4444444444444444,
              "#bd3786"
             ],
             [
              0.5555555555555556,
              "#d8576b"
             ],
             [
              0.6666666666666666,
              "#ed7953"
             ],
             [
              0.7777777777777778,
              "#fb9f3a"
             ],
             [
              0.8888888888888888,
              "#fdca26"
             ],
             [
              1,
              "#f0f921"
             ]
            ],
            "type": "heatmap"
           }
          ],
          "heatmapgl": [
           {
            "colorbar": {
             "outlinewidth": 0,
             "ticks": ""
            },
            "colorscale": [
             [
              0,
              "#0d0887"
             ],
             [
              0.1111111111111111,
              "#46039f"
             ],
             [
              0.2222222222222222,
              "#7201a8"
             ],
             [
              0.3333333333333333,
              "#9c179e"
             ],
             [
              0.4444444444444444,
              "#bd3786"
             ],
             [
              0.5555555555555556,
              "#d8576b"
             ],
             [
              0.6666666666666666,
              "#ed7953"
             ],
             [
              0.7777777777777778,
              "#fb9f3a"
             ],
             [
              0.8888888888888888,
              "#fdca26"
             ],
             [
              1,
              "#f0f921"
             ]
            ],
            "type": "heatmapgl"
           }
          ],
          "histogram": [
           {
            "marker": {
             "colorbar": {
              "outlinewidth": 0,
              "ticks": ""
             }
            },
            "type": "histogram"
           }
          ],
          "histogram2d": [
           {
            "colorbar": {
             "outlinewidth": 0,
             "ticks": ""
            },
            "colorscale": [
             [
              0,
              "#0d0887"
             ],
             [
              0.1111111111111111,
              "#46039f"
             ],
             [
              0.2222222222222222,
              "#7201a8"
             ],
             [
              0.3333333333333333,
              "#9c179e"
             ],
             [
              0.4444444444444444,
              "#bd3786"
             ],
             [
              0.5555555555555556,
              "#d8576b"
             ],
             [
              0.6666666666666666,
              "#ed7953"
             ],
             [
              0.7777777777777778,
              "#fb9f3a"
             ],
             [
              0.8888888888888888,
              "#fdca26"
             ],
             [
              1,
              "#f0f921"
             ]
            ],
            "type": "histogram2d"
           }
          ],
          "histogram2dcontour": [
           {
            "colorbar": {
             "outlinewidth": 0,
             "ticks": ""
            },
            "colorscale": [
             [
              0,
              "#0d0887"
             ],
             [
              0.1111111111111111,
              "#46039f"
             ],
             [
              0.2222222222222222,
              "#7201a8"
             ],
             [
              0.3333333333333333,
              "#9c179e"
             ],
             [
              0.4444444444444444,
              "#bd3786"
             ],
             [
              0.5555555555555556,
              "#d8576b"
             ],
             [
              0.6666666666666666,
              "#ed7953"
             ],
             [
              0.7777777777777778,
              "#fb9f3a"
             ],
             [
              0.8888888888888888,
              "#fdca26"
             ],
             [
              1,
              "#f0f921"
             ]
            ],
            "type": "histogram2dcontour"
           }
          ],
          "mesh3d": [
           {
            "colorbar": {
             "outlinewidth": 0,
             "ticks": ""
            },
            "type": "mesh3d"
           }
          ],
          "parcoords": [
           {
            "line": {
             "colorbar": {
              "outlinewidth": 0,
              "ticks": ""
             }
            },
            "type": "parcoords"
           }
          ],
          "pie": [
           {
            "automargin": true,
            "type": "pie"
           }
          ],
          "scatter": [
           {
            "marker": {
             "colorbar": {
              "outlinewidth": 0,
              "ticks": ""
             }
            },
            "type": "scatter"
           }
          ],
          "scatter3d": [
           {
            "line": {
             "colorbar": {
              "outlinewidth": 0,
              "ticks": ""
             }
            },
            "marker": {
             "colorbar": {
              "outlinewidth": 0,
              "ticks": ""
             }
            },
            "type": "scatter3d"
           }
          ],
          "scattercarpet": [
           {
            "marker": {
             "colorbar": {
              "outlinewidth": 0,
              "ticks": ""
             }
            },
            "type": "scattercarpet"
           }
          ],
          "scattergeo": [
           {
            "marker": {
             "colorbar": {
              "outlinewidth": 0,
              "ticks": ""
             }
            },
            "type": "scattergeo"
           }
          ],
          "scattergl": [
           {
            "marker": {
             "colorbar": {
              "outlinewidth": 0,
              "ticks": ""
             }
            },
            "type": "scattergl"
           }
          ],
          "scattermapbox": [
           {
            "marker": {
             "colorbar": {
              "outlinewidth": 0,
              "ticks": ""
             }
            },
            "type": "scattermapbox"
           }
          ],
          "scatterpolar": [
           {
            "marker": {
             "colorbar": {
              "outlinewidth": 0,
              "ticks": ""
             }
            },
            "type": "scatterpolar"
           }
          ],
          "scatterpolargl": [
           {
            "marker": {
             "colorbar": {
              "outlinewidth": 0,
              "ticks": ""
             }
            },
            "type": "scatterpolargl"
           }
          ],
          "scatterternary": [
           {
            "marker": {
             "colorbar": {
              "outlinewidth": 0,
              "ticks": ""
             }
            },
            "type": "scatterternary"
           }
          ],
          "surface": [
           {
            "colorbar": {
             "outlinewidth": 0,
             "ticks": ""
            },
            "colorscale": [
             [
              0,
              "#0d0887"
             ],
             [
              0.1111111111111111,
              "#46039f"
             ],
             [
              0.2222222222222222,
              "#7201a8"
             ],
             [
              0.3333333333333333,
              "#9c179e"
             ],
             [
              0.4444444444444444,
              "#bd3786"
             ],
             [
              0.5555555555555556,
              "#d8576b"
             ],
             [
              0.6666666666666666,
              "#ed7953"
             ],
             [
              0.7777777777777778,
              "#fb9f3a"
             ],
             [
              0.8888888888888888,
              "#fdca26"
             ],
             [
              1,
              "#f0f921"
             ]
            ],
            "type": "surface"
           }
          ],
          "table": [
           {
            "cells": {
             "fill": {
              "color": "#EBF0F8"
             },
             "line": {
              "color": "white"
             }
            },
            "header": {
             "fill": {
              "color": "#C8D4E3"
             },
             "line": {
              "color": "white"
             }
            },
            "type": "table"
           }
          ]
         },
         "layout": {
          "annotationdefaults": {
           "arrowcolor": "#2a3f5f",
           "arrowhead": 0,
           "arrowwidth": 1
          },
          "autotypenumbers": "strict",
          "coloraxis": {
           "colorbar": {
            "outlinewidth": 0,
            "ticks": ""
           }
          },
          "colorscale": {
           "diverging": [
            [
             0,
             "#8e0152"
            ],
            [
             0.1,
             "#c51b7d"
            ],
            [
             0.2,
             "#de77ae"
            ],
            [
             0.3,
             "#f1b6da"
            ],
            [
             0.4,
             "#fde0ef"
            ],
            [
             0.5,
             "#f7f7f7"
            ],
            [
             0.6,
             "#e6f5d0"
            ],
            [
             0.7,
             "#b8e186"
            ],
            [
             0.8,
             "#7fbc41"
            ],
            [
             0.9,
             "#4d9221"
            ],
            [
             1,
             "#276419"
            ]
           ],
           "sequential": [
            [
             0,
             "#0d0887"
            ],
            [
             0.1111111111111111,
             "#46039f"
            ],
            [
             0.2222222222222222,
             "#7201a8"
            ],
            [
             0.3333333333333333,
             "#9c179e"
            ],
            [
             0.4444444444444444,
             "#bd3786"
            ],
            [
             0.5555555555555556,
             "#d8576b"
            ],
            [
             0.6666666666666666,
             "#ed7953"
            ],
            [
             0.7777777777777778,
             "#fb9f3a"
            ],
            [
             0.8888888888888888,
             "#fdca26"
            ],
            [
             1,
             "#f0f921"
            ]
           ],
           "sequentialminus": [
            [
             0,
             "#0d0887"
            ],
            [
             0.1111111111111111,
             "#46039f"
            ],
            [
             0.2222222222222222,
             "#7201a8"
            ],
            [
             0.3333333333333333,
             "#9c179e"
            ],
            [
             0.4444444444444444,
             "#bd3786"
            ],
            [
             0.5555555555555556,
             "#d8576b"
            ],
            [
             0.6666666666666666,
             "#ed7953"
            ],
            [
             0.7777777777777778,
             "#fb9f3a"
            ],
            [
             0.8888888888888888,
             "#fdca26"
            ],
            [
             1,
             "#f0f921"
            ]
           ]
          },
          "colorway": [
           "#636efa",
           "#EF553B",
           "#00cc96",
           "#ab63fa",
           "#FFA15A",
           "#19d3f3",
           "#FF6692",
           "#B6E880",
           "#FF97FF",
           "#FECB52"
          ],
          "font": {
           "color": "#2a3f5f"
          },
          "geo": {
           "bgcolor": "white",
           "lakecolor": "white",
           "landcolor": "#E5ECF6",
           "showlakes": true,
           "showland": true,
           "subunitcolor": "white"
          },
          "hoverlabel": {
           "align": "left"
          },
          "hovermode": "closest",
          "mapbox": {
           "style": "light"
          },
          "paper_bgcolor": "white",
          "plot_bgcolor": "#E5ECF6",
          "polar": {
           "angularaxis": {
            "gridcolor": "white",
            "linecolor": "white",
            "ticks": ""
           },
           "bgcolor": "#E5ECF6",
           "radialaxis": {
            "gridcolor": "white",
            "linecolor": "white",
            "ticks": ""
           }
          },
          "scene": {
           "xaxis": {
            "backgroundcolor": "#E5ECF6",
            "gridcolor": "white",
            "gridwidth": 2,
            "linecolor": "white",
            "showbackground": true,
            "ticks": "",
            "zerolinecolor": "white"
           },
           "yaxis": {
            "backgroundcolor": "#E5ECF6",
            "gridcolor": "white",
            "gridwidth": 2,
            "linecolor": "white",
            "showbackground": true,
            "ticks": "",
            "zerolinecolor": "white"
           },
           "zaxis": {
            "backgroundcolor": "#E5ECF6",
            "gridcolor": "white",
            "gridwidth": 2,
            "linecolor": "white",
            "showbackground": true,
            "ticks": "",
            "zerolinecolor": "white"
           }
          },
          "shapedefaults": {
           "line": {
            "color": "#2a3f5f"
           }
          },
          "ternary": {
           "aaxis": {
            "gridcolor": "white",
            "linecolor": "white",
            "ticks": ""
           },
           "baxis": {
            "gridcolor": "white",
            "linecolor": "white",
            "ticks": ""
           },
           "bgcolor": "#E5ECF6",
           "caxis": {
            "gridcolor": "white",
            "linecolor": "white",
            "ticks": ""
           }
          },
          "title": {
           "x": 0.05
          },
          "xaxis": {
           "automargin": true,
           "gridcolor": "white",
           "linecolor": "white",
           "ticks": "",
           "title": {
            "standoff": 15
           },
           "zerolinecolor": "white",
           "zerolinewidth": 2
          },
          "yaxis": {
           "automargin": true,
           "gridcolor": "white",
           "linecolor": "white",
           "ticks": "",
           "title": {
            "standoff": 15
           },
           "zerolinecolor": "white",
           "zerolinewidth": 2
          }
         }
        },
        "width": 700,
        "xaxis": {
         "anchor": "y",
         "domain": [
          0,
          1
         ],
         "title": {
          "text": "date"
         }
        },
        "yaxis": {
         "anchor": "x",
         "domain": [
          0,
          1
         ],
         "title": {
          "text": "price"
         }
        }
       }
      },
      "text/html": [
       "<div>                            <div id=\"7125e3b4-4ae3-4d81-9943-4052d6abf07c\" class=\"plotly-graph-div\" style=\"height:400px; width:700px;\"></div>            <script type=\"text/javascript\">                require([\"plotly\"], function(Plotly) {                    window.PLOTLYENV=window.PLOTLYENV || {};                                    if (document.getElementById(\"7125e3b4-4ae3-4d81-9943-4052d6abf07c\")) {                    Plotly.newPlot(                        \"7125e3b4-4ae3-4d81-9943-4052d6abf07c\",                        [{\"customdata\": [[\"4\"], [\"4\"], [\"4\"], [\"4\"], [\"4\"], [\"4\"], [\"4\"], [\"4\"], [\"4\"], [\"4\"], [\"4\"], [\"4\"], [\"4\"], [\"4\"], [\"4\"], [\"4\"], [\"4\"], [\"4\"], [\"4\"], [\"4\"], [\"4\"], [\"4\"], [\"4\"], [\"4\"], [\"4\"], [\"4\"]], \"hovertemplate\": \"room_type=%{customdata[0]}<br>date=%{x}<br>price=%{y}<extra></extra>\", \"legendgroup\": \"4\", \"marker\": {\"color\": \"#636efa\", \"symbol\": \"circle\"}, \"mode\": \"markers\", \"name\": \"4\", \"orientation\": \"v\", \"showlegend\": true, \"type\": \"scatter\", \"x\": [\"2021-03-02T00:00:00\", \"2021-02-03T00:00:00\", \"2021-01-24T00:00:00\", \"2021-01-20T00:00:00\", \"2020-12-06T00:00:00\", \"2020-11-22T00:00:00\", \"2020-11-15T00:00:00\", \"2020-09-15T00:00:00\", \"2020-08-05T00:00:00\", \"2020-06-24T00:00:00\", \"2020-06-10T00:00:00\", \"2020-02-27T00:00:00\", \"2019-12-13T00:00:00\", \"2019-10-22T00:00:00\", \"2019-10-15T00:00:00\", \"2018-10-31T00:00:00\", \"2018-01-03T00:00:00\", \"2017-11-08T00:00:00\", \"2017-11-02T00:00:00\", \"2017-02-23T00:00:00\", \"2017-02-14T00:00:00\", \"2017-01-20T00:00:00\", \"2016-07-22T00:00:00\", \"2015-12-16T00:00:00\", \"2015-01-28T00:00:00\", \"2014-12-31T00:00:00\"], \"xaxis\": \"x\", \"y\": [420, 510, 460, 460, 500, 390, 460, 450, 530, 600, 650, 650, 650, 630, 640, 660, 650, 690, 580, 650, 565, 640, 572, 530, 600, 468], \"yaxis\": \"y\"}, {\"customdata\": [[\"7\"], [\"7\"], [\"7\"], [\"7\"], [\"7\"], [\"7\"], [\"7\"], [\"7\"], [\"7\"], [\"7\"], [\"7\"], [\"7\"], [\"7\"], [\"7\"], [\"7\"], [\"7\"], [\"7\"], [\"7\"], [\"7\"], [\"7\"], [\"7\"], [\"7\"], [\"7\"], [\"7\"]], \"hovertemplate\": \"room_type=%{customdata[0]}<br>date=%{x}<br>price=%{y}<extra></extra>\", \"legendgroup\": \"7\", \"marker\": {\"color\": \"#EF553B\", \"symbol\": \"circle\"}, \"mode\": \"markers\", \"name\": \"7\", \"orientation\": \"v\", \"showlegend\": true, \"type\": \"scatter\", \"x\": [\"2021-02-24T00:00:00\", \"2021-01-28T00:00:00\", \"2020-12-23T00:00:00\", \"2020-12-02T00:00:00\", \"2020-11-27T00:00:00\", \"2020-11-27T00:00:00\", \"2020-11-18T00:00:00\", \"2020-10-04T00:00:00\", \"2020-07-29T00:00:00\", \"2020-07-15T00:00:00\", \"2020-04-15T00:00:00\", \"2020-04-15T00:00:00\", \"2020-02-27T00:00:00\", \"2019-07-14T00:00:00\", \"2019-01-09T00:00:00\", \"2018-12-11T00:00:00\", \"2018-11-14T00:00:00\", \"2018-02-07T00:00:00\", \"2018-01-31T00:00:00\", \"2017-09-17T00:00:00\", \"2017-01-13T00:00:00\", \"2016-01-20T00:00:00\", \"2015-12-03T00:00:00\", \"2015-06-24T00:00:00\"], \"xaxis\": \"x\", \"y\": [520, 430, 500, 390, 450, 400, 450, 430, 500, 530, 600, 670, 662, 652, 630, 630, 620, 650, 690, 580, 590, 560, 561, 600], \"yaxis\": \"y\"}, {\"customdata\": [[\"9\"], [\"9\"], [\"9\"], [\"9\"], [\"9\"], [\"9\"], [\"9\"], [\"9\"], [\"9\"], [\"9\"], [\"9\"], [\"9\"], [\"9\"], [\"9\"], [\"9\"], [\"9\"], [\"9\"]], \"hovertemplate\": \"room_type=%{customdata[0]}<br>date=%{x}<br>price=%{y}<extra></extra>\", \"legendgroup\": \"9\", \"marker\": {\"color\": \"#00cc96\", \"symbol\": \"circle\"}, \"mode\": \"markers\", \"name\": \"9\", \"orientation\": \"v\", \"showlegend\": true, \"type\": \"scatter\", \"x\": [\"2021-02-24T00:00:00\", \"2021-01-17T00:00:00\", \"2020-12-18T00:00:00\", \"2020-12-06T00:00:00\", \"2020-12-06T00:00:00\", \"2020-02-13T00:00:00\", \"2020-02-13T00:00:00\", \"2020-01-30T00:00:00\", \"2020-01-10T00:00:00\", \"2019-10-15T00:00:00\", \"2019-03-06T00:00:00\", \"2019-02-06T00:00:00\", \"2018-08-15T00:00:00\", \"2018-01-18T00:00:00\", \"2017-11-29T00:00:00\", \"2016-07-13T00:00:00\", \"2014-12-25T00:00:00\"], \"xaxis\": \"x\", \"y\": [560, 650, 595, 580, 680, 760, 840, 900, 840, 820, 820, 700, 800, 670, 720, 720, 650], \"yaxis\": \"y\"}, {\"customdata\": [[\"10\"], [\"10\"], [\"10\"], [\"10\"], [\"10\"], [\"10\"], [\"10\"], [\"10\"], [\"10\"], [\"10\"], [\"10\"], [\"10\"], [\"10\"], [\"10\"], [\"10\"], [\"10\"], [\"10\"], [\"10\"], [\"10\"], [\"10\"], [\"10\"], [\"10\"]], \"hovertemplate\": \"room_type=%{customdata[0]}<br>date=%{x}<br>price=%{y}<extra></extra>\", \"legendgroup\": \"10\", \"marker\": {\"color\": \"#ab63fa\", \"symbol\": \"circle\"}, \"mode\": \"markers\", \"name\": \"10\", \"orientation\": \"v\", \"showlegend\": true, \"type\": \"scatter\", \"x\": [\"2021-02-10T00:00:00\", \"2021-02-10T00:00:00\", \"2020-04-15T00:00:00\", \"2020-01-16T00:00:00\", \"2019-11-01T00:00:00\", \"2019-01-23T00:00:00\", \"2019-01-23T00:00:00\", \"2019-01-10T00:00:00\", \"2019-01-09T00:00:00\", \"2019-01-09T00:00:00\", \"2018-08-22T00:00:00\", \"2018-07-18T00:00:00\", \"2018-07-18T00:00:00\", \"2018-02-02T00:00:00\", \"2017-06-08T00:00:00\", \"2017-02-12T00:00:00\", \"2016-11-13T00:00:00\", \"2016-08-19T00:00:00\", \"2016-08-17T00:00:00\", \"2016-07-22T00:00:00\", \"2016-03-16T00:00:00\", \"2014-12-31T00:00:00\"], \"xaxis\": \"x\", \"y\": [580, 620, 700, 820, 700, 720, 730, 810, 730, 820, 800, 780, 730, 800, 720, 740, 690, 800, 750, 750, 800, 630], \"yaxis\": \"y\"}, {\"customdata\": [[\"2\"], [\"2\"], [\"2\"], [\"2\"], [\"2\"], [\"2\"], [\"2\"], [\"2\"], [\"2\"], [\"2\"], [\"2\"], [\"2\"], [\"2\"], [\"2\"], [\"2\"], [\"2\"], [\"2\"], [\"2\"]], \"hovertemplate\": \"room_type=%{customdata[0]}<br>date=%{x}<br>price=%{y}<extra></extra>\", \"legendgroup\": \"2\", \"marker\": {\"color\": \"#FFA15A\", \"symbol\": \"circle\"}, \"mode\": \"markers\", \"name\": \"2\", \"orientation\": \"v\", \"showlegend\": true, \"type\": \"scatter\", \"x\": [\"2021-02-04T00:00:00\", \"2021-01-08T00:00:00\", \"2020-10-27T00:00:00\", \"2020-05-30T00:00:00\", \"2020-04-15T00:00:00\", \"2019-12-05T00:00:00\", \"2019-11-20T00:00:00\", \"2019-10-16T00:00:00\", \"2019-08-06T00:00:00\", \"2018-11-21T00:00:00\", \"2018-08-16T00:00:00\", \"2018-07-15T00:00:00\", \"2018-02-21T00:00:00\", \"2018-02-09T00:00:00\", \"2017-07-12T00:00:00\", \"2016-11-24T00:00:00\", \"2015-03-27T00:00:00\", \"2014-12-31T00:00:00\"], \"xaxis\": \"x\", \"y\": [650, 650, 650, 720, 800, 820, 840, 722, 820, 850, 750, 800, 800, 700, 730, 750, 725, 580], \"yaxis\": \"y\"}, {\"customdata\": [[\"1\"], [\"1\"], [\"1\"], [\"1\"], [\"1\"], [\"1\"], [\"1\"], [\"1\"], [\"1\"], [\"1\"], [\"1\"], [\"1\"], [\"1\"], [\"1\"], [\"1\"], [\"1\"], [\"1\"], [\"1\"], [\"1\"]], \"hovertemplate\": \"room_type=%{customdata[0]}<br>date=%{x}<br>price=%{y}<extra></extra>\", \"legendgroup\": \"1\", \"marker\": {\"color\": \"#19d3f3\", \"symbol\": \"circle\"}, \"mode\": \"markers\", \"name\": \"1\", \"orientation\": \"v\", \"showlegend\": true, \"type\": \"scatter\", \"x\": [\"2021-01-31T00:00:00\", \"2021-01-24T00:00:00\", \"2021-01-22T00:00:00\", \"2021-01-14T00:00:00\", \"2020-12-11T00:00:00\", \"2020-05-13T00:00:00\", \"2020-04-15T00:00:00\", \"2019-03-08T00:00:00\", \"2019-01-30T00:00:00\", \"2018-11-21T00:00:00\", \"2018-04-11T00:00:00\", \"2017-11-15T00:00:00\", \"2017-01-13T00:00:00\", \"2016-11-11T00:00:00\", \"2016-10-20T00:00:00\", \"2016-02-24T00:00:00\", \"2015-12-02T00:00:00\", \"2015-10-01T00:00:00\", \"2015-04-16T00:00:00\"], \"xaxis\": \"x\", \"y\": [600, 550, 660, 650, 580, 490, 800, 750, 802, 850, 680, 690, 760, 720, 710, 720, 750, 882, 682], \"yaxis\": \"y\"}, {\"customdata\": [[\"8\"], [\"8\"], [\"8\"], [\"8\"], [\"8\"], [\"8\"], [\"8\"], [\"8\"], [\"8\"], [\"8\"], [\"8\"], [\"8\"], [\"8\"], [\"8\"], [\"8\"], [\"8\"], [\"8\"], [\"8\"], [\"8\"]], \"hovertemplate\": \"room_type=%{customdata[0]}<br>date=%{x}<br>price=%{y}<extra></extra>\", \"legendgroup\": \"8\", \"marker\": {\"color\": \"#FF6692\", \"symbol\": \"circle\"}, \"mode\": \"markers\", \"name\": \"8\", \"orientation\": \"v\", \"showlegend\": true, \"type\": \"scatter\", \"x\": [\"2021-01-20T00:00:00\", \"2021-01-06T00:00:00\", \"2020-02-27T00:00:00\", \"2020-01-09T00:00:00\", \"2019-12-17T00:00:00\", \"2019-10-24T00:00:00\", \"2019-05-16T00:00:00\", \"2019-02-27T00:00:00\", \"2019-01-02T00:00:00\", \"2018-04-18T00:00:00\", \"2018-03-21T00:00:00\", \"2017-12-20T00:00:00\", \"2017-06-21T00:00:00\", \"2017-01-20T00:00:00\", \"2017-01-13T00:00:00\", \"2016-02-21T00:00:00\", \"2016-01-14T00:00:00\", \"2016-01-13T00:00:00\", \"2014-12-17T00:00:00\"], \"xaxis\": \"x\", \"y\": [600, 550, 780, 700, 682, 700, 680, 750, 780, 760, 690, 651, 800, 742, 720, 650, 700, 640, 675], \"yaxis\": \"y\"}, {\"customdata\": [[\"3\"], [\"3\"], [\"3\"], [\"3\"], [\"3\"], [\"3\"], [\"3\"], [\"3\"], [\"3\"], [\"3\"], [\"3\"], [\"3\"], [\"3\"], [\"3\"], [\"3\"], [\"3\"], [\"3\"], [\"3\"], [\"3\"], [\"3\"], [\"3\"]], \"hovertemplate\": \"room_type=%{customdata[0]}<br>date=%{x}<br>price=%{y}<extra></extra>\", \"legendgroup\": \"3\", \"marker\": {\"color\": \"#B6E880\", \"symbol\": \"circle\"}, \"mode\": \"markers\", \"name\": \"3\", \"orientation\": \"v\", \"showlegend\": true, \"type\": \"scatter\", \"x\": [\"2020-12-06T00:00:00\", \"2020-12-03T00:00:00\", \"2020-07-01T00:00:00\", \"2020-06-03T00:00:00\", \"2020-01-23T00:00:00\", \"2019-10-18T00:00:00\", \"2019-08-23T00:00:00\", \"2019-08-01T00:00:00\", \"2019-07-12T00:00:00\", \"2019-02-20T00:00:00\", \"2019-02-06T00:00:00\", \"2018-07-17T00:00:00\", \"2018-02-28T00:00:00\", \"2018-02-21T00:00:00\", \"2018-01-10T00:00:00\", \"2017-02-05T00:00:00\", \"2016-10-20T00:00:00\", \"2016-09-09T00:00:00\", \"2016-01-27T00:00:00\", \"2016-01-06T00:00:00\", \"2015-03-25T00:00:00\"], \"xaxis\": \"x\", \"y\": [580, 580, 580, 600, 730, 620, 600, 680, 700, 700, 780, 760, 680, 660, 670, 660, 660, 570, 650, 630, 625], \"yaxis\": \"y\"}, {\"customdata\": [[\"11\"], [\"11\"]], \"hovertemplate\": \"room_type=%{customdata[0]}<br>date=%{x}<br>price=%{y}<extra></extra>\", \"legendgroup\": \"11\", \"marker\": {\"color\": \"#FF97FF\", \"symbol\": \"circle\"}, \"mode\": \"markers\", \"name\": \"11\", \"orientation\": \"v\", \"showlegend\": true, \"type\": \"scatter\", \"x\": [\"2019-12-12T00:00:00\", \"2018-11-14T00:00:00\"], \"xaxis\": \"x\", \"y\": [780, 720], \"yaxis\": \"y\"}, {\"customdata\": [[\"6\"], [\"6\"]], \"hovertemplate\": \"room_type=%{customdata[0]}<br>date=%{x}<br>price=%{y}<extra></extra>\", \"legendgroup\": \"6\", \"marker\": {\"color\": \"#FECB52\", \"symbol\": \"circle\"}, \"mode\": \"markers\", \"name\": \"6\", \"orientation\": \"v\", \"showlegend\": true, \"type\": \"scatter\", \"x\": [\"2019-02-20T00:00:00\", \"2015-08-20T00:00:00\"], \"xaxis\": \"x\", \"y\": [720, 602], \"yaxis\": \"y\"}],                        {\"height\": 400, \"legend\": {\"title\": {\"text\": \"room_type\"}, \"tracegroupgap\": 0}, \"margin\": {\"t\": 60}, \"template\": {\"data\": {\"bar\": [{\"error_x\": {\"color\": \"#2a3f5f\"}, \"error_y\": {\"color\": \"#2a3f5f\"}, \"marker\": {\"line\": {\"color\": \"#E5ECF6\", \"width\": 0.5}}, \"type\": \"bar\"}], \"barpolar\": [{\"marker\": {\"line\": {\"color\": \"#E5ECF6\", \"width\": 0.5}}, \"type\": \"barpolar\"}], \"carpet\": [{\"aaxis\": {\"endlinecolor\": \"#2a3f5f\", \"gridcolor\": \"white\", \"linecolor\": \"white\", \"minorgridcolor\": \"white\", \"startlinecolor\": \"#2a3f5f\"}, \"baxis\": {\"endlinecolor\": \"#2a3f5f\", \"gridcolor\": \"white\", \"linecolor\": \"white\", \"minorgridcolor\": \"white\", \"startlinecolor\": \"#2a3f5f\"}, \"type\": \"carpet\"}], \"choropleth\": [{\"colorbar\": {\"outlinewidth\": 0, \"ticks\": \"\"}, \"type\": \"choropleth\"}], \"contour\": [{\"colorbar\": {\"outlinewidth\": 0, \"ticks\": \"\"}, \"colorscale\": [[0.0, \"#0d0887\"], [0.1111111111111111, \"#46039f\"], [0.2222222222222222, \"#7201a8\"], [0.3333333333333333, \"#9c179e\"], [0.4444444444444444, \"#bd3786\"], [0.5555555555555556, \"#d8576b\"], [0.6666666666666666, \"#ed7953\"], [0.7777777777777778, \"#fb9f3a\"], [0.8888888888888888, \"#fdca26\"], [1.0, \"#f0f921\"]], \"type\": \"contour\"}], \"contourcarpet\": [{\"colorbar\": {\"outlinewidth\": 0, \"ticks\": \"\"}, \"type\": \"contourcarpet\"}], \"heatmap\": [{\"colorbar\": {\"outlinewidth\": 0, \"ticks\": \"\"}, \"colorscale\": [[0.0, \"#0d0887\"], [0.1111111111111111, \"#46039f\"], [0.2222222222222222, \"#7201a8\"], [0.3333333333333333, \"#9c179e\"], [0.4444444444444444, \"#bd3786\"], [0.5555555555555556, \"#d8576b\"], [0.6666666666666666, \"#ed7953\"], [0.7777777777777778, \"#fb9f3a\"], [0.8888888888888888, \"#fdca26\"], [1.0, \"#f0f921\"]], \"type\": \"heatmap\"}], \"heatmapgl\": [{\"colorbar\": {\"outlinewidth\": 0, \"ticks\": \"\"}, \"colorscale\": [[0.0, \"#0d0887\"], [0.1111111111111111, \"#46039f\"], [0.2222222222222222, \"#7201a8\"], [0.3333333333333333, \"#9c179e\"], [0.4444444444444444, \"#bd3786\"], [0.5555555555555556, \"#d8576b\"], [0.6666666666666666, \"#ed7953\"], [0.7777777777777778, \"#fb9f3a\"], [0.8888888888888888, \"#fdca26\"], [1.0, \"#f0f921\"]], \"type\": \"heatmapgl\"}], \"histogram\": [{\"marker\": {\"colorbar\": {\"outlinewidth\": 0, \"ticks\": \"\"}}, \"type\": \"histogram\"}], \"histogram2d\": [{\"colorbar\": {\"outlinewidth\": 0, \"ticks\": \"\"}, \"colorscale\": [[0.0, \"#0d0887\"], [0.1111111111111111, \"#46039f\"], [0.2222222222222222, \"#7201a8\"], [0.3333333333333333, \"#9c179e\"], [0.4444444444444444, \"#bd3786\"], [0.5555555555555556, \"#d8576b\"], [0.6666666666666666, \"#ed7953\"], [0.7777777777777778, \"#fb9f3a\"], [0.8888888888888888, \"#fdca26\"], [1.0, \"#f0f921\"]], \"type\": \"histogram2d\"}], \"histogram2dcontour\": [{\"colorbar\": {\"outlinewidth\": 0, \"ticks\": \"\"}, \"colorscale\": [[0.0, \"#0d0887\"], [0.1111111111111111, \"#46039f\"], [0.2222222222222222, \"#7201a8\"], [0.3333333333333333, \"#9c179e\"], [0.4444444444444444, \"#bd3786\"], [0.5555555555555556, \"#d8576b\"], [0.6666666666666666, \"#ed7953\"], [0.7777777777777778, \"#fb9f3a\"], [0.8888888888888888, \"#fdca26\"], [1.0, \"#f0f921\"]], \"type\": \"histogram2dcontour\"}], \"mesh3d\": [{\"colorbar\": {\"outlinewidth\": 0, \"ticks\": \"\"}, \"type\": \"mesh3d\"}], \"parcoords\": [{\"line\": {\"colorbar\": {\"outlinewidth\": 0, \"ticks\": \"\"}}, \"type\": \"parcoords\"}], \"pie\": [{\"automargin\": true, \"type\": \"pie\"}], \"scatter\": [{\"marker\": {\"colorbar\": {\"outlinewidth\": 0, \"ticks\": \"\"}}, \"type\": \"scatter\"}], \"scatter3d\": [{\"line\": {\"colorbar\": {\"outlinewidth\": 0, \"ticks\": \"\"}}, \"marker\": {\"colorbar\": {\"outlinewidth\": 0, \"ticks\": \"\"}}, \"type\": \"scatter3d\"}], \"scattercarpet\": [{\"marker\": {\"colorbar\": {\"outlinewidth\": 0, \"ticks\": \"\"}}, \"type\": \"scattercarpet\"}], \"scattergeo\": [{\"marker\": {\"colorbar\": {\"outlinewidth\": 0, \"ticks\": \"\"}}, \"type\": \"scattergeo\"}], \"scattergl\": [{\"marker\": {\"colorbar\": {\"outlinewidth\": 0, \"ticks\": \"\"}}, \"type\": \"scattergl\"}], \"scattermapbox\": [{\"marker\": {\"colorbar\": {\"outlinewidth\": 0, \"ticks\": \"\"}}, \"type\": \"scattermapbox\"}], \"scatterpolar\": [{\"marker\": {\"colorbar\": {\"outlinewidth\": 0, \"ticks\": \"\"}}, \"type\": \"scatterpolar\"}], \"scatterpolargl\": [{\"marker\": {\"colorbar\": {\"outlinewidth\": 0, \"ticks\": \"\"}}, \"type\": \"scatterpolargl\"}], \"scatterternary\": [{\"marker\": {\"colorbar\": {\"outlinewidth\": 0, \"ticks\": \"\"}}, \"type\": \"scatterternary\"}], \"surface\": [{\"colorbar\": {\"outlinewidth\": 0, \"ticks\": \"\"}, \"colorscale\": [[0.0, \"#0d0887\"], [0.1111111111111111, \"#46039f\"], [0.2222222222222222, \"#7201a8\"], [0.3333333333333333, \"#9c179e\"], [0.4444444444444444, \"#bd3786\"], [0.5555555555555556, \"#d8576b\"], [0.6666666666666666, \"#ed7953\"], [0.7777777777777778, \"#fb9f3a\"], [0.8888888888888888, \"#fdca26\"], [1.0, \"#f0f921\"]], \"type\": \"surface\"}], \"table\": [{\"cells\": {\"fill\": {\"color\": \"#EBF0F8\"}, \"line\": {\"color\": \"white\"}}, \"header\": {\"fill\": {\"color\": \"#C8D4E3\"}, \"line\": {\"color\": \"white\"}}, \"type\": \"table\"}]}, \"layout\": {\"annotationdefaults\": {\"arrowcolor\": \"#2a3f5f\", \"arrowhead\": 0, \"arrowwidth\": 1}, \"autotypenumbers\": \"strict\", \"coloraxis\": {\"colorbar\": {\"outlinewidth\": 0, \"ticks\": \"\"}}, \"colorscale\": {\"diverging\": [[0, \"#8e0152\"], [0.1, \"#c51b7d\"], [0.2, \"#de77ae\"], [0.3, \"#f1b6da\"], [0.4, \"#fde0ef\"], [0.5, \"#f7f7f7\"], [0.6, \"#e6f5d0\"], [0.7, \"#b8e186\"], [0.8, \"#7fbc41\"], [0.9, \"#4d9221\"], [1, \"#276419\"]], \"sequential\": [[0.0, \"#0d0887\"], [0.1111111111111111, \"#46039f\"], [0.2222222222222222, \"#7201a8\"], [0.3333333333333333, \"#9c179e\"], [0.4444444444444444, \"#bd3786\"], [0.5555555555555556, \"#d8576b\"], [0.6666666666666666, \"#ed7953\"], [0.7777777777777778, \"#fb9f3a\"], [0.8888888888888888, \"#fdca26\"], [1.0, \"#f0f921\"]], \"sequentialminus\": [[0.0, \"#0d0887\"], [0.1111111111111111, \"#46039f\"], [0.2222222222222222, \"#7201a8\"], [0.3333333333333333, \"#9c179e\"], [0.4444444444444444, \"#bd3786\"], [0.5555555555555556, \"#d8576b\"], [0.6666666666666666, \"#ed7953\"], [0.7777777777777778, \"#fb9f3a\"], [0.8888888888888888, \"#fdca26\"], [1.0, \"#f0f921\"]]}, \"colorway\": [\"#636efa\", \"#EF553B\", \"#00cc96\", \"#ab63fa\", \"#FFA15A\", \"#19d3f3\", \"#FF6692\", \"#B6E880\", \"#FF97FF\", \"#FECB52\"], \"font\": {\"color\": \"#2a3f5f\"}, \"geo\": {\"bgcolor\": \"white\", \"lakecolor\": \"white\", \"landcolor\": \"#E5ECF6\", \"showlakes\": true, \"showland\": true, \"subunitcolor\": \"white\"}, \"hoverlabel\": {\"align\": \"left\"}, \"hovermode\": \"closest\", \"mapbox\": {\"style\": \"light\"}, \"paper_bgcolor\": \"white\", \"plot_bgcolor\": \"#E5ECF6\", \"polar\": {\"angularaxis\": {\"gridcolor\": \"white\", \"linecolor\": \"white\", \"ticks\": \"\"}, \"bgcolor\": \"#E5ECF6\", \"radialaxis\": {\"gridcolor\": \"white\", \"linecolor\": \"white\", \"ticks\": \"\"}}, \"scene\": {\"xaxis\": {\"backgroundcolor\": \"#E5ECF6\", \"gridcolor\": \"white\", \"gridwidth\": 2, \"linecolor\": \"white\", \"showbackground\": true, \"ticks\": \"\", \"zerolinecolor\": \"white\"}, \"yaxis\": {\"backgroundcolor\": \"#E5ECF6\", \"gridcolor\": \"white\", \"gridwidth\": 2, \"linecolor\": \"white\", \"showbackground\": true, \"ticks\": \"\", \"zerolinecolor\": \"white\"}, \"zaxis\": {\"backgroundcolor\": \"#E5ECF6\", \"gridcolor\": \"white\", \"gridwidth\": 2, \"linecolor\": \"white\", \"showbackground\": true, \"ticks\": \"\", \"zerolinecolor\": \"white\"}}, \"shapedefaults\": {\"line\": {\"color\": \"#2a3f5f\"}}, \"ternary\": {\"aaxis\": {\"gridcolor\": \"white\", \"linecolor\": \"white\", \"ticks\": \"\"}, \"baxis\": {\"gridcolor\": \"white\", \"linecolor\": \"white\", \"ticks\": \"\"}, \"bgcolor\": \"#E5ECF6\", \"caxis\": {\"gridcolor\": \"white\", \"linecolor\": \"white\", \"ticks\": \"\"}}, \"title\": {\"x\": 0.05}, \"xaxis\": {\"automargin\": true, \"gridcolor\": \"white\", \"linecolor\": \"white\", \"ticks\": \"\", \"title\": {\"standoff\": 15}, \"zerolinecolor\": \"white\", \"zerolinewidth\": 2}, \"yaxis\": {\"automargin\": true, \"gridcolor\": \"white\", \"linecolor\": \"white\", \"ticks\": \"\", \"title\": {\"standoff\": 15}, \"zerolinecolor\": \"white\", \"zerolinewidth\": 2}}}, \"width\": 700, \"xaxis\": {\"anchor\": \"y\", \"domain\": [0.0, 1.0], \"title\": {\"text\": \"date\"}}, \"yaxis\": {\"anchor\": \"x\", \"domain\": [0.0, 1.0], \"title\": {\"text\": \"price\"}}},                        {\"responsive\": true}                    ).then(function(){\n",
       "                            \n",
       "var gd = document.getElementById('7125e3b4-4ae3-4d81-9943-4052d6abf07c');\n",
       "var x = new MutationObserver(function (mutations, observer) {{\n",
       "        var display = window.getComputedStyle(gd).display;\n",
       "        if (!display || display === 'none') {{\n",
       "            console.log([gd, 'removed!']);\n",
       "            Plotly.purge(gd);\n",
       "            observer.disconnect();\n",
       "        }}\n",
       "}});\n",
       "\n",
       "// Listen for the removal of the full notebook cells\n",
       "var notebookContainer = gd.closest('#notebook-container');\n",
       "if (notebookContainer) {{\n",
       "    x.observe(notebookContainer, {childList: true});\n",
       "}}\n",
       "\n",
       "// Listen for the clearing of the current output cell\n",
       "var outputEl = gd.closest('.output');\n",
       "if (outputEl) {{\n",
       "    x.observe(outputEl, {childList: true});\n",
       "}}\n",
       "\n",
       "                        })                };                });            </script>        </div>"
      ]
     },
     "metadata": {},
     "output_type": "display_data"
    },
    {
     "data": {
      "text/html": [
       "<div>\n",
       "<style scoped>\n",
       "    .dataframe tbody tr th:only-of-type {\n",
       "        vertical-align: middle;\n",
       "    }\n",
       "\n",
       "    .dataframe tbody tr th {\n",
       "        vertical-align: top;\n",
       "    }\n",
       "\n",
       "    .dataframe thead th {\n",
       "        text-align: right;\n",
       "    }\n",
       "</style>\n",
       "<table border=\"1\" class=\"dataframe\">\n",
       "  <thead>\n",
       "    <tr style=\"text-align: right;\">\n",
       "      <th></th>\n",
       "      <th>before_price_med</th>\n",
       "      <th>after_price_med</th>\n",
       "      <th>change_precnetage</th>\n",
       "      <th>bed</th>\n",
       "      <th>bath</th>\n",
       "    </tr>\n",
       "    <tr>\n",
       "      <th>room_type</th>\n",
       "      <th></th>\n",
       "      <th></th>\n",
       "      <th></th>\n",
       "      <th></th>\n",
       "      <th></th>\n",
       "    </tr>\n",
       "  </thead>\n",
       "  <tbody>\n",
       "    <tr>\n",
       "      <th>1</th>\n",
       "      <td>750</td>\n",
       "      <td>625</td>\n",
       "      <td>-20.000000</td>\n",
       "      <td>2</td>\n",
       "      <td>2</td>\n",
       "    </tr>\n",
       "    <tr>\n",
       "      <th>10</th>\n",
       "      <td>730</td>\n",
       "      <td>620</td>\n",
       "      <td>-17.741935</td>\n",
       "      <td>2</td>\n",
       "      <td>2</td>\n",
       "    </tr>\n",
       "    <tr>\n",
       "      <th>11</th>\n",
       "      <td>750</td>\n",
       "      <td>&lt;NA&gt;</td>\n",
       "      <td>NaN</td>\n",
       "      <td>2</td>\n",
       "      <td>2</td>\n",
       "    </tr>\n",
       "    <tr>\n",
       "      <th>2</th>\n",
       "      <td>775</td>\n",
       "      <td>720</td>\n",
       "      <td>-7.638889</td>\n",
       "      <td>2</td>\n",
       "      <td>2</td>\n",
       "    </tr>\n",
       "    <tr>\n",
       "      <th>3</th>\n",
       "      <td>660</td>\n",
       "      <td>580</td>\n",
       "      <td>-13.793103</td>\n",
       "      <td>2</td>\n",
       "      <td>2</td>\n",
       "    </tr>\n",
       "    <tr>\n",
       "      <th>4</th>\n",
       "      <td>635</td>\n",
       "      <td>460</td>\n",
       "      <td>-38.043478</td>\n",
       "      <td>2</td>\n",
       "      <td>1</td>\n",
       "    </tr>\n",
       "    <tr>\n",
       "      <th>5</th>\n",
       "      <td>545</td>\n",
       "      <td>430</td>\n",
       "      <td>-26.744186</td>\n",
       "      <td>1</td>\n",
       "      <td>1</td>\n",
       "    </tr>\n",
       "    <tr>\n",
       "      <th>6</th>\n",
       "      <td>510</td>\n",
       "      <td>420</td>\n",
       "      <td>-21.428571</td>\n",
       "      <td>1</td>\n",
       "      <td>1</td>\n",
       "    </tr>\n",
       "    <tr>\n",
       "      <th>7</th>\n",
       "      <td>625</td>\n",
       "      <td>475</td>\n",
       "      <td>-31.578947</td>\n",
       "      <td>2</td>\n",
       "      <td>1</td>\n",
       "    </tr>\n",
       "    <tr>\n",
       "      <th>8</th>\n",
       "      <td>700</td>\n",
       "      <td>550</td>\n",
       "      <td>-27.272727</td>\n",
       "      <td>2</td>\n",
       "      <td>2</td>\n",
       "    </tr>\n",
       "    <tr>\n",
       "      <th>9</th>\n",
       "      <td>780</td>\n",
       "      <td>560</td>\n",
       "      <td>-39.285714</td>\n",
       "      <td>2</td>\n",
       "      <td>2</td>\n",
       "    </tr>\n",
       "  </tbody>\n",
       "</table>\n",
       "</div>"
      ],
      "text/plain": [
       "           before_price_med  after_price_med  change_precnetage  bed  bath\n",
       "room_type                                                                 \n",
       "1                       750              625         -20.000000    2     2\n",
       "10                      730              620         -17.741935    2     2\n",
       "11                      750             <NA>                NaN    2     2\n",
       "2                       775              720          -7.638889    2     2\n",
       "3                       660              580         -13.793103    2     2\n",
       "4                       635              460         -38.043478    2     1\n",
       "5                       545              430         -26.744186    1     1\n",
       "6                       510              420         -21.428571    1     1\n",
       "7                       625              475         -31.578947    2     1\n",
       "8                       700              550         -27.272727    2     2\n",
       "9                       780              560         -39.285714    2     2"
      ]
     },
     "execution_count": 15,
     "metadata": {},
     "output_type": "execute_result"
    }
   ],
   "source": [
    "address = '318-russell-street-melbourne-vic-3000'\n",
    "df_318_rus = get_property_rent_history(address)\n",
    "med_price_change(df_318_rus)"
   ]
  },
  {
   "cell_type": "code",
   "execution_count": 6,
   "metadata": {},
   "outputs": [
    {
     "data": {
      "text/html": [
       "<div>\n",
       "<style scoped>\n",
       "    .dataframe tbody tr th:only-of-type {\n",
       "        vertical-align: middle;\n",
       "    }\n",
       "\n",
       "    .dataframe tbody tr th {\n",
       "        vertical-align: top;\n",
       "    }\n",
       "\n",
       "    .dataframe thead th {\n",
       "        text-align: right;\n",
       "    }\n",
       "</style>\n",
       "<table border=\"1\" class=\"dataframe\">\n",
       "  <thead>\n",
       "    <tr style=\"text-align: right;\">\n",
       "      <th></th>\n",
       "      <th>building_name</th>\n",
       "      <th>room_no</th>\n",
       "      <th>price</th>\n",
       "      <th>date</th>\n",
       "      <th>bed</th>\n",
       "      <th>bath</th>\n",
       "      <th>parking</th>\n",
       "      <th>room_type</th>\n",
       "      <th>level</th>\n",
       "    </tr>\n",
       "  </thead>\n",
       "  <tbody>\n",
       "    <tr>\n",
       "      <th>0</th>\n",
       "      <td>318-russell-street-melbourne-vic-3000</td>\n",
       "      <td>2606</td>\n",
       "      <td>380</td>\n",
       "      <td>2021-03-03</td>\n",
       "      <td>1</td>\n",
       "      <td>1</td>\n",
       "      <td>0</td>\n",
       "      <td>6</td>\n",
       "      <td>26</td>\n",
       "    </tr>\n",
       "    <tr>\n",
       "      <th>1</th>\n",
       "      <td>318-russell-street-melbourne-vic-3000</td>\n",
       "      <td>4305</td>\n",
       "      <td>420</td>\n",
       "      <td>2021-03-03</td>\n",
       "      <td>1</td>\n",
       "      <td>1</td>\n",
       "      <td>0</td>\n",
       "      <td>5</td>\n",
       "      <td>43</td>\n",
       "    </tr>\n",
       "    <tr>\n",
       "      <th>2</th>\n",
       "      <td>318-russell-street-melbourne-vic-3000</td>\n",
       "      <td>3504</td>\n",
       "      <td>420</td>\n",
       "      <td>2021-03-02</td>\n",
       "      <td>2</td>\n",
       "      <td>1</td>\n",
       "      <td>0</td>\n",
       "      <td>4</td>\n",
       "      <td>35</td>\n",
       "    </tr>\n",
       "    <tr>\n",
       "      <th>3</th>\n",
       "      <td>318-russell-street-melbourne-vic-3000</td>\n",
       "      <td>2305</td>\n",
       "      <td>330</td>\n",
       "      <td>2021-02-24</td>\n",
       "      <td>1</td>\n",
       "      <td>1</td>\n",
       "      <td>0</td>\n",
       "      <td>5</td>\n",
       "      <td>23</td>\n",
       "    </tr>\n",
       "    <tr>\n",
       "      <th>4</th>\n",
       "      <td>318-russell-street-melbourne-vic-3000</td>\n",
       "      <td>4207</td>\n",
       "      <td>520</td>\n",
       "      <td>2021-02-24</td>\n",
       "      <td>2</td>\n",
       "      <td>2</td>\n",
       "      <td>0</td>\n",
       "      <td>7</td>\n",
       "      <td>42</td>\n",
       "    </tr>\n",
       "    <tr>\n",
       "      <th>...</th>\n",
       "      <td>...</td>\n",
       "      <td>...</td>\n",
       "      <td>...</td>\n",
       "      <td>...</td>\n",
       "      <td>...</td>\n",
       "      <td>...</td>\n",
       "      <td>...</td>\n",
       "      <td>...</td>\n",
       "      <td>...</td>\n",
       "    </tr>\n",
       "    <tr>\n",
       "      <th>243</th>\n",
       "      <td>318-russell-street-melbourne-vic-3000</td>\n",
       "      <td>3002</td>\n",
       "      <td>580</td>\n",
       "      <td>2014-12-31</td>\n",
       "      <td>2</td>\n",
       "      <td>2</td>\n",
       "      <td>0</td>\n",
       "      <td>2</td>\n",
       "      <td>30</td>\n",
       "    </tr>\n",
       "    <tr>\n",
       "      <th>244</th>\n",
       "      <td>318-russell-street-melbourne-vic-3000</td>\n",
       "      <td>2010</td>\n",
       "      <td>630</td>\n",
       "      <td>2014-12-31</td>\n",
       "      <td>2</td>\n",
       "      <td>2</td>\n",
       "      <td>0</td>\n",
       "      <td>10</td>\n",
       "      <td>20</td>\n",
       "    </tr>\n",
       "    <tr>\n",
       "      <th>245</th>\n",
       "      <td>318-russell-street-melbourne-vic-3000</td>\n",
       "      <td>2509</td>\n",
       "      <td>650</td>\n",
       "      <td>2014-12-25</td>\n",
       "      <td>2</td>\n",
       "      <td>2</td>\n",
       "      <td>1</td>\n",
       "      <td>9</td>\n",
       "      <td>25</td>\n",
       "    </tr>\n",
       "    <tr>\n",
       "      <th>246</th>\n",
       "      <td>318-russell-street-melbourne-vic-3000</td>\n",
       "      <td>3308</td>\n",
       "      <td>675</td>\n",
       "      <td>2014-12-17</td>\n",
       "      <td>2</td>\n",
       "      <td>2</td>\n",
       "      <td>1</td>\n",
       "      <td>8</td>\n",
       "      <td>33</td>\n",
       "    </tr>\n",
       "    <tr>\n",
       "      <th>247</th>\n",
       "      <td>318-russell-street-melbourne-vic-3000</td>\n",
       "      <td>1210</td>\n",
       "      <td>390</td>\n",
       "      <td>2014-12-12</td>\n",
       "      <td>1</td>\n",
       "      <td>1</td>\n",
       "      <td>0</td>\n",
       "      <td>10</td>\n",
       "      <td>12</td>\n",
       "    </tr>\n",
       "  </tbody>\n",
       "</table>\n",
       "<p>248 rows × 9 columns</p>\n",
       "</div>"
      ],
      "text/plain": [
       "                             building_name  room_no  price       date  bed  \\\n",
       "0    318-russell-street-melbourne-vic-3000     2606    380 2021-03-03    1   \n",
       "1    318-russell-street-melbourne-vic-3000     4305    420 2021-03-03    1   \n",
       "2    318-russell-street-melbourne-vic-3000     3504    420 2021-03-02    2   \n",
       "3    318-russell-street-melbourne-vic-3000     2305    330 2021-02-24    1   \n",
       "4    318-russell-street-melbourne-vic-3000     4207    520 2021-02-24    2   \n",
       "..                                     ...      ...    ...        ...  ...   \n",
       "243  318-russell-street-melbourne-vic-3000     3002    580 2014-12-31    2   \n",
       "244  318-russell-street-melbourne-vic-3000     2010    630 2014-12-31    2   \n",
       "245  318-russell-street-melbourne-vic-3000     2509    650 2014-12-25    2   \n",
       "246  318-russell-street-melbourne-vic-3000     3308    675 2014-12-17    2   \n",
       "247  318-russell-street-melbourne-vic-3000     1210    390 2014-12-12    1   \n",
       "\n",
       "     bath  parking  room_type  level  \n",
       "0       1        0          6     26  \n",
       "1       1        0          5     43  \n",
       "2       1        0          4     35  \n",
       "3       1        0          5     23  \n",
       "4       2        0          7     42  \n",
       "..    ...      ...        ...    ...  \n",
       "243     2        0          2     30  \n",
       "244     2        0         10     20  \n",
       "245     2        1          9     25  \n",
       "246     2        1          8     33  \n",
       "247     1        0         10     12  \n",
       "\n",
       "[248 rows x 9 columns]"
      ]
     },
     "execution_count": 6,
     "metadata": {},
     "output_type": "execute_result"
    }
   ],
   "source": [
    "df_318_rus"
   ]
  },
  {
   "cell_type": "markdown",
   "metadata": {},
   "source": [
    "## New Draft 2021"
   ]
  },
  {
   "cell_type": "code",
   "execution_count": null,
   "metadata": {},
   "outputs": [],
   "source": [
    "\n",
    "get_df_with_filters(address,bed = -1,\n",
    "                    bath = -1,\n",
    "                    lb_lvl = -1, \n",
    "                    ub_lvl = -1, \n",
    "                    room_type = []):\n",
    "    \"\"\"\n",
    "    negative numeber means allow all number of rooms \n",
    "\n",
    "    \"\"\"    \n",
    "    get_property_rent_history(address):"
   ]
  },
  {
   "cell_type": "code",
   "execution_count": 14,
   "metadata": {},
   "outputs": [
    {
     "name": "stdout",
     "output_type": "stream",
     "text": [
      "248\n"
     ]
    },
    {
     "data": {
      "application/vnd.plotly.v1+json": {
       "config": {
        "plotlyServerURL": "https://plot.ly"
       },
       "data": [
        {
         "hovertemplate": "room_type=6<br>date=%{x}<br>price=%{y}<extra></extra>",
         "legendgroup": "6",
         "marker": {
          "color": "#636efa",
          "symbol": "circle"
         },
         "mode": "markers",
         "name": "6",
         "orientation": "v",
         "showlegend": true,
         "type": "scatter",
         "x": [
          "2021-03-03T00:00:00",
          "2021-02-03T00:00:00",
          "2021-01-21T00:00:00",
          "2021-01-17T00:00:00",
          "2021-01-10T00:00:00",
          "2021-01-08T00:00:00",
          "2020-12-03T00:00:00",
          "2020-07-29T00:00:00",
          "2020-06-12T00:00:00",
          "2020-01-23T00:00:00",
          "2020-01-09T00:00:00",
          "2020-01-09T00:00:00",
          "2019-11-28T00:00:00",
          "2019-10-22T00:00:00",
          "2019-02-20T00:00:00",
          "2018-10-12T00:00:00",
          "2018-08-22T00:00:00",
          "2018-07-11T00:00:00",
          "2018-06-13T00:00:00",
          "2018-04-25T00:00:00",
          "2018-01-24T00:00:00",
          "2017-11-29T00:00:00",
          "2017-09-10T00:00:00",
          "2017-06-29T00:00:00",
          "2017-01-30T00:00:00",
          "2017-01-10T00:00:00",
          "2016-11-09T00:00:00",
          "2016-06-02T00:00:00",
          "2016-03-23T00:00:00",
          "2015-12-30T00:00:00",
          "2015-08-20T00:00:00",
          "2015-06-10T00:00:00"
         ],
         "xaxis": "x",
         "y": [
          380,
          410,
          420,
          430,
          400,
          420,
          380,
          450,
          500,
          560,
          461,
          550,
          542,
          552,
          720,
          521,
          550,
          510,
          470,
          450,
          530,
          540,
          480,
          500,
          430,
          450,
          450,
          450,
          520,
          460,
          602,
          430
         ],
         "yaxis": "y"
        },
        {
         "hovertemplate": "<b>LOWESS trendline</b><br><br>room_type=6<br>date=%{x}<br>price=%{y} <b>(trend)</b><extra></extra>",
         "legendgroup": "6",
         "marker": {
          "color": "#636efa",
          "symbol": "circle"
         },
         "mode": "lines",
         "name": "6",
         "showlegend": false,
         "type": "scatter",
         "x": [
          "2015-06-10T00:00:00",
          "2015-08-20T00:00:00",
          "2015-12-30T00:00:00",
          "2016-03-23T00:00:00",
          "2016-06-02T00:00:00",
          "2016-11-09T00:00:00",
          "2017-01-10T00:00:00",
          "2017-01-30T00:00:00",
          "2017-06-29T00:00:00",
          "2017-09-10T00:00:00",
          "2017-11-29T00:00:00",
          "2018-01-24T00:00:00",
          "2018-04-25T00:00:00",
          "2018-06-13T00:00:00",
          "2018-07-11T00:00:00",
          "2018-08-22T00:00:00",
          "2018-10-12T00:00:00",
          "2019-02-20T00:00:00",
          "2019-10-22T00:00:00",
          "2019-11-28T00:00:00",
          "2020-01-09T00:00:00",
          "2020-01-09T00:00:00",
          "2020-01-23T00:00:00",
          "2020-06-12T00:00:00",
          "2020-07-29T00:00:00",
          "2020-12-03T00:00:00",
          "2021-01-08T00:00:00",
          "2021-01-10T00:00:00",
          "2021-01-17T00:00:00",
          "2021-01-21T00:00:00",
          "2021-02-03T00:00:00",
          "2021-03-03T00:00:00"
         ],
         "xaxis": "x",
         "y": [
          441.4010833160139,
          445.19214108901457,
          452.41968545687166,
          457.1779554200746,
          461.30452369889156,
          470.77227040354666,
          474.39699216676354,
          475.54653411723365,
          483.6763962962831,
          487.44642859507087,
          492.5736988432138,
          497.34524890748526,
          503.86590253409815,
          506.9256604397592,
          508.6523334991646,
          509.52523648848137,
          512.1187733797252,
          515.6199136513869,
          508.6680024847999,
          502.54290050889404,
          495.5108788786431,
          495.5108788786431,
          493.10014769413567,
          466.14366457065717,
          456.0708612995585,
          426.5472201704387,
          417.65485438685954,
          417.15501705274806,
          415.40100423403976,
          414.39556147564645,
          411.1124744203844,
          403.96497949401174
         ],
         "yaxis": "y"
        },
        {
         "hovertemplate": "room_type=5<br>date=%{x}<br>price=%{y}<extra></extra>",
         "legendgroup": "5",
         "marker": {
          "color": "#EF553B",
          "symbol": "circle"
         },
         "mode": "markers",
         "name": "5",
         "orientation": "v",
         "showlegend": true,
         "type": "scatter",
         "x": [
          "2021-03-03T00:00:00",
          "2021-02-24T00:00:00",
          "2021-02-10T00:00:00",
          "2021-02-10T00:00:00",
          "2021-01-24T00:00:00",
          "2021-01-22T00:00:00",
          "2021-01-10T00:00:00",
          "2021-01-05T00:00:00",
          "2020-12-16T00:00:00",
          "2020-07-17T00:00:00",
          "2020-07-01T00:00:00",
          "2020-01-23T00:00:00",
          "2019-12-13T00:00:00",
          "2019-11-14T00:00:00",
          "2019-10-08T00:00:00",
          "2019-05-16T00:00:00",
          "2019-02-27T00:00:00",
          "2019-01-30T00:00:00",
          "2018-11-21T00:00:00",
          "2018-10-31T00:00:00",
          "2018-01-24T00:00:00",
          "2018-01-17T00:00:00",
          "2017-11-02T00:00:00",
          "2017-06-23T00:00:00",
          "2016-10-07T00:00:00"
         ],
         "xaxis": "x",
         "y": [
          420,
          330,
          430,
          300,
          430,
          450,
          430,
          420,
          430,
          430,
          500,
          522,
          550,
          560,
          540,
          550,
          550,
          550,
          500,
          550,
          540,
          480,
          2200,
          460,
          520
         ],
         "yaxis": "y"
        },
        {
         "hovertemplate": "<b>LOWESS trendline</b><br><br>room_type=5<br>date=%{x}<br>price=%{y} <b>(trend)</b><extra></extra>",
         "legendgroup": "5",
         "marker": {
          "color": "#EF553B",
          "symbol": "circle"
         },
         "mode": "lines",
         "name": "5",
         "showlegend": false,
         "type": "scatter",
         "x": [
          "2016-10-07T00:00:00",
          "2017-06-23T00:00:00",
          "2017-11-02T00:00:00",
          "2018-01-17T00:00:00",
          "2018-01-24T00:00:00",
          "2018-10-31T00:00:00",
          "2018-11-21T00:00:00",
          "2019-01-30T00:00:00",
          "2019-02-27T00:00:00",
          "2019-05-16T00:00:00",
          "2019-10-08T00:00:00",
          "2019-11-14T00:00:00",
          "2019-12-13T00:00:00",
          "2020-01-23T00:00:00",
          "2020-07-01T00:00:00",
          "2020-07-17T00:00:00",
          "2020-12-16T00:00:00",
          "2021-01-05T00:00:00",
          "2021-01-10T00:00:00",
          "2021-01-22T00:00:00",
          "2021-01-24T00:00:00",
          "2021-02-10T00:00:00",
          "2021-02-10T00:00:00",
          "2021-02-24T00:00:00",
          "2021-03-03T00:00:00"
         ],
         "xaxis": "x",
         "y": [
          494.90756838159217,
          506.40620270128164,
          511.957524510123,
          514.772738396127,
          515.0138944350072,
          529.0859290111084,
          530.2151008090674,
          534.8599024884261,
          536.2930486468912,
          538.2525813267953,
          532.6814883091271,
          530.4724408049279,
          528.0474882036974,
          521.4679227506925,
          480.8714613225724,
          476.46082184147843,
          434.4638300487077,
          429.00203482588887,
          427.63989745645137,
          424.3764220464459,
          423.8333030196525,
          419.2256369393808,
          419.2256369393808,
          415.44193473756087,
          413.5532821725821
         ],
         "yaxis": "y"
        },
        {
         "hovertemplate": "room_type=4<br>date=%{x}<br>price=%{y}<extra></extra>",
         "legendgroup": "4",
         "marker": {
          "color": "#00cc96",
          "symbol": "circle"
         },
         "mode": "markers",
         "name": "4",
         "orientation": "v",
         "showlegend": true,
         "type": "scatter",
         "x": [
          "2021-03-02T00:00:00",
          "2021-02-03T00:00:00",
          "2021-01-24T00:00:00",
          "2021-01-20T00:00:00",
          "2020-12-09T00:00:00",
          "2020-12-06T00:00:00",
          "2020-11-22T00:00:00",
          "2020-11-15T00:00:00",
          "2020-09-15T00:00:00",
          "2020-08-05T00:00:00",
          "2020-06-24T00:00:00",
          "2020-06-10T00:00:00",
          "2020-02-27T00:00:00",
          "2020-01-16T00:00:00",
          "2019-12-13T00:00:00",
          "2019-10-22T00:00:00",
          "2019-10-15T00:00:00",
          "2018-10-31T00:00:00",
          "2018-01-03T00:00:00",
          "2017-11-08T00:00:00",
          "2017-11-02T00:00:00",
          "2017-02-23T00:00:00",
          "2017-02-14T00:00:00",
          "2017-01-20T00:00:00",
          "2016-07-22T00:00:00",
          "2015-12-16T00:00:00",
          "2015-01-28T00:00:00",
          "2014-12-31T00:00:00"
         ],
         "xaxis": "x",
         "y": [
          420,
          510,
          460,
          460,
          450,
          500,
          390,
          460,
          450,
          530,
          600,
          650,
          650,
          560,
          650,
          630,
          640,
          660,
          650,
          690,
          580,
          650,
          565,
          640,
          572,
          530,
          600,
          468
         ],
         "yaxis": "y"
        },
        {
         "hovertemplate": "<b>LOWESS trendline</b><br><br>room_type=4<br>date=%{x}<br>price=%{y} <b>(trend)</b><extra></extra>",
         "legendgroup": "4",
         "marker": {
          "color": "#00cc96",
          "symbol": "circle"
         },
         "mode": "lines",
         "name": "4",
         "showlegend": false,
         "type": "scatter",
         "x": [
          "2014-12-31T00:00:00",
          "2015-01-28T00:00:00",
          "2015-12-16T00:00:00",
          "2016-07-22T00:00:00",
          "2017-01-20T00:00:00",
          "2017-02-14T00:00:00",
          "2017-02-23T00:00:00",
          "2017-11-02T00:00:00",
          "2017-11-08T00:00:00",
          "2018-01-03T00:00:00",
          "2018-10-31T00:00:00",
          "2019-10-15T00:00:00",
          "2019-10-22T00:00:00",
          "2019-12-13T00:00:00",
          "2020-01-16T00:00:00",
          "2020-02-27T00:00:00",
          "2020-06-10T00:00:00",
          "2020-06-24T00:00:00",
          "2020-08-05T00:00:00",
          "2020-09-15T00:00:00",
          "2020-11-15T00:00:00",
          "2020-11-22T00:00:00",
          "2020-12-06T00:00:00",
          "2020-12-09T00:00:00",
          "2021-01-20T00:00:00",
          "2021-01-24T00:00:00",
          "2021-02-03T00:00:00",
          "2021-03-02T00:00:00"
         ],
         "xaxis": "x",
         "y": [
          522.6534316099634,
          525.7217237039313,
          560.5249205028916,
          583.1349012247927,
          601.0406258760949,
          603.4461849405579,
          604.3095121921028,
          624.5509556922713,
          624.482128758305,
          627.0097511438867,
          636.4572667110808,
          635.0284099042244,
          634.6306776715612,
          628.9725610305335,
          616.9542523607078,
          598.7258024367259,
          553.0768183011154,
          546.992492622719,
          528.7260024743141,
          510.78761104115137,
          483.7968125220658,
          480.6759490372305,
          474.42077622557264,
          473.0782131557255,
          454.2167132916091,
          452.4151814565848,
          447.90836605321624,
          435.72127901817794
         ],
         "yaxis": "y"
        },
        {
         "hovertemplate": "room_type=7<br>date=%{x}<br>price=%{y}<extra></extra>",
         "legendgroup": "7",
         "marker": {
          "color": "#ab63fa",
          "symbol": "circle"
         },
         "mode": "markers",
         "name": "7",
         "orientation": "v",
         "showlegend": true,
         "type": "scatter",
         "x": [
          "2021-02-24T00:00:00",
          "2021-01-28T00:00:00",
          "2020-12-23T00:00:00",
          "2020-12-02T00:00:00",
          "2020-11-27T00:00:00",
          "2020-11-27T00:00:00",
          "2020-11-18T00:00:00",
          "2020-10-04T00:00:00",
          "2020-07-29T00:00:00",
          "2020-07-15T00:00:00",
          "2020-04-15T00:00:00",
          "2020-04-15T00:00:00",
          "2020-02-27T00:00:00",
          "2019-07-14T00:00:00",
          "2019-01-09T00:00:00",
          "2018-12-11T00:00:00",
          "2018-11-14T00:00:00",
          "2018-02-07T00:00:00",
          "2018-01-31T00:00:00",
          "2017-09-17T00:00:00",
          "2017-01-13T00:00:00",
          "2016-01-20T00:00:00",
          "2015-12-03T00:00:00",
          "2015-06-24T00:00:00"
         ],
         "xaxis": "x",
         "y": [
          520,
          430,
          500,
          390,
          450,
          400,
          450,
          430,
          500,
          530,
          600,
          670,
          662,
          652,
          630,
          630,
          620,
          650,
          690,
          580,
          590,
          560,
          561,
          600
         ],
         "yaxis": "y"
        },
        {
         "hovertemplate": "<b>LOWESS trendline</b><br><br>room_type=7<br>date=%{x}<br>price=%{y} <b>(trend)</b><extra></extra>",
         "legendgroup": "7",
         "marker": {
          "color": "#ab63fa",
          "symbol": "circle"
         },
         "mode": "lines",
         "name": "7",
         "showlegend": false,
         "type": "scatter",
         "x": [
          "2015-06-24T00:00:00",
          "2015-12-03T00:00:00",
          "2016-01-20T00:00:00",
          "2017-01-13T00:00:00",
          "2017-09-17T00:00:00",
          "2018-01-31T00:00:00",
          "2018-02-07T00:00:00",
          "2018-11-14T00:00:00",
          "2018-12-11T00:00:00",
          "2019-01-09T00:00:00",
          "2019-07-14T00:00:00",
          "2020-02-27T00:00:00",
          "2020-04-15T00:00:00",
          "2020-04-15T00:00:00",
          "2020-07-15T00:00:00",
          "2020-07-29T00:00:00",
          "2020-10-04T00:00:00",
          "2020-11-18T00:00:00",
          "2020-11-27T00:00:00",
          "2020-11-27T00:00:00",
          "2020-12-02T00:00:00",
          "2020-12-23T00:00:00",
          "2021-01-28T00:00:00",
          "2021-02-24T00:00:00"
         ],
         "xaxis": "x",
         "y": [
          567.3307622274499,
          576.469221722997,
          579.1785089063932,
          598.7942179157762,
          611.6051158155443,
          620.4155663265245,
          620.7197472381738,
          633.1752280841976,
          633.4301901401021,
          633.3793537396806,
          622.3950442912246,
          601.6100062142426,
          576.0725744725048,
          576.0725744725048,
          526.6405098258552,
          518.8508577176535,
          480.7250216778269,
          454.4095102613733,
          449.09194851587904,
          449.09194851587904,
          446.13110637817533,
          433.6515647066661,
          412.1451774632349,
          395.96772419034454
         ],
         "yaxis": "y"
        },
        {
         "hovertemplate": "room_type=9<br>date=%{x}<br>price=%{y}<extra></extra>",
         "legendgroup": "9",
         "marker": {
          "color": "#FFA15A",
          "symbol": "circle"
         },
         "mode": "markers",
         "name": "9",
         "orientation": "v",
         "showlegend": true,
         "type": "scatter",
         "x": [
          "2021-02-24T00:00:00",
          "2021-01-17T00:00:00",
          "2021-01-17T00:00:00",
          "2021-01-13T00:00:00",
          "2020-12-18T00:00:00",
          "2020-12-18T00:00:00",
          "2020-12-06T00:00:00",
          "2020-12-06T00:00:00",
          "2020-06-18T00:00:00",
          "2020-02-13T00:00:00",
          "2020-02-13T00:00:00",
          "2020-01-30T00:00:00",
          "2020-01-10T00:00:00",
          "2019-12-11T00:00:00",
          "2019-10-15T00:00:00",
          "2019-03-06T00:00:00",
          "2019-02-06T00:00:00",
          "2018-08-15T00:00:00",
          "2018-01-18T00:00:00",
          "2017-11-29T00:00:00",
          "2017-02-23T00:00:00",
          "2016-07-13T00:00:00",
          "2014-12-25T00:00:00"
         ],
         "xaxis": "x",
         "y": [
          560,
          420,
          650,
          400,
          595,
          400,
          580,
          680,
          500,
          760,
          840,
          900,
          840,
          541,
          820,
          820,
          700,
          800,
          670,
          720,
          1103,
          720,
          650
         ],
         "yaxis": "y"
        },
        {
         "hovertemplate": "<b>LOWESS trendline</b><br><br>room_type=9<br>date=%{x}<br>price=%{y} <b>(trend)</b><extra></extra>",
         "legendgroup": "9",
         "marker": {
          "color": "#FFA15A",
          "symbol": "circle"
         },
         "mode": "lines",
         "name": "9",
         "showlegend": false,
         "type": "scatter",
         "x": [
          "2014-12-25T00:00:00",
          "2016-07-13T00:00:00",
          "2017-02-23T00:00:00",
          "2017-11-29T00:00:00",
          "2018-01-18T00:00:00",
          "2018-08-15T00:00:00",
          "2019-02-06T00:00:00",
          "2019-03-06T00:00:00",
          "2019-10-15T00:00:00",
          "2019-12-11T00:00:00",
          "2020-01-10T00:00:00",
          "2020-01-30T00:00:00",
          "2020-02-13T00:00:00",
          "2020-02-13T00:00:00",
          "2020-06-18T00:00:00",
          "2020-12-06T00:00:00",
          "2020-12-06T00:00:00",
          "2020-12-18T00:00:00",
          "2020-12-18T00:00:00",
          "2021-01-13T00:00:00",
          "2021-01-17T00:00:00",
          "2021-01-17T00:00:00",
          "2021-02-24T00:00:00"
         ],
         "xaxis": "x",
         "y": [
          657.023378557355,
          694.0300867428498,
          710.0530791294793,
          729.1190377639007,
          732.3798207660917,
          743.1230011307373,
          763.9374087804575,
          767.952171489813,
          781.4819038149978,
          782.9819193724157,
          782.463992236379,
          771.6289032573706,
          760.4412755340146,
          760.4412755340146,
          672.7645155643227,
          552.1474087616003,
          552.1474087616003,
          544.3276698004335,
          544.3276698004335,
          527.7364973139825,
          525.2212534341952,
          525.2212534341952,
          501.79200799117075
         ],
         "yaxis": "y"
        },
        {
         "hovertemplate": "room_type=10<br>date=%{x}<br>price=%{y}<extra></extra>",
         "legendgroup": "10",
         "marker": {
          "color": "#19d3f3",
          "symbol": "circle"
         },
         "mode": "markers",
         "name": "10",
         "orientation": "v",
         "showlegend": true,
         "type": "scatter",
         "x": [
          "2021-02-10T00:00:00",
          "2021-02-10T00:00:00",
          "2020-04-15T00:00:00",
          "2020-01-16T00:00:00",
          "2019-11-01T00:00:00",
          "2019-01-23T00:00:00",
          "2019-01-23T00:00:00",
          "2019-01-10T00:00:00",
          "2019-01-09T00:00:00",
          "2019-01-09T00:00:00",
          "2018-12-05T00:00:00",
          "2018-08-22T00:00:00",
          "2018-07-18T00:00:00",
          "2018-07-18T00:00:00",
          "2018-02-02T00:00:00",
          "2017-11-15T00:00:00",
          "2017-07-07T00:00:00",
          "2017-06-08T00:00:00",
          "2017-02-12T00:00:00",
          "2016-11-13T00:00:00",
          "2016-08-19T00:00:00",
          "2016-08-17T00:00:00",
          "2016-07-22T00:00:00",
          "2016-03-16T00:00:00",
          "2014-12-31T00:00:00",
          "2014-12-12T00:00:00"
         ],
         "xaxis": "x",
         "y": [
          580,
          620,
          700,
          820,
          700,
          720,
          730,
          810,
          730,
          820,
          490,
          800,
          780,
          730,
          800,
          580,
          531,
          720,
          740,
          690,
          800,
          750,
          750,
          800,
          630,
          390
         ],
         "yaxis": "y"
        },
        {
         "hovertemplate": "<b>LOWESS trendline</b><br><br>room_type=10<br>date=%{x}<br>price=%{y} <b>(trend)</b><extra></extra>",
         "legendgroup": "10",
         "marker": {
          "color": "#19d3f3",
          "symbol": "circle"
         },
         "mode": "lines",
         "name": "10",
         "showlegend": false,
         "type": "scatter",
         "x": [
          "2014-12-12T00:00:00",
          "2014-12-31T00:00:00",
          "2016-03-16T00:00:00",
          "2016-07-22T00:00:00",
          "2016-08-17T00:00:00",
          "2016-08-19T00:00:00",
          "2016-11-13T00:00:00",
          "2017-02-12T00:00:00",
          "2017-06-08T00:00:00",
          "2017-07-07T00:00:00",
          "2017-11-15T00:00:00",
          "2018-02-02T00:00:00",
          "2018-07-18T00:00:00",
          "2018-07-18T00:00:00",
          "2018-08-22T00:00:00",
          "2018-12-05T00:00:00",
          "2019-01-09T00:00:00",
          "2019-01-09T00:00:00",
          "2019-01-10T00:00:00",
          "2019-01-23T00:00:00",
          "2019-01-23T00:00:00",
          "2019-11-01T00:00:00",
          "2020-01-16T00:00:00",
          "2020-04-15T00:00:00",
          "2021-02-10T00:00:00",
          "2021-02-10T00:00:00"
         ],
         "xaxis": "x",
         "y": [
          683.3685450757043,
          685.4128618318342,
          723.9447368159132,
          735.3222546938798,
          737.708596055669,
          737.8873866964066,
          742.5494974712863,
          737.1041568292345,
          730.8313411024598,
          729.5570103317763,
          726.3646116708446,
          734.0256575765457,
          749.5050857058832,
          749.5050857058832,
          752.9899289069128,
          755.7402611431249,
          754.5818097567468,
          754.5818097567468,
          754.5444166214694,
          754.0416912234485,
          754.0416912234485,
          712.8686647613368,
          697.8132205355599,
          680.8910766913613,
          624.556162581963,
          624.556162581963
         ],
         "yaxis": "y"
        },
        {
         "hovertemplate": "room_type=2<br>date=%{x}<br>price=%{y}<extra></extra>",
         "legendgroup": "2",
         "marker": {
          "color": "#FF6692",
          "symbol": "circle"
         },
         "mode": "markers",
         "name": "2",
         "orientation": "v",
         "showlegend": true,
         "type": "scatter",
         "x": [
          "2021-02-04T00:00:00",
          "2021-01-08T00:00:00",
          "2020-12-17T00:00:00",
          "2020-10-27T00:00:00",
          "2020-10-02T00:00:00",
          "2020-05-30T00:00:00",
          "2020-04-15T00:00:00",
          "2019-12-05T00:00:00",
          "2019-11-20T00:00:00",
          "2019-10-16T00:00:00",
          "2019-08-06T00:00:00",
          "2018-11-21T00:00:00",
          "2018-08-16T00:00:00",
          "2018-07-15T00:00:00",
          "2018-02-21T00:00:00",
          "2018-02-09T00:00:00",
          "2017-07-12T00:00:00",
          "2017-05-07T00:00:00",
          "2016-11-24T00:00:00",
          "2015-03-27T00:00:00",
          "2014-12-31T00:00:00"
         ],
         "xaxis": "x",
         "y": [
          650,
          650,
          900,
          650,
          1200,
          720,
          800,
          820,
          840,
          722,
          820,
          850,
          750,
          800,
          800,
          700,
          730,
          1200,
          750,
          725,
          580
         ],
         "yaxis": "y"
        },
        {
         "hovertemplate": "<b>LOWESS trendline</b><br><br>room_type=2<br>date=%{x}<br>price=%{y} <b>(trend)</b><extra></extra>",
         "legendgroup": "2",
         "marker": {
          "color": "#FF6692",
          "symbol": "circle"
         },
         "mode": "lines",
         "name": "2",
         "showlegend": false,
         "type": "scatter",
         "x": [
          "2014-12-31T00:00:00",
          "2015-03-27T00:00:00",
          "2016-11-24T00:00:00",
          "2017-05-07T00:00:00",
          "2017-07-12T00:00:00",
          "2018-02-09T00:00:00",
          "2018-02-21T00:00:00",
          "2018-07-15T00:00:00",
          "2018-08-16T00:00:00",
          "2018-11-21T00:00:00",
          "2019-08-06T00:00:00",
          "2019-10-16T00:00:00",
          "2019-11-20T00:00:00",
          "2019-12-05T00:00:00",
          "2020-04-15T00:00:00",
          "2020-05-30T00:00:00",
          "2020-10-02T00:00:00",
          "2020-10-27T00:00:00",
          "2020-12-17T00:00:00",
          "2021-01-08T00:00:00",
          "2021-02-04T00:00:00"
         ],
         "xaxis": "x",
         "y": [
          649.8515881681363,
          658.9051335824294,
          724.8585272799223,
          743.7248061732494,
          747.745354233192,
          764.9653455172999,
          765.853661287812,
          776.8828068186245,
          779.9767502517595,
          785.6694585338448,
          798.4329961692687,
          799.8583166705774,
          793.1816634225837,
          789.0908589022838,
          748.9151803143365,
          734.862020882575,
          694.962712550888,
          686.8165521394765,
          670.0373561760932,
          662.7433071453047,
          653.7504993869852
         ],
         "yaxis": "y"
        },
        {
         "hovertemplate": "room_type=1<br>date=%{x}<br>price=%{y}<extra></extra>",
         "legendgroup": "1",
         "marker": {
          "color": "#B6E880",
          "symbol": "circle"
         },
         "mode": "markers",
         "name": "1",
         "orientation": "v",
         "showlegend": true,
         "type": "scatter",
         "x": [
          "2021-01-31T00:00:00",
          "2021-01-24T00:00:00",
          "2021-01-22T00:00:00",
          "2021-01-14T00:00:00",
          "2020-12-11T00:00:00",
          "2020-07-08T00:00:00",
          "2020-05-13T00:00:00",
          "2020-04-15T00:00:00",
          "2019-03-08T00:00:00",
          "2019-01-30T00:00:00",
          "2018-11-21T00:00:00",
          "2018-10-31T00:00:00",
          "2018-04-11T00:00:00",
          "2017-11-15T00:00:00",
          "2017-01-13T00:00:00",
          "2016-11-11T00:00:00",
          "2016-10-20T00:00:00",
          "2016-02-24T00:00:00",
          "2015-12-02T00:00:00",
          "2015-10-01T00:00:00",
          "2015-04-16T00:00:00"
         ],
         "xaxis": "x",
         "y": [
          600,
          550,
          660,
          650,
          580,
          950,
          490,
          800,
          750,
          802,
          850,
          1200,
          680,
          690,
          760,
          720,
          710,
          720,
          750,
          882,
          682
         ],
         "yaxis": "y"
        },
        {
         "hovertemplate": "<b>LOWESS trendline</b><br><br>room_type=1<br>date=%{x}<br>price=%{y} <b>(trend)</b><extra></extra>",
         "legendgroup": "1",
         "marker": {
          "color": "#B6E880",
          "symbol": "circle"
         },
         "mode": "lines",
         "name": "1",
         "showlegend": false,
         "type": "scatter",
         "x": [
          "2015-04-16T00:00:00",
          "2015-10-01T00:00:00",
          "2015-12-02T00:00:00",
          "2016-02-24T00:00:00",
          "2016-10-20T00:00:00",
          "2016-11-11T00:00:00",
          "2017-01-13T00:00:00",
          "2017-11-15T00:00:00",
          "2018-04-11T00:00:00",
          "2018-10-31T00:00:00",
          "2018-11-21T00:00:00",
          "2019-01-30T00:00:00",
          "2019-03-08T00:00:00",
          "2020-04-15T00:00:00",
          "2020-05-13T00:00:00",
          "2020-07-08T00:00:00",
          "2020-12-11T00:00:00",
          "2021-01-14T00:00:00",
          "2021-01-22T00:00:00",
          "2021-01-24T00:00:00",
          "2021-01-31T00:00:00"
         ],
         "xaxis": "x",
         "y": [
          734.4689124089429,
          733.9870159534544,
          734.0189313738173,
          734.2978803767883,
          736.4942360920313,
          736.7807679201419,
          737.6419622211297,
          741.5693973537304,
          748.4546099010514,
          753.9597471345729,
          755.1703672641496,
          758.9497514588147,
          761.1483102008739,
          679.0202836611983,
          672.1170352908898,
          658.2349780328082,
          619.0323625044439,
          610.3957150529404,
          608.3598842334437,
          607.8507267312247,
          606.0680391839423
         ],
         "yaxis": "y"
        },
        {
         "hovertemplate": "room_type=8<br>date=%{x}<br>price=%{y}<extra></extra>",
         "legendgroup": "8",
         "marker": {
          "color": "#FF97FF",
          "symbol": "circle"
         },
         "mode": "markers",
         "name": "8",
         "orientation": "v",
         "showlegend": true,
         "type": "scatter",
         "x": [
          "2021-01-20T00:00:00",
          "2021-01-12T00:00:00",
          "2021-01-06T00:00:00",
          "2020-02-27T00:00:00",
          "2020-01-24T00:00:00",
          "2020-01-09T00:00:00",
          "2019-12-17T00:00:00",
          "2019-10-24T00:00:00",
          "2019-09-04T00:00:00",
          "2019-05-16T00:00:00",
          "2019-02-27T00:00:00",
          "2019-01-16T00:00:00",
          "2019-01-02T00:00:00",
          "2018-05-02T00:00:00",
          "2018-04-18T00:00:00",
          "2018-03-21T00:00:00",
          "2018-03-07T00:00:00",
          "2017-12-20T00:00:00",
          "2017-06-21T00:00:00",
          "2017-01-20T00:00:00",
          "2017-01-13T00:00:00",
          "2016-02-21T00:00:00",
          "2016-01-14T00:00:00",
          "2016-01-13T00:00:00",
          "2014-12-17T00:00:00"
         ],
         "xaxis": "x",
         "y": [
          600,
          430,
          550,
          780,
          500,
          700,
          682,
          700,
          1103,
          680,
          750,
          550,
          780,
          490,
          760,
          690,
          1253,
          651,
          800,
          742,
          720,
          650,
          700,
          640,
          675
         ],
         "yaxis": "y"
        },
        {
         "hovertemplate": "<b>LOWESS trendline</b><br><br>room_type=8<br>date=%{x}<br>price=%{y} <b>(trend)</b><extra></extra>",
         "legendgroup": "8",
         "marker": {
          "color": "#FF97FF",
          "symbol": "circle"
         },
         "mode": "lines",
         "name": "8",
         "showlegend": false,
         "type": "scatter",
         "x": [
          "2014-12-17T00:00:00",
          "2016-01-13T00:00:00",
          "2016-01-14T00:00:00",
          "2016-02-21T00:00:00",
          "2017-01-13T00:00:00",
          "2017-01-20T00:00:00",
          "2017-06-21T00:00:00",
          "2017-12-20T00:00:00",
          "2018-03-07T00:00:00",
          "2018-03-21T00:00:00",
          "2018-04-18T00:00:00",
          "2018-05-02T00:00:00",
          "2019-01-02T00:00:00",
          "2019-01-16T00:00:00",
          "2019-02-27T00:00:00",
          "2019-05-16T00:00:00",
          "2019-09-04T00:00:00",
          "2019-10-24T00:00:00",
          "2019-12-17T00:00:00",
          "2020-01-09T00:00:00",
          "2020-01-24T00:00:00",
          "2020-02-27T00:00:00",
          "2021-01-06T00:00:00",
          "2021-01-12T00:00:00",
          "2021-01-20T00:00:00"
         ],
         "xaxis": "x",
         "y": [
          655.9394039124743,
          683.693192338326,
          683.7594233119491,
          686.2388265425147,
          705.9602415954446,
          706.4602787762205,
          715.8213034350471,
          726.0468408760127,
          723.654946790471,
          723.0982400027145,
          721.8066579076798,
          721.0400486228884,
          710.61943263529,
          709.8897529416835,
          707.8458898130135,
          706.2481927323402,
          697.5570520912541,
          684.3119194482756,
          667.8087386787464,
          661.1493774663173,
          656.8875709547331,
          647.3786304293853,
          558.9313033340495,
          557.1611401264196,
          554.7952512368715
         ],
         "yaxis": "y"
        },
        {
         "hovertemplate": "room_type=3<br>date=%{x}<br>price=%{y}<extra></extra>",
         "legendgroup": "3",
         "marker": {
          "color": "#FECB52",
          "symbol": "circle"
         },
         "mode": "markers",
         "name": "3",
         "orientation": "v",
         "showlegend": true,
         "type": "scatter",
         "x": [
          "2020-12-06T00:00:00",
          "2020-12-03T00:00:00",
          "2020-07-01T00:00:00",
          "2020-06-03T00:00:00",
          "2020-01-23T00:00:00",
          "2019-10-18T00:00:00",
          "2019-08-23T00:00:00",
          "2019-08-01T00:00:00",
          "2019-07-12T00:00:00",
          "2019-02-20T00:00:00",
          "2019-02-06T00:00:00",
          "2018-07-17T00:00:00",
          "2018-02-28T00:00:00",
          "2018-02-21T00:00:00",
          "2018-01-10T00:00:00",
          "2017-02-05T00:00:00",
          "2016-10-20T00:00:00",
          "2016-09-09T00:00:00",
          "2016-01-27T00:00:00",
          "2016-01-06T00:00:00",
          "2015-03-25T00:00:00"
         ],
         "xaxis": "x",
         "y": [
          580,
          580,
          580,
          600,
          730,
          620,
          600,
          680,
          700,
          700,
          780,
          760,
          680,
          660,
          670,
          660,
          660,
          570,
          650,
          630,
          625
         ],
         "yaxis": "y"
        },
        {
         "hovertemplate": "<b>LOWESS trendline</b><br><br>room_type=3<br>date=%{x}<br>price=%{y} <b>(trend)</b><extra></extra>",
         "legendgroup": "3",
         "marker": {
          "color": "#FECB52",
          "symbol": "circle"
         },
         "mode": "lines",
         "name": "3",
         "showlegend": false,
         "type": "scatter",
         "x": [
          "2015-03-25T00:00:00",
          "2016-01-06T00:00:00",
          "2016-01-27T00:00:00",
          "2016-09-09T00:00:00",
          "2016-10-20T00:00:00",
          "2017-02-05T00:00:00",
          "2018-01-10T00:00:00",
          "2018-02-21T00:00:00",
          "2018-02-28T00:00:00",
          "2018-07-17T00:00:00",
          "2019-02-06T00:00:00",
          "2019-02-20T00:00:00",
          "2019-07-12T00:00:00",
          "2019-08-01T00:00:00",
          "2019-08-23T00:00:00",
          "2019-10-18T00:00:00",
          "2020-01-23T00:00:00",
          "2020-06-03T00:00:00",
          "2020-07-01T00:00:00",
          "2020-12-03T00:00:00",
          "2020-12-06T00:00:00"
         ],
         "xaxis": "x",
         "y": [
          627.2839808875232,
          640.2794957017875,
          641.2108240221232,
          651.1396092663307,
          652.9383992364685,
          657.7086971562347,
          671.2790786555973,
          672.4948652393651,
          672.7107900100904,
          675.5224682348723,
          669.890546001818,
          669.6621924230589,
          678.3822836155086,
          673.3318551511891,
          667.8875808641166,
          655.2623848903213,
          634.9534887129768,
          607.8657807291531,
          602.130970359676,
          570.6529467585194,
          570.0518920051559
         ],
         "yaxis": "y"
        },
        {
         "hovertemplate": "room_type=11<br>date=%{x}<br>price=%{y}<extra></extra>",
         "legendgroup": "11",
         "marker": {
          "color": "#636efa",
          "symbol": "circle"
         },
         "mode": "markers",
         "name": "11",
         "orientation": "v",
         "showlegend": true,
         "type": "scatter",
         "x": [
          "2019-12-12T00:00:00",
          "2018-11-14T00:00:00"
         ],
         "xaxis": "x",
         "y": [
          780,
          720
         ],
         "yaxis": "y"
        },
        {
         "hovertemplate": "<b>LOWESS trendline</b><br><br>room_type=11<br>date=%{x}<br>price=%{y} <b>(trend)</b><extra></extra>",
         "legendgroup": "11",
         "marker": {
          "color": "#636efa",
          "symbol": "circle"
         },
         "mode": "lines",
         "name": "11",
         "showlegend": false,
         "type": "scatter",
         "x": [
          "2018-11-14T00:00:00",
          "2019-12-12T00:00:00"
         ],
         "xaxis": "x",
         "y": [
          720,
          780
         ],
         "yaxis": "y"
        }
       ],
       "layout": {
        "legend": {
         "title": {
          "text": "room_type"
         },
         "tracegroupgap": 0
        },
        "margin": {
         "t": 60
        },
        "template": {
         "data": {
          "bar": [
           {
            "error_x": {
             "color": "#2a3f5f"
            },
            "error_y": {
             "color": "#2a3f5f"
            },
            "marker": {
             "line": {
              "color": "#E5ECF6",
              "width": 0.5
             }
            },
            "type": "bar"
           }
          ],
          "barpolar": [
           {
            "marker": {
             "line": {
              "color": "#E5ECF6",
              "width": 0.5
             }
            },
            "type": "barpolar"
           }
          ],
          "carpet": [
           {
            "aaxis": {
             "endlinecolor": "#2a3f5f",
             "gridcolor": "white",
             "linecolor": "white",
             "minorgridcolor": "white",
             "startlinecolor": "#2a3f5f"
            },
            "baxis": {
             "endlinecolor": "#2a3f5f",
             "gridcolor": "white",
             "linecolor": "white",
             "minorgridcolor": "white",
             "startlinecolor": "#2a3f5f"
            },
            "type": "carpet"
           }
          ],
          "choropleth": [
           {
            "colorbar": {
             "outlinewidth": 0,
             "ticks": ""
            },
            "type": "choropleth"
           }
          ],
          "contour": [
           {
            "colorbar": {
             "outlinewidth": 0,
             "ticks": ""
            },
            "colorscale": [
             [
              0,
              "#0d0887"
             ],
             [
              0.1111111111111111,
              "#46039f"
             ],
             [
              0.2222222222222222,
              "#7201a8"
             ],
             [
              0.3333333333333333,
              "#9c179e"
             ],
             [
              0.4444444444444444,
              "#bd3786"
             ],
             [
              0.5555555555555556,
              "#d8576b"
             ],
             [
              0.6666666666666666,
              "#ed7953"
             ],
             [
              0.7777777777777778,
              "#fb9f3a"
             ],
             [
              0.8888888888888888,
              "#fdca26"
             ],
             [
              1,
              "#f0f921"
             ]
            ],
            "type": "contour"
           }
          ],
          "contourcarpet": [
           {
            "colorbar": {
             "outlinewidth": 0,
             "ticks": ""
            },
            "type": "contourcarpet"
           }
          ],
          "heatmap": [
           {
            "colorbar": {
             "outlinewidth": 0,
             "ticks": ""
            },
            "colorscale": [
             [
              0,
              "#0d0887"
             ],
             [
              0.1111111111111111,
              "#46039f"
             ],
             [
              0.2222222222222222,
              "#7201a8"
             ],
             [
              0.3333333333333333,
              "#9c179e"
             ],
             [
              0.4444444444444444,
              "#bd3786"
             ],
             [
              0.5555555555555556,
              "#d8576b"
             ],
             [
              0.6666666666666666,
              "#ed7953"
             ],
             [
              0.7777777777777778,
              "#fb9f3a"
             ],
             [
              0.8888888888888888,
              "#fdca26"
             ],
             [
              1,
              "#f0f921"
             ]
            ],
            "type": "heatmap"
           }
          ],
          "heatmapgl": [
           {
            "colorbar": {
             "outlinewidth": 0,
             "ticks": ""
            },
            "colorscale": [
             [
              0,
              "#0d0887"
             ],
             [
              0.1111111111111111,
              "#46039f"
             ],
             [
              0.2222222222222222,
              "#7201a8"
             ],
             [
              0.3333333333333333,
              "#9c179e"
             ],
             [
              0.4444444444444444,
              "#bd3786"
             ],
             [
              0.5555555555555556,
              "#d8576b"
             ],
             [
              0.6666666666666666,
              "#ed7953"
             ],
             [
              0.7777777777777778,
              "#fb9f3a"
             ],
             [
              0.8888888888888888,
              "#fdca26"
             ],
             [
              1,
              "#f0f921"
             ]
            ],
            "type": "heatmapgl"
           }
          ],
          "histogram": [
           {
            "marker": {
             "colorbar": {
              "outlinewidth": 0,
              "ticks": ""
             }
            },
            "type": "histogram"
           }
          ],
          "histogram2d": [
           {
            "colorbar": {
             "outlinewidth": 0,
             "ticks": ""
            },
            "colorscale": [
             [
              0,
              "#0d0887"
             ],
             [
              0.1111111111111111,
              "#46039f"
             ],
             [
              0.2222222222222222,
              "#7201a8"
             ],
             [
              0.3333333333333333,
              "#9c179e"
             ],
             [
              0.4444444444444444,
              "#bd3786"
             ],
             [
              0.5555555555555556,
              "#d8576b"
             ],
             [
              0.6666666666666666,
              "#ed7953"
             ],
             [
              0.7777777777777778,
              "#fb9f3a"
             ],
             [
              0.8888888888888888,
              "#fdca26"
             ],
             [
              1,
              "#f0f921"
             ]
            ],
            "type": "histogram2d"
           }
          ],
          "histogram2dcontour": [
           {
            "colorbar": {
             "outlinewidth": 0,
             "ticks": ""
            },
            "colorscale": [
             [
              0,
              "#0d0887"
             ],
             [
              0.1111111111111111,
              "#46039f"
             ],
             [
              0.2222222222222222,
              "#7201a8"
             ],
             [
              0.3333333333333333,
              "#9c179e"
             ],
             [
              0.4444444444444444,
              "#bd3786"
             ],
             [
              0.5555555555555556,
              "#d8576b"
             ],
             [
              0.6666666666666666,
              "#ed7953"
             ],
             [
              0.7777777777777778,
              "#fb9f3a"
             ],
             [
              0.8888888888888888,
              "#fdca26"
             ],
             [
              1,
              "#f0f921"
             ]
            ],
            "type": "histogram2dcontour"
           }
          ],
          "mesh3d": [
           {
            "colorbar": {
             "outlinewidth": 0,
             "ticks": ""
            },
            "type": "mesh3d"
           }
          ],
          "parcoords": [
           {
            "line": {
             "colorbar": {
              "outlinewidth": 0,
              "ticks": ""
             }
            },
            "type": "parcoords"
           }
          ],
          "pie": [
           {
            "automargin": true,
            "type": "pie"
           }
          ],
          "scatter": [
           {
            "marker": {
             "colorbar": {
              "outlinewidth": 0,
              "ticks": ""
             }
            },
            "type": "scatter"
           }
          ],
          "scatter3d": [
           {
            "line": {
             "colorbar": {
              "outlinewidth": 0,
              "ticks": ""
             }
            },
            "marker": {
             "colorbar": {
              "outlinewidth": 0,
              "ticks": ""
             }
            },
            "type": "scatter3d"
           }
          ],
          "scattercarpet": [
           {
            "marker": {
             "colorbar": {
              "outlinewidth": 0,
              "ticks": ""
             }
            },
            "type": "scattercarpet"
           }
          ],
          "scattergeo": [
           {
            "marker": {
             "colorbar": {
              "outlinewidth": 0,
              "ticks": ""
             }
            },
            "type": "scattergeo"
           }
          ],
          "scattergl": [
           {
            "marker": {
             "colorbar": {
              "outlinewidth": 0,
              "ticks": ""
             }
            },
            "type": "scattergl"
           }
          ],
          "scattermapbox": [
           {
            "marker": {
             "colorbar": {
              "outlinewidth": 0,
              "ticks": ""
             }
            },
            "type": "scattermapbox"
           }
          ],
          "scatterpolar": [
           {
            "marker": {
             "colorbar": {
              "outlinewidth": 0,
              "ticks": ""
             }
            },
            "type": "scatterpolar"
           }
          ],
          "scatterpolargl": [
           {
            "marker": {
             "colorbar": {
              "outlinewidth": 0,
              "ticks": ""
             }
            },
            "type": "scatterpolargl"
           }
          ],
          "scatterternary": [
           {
            "marker": {
             "colorbar": {
              "outlinewidth": 0,
              "ticks": ""
             }
            },
            "type": "scatterternary"
           }
          ],
          "surface": [
           {
            "colorbar": {
             "outlinewidth": 0,
             "ticks": ""
            },
            "colorscale": [
             [
              0,
              "#0d0887"
             ],
             [
              0.1111111111111111,
              "#46039f"
             ],
             [
              0.2222222222222222,
              "#7201a8"
             ],
             [
              0.3333333333333333,
              "#9c179e"
             ],
             [
              0.4444444444444444,
              "#bd3786"
             ],
             [
              0.5555555555555556,
              "#d8576b"
             ],
             [
              0.6666666666666666,
              "#ed7953"
             ],
             [
              0.7777777777777778,
              "#fb9f3a"
             ],
             [
              0.8888888888888888,
              "#fdca26"
             ],
             [
              1,
              "#f0f921"
             ]
            ],
            "type": "surface"
           }
          ],
          "table": [
           {
            "cells": {
             "fill": {
              "color": "#EBF0F8"
             },
             "line": {
              "color": "white"
             }
            },
            "header": {
             "fill": {
              "color": "#C8D4E3"
             },
             "line": {
              "color": "white"
             }
            },
            "type": "table"
           }
          ]
         },
         "layout": {
          "annotationdefaults": {
           "arrowcolor": "#2a3f5f",
           "arrowhead": 0,
           "arrowwidth": 1
          },
          "autotypenumbers": "strict",
          "coloraxis": {
           "colorbar": {
            "outlinewidth": 0,
            "ticks": ""
           }
          },
          "colorscale": {
           "diverging": [
            [
             0,
             "#8e0152"
            ],
            [
             0.1,
             "#c51b7d"
            ],
            [
             0.2,
             "#de77ae"
            ],
            [
             0.3,
             "#f1b6da"
            ],
            [
             0.4,
             "#fde0ef"
            ],
            [
             0.5,
             "#f7f7f7"
            ],
            [
             0.6,
             "#e6f5d0"
            ],
            [
             0.7,
             "#b8e186"
            ],
            [
             0.8,
             "#7fbc41"
            ],
            [
             0.9,
             "#4d9221"
            ],
            [
             1,
             "#276419"
            ]
           ],
           "sequential": [
            [
             0,
             "#0d0887"
            ],
            [
             0.1111111111111111,
             "#46039f"
            ],
            [
             0.2222222222222222,
             "#7201a8"
            ],
            [
             0.3333333333333333,
             "#9c179e"
            ],
            [
             0.4444444444444444,
             "#bd3786"
            ],
            [
             0.5555555555555556,
             "#d8576b"
            ],
            [
             0.6666666666666666,
             "#ed7953"
            ],
            [
             0.7777777777777778,
             "#fb9f3a"
            ],
            [
             0.8888888888888888,
             "#fdca26"
            ],
            [
             1,
             "#f0f921"
            ]
           ],
           "sequentialminus": [
            [
             0,
             "#0d0887"
            ],
            [
             0.1111111111111111,
             "#46039f"
            ],
            [
             0.2222222222222222,
             "#7201a8"
            ],
            [
             0.3333333333333333,
             "#9c179e"
            ],
            [
             0.4444444444444444,
             "#bd3786"
            ],
            [
             0.5555555555555556,
             "#d8576b"
            ],
            [
             0.6666666666666666,
             "#ed7953"
            ],
            [
             0.7777777777777778,
             "#fb9f3a"
            ],
            [
             0.8888888888888888,
             "#fdca26"
            ],
            [
             1,
             "#f0f921"
            ]
           ]
          },
          "colorway": [
           "#636efa",
           "#EF553B",
           "#00cc96",
           "#ab63fa",
           "#FFA15A",
           "#19d3f3",
           "#FF6692",
           "#B6E880",
           "#FF97FF",
           "#FECB52"
          ],
          "font": {
           "color": "#2a3f5f"
          },
          "geo": {
           "bgcolor": "white",
           "lakecolor": "white",
           "landcolor": "#E5ECF6",
           "showlakes": true,
           "showland": true,
           "subunitcolor": "white"
          },
          "hoverlabel": {
           "align": "left"
          },
          "hovermode": "closest",
          "mapbox": {
           "style": "light"
          },
          "paper_bgcolor": "white",
          "plot_bgcolor": "#E5ECF6",
          "polar": {
           "angularaxis": {
            "gridcolor": "white",
            "linecolor": "white",
            "ticks": ""
           },
           "bgcolor": "#E5ECF6",
           "radialaxis": {
            "gridcolor": "white",
            "linecolor": "white",
            "ticks": ""
           }
          },
          "scene": {
           "xaxis": {
            "backgroundcolor": "#E5ECF6",
            "gridcolor": "white",
            "gridwidth": 2,
            "linecolor": "white",
            "showbackground": true,
            "ticks": "",
            "zerolinecolor": "white"
           },
           "yaxis": {
            "backgroundcolor": "#E5ECF6",
            "gridcolor": "white",
            "gridwidth": 2,
            "linecolor": "white",
            "showbackground": true,
            "ticks": "",
            "zerolinecolor": "white"
           },
           "zaxis": {
            "backgroundcolor": "#E5ECF6",
            "gridcolor": "white",
            "gridwidth": 2,
            "linecolor": "white",
            "showbackground": true,
            "ticks": "",
            "zerolinecolor": "white"
           }
          },
          "shapedefaults": {
           "line": {
            "color": "#2a3f5f"
           }
          },
          "ternary": {
           "aaxis": {
            "gridcolor": "white",
            "linecolor": "white",
            "ticks": ""
           },
           "baxis": {
            "gridcolor": "white",
            "linecolor": "white",
            "ticks": ""
           },
           "bgcolor": "#E5ECF6",
           "caxis": {
            "gridcolor": "white",
            "linecolor": "white",
            "ticks": ""
           }
          },
          "title": {
           "x": 0.05
          },
          "xaxis": {
           "automargin": true,
           "gridcolor": "white",
           "linecolor": "white",
           "ticks": "",
           "title": {
            "standoff": 15
           },
           "zerolinecolor": "white",
           "zerolinewidth": 2
          },
          "yaxis": {
           "automargin": true,
           "gridcolor": "white",
           "linecolor": "white",
           "ticks": "",
           "title": {
            "standoff": 15
           },
           "zerolinecolor": "white",
           "zerolinewidth": 2
          }
         }
        },
        "xaxis": {
         "anchor": "y",
         "domain": [
          0,
          1
         ],
         "title": {
          "text": "date"
         }
        },
        "yaxis": {
         "anchor": "x",
         "domain": [
          0,
          1
         ],
         "title": {
          "text": "price"
         }
        }
       }
      },
      "text/html": [
       "<div>                            <div id=\"f26084ea-72c4-4327-b602-0386bd120f67\" class=\"plotly-graph-div\" style=\"height:525px; width:100%;\"></div>            <script type=\"text/javascript\">                require([\"plotly\"], function(Plotly) {                    window.PLOTLYENV=window.PLOTLYENV || {};                                    if (document.getElementById(\"f26084ea-72c4-4327-b602-0386bd120f67\")) {                    Plotly.newPlot(                        \"f26084ea-72c4-4327-b602-0386bd120f67\",                        [{\"hovertemplate\": \"room_type=6<br>date=%{x}<br>price=%{y}<extra></extra>\", \"legendgroup\": \"6\", \"marker\": {\"color\": \"#636efa\", \"symbol\": \"circle\"}, \"mode\": \"markers\", \"name\": \"6\", \"orientation\": \"v\", \"showlegend\": true, \"type\": \"scatter\", \"x\": [\"2021-03-03T00:00:00\", \"2021-02-03T00:00:00\", \"2021-01-21T00:00:00\", \"2021-01-17T00:00:00\", \"2021-01-10T00:00:00\", \"2021-01-08T00:00:00\", \"2020-12-03T00:00:00\", \"2020-07-29T00:00:00\", \"2020-06-12T00:00:00\", \"2020-01-23T00:00:00\", \"2020-01-09T00:00:00\", \"2020-01-09T00:00:00\", \"2019-11-28T00:00:00\", \"2019-10-22T00:00:00\", \"2019-02-20T00:00:00\", \"2018-10-12T00:00:00\", \"2018-08-22T00:00:00\", \"2018-07-11T00:00:00\", \"2018-06-13T00:00:00\", \"2018-04-25T00:00:00\", \"2018-01-24T00:00:00\", \"2017-11-29T00:00:00\", \"2017-09-10T00:00:00\", \"2017-06-29T00:00:00\", \"2017-01-30T00:00:00\", \"2017-01-10T00:00:00\", \"2016-11-09T00:00:00\", \"2016-06-02T00:00:00\", \"2016-03-23T00:00:00\", \"2015-12-30T00:00:00\", \"2015-08-20T00:00:00\", \"2015-06-10T00:00:00\"], \"xaxis\": \"x\", \"y\": [380, 410, 420, 430, 400, 420, 380, 450, 500, 560, 461, 550, 542, 552, 720, 521, 550, 510, 470, 450, 530, 540, 480, 500, 430, 450, 450, 450, 520, 460, 602, 430], \"yaxis\": \"y\"}, {\"hovertemplate\": \"<b>LOWESS trendline</b><br><br>room_type=6<br>date=%{x}<br>price=%{y} <b>(trend)</b><extra></extra>\", \"legendgroup\": \"6\", \"marker\": {\"color\": \"#636efa\", \"symbol\": \"circle\"}, \"mode\": \"lines\", \"name\": \"6\", \"showlegend\": false, \"type\": \"scatter\", \"x\": [\"2015-06-10T00:00:00\", \"2015-08-20T00:00:00\", \"2015-12-30T00:00:00\", \"2016-03-23T00:00:00\", \"2016-06-02T00:00:00\", \"2016-11-09T00:00:00\", \"2017-01-10T00:00:00\", \"2017-01-30T00:00:00\", \"2017-06-29T00:00:00\", \"2017-09-10T00:00:00\", \"2017-11-29T00:00:00\", \"2018-01-24T00:00:00\", \"2018-04-25T00:00:00\", \"2018-06-13T00:00:00\", \"2018-07-11T00:00:00\", \"2018-08-22T00:00:00\", \"2018-10-12T00:00:00\", \"2019-02-20T00:00:00\", \"2019-10-22T00:00:00\", \"2019-11-28T00:00:00\", \"2020-01-09T00:00:00\", \"2020-01-09T00:00:00\", \"2020-01-23T00:00:00\", \"2020-06-12T00:00:00\", \"2020-07-29T00:00:00\", \"2020-12-03T00:00:00\", \"2021-01-08T00:00:00\", \"2021-01-10T00:00:00\", \"2021-01-17T00:00:00\", \"2021-01-21T00:00:00\", \"2021-02-03T00:00:00\", \"2021-03-03T00:00:00\"], \"xaxis\": \"x\", \"y\": [441.4010833160139, 445.19214108901457, 452.41968545687166, 457.1779554200746, 461.30452369889156, 470.77227040354666, 474.39699216676354, 475.54653411723365, 483.6763962962831, 487.44642859507087, 492.5736988432138, 497.34524890748526, 503.86590253409815, 506.9256604397592, 508.6523334991646, 509.52523648848137, 512.1187733797252, 515.6199136513869, 508.6680024847999, 502.54290050889404, 495.5108788786431, 495.5108788786431, 493.10014769413567, 466.14366457065717, 456.0708612995585, 426.5472201704387, 417.65485438685954, 417.15501705274806, 415.40100423403976, 414.39556147564645, 411.1124744203844, 403.96497949401174], \"yaxis\": \"y\"}, {\"hovertemplate\": \"room_type=5<br>date=%{x}<br>price=%{y}<extra></extra>\", \"legendgroup\": \"5\", \"marker\": {\"color\": \"#EF553B\", \"symbol\": \"circle\"}, \"mode\": \"markers\", \"name\": \"5\", \"orientation\": \"v\", \"showlegend\": true, \"type\": \"scatter\", \"x\": [\"2021-03-03T00:00:00\", \"2021-02-24T00:00:00\", \"2021-02-10T00:00:00\", \"2021-02-10T00:00:00\", \"2021-01-24T00:00:00\", \"2021-01-22T00:00:00\", \"2021-01-10T00:00:00\", \"2021-01-05T00:00:00\", \"2020-12-16T00:00:00\", \"2020-07-17T00:00:00\", \"2020-07-01T00:00:00\", \"2020-01-23T00:00:00\", \"2019-12-13T00:00:00\", \"2019-11-14T00:00:00\", \"2019-10-08T00:00:00\", \"2019-05-16T00:00:00\", \"2019-02-27T00:00:00\", \"2019-01-30T00:00:00\", \"2018-11-21T00:00:00\", \"2018-10-31T00:00:00\", \"2018-01-24T00:00:00\", \"2018-01-17T00:00:00\", \"2017-11-02T00:00:00\", \"2017-06-23T00:00:00\", \"2016-10-07T00:00:00\"], \"xaxis\": \"x\", \"y\": [420, 330, 430, 300, 430, 450, 430, 420, 430, 430, 500, 522, 550, 560, 540, 550, 550, 550, 500, 550, 540, 480, 2200, 460, 520], \"yaxis\": \"y\"}, {\"hovertemplate\": \"<b>LOWESS trendline</b><br><br>room_type=5<br>date=%{x}<br>price=%{y} <b>(trend)</b><extra></extra>\", \"legendgroup\": \"5\", \"marker\": {\"color\": \"#EF553B\", \"symbol\": \"circle\"}, \"mode\": \"lines\", \"name\": \"5\", \"showlegend\": false, \"type\": \"scatter\", \"x\": [\"2016-10-07T00:00:00\", \"2017-06-23T00:00:00\", \"2017-11-02T00:00:00\", \"2018-01-17T00:00:00\", \"2018-01-24T00:00:00\", \"2018-10-31T00:00:00\", \"2018-11-21T00:00:00\", \"2019-01-30T00:00:00\", \"2019-02-27T00:00:00\", \"2019-05-16T00:00:00\", \"2019-10-08T00:00:00\", \"2019-11-14T00:00:00\", \"2019-12-13T00:00:00\", \"2020-01-23T00:00:00\", \"2020-07-01T00:00:00\", \"2020-07-17T00:00:00\", \"2020-12-16T00:00:00\", \"2021-01-05T00:00:00\", \"2021-01-10T00:00:00\", \"2021-01-22T00:00:00\", \"2021-01-24T00:00:00\", \"2021-02-10T00:00:00\", \"2021-02-10T00:00:00\", \"2021-02-24T00:00:00\", \"2021-03-03T00:00:00\"], \"xaxis\": \"x\", \"y\": [494.90756838159217, 506.40620270128164, 511.957524510123, 514.772738396127, 515.0138944350072, 529.0859290111084, 530.2151008090674, 534.8599024884261, 536.2930486468912, 538.2525813267953, 532.6814883091271, 530.4724408049279, 528.0474882036974, 521.4679227506925, 480.8714613225724, 476.46082184147843, 434.4638300487077, 429.00203482588887, 427.63989745645137, 424.3764220464459, 423.8333030196525, 419.2256369393808, 419.2256369393808, 415.44193473756087, 413.5532821725821], \"yaxis\": \"y\"}, {\"hovertemplate\": \"room_type=4<br>date=%{x}<br>price=%{y}<extra></extra>\", \"legendgroup\": \"4\", \"marker\": {\"color\": \"#00cc96\", \"symbol\": \"circle\"}, \"mode\": \"markers\", \"name\": \"4\", \"orientation\": \"v\", \"showlegend\": true, \"type\": \"scatter\", \"x\": [\"2021-03-02T00:00:00\", \"2021-02-03T00:00:00\", \"2021-01-24T00:00:00\", \"2021-01-20T00:00:00\", \"2020-12-09T00:00:00\", \"2020-12-06T00:00:00\", \"2020-11-22T00:00:00\", \"2020-11-15T00:00:00\", \"2020-09-15T00:00:00\", \"2020-08-05T00:00:00\", \"2020-06-24T00:00:00\", \"2020-06-10T00:00:00\", \"2020-02-27T00:00:00\", \"2020-01-16T00:00:00\", \"2019-12-13T00:00:00\", \"2019-10-22T00:00:00\", \"2019-10-15T00:00:00\", \"2018-10-31T00:00:00\", \"2018-01-03T00:00:00\", \"2017-11-08T00:00:00\", \"2017-11-02T00:00:00\", \"2017-02-23T00:00:00\", \"2017-02-14T00:00:00\", \"2017-01-20T00:00:00\", \"2016-07-22T00:00:00\", \"2015-12-16T00:00:00\", \"2015-01-28T00:00:00\", \"2014-12-31T00:00:00\"], \"xaxis\": \"x\", \"y\": [420, 510, 460, 460, 450, 500, 390, 460, 450, 530, 600, 650, 650, 560, 650, 630, 640, 660, 650, 690, 580, 650, 565, 640, 572, 530, 600, 468], \"yaxis\": \"y\"}, {\"hovertemplate\": \"<b>LOWESS trendline</b><br><br>room_type=4<br>date=%{x}<br>price=%{y} <b>(trend)</b><extra></extra>\", \"legendgroup\": \"4\", \"marker\": {\"color\": \"#00cc96\", \"symbol\": \"circle\"}, \"mode\": \"lines\", \"name\": \"4\", \"showlegend\": false, \"type\": \"scatter\", \"x\": [\"2014-12-31T00:00:00\", \"2015-01-28T00:00:00\", \"2015-12-16T00:00:00\", \"2016-07-22T00:00:00\", \"2017-01-20T00:00:00\", \"2017-02-14T00:00:00\", \"2017-02-23T00:00:00\", \"2017-11-02T00:00:00\", \"2017-11-08T00:00:00\", \"2018-01-03T00:00:00\", \"2018-10-31T00:00:00\", \"2019-10-15T00:00:00\", \"2019-10-22T00:00:00\", \"2019-12-13T00:00:00\", \"2020-01-16T00:00:00\", \"2020-02-27T00:00:00\", \"2020-06-10T00:00:00\", \"2020-06-24T00:00:00\", \"2020-08-05T00:00:00\", \"2020-09-15T00:00:00\", \"2020-11-15T00:00:00\", \"2020-11-22T00:00:00\", \"2020-12-06T00:00:00\", \"2020-12-09T00:00:00\", \"2021-01-20T00:00:00\", \"2021-01-24T00:00:00\", \"2021-02-03T00:00:00\", \"2021-03-02T00:00:00\"], \"xaxis\": \"x\", \"y\": [522.6534316099634, 525.7217237039313, 560.5249205028916, 583.1349012247927, 601.0406258760949, 603.4461849405579, 604.3095121921028, 624.5509556922713, 624.482128758305, 627.0097511438867, 636.4572667110808, 635.0284099042244, 634.6306776715612, 628.9725610305335, 616.9542523607078, 598.7258024367259, 553.0768183011154, 546.992492622719, 528.7260024743141, 510.78761104115137, 483.7968125220658, 480.6759490372305, 474.42077622557264, 473.0782131557255, 454.2167132916091, 452.4151814565848, 447.90836605321624, 435.72127901817794], \"yaxis\": \"y\"}, {\"hovertemplate\": \"room_type=7<br>date=%{x}<br>price=%{y}<extra></extra>\", \"legendgroup\": \"7\", \"marker\": {\"color\": \"#ab63fa\", \"symbol\": \"circle\"}, \"mode\": \"markers\", \"name\": \"7\", \"orientation\": \"v\", \"showlegend\": true, \"type\": \"scatter\", \"x\": [\"2021-02-24T00:00:00\", \"2021-01-28T00:00:00\", \"2020-12-23T00:00:00\", \"2020-12-02T00:00:00\", \"2020-11-27T00:00:00\", \"2020-11-27T00:00:00\", \"2020-11-18T00:00:00\", \"2020-10-04T00:00:00\", \"2020-07-29T00:00:00\", \"2020-07-15T00:00:00\", \"2020-04-15T00:00:00\", \"2020-04-15T00:00:00\", \"2020-02-27T00:00:00\", \"2019-07-14T00:00:00\", \"2019-01-09T00:00:00\", \"2018-12-11T00:00:00\", \"2018-11-14T00:00:00\", \"2018-02-07T00:00:00\", \"2018-01-31T00:00:00\", \"2017-09-17T00:00:00\", \"2017-01-13T00:00:00\", \"2016-01-20T00:00:00\", \"2015-12-03T00:00:00\", \"2015-06-24T00:00:00\"], \"xaxis\": \"x\", \"y\": [520, 430, 500, 390, 450, 400, 450, 430, 500, 530, 600, 670, 662, 652, 630, 630, 620, 650, 690, 580, 590, 560, 561, 600], \"yaxis\": \"y\"}, {\"hovertemplate\": \"<b>LOWESS trendline</b><br><br>room_type=7<br>date=%{x}<br>price=%{y} <b>(trend)</b><extra></extra>\", \"legendgroup\": \"7\", \"marker\": {\"color\": \"#ab63fa\", \"symbol\": \"circle\"}, \"mode\": \"lines\", \"name\": \"7\", \"showlegend\": false, \"type\": \"scatter\", \"x\": [\"2015-06-24T00:00:00\", \"2015-12-03T00:00:00\", \"2016-01-20T00:00:00\", \"2017-01-13T00:00:00\", \"2017-09-17T00:00:00\", \"2018-01-31T00:00:00\", \"2018-02-07T00:00:00\", \"2018-11-14T00:00:00\", \"2018-12-11T00:00:00\", \"2019-01-09T00:00:00\", \"2019-07-14T00:00:00\", \"2020-02-27T00:00:00\", \"2020-04-15T00:00:00\", \"2020-04-15T00:00:00\", \"2020-07-15T00:00:00\", \"2020-07-29T00:00:00\", \"2020-10-04T00:00:00\", \"2020-11-18T00:00:00\", \"2020-11-27T00:00:00\", \"2020-11-27T00:00:00\", \"2020-12-02T00:00:00\", \"2020-12-23T00:00:00\", \"2021-01-28T00:00:00\", \"2021-02-24T00:00:00\"], \"xaxis\": \"x\", \"y\": [567.3307622274499, 576.469221722997, 579.1785089063932, 598.7942179157762, 611.6051158155443, 620.4155663265245, 620.7197472381738, 633.1752280841976, 633.4301901401021, 633.3793537396806, 622.3950442912246, 601.6100062142426, 576.0725744725048, 576.0725744725048, 526.6405098258552, 518.8508577176535, 480.7250216778269, 454.4095102613733, 449.09194851587904, 449.09194851587904, 446.13110637817533, 433.6515647066661, 412.1451774632349, 395.96772419034454], \"yaxis\": \"y\"}, {\"hovertemplate\": \"room_type=9<br>date=%{x}<br>price=%{y}<extra></extra>\", \"legendgroup\": \"9\", \"marker\": {\"color\": \"#FFA15A\", \"symbol\": \"circle\"}, \"mode\": \"markers\", \"name\": \"9\", \"orientation\": \"v\", \"showlegend\": true, \"type\": \"scatter\", \"x\": [\"2021-02-24T00:00:00\", \"2021-01-17T00:00:00\", \"2021-01-17T00:00:00\", \"2021-01-13T00:00:00\", \"2020-12-18T00:00:00\", \"2020-12-18T00:00:00\", \"2020-12-06T00:00:00\", \"2020-12-06T00:00:00\", \"2020-06-18T00:00:00\", \"2020-02-13T00:00:00\", \"2020-02-13T00:00:00\", \"2020-01-30T00:00:00\", \"2020-01-10T00:00:00\", \"2019-12-11T00:00:00\", \"2019-10-15T00:00:00\", \"2019-03-06T00:00:00\", \"2019-02-06T00:00:00\", \"2018-08-15T00:00:00\", \"2018-01-18T00:00:00\", \"2017-11-29T00:00:00\", \"2017-02-23T00:00:00\", \"2016-07-13T00:00:00\", \"2014-12-25T00:00:00\"], \"xaxis\": \"x\", \"y\": [560, 420, 650, 400, 595, 400, 580, 680, 500, 760, 840, 900, 840, 541, 820, 820, 700, 800, 670, 720, 1103, 720, 650], \"yaxis\": \"y\"}, {\"hovertemplate\": \"<b>LOWESS trendline</b><br><br>room_type=9<br>date=%{x}<br>price=%{y} <b>(trend)</b><extra></extra>\", \"legendgroup\": \"9\", \"marker\": {\"color\": \"#FFA15A\", \"symbol\": \"circle\"}, \"mode\": \"lines\", \"name\": \"9\", \"showlegend\": false, \"type\": \"scatter\", \"x\": [\"2014-12-25T00:00:00\", \"2016-07-13T00:00:00\", \"2017-02-23T00:00:00\", \"2017-11-29T00:00:00\", \"2018-01-18T00:00:00\", \"2018-08-15T00:00:00\", \"2019-02-06T00:00:00\", \"2019-03-06T00:00:00\", \"2019-10-15T00:00:00\", \"2019-12-11T00:00:00\", \"2020-01-10T00:00:00\", \"2020-01-30T00:00:00\", \"2020-02-13T00:00:00\", \"2020-02-13T00:00:00\", \"2020-06-18T00:00:00\", \"2020-12-06T00:00:00\", \"2020-12-06T00:00:00\", \"2020-12-18T00:00:00\", \"2020-12-18T00:00:00\", \"2021-01-13T00:00:00\", \"2021-01-17T00:00:00\", \"2021-01-17T00:00:00\", \"2021-02-24T00:00:00\"], \"xaxis\": \"x\", \"y\": [657.023378557355, 694.0300867428498, 710.0530791294793, 729.1190377639007, 732.3798207660917, 743.1230011307373, 763.9374087804575, 767.952171489813, 781.4819038149978, 782.9819193724157, 782.463992236379, 771.6289032573706, 760.4412755340146, 760.4412755340146, 672.7645155643227, 552.1474087616003, 552.1474087616003, 544.3276698004335, 544.3276698004335, 527.7364973139825, 525.2212534341952, 525.2212534341952, 501.79200799117075], \"yaxis\": \"y\"}, {\"hovertemplate\": \"room_type=10<br>date=%{x}<br>price=%{y}<extra></extra>\", \"legendgroup\": \"10\", \"marker\": {\"color\": \"#19d3f3\", \"symbol\": \"circle\"}, \"mode\": \"markers\", \"name\": \"10\", \"orientation\": \"v\", \"showlegend\": true, \"type\": \"scatter\", \"x\": [\"2021-02-10T00:00:00\", \"2021-02-10T00:00:00\", \"2020-04-15T00:00:00\", \"2020-01-16T00:00:00\", \"2019-11-01T00:00:00\", \"2019-01-23T00:00:00\", \"2019-01-23T00:00:00\", \"2019-01-10T00:00:00\", \"2019-01-09T00:00:00\", \"2019-01-09T00:00:00\", \"2018-12-05T00:00:00\", \"2018-08-22T00:00:00\", \"2018-07-18T00:00:00\", \"2018-07-18T00:00:00\", \"2018-02-02T00:00:00\", \"2017-11-15T00:00:00\", \"2017-07-07T00:00:00\", \"2017-06-08T00:00:00\", \"2017-02-12T00:00:00\", \"2016-11-13T00:00:00\", \"2016-08-19T00:00:00\", \"2016-08-17T00:00:00\", \"2016-07-22T00:00:00\", \"2016-03-16T00:00:00\", \"2014-12-31T00:00:00\", \"2014-12-12T00:00:00\"], \"xaxis\": \"x\", \"y\": [580, 620, 700, 820, 700, 720, 730, 810, 730, 820, 490, 800, 780, 730, 800, 580, 531, 720, 740, 690, 800, 750, 750, 800, 630, 390], \"yaxis\": \"y\"}, {\"hovertemplate\": \"<b>LOWESS trendline</b><br><br>room_type=10<br>date=%{x}<br>price=%{y} <b>(trend)</b><extra></extra>\", \"legendgroup\": \"10\", \"marker\": {\"color\": \"#19d3f3\", \"symbol\": \"circle\"}, \"mode\": \"lines\", \"name\": \"10\", \"showlegend\": false, \"type\": \"scatter\", \"x\": [\"2014-12-12T00:00:00\", \"2014-12-31T00:00:00\", \"2016-03-16T00:00:00\", \"2016-07-22T00:00:00\", \"2016-08-17T00:00:00\", \"2016-08-19T00:00:00\", \"2016-11-13T00:00:00\", \"2017-02-12T00:00:00\", \"2017-06-08T00:00:00\", \"2017-07-07T00:00:00\", \"2017-11-15T00:00:00\", \"2018-02-02T00:00:00\", \"2018-07-18T00:00:00\", \"2018-07-18T00:00:00\", \"2018-08-22T00:00:00\", \"2018-12-05T00:00:00\", \"2019-01-09T00:00:00\", \"2019-01-09T00:00:00\", \"2019-01-10T00:00:00\", \"2019-01-23T00:00:00\", \"2019-01-23T00:00:00\", \"2019-11-01T00:00:00\", \"2020-01-16T00:00:00\", \"2020-04-15T00:00:00\", \"2021-02-10T00:00:00\", \"2021-02-10T00:00:00\"], \"xaxis\": \"x\", \"y\": [683.3685450757043, 685.4128618318342, 723.9447368159132, 735.3222546938798, 737.708596055669, 737.8873866964066, 742.5494974712863, 737.1041568292345, 730.8313411024598, 729.5570103317763, 726.3646116708446, 734.0256575765457, 749.5050857058832, 749.5050857058832, 752.9899289069128, 755.7402611431249, 754.5818097567468, 754.5818097567468, 754.5444166214694, 754.0416912234485, 754.0416912234485, 712.8686647613368, 697.8132205355599, 680.8910766913613, 624.556162581963, 624.556162581963], \"yaxis\": \"y\"}, {\"hovertemplate\": \"room_type=2<br>date=%{x}<br>price=%{y}<extra></extra>\", \"legendgroup\": \"2\", \"marker\": {\"color\": \"#FF6692\", \"symbol\": \"circle\"}, \"mode\": \"markers\", \"name\": \"2\", \"orientation\": \"v\", \"showlegend\": true, \"type\": \"scatter\", \"x\": [\"2021-02-04T00:00:00\", \"2021-01-08T00:00:00\", \"2020-12-17T00:00:00\", \"2020-10-27T00:00:00\", \"2020-10-02T00:00:00\", \"2020-05-30T00:00:00\", \"2020-04-15T00:00:00\", \"2019-12-05T00:00:00\", \"2019-11-20T00:00:00\", \"2019-10-16T00:00:00\", \"2019-08-06T00:00:00\", \"2018-11-21T00:00:00\", \"2018-08-16T00:00:00\", \"2018-07-15T00:00:00\", \"2018-02-21T00:00:00\", \"2018-02-09T00:00:00\", \"2017-07-12T00:00:00\", \"2017-05-07T00:00:00\", \"2016-11-24T00:00:00\", \"2015-03-27T00:00:00\", \"2014-12-31T00:00:00\"], \"xaxis\": \"x\", \"y\": [650, 650, 900, 650, 1200, 720, 800, 820, 840, 722, 820, 850, 750, 800, 800, 700, 730, 1200, 750, 725, 580], \"yaxis\": \"y\"}, {\"hovertemplate\": \"<b>LOWESS trendline</b><br><br>room_type=2<br>date=%{x}<br>price=%{y} <b>(trend)</b><extra></extra>\", \"legendgroup\": \"2\", \"marker\": {\"color\": \"#FF6692\", \"symbol\": \"circle\"}, \"mode\": \"lines\", \"name\": \"2\", \"showlegend\": false, \"type\": \"scatter\", \"x\": [\"2014-12-31T00:00:00\", \"2015-03-27T00:00:00\", \"2016-11-24T00:00:00\", \"2017-05-07T00:00:00\", \"2017-07-12T00:00:00\", \"2018-02-09T00:00:00\", \"2018-02-21T00:00:00\", \"2018-07-15T00:00:00\", \"2018-08-16T00:00:00\", \"2018-11-21T00:00:00\", \"2019-08-06T00:00:00\", \"2019-10-16T00:00:00\", \"2019-11-20T00:00:00\", \"2019-12-05T00:00:00\", \"2020-04-15T00:00:00\", \"2020-05-30T00:00:00\", \"2020-10-02T00:00:00\", \"2020-10-27T00:00:00\", \"2020-12-17T00:00:00\", \"2021-01-08T00:00:00\", \"2021-02-04T00:00:00\"], \"xaxis\": \"x\", \"y\": [649.8515881681363, 658.9051335824294, 724.8585272799223, 743.7248061732494, 747.745354233192, 764.9653455172999, 765.853661287812, 776.8828068186245, 779.9767502517595, 785.6694585338448, 798.4329961692687, 799.8583166705774, 793.1816634225837, 789.0908589022838, 748.9151803143365, 734.862020882575, 694.962712550888, 686.8165521394765, 670.0373561760932, 662.7433071453047, 653.7504993869852], \"yaxis\": \"y\"}, {\"hovertemplate\": \"room_type=1<br>date=%{x}<br>price=%{y}<extra></extra>\", \"legendgroup\": \"1\", \"marker\": {\"color\": \"#B6E880\", \"symbol\": \"circle\"}, \"mode\": \"markers\", \"name\": \"1\", \"orientation\": \"v\", \"showlegend\": true, \"type\": \"scatter\", \"x\": [\"2021-01-31T00:00:00\", \"2021-01-24T00:00:00\", \"2021-01-22T00:00:00\", \"2021-01-14T00:00:00\", \"2020-12-11T00:00:00\", \"2020-07-08T00:00:00\", \"2020-05-13T00:00:00\", \"2020-04-15T00:00:00\", \"2019-03-08T00:00:00\", \"2019-01-30T00:00:00\", \"2018-11-21T00:00:00\", \"2018-10-31T00:00:00\", \"2018-04-11T00:00:00\", \"2017-11-15T00:00:00\", \"2017-01-13T00:00:00\", \"2016-11-11T00:00:00\", \"2016-10-20T00:00:00\", \"2016-02-24T00:00:00\", \"2015-12-02T00:00:00\", \"2015-10-01T00:00:00\", \"2015-04-16T00:00:00\"], \"xaxis\": \"x\", \"y\": [600, 550, 660, 650, 580, 950, 490, 800, 750, 802, 850, 1200, 680, 690, 760, 720, 710, 720, 750, 882, 682], \"yaxis\": \"y\"}, {\"hovertemplate\": \"<b>LOWESS trendline</b><br><br>room_type=1<br>date=%{x}<br>price=%{y} <b>(trend)</b><extra></extra>\", \"legendgroup\": \"1\", \"marker\": {\"color\": \"#B6E880\", \"symbol\": \"circle\"}, \"mode\": \"lines\", \"name\": \"1\", \"showlegend\": false, \"type\": \"scatter\", \"x\": [\"2015-04-16T00:00:00\", \"2015-10-01T00:00:00\", \"2015-12-02T00:00:00\", \"2016-02-24T00:00:00\", \"2016-10-20T00:00:00\", \"2016-11-11T00:00:00\", \"2017-01-13T00:00:00\", \"2017-11-15T00:00:00\", \"2018-04-11T00:00:00\", \"2018-10-31T00:00:00\", \"2018-11-21T00:00:00\", \"2019-01-30T00:00:00\", \"2019-03-08T00:00:00\", \"2020-04-15T00:00:00\", \"2020-05-13T00:00:00\", \"2020-07-08T00:00:00\", \"2020-12-11T00:00:00\", \"2021-01-14T00:00:00\", \"2021-01-22T00:00:00\", \"2021-01-24T00:00:00\", \"2021-01-31T00:00:00\"], \"xaxis\": \"x\", \"y\": [734.4689124089429, 733.9870159534544, 734.0189313738173, 734.2978803767883, 736.4942360920313, 736.7807679201419, 737.6419622211297, 741.5693973537304, 748.4546099010514, 753.9597471345729, 755.1703672641496, 758.9497514588147, 761.1483102008739, 679.0202836611983, 672.1170352908898, 658.2349780328082, 619.0323625044439, 610.3957150529404, 608.3598842334437, 607.8507267312247, 606.0680391839423], \"yaxis\": \"y\"}, {\"hovertemplate\": \"room_type=8<br>date=%{x}<br>price=%{y}<extra></extra>\", \"legendgroup\": \"8\", \"marker\": {\"color\": \"#FF97FF\", \"symbol\": \"circle\"}, \"mode\": \"markers\", \"name\": \"8\", \"orientation\": \"v\", \"showlegend\": true, \"type\": \"scatter\", \"x\": [\"2021-01-20T00:00:00\", \"2021-01-12T00:00:00\", \"2021-01-06T00:00:00\", \"2020-02-27T00:00:00\", \"2020-01-24T00:00:00\", \"2020-01-09T00:00:00\", \"2019-12-17T00:00:00\", \"2019-10-24T00:00:00\", \"2019-09-04T00:00:00\", \"2019-05-16T00:00:00\", \"2019-02-27T00:00:00\", \"2019-01-16T00:00:00\", \"2019-01-02T00:00:00\", \"2018-05-02T00:00:00\", \"2018-04-18T00:00:00\", \"2018-03-21T00:00:00\", \"2018-03-07T00:00:00\", \"2017-12-20T00:00:00\", \"2017-06-21T00:00:00\", \"2017-01-20T00:00:00\", \"2017-01-13T00:00:00\", \"2016-02-21T00:00:00\", \"2016-01-14T00:00:00\", \"2016-01-13T00:00:00\", \"2014-12-17T00:00:00\"], \"xaxis\": \"x\", \"y\": [600, 430, 550, 780, 500, 700, 682, 700, 1103, 680, 750, 550, 780, 490, 760, 690, 1253, 651, 800, 742, 720, 650, 700, 640, 675], \"yaxis\": \"y\"}, {\"hovertemplate\": \"<b>LOWESS trendline</b><br><br>room_type=8<br>date=%{x}<br>price=%{y} <b>(trend)</b><extra></extra>\", \"legendgroup\": \"8\", \"marker\": {\"color\": \"#FF97FF\", \"symbol\": \"circle\"}, \"mode\": \"lines\", \"name\": \"8\", \"showlegend\": false, \"type\": \"scatter\", \"x\": [\"2014-12-17T00:00:00\", \"2016-01-13T00:00:00\", \"2016-01-14T00:00:00\", \"2016-02-21T00:00:00\", \"2017-01-13T00:00:00\", \"2017-01-20T00:00:00\", \"2017-06-21T00:00:00\", \"2017-12-20T00:00:00\", \"2018-03-07T00:00:00\", \"2018-03-21T00:00:00\", \"2018-04-18T00:00:00\", \"2018-05-02T00:00:00\", \"2019-01-02T00:00:00\", \"2019-01-16T00:00:00\", \"2019-02-27T00:00:00\", \"2019-05-16T00:00:00\", \"2019-09-04T00:00:00\", \"2019-10-24T00:00:00\", \"2019-12-17T00:00:00\", \"2020-01-09T00:00:00\", \"2020-01-24T00:00:00\", \"2020-02-27T00:00:00\", \"2021-01-06T00:00:00\", \"2021-01-12T00:00:00\", \"2021-01-20T00:00:00\"], \"xaxis\": \"x\", \"y\": [655.9394039124743, 683.693192338326, 683.7594233119491, 686.2388265425147, 705.9602415954446, 706.4602787762205, 715.8213034350471, 726.0468408760127, 723.654946790471, 723.0982400027145, 721.8066579076798, 721.0400486228884, 710.61943263529, 709.8897529416835, 707.8458898130135, 706.2481927323402, 697.5570520912541, 684.3119194482756, 667.8087386787464, 661.1493774663173, 656.8875709547331, 647.3786304293853, 558.9313033340495, 557.1611401264196, 554.7952512368715], \"yaxis\": \"y\"}, {\"hovertemplate\": \"room_type=3<br>date=%{x}<br>price=%{y}<extra></extra>\", \"legendgroup\": \"3\", \"marker\": {\"color\": \"#FECB52\", \"symbol\": \"circle\"}, \"mode\": \"markers\", \"name\": \"3\", \"orientation\": \"v\", \"showlegend\": true, \"type\": \"scatter\", \"x\": [\"2020-12-06T00:00:00\", \"2020-12-03T00:00:00\", \"2020-07-01T00:00:00\", \"2020-06-03T00:00:00\", \"2020-01-23T00:00:00\", \"2019-10-18T00:00:00\", \"2019-08-23T00:00:00\", \"2019-08-01T00:00:00\", \"2019-07-12T00:00:00\", \"2019-02-20T00:00:00\", \"2019-02-06T00:00:00\", \"2018-07-17T00:00:00\", \"2018-02-28T00:00:00\", \"2018-02-21T00:00:00\", \"2018-01-10T00:00:00\", \"2017-02-05T00:00:00\", \"2016-10-20T00:00:00\", \"2016-09-09T00:00:00\", \"2016-01-27T00:00:00\", \"2016-01-06T00:00:00\", \"2015-03-25T00:00:00\"], \"xaxis\": \"x\", \"y\": [580, 580, 580, 600, 730, 620, 600, 680, 700, 700, 780, 760, 680, 660, 670, 660, 660, 570, 650, 630, 625], \"yaxis\": \"y\"}, {\"hovertemplate\": \"<b>LOWESS trendline</b><br><br>room_type=3<br>date=%{x}<br>price=%{y} <b>(trend)</b><extra></extra>\", \"legendgroup\": \"3\", \"marker\": {\"color\": \"#FECB52\", \"symbol\": \"circle\"}, \"mode\": \"lines\", \"name\": \"3\", \"showlegend\": false, \"type\": \"scatter\", \"x\": [\"2015-03-25T00:00:00\", \"2016-01-06T00:00:00\", \"2016-01-27T00:00:00\", \"2016-09-09T00:00:00\", \"2016-10-20T00:00:00\", \"2017-02-05T00:00:00\", \"2018-01-10T00:00:00\", \"2018-02-21T00:00:00\", \"2018-02-28T00:00:00\", \"2018-07-17T00:00:00\", \"2019-02-06T00:00:00\", \"2019-02-20T00:00:00\", \"2019-07-12T00:00:00\", \"2019-08-01T00:00:00\", \"2019-08-23T00:00:00\", \"2019-10-18T00:00:00\", \"2020-01-23T00:00:00\", \"2020-06-03T00:00:00\", \"2020-07-01T00:00:00\", \"2020-12-03T00:00:00\", \"2020-12-06T00:00:00\"], \"xaxis\": \"x\", \"y\": [627.2839808875232, 640.2794957017875, 641.2108240221232, 651.1396092663307, 652.9383992364685, 657.7086971562347, 671.2790786555973, 672.4948652393651, 672.7107900100904, 675.5224682348723, 669.890546001818, 669.6621924230589, 678.3822836155086, 673.3318551511891, 667.8875808641166, 655.2623848903213, 634.9534887129768, 607.8657807291531, 602.130970359676, 570.6529467585194, 570.0518920051559], \"yaxis\": \"y\"}, {\"hovertemplate\": \"room_type=11<br>date=%{x}<br>price=%{y}<extra></extra>\", \"legendgroup\": \"11\", \"marker\": {\"color\": \"#636efa\", \"symbol\": \"circle\"}, \"mode\": \"markers\", \"name\": \"11\", \"orientation\": \"v\", \"showlegend\": true, \"type\": \"scatter\", \"x\": [\"2019-12-12T00:00:00\", \"2018-11-14T00:00:00\"], \"xaxis\": \"x\", \"y\": [780, 720], \"yaxis\": \"y\"}, {\"hovertemplate\": \"<b>LOWESS trendline</b><br><br>room_type=11<br>date=%{x}<br>price=%{y} <b>(trend)</b><extra></extra>\", \"legendgroup\": \"11\", \"marker\": {\"color\": \"#636efa\", \"symbol\": \"circle\"}, \"mode\": \"lines\", \"name\": \"11\", \"showlegend\": false, \"type\": \"scatter\", \"x\": [\"2018-11-14T00:00:00\", \"2019-12-12T00:00:00\"], \"xaxis\": \"x\", \"y\": [720.0, 780.0], \"yaxis\": \"y\"}],                        {\"legend\": {\"title\": {\"text\": \"room_type\"}, \"tracegroupgap\": 0}, \"margin\": {\"t\": 60}, \"template\": {\"data\": {\"bar\": [{\"error_x\": {\"color\": \"#2a3f5f\"}, \"error_y\": {\"color\": \"#2a3f5f\"}, \"marker\": {\"line\": {\"color\": \"#E5ECF6\", \"width\": 0.5}}, \"type\": \"bar\"}], \"barpolar\": [{\"marker\": {\"line\": {\"color\": \"#E5ECF6\", \"width\": 0.5}}, \"type\": \"barpolar\"}], \"carpet\": [{\"aaxis\": {\"endlinecolor\": \"#2a3f5f\", \"gridcolor\": \"white\", \"linecolor\": \"white\", \"minorgridcolor\": \"white\", \"startlinecolor\": \"#2a3f5f\"}, \"baxis\": {\"endlinecolor\": \"#2a3f5f\", \"gridcolor\": \"white\", \"linecolor\": \"white\", \"minorgridcolor\": \"white\", \"startlinecolor\": \"#2a3f5f\"}, \"type\": \"carpet\"}], \"choropleth\": [{\"colorbar\": {\"outlinewidth\": 0, \"ticks\": \"\"}, \"type\": \"choropleth\"}], \"contour\": [{\"colorbar\": {\"outlinewidth\": 0, \"ticks\": \"\"}, \"colorscale\": [[0.0, \"#0d0887\"], [0.1111111111111111, \"#46039f\"], [0.2222222222222222, \"#7201a8\"], [0.3333333333333333, \"#9c179e\"], [0.4444444444444444, \"#bd3786\"], [0.5555555555555556, \"#d8576b\"], [0.6666666666666666, \"#ed7953\"], [0.7777777777777778, \"#fb9f3a\"], [0.8888888888888888, \"#fdca26\"], [1.0, \"#f0f921\"]], \"type\": \"contour\"}], \"contourcarpet\": [{\"colorbar\": {\"outlinewidth\": 0, \"ticks\": \"\"}, \"type\": \"contourcarpet\"}], \"heatmap\": [{\"colorbar\": {\"outlinewidth\": 0, \"ticks\": \"\"}, \"colorscale\": [[0.0, \"#0d0887\"], [0.1111111111111111, \"#46039f\"], [0.2222222222222222, \"#7201a8\"], [0.3333333333333333, \"#9c179e\"], [0.4444444444444444, \"#bd3786\"], [0.5555555555555556, \"#d8576b\"], [0.6666666666666666, \"#ed7953\"], [0.7777777777777778, \"#fb9f3a\"], [0.8888888888888888, \"#fdca26\"], [1.0, \"#f0f921\"]], \"type\": \"heatmap\"}], \"heatmapgl\": [{\"colorbar\": {\"outlinewidth\": 0, \"ticks\": \"\"}, \"colorscale\": [[0.0, \"#0d0887\"], [0.1111111111111111, \"#46039f\"], [0.2222222222222222, \"#7201a8\"], [0.3333333333333333, \"#9c179e\"], [0.4444444444444444, \"#bd3786\"], [0.5555555555555556, \"#d8576b\"], [0.6666666666666666, \"#ed7953\"], [0.7777777777777778, \"#fb9f3a\"], [0.8888888888888888, \"#fdca26\"], [1.0, \"#f0f921\"]], \"type\": \"heatmapgl\"}], \"histogram\": [{\"marker\": {\"colorbar\": {\"outlinewidth\": 0, \"ticks\": \"\"}}, \"type\": \"histogram\"}], \"histogram2d\": [{\"colorbar\": {\"outlinewidth\": 0, \"ticks\": \"\"}, \"colorscale\": [[0.0, \"#0d0887\"], [0.1111111111111111, \"#46039f\"], [0.2222222222222222, \"#7201a8\"], [0.3333333333333333, \"#9c179e\"], [0.4444444444444444, \"#bd3786\"], [0.5555555555555556, \"#d8576b\"], [0.6666666666666666, \"#ed7953\"], [0.7777777777777778, \"#fb9f3a\"], [0.8888888888888888, \"#fdca26\"], [1.0, \"#f0f921\"]], \"type\": \"histogram2d\"}], \"histogram2dcontour\": [{\"colorbar\": {\"outlinewidth\": 0, \"ticks\": \"\"}, \"colorscale\": [[0.0, \"#0d0887\"], [0.1111111111111111, \"#46039f\"], [0.2222222222222222, \"#7201a8\"], [0.3333333333333333, \"#9c179e\"], [0.4444444444444444, \"#bd3786\"], [0.5555555555555556, \"#d8576b\"], [0.6666666666666666, \"#ed7953\"], [0.7777777777777778, \"#fb9f3a\"], [0.8888888888888888, \"#fdca26\"], [1.0, \"#f0f921\"]], \"type\": \"histogram2dcontour\"}], \"mesh3d\": [{\"colorbar\": {\"outlinewidth\": 0, \"ticks\": \"\"}, \"type\": \"mesh3d\"}], \"parcoords\": [{\"line\": {\"colorbar\": {\"outlinewidth\": 0, \"ticks\": \"\"}}, \"type\": \"parcoords\"}], \"pie\": [{\"automargin\": true, \"type\": \"pie\"}], \"scatter\": [{\"marker\": {\"colorbar\": {\"outlinewidth\": 0, \"ticks\": \"\"}}, \"type\": \"scatter\"}], \"scatter3d\": [{\"line\": {\"colorbar\": {\"outlinewidth\": 0, \"ticks\": \"\"}}, \"marker\": {\"colorbar\": {\"outlinewidth\": 0, \"ticks\": \"\"}}, \"type\": \"scatter3d\"}], \"scattercarpet\": [{\"marker\": {\"colorbar\": {\"outlinewidth\": 0, \"ticks\": \"\"}}, \"type\": \"scattercarpet\"}], \"scattergeo\": [{\"marker\": {\"colorbar\": {\"outlinewidth\": 0, \"ticks\": \"\"}}, \"type\": \"scattergeo\"}], \"scattergl\": [{\"marker\": {\"colorbar\": {\"outlinewidth\": 0, \"ticks\": \"\"}}, \"type\": \"scattergl\"}], \"scattermapbox\": [{\"marker\": {\"colorbar\": {\"outlinewidth\": 0, \"ticks\": \"\"}}, \"type\": \"scattermapbox\"}], \"scatterpolar\": [{\"marker\": {\"colorbar\": {\"outlinewidth\": 0, \"ticks\": \"\"}}, \"type\": \"scatterpolar\"}], \"scatterpolargl\": [{\"marker\": {\"colorbar\": {\"outlinewidth\": 0, \"ticks\": \"\"}}, \"type\": \"scatterpolargl\"}], \"scatterternary\": [{\"marker\": {\"colorbar\": {\"outlinewidth\": 0, \"ticks\": \"\"}}, \"type\": \"scatterternary\"}], \"surface\": [{\"colorbar\": {\"outlinewidth\": 0, \"ticks\": \"\"}, \"colorscale\": [[0.0, \"#0d0887\"], [0.1111111111111111, \"#46039f\"], [0.2222222222222222, \"#7201a8\"], [0.3333333333333333, \"#9c179e\"], [0.4444444444444444, \"#bd3786\"], [0.5555555555555556, \"#d8576b\"], [0.6666666666666666, \"#ed7953\"], [0.7777777777777778, \"#fb9f3a\"], [0.8888888888888888, \"#fdca26\"], [1.0, \"#f0f921\"]], \"type\": \"surface\"}], \"table\": [{\"cells\": {\"fill\": {\"color\": \"#EBF0F8\"}, \"line\": {\"color\": \"white\"}}, \"header\": {\"fill\": {\"color\": \"#C8D4E3\"}, \"line\": {\"color\": \"white\"}}, \"type\": \"table\"}]}, \"layout\": {\"annotationdefaults\": {\"arrowcolor\": \"#2a3f5f\", \"arrowhead\": 0, \"arrowwidth\": 1}, \"autotypenumbers\": \"strict\", \"coloraxis\": {\"colorbar\": {\"outlinewidth\": 0, \"ticks\": \"\"}}, \"colorscale\": {\"diverging\": [[0, \"#8e0152\"], [0.1, \"#c51b7d\"], [0.2, \"#de77ae\"], [0.3, \"#f1b6da\"], [0.4, \"#fde0ef\"], [0.5, \"#f7f7f7\"], [0.6, \"#e6f5d0\"], [0.7, \"#b8e186\"], [0.8, \"#7fbc41\"], [0.9, \"#4d9221\"], [1, \"#276419\"]], \"sequential\": [[0.0, \"#0d0887\"], [0.1111111111111111, \"#46039f\"], [0.2222222222222222, \"#7201a8\"], [0.3333333333333333, \"#9c179e\"], [0.4444444444444444, \"#bd3786\"], [0.5555555555555556, \"#d8576b\"], [0.6666666666666666, \"#ed7953\"], [0.7777777777777778, \"#fb9f3a\"], [0.8888888888888888, \"#fdca26\"], [1.0, \"#f0f921\"]], \"sequentialminus\": [[0.0, \"#0d0887\"], [0.1111111111111111, \"#46039f\"], [0.2222222222222222, \"#7201a8\"], [0.3333333333333333, \"#9c179e\"], [0.4444444444444444, \"#bd3786\"], [0.5555555555555556, \"#d8576b\"], [0.6666666666666666, \"#ed7953\"], [0.7777777777777778, \"#fb9f3a\"], [0.8888888888888888, \"#fdca26\"], [1.0, \"#f0f921\"]]}, \"colorway\": [\"#636efa\", \"#EF553B\", \"#00cc96\", \"#ab63fa\", \"#FFA15A\", \"#19d3f3\", \"#FF6692\", \"#B6E880\", \"#FF97FF\", \"#FECB52\"], \"font\": {\"color\": \"#2a3f5f\"}, \"geo\": {\"bgcolor\": \"white\", \"lakecolor\": \"white\", \"landcolor\": \"#E5ECF6\", \"showlakes\": true, \"showland\": true, \"subunitcolor\": \"white\"}, \"hoverlabel\": {\"align\": \"left\"}, \"hovermode\": \"closest\", \"mapbox\": {\"style\": \"light\"}, \"paper_bgcolor\": \"white\", \"plot_bgcolor\": \"#E5ECF6\", \"polar\": {\"angularaxis\": {\"gridcolor\": \"white\", \"linecolor\": \"white\", \"ticks\": \"\"}, \"bgcolor\": \"#E5ECF6\", \"radialaxis\": {\"gridcolor\": \"white\", \"linecolor\": \"white\", \"ticks\": \"\"}}, \"scene\": {\"xaxis\": {\"backgroundcolor\": \"#E5ECF6\", \"gridcolor\": \"white\", \"gridwidth\": 2, \"linecolor\": \"white\", \"showbackground\": true, \"ticks\": \"\", \"zerolinecolor\": \"white\"}, \"yaxis\": {\"backgroundcolor\": \"#E5ECF6\", \"gridcolor\": \"white\", \"gridwidth\": 2, \"linecolor\": \"white\", \"showbackground\": true, \"ticks\": \"\", \"zerolinecolor\": \"white\"}, \"zaxis\": {\"backgroundcolor\": \"#E5ECF6\", \"gridcolor\": \"white\", \"gridwidth\": 2, \"linecolor\": \"white\", \"showbackground\": true, \"ticks\": \"\", \"zerolinecolor\": \"white\"}}, \"shapedefaults\": {\"line\": {\"color\": \"#2a3f5f\"}}, \"ternary\": {\"aaxis\": {\"gridcolor\": \"white\", \"linecolor\": \"white\", \"ticks\": \"\"}, \"baxis\": {\"gridcolor\": \"white\", \"linecolor\": \"white\", \"ticks\": \"\"}, \"bgcolor\": \"#E5ECF6\", \"caxis\": {\"gridcolor\": \"white\", \"linecolor\": \"white\", \"ticks\": \"\"}}, \"title\": {\"x\": 0.05}, \"xaxis\": {\"automargin\": true, \"gridcolor\": \"white\", \"linecolor\": \"white\", \"ticks\": \"\", \"title\": {\"standoff\": 15}, \"zerolinecolor\": \"white\", \"zerolinewidth\": 2}, \"yaxis\": {\"automargin\": true, \"gridcolor\": \"white\", \"linecolor\": \"white\", \"ticks\": \"\", \"title\": {\"standoff\": 15}, \"zerolinecolor\": \"white\", \"zerolinewidth\": 2}}}, \"xaxis\": {\"anchor\": \"y\", \"domain\": [0.0, 1.0], \"title\": {\"text\": \"date\"}}, \"yaxis\": {\"anchor\": \"x\", \"domain\": [0.0, 1.0], \"title\": {\"text\": \"price\"}}},                        {\"responsive\": true}                    ).then(function(){\n",
       "                            \n",
       "var gd = document.getElementById('f26084ea-72c4-4327-b602-0386bd120f67');\n",
       "var x = new MutationObserver(function (mutations, observer) {{\n",
       "        var display = window.getComputedStyle(gd).display;\n",
       "        if (!display || display === 'none') {{\n",
       "            console.log([gd, 'removed!']);\n",
       "            Plotly.purge(gd);\n",
       "            observer.disconnect();\n",
       "        }}\n",
       "}});\n",
       "\n",
       "// Listen for the removal of the full notebook cells\n",
       "var notebookContainer = gd.closest('#notebook-container');\n",
       "if (notebookContainer) {{\n",
       "    x.observe(notebookContainer, {childList: true});\n",
       "}}\n",
       "\n",
       "// Listen for the clearing of the current output cell\n",
       "var outputEl = gd.closest('.output');\n",
       "if (outputEl) {{\n",
       "    x.observe(outputEl, {childList: true});\n",
       "}}\n",
       "\n",
       "                        })                };                });            </script>        </div>"
      ]
     },
     "metadata": {},
     "output_type": "display_data"
    }
   ],
   "source": [
    "df_318_rus = get_property_rent_history(address)\n",
    "fig = px.scatter(df_318_rus, x=\"date\", y=\"price\", color=\"room_type\", trendline=\"lowess\")\n",
    "fig.show()"
   ]
  },
  {
   "cell_type": "markdown",
   "metadata": {},
   "source": [
    "### KNN to identify room types"
   ]
  },
  {
   "cell_type": "code",
   "execution_count": 31,
   "metadata": {},
   "outputs": [],
   "source": [
    "df = df_318_rus[(df_318_rus.bed==2) &(df_318_rus.bath==2)  & (df_318_rus.parking==0)]"
   ]
  },
  {
   "cell_type": "code",
   "execution_count": 22,
   "metadata": {
    "scrolled": true
   },
   "outputs": [
    {
     "data": {
      "text/html": [
       "<div>\n",
       "<style scoped>\n",
       "    .dataframe tbody tr th:only-of-type {\n",
       "        vertical-align: middle;\n",
       "    }\n",
       "\n",
       "    .dataframe tbody tr th {\n",
       "        vertical-align: top;\n",
       "    }\n",
       "\n",
       "    .dataframe thead th {\n",
       "        text-align: right;\n",
       "    }\n",
       "</style>\n",
       "<table border=\"1\" class=\"dataframe\">\n",
       "  <thead>\n",
       "    <tr style=\"text-align: right;\">\n",
       "      <th></th>\n",
       "      <th>building_name</th>\n",
       "      <th>room_no</th>\n",
       "      <th>price</th>\n",
       "      <th>date</th>\n",
       "      <th>bed</th>\n",
       "      <th>bath</th>\n",
       "      <th>parking</th>\n",
       "      <th>room_type</th>\n",
       "      <th>level</th>\n",
       "    </tr>\n",
       "  </thead>\n",
       "  <tbody>\n",
       "    <tr>\n",
       "      <th>4</th>\n",
       "      <td>318-russell-street-melbourne-vic-3000</td>\n",
       "      <td>4207</td>\n",
       "      <td>520</td>\n",
       "      <td>2021-02-24</td>\n",
       "      <td>2</td>\n",
       "      <td>2</td>\n",
       "      <td>0</td>\n",
       "      <td>7</td>\n",
       "      <td>42</td>\n",
       "    </tr>\n",
       "    <tr>\n",
       "      <th>5</th>\n",
       "      <td>318-russell-street-melbourne-vic-3000</td>\n",
       "      <td>3809</td>\n",
       "      <td>560</td>\n",
       "      <td>2021-02-24</td>\n",
       "      <td>2</td>\n",
       "      <td>2</td>\n",
       "      <td>0</td>\n",
       "      <td>9</td>\n",
       "      <td>38</td>\n",
       "    </tr>\n",
       "    <tr>\n",
       "      <th>6</th>\n",
       "      <td>318-russell-street-melbourne-vic-3000</td>\n",
       "      <td>1910</td>\n",
       "      <td>580</td>\n",
       "      <td>2021-02-10</td>\n",
       "      <td>2</td>\n",
       "      <td>2</td>\n",
       "      <td>0</td>\n",
       "      <td>10</td>\n",
       "      <td>19</td>\n",
       "    </tr>\n",
       "    <tr>\n",
       "      <th>8</th>\n",
       "      <td>318-russell-street-melbourne-vic-3000</td>\n",
       "      <td>4510</td>\n",
       "      <td>620</td>\n",
       "      <td>2021-02-10</td>\n",
       "      <td>2</td>\n",
       "      <td>2</td>\n",
       "      <td>0</td>\n",
       "      <td>10</td>\n",
       "      <td>45</td>\n",
       "    </tr>\n",
       "    <tr>\n",
       "      <th>10</th>\n",
       "      <td>318-russell-street-melbourne-vic-3000</td>\n",
       "      <td>3902</td>\n",
       "      <td>650</td>\n",
       "      <td>2021-02-04</td>\n",
       "      <td>2</td>\n",
       "      <td>2</td>\n",
       "      <td>0</td>\n",
       "      <td>2</td>\n",
       "      <td>39</td>\n",
       "    </tr>\n",
       "    <tr>\n",
       "      <th>...</th>\n",
       "      <td>...</td>\n",
       "      <td>...</td>\n",
       "      <td>...</td>\n",
       "      <td>...</td>\n",
       "      <td>...</td>\n",
       "      <td>...</td>\n",
       "      <td>...</td>\n",
       "      <td>...</td>\n",
       "      <td>...</td>\n",
       "    </tr>\n",
       "    <tr>\n",
       "      <th>227</th>\n",
       "      <td>318-russell-street-melbourne-vic-3000</td>\n",
       "      <td>2208</td>\n",
       "      <td>700</td>\n",
       "      <td>2016-01-14</td>\n",
       "      <td>2</td>\n",
       "      <td>2</td>\n",
       "      <td>0</td>\n",
       "      <td>8</td>\n",
       "      <td>22</td>\n",
       "    </tr>\n",
       "    <tr>\n",
       "      <th>238</th>\n",
       "      <td>318-russell-street-melbourne-vic-3000</td>\n",
       "      <td>3601</td>\n",
       "      <td>682</td>\n",
       "      <td>2015-04-16</td>\n",
       "      <td>2</td>\n",
       "      <td>2</td>\n",
       "      <td>0</td>\n",
       "      <td>1</td>\n",
       "      <td>36</td>\n",
       "    </tr>\n",
       "    <tr>\n",
       "      <th>241</th>\n",
       "      <td>318-russell-street-melbourne-vic-3000</td>\n",
       "      <td>4804</td>\n",
       "      <td>600</td>\n",
       "      <td>2015-01-28</td>\n",
       "      <td>2</td>\n",
       "      <td>2</td>\n",
       "      <td>0</td>\n",
       "      <td>4</td>\n",
       "      <td>48</td>\n",
       "    </tr>\n",
       "    <tr>\n",
       "      <th>243</th>\n",
       "      <td>318-russell-street-melbourne-vic-3000</td>\n",
       "      <td>3002</td>\n",
       "      <td>580</td>\n",
       "      <td>2014-12-31</td>\n",
       "      <td>2</td>\n",
       "      <td>2</td>\n",
       "      <td>0</td>\n",
       "      <td>2</td>\n",
       "      <td>30</td>\n",
       "    </tr>\n",
       "    <tr>\n",
       "      <th>244</th>\n",
       "      <td>318-russell-street-melbourne-vic-3000</td>\n",
       "      <td>2010</td>\n",
       "      <td>630</td>\n",
       "      <td>2014-12-31</td>\n",
       "      <td>2</td>\n",
       "      <td>2</td>\n",
       "      <td>0</td>\n",
       "      <td>10</td>\n",
       "      <td>20</td>\n",
       "    </tr>\n",
       "  </tbody>\n",
       "</table>\n",
       "<p>101 rows × 9 columns</p>\n",
       "</div>"
      ],
      "text/plain": [
       "                             building_name  room_no  price       date  bed  \\\n",
       "4    318-russell-street-melbourne-vic-3000     4207    520 2021-02-24    2   \n",
       "5    318-russell-street-melbourne-vic-3000     3809    560 2021-02-24    2   \n",
       "6    318-russell-street-melbourne-vic-3000     1910    580 2021-02-10    2   \n",
       "8    318-russell-street-melbourne-vic-3000     4510    620 2021-02-10    2   \n",
       "10   318-russell-street-melbourne-vic-3000     3902    650 2021-02-04    2   \n",
       "..                                     ...      ...    ...        ...  ...   \n",
       "227  318-russell-street-melbourne-vic-3000     2208    700 2016-01-14    2   \n",
       "238  318-russell-street-melbourne-vic-3000     3601    682 2015-04-16    2   \n",
       "241  318-russell-street-melbourne-vic-3000     4804    600 2015-01-28    2   \n",
       "243  318-russell-street-melbourne-vic-3000     3002    580 2014-12-31    2   \n",
       "244  318-russell-street-melbourne-vic-3000     2010    630 2014-12-31    2   \n",
       "\n",
       "     bath  parking room_type  level  \n",
       "4       2        0         7     42  \n",
       "5       2        0         9     38  \n",
       "6       2        0        10     19  \n",
       "8       2        0        10     45  \n",
       "10      2        0         2     39  \n",
       "..    ...      ...       ...    ...  \n",
       "227     2        0         8     22  \n",
       "238     2        0         1     36  \n",
       "241     2        0         4     48  \n",
       "243     2        0         2     30  \n",
       "244     2        0        10     20  \n",
       "\n",
       "[101 rows x 9 columns]"
      ]
     },
     "execution_count": 22,
     "metadata": {},
     "output_type": "execute_result"
    }
   ],
   "source": [
    "df"
   ]
  },
  {
   "cell_type": "code",
   "execution_count": 35,
   "metadata": {},
   "outputs": [
    {
     "data": {
      "text/html": [
       "<div>\n",
       "<style scoped>\n",
       "    .dataframe tbody tr th:only-of-type {\n",
       "        vertical-align: middle;\n",
       "    }\n",
       "\n",
       "    .dataframe tbody tr th {\n",
       "        vertical-align: top;\n",
       "    }\n",
       "\n",
       "    .dataframe thead th {\n",
       "        text-align: right;\n",
       "    }\n",
       "</style>\n",
       "<table border=\"1\" class=\"dataframe\">\n",
       "  <thead>\n",
       "    <tr style=\"text-align: right;\">\n",
       "      <th></th>\n",
       "      <th>building_name</th>\n",
       "      <th>room_no</th>\n",
       "      <th>price</th>\n",
       "      <th>date</th>\n",
       "      <th>bed</th>\n",
       "      <th>bath</th>\n",
       "      <th>parking</th>\n",
       "      <th>room_type</th>\n",
       "      <th>level</th>\n",
       "    </tr>\n",
       "  </thead>\n",
       "  <tbody>\n",
       "    <tr>\n",
       "      <th>0</th>\n",
       "      <td>318-russell-street-melbourne-vic-3000</td>\n",
       "      <td>2606</td>\n",
       "      <td>380</td>\n",
       "      <td>2021-03-03</td>\n",
       "      <td>1</td>\n",
       "      <td>1</td>\n",
       "      <td>0</td>\n",
       "      <td>6</td>\n",
       "      <td>26</td>\n",
       "    </tr>\n",
       "  </tbody>\n",
       "</table>\n",
       "</div>"
      ],
      "text/plain": [
       "                           building_name  room_no  price       date  bed  \\\n",
       "0  318-russell-street-melbourne-vic-3000     2606    380 2021-03-03    1   \n",
       "\n",
       "   bath  parking room_type  level  \n",
       "0     1        0         6     26  "
      ]
     },
     "execution_count": 35,
     "metadata": {},
     "output_type": "execute_result"
    }
   ],
   "source": [
    "df_318_rus[df_318_rus.room_no == 2606]"
   ]
  },
  {
   "cell_type": "code",
   "execution_count": 29,
   "metadata": {},
   "outputs": [],
   "source": [
    "fig = px.scatter(df, x=\"level\", y=\"price\", color=\"room_type\",width=700, height=400)"
   ]
  },
  {
   "cell_type": "code",
   "execution_count": 30,
   "metadata": {},
   "outputs": [
    {
     "data": {
      "application/vnd.plotly.v1+json": {
       "config": {
        "plotlyServerURL": "https://plot.ly"
       },
       "data": [
        {
         "hovertemplate": "room_type=7<br>level=%{x}<br>price=%{y}<extra></extra>",
         "legendgroup": "7",
         "marker": {
          "color": "#636efa",
          "symbol": "circle"
         },
         "mode": "markers",
         "name": "7",
         "orientation": "v",
         "showlegend": true,
         "type": "scatter",
         "x": [
          42,
          46,
          45,
          48
         ],
         "xaxis": "x",
         "y": [
          520,
          670,
          652,
          690
         ],
         "yaxis": "y"
        },
        {
         "hovertemplate": "room_type=9<br>level=%{x}<br>price=%{y}<extra></extra>",
         "legendgroup": "9",
         "marker": {
          "color": "#EF553B",
          "symbol": "circle"
         },
         "mode": "markers",
         "name": "9",
         "orientation": "v",
         "showlegend": true,
         "type": "scatter",
         "x": [
          38,
          41,
          34,
          11,
          24,
          39,
          10,
          45,
          48,
          40,
          18,
          21,
          47,
          42
         ],
         "xaxis": "x",
         "y": [
          560,
          650,
          595,
          580,
          680,
          760,
          840,
          900,
          840,
          820,
          820,
          700,
          800,
          720
         ],
         "yaxis": "y"
        },
        {
         "hovertemplate": "room_type=10<br>level=%{x}<br>price=%{y}<extra></extra>",
         "legendgroup": "10",
         "marker": {
          "color": "#00cc96",
          "symbol": "circle"
         },
         "mode": "markers",
         "name": "10",
         "orientation": "v",
         "showlegend": true,
         "type": "scatter",
         "x": [
          19,
          45,
          38,
          11,
          31,
          34,
          17,
          25,
          29,
          47,
          26,
          21,
          28,
          42,
          37,
          43,
          32,
          36,
          41,
          33,
          23,
          20
         ],
         "xaxis": "x",
         "y": [
          580,
          620,
          700,
          820,
          700,
          720,
          730,
          810,
          730,
          820,
          800,
          780,
          730,
          800,
          720,
          740,
          690,
          800,
          750,
          750,
          800,
          630
         ],
         "yaxis": "y"
        },
        {
         "hovertemplate": "room_type=2<br>level=%{x}<br>price=%{y}<extra></extra>",
         "legendgroup": "2",
         "marker": {
          "color": "#ab63fa",
          "symbol": "circle"
         },
         "mode": "markers",
         "name": "2",
         "orientation": "v",
         "showlegend": true,
         "type": "scatter",
         "x": [
          39,
          27,
          32,
          19,
          29,
          12,
          16,
          36,
          33,
          21,
          22,
          26,
          38,
          28,
          15,
          11,
          30
         ],
         "xaxis": "x",
         "y": [
          650,
          650,
          650,
          720,
          800,
          820,
          840,
          722,
          820,
          850,
          750,
          800,
          800,
          700,
          730,
          750,
          580
         ],
         "yaxis": "y"
        },
        {
         "hovertemplate": "room_type=4<br>level=%{x}<br>price=%{y}<extra></extra>",
         "legendgroup": "4",
         "marker": {
          "color": "#FFA15A",
          "symbol": "circle"
         },
         "mode": "markers",
         "name": "4",
         "orientation": "v",
         "showlegend": true,
         "type": "scatter",
         "x": [
          47,
          40,
          44,
          46,
          48
         ],
         "xaxis": "x",
         "y": [
          510,
          450,
          650,
          640,
          600
         ],
         "yaxis": "y"
        },
        {
         "hovertemplate": "room_type=1<br>level=%{x}<br>price=%{y}<extra></extra>",
         "legendgroup": "1",
         "marker": {
          "color": "#19d3f3",
          "symbol": "circle"
         },
         "mode": "markers",
         "name": "1",
         "orientation": "v",
         "showlegend": true,
         "type": "scatter",
         "x": [
          42,
          10,
          44,
          24,
          18,
          17,
          47,
          12,
          30,
          15,
          23,
          22,
          20,
          21,
          41,
          36
         ],
         "xaxis": "x",
         "y": [
          600,
          550,
          660,
          650,
          580,
          490,
          750,
          802,
          850,
          680,
          690,
          760,
          720,
          710,
          720,
          682
         ],
         "yaxis": "y"
        },
        {
         "hovertemplate": "room_type=8<br>level=%{x}<br>price=%{y}<extra></extra>",
         "legendgroup": "8",
         "marker": {
          "color": "#FF6692",
          "symbol": "circle"
         },
         "mode": "markers",
         "name": "8",
         "orientation": "v",
         "showlegend": true,
         "type": "scatter",
         "x": [
          19,
          34,
          29,
          53,
          24,
          17,
          27,
          18,
          21,
          22
         ],
         "xaxis": "x",
         "y": [
          550,
          700,
          682,
          700,
          780,
          690,
          742,
          720,
          650,
          700
         ],
         "yaxis": "y"
        },
        {
         "hovertemplate": "room_type=3<br>level=%{x}<br>price=%{y}<extra></extra>",
         "legendgroup": "3",
         "marker": {
          "color": "#B6E880",
          "symbol": "circle"
         },
         "mode": "markers",
         "name": "3",
         "orientation": "v",
         "showlegend": true,
         "type": "scatter",
         "x": [
          19,
          22,
          27,
          29,
          20,
          21,
          24,
          31,
          33,
          28
         ],
         "xaxis": "x",
         "y": [
          580,
          580,
          600,
          680,
          700,
          780,
          760,
          680,
          660,
          650
         ],
         "yaxis": "y"
        },
        {
         "hovertemplate": "room_type=11<br>level=%{x}<br>price=%{y}<extra></extra>",
         "legendgroup": "11",
         "marker": {
          "color": "#FF97FF",
          "symbol": "circle"
         },
         "mode": "markers",
         "name": "11",
         "orientation": "v",
         "showlegend": true,
         "type": "scatter",
         "x": [
          12,
          16
         ],
         "xaxis": "x",
         "y": [
          780,
          720
         ],
         "yaxis": "y"
        },
        {
         "hovertemplate": "room_type=6<br>level=%{x}<br>price=%{y}<extra></extra>",
         "legendgroup": "6",
         "marker": {
          "color": "#FECB52",
          "symbol": "circle"
         },
         "mode": "markers",
         "name": "6",
         "orientation": "v",
         "showlegend": true,
         "type": "scatter",
         "x": [
          51
         ],
         "xaxis": "x",
         "y": [
          720
         ],
         "yaxis": "y"
        }
       ],
       "layout": {
        "height": 400,
        "legend": {
         "title": {
          "text": "room_type"
         },
         "tracegroupgap": 0
        },
        "margin": {
         "t": 60
        },
        "template": {
         "data": {
          "bar": [
           {
            "error_x": {
             "color": "#2a3f5f"
            },
            "error_y": {
             "color": "#2a3f5f"
            },
            "marker": {
             "line": {
              "color": "#E5ECF6",
              "width": 0.5
             }
            },
            "type": "bar"
           }
          ],
          "barpolar": [
           {
            "marker": {
             "line": {
              "color": "#E5ECF6",
              "width": 0.5
             }
            },
            "type": "barpolar"
           }
          ],
          "carpet": [
           {
            "aaxis": {
             "endlinecolor": "#2a3f5f",
             "gridcolor": "white",
             "linecolor": "white",
             "minorgridcolor": "white",
             "startlinecolor": "#2a3f5f"
            },
            "baxis": {
             "endlinecolor": "#2a3f5f",
             "gridcolor": "white",
             "linecolor": "white",
             "minorgridcolor": "white",
             "startlinecolor": "#2a3f5f"
            },
            "type": "carpet"
           }
          ],
          "choropleth": [
           {
            "colorbar": {
             "outlinewidth": 0,
             "ticks": ""
            },
            "type": "choropleth"
           }
          ],
          "contour": [
           {
            "colorbar": {
             "outlinewidth": 0,
             "ticks": ""
            },
            "colorscale": [
             [
              0,
              "#0d0887"
             ],
             [
              0.1111111111111111,
              "#46039f"
             ],
             [
              0.2222222222222222,
              "#7201a8"
             ],
             [
              0.3333333333333333,
              "#9c179e"
             ],
             [
              0.4444444444444444,
              "#bd3786"
             ],
             [
              0.5555555555555556,
              "#d8576b"
             ],
             [
              0.6666666666666666,
              "#ed7953"
             ],
             [
              0.7777777777777778,
              "#fb9f3a"
             ],
             [
              0.8888888888888888,
              "#fdca26"
             ],
             [
              1,
              "#f0f921"
             ]
            ],
            "type": "contour"
           }
          ],
          "contourcarpet": [
           {
            "colorbar": {
             "outlinewidth": 0,
             "ticks": ""
            },
            "type": "contourcarpet"
           }
          ],
          "heatmap": [
           {
            "colorbar": {
             "outlinewidth": 0,
             "ticks": ""
            },
            "colorscale": [
             [
              0,
              "#0d0887"
             ],
             [
              0.1111111111111111,
              "#46039f"
             ],
             [
              0.2222222222222222,
              "#7201a8"
             ],
             [
              0.3333333333333333,
              "#9c179e"
             ],
             [
              0.4444444444444444,
              "#bd3786"
             ],
             [
              0.5555555555555556,
              "#d8576b"
             ],
             [
              0.6666666666666666,
              "#ed7953"
             ],
             [
              0.7777777777777778,
              "#fb9f3a"
             ],
             [
              0.8888888888888888,
              "#fdca26"
             ],
             [
              1,
              "#f0f921"
             ]
            ],
            "type": "heatmap"
           }
          ],
          "heatmapgl": [
           {
            "colorbar": {
             "outlinewidth": 0,
             "ticks": ""
            },
            "colorscale": [
             [
              0,
              "#0d0887"
             ],
             [
              0.1111111111111111,
              "#46039f"
             ],
             [
              0.2222222222222222,
              "#7201a8"
             ],
             [
              0.3333333333333333,
              "#9c179e"
             ],
             [
              0.4444444444444444,
              "#bd3786"
             ],
             [
              0.5555555555555556,
              "#d8576b"
             ],
             [
              0.6666666666666666,
              "#ed7953"
             ],
             [
              0.7777777777777778,
              "#fb9f3a"
             ],
             [
              0.8888888888888888,
              "#fdca26"
             ],
             [
              1,
              "#f0f921"
             ]
            ],
            "type": "heatmapgl"
           }
          ],
          "histogram": [
           {
            "marker": {
             "colorbar": {
              "outlinewidth": 0,
              "ticks": ""
             }
            },
            "type": "histogram"
           }
          ],
          "histogram2d": [
           {
            "colorbar": {
             "outlinewidth": 0,
             "ticks": ""
            },
            "colorscale": [
             [
              0,
              "#0d0887"
             ],
             [
              0.1111111111111111,
              "#46039f"
             ],
             [
              0.2222222222222222,
              "#7201a8"
             ],
             [
              0.3333333333333333,
              "#9c179e"
             ],
             [
              0.4444444444444444,
              "#bd3786"
             ],
             [
              0.5555555555555556,
              "#d8576b"
             ],
             [
              0.6666666666666666,
              "#ed7953"
             ],
             [
              0.7777777777777778,
              "#fb9f3a"
             ],
             [
              0.8888888888888888,
              "#fdca26"
             ],
             [
              1,
              "#f0f921"
             ]
            ],
            "type": "histogram2d"
           }
          ],
          "histogram2dcontour": [
           {
            "colorbar": {
             "outlinewidth": 0,
             "ticks": ""
            },
            "colorscale": [
             [
              0,
              "#0d0887"
             ],
             [
              0.1111111111111111,
              "#46039f"
             ],
             [
              0.2222222222222222,
              "#7201a8"
             ],
             [
              0.3333333333333333,
              "#9c179e"
             ],
             [
              0.4444444444444444,
              "#bd3786"
             ],
             [
              0.5555555555555556,
              "#d8576b"
             ],
             [
              0.6666666666666666,
              "#ed7953"
             ],
             [
              0.7777777777777778,
              "#fb9f3a"
             ],
             [
              0.8888888888888888,
              "#fdca26"
             ],
             [
              1,
              "#f0f921"
             ]
            ],
            "type": "histogram2dcontour"
           }
          ],
          "mesh3d": [
           {
            "colorbar": {
             "outlinewidth": 0,
             "ticks": ""
            },
            "type": "mesh3d"
           }
          ],
          "parcoords": [
           {
            "line": {
             "colorbar": {
              "outlinewidth": 0,
              "ticks": ""
             }
            },
            "type": "parcoords"
           }
          ],
          "pie": [
           {
            "automargin": true,
            "type": "pie"
           }
          ],
          "scatter": [
           {
            "marker": {
             "colorbar": {
              "outlinewidth": 0,
              "ticks": ""
             }
            },
            "type": "scatter"
           }
          ],
          "scatter3d": [
           {
            "line": {
             "colorbar": {
              "outlinewidth": 0,
              "ticks": ""
             }
            },
            "marker": {
             "colorbar": {
              "outlinewidth": 0,
              "ticks": ""
             }
            },
            "type": "scatter3d"
           }
          ],
          "scattercarpet": [
           {
            "marker": {
             "colorbar": {
              "outlinewidth": 0,
              "ticks": ""
             }
            },
            "type": "scattercarpet"
           }
          ],
          "scattergeo": [
           {
            "marker": {
             "colorbar": {
              "outlinewidth": 0,
              "ticks": ""
             }
            },
            "type": "scattergeo"
           }
          ],
          "scattergl": [
           {
            "marker": {
             "colorbar": {
              "outlinewidth": 0,
              "ticks": ""
             }
            },
            "type": "scattergl"
           }
          ],
          "scattermapbox": [
           {
            "marker": {
             "colorbar": {
              "outlinewidth": 0,
              "ticks": ""
             }
            },
            "type": "scattermapbox"
           }
          ],
          "scatterpolar": [
           {
            "marker": {
             "colorbar": {
              "outlinewidth": 0,
              "ticks": ""
             }
            },
            "type": "scatterpolar"
           }
          ],
          "scatterpolargl": [
           {
            "marker": {
             "colorbar": {
              "outlinewidth": 0,
              "ticks": ""
             }
            },
            "type": "scatterpolargl"
           }
          ],
          "scatterternary": [
           {
            "marker": {
             "colorbar": {
              "outlinewidth": 0,
              "ticks": ""
             }
            },
            "type": "scatterternary"
           }
          ],
          "surface": [
           {
            "colorbar": {
             "outlinewidth": 0,
             "ticks": ""
            },
            "colorscale": [
             [
              0,
              "#0d0887"
             ],
             [
              0.1111111111111111,
              "#46039f"
             ],
             [
              0.2222222222222222,
              "#7201a8"
             ],
             [
              0.3333333333333333,
              "#9c179e"
             ],
             [
              0.4444444444444444,
              "#bd3786"
             ],
             [
              0.5555555555555556,
              "#d8576b"
             ],
             [
              0.6666666666666666,
              "#ed7953"
             ],
             [
              0.7777777777777778,
              "#fb9f3a"
             ],
             [
              0.8888888888888888,
              "#fdca26"
             ],
             [
              1,
              "#f0f921"
             ]
            ],
            "type": "surface"
           }
          ],
          "table": [
           {
            "cells": {
             "fill": {
              "color": "#EBF0F8"
             },
             "line": {
              "color": "white"
             }
            },
            "header": {
             "fill": {
              "color": "#C8D4E3"
             },
             "line": {
              "color": "white"
             }
            },
            "type": "table"
           }
          ]
         },
         "layout": {
          "annotationdefaults": {
           "arrowcolor": "#2a3f5f",
           "arrowhead": 0,
           "arrowwidth": 1
          },
          "autotypenumbers": "strict",
          "coloraxis": {
           "colorbar": {
            "outlinewidth": 0,
            "ticks": ""
           }
          },
          "colorscale": {
           "diverging": [
            [
             0,
             "#8e0152"
            ],
            [
             0.1,
             "#c51b7d"
            ],
            [
             0.2,
             "#de77ae"
            ],
            [
             0.3,
             "#f1b6da"
            ],
            [
             0.4,
             "#fde0ef"
            ],
            [
             0.5,
             "#f7f7f7"
            ],
            [
             0.6,
             "#e6f5d0"
            ],
            [
             0.7,
             "#b8e186"
            ],
            [
             0.8,
             "#7fbc41"
            ],
            [
             0.9,
             "#4d9221"
            ],
            [
             1,
             "#276419"
            ]
           ],
           "sequential": [
            [
             0,
             "#0d0887"
            ],
            [
             0.1111111111111111,
             "#46039f"
            ],
            [
             0.2222222222222222,
             "#7201a8"
            ],
            [
             0.3333333333333333,
             "#9c179e"
            ],
            [
             0.4444444444444444,
             "#bd3786"
            ],
            [
             0.5555555555555556,
             "#d8576b"
            ],
            [
             0.6666666666666666,
             "#ed7953"
            ],
            [
             0.7777777777777778,
             "#fb9f3a"
            ],
            [
             0.8888888888888888,
             "#fdca26"
            ],
            [
             1,
             "#f0f921"
            ]
           ],
           "sequentialminus": [
            [
             0,
             "#0d0887"
            ],
            [
             0.1111111111111111,
             "#46039f"
            ],
            [
             0.2222222222222222,
             "#7201a8"
            ],
            [
             0.3333333333333333,
             "#9c179e"
            ],
            [
             0.4444444444444444,
             "#bd3786"
            ],
            [
             0.5555555555555556,
             "#d8576b"
            ],
            [
             0.6666666666666666,
             "#ed7953"
            ],
            [
             0.7777777777777778,
             "#fb9f3a"
            ],
            [
             0.8888888888888888,
             "#fdca26"
            ],
            [
             1,
             "#f0f921"
            ]
           ]
          },
          "colorway": [
           "#636efa",
           "#EF553B",
           "#00cc96",
           "#ab63fa",
           "#FFA15A",
           "#19d3f3",
           "#FF6692",
           "#B6E880",
           "#FF97FF",
           "#FECB52"
          ],
          "font": {
           "color": "#2a3f5f"
          },
          "geo": {
           "bgcolor": "white",
           "lakecolor": "white",
           "landcolor": "#E5ECF6",
           "showlakes": true,
           "showland": true,
           "subunitcolor": "white"
          },
          "hoverlabel": {
           "align": "left"
          },
          "hovermode": "closest",
          "mapbox": {
           "style": "light"
          },
          "paper_bgcolor": "white",
          "plot_bgcolor": "#E5ECF6",
          "polar": {
           "angularaxis": {
            "gridcolor": "white",
            "linecolor": "white",
            "ticks": ""
           },
           "bgcolor": "#E5ECF6",
           "radialaxis": {
            "gridcolor": "white",
            "linecolor": "white",
            "ticks": ""
           }
          },
          "scene": {
           "xaxis": {
            "backgroundcolor": "#E5ECF6",
            "gridcolor": "white",
            "gridwidth": 2,
            "linecolor": "white",
            "showbackground": true,
            "ticks": "",
            "zerolinecolor": "white"
           },
           "yaxis": {
            "backgroundcolor": "#E5ECF6",
            "gridcolor": "white",
            "gridwidth": 2,
            "linecolor": "white",
            "showbackground": true,
            "ticks": "",
            "zerolinecolor": "white"
           },
           "zaxis": {
            "backgroundcolor": "#E5ECF6",
            "gridcolor": "white",
            "gridwidth": 2,
            "linecolor": "white",
            "showbackground": true,
            "ticks": "",
            "zerolinecolor": "white"
           }
          },
          "shapedefaults": {
           "line": {
            "color": "#2a3f5f"
           }
          },
          "ternary": {
           "aaxis": {
            "gridcolor": "white",
            "linecolor": "white",
            "ticks": ""
           },
           "baxis": {
            "gridcolor": "white",
            "linecolor": "white",
            "ticks": ""
           },
           "bgcolor": "#E5ECF6",
           "caxis": {
            "gridcolor": "white",
            "linecolor": "white",
            "ticks": ""
           }
          },
          "title": {
           "x": 0.05
          },
          "xaxis": {
           "automargin": true,
           "gridcolor": "white",
           "linecolor": "white",
           "ticks": "",
           "title": {
            "standoff": 15
           },
           "zerolinecolor": "white",
           "zerolinewidth": 2
          },
          "yaxis": {
           "automargin": true,
           "gridcolor": "white",
           "linecolor": "white",
           "ticks": "",
           "title": {
            "standoff": 15
           },
           "zerolinecolor": "white",
           "zerolinewidth": 2
          }
         }
        },
        "width": 700,
        "xaxis": {
         "anchor": "y",
         "domain": [
          0,
          1
         ],
         "title": {
          "text": "level"
         }
        },
        "yaxis": {
         "anchor": "x",
         "domain": [
          0,
          1
         ],
         "title": {
          "text": "price"
         }
        }
       }
      },
      "text/html": [
       "<div>                            <div id=\"7643539f-effb-4c27-a23a-3d793c823903\" class=\"plotly-graph-div\" style=\"height:400px; width:700px;\"></div>            <script type=\"text/javascript\">                require([\"plotly\"], function(Plotly) {                    window.PLOTLYENV=window.PLOTLYENV || {};                                    if (document.getElementById(\"7643539f-effb-4c27-a23a-3d793c823903\")) {                    Plotly.newPlot(                        \"7643539f-effb-4c27-a23a-3d793c823903\",                        [{\"hovertemplate\": \"room_type=7<br>level=%{x}<br>price=%{y}<extra></extra>\", \"legendgroup\": \"7\", \"marker\": {\"color\": \"#636efa\", \"symbol\": \"circle\"}, \"mode\": \"markers\", \"name\": \"7\", \"orientation\": \"v\", \"showlegend\": true, \"type\": \"scatter\", \"x\": [42, 46, 45, 48], \"xaxis\": \"x\", \"y\": [520, 670, 652, 690], \"yaxis\": \"y\"}, {\"hovertemplate\": \"room_type=9<br>level=%{x}<br>price=%{y}<extra></extra>\", \"legendgroup\": \"9\", \"marker\": {\"color\": \"#EF553B\", \"symbol\": \"circle\"}, \"mode\": \"markers\", \"name\": \"9\", \"orientation\": \"v\", \"showlegend\": true, \"type\": \"scatter\", \"x\": [38, 41, 34, 11, 24, 39, 10, 45, 48, 40, 18, 21, 47, 42], \"xaxis\": \"x\", \"y\": [560, 650, 595, 580, 680, 760, 840, 900, 840, 820, 820, 700, 800, 720], \"yaxis\": \"y\"}, {\"hovertemplate\": \"room_type=10<br>level=%{x}<br>price=%{y}<extra></extra>\", \"legendgroup\": \"10\", \"marker\": {\"color\": \"#00cc96\", \"symbol\": \"circle\"}, \"mode\": \"markers\", \"name\": \"10\", \"orientation\": \"v\", \"showlegend\": true, \"type\": \"scatter\", \"x\": [19, 45, 38, 11, 31, 34, 17, 25, 29, 47, 26, 21, 28, 42, 37, 43, 32, 36, 41, 33, 23, 20], \"xaxis\": \"x\", \"y\": [580, 620, 700, 820, 700, 720, 730, 810, 730, 820, 800, 780, 730, 800, 720, 740, 690, 800, 750, 750, 800, 630], \"yaxis\": \"y\"}, {\"hovertemplate\": \"room_type=2<br>level=%{x}<br>price=%{y}<extra></extra>\", \"legendgroup\": \"2\", \"marker\": {\"color\": \"#ab63fa\", \"symbol\": \"circle\"}, \"mode\": \"markers\", \"name\": \"2\", \"orientation\": \"v\", \"showlegend\": true, \"type\": \"scatter\", \"x\": [39, 27, 32, 19, 29, 12, 16, 36, 33, 21, 22, 26, 38, 28, 15, 11, 30], \"xaxis\": \"x\", \"y\": [650, 650, 650, 720, 800, 820, 840, 722, 820, 850, 750, 800, 800, 700, 730, 750, 580], \"yaxis\": \"y\"}, {\"hovertemplate\": \"room_type=4<br>level=%{x}<br>price=%{y}<extra></extra>\", \"legendgroup\": \"4\", \"marker\": {\"color\": \"#FFA15A\", \"symbol\": \"circle\"}, \"mode\": \"markers\", \"name\": \"4\", \"orientation\": \"v\", \"showlegend\": true, \"type\": \"scatter\", \"x\": [47, 40, 44, 46, 48], \"xaxis\": \"x\", \"y\": [510, 450, 650, 640, 600], \"yaxis\": \"y\"}, {\"hovertemplate\": \"room_type=1<br>level=%{x}<br>price=%{y}<extra></extra>\", \"legendgroup\": \"1\", \"marker\": {\"color\": \"#19d3f3\", \"symbol\": \"circle\"}, \"mode\": \"markers\", \"name\": \"1\", \"orientation\": \"v\", \"showlegend\": true, \"type\": \"scatter\", \"x\": [42, 10, 44, 24, 18, 17, 47, 12, 30, 15, 23, 22, 20, 21, 41, 36], \"xaxis\": \"x\", \"y\": [600, 550, 660, 650, 580, 490, 750, 802, 850, 680, 690, 760, 720, 710, 720, 682], \"yaxis\": \"y\"}, {\"hovertemplate\": \"room_type=8<br>level=%{x}<br>price=%{y}<extra></extra>\", \"legendgroup\": \"8\", \"marker\": {\"color\": \"#FF6692\", \"symbol\": \"circle\"}, \"mode\": \"markers\", \"name\": \"8\", \"orientation\": \"v\", \"showlegend\": true, \"type\": \"scatter\", \"x\": [19, 34, 29, 53, 24, 17, 27, 18, 21, 22], \"xaxis\": \"x\", \"y\": [550, 700, 682, 700, 780, 690, 742, 720, 650, 700], \"yaxis\": \"y\"}, {\"hovertemplate\": \"room_type=3<br>level=%{x}<br>price=%{y}<extra></extra>\", \"legendgroup\": \"3\", \"marker\": {\"color\": \"#B6E880\", \"symbol\": \"circle\"}, \"mode\": \"markers\", \"name\": \"3\", \"orientation\": \"v\", \"showlegend\": true, \"type\": \"scatter\", \"x\": [19, 22, 27, 29, 20, 21, 24, 31, 33, 28], \"xaxis\": \"x\", \"y\": [580, 580, 600, 680, 700, 780, 760, 680, 660, 650], \"yaxis\": \"y\"}, {\"hovertemplate\": \"room_type=11<br>level=%{x}<br>price=%{y}<extra></extra>\", \"legendgroup\": \"11\", \"marker\": {\"color\": \"#FF97FF\", \"symbol\": \"circle\"}, \"mode\": \"markers\", \"name\": \"11\", \"orientation\": \"v\", \"showlegend\": true, \"type\": \"scatter\", \"x\": [12, 16], \"xaxis\": \"x\", \"y\": [780, 720], \"yaxis\": \"y\"}, {\"hovertemplate\": \"room_type=6<br>level=%{x}<br>price=%{y}<extra></extra>\", \"legendgroup\": \"6\", \"marker\": {\"color\": \"#FECB52\", \"symbol\": \"circle\"}, \"mode\": \"markers\", \"name\": \"6\", \"orientation\": \"v\", \"showlegend\": true, \"type\": \"scatter\", \"x\": [51], \"xaxis\": \"x\", \"y\": [720], \"yaxis\": \"y\"}],                        {\"height\": 400, \"legend\": {\"title\": {\"text\": \"room_type\"}, \"tracegroupgap\": 0}, \"margin\": {\"t\": 60}, \"template\": {\"data\": {\"bar\": [{\"error_x\": {\"color\": \"#2a3f5f\"}, \"error_y\": {\"color\": \"#2a3f5f\"}, \"marker\": {\"line\": {\"color\": \"#E5ECF6\", \"width\": 0.5}}, \"type\": \"bar\"}], \"barpolar\": [{\"marker\": {\"line\": {\"color\": \"#E5ECF6\", \"width\": 0.5}}, \"type\": \"barpolar\"}], \"carpet\": [{\"aaxis\": {\"endlinecolor\": \"#2a3f5f\", \"gridcolor\": \"white\", \"linecolor\": \"white\", \"minorgridcolor\": \"white\", \"startlinecolor\": \"#2a3f5f\"}, \"baxis\": {\"endlinecolor\": \"#2a3f5f\", \"gridcolor\": \"white\", \"linecolor\": \"white\", \"minorgridcolor\": \"white\", \"startlinecolor\": \"#2a3f5f\"}, \"type\": \"carpet\"}], \"choropleth\": [{\"colorbar\": {\"outlinewidth\": 0, \"ticks\": \"\"}, \"type\": \"choropleth\"}], \"contour\": [{\"colorbar\": {\"outlinewidth\": 0, \"ticks\": \"\"}, \"colorscale\": [[0.0, \"#0d0887\"], [0.1111111111111111, \"#46039f\"], [0.2222222222222222, \"#7201a8\"], [0.3333333333333333, \"#9c179e\"], [0.4444444444444444, \"#bd3786\"], [0.5555555555555556, \"#d8576b\"], [0.6666666666666666, \"#ed7953\"], [0.7777777777777778, \"#fb9f3a\"], [0.8888888888888888, \"#fdca26\"], [1.0, \"#f0f921\"]], \"type\": \"contour\"}], \"contourcarpet\": [{\"colorbar\": {\"outlinewidth\": 0, \"ticks\": \"\"}, \"type\": \"contourcarpet\"}], \"heatmap\": [{\"colorbar\": {\"outlinewidth\": 0, \"ticks\": \"\"}, \"colorscale\": [[0.0, \"#0d0887\"], [0.1111111111111111, \"#46039f\"], [0.2222222222222222, \"#7201a8\"], [0.3333333333333333, \"#9c179e\"], [0.4444444444444444, \"#bd3786\"], [0.5555555555555556, \"#d8576b\"], [0.6666666666666666, \"#ed7953\"], [0.7777777777777778, \"#fb9f3a\"], [0.8888888888888888, \"#fdca26\"], [1.0, \"#f0f921\"]], \"type\": \"heatmap\"}], \"heatmapgl\": [{\"colorbar\": {\"outlinewidth\": 0, \"ticks\": \"\"}, \"colorscale\": [[0.0, \"#0d0887\"], [0.1111111111111111, \"#46039f\"], [0.2222222222222222, \"#7201a8\"], [0.3333333333333333, \"#9c179e\"], [0.4444444444444444, \"#bd3786\"], [0.5555555555555556, \"#d8576b\"], [0.6666666666666666, \"#ed7953\"], [0.7777777777777778, \"#fb9f3a\"], [0.8888888888888888, \"#fdca26\"], [1.0, \"#f0f921\"]], \"type\": \"heatmapgl\"}], \"histogram\": [{\"marker\": {\"colorbar\": {\"outlinewidth\": 0, \"ticks\": \"\"}}, \"type\": \"histogram\"}], \"histogram2d\": [{\"colorbar\": {\"outlinewidth\": 0, \"ticks\": \"\"}, \"colorscale\": [[0.0, \"#0d0887\"], [0.1111111111111111, \"#46039f\"], [0.2222222222222222, \"#7201a8\"], [0.3333333333333333, \"#9c179e\"], [0.4444444444444444, \"#bd3786\"], [0.5555555555555556, \"#d8576b\"], [0.6666666666666666, \"#ed7953\"], [0.7777777777777778, \"#fb9f3a\"], [0.8888888888888888, \"#fdca26\"], [1.0, \"#f0f921\"]], \"type\": \"histogram2d\"}], \"histogram2dcontour\": [{\"colorbar\": {\"outlinewidth\": 0, \"ticks\": \"\"}, \"colorscale\": [[0.0, \"#0d0887\"], [0.1111111111111111, \"#46039f\"], [0.2222222222222222, \"#7201a8\"], [0.3333333333333333, \"#9c179e\"], [0.4444444444444444, \"#bd3786\"], [0.5555555555555556, \"#d8576b\"], [0.6666666666666666, \"#ed7953\"], [0.7777777777777778, \"#fb9f3a\"], [0.8888888888888888, \"#fdca26\"], [1.0, \"#f0f921\"]], \"type\": \"histogram2dcontour\"}], \"mesh3d\": [{\"colorbar\": {\"outlinewidth\": 0, \"ticks\": \"\"}, \"type\": \"mesh3d\"}], \"parcoords\": [{\"line\": {\"colorbar\": {\"outlinewidth\": 0, \"ticks\": \"\"}}, \"type\": \"parcoords\"}], \"pie\": [{\"automargin\": true, \"type\": \"pie\"}], \"scatter\": [{\"marker\": {\"colorbar\": {\"outlinewidth\": 0, \"ticks\": \"\"}}, \"type\": \"scatter\"}], \"scatter3d\": [{\"line\": {\"colorbar\": {\"outlinewidth\": 0, \"ticks\": \"\"}}, \"marker\": {\"colorbar\": {\"outlinewidth\": 0, \"ticks\": \"\"}}, \"type\": \"scatter3d\"}], \"scattercarpet\": [{\"marker\": {\"colorbar\": {\"outlinewidth\": 0, \"ticks\": \"\"}}, \"type\": \"scattercarpet\"}], \"scattergeo\": [{\"marker\": {\"colorbar\": {\"outlinewidth\": 0, \"ticks\": \"\"}}, \"type\": \"scattergeo\"}], \"scattergl\": [{\"marker\": {\"colorbar\": {\"outlinewidth\": 0, \"ticks\": \"\"}}, \"type\": \"scattergl\"}], \"scattermapbox\": [{\"marker\": {\"colorbar\": {\"outlinewidth\": 0, \"ticks\": \"\"}}, \"type\": \"scattermapbox\"}], \"scatterpolar\": [{\"marker\": {\"colorbar\": {\"outlinewidth\": 0, \"ticks\": \"\"}}, \"type\": \"scatterpolar\"}], \"scatterpolargl\": [{\"marker\": {\"colorbar\": {\"outlinewidth\": 0, \"ticks\": \"\"}}, \"type\": \"scatterpolargl\"}], \"scatterternary\": [{\"marker\": {\"colorbar\": {\"outlinewidth\": 0, \"ticks\": \"\"}}, \"type\": \"scatterternary\"}], \"surface\": [{\"colorbar\": {\"outlinewidth\": 0, \"ticks\": \"\"}, \"colorscale\": [[0.0, \"#0d0887\"], [0.1111111111111111, \"#46039f\"], [0.2222222222222222, \"#7201a8\"], [0.3333333333333333, \"#9c179e\"], [0.4444444444444444, \"#bd3786\"], [0.5555555555555556, \"#d8576b\"], [0.6666666666666666, \"#ed7953\"], [0.7777777777777778, \"#fb9f3a\"], [0.8888888888888888, \"#fdca26\"], [1.0, \"#f0f921\"]], \"type\": \"surface\"}], \"table\": [{\"cells\": {\"fill\": {\"color\": \"#EBF0F8\"}, \"line\": {\"color\": \"white\"}}, \"header\": {\"fill\": {\"color\": \"#C8D4E3\"}, \"line\": {\"color\": \"white\"}}, \"type\": \"table\"}]}, \"layout\": {\"annotationdefaults\": {\"arrowcolor\": \"#2a3f5f\", \"arrowhead\": 0, \"arrowwidth\": 1}, \"autotypenumbers\": \"strict\", \"coloraxis\": {\"colorbar\": {\"outlinewidth\": 0, \"ticks\": \"\"}}, \"colorscale\": {\"diverging\": [[0, \"#8e0152\"], [0.1, \"#c51b7d\"], [0.2, \"#de77ae\"], [0.3, \"#f1b6da\"], [0.4, \"#fde0ef\"], [0.5, \"#f7f7f7\"], [0.6, \"#e6f5d0\"], [0.7, \"#b8e186\"], [0.8, \"#7fbc41\"], [0.9, \"#4d9221\"], [1, \"#276419\"]], \"sequential\": [[0.0, \"#0d0887\"], [0.1111111111111111, \"#46039f\"], [0.2222222222222222, \"#7201a8\"], [0.3333333333333333, \"#9c179e\"], [0.4444444444444444, \"#bd3786\"], [0.5555555555555556, \"#d8576b\"], [0.6666666666666666, \"#ed7953\"], [0.7777777777777778, \"#fb9f3a\"], [0.8888888888888888, \"#fdca26\"], [1.0, \"#f0f921\"]], \"sequentialminus\": [[0.0, \"#0d0887\"], [0.1111111111111111, \"#46039f\"], [0.2222222222222222, \"#7201a8\"], [0.3333333333333333, \"#9c179e\"], [0.4444444444444444, \"#bd3786\"], [0.5555555555555556, \"#d8576b\"], [0.6666666666666666, \"#ed7953\"], [0.7777777777777778, \"#fb9f3a\"], [0.8888888888888888, \"#fdca26\"], [1.0, \"#f0f921\"]]}, \"colorway\": [\"#636efa\", \"#EF553B\", \"#00cc96\", \"#ab63fa\", \"#FFA15A\", \"#19d3f3\", \"#FF6692\", \"#B6E880\", \"#FF97FF\", \"#FECB52\"], \"font\": {\"color\": \"#2a3f5f\"}, \"geo\": {\"bgcolor\": \"white\", \"lakecolor\": \"white\", \"landcolor\": \"#E5ECF6\", \"showlakes\": true, \"showland\": true, \"subunitcolor\": \"white\"}, \"hoverlabel\": {\"align\": \"left\"}, \"hovermode\": \"closest\", \"mapbox\": {\"style\": \"light\"}, \"paper_bgcolor\": \"white\", \"plot_bgcolor\": \"#E5ECF6\", \"polar\": {\"angularaxis\": {\"gridcolor\": \"white\", \"linecolor\": \"white\", \"ticks\": \"\"}, \"bgcolor\": \"#E5ECF6\", \"radialaxis\": {\"gridcolor\": \"white\", \"linecolor\": \"white\", \"ticks\": \"\"}}, \"scene\": {\"xaxis\": {\"backgroundcolor\": \"#E5ECF6\", \"gridcolor\": \"white\", \"gridwidth\": 2, \"linecolor\": \"white\", \"showbackground\": true, \"ticks\": \"\", \"zerolinecolor\": \"white\"}, \"yaxis\": {\"backgroundcolor\": \"#E5ECF6\", \"gridcolor\": \"white\", \"gridwidth\": 2, \"linecolor\": \"white\", \"showbackground\": true, \"ticks\": \"\", \"zerolinecolor\": \"white\"}, \"zaxis\": {\"backgroundcolor\": \"#E5ECF6\", \"gridcolor\": \"white\", \"gridwidth\": 2, \"linecolor\": \"white\", \"showbackground\": true, \"ticks\": \"\", \"zerolinecolor\": \"white\"}}, \"shapedefaults\": {\"line\": {\"color\": \"#2a3f5f\"}}, \"ternary\": {\"aaxis\": {\"gridcolor\": \"white\", \"linecolor\": \"white\", \"ticks\": \"\"}, \"baxis\": {\"gridcolor\": \"white\", \"linecolor\": \"white\", \"ticks\": \"\"}, \"bgcolor\": \"#E5ECF6\", \"caxis\": {\"gridcolor\": \"white\", \"linecolor\": \"white\", \"ticks\": \"\"}}, \"title\": {\"x\": 0.05}, \"xaxis\": {\"automargin\": true, \"gridcolor\": \"white\", \"linecolor\": \"white\", \"ticks\": \"\", \"title\": {\"standoff\": 15}, \"zerolinecolor\": \"white\", \"zerolinewidth\": 2}, \"yaxis\": {\"automargin\": true, \"gridcolor\": \"white\", \"linecolor\": \"white\", \"ticks\": \"\", \"title\": {\"standoff\": 15}, \"zerolinecolor\": \"white\", \"zerolinewidth\": 2}}}, \"width\": 700, \"xaxis\": {\"anchor\": \"y\", \"domain\": [0.0, 1.0], \"title\": {\"text\": \"level\"}}, \"yaxis\": {\"anchor\": \"x\", \"domain\": [0.0, 1.0], \"title\": {\"text\": \"price\"}}},                        {\"responsive\": true}                    ).then(function(){\n",
       "                            \n",
       "var gd = document.getElementById('7643539f-effb-4c27-a23a-3d793c823903');\n",
       "var x = new MutationObserver(function (mutations, observer) {{\n",
       "        var display = window.getComputedStyle(gd).display;\n",
       "        if (!display || display === 'none') {{\n",
       "            console.log([gd, 'removed!']);\n",
       "            Plotly.purge(gd);\n",
       "            observer.disconnect();\n",
       "        }}\n",
       "}});\n",
       "\n",
       "// Listen for the removal of the full notebook cells\n",
       "var notebookContainer = gd.closest('#notebook-container');\n",
       "if (notebookContainer) {{\n",
       "    x.observe(notebookContainer, {childList: true});\n",
       "}}\n",
       "\n",
       "// Listen for the clearing of the current output cell\n",
       "var outputEl = gd.closest('.output');\n",
       "if (outputEl) {{\n",
       "    x.observe(outputEl, {childList: true});\n",
       "}}\n",
       "\n",
       "                        })                };                });            </script>        </div>"
      ]
     },
     "metadata": {},
     "output_type": "display_data"
    }
   ],
   "source": [
    "fig.show()"
   ]
  },
  {
   "cell_type": "code",
   "execution_count": 34,
   "metadata": {},
   "outputs": [
    {
     "data": {
      "application/vnd.plotly.v1+json": {
       "config": {
        "plotlyServerURL": "https://plot.ly"
       },
       "data": [
        {
         "alignmentgroup": "True",
         "hovertemplate": "time_split=after<br>room_type=%{x}<br>price=%{y}<extra></extra>",
         "legendgroup": "after",
         "marker": {
          "color": "#636efa"
         },
         "name": "after",
         "notched": false,
         "offsetgroup": "after",
         "orientation": "v",
         "quartilemethod": "exclusive",
         "showlegend": true,
         "type": "box",
         "x": [
          "7",
          "9",
          "10",
          "10",
          "2",
          "4",
          "1",
          "1",
          "1",
          "9",
          "1",
          "2",
          "8",
          "9",
          "1",
          "9",
          "3",
          "9",
          "3",
          "2",
          "4",
          "4",
          "3",
          "2",
          "1",
          "10",
          "2",
          "7"
         ],
         "x0": " ",
         "xaxis": "x",
         "y": [
          520,
          560,
          580,
          620,
          650,
          510,
          600,
          550,
          660,
          650,
          650,
          650,
          550,
          595,
          580,
          580,
          580,
          680,
          580,
          650,
          450,
          650,
          600,
          720,
          490,
          700,
          800,
          670
         ],
         "y0": " ",
         "yaxis": "y"
        },
        {
         "alignmentgroup": "True",
         "hovertemplate": "time_split=before<br>room_type=%{x}<br>price=%{y}<extra></extra>",
         "legendgroup": "before",
         "marker": {
          "color": "#EF553B"
         },
         "name": "before",
         "notched": false,
         "offsetgroup": "before",
         "orientation": "v",
         "quartilemethod": "exclusive",
         "showlegend": true,
         "type": "box",
         "x": [
          "9",
          "9",
          "9",
          "10",
          "9",
          "8",
          "8",
          "11",
          "2",
          "2",
          "10",
          "8",
          "2",
          "9",
          "4",
          "2",
          "3",
          "7",
          "3",
          "1",
          "9",
          "6",
          "9",
          "3",
          "1",
          "10",
          "10",
          "10",
          "10",
          "10",
          "8",
          "2",
          "1",
          "11",
          "10",
          "2",
          "9",
          "10",
          "10",
          "3",
          "2",
          "1",
          "8",
          "3",
          "2",
          "3",
          "2",
          "10",
          "7",
          "9",
          "1",
          "2",
          "10",
          "10",
          "8",
          "1",
          "8",
          "2",
          "10",
          "1",
          "1",
          "10",
          "10",
          "10",
          "10",
          "1",
          "8",
          "3",
          "8",
          "1",
          "4",
          "2",
          "10"
         ],
         "x0": " ",
         "xaxis": "x",
         "y": [
          760,
          840,
          900,
          820,
          840,
          700,
          682,
          780,
          820,
          840,
          700,
          700,
          722,
          820,
          640,
          820,
          680,
          652,
          700,
          750,
          820,
          720,
          700,
          780,
          802,
          720,
          730,
          810,
          730,
          820,
          780,
          850,
          850,
          720,
          800,
          750,
          800,
          780,
          730,
          760,
          800,
          680,
          690,
          680,
          800,
          660,
          700,
          800,
          690,
          720,
          690,
          730,
          720,
          740,
          742,
          760,
          720,
          750,
          690,
          720,
          710,
          800,
          750,
          750,
          800,
          720,
          650,
          650,
          700,
          682,
          600,
          580,
          630
         ],
         "y0": " ",
         "yaxis": "y"
        }
       ],
       "layout": {
        "boxmode": "group",
        "height": 400,
        "legend": {
         "title": {
          "text": "time_split"
         },
         "tracegroupgap": 0
        },
        "margin": {
         "t": 60
        },
        "template": {
         "data": {
          "bar": [
           {
            "error_x": {
             "color": "#2a3f5f"
            },
            "error_y": {
             "color": "#2a3f5f"
            },
            "marker": {
             "line": {
              "color": "#E5ECF6",
              "width": 0.5
             }
            },
            "type": "bar"
           }
          ],
          "barpolar": [
           {
            "marker": {
             "line": {
              "color": "#E5ECF6",
              "width": 0.5
             }
            },
            "type": "barpolar"
           }
          ],
          "carpet": [
           {
            "aaxis": {
             "endlinecolor": "#2a3f5f",
             "gridcolor": "white",
             "linecolor": "white",
             "minorgridcolor": "white",
             "startlinecolor": "#2a3f5f"
            },
            "baxis": {
             "endlinecolor": "#2a3f5f",
             "gridcolor": "white",
             "linecolor": "white",
             "minorgridcolor": "white",
             "startlinecolor": "#2a3f5f"
            },
            "type": "carpet"
           }
          ],
          "choropleth": [
           {
            "colorbar": {
             "outlinewidth": 0,
             "ticks": ""
            },
            "type": "choropleth"
           }
          ],
          "contour": [
           {
            "colorbar": {
             "outlinewidth": 0,
             "ticks": ""
            },
            "colorscale": [
             [
              0,
              "#0d0887"
             ],
             [
              0.1111111111111111,
              "#46039f"
             ],
             [
              0.2222222222222222,
              "#7201a8"
             ],
             [
              0.3333333333333333,
              "#9c179e"
             ],
             [
              0.4444444444444444,
              "#bd3786"
             ],
             [
              0.5555555555555556,
              "#d8576b"
             ],
             [
              0.6666666666666666,
              "#ed7953"
             ],
             [
              0.7777777777777778,
              "#fb9f3a"
             ],
             [
              0.8888888888888888,
              "#fdca26"
             ],
             [
              1,
              "#f0f921"
             ]
            ],
            "type": "contour"
           }
          ],
          "contourcarpet": [
           {
            "colorbar": {
             "outlinewidth": 0,
             "ticks": ""
            },
            "type": "contourcarpet"
           }
          ],
          "heatmap": [
           {
            "colorbar": {
             "outlinewidth": 0,
             "ticks": ""
            },
            "colorscale": [
             [
              0,
              "#0d0887"
             ],
             [
              0.1111111111111111,
              "#46039f"
             ],
             [
              0.2222222222222222,
              "#7201a8"
             ],
             [
              0.3333333333333333,
              "#9c179e"
             ],
             [
              0.4444444444444444,
              "#bd3786"
             ],
             [
              0.5555555555555556,
              "#d8576b"
             ],
             [
              0.6666666666666666,
              "#ed7953"
             ],
             [
              0.7777777777777778,
              "#fb9f3a"
             ],
             [
              0.8888888888888888,
              "#fdca26"
             ],
             [
              1,
              "#f0f921"
             ]
            ],
            "type": "heatmap"
           }
          ],
          "heatmapgl": [
           {
            "colorbar": {
             "outlinewidth": 0,
             "ticks": ""
            },
            "colorscale": [
             [
              0,
              "#0d0887"
             ],
             [
              0.1111111111111111,
              "#46039f"
             ],
             [
              0.2222222222222222,
              "#7201a8"
             ],
             [
              0.3333333333333333,
              "#9c179e"
             ],
             [
              0.4444444444444444,
              "#bd3786"
             ],
             [
              0.5555555555555556,
              "#d8576b"
             ],
             [
              0.6666666666666666,
              "#ed7953"
             ],
             [
              0.7777777777777778,
              "#fb9f3a"
             ],
             [
              0.8888888888888888,
              "#fdca26"
             ],
             [
              1,
              "#f0f921"
             ]
            ],
            "type": "heatmapgl"
           }
          ],
          "histogram": [
           {
            "marker": {
             "colorbar": {
              "outlinewidth": 0,
              "ticks": ""
             }
            },
            "type": "histogram"
           }
          ],
          "histogram2d": [
           {
            "colorbar": {
             "outlinewidth": 0,
             "ticks": ""
            },
            "colorscale": [
             [
              0,
              "#0d0887"
             ],
             [
              0.1111111111111111,
              "#46039f"
             ],
             [
              0.2222222222222222,
              "#7201a8"
             ],
             [
              0.3333333333333333,
              "#9c179e"
             ],
             [
              0.4444444444444444,
              "#bd3786"
             ],
             [
              0.5555555555555556,
              "#d8576b"
             ],
             [
              0.6666666666666666,
              "#ed7953"
             ],
             [
              0.7777777777777778,
              "#fb9f3a"
             ],
             [
              0.8888888888888888,
              "#fdca26"
             ],
             [
              1,
              "#f0f921"
             ]
            ],
            "type": "histogram2d"
           }
          ],
          "histogram2dcontour": [
           {
            "colorbar": {
             "outlinewidth": 0,
             "ticks": ""
            },
            "colorscale": [
             [
              0,
              "#0d0887"
             ],
             [
              0.1111111111111111,
              "#46039f"
             ],
             [
              0.2222222222222222,
              "#7201a8"
             ],
             [
              0.3333333333333333,
              "#9c179e"
             ],
             [
              0.4444444444444444,
              "#bd3786"
             ],
             [
              0.5555555555555556,
              "#d8576b"
             ],
             [
              0.6666666666666666,
              "#ed7953"
             ],
             [
              0.7777777777777778,
              "#fb9f3a"
             ],
             [
              0.8888888888888888,
              "#fdca26"
             ],
             [
              1,
              "#f0f921"
             ]
            ],
            "type": "histogram2dcontour"
           }
          ],
          "mesh3d": [
           {
            "colorbar": {
             "outlinewidth": 0,
             "ticks": ""
            },
            "type": "mesh3d"
           }
          ],
          "parcoords": [
           {
            "line": {
             "colorbar": {
              "outlinewidth": 0,
              "ticks": ""
             }
            },
            "type": "parcoords"
           }
          ],
          "pie": [
           {
            "automargin": true,
            "type": "pie"
           }
          ],
          "scatter": [
           {
            "marker": {
             "colorbar": {
              "outlinewidth": 0,
              "ticks": ""
             }
            },
            "type": "scatter"
           }
          ],
          "scatter3d": [
           {
            "line": {
             "colorbar": {
              "outlinewidth": 0,
              "ticks": ""
             }
            },
            "marker": {
             "colorbar": {
              "outlinewidth": 0,
              "ticks": ""
             }
            },
            "type": "scatter3d"
           }
          ],
          "scattercarpet": [
           {
            "marker": {
             "colorbar": {
              "outlinewidth": 0,
              "ticks": ""
             }
            },
            "type": "scattercarpet"
           }
          ],
          "scattergeo": [
           {
            "marker": {
             "colorbar": {
              "outlinewidth": 0,
              "ticks": ""
             }
            },
            "type": "scattergeo"
           }
          ],
          "scattergl": [
           {
            "marker": {
             "colorbar": {
              "outlinewidth": 0,
              "ticks": ""
             }
            },
            "type": "scattergl"
           }
          ],
          "scattermapbox": [
           {
            "marker": {
             "colorbar": {
              "outlinewidth": 0,
              "ticks": ""
             }
            },
            "type": "scattermapbox"
           }
          ],
          "scatterpolar": [
           {
            "marker": {
             "colorbar": {
              "outlinewidth": 0,
              "ticks": ""
             }
            },
            "type": "scatterpolar"
           }
          ],
          "scatterpolargl": [
           {
            "marker": {
             "colorbar": {
              "outlinewidth": 0,
              "ticks": ""
             }
            },
            "type": "scatterpolargl"
           }
          ],
          "scatterternary": [
           {
            "marker": {
             "colorbar": {
              "outlinewidth": 0,
              "ticks": ""
             }
            },
            "type": "scatterternary"
           }
          ],
          "surface": [
           {
            "colorbar": {
             "outlinewidth": 0,
             "ticks": ""
            },
            "colorscale": [
             [
              0,
              "#0d0887"
             ],
             [
              0.1111111111111111,
              "#46039f"
             ],
             [
              0.2222222222222222,
              "#7201a8"
             ],
             [
              0.3333333333333333,
              "#9c179e"
             ],
             [
              0.4444444444444444,
              "#bd3786"
             ],
             [
              0.5555555555555556,
              "#d8576b"
             ],
             [
              0.6666666666666666,
              "#ed7953"
             ],
             [
              0.7777777777777778,
              "#fb9f3a"
             ],
             [
              0.8888888888888888,
              "#fdca26"
             ],
             [
              1,
              "#f0f921"
             ]
            ],
            "type": "surface"
           }
          ],
          "table": [
           {
            "cells": {
             "fill": {
              "color": "#EBF0F8"
             },
             "line": {
              "color": "white"
             }
            },
            "header": {
             "fill": {
              "color": "#C8D4E3"
             },
             "line": {
              "color": "white"
             }
            },
            "type": "table"
           }
          ]
         },
         "layout": {
          "annotationdefaults": {
           "arrowcolor": "#2a3f5f",
           "arrowhead": 0,
           "arrowwidth": 1
          },
          "autotypenumbers": "strict",
          "coloraxis": {
           "colorbar": {
            "outlinewidth": 0,
            "ticks": ""
           }
          },
          "colorscale": {
           "diverging": [
            [
             0,
             "#8e0152"
            ],
            [
             0.1,
             "#c51b7d"
            ],
            [
             0.2,
             "#de77ae"
            ],
            [
             0.3,
             "#f1b6da"
            ],
            [
             0.4,
             "#fde0ef"
            ],
            [
             0.5,
             "#f7f7f7"
            ],
            [
             0.6,
             "#e6f5d0"
            ],
            [
             0.7,
             "#b8e186"
            ],
            [
             0.8,
             "#7fbc41"
            ],
            [
             0.9,
             "#4d9221"
            ],
            [
             1,
             "#276419"
            ]
           ],
           "sequential": [
            [
             0,
             "#0d0887"
            ],
            [
             0.1111111111111111,
             "#46039f"
            ],
            [
             0.2222222222222222,
             "#7201a8"
            ],
            [
             0.3333333333333333,
             "#9c179e"
            ],
            [
             0.4444444444444444,
             "#bd3786"
            ],
            [
             0.5555555555555556,
             "#d8576b"
            ],
            [
             0.6666666666666666,
             "#ed7953"
            ],
            [
             0.7777777777777778,
             "#fb9f3a"
            ],
            [
             0.8888888888888888,
             "#fdca26"
            ],
            [
             1,
             "#f0f921"
            ]
           ],
           "sequentialminus": [
            [
             0,
             "#0d0887"
            ],
            [
             0.1111111111111111,
             "#46039f"
            ],
            [
             0.2222222222222222,
             "#7201a8"
            ],
            [
             0.3333333333333333,
             "#9c179e"
            ],
            [
             0.4444444444444444,
             "#bd3786"
            ],
            [
             0.5555555555555556,
             "#d8576b"
            ],
            [
             0.6666666666666666,
             "#ed7953"
            ],
            [
             0.7777777777777778,
             "#fb9f3a"
            ],
            [
             0.8888888888888888,
             "#fdca26"
            ],
            [
             1,
             "#f0f921"
            ]
           ]
          },
          "colorway": [
           "#636efa",
           "#EF553B",
           "#00cc96",
           "#ab63fa",
           "#FFA15A",
           "#19d3f3",
           "#FF6692",
           "#B6E880",
           "#FF97FF",
           "#FECB52"
          ],
          "font": {
           "color": "#2a3f5f"
          },
          "geo": {
           "bgcolor": "white",
           "lakecolor": "white",
           "landcolor": "#E5ECF6",
           "showlakes": true,
           "showland": true,
           "subunitcolor": "white"
          },
          "hoverlabel": {
           "align": "left"
          },
          "hovermode": "closest",
          "mapbox": {
           "style": "light"
          },
          "paper_bgcolor": "white",
          "plot_bgcolor": "#E5ECF6",
          "polar": {
           "angularaxis": {
            "gridcolor": "white",
            "linecolor": "white",
            "ticks": ""
           },
           "bgcolor": "#E5ECF6",
           "radialaxis": {
            "gridcolor": "white",
            "linecolor": "white",
            "ticks": ""
           }
          },
          "scene": {
           "xaxis": {
            "backgroundcolor": "#E5ECF6",
            "gridcolor": "white",
            "gridwidth": 2,
            "linecolor": "white",
            "showbackground": true,
            "ticks": "",
            "zerolinecolor": "white"
           },
           "yaxis": {
            "backgroundcolor": "#E5ECF6",
            "gridcolor": "white",
            "gridwidth": 2,
            "linecolor": "white",
            "showbackground": true,
            "ticks": "",
            "zerolinecolor": "white"
           },
           "zaxis": {
            "backgroundcolor": "#E5ECF6",
            "gridcolor": "white",
            "gridwidth": 2,
            "linecolor": "white",
            "showbackground": true,
            "ticks": "",
            "zerolinecolor": "white"
           }
          },
          "shapedefaults": {
           "line": {
            "color": "#2a3f5f"
           }
          },
          "ternary": {
           "aaxis": {
            "gridcolor": "white",
            "linecolor": "white",
            "ticks": ""
           },
           "baxis": {
            "gridcolor": "white",
            "linecolor": "white",
            "ticks": ""
           },
           "bgcolor": "#E5ECF6",
           "caxis": {
            "gridcolor": "white",
            "linecolor": "white",
            "ticks": ""
           }
          },
          "title": {
           "x": 0.05
          },
          "xaxis": {
           "automargin": true,
           "gridcolor": "white",
           "linecolor": "white",
           "ticks": "",
           "title": {
            "standoff": 15
           },
           "zerolinecolor": "white",
           "zerolinewidth": 2
          },
          "yaxis": {
           "automargin": true,
           "gridcolor": "white",
           "linecolor": "white",
           "ticks": "",
           "title": {
            "standoff": 15
           },
           "zerolinecolor": "white",
           "zerolinewidth": 2
          }
         }
        },
        "width": 800,
        "xaxis": {
         "anchor": "y",
         "domain": [
          0,
          1
         ],
         "title": {
          "text": "room_type"
         },
         "type": "category"
        },
        "yaxis": {
         "anchor": "x",
         "domain": [
          0,
          1
         ],
         "title": {
          "text": "price"
         }
        }
       }
      },
      "text/html": [
       "<div>                            <div id=\"d649fef7-7d08-447c-a1c1-2d35f298cbd0\" class=\"plotly-graph-div\" style=\"height:400px; width:800px;\"></div>            <script type=\"text/javascript\">                require([\"plotly\"], function(Plotly) {                    window.PLOTLYENV=window.PLOTLYENV || {};                                    if (document.getElementById(\"d649fef7-7d08-447c-a1c1-2d35f298cbd0\")) {                    Plotly.newPlot(                        \"d649fef7-7d08-447c-a1c1-2d35f298cbd0\",                        [{\"alignmentgroup\": \"True\", \"hovertemplate\": \"time_split=after<br>room_type=%{x}<br>price=%{y}<extra></extra>\", \"legendgroup\": \"after\", \"marker\": {\"color\": \"#636efa\"}, \"name\": \"after\", \"notched\": false, \"offsetgroup\": \"after\", \"orientation\": \"v\", \"quartilemethod\": \"exclusive\", \"showlegend\": true, \"type\": \"box\", \"x\": [\"7\", \"9\", \"10\", \"10\", \"2\", \"4\", \"1\", \"1\", \"1\", \"9\", \"1\", \"2\", \"8\", \"9\", \"1\", \"9\", \"3\", \"9\", \"3\", \"2\", \"4\", \"4\", \"3\", \"2\", \"1\", \"10\", \"2\", \"7\"], \"x0\": \" \", \"xaxis\": \"x\", \"y\": [520, 560, 580, 620, 650, 510, 600, 550, 660, 650, 650, 650, 550, 595, 580, 580, 580, 680, 580, 650, 450, 650, 600, 720, 490, 700, 800, 670], \"y0\": \" \", \"yaxis\": \"y\"}, {\"alignmentgroup\": \"True\", \"hovertemplate\": \"time_split=before<br>room_type=%{x}<br>price=%{y}<extra></extra>\", \"legendgroup\": \"before\", \"marker\": {\"color\": \"#EF553B\"}, \"name\": \"before\", \"notched\": false, \"offsetgroup\": \"before\", \"orientation\": \"v\", \"quartilemethod\": \"exclusive\", \"showlegend\": true, \"type\": \"box\", \"x\": [\"9\", \"9\", \"9\", \"10\", \"9\", \"8\", \"8\", \"11\", \"2\", \"2\", \"10\", \"8\", \"2\", \"9\", \"4\", \"2\", \"3\", \"7\", \"3\", \"1\", \"9\", \"6\", \"9\", \"3\", \"1\", \"10\", \"10\", \"10\", \"10\", \"10\", \"8\", \"2\", \"1\", \"11\", \"10\", \"2\", \"9\", \"10\", \"10\", \"3\", \"2\", \"1\", \"8\", \"3\", \"2\", \"3\", \"2\", \"10\", \"7\", \"9\", \"1\", \"2\", \"10\", \"10\", \"8\", \"1\", \"8\", \"2\", \"10\", \"1\", \"1\", \"10\", \"10\", \"10\", \"10\", \"1\", \"8\", \"3\", \"8\", \"1\", \"4\", \"2\", \"10\"], \"x0\": \" \", \"xaxis\": \"x\", \"y\": [760, 840, 900, 820, 840, 700, 682, 780, 820, 840, 700, 700, 722, 820, 640, 820, 680, 652, 700, 750, 820, 720, 700, 780, 802, 720, 730, 810, 730, 820, 780, 850, 850, 720, 800, 750, 800, 780, 730, 760, 800, 680, 690, 680, 800, 660, 700, 800, 690, 720, 690, 730, 720, 740, 742, 760, 720, 750, 690, 720, 710, 800, 750, 750, 800, 720, 650, 650, 700, 682, 600, 580, 630], \"y0\": \" \", \"yaxis\": \"y\"}],                        {\"boxmode\": \"group\", \"height\": 400, \"legend\": {\"title\": {\"text\": \"time_split\"}, \"tracegroupgap\": 0}, \"margin\": {\"t\": 60}, \"template\": {\"data\": {\"bar\": [{\"error_x\": {\"color\": \"#2a3f5f\"}, \"error_y\": {\"color\": \"#2a3f5f\"}, \"marker\": {\"line\": {\"color\": \"#E5ECF6\", \"width\": 0.5}}, \"type\": \"bar\"}], \"barpolar\": [{\"marker\": {\"line\": {\"color\": \"#E5ECF6\", \"width\": 0.5}}, \"type\": \"barpolar\"}], \"carpet\": [{\"aaxis\": {\"endlinecolor\": \"#2a3f5f\", \"gridcolor\": \"white\", \"linecolor\": \"white\", \"minorgridcolor\": \"white\", \"startlinecolor\": \"#2a3f5f\"}, \"baxis\": {\"endlinecolor\": \"#2a3f5f\", \"gridcolor\": \"white\", \"linecolor\": \"white\", \"minorgridcolor\": \"white\", \"startlinecolor\": \"#2a3f5f\"}, \"type\": \"carpet\"}], \"choropleth\": [{\"colorbar\": {\"outlinewidth\": 0, \"ticks\": \"\"}, \"type\": \"choropleth\"}], \"contour\": [{\"colorbar\": {\"outlinewidth\": 0, \"ticks\": \"\"}, \"colorscale\": [[0.0, \"#0d0887\"], [0.1111111111111111, \"#46039f\"], [0.2222222222222222, \"#7201a8\"], [0.3333333333333333, \"#9c179e\"], [0.4444444444444444, \"#bd3786\"], [0.5555555555555556, \"#d8576b\"], [0.6666666666666666, \"#ed7953\"], [0.7777777777777778, \"#fb9f3a\"], [0.8888888888888888, \"#fdca26\"], [1.0, \"#f0f921\"]], \"type\": \"contour\"}], \"contourcarpet\": [{\"colorbar\": {\"outlinewidth\": 0, \"ticks\": \"\"}, \"type\": \"contourcarpet\"}], \"heatmap\": [{\"colorbar\": {\"outlinewidth\": 0, \"ticks\": \"\"}, \"colorscale\": [[0.0, \"#0d0887\"], [0.1111111111111111, \"#46039f\"], [0.2222222222222222, \"#7201a8\"], [0.3333333333333333, \"#9c179e\"], [0.4444444444444444, \"#bd3786\"], [0.5555555555555556, \"#d8576b\"], [0.6666666666666666, \"#ed7953\"], [0.7777777777777778, \"#fb9f3a\"], [0.8888888888888888, \"#fdca26\"], [1.0, \"#f0f921\"]], \"type\": \"heatmap\"}], \"heatmapgl\": [{\"colorbar\": {\"outlinewidth\": 0, \"ticks\": \"\"}, \"colorscale\": [[0.0, \"#0d0887\"], [0.1111111111111111, \"#46039f\"], [0.2222222222222222, \"#7201a8\"], [0.3333333333333333, \"#9c179e\"], [0.4444444444444444, \"#bd3786\"], [0.5555555555555556, \"#d8576b\"], [0.6666666666666666, \"#ed7953\"], [0.7777777777777778, \"#fb9f3a\"], [0.8888888888888888, \"#fdca26\"], [1.0, \"#f0f921\"]], \"type\": \"heatmapgl\"}], \"histogram\": [{\"marker\": {\"colorbar\": {\"outlinewidth\": 0, \"ticks\": \"\"}}, \"type\": \"histogram\"}], \"histogram2d\": [{\"colorbar\": {\"outlinewidth\": 0, \"ticks\": \"\"}, \"colorscale\": [[0.0, \"#0d0887\"], [0.1111111111111111, \"#46039f\"], [0.2222222222222222, \"#7201a8\"], [0.3333333333333333, \"#9c179e\"], [0.4444444444444444, \"#bd3786\"], [0.5555555555555556, \"#d8576b\"], [0.6666666666666666, \"#ed7953\"], [0.7777777777777778, \"#fb9f3a\"], [0.8888888888888888, \"#fdca26\"], [1.0, \"#f0f921\"]], \"type\": \"histogram2d\"}], \"histogram2dcontour\": [{\"colorbar\": {\"outlinewidth\": 0, \"ticks\": \"\"}, \"colorscale\": [[0.0, \"#0d0887\"], [0.1111111111111111, \"#46039f\"], [0.2222222222222222, \"#7201a8\"], [0.3333333333333333, \"#9c179e\"], [0.4444444444444444, \"#bd3786\"], [0.5555555555555556, \"#d8576b\"], [0.6666666666666666, \"#ed7953\"], [0.7777777777777778, \"#fb9f3a\"], [0.8888888888888888, \"#fdca26\"], [1.0, \"#f0f921\"]], \"type\": \"histogram2dcontour\"}], \"mesh3d\": [{\"colorbar\": {\"outlinewidth\": 0, \"ticks\": \"\"}, \"type\": \"mesh3d\"}], \"parcoords\": [{\"line\": {\"colorbar\": {\"outlinewidth\": 0, \"ticks\": \"\"}}, \"type\": \"parcoords\"}], \"pie\": [{\"automargin\": true, \"type\": \"pie\"}], \"scatter\": [{\"marker\": {\"colorbar\": {\"outlinewidth\": 0, \"ticks\": \"\"}}, \"type\": \"scatter\"}], \"scatter3d\": [{\"line\": {\"colorbar\": {\"outlinewidth\": 0, \"ticks\": \"\"}}, \"marker\": {\"colorbar\": {\"outlinewidth\": 0, \"ticks\": \"\"}}, \"type\": \"scatter3d\"}], \"scattercarpet\": [{\"marker\": {\"colorbar\": {\"outlinewidth\": 0, \"ticks\": \"\"}}, \"type\": \"scattercarpet\"}], \"scattergeo\": [{\"marker\": {\"colorbar\": {\"outlinewidth\": 0, \"ticks\": \"\"}}, \"type\": \"scattergeo\"}], \"scattergl\": [{\"marker\": {\"colorbar\": {\"outlinewidth\": 0, \"ticks\": \"\"}}, \"type\": \"scattergl\"}], \"scattermapbox\": [{\"marker\": {\"colorbar\": {\"outlinewidth\": 0, \"ticks\": \"\"}}, \"type\": \"scattermapbox\"}], \"scatterpolar\": [{\"marker\": {\"colorbar\": {\"outlinewidth\": 0, \"ticks\": \"\"}}, \"type\": \"scatterpolar\"}], \"scatterpolargl\": [{\"marker\": {\"colorbar\": {\"outlinewidth\": 0, \"ticks\": \"\"}}, \"type\": \"scatterpolargl\"}], \"scatterternary\": [{\"marker\": {\"colorbar\": {\"outlinewidth\": 0, \"ticks\": \"\"}}, \"type\": \"scatterternary\"}], \"surface\": [{\"colorbar\": {\"outlinewidth\": 0, \"ticks\": \"\"}, \"colorscale\": [[0.0, \"#0d0887\"], [0.1111111111111111, \"#46039f\"], [0.2222222222222222, \"#7201a8\"], [0.3333333333333333, \"#9c179e\"], [0.4444444444444444, \"#bd3786\"], [0.5555555555555556, \"#d8576b\"], [0.6666666666666666, \"#ed7953\"], [0.7777777777777778, \"#fb9f3a\"], [0.8888888888888888, \"#fdca26\"], [1.0, \"#f0f921\"]], \"type\": \"surface\"}], \"table\": [{\"cells\": {\"fill\": {\"color\": \"#EBF0F8\"}, \"line\": {\"color\": \"white\"}}, \"header\": {\"fill\": {\"color\": \"#C8D4E3\"}, \"line\": {\"color\": \"white\"}}, \"type\": \"table\"}]}, \"layout\": {\"annotationdefaults\": {\"arrowcolor\": \"#2a3f5f\", \"arrowhead\": 0, \"arrowwidth\": 1}, \"autotypenumbers\": \"strict\", \"coloraxis\": {\"colorbar\": {\"outlinewidth\": 0, \"ticks\": \"\"}}, \"colorscale\": {\"diverging\": [[0, \"#8e0152\"], [0.1, \"#c51b7d\"], [0.2, \"#de77ae\"], [0.3, \"#f1b6da\"], [0.4, \"#fde0ef\"], [0.5, \"#f7f7f7\"], [0.6, \"#e6f5d0\"], [0.7, \"#b8e186\"], [0.8, \"#7fbc41\"], [0.9, \"#4d9221\"], [1, \"#276419\"]], \"sequential\": [[0.0, \"#0d0887\"], [0.1111111111111111, \"#46039f\"], [0.2222222222222222, \"#7201a8\"], [0.3333333333333333, \"#9c179e\"], [0.4444444444444444, \"#bd3786\"], [0.5555555555555556, \"#d8576b\"], [0.6666666666666666, \"#ed7953\"], [0.7777777777777778, \"#fb9f3a\"], [0.8888888888888888, \"#fdca26\"], [1.0, \"#f0f921\"]], \"sequentialminus\": [[0.0, \"#0d0887\"], [0.1111111111111111, \"#46039f\"], [0.2222222222222222, \"#7201a8\"], [0.3333333333333333, \"#9c179e\"], [0.4444444444444444, \"#bd3786\"], [0.5555555555555556, \"#d8576b\"], [0.6666666666666666, \"#ed7953\"], [0.7777777777777778, \"#fb9f3a\"], [0.8888888888888888, \"#fdca26\"], [1.0, \"#f0f921\"]]}, \"colorway\": [\"#636efa\", \"#EF553B\", \"#00cc96\", \"#ab63fa\", \"#FFA15A\", \"#19d3f3\", \"#FF6692\", \"#B6E880\", \"#FF97FF\", \"#FECB52\"], \"font\": {\"color\": \"#2a3f5f\"}, \"geo\": {\"bgcolor\": \"white\", \"lakecolor\": \"white\", \"landcolor\": \"#E5ECF6\", \"showlakes\": true, \"showland\": true, \"subunitcolor\": \"white\"}, \"hoverlabel\": {\"align\": \"left\"}, \"hovermode\": \"closest\", \"mapbox\": {\"style\": \"light\"}, \"paper_bgcolor\": \"white\", \"plot_bgcolor\": \"#E5ECF6\", \"polar\": {\"angularaxis\": {\"gridcolor\": \"white\", \"linecolor\": \"white\", \"ticks\": \"\"}, \"bgcolor\": \"#E5ECF6\", \"radialaxis\": {\"gridcolor\": \"white\", \"linecolor\": \"white\", \"ticks\": \"\"}}, \"scene\": {\"xaxis\": {\"backgroundcolor\": \"#E5ECF6\", \"gridcolor\": \"white\", \"gridwidth\": 2, \"linecolor\": \"white\", \"showbackground\": true, \"ticks\": \"\", \"zerolinecolor\": \"white\"}, \"yaxis\": {\"backgroundcolor\": \"#E5ECF6\", \"gridcolor\": \"white\", \"gridwidth\": 2, \"linecolor\": \"white\", \"showbackground\": true, \"ticks\": \"\", \"zerolinecolor\": \"white\"}, \"zaxis\": {\"backgroundcolor\": \"#E5ECF6\", \"gridcolor\": \"white\", \"gridwidth\": 2, \"linecolor\": \"white\", \"showbackground\": true, \"ticks\": \"\", \"zerolinecolor\": \"white\"}}, \"shapedefaults\": {\"line\": {\"color\": \"#2a3f5f\"}}, \"ternary\": {\"aaxis\": {\"gridcolor\": \"white\", \"linecolor\": \"white\", \"ticks\": \"\"}, \"baxis\": {\"gridcolor\": \"white\", \"linecolor\": \"white\", \"ticks\": \"\"}, \"bgcolor\": \"#E5ECF6\", \"caxis\": {\"gridcolor\": \"white\", \"linecolor\": \"white\", \"ticks\": \"\"}}, \"title\": {\"x\": 0.05}, \"xaxis\": {\"automargin\": true, \"gridcolor\": \"white\", \"linecolor\": \"white\", \"ticks\": \"\", \"title\": {\"standoff\": 15}, \"zerolinecolor\": \"white\", \"zerolinewidth\": 2}, \"yaxis\": {\"automargin\": true, \"gridcolor\": \"white\", \"linecolor\": \"white\", \"ticks\": \"\", \"title\": {\"standoff\": 15}, \"zerolinecolor\": \"white\", \"zerolinewidth\": 2}}}, \"width\": 800, \"xaxis\": {\"anchor\": \"y\", \"domain\": [0.0, 1.0], \"title\": {\"text\": \"room_type\"}, \"type\": \"category\"}, \"yaxis\": {\"anchor\": \"x\", \"domain\": [0.0, 1.0], \"title\": {\"text\": \"price\"}}},                        {\"responsive\": true}                    ).then(function(){\n",
       "                            \n",
       "var gd = document.getElementById('d649fef7-7d08-447c-a1c1-2d35f298cbd0');\n",
       "var x = new MutationObserver(function (mutations, observer) {{\n",
       "        var display = window.getComputedStyle(gd).display;\n",
       "        if (!display || display === 'none') {{\n",
       "            console.log([gd, 'removed!']);\n",
       "            Plotly.purge(gd);\n",
       "            observer.disconnect();\n",
       "        }}\n",
       "}});\n",
       "\n",
       "// Listen for the removal of the full notebook cells\n",
       "var notebookContainer = gd.closest('#notebook-container');\n",
       "if (notebookContainer) {{\n",
       "    x.observe(notebookContainer, {childList: true});\n",
       "}}\n",
       "\n",
       "// Listen for the clearing of the current output cell\n",
       "var outputEl = gd.closest('.output');\n",
       "if (outputEl) {{\n",
       "    x.observe(outputEl, {childList: true});\n",
       "}}\n",
       "\n",
       "                        })                };                });            </script>        </div>"
      ]
     },
     "metadata": {},
     "output_type": "display_data"
    }
   ],
   "source": [
    "# plot box \n",
    "df.loc[df.date <= pd.to_datetime('20200301', format='%Y%m%d'),'time_split'] = 'before'\n",
    "\n",
    "df.loc[df.date > pd.to_datetime('20200301', format='%Y%m%d'),'time_split'] = 'after'\n",
    "\n",
    "fig = px.box(df, x=\"room_type\", y=\"price\", color=\"time_split\",height=400, width=800)\n",
    "fig.update_traces(quartilemethod=\"exclusive\") # or \"inclusive\", or \"linear\" by default\n",
    "\n",
    "fig.update_xaxes(type='category')\n",
    "fig.show()"
   ]
  },
  {
   "cell_type": "markdown",
   "metadata": {},
   "source": [
    "#### API Calls"
   ]
  },
  {
   "cell_type": "code",
   "execution_count": null,
   "metadata": {},
   "outputs": [],
   "source": []
  },
  {
   "cell_type": "code",
   "execution_count": 83,
   "metadata": {},
   "outputs": [],
   "source": [
    "headers = {\"accept\": \"application/json\", \"X-Api-key\" : \"key_96722ad209ed03b38756862ecdd76b01\"}"
   ]
  },
  {
   "cell_type": "code",
   "execution_count": 63,
   "metadata": {},
   "outputs": [],
   "source": [
    "# get property ID \n",
    "params = {\n",
    "    \"terms\" :  \"3705/318-russell-street-melbourne-vic-3000\", \n",
    "    \"pageSize\" :  20,\n",
    "    \"channel\": \"Residential\"\n",
    "}\n",
    "url = 'https://api.domain.com.au/sandbox/v1/properties/_suggest'"
   ]
  },
  {
   "cell_type": "code",
   "execution_count": 64,
   "metadata": {},
   "outputs": [],
   "source": [
    "r = requests.get(url, params, headers = headers )"
   ]
  },
  {
   "cell_type": "code",
   "execution_count": 65,
   "metadata": {},
   "outputs": [],
   "source": [
    "res = r.json()"
   ]
  },
  {
   "cell_type": "code",
   "execution_count": 66,
   "metadata": {},
   "outputs": [
    {
     "name": "stdout",
     "output_type": "stream",
     "text": [
      "CM-7189-NW\n",
      "100\n"
     ]
    }
   ],
   "source": [
    "print(res[0][\"id\"])\n",
    "print(res[0][\"relativeScore\"])"
   ]
  },
  {
   "cell_type": "code",
   "execution_count": 49,
   "metadata": {},
   "outputs": [],
   "source": [
    "prop_id = res[0][\"id\"]"
   ]
  },
  {
   "cell_type": "code",
   "execution_count": 54,
   "metadata": {},
   "outputs": [],
   "source": [
    "# get size with property id \n",
    "params = {\n",
    "    \"id\" : prop_id\n",
    "}\n",
    "url = 'https://api.domain.com.au/sandbox/v1/properties/' + prop_id"
   ]
  },
  {
   "cell_type": "code",
   "execution_count": 61,
   "metadata": {},
   "outputs": [],
   "source": [
    "prop_json = requests.get(url, headers = headers ).json()"
   ]
  },
  {
   "cell_type": "code",
   "execution_count": 62,
   "metadata": {},
   "outputs": [
    {
     "data": {
      "text/plain": [
       "933"
      ]
     },
     "execution_count": 62,
     "metadata": {},
     "output_type": "execute_result"
    }
   ],
   "source": [
    "prop_json['areaSize']"
   ]
  },
  {
   "cell_type": "code",
   "execution_count": 72,
   "metadata": {},
   "outputs": [
    {
     "ename": "KeyError",
     "evalue": "0",
     "output_type": "error",
     "traceback": [
      "\u001b[0;31m---------------------------------------------------------------------------\u001b[0m",
      "\u001b[0;31mKeyError\u001b[0m                                  Traceback (most recent call last)",
      "\u001b[0;32m<ipython-input-72-ca6552093e5a>\u001b[0m in \u001b[0;36m<module>\u001b[0;34m\u001b[0m\n\u001b[1;32m     14\u001b[0m     \u001b[0mparams\u001b[0m\u001b[0;34m[\u001b[0m\u001b[0;34m\"terms\"\u001b[0m\u001b[0;34m]\u001b[0m \u001b[0;34m=\u001b[0m  \u001b[0mstr\u001b[0m\u001b[0;34m(\u001b[0m\u001b[0mdf_318_rus\u001b[0m\u001b[0;34m.\u001b[0m\u001b[0mloc\u001b[0m\u001b[0;34m[\u001b[0m\u001b[0mi\u001b[0m\u001b[0;34m,\u001b[0m \u001b[0;34m\"room_no\"\u001b[0m\u001b[0;34m]\u001b[0m\u001b[0;34m)\u001b[0m \u001b[0;34m+\u001b[0m \u001b[0;34m\"/\"\u001b[0m\u001b[0;34m+\u001b[0m \u001b[0mdf_318_rus\u001b[0m\u001b[0;34m.\u001b[0m\u001b[0mloc\u001b[0m\u001b[0;34m[\u001b[0m\u001b[0mi\u001b[0m\u001b[0;34m,\u001b[0m \u001b[0;34m\"building_name\"\u001b[0m\u001b[0;34m]\u001b[0m\u001b[0;34m\u001b[0m\u001b[0;34m\u001b[0m\u001b[0m\n\u001b[1;32m     15\u001b[0m     \u001b[0mres\u001b[0m \u001b[0;34m=\u001b[0m \u001b[0mrequests\u001b[0m\u001b[0;34m.\u001b[0m\u001b[0mget\u001b[0m\u001b[0;34m(\u001b[0m\u001b[0murl\u001b[0m\u001b[0;34m,\u001b[0m\u001b[0mparams\u001b[0m \u001b[0;34m=\u001b[0m\u001b[0mparams\u001b[0m\u001b[0;34m,\u001b[0m \u001b[0mheaders\u001b[0m \u001b[0;34m=\u001b[0m \u001b[0mheaders\u001b[0m \u001b[0;34m)\u001b[0m\u001b[0;34m.\u001b[0m\u001b[0mjson\u001b[0m\u001b[0;34m(\u001b[0m\u001b[0;34m)\u001b[0m\u001b[0;34m\u001b[0m\u001b[0;34m\u001b[0m\u001b[0m\n\u001b[0;32m---> 16\u001b[0;31m     \u001b[0mprop_id\u001b[0m \u001b[0;34m=\u001b[0m \u001b[0mres\u001b[0m\u001b[0;34m[\u001b[0m\u001b[0;36m0\u001b[0m\u001b[0;34m]\u001b[0m\u001b[0;34m[\u001b[0m\u001b[0;34m\"id\"\u001b[0m\u001b[0;34m]\u001b[0m\u001b[0;34m\u001b[0m\u001b[0;34m\u001b[0m\u001b[0m\n\u001b[0m\u001b[1;32m     17\u001b[0m     \u001b[0mprop_json\u001b[0m \u001b[0;34m=\u001b[0m \u001b[0mrequests\u001b[0m\u001b[0;34m.\u001b[0m\u001b[0mget\u001b[0m\u001b[0;34m(\u001b[0m\u001b[0mpinfo_url\u001b[0m \u001b[0;34m+\u001b[0m \u001b[0mprop_id\u001b[0m\u001b[0;34m,\u001b[0m \u001b[0mheaders\u001b[0m \u001b[0;34m=\u001b[0m \u001b[0mheaders\u001b[0m \u001b[0;34m)\u001b[0m\u001b[0;34m.\u001b[0m\u001b[0mjson\u001b[0m\u001b[0;34m(\u001b[0m\u001b[0;34m)\u001b[0m\u001b[0;34m\u001b[0m\u001b[0;34m\u001b[0m\u001b[0m\n\u001b[1;32m     18\u001b[0m     \u001b[0mdf_318_rus\u001b[0m\u001b[0;34m.\u001b[0m\u001b[0mloc\u001b[0m\u001b[0;34m[\u001b[0m\u001b[0mi\u001b[0m\u001b[0;34m,\u001b[0m \u001b[0;34m\"areaSize\"\u001b[0m\u001b[0;34m]\u001b[0m \u001b[0;34m=\u001b[0m \u001b[0mprop_json\u001b[0m\u001b[0;34m[\u001b[0m\u001b[0;34m\"areaSize\"\u001b[0m\u001b[0;34m]\u001b[0m\u001b[0;34m\u001b[0m\u001b[0;34m\u001b[0m\u001b[0m\n",
      "\u001b[0;31mKeyError\u001b[0m: 0"
     ]
    }
   ],
   "source": [
    "# get all size as a new columns \n",
    "get_pid_url = 'https://api.domain.com.au/sandbox/v1/properties/_suggest'\n",
    "pinfo_url =  'https://api.domain.com.au/sandbox/v1/properties/'\n",
    "# init the column\n",
    "df_318_rus[\"areaSize\"] = 0\n",
    "params = {\n",
    "        \"terms\" :  \"\", \n",
    "        \"pageSize\" :  20,\n",
    "        \"channel\": \"Residential\"\n",
    "        }\n",
    "\n",
    "# get list history from adv id \n",
    "hist_df = pd.DataFrame(columns = [ 'room_no', 'list_id', 'list_date', 'leased_date'])\n",
    "for i in df_318_rus.index:\n",
    "    # get property ID \n",
    "    \n",
    "    params[\"terms\"] =  str(df_318_rus.loc[i, \"room_no\"]) + \"/\"+ df_318_rus.loc[i, \"building_name\"]\n",
    "    res = requests.get(url,params =params, headers = headers ).json()\n",
    "    prop_id = res[0][\"id\"]\n",
    "    prop_json = requests.get(pinfo_url + prop_id, headers = headers ).json()\n",
    "    df_318_rus.loc[i, \"areaSize\"] = prop_json[\"areaSize\"]\n",
    "    \n",
    "    \n",
    "    \n",
    " \n",
    "    "
   ]
  },
  {
   "cell_type": "code",
   "execution_count": 96,
   "metadata": {},
   "outputs": [],
   "source": [
    "def get_info_from_list_id(list_id, headers):\n",
    "    list_url = 'https://api.domain.com.au/sandbox/v1/listings/'\n",
    "    list_json = requests.get(list_url + str(list_id), headers = headers ).json()\n",
    "    res = {}\n",
    "    try: \n",
    "        list_json['rentalDetails']['leasedDate']\n",
    "        res['leased_date'] = list_json['rentalDetails']['leasedDate']\n",
    "    except:\n",
    "        res['leased_date'] = \"n/a\"\n",
    "        \n",
    "    \n",
    "    res['list_date'] = list_json['dateListed']\n",
    "    try:    \n",
    "        res['price']= list_json['priceDetails']['price']\n",
    "    except:\n",
    "        res['price'] = None\n",
    "        \n",
    "    res['display_price'] = list_json[\"priceDetails\"]['displayPrice']\n",
    "    \n",
    "    res['status'] = list_json['status']\n",
    "    res['objective'] = list_json['objective']\n",
    "\n",
    "    return res"
   ]
  },
  {
   "cell_type": "code",
   "execution_count": 97,
   "metadata": {
    "scrolled": true
   },
   "outputs": [
    {
     "ename": "KeyError",
     "evalue": "'dateListed'",
     "output_type": "error",
     "traceback": [
      "\u001b[0;31m---------------------------------------------------------------------------\u001b[0m",
      "\u001b[0;31mKeyError\u001b[0m                                  Traceback (most recent call last)",
      "\u001b[0;32m<ipython-input-97-8b6ba102e296>\u001b[0m in \u001b[0;36m<module>\u001b[0;34m\u001b[0m\n\u001b[1;32m     12\u001b[0m         \u001b[0;31m#print(photo['advertId'])\u001b[0m\u001b[0;34m\u001b[0m\u001b[0;34m\u001b[0m\u001b[0;34m\u001b[0m\u001b[0m\n\u001b[1;32m     13\u001b[0m         \u001b[0;32mif\u001b[0m \u001b[0mphoto\u001b[0m\u001b[0;34m[\u001b[0m\u001b[0;34m'advertId'\u001b[0m\u001b[0;34m]\u001b[0m \u001b[0;34m!=\u001b[0m \u001b[0mcurrent_id\u001b[0m\u001b[0;34m:\u001b[0m \u001b[0;31m# TODO\u001b[0m\u001b[0;34m\u001b[0m\u001b[0;34m\u001b[0m\u001b[0m\n\u001b[0;32m---> 14\u001b[0;31m             \u001b[0mlist_res\u001b[0m \u001b[0;34m=\u001b[0m \u001b[0mget_info_from_list_id\u001b[0m\u001b[0;34m(\u001b[0m\u001b[0mphoto\u001b[0m\u001b[0;34m[\u001b[0m\u001b[0;34m'advertId'\u001b[0m\u001b[0;34m]\u001b[0m\u001b[0;34m,\u001b[0m \u001b[0mheaders\u001b[0m\u001b[0;34m)\u001b[0m\u001b[0;34m\u001b[0m\u001b[0;34m\u001b[0m\u001b[0m\n\u001b[0m\u001b[1;32m     15\u001b[0m             \u001b[0mlist_res\u001b[0m\u001b[0;34m[\u001b[0m\u001b[0;34m'room_no'\u001b[0m\u001b[0;34m]\u001b[0m \u001b[0;34m=\u001b[0m \u001b[0mdf\u001b[0m\u001b[0;34m.\u001b[0m\u001b[0mloc\u001b[0m\u001b[0;34m[\u001b[0m\u001b[0mi\u001b[0m\u001b[0;34m,\u001b[0m \u001b[0;34m'room_no'\u001b[0m\u001b[0;34m]\u001b[0m\u001b[0;34m\u001b[0m\u001b[0;34m\u001b[0m\u001b[0m\n\u001b[1;32m     16\u001b[0m             \u001b[0mhist_df\u001b[0m \u001b[0;34m=\u001b[0m \u001b[0mhist_df\u001b[0m\u001b[0;34m.\u001b[0m\u001b[0mappend\u001b[0m\u001b[0;34m(\u001b[0m\u001b[0mlist_res\u001b[0m\u001b[0;34m,\u001b[0m \u001b[0mignore_index\u001b[0m \u001b[0;34m=\u001b[0m \u001b[0;32mTrue\u001b[0m \u001b[0;34m)\u001b[0m\u001b[0;34m\u001b[0m\u001b[0;34m\u001b[0m\u001b[0m\n",
      "\u001b[0;32m<ipython-input-96-9a98d4a9f7cc>\u001b[0m in \u001b[0;36mget_info_from_list_id\u001b[0;34m(list_id, headers)\u001b[0m\n\u001b[1;32m     10\u001b[0m \u001b[0;34m\u001b[0m\u001b[0m\n\u001b[1;32m     11\u001b[0m \u001b[0;34m\u001b[0m\u001b[0m\n\u001b[0;32m---> 12\u001b[0;31m     \u001b[0mres\u001b[0m\u001b[0;34m[\u001b[0m\u001b[0;34m'list_date'\u001b[0m\u001b[0;34m]\u001b[0m \u001b[0;34m=\u001b[0m \u001b[0mlist_json\u001b[0m\u001b[0;34m[\u001b[0m\u001b[0;34m'dateListed'\u001b[0m\u001b[0;34m]\u001b[0m\u001b[0;34m\u001b[0m\u001b[0;34m\u001b[0m\u001b[0m\n\u001b[0m\u001b[1;32m     13\u001b[0m     \u001b[0;32mtry\u001b[0m\u001b[0;34m:\u001b[0m\u001b[0;34m\u001b[0m\u001b[0;34m\u001b[0m\u001b[0m\n\u001b[1;32m     14\u001b[0m         \u001b[0mres\u001b[0m\u001b[0;34m[\u001b[0m\u001b[0;34m'price'\u001b[0m\u001b[0;34m]\u001b[0m\u001b[0;34m=\u001b[0m \u001b[0mlist_json\u001b[0m\u001b[0;34m[\u001b[0m\u001b[0;34m'priceDetails'\u001b[0m\u001b[0;34m]\u001b[0m\u001b[0;34m[\u001b[0m\u001b[0;34m'price'\u001b[0m\u001b[0;34m]\u001b[0m\u001b[0;34m\u001b[0m\u001b[0;34m\u001b[0m\u001b[0m\n",
      "\u001b[0;31mKeyError\u001b[0m: 'dateListed'"
     ]
    }
   ],
   "source": [
    "# get list history from adv id \n",
    "hist_df = pd.DataFrame(columns = [ 'room_no', 'list_id', 'list_date', 'leased_date', 'price', 'display_price','status', 'objective'])\n",
    "for i in df.index:\n",
    "    # get property ID \n",
    "    params[\"terms\"] =  str(df_318_rus.loc[i, \"room_no\"]) + \"/\"+ df_318_rus.loc[i, \"building_name\"]\n",
    "    res = requests.get(url,params =params, headers = headers ).json()\n",
    "    prop_id = res[0][\"id\"]\n",
    "    prop_json = requests.get(pinfo_url + prop_id, headers = headers ).json()\n",
    "    #df_318_rus.loc[i, \"areaSize\"] = prop_json[\"areaSize\"] \n",
    "    current_id = 0 # TODO \n",
    "    for photo in prop_json['photos']:\n",
    "        #print(photo['advertId'])\n",
    "        if photo['advertId'] != current_id: # TODO \n",
    "            list_res = get_info_from_list_id(photo['advertId'], headers)\n",
    "            list_res['room_no'] = df.loc[i, 'room_no']\n",
    "            list_res['list_id'] = photo['advertId'] \n",
    "            hist_df = hist_df.append(list_res, ignore_index = True )\n",
    "            # update id \n",
    "            current_id = photo['advertId']\n",
    "            \n",
    "        "
   ]
  },
  {
   "cell_type": "code",
   "execution_count": null,
   "metadata": {},
   "outputs": [],
   "source": []
  },
  {
   "cell_type": "code",
   "execution_count": 100,
   "metadata": {},
   "outputs": [
    {
     "data": {
      "text/html": [
       "<div>\n",
       "<style scoped>\n",
       "    .dataframe tbody tr th:only-of-type {\n",
       "        vertical-align: middle;\n",
       "    }\n",
       "\n",
       "    .dataframe tbody tr th {\n",
       "        vertical-align: top;\n",
       "    }\n",
       "\n",
       "    .dataframe thead th {\n",
       "        text-align: right;\n",
       "    }\n",
       "</style>\n",
       "<table border=\"1\" class=\"dataframe\">\n",
       "  <thead>\n",
       "    <tr style=\"text-align: right;\">\n",
       "      <th></th>\n",
       "      <th>room_no</th>\n",
       "      <th>list_id</th>\n",
       "      <th>list_date</th>\n",
       "      <th>leased_date</th>\n",
       "      <th>price</th>\n",
       "      <th>display_price</th>\n",
       "      <th>status</th>\n",
       "      <th>objective</th>\n",
       "    </tr>\n",
       "  </thead>\n",
       "  <tbody>\n",
       "    <tr>\n",
       "      <th>0</th>\n",
       "      <td>4207</td>\n",
       "      <td>NaN</td>\n",
       "      <td>2020-07-31T00:07:03Z</td>\n",
       "      <td>2020-07-31</td>\n",
       "      <td>NaN</td>\n",
       "      <td>$520 per week</td>\n",
       "      <td>leased</td>\n",
       "      <td>rent</td>\n",
       "    </tr>\n",
       "    <tr>\n",
       "      <th>1</th>\n",
       "      <td>4207</td>\n",
       "      <td>NaN</td>\n",
       "      <td>2020-07-31T00:07:03Z</td>\n",
       "      <td>2020-07-31</td>\n",
       "      <td>NaN</td>\n",
       "      <td>$520 per week</td>\n",
       "      <td>leased</td>\n",
       "      <td>rent</td>\n",
       "    </tr>\n",
       "    <tr>\n",
       "      <th>2</th>\n",
       "      <td>4207</td>\n",
       "      <td>NaN</td>\n",
       "      <td>2020-07-31T00:07:03Z</td>\n",
       "      <td>2020-07-31</td>\n",
       "      <td>NaN</td>\n",
       "      <td>$520 per week</td>\n",
       "      <td>leased</td>\n",
       "      <td>rent</td>\n",
       "    </tr>\n",
       "    <tr>\n",
       "      <th>3</th>\n",
       "      <td>4207</td>\n",
       "      <td>NaN</td>\n",
       "      <td>2020-07-31T00:07:03Z</td>\n",
       "      <td>2020-07-31</td>\n",
       "      <td>NaN</td>\n",
       "      <td>$520 per week</td>\n",
       "      <td>leased</td>\n",
       "      <td>rent</td>\n",
       "    </tr>\n",
       "    <tr>\n",
       "      <th>4</th>\n",
       "      <td>4207</td>\n",
       "      <td>NaN</td>\n",
       "      <td>2020-07-31T00:07:03Z</td>\n",
       "      <td>2020-07-31</td>\n",
       "      <td>NaN</td>\n",
       "      <td>$520 per week</td>\n",
       "      <td>leased</td>\n",
       "      <td>rent</td>\n",
       "    </tr>\n",
       "    <tr>\n",
       "      <th>...</th>\n",
       "      <td>...</td>\n",
       "      <td>...</td>\n",
       "      <td>...</td>\n",
       "      <td>...</td>\n",
       "      <td>...</td>\n",
       "      <td>...</td>\n",
       "      <td>...</td>\n",
       "      <td>...</td>\n",
       "    </tr>\n",
       "    <tr>\n",
       "      <th>411</th>\n",
       "      <td>3810</td>\n",
       "      <td>NaN</td>\n",
       "      <td>2019-04-01T23:06:48Z</td>\n",
       "      <td>2019-04-12</td>\n",
       "      <td>700.0</td>\n",
       "      <td>$700</td>\n",
       "      <td>leased</td>\n",
       "      <td>rent</td>\n",
       "    </tr>\n",
       "    <tr>\n",
       "      <th>412</th>\n",
       "      <td>3810</td>\n",
       "      <td>NaN</td>\n",
       "      <td>2019-04-01T23:06:48Z</td>\n",
       "      <td>2019-04-12</td>\n",
       "      <td>700.0</td>\n",
       "      <td>$700</td>\n",
       "      <td>leased</td>\n",
       "      <td>rent</td>\n",
       "    </tr>\n",
       "    <tr>\n",
       "      <th>413</th>\n",
       "      <td>3810</td>\n",
       "      <td>NaN</td>\n",
       "      <td>2019-04-01T23:06:48Z</td>\n",
       "      <td>2019-04-12</td>\n",
       "      <td>700.0</td>\n",
       "      <td>$700</td>\n",
       "      <td>leased</td>\n",
       "      <td>rent</td>\n",
       "    </tr>\n",
       "    <tr>\n",
       "      <th>414</th>\n",
       "      <td>3810</td>\n",
       "      <td>NaN</td>\n",
       "      <td>2019-04-01T23:06:48Z</td>\n",
       "      <td>2019-04-12</td>\n",
       "      <td>700.0</td>\n",
       "      <td>$700</td>\n",
       "      <td>leased</td>\n",
       "      <td>rent</td>\n",
       "    </tr>\n",
       "    <tr>\n",
       "      <th>415</th>\n",
       "      <td>3810</td>\n",
       "      <td>NaN</td>\n",
       "      <td>2019-04-01T23:06:48Z</td>\n",
       "      <td>2019-04-12</td>\n",
       "      <td>700.0</td>\n",
       "      <td>$700</td>\n",
       "      <td>leased</td>\n",
       "      <td>rent</td>\n",
       "    </tr>\n",
       "  </tbody>\n",
       "</table>\n",
       "<p>416 rows × 8 columns</p>\n",
       "</div>"
      ],
      "text/plain": [
       "    room_no  list_id             list_date leased_date  price  display_price  \\\n",
       "0      4207      NaN  2020-07-31T00:07:03Z  2020-07-31    NaN  $520 per week   \n",
       "1      4207      NaN  2020-07-31T00:07:03Z  2020-07-31    NaN  $520 per week   \n",
       "2      4207      NaN  2020-07-31T00:07:03Z  2020-07-31    NaN  $520 per week   \n",
       "3      4207      NaN  2020-07-31T00:07:03Z  2020-07-31    NaN  $520 per week   \n",
       "4      4207      NaN  2020-07-31T00:07:03Z  2020-07-31    NaN  $520 per week   \n",
       "..      ...      ...                   ...         ...    ...            ...   \n",
       "411    3810      NaN  2019-04-01T23:06:48Z  2019-04-12  700.0           $700   \n",
       "412    3810      NaN  2019-04-01T23:06:48Z  2019-04-12  700.0           $700   \n",
       "413    3810      NaN  2019-04-01T23:06:48Z  2019-04-12  700.0           $700   \n",
       "414    3810      NaN  2019-04-01T23:06:48Z  2019-04-12  700.0           $700   \n",
       "415    3810      NaN  2019-04-01T23:06:48Z  2019-04-12  700.0           $700   \n",
       "\n",
       "     status objective  \n",
       "0    leased      rent  \n",
       "1    leased      rent  \n",
       "2    leased      rent  \n",
       "3    leased      rent  \n",
       "4    leased      rent  \n",
       "..      ...       ...  \n",
       "411  leased      rent  \n",
       "412  leased      rent  \n",
       "413  leased      rent  \n",
       "414  leased      rent  \n",
       "415  leased      rent  \n",
       "\n",
       "[416 rows x 8 columns]"
      ]
     },
     "execution_count": 100,
     "metadata": {},
     "output_type": "execute_result"
    }
   ],
   "source": [
    "hist_df"
   ]
  },
  {
   "cell_type": "code",
   "execution_count": 98,
   "metadata": {},
   "outputs": [],
   "source": [
    "list_url = 'https://api.domain.com.au/sandbox/v1/listings/'\n",
    "list_json = requests.get(list_url + str(photo['advertId']), headers = headers ).json()"
   ]
  },
  {
   "cell_type": "code",
   "execution_count": 99,
   "metadata": {},
   "outputs": [
    {
     "data": {
      "text/plain": [
       "{'type': 'https://developer.domain.com.au/docs/latest/conventions/rate-limiting',\n",
       " 'title': 'Quota Exceeded',\n",
       " 'detail': 'Exceeded rate limit for current Day'}"
      ]
     },
     "execution_count": 99,
     "metadata": {},
     "output_type": "execute_result"
    }
   ],
   "source": [
    "list_json"
   ]
  },
  {
   "cell_type": "code",
   "execution_count": null,
   "metadata": {},
   "outputs": [],
   "source": [
    "df = pd.DataFrame(columns = ['building_name', 'room_no', 'price', 'date' , 'bed', 'bath', 'parking'])"
   ]
  },
  {
   "cell_type": "code",
   "execution_count": 74,
   "metadata": {},
   "outputs": [
    {
     "data": {
      "text/plain": [
       "{'title': 'Internal Server Error',\n",
       " 'status': 500,\n",
       " 'detail': 'The request was canceled due to the configured HttpClient.Timeout of 10 seconds elapsing.',\n",
       " 'traceId': '5f87f9b7f89d094fb3f1caf560289f74'}"
      ]
     },
     "execution_count": 74,
     "metadata": {},
     "output_type": "execute_result"
    }
   ],
   "source": [
    "res"
   ]
  },
  {
   "cell_type": "code",
   "execution_count": 77,
   "metadata": {},
   "outputs": [
    {
     "data": {
      "text/plain": [
       "933    205\n",
       "0       41\n",
       "937      2\n",
       "Name: areaSize, dtype: int64"
      ]
     },
     "execution_count": 77,
     "metadata": {},
     "output_type": "execute_result"
    }
   ],
   "source": [
    "df_318_rus.areaSize.value_counts()"
   ]
  },
  {
   "cell_type": "code",
   "execution_count": 78,
   "metadata": {},
   "outputs": [
    {
     "data": {
      "text/plain": [
       "{'cadastreType': 'Polygon',\n",
       " 'onMarketTypes': [],\n",
       " 'status': 'OffMarket',\n",
       " 'address': '3306/318 Russell Street, Melbourne VIC 3000',\n",
       " 'addressCoordinate': {'lat': -37.80935, 'lon': 144.9668},\n",
       " 'addressId': 40693967,\n",
       " 'areaSize': 933,\n",
       " 'bathrooms': 1,\n",
       " 'bedrooms': 1,\n",
       " 'carSpaces': 0,\n",
       " 'created': '2021-02-03T02:10:29.581Z',\n",
       " 'features': ['Study', 'Air Conditioning', 'Heating', 'Alarm', 'Barbeque'],\n",
       " 'flatNumber': '3306',\n",
       " 'gnafIds': [{'monthNo': 11, 'yearNo': 2020, 'gnafPID': 'GAVIC425569033'}],\n",
       " 'id': 'FZ-6415-LH',\n",
       " 'isResidential': True,\n",
       " 'photos': [{'imageType': 'Property',\n",
       "   'advertId': 11060681,\n",
       "   'date': '2017-01-07T23:25:37.193Z',\n",
       "   'fullUrl': 'https://bucket-api.domain.com.au/v1/bucket/image/w800-h529-11060681_1_pi_170106_033333',\n",
       "   'rank': 1},\n",
       "  {'imageType': 'Property',\n",
       "   'advertId': 11060681,\n",
       "   'date': '2017-01-07T23:25:37.193Z',\n",
       "   'fullUrl': 'https://bucket-api.domain.com.au/v1/bucket/image/w800-h529-11060681_2_pi_170106_033334',\n",
       "   'rank': 2},\n",
       "  {'imageType': 'Property',\n",
       "   'advertId': 11060681,\n",
       "   'date': '2017-01-07T23:25:37.193Z',\n",
       "   'fullUrl': 'https://bucket-api.domain.com.au/v1/bucket/image/w800-h529-11060681_3_pi_170106_033333',\n",
       "   'rank': 3},\n",
       "  {'imageType': 'Property',\n",
       "   'advertId': 11060681,\n",
       "   'date': '2017-01-07T23:25:37.193Z',\n",
       "   'fullUrl': 'https://bucket-api.domain.com.au/v1/bucket/image/w800-h533-11060681_4_pi_170106_033335',\n",
       "   'rank': 4},\n",
       "  {'imageType': 'Property',\n",
       "   'advertId': 11060681,\n",
       "   'date': '2017-01-07T23:25:37.193Z',\n",
       "   'fullUrl': 'https://bucket-api.domain.com.au/v1/bucket/image/w800-h534-11060681_5_pi_170106_033333',\n",
       "   'rank': 5},\n",
       "  {'imageType': 'Property',\n",
       "   'advertId': 11060681,\n",
       "   'date': '2017-01-07T23:25:37.193Z',\n",
       "   'fullUrl': 'https://bucket-api.domain.com.au/v1/bucket/image/w800-h534-11060681_6_pi_170106_033335',\n",
       "   'rank': 6},\n",
       "  {'imageType': 'Property',\n",
       "   'advertId': 11060681,\n",
       "   'date': '2017-01-07T23:25:37.193Z',\n",
       "   'fullUrl': 'https://bucket-api.domain.com.au/v1/bucket/image/w800-h534-11060681_7_pi_170106_033333',\n",
       "   'rank': 7},\n",
       "  {'imageType': 'Property',\n",
       "   'advertId': 11060681,\n",
       "   'date': '2017-01-07T23:25:37.193Z',\n",
       "   'fullUrl': 'https://bucket-api.domain.com.au/v1/bucket/image/w800-h534-11060681_8_pi_170106_033333',\n",
       "   'rank': 8},\n",
       "  {'imageType': 'Property',\n",
       "   'advertId': 11060681,\n",
       "   'date': '2017-01-07T23:25:37.193Z',\n",
       "   'fullUrl': 'https://bucket-api.domain.com.au/v1/bucket/image/w800-h532-11060681_9_pi_170106_033334',\n",
       "   'rank': 9},\n",
       "  {'imageType': 'Property',\n",
       "   'advertId': 11060681,\n",
       "   'date': '2017-01-07T23:25:37.193Z',\n",
       "   'fullUrl': 'https://bucket-api.domain.com.au/v1/bucket/image/w800-h600-11060681_10_fi_170106_033335',\n",
       "   'rank': 10}],\n",
       " 'planNumber': 'PS720256',\n",
       " 'postcode': '3000',\n",
       " 'propertyCategory': 'Unit',\n",
       " 'propertyCategoryId': 2,\n",
       " 'state': 'VIC',\n",
       " 'streetAddress': '318 Russell Street',\n",
       " 'streetName': 'Russell',\n",
       " 'streetNumber': '318',\n",
       " 'streetType': 'St',\n",
       " 'streetTypeLong': 'Street',\n",
       " 'suburb': 'Melbourne',\n",
       " 'suburbId': 25807,\n",
       " 'urlSlug': '3306-318-russell-street-melbourne-vic-3000',\n",
       " 'urlSlugShort': '3306-318-russell-st-melbourne-vic-3000',\n",
       " 'canonicalUrl': 'https://www.domain.com.au/property-profile/3306-318-russell-street-melbourne-vic-3000'}"
      ]
     },
     "execution_count": 78,
     "metadata": {},
     "output_type": "execute_result"
    }
   ],
   "source": [
    "prop_json"
   ]
  },
  {
   "cell_type": "code",
   "execution_count": null,
   "metadata": {},
   "outputs": [],
   "source": []
  },
  {
   "cell_type": "markdown",
   "metadata": {},
   "source": [
    "### Aurora"
   ]
  },
  {
   "cell_type": "code",
   "execution_count": null,
   "metadata": {},
   "outputs": [],
   "source": []
  },
  {
   "cell_type": "code",
   "execution_count": 9,
   "metadata": {},
   "outputs": [
    {
     "ename": "NameError",
     "evalue": "name 'df_aurora' is not defined",
     "output_type": "error",
     "traceback": [
      "\u001b[0;31m---------------------------------------------------------------------------\u001b[0m",
      "\u001b[0;31mNameError\u001b[0m                                 Traceback (most recent call last)",
      "\u001b[0;32m<ipython-input-9-c507f2e0270f>\u001b[0m in \u001b[0;36m<module>\u001b[0;34m\u001b[0m\n\u001b[0;32m----> 1\u001b[0;31m \u001b[0;34m(\u001b[0m\u001b[0mdf_aurora\u001b[0m\u001b[0;34m.\u001b[0m\u001b[0mprice\u001b[0m\u001b[0;34m.\u001b[0m\u001b[0misna\u001b[0m\u001b[0;34m(\u001b[0m\u001b[0;34m)\u001b[0m\u001b[0;34m)\u001b[0m\u001b[0;34m.\u001b[0m\u001b[0msum\u001b[0m\u001b[0;34m(\u001b[0m\u001b[0;34m)\u001b[0m\u001b[0;34m\u001b[0m\u001b[0;34m\u001b[0m\u001b[0m\n\u001b[0m",
      "\u001b[0;31mNameError\u001b[0m: name 'df_aurora' is not defined"
     ]
    }
   ],
   "source": [
    "(df_aurora.price.isna()).sum()"
   ]
  },
  {
   "cell_type": "code",
   "execution_count": null,
   "metadata": {},
   "outputs": [],
   "source": [
    "address = '228-la-trobe-street-melbourne-vic-3000'\n",
    "df_aurora = get_property_rent_history(address)\n",
    "med_price_change(df_aurora)"
   ]
  },
  {
   "cell_type": "code",
   "execution_count": null,
   "metadata": {},
   "outputs": [],
   "source": [
    "med_price_change(df_aurora)"
   ]
  },
  {
   "cell_type": "markdown",
   "metadata": {},
   "source": [
    "### Zen"
   ]
  },
  {
   "cell_type": "markdown",
   "metadata": {},
   "source": [
    "# Draft "
   ]
  },
  {
   "cell_type": "code",
   "execution_count": null,
   "metadata": {},
   "outputs": [],
   "source": []
  },
  {
   "cell_type": "code",
   "execution_count": null,
   "metadata": {},
   "outputs": [],
   "source": [
    "address = '500-elizabeth-street-melbourne-vic-3000'\n",
    "df = get_property_rent_history(address)\n",
    "df[\"year_month\"]= df.date.dt.strftime(\"%Y %b\")\n",
    "df['bed_bath'] = df['bed'].astype(str) + \"_\" + df['bath'].astype(str)"
   ]
  },
  {
   "cell_type": "code",
   "execution_count": null,
   "metadata": {},
   "outputs": [],
   "source": [
    "df['bed_bath'] = df['bed'].astype(str) + \"_\" + df['bath'].astype(str)"
   ]
  },
  {
   "cell_type": "code",
   "execution_count": null,
   "metadata": {},
   "outputs": [],
   "source": [
    "df.head()"
   ]
  },
  {
   "cell_type": "code",
   "execution_count": null,
   "metadata": {},
   "outputs": [],
   "source": [
    "df.info()"
   ]
  },
  {
   "cell_type": "code",
   "execution_count": null,
   "metadata": {},
   "outputs": [],
   "source": [
    "df.describe()"
   ]
  },
  {
   "cell_type": "code",
   "execution_count": null,
   "metadata": {},
   "outputs": [],
   "source": [
    "df.room_type.unique()"
   ]
  },
  {
   "cell_type": "code",
   "execution_count": null,
   "metadata": {},
   "outputs": [],
   "source": [
    "plt.figure(figsize = (10,10))\n",
    "fig = df.groupby(['year_month', 'bed_bath']).price.min().unstack().plot()\n",
    "plt.axvline(x= 47) \n",
    "df.groupby(['year_month', 'bed_bath']).price.max().unstack().plot()\n",
    "plt.axvline(x= 47) \n",
    "df.groupby(['year_month', 'bed_bath']).price.median().unstack().plot()\n",
    "plt.axvline(x= 47) "
   ]
  },
  {
   "cell_type": "code",
   "execution_count": null,
   "metadata": {},
   "outputs": [],
   "source": [
    "plt.figure(figsize = (15 ,5 ))\n",
    "g = sns.scatterplot(\n",
    "    data=df, x='year_month' , y=\"price\", hue=\"bed\", size=\"bath\",sizes=(30, 150),x_jitter=True, y_jitter=True, alpha=0.8,\n",
    "    palette=sns.color_palette(\"Set1\", df.bed.nunique())\n",
    ")\n",
    "_ = plt.xticks(rotation=90)\n",
    "_ = plt.legend(loc='upper left')\n",
    "g.axes.invert_xaxis()"
   ]
  },
  {
   "cell_type": "code",
   "execution_count": null,
   "metadata": {},
   "outputs": [],
   "source": [
    "for i in range(1,4):\n",
    "    fig = px.scatter(df[df.bed == i], x=\"date\", y=\"price\", color=\"room_type\",\n",
    "                     size=((df[df.bed == i])['level'].astype(int))/50 ,hover_data=['room_type'],width=700, height=400)\n",
    "\n",
    "    fig.show()\n"
   ]
  },
  {
   "cell_type": "markdown",
   "metadata": {},
   "source": [
    "## Linear Regression "
   ]
  },
  {
   "cell_type": "code",
   "execution_count": null,
   "metadata": {},
   "outputs": [],
   "source": [
    "df = df.sort_values(\"date\", ascending = False)\n",
    "median_price_before_df = df[df.date <= pd.to_datetime('20200301', format='%Y%m%d')]\n",
    "median_price_after_df =  df[df.date > pd.to_datetime('20200301', format='%Y%m%d')]"
   ]
  },
  {
   "cell_type": "code",
   "execution_count": null,
   "metadata": {},
   "outputs": [],
   "source": [
    "median_price_before_df_nona = median_price_before_df.dropna()\n",
    "median_price_after_df_nona = median_price_after_df.dropna()"
   ]
  },
  {
   "cell_type": "code",
   "execution_count": null,
   "metadata": {},
   "outputs": [],
   "source": [
    "median_price_before_df_nona['room_type'] = median_price_before_df_nona.room_type.astype(str)\n",
    "median_price_after_df_nona['room_type']= median_price_after_df_nona.room_type.astype(str)"
   ]
  },
  {
   "cell_type": "code",
   "execution_count": null,
   "metadata": {},
   "outputs": [],
   "source": [
    "median_price_after_df_nona.info()"
   ]
  },
  {
   "cell_type": "code",
   "execution_count": null,
   "metadata": {},
   "outputs": [],
   "source": [
    "median_price_after_df_nona.index"
   ]
  },
  {
   "cell_type": "markdown",
   "metadata": {},
   "source": [
    "### One hot encoding "
   ]
  },
  {
   "cell_type": "code",
   "execution_count": null,
   "metadata": {},
   "outputs": [],
   "source": [
    "enc = OneHotEncoder()\n",
    "res_array = enc.fit_transform(median_price_after_df_nona[['room_type']]).toarray()\n",
    "onehot_res = pd.DataFrame(res_array, columns = enc.get_feature_names(['room_type']), index = median_price_after_df_nona.index)"
   ]
  },
  {
   "cell_type": "code",
   "execution_count": null,
   "metadata": {},
   "outputs": [],
   "source": [
    "median_price_after_df_nona = median_price_after_df_nona.join(onehot_res)"
   ]
  },
  {
   "cell_type": "code",
   "execution_count": null,
   "metadata": {},
   "outputs": [],
   "source": [
    "x = median_price_after_df_nona [['bed', 'level','room_type_1',\n",
    "       'room_type_10', 'room_type_11', 'room_type_12', 'room_type_2',\n",
    "       'room_type_3', 'room_type_5', 'room_type_6', 'room_type_7',\n",
    "       'room_type_8', 'room_type_9']]\n",
    "y = median_price_after_df_nona['price']"
   ]
  },
  {
   "cell_type": "markdown",
   "metadata": {},
   "source": [
    "### Run the Model "
   ]
  },
  {
   "cell_type": "code",
   "execution_count": null,
   "metadata": {},
   "outputs": [],
   "source": []
  },
  {
   "cell_type": "code",
   "execution_count": null,
   "metadata": {},
   "outputs": [],
   "source": [
    "reg_after= LinearRegression().fit(x, y)"
   ]
  },
  {
   "cell_type": "code",
   "execution_count": null,
   "metadata": {},
   "outputs": [],
   "source": [
    "reg_after"
   ]
  },
  {
   "cell_type": "code",
   "execution_count": null,
   "metadata": {},
   "outputs": [],
   "source": [
    "from sklearn.metrics import median_absolute_error\n",
    "\n",
    "y_pred = reg_after.predict(x)\n",
    "\n",
    "mae = median_absolute_error(y, y_pred)\n",
    "fig, ax = plt.subplots(figsize=(5, 5))\n",
    "plt.scatter(y, y_pred)\n",
    "ax.plot([0, 1], [0, 1], transform=ax.transAxes, ls=\"--\", c=\"red\")\n",
    "plt.text(3, 20, string_score)\n",
    "plt.title('Linear regression Accuracy on Train Set')\n",
    "plt.ylabel('Model predictions')\n",
    "plt.xlabel('Truths')\n",
    "# plt.xlim([0, 27])\n",
    "# _ = plt.ylim([0, 27])"
   ]
  },
  {
   "cell_type": "markdown",
   "metadata": {},
   "source": [
    "###  Coefficients "
   ]
  },
  {
   "cell_type": "code",
   "execution_count": null,
   "metadata": {},
   "outputs": [],
   "source": [
    "\n",
    "coefs = pd.DataFrame(\n",
    "    reg_after.coef_,\n",
    "    columns=['Coefficients'], index=x.columns\n",
    ")\n",
    "coefs.plot(kind='barh', figsize=(9, 7))\n",
    "plt.title('marginal price change')\n",
    "plt.axvline(x=0, color='.5')\n",
    "plt.subplots_adjust(left=.3)"
   ]
  },
  {
   "cell_type": "code",
   "execution_count": null,
   "metadata": {},
   "outputs": [],
   "source": [
    "\n",
    "coefs = pd.DataFrame(\n",
    "    reg_after.coef_ * x.std(axis=0),\n",
    "    columns=['Coefficients'], index=x.columns\n",
    ")\n",
    "\n",
    "coefs"
   ]
  },
  {
   "cell_type": "code",
   "execution_count": null,
   "metadata": {},
   "outputs": [],
   "source": [
    "\n",
    "coefs.plot(kind='barh', figsize=(9, 7))\n",
    "plt.title('Feature importance')\n",
    "plt.axvline(x=0, color='.5')\n",
    "plt.subplots_adjust(left=.3)"
   ]
  },
  {
   "cell_type": "markdown",
   "metadata": {},
   "source": [
    "## Change in Median Price"
   ]
  },
  {
   "cell_type": "code",
   "execution_count": null,
   "metadata": {},
   "outputs": [],
   "source": [
    "med_before = pd.DataFrame(median_price_before_df_nona.groupby('room_type').price.median())\n",
    "med_before = med_before.rename({'price': 'before_price_med'}, axis = 1)\n",
    "\n",
    "med_after = pd.DataFrame(median_price_after_df_nona.groupby('room_type').price.median())\n",
    "med_after = med_after.rename({'price': 'after_price_med'}, axis = 1)\n"
   ]
  },
  {
   "cell_type": "code",
   "execution_count": null,
   "metadata": {},
   "outputs": [],
   "source": [
    "room_no = df.groupby('room_type')[['bed', 'bath']].median()"
   ]
  },
  {
   "cell_type": "code",
   "execution_count": null,
   "metadata": {},
   "outputs": [],
   "source": [
    "med_price_df = med_before.join(med_after)\n",
    "med_price_df['change_precnetage'] = (med_price_df['after_price_med'] - med_price_df['before_price_med'])/med_price_df['after_price_med'] * 100"
   ]
  },
  {
   "cell_type": "code",
   "execution_count": null,
   "metadata": {},
   "outputs": [],
   "source": [
    "med_price_df = med_price_df.join(room_no)\n"
   ]
  },
  {
   "cell_type": "code",
   "execution_count": null,
   "metadata": {},
   "outputs": [],
   "source": [
    "med_price_df"
   ]
  },
  {
   "cell_type": "markdown",
   "metadata": {},
   "source": [
    "### Make Plots "
   ]
  },
  {
   "cell_type": "code",
   "execution_count": null,
   "metadata": {},
   "outputs": [],
   "source": [
    "\n",
    "\n",
    "fig = make_subplots(rows=3, cols=2, start_cell=\"bottom-left\",\n",
    "                   subplot_titles=(\"Before bedroom = 1 \", \"After bedroom = 1\", \"Before bedroom = 2\",\n",
    "                                   \"After bedroom = 2\",'Before bedroom = 3', 'After bedroom = 3'))\n",
    "\n",
    "for rt in range(1,4):\n",
    "\n",
    "    tempdf = median_price_before_df[median_price_before_df.bed == rt]\n",
    "    fig.add_trace(go.Scatter(x= tempdf.level, y=tempdf.price, \n",
    "                            mode='markers',\n",
    "                            marker=dict(size= list(tempdf['price']//60),\n",
    "                                        color=[px.colors.qualitative.Dark24[int(r)] for r in tempdf.room_type])),\n",
    "                          row=rt, col=1)\n",
    "\n",
    "for rt in range(1,4):\n",
    "    tempdf = median_price_after_df_nona[median_price_after_df_nona.bed == rt]\n",
    "    fig.add_trace(go.Scatter(x= tempdf.level, y=tempdf.price, \n",
    "                            mode='markers',\n",
    "                            marker=dict(size= list(tempdf['price'] //60),\n",
    "                                        color= [px.colors.qualitative.Dark24[int(r)] for r in tempdf.room_type])),\n",
    "                          row=rt, col=2)\n",
    "\n",
    "fig.update_layout(height=1000, width=1000, title_text=\"Before and After the pendanmic\")\n",
    "\n",
    "fig.show()"
   ]
  },
  {
   "cell_type": "markdown",
   "metadata": {},
   "source": [
    "## Box plot split by room type "
   ]
  },
  {
   "cell_type": "code",
   "execution_count": null,
   "metadata": {},
   "outputs": [],
   "source": [
    "df.loc[df.date <= pd.to_datetime('20200301', format='%Y%m%d'),'time_split'] = 'before'\n",
    "\n",
    "df.loc[df.date > pd.to_datetime('20200301', format='%Y%m%d'),'time_split'] = 'after'\n",
    "df.room_type= df.room_type.astype(str)"
   ]
  },
  {
   "cell_type": "code",
   "execution_count": null,
   "metadata": {},
   "outputs": [],
   "source": [
    "fig = px.box(df, x=\"room_type\", y=\"price\", color=\"time_split\")\n",
    "fig.update_traces(quartilemethod=\"exclusive\") # or \"inclusive\", or \"linear\" by default\n",
    "\n",
    "fig.update_xaxes(type='category')\n",
    "fig.show()"
   ]
  },
  {
   "cell_type": "code",
   "execution_count": null,
   "metadata": {},
   "outputs": [],
   "source": []
  }
 ],
 "metadata": {
  "kernelspec": {
   "display_name": "Python 3",
   "language": "python",
   "name": "python3"
  },
  "language_info": {
   "codemirror_mode": {
    "name": "ipython",
    "version": 3
   },
   "file_extension": ".py",
   "mimetype": "text/x-python",
   "name": "python",
   "nbconvert_exporter": "python",
   "pygments_lexer": "ipython3",
   "version": "3.8.5"
  }
 },
 "nbformat": 4,
 "nbformat_minor": 4
}
